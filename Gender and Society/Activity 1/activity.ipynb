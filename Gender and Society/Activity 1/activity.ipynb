{
 "cells": [
  {
   "cell_type": "markdown",
   "source": [
    "# Activity 1: Taboo (Sex Change)"
   ],
   "metadata": {
    "collapsed": false,
    "pycharm": {
     "name": "#%% md\n"
    }
   }
  },
  {
   "cell_type": "markdown",
   "source": [
    "1. In the case of Ashley and Tony, does “sex change” change the gender role of man and woman? If a man became a woman, does it mean that he will act as a woman? Or vice versa?\n",
    "It is because the purpose of sex change is to change the gender role of a man to become a woman. Furthermore, We can say purpose of sex change is to have a peace of mind.\n",
    "\n",
    "2. How does the film define gender non-conformity?\n",
    "It's describing as one of the major problems as a whole society. Being not the desired gender identity, creates an anxiety of what does he/she wants between what does he/she needs?\n",
    "\n",
    "3. Do you think that the documentary film is against or supporting biological theory? Explain your choice.\n",
    "The documentary film is elaborating another theory that oneself cannot be identify as a gender rather based on hormones, environment and etc. The documentary film contradicts one of the points that biological theory has.\n",
    "\n",
    "4. What does it mean by transgender or transsexual based on the film? What is gender identity dysphoria?\n",
    "Based on the film transgender classifies as non gender identify. gid = becoming happier, Gender Identity dysphoria is identifying self as another gender,  the purpose of it to have a peace of mind between oneself.\n",
    "\n",
    "5. Is gender transition difficult? What are the struggles during the process of sex change?\n",
    "Yes, the struggles of sex change are , because sex change is strange/odd in our society or culture as a whole.\n",
    "\n",
    "6. In the case of Christina, what is gender hybrid? How does society categorize a gender hybrid? Is he/she trained to be a girl or a boy?\n",
    "identifying oneself as neither of the binary gender.some society categorize gender hybrid as another gender\n",
    "what kind of pronouns must use? how can it be approach? which bathroom you should use?\n",
    "\n",
    "7. What are the social stigma of those who undergo sex change?\n",
    "Defining themselves as another gender. Like they said \"gender is a one thing, interest is another\".\n",
    "\n",
    "gender is a one thing, interest is another.\n",
    "binary gender is social structure.\n",
    "gender expression meaningless rebellion, positive expression of yourself,\n",
    "is it transgender wants to be different"
   ],
   "metadata": {
    "collapsed": false,
    "pycharm": {
     "name": "#%% md\n"
    }
   }
  },
  {
   "cell_type": "markdown",
   "source": [
    "* In the case of Ashley and Tony, does “sex change” change the gender role of man and woman? If a man became a woman, does it mean that he will act as a woman? Or vice versa?"
   ],
   "metadata": {
    "collapsed": false,
    "pycharm": {
     "name": "#%% md\n"
    }
   }
  },
  {
   "cell_type": "code",
   "execution_count": null,
   "outputs": [],
   "source": [],
   "metadata": {
    "collapsed": false,
    "pycharm": {
     "name": "#%%\n"
    }
   }
  },
  {
   "cell_type": "markdown",
   "source": [
    "* How does the film define gender non-conformity?"
   ],
   "metadata": {
    "collapsed": false,
    "pycharm": {
     "name": "#%% md\n"
    }
   }
  },
  {
   "cell_type": "code",
   "execution_count": null,
   "outputs": [],
   "source": [],
   "metadata": {
    "collapsed": false,
    "pycharm": {
     "name": "#%%\n"
    }
   }
  },
  {
   "cell_type": "markdown",
   "source": [
    "* Do you think that the documentary film is against or supporting biological theory? Explain your choice."
   ],
   "metadata": {
    "collapsed": false,
    "pycharm": {
     "name": "#%% md\n"
    }
   }
  },
  {
   "cell_type": "code",
   "execution_count": null,
   "outputs": [],
   "source": [],
   "metadata": {
    "collapsed": false,
    "pycharm": {
     "name": "#%%\n"
    }
   }
  },
  {
   "cell_type": "markdown",
   "source": [
    "* What does it mean by transgender or transsexual based on the film? What is gender identity dysphoria?"
   ],
   "metadata": {
    "collapsed": false,
    "pycharm": {
     "name": "#%% md\n"
    }
   }
  },
  {
   "cell_type": "code",
   "execution_count": null,
   "outputs": [],
   "source": [],
   "metadata": {
    "collapsed": false,
    "pycharm": {
     "name": "#%%\n"
    }
   }
  },
  {
   "cell_type": "markdown",
   "source": [
    "* Is gender transition difficult? What are the struggles during the process of sex change?"
   ],
   "metadata": {
    "collapsed": false,
    "pycharm": {
     "name": "#%% md\n"
    }
   }
  },
  {
   "cell_type": "code",
   "execution_count": null,
   "outputs": [],
   "source": [],
   "metadata": {
    "collapsed": false,
    "pycharm": {
     "name": "#%%\n"
    }
   }
  },
  {
   "cell_type": "markdown",
   "source": [
    "* In the case of Christina, what is gender hybrid? How does society categorize a gender hybrid? Is he/she trained to be a girl or a boy?"
   ],
   "metadata": {
    "collapsed": false,
    "pycharm": {
     "name": "#%% md\n"
    }
   }
  },
  {
   "cell_type": "code",
   "execution_count": null,
   "outputs": [],
   "source": [],
   "metadata": {
    "collapsed": false,
    "pycharm": {
     "name": "#%%\n"
    }
   }
  },
  {
   "cell_type": "markdown",
   "source": [
    "* What are the social stigma of those who undergo sex change?"
   ],
   "metadata": {
    "collapsed": false,
    "pycharm": {
     "name": "#%% md\n"
    }
   }
  },
  {
   "cell_type": "code",
   "execution_count": null,
   "outputs": [],
   "source": [],
   "metadata": {
    "collapsed": false,
    "pycharm": {
     "name": "#%%\n"
    }
   }
  }
 ],
 "metadata": {
  "kernelspec": {
   "display_name": "Python 3",
   "language": "python",
   "name": "python3"
  },
  "language_info": {
   "codemirror_mode": {
    "name": "ipython",
    "version": 2
   },
   "file_extension": ".py",
   "mimetype": "text/x-python",
   "name": "python",
   "nbconvert_exporter": "python",
   "pygments_lexer": "ipython2",
   "version": "2.7.6"
  }
 },
 "nbformat": 4,
 "nbformat_minor": 0
}