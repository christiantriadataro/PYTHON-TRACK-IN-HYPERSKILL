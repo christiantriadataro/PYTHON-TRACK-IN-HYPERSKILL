{
 "cells": [
  {
   "cell_type": "markdown",
   "source": [
    "# Converting html file to csv file?"
   ],
   "metadata": {
    "collapsed": false,
    "pycharm": {
     "name": "#%% md\n"
    }
   }
  },
  {
   "cell_type": "code",
   "execution_count": 52,
   "outputs": [
    {
     "data": {
      "text/plain": "     COURSE SECTION  REMAINING DAY               TIME\n0   CCS0001   TW191          6   F  16:00:00-18:40:00\n1  CCS0001L   TW191          6   M  16:00:00-18:50:00\n2   CCS0003   TW191          0   T  07:00:00-09:40:00\n3  CCS0003L   TW191          0   W  07:00:00-09:50:00\n4   CCS0004    TD01          2   F  13:00:00-15:40:00",
      "text/html": "<div>\n<style scoped>\n    .dataframe tbody tr th:only-of-type {\n        vertical-align: middle;\n    }\n\n    .dataframe tbody tr th {\n        vertical-align: top;\n    }\n\n    .dataframe thead th {\n        text-align: right;\n    }\n</style>\n<table border=\"1\" class=\"dataframe\">\n  <thead>\n    <tr style=\"text-align: right;\">\n      <th></th>\n      <th>COURSE</th>\n      <th>SECTION</th>\n      <th>REMAINING</th>\n      <th>DAY</th>\n      <th>TIME</th>\n    </tr>\n  </thead>\n  <tbody>\n    <tr>\n      <th>0</th>\n      <td>CCS0001</td>\n      <td>TW191</td>\n      <td>6</td>\n      <td>F</td>\n      <td>16:00:00-18:40:00</td>\n    </tr>\n    <tr>\n      <th>1</th>\n      <td>CCS0001L</td>\n      <td>TW191</td>\n      <td>6</td>\n      <td>M</td>\n      <td>16:00:00-18:50:00</td>\n    </tr>\n    <tr>\n      <th>2</th>\n      <td>CCS0003</td>\n      <td>TW191</td>\n      <td>0</td>\n      <td>T</td>\n      <td>07:00:00-09:40:00</td>\n    </tr>\n    <tr>\n      <th>3</th>\n      <td>CCS0003L</td>\n      <td>TW191</td>\n      <td>0</td>\n      <td>W</td>\n      <td>07:00:00-09:50:00</td>\n    </tr>\n    <tr>\n      <th>4</th>\n      <td>CCS0004</td>\n      <td>TD01</td>\n      <td>2</td>\n      <td>F</td>\n      <td>13:00:00-15:40:00</td>\n    </tr>\n  </tbody>\n</table>\n</div>"
     },
     "execution_count": 52,
     "metadata": {},
     "output_type": "execute_result"
    }
   ],
   "source": [
    "import pandas as pd\n",
    "import lxml\n",
    "courses = pd.read_html(\"index.html\")[0]\n",
    "courses.head()"
   ],
   "metadata": {
    "collapsed": false,
    "pycharm": {
     "name": "#%%\n"
    }
   }
  },
  {
   "cell_type": "markdown",
   "source": [
    "#### Converting curriculum into dataframe"
   ],
   "metadata": {
    "collapsed": false,
    "pycharm": {
     "name": "#%% md\n"
    }
   }
  },
  {
   "cell_type": "markdown",
   "source": [],
   "metadata": {
    "collapsed": false,
    "pycharm": {
     "name": "#%% md\n"
    }
   }
  },
  {
   "cell_type": "code",
   "execution_count": 53,
   "outputs": [
    {
     "data": {
      "text/plain": "  COURSE CODE                     COURSE TITLE  UNITS LABORATORY  UNITS_LAB  \\\n0     CCS0001  INTRODUCTION TO COMPUTING (LEC)    2.0   CCS0001L        1.0   \n1     CCS0003     COMPUTER PROGRAMMING 1 (LEC)    2.0   CCS0003L        1.0   \n2     GED0004             PHYSICAL EDUCATION 1    3.0        NaN        NaN   \n3     GED0009   READINGS IN PHILIPPINE HISTORY    3.0        NaN        NaN   \n4     GED0011  SCIENCE, TECHNOLOGY AND SOCIETY    3.0        NaN        NaN   \n\n  PREREQUISITE  \n0          NaN  \n1          NaN  \n2          NaN  \n3          NaN  \n4          NaN  ",
      "text/html": "<div>\n<style scoped>\n    .dataframe tbody tr th:only-of-type {\n        vertical-align: middle;\n    }\n\n    .dataframe tbody tr th {\n        vertical-align: top;\n    }\n\n    .dataframe thead th {\n        text-align: right;\n    }\n</style>\n<table border=\"1\" class=\"dataframe\">\n  <thead>\n    <tr style=\"text-align: right;\">\n      <th></th>\n      <th>COURSE CODE</th>\n      <th>COURSE TITLE</th>\n      <th>UNITS</th>\n      <th>LABORATORY</th>\n      <th>UNITS_LAB</th>\n      <th>PREREQUISITE</th>\n    </tr>\n  </thead>\n  <tbody>\n    <tr>\n      <th>0</th>\n      <td>CCS0001</td>\n      <td>INTRODUCTION TO COMPUTING (LEC)</td>\n      <td>2.0</td>\n      <td>CCS0001L</td>\n      <td>1.0</td>\n      <td>NaN</td>\n    </tr>\n    <tr>\n      <th>1</th>\n      <td>CCS0003</td>\n      <td>COMPUTER PROGRAMMING 1 (LEC)</td>\n      <td>2.0</td>\n      <td>CCS0003L</td>\n      <td>1.0</td>\n      <td>NaN</td>\n    </tr>\n    <tr>\n      <th>2</th>\n      <td>GED0004</td>\n      <td>PHYSICAL EDUCATION 1</td>\n      <td>3.0</td>\n      <td>NaN</td>\n      <td>NaN</td>\n      <td>NaN</td>\n    </tr>\n    <tr>\n      <th>3</th>\n      <td>GED0009</td>\n      <td>READINGS IN PHILIPPINE HISTORY</td>\n      <td>3.0</td>\n      <td>NaN</td>\n      <td>NaN</td>\n      <td>NaN</td>\n    </tr>\n    <tr>\n      <th>4</th>\n      <td>GED0011</td>\n      <td>SCIENCE, TECHNOLOGY AND SOCIETY</td>\n      <td>3.0</td>\n      <td>NaN</td>\n      <td>NaN</td>\n      <td>NaN</td>\n    </tr>\n  </tbody>\n</table>\n</div>"
     },
     "execution_count": 53,
     "metadata": {},
     "output_type": "execute_result"
    }
   ],
   "source": [
    "curriculum = pd.read_csv(\"curriculum.csv\")\n",
    "curriculum.head()"
   ],
   "metadata": {
    "collapsed": false,
    "pycharm": {
     "name": "#%%\n"
    }
   }
  },
  {
   "cell_type": "code",
   "execution_count": 91,
   "outputs": [],
   "source": [
    "cs_available_courses = courses[courses['COURSE'].isin(curriculum['COURSE CODE'])]\n",
    "available_course = cs_available_courses.set_index('TIME').sort_index()[97:146]"
   ],
   "metadata": {
    "collapsed": false,
    "pycharm": {
     "name": "#%%\n"
    }
   }
  },
  {
   "cell_type": "code",
   "execution_count": 93,
   "outputs": [
    {
     "data": {
      "text/plain": "                                        COURSE SECTION  REMAINING     DAY\nTIME                                                                     \n09:00:00-10:50:00 / 09:00:00-10:50:00  GED0001    TN03         18  M / TH\n09:00:00-10:50:00 / 09:00:00-10:50:00  GED0015    TK01          3   F / T\n09:00:00-10:50:00 / 09:00:00-10:50:00  GED0001    TN06          1  M / TH\n09:00:00-10:50:00 / 09:00:00-10:50:00  GED0027    TX02          3   F / T\n09:00:00-10:50:00 / 09:00:00-10:50:00  GED0027    TV07          1   F / T\n09:00:00-10:50:00 / 09:00:00-10:50:00  GED0027    TS01          2   F / T\n09:00:00-10:50:00 / 09:00:00-10:50:00  GED0027    TN03         12   F / T\n09:00:00-10:50:00 / 09:00:00-10:50:00  GED0027    TV01          1   F / T\n09:00:00-10:50:00 / 09:00:00-10:50:00  GED0027    TV04          7   F / T\n09:00:00-10:50:00 / 09:00:00-10:50:00  GED0085    TB02          1   F / T\n09:00:00-10:50:00 / 09:00:00-10:50:00  GED0015    TX03         16   F / T\n09:00:00-10:50:00 / 09:00:00-10:50:00  GED0019    TE03          3   F / T\n09:00:00-10:50:00 / 09:00:00-10:50:00  GED0019    TK03          6   F / T\n09:00:00-10:50:00 / 09:00:00-10:50:00  GED0019    TT01         12   F / T\n09:00:00-10:50:00 / 09:00:00-10:50:00  GED0019    TT02         37   F / T\n09:00:00-10:50:00 / 09:00:00-10:50:00  GED0015    TV02         12   F / T\n09:00:00-10:50:00 / 09:00:00-10:50:00   CS0051    TN31          1  S / TH\n09:00:00-10:50:00 / 09:00:00-10:50:00  GED0019    TV05          5   F / T\n09:00:00-10:50:00 / 09:00:00-10:50:00  GED0019    TV06          1   F / T\n09:00:00-10:50:00 / 09:00:00-10:50:00  GED0019    TV08          6   F / T",
      "text/html": "<div>\n<style scoped>\n    .dataframe tbody tr th:only-of-type {\n        vertical-align: middle;\n    }\n\n    .dataframe tbody tr th {\n        vertical-align: top;\n    }\n\n    .dataframe thead th {\n        text-align: right;\n    }\n</style>\n<table border=\"1\" class=\"dataframe\">\n  <thead>\n    <tr style=\"text-align: right;\">\n      <th></th>\n      <th>COURSE</th>\n      <th>SECTION</th>\n      <th>REMAINING</th>\n      <th>DAY</th>\n    </tr>\n    <tr>\n      <th>TIME</th>\n      <th></th>\n      <th></th>\n      <th></th>\n      <th></th>\n    </tr>\n  </thead>\n  <tbody>\n    <tr>\n      <th>09:00:00-10:50:00 / 09:00:00-10:50:00</th>\n      <td>GED0001</td>\n      <td>TN03</td>\n      <td>18</td>\n      <td>M / TH</td>\n    </tr>\n    <tr>\n      <th>09:00:00-10:50:00 / 09:00:00-10:50:00</th>\n      <td>GED0015</td>\n      <td>TK01</td>\n      <td>3</td>\n      <td>F / T</td>\n    </tr>\n    <tr>\n      <th>09:00:00-10:50:00 / 09:00:00-10:50:00</th>\n      <td>GED0001</td>\n      <td>TN06</td>\n      <td>1</td>\n      <td>M / TH</td>\n    </tr>\n    <tr>\n      <th>09:00:00-10:50:00 / 09:00:00-10:50:00</th>\n      <td>GED0027</td>\n      <td>TX02</td>\n      <td>3</td>\n      <td>F / T</td>\n    </tr>\n    <tr>\n      <th>09:00:00-10:50:00 / 09:00:00-10:50:00</th>\n      <td>GED0027</td>\n      <td>TV07</td>\n      <td>1</td>\n      <td>F / T</td>\n    </tr>\n    <tr>\n      <th>09:00:00-10:50:00 / 09:00:00-10:50:00</th>\n      <td>GED0027</td>\n      <td>TS01</td>\n      <td>2</td>\n      <td>F / T</td>\n    </tr>\n    <tr>\n      <th>09:00:00-10:50:00 / 09:00:00-10:50:00</th>\n      <td>GED0027</td>\n      <td>TN03</td>\n      <td>12</td>\n      <td>F / T</td>\n    </tr>\n    <tr>\n      <th>09:00:00-10:50:00 / 09:00:00-10:50:00</th>\n      <td>GED0027</td>\n      <td>TV01</td>\n      <td>1</td>\n      <td>F / T</td>\n    </tr>\n    <tr>\n      <th>09:00:00-10:50:00 / 09:00:00-10:50:00</th>\n      <td>GED0027</td>\n      <td>TV04</td>\n      <td>7</td>\n      <td>F / T</td>\n    </tr>\n    <tr>\n      <th>09:00:00-10:50:00 / 09:00:00-10:50:00</th>\n      <td>GED0085</td>\n      <td>TB02</td>\n      <td>1</td>\n      <td>F / T</td>\n    </tr>\n    <tr>\n      <th>09:00:00-10:50:00 / 09:00:00-10:50:00</th>\n      <td>GED0015</td>\n      <td>TX03</td>\n      <td>16</td>\n      <td>F / T</td>\n    </tr>\n    <tr>\n      <th>09:00:00-10:50:00 / 09:00:00-10:50:00</th>\n      <td>GED0019</td>\n      <td>TE03</td>\n      <td>3</td>\n      <td>F / T</td>\n    </tr>\n    <tr>\n      <th>09:00:00-10:50:00 / 09:00:00-10:50:00</th>\n      <td>GED0019</td>\n      <td>TK03</td>\n      <td>6</td>\n      <td>F / T</td>\n    </tr>\n    <tr>\n      <th>09:00:00-10:50:00 / 09:00:00-10:50:00</th>\n      <td>GED0019</td>\n      <td>TT01</td>\n      <td>12</td>\n      <td>F / T</td>\n    </tr>\n    <tr>\n      <th>09:00:00-10:50:00 / 09:00:00-10:50:00</th>\n      <td>GED0019</td>\n      <td>TT02</td>\n      <td>37</td>\n      <td>F / T</td>\n    </tr>\n    <tr>\n      <th>09:00:00-10:50:00 / 09:00:00-10:50:00</th>\n      <td>GED0015</td>\n      <td>TV02</td>\n      <td>12</td>\n      <td>F / T</td>\n    </tr>\n    <tr>\n      <th>09:00:00-10:50:00 / 09:00:00-10:50:00</th>\n      <td>CS0051</td>\n      <td>TN31</td>\n      <td>1</td>\n      <td>S / TH</td>\n    </tr>\n    <tr>\n      <th>09:00:00-10:50:00 / 09:00:00-10:50:00</th>\n      <td>GED0019</td>\n      <td>TV05</td>\n      <td>5</td>\n      <td>F / T</td>\n    </tr>\n    <tr>\n      <th>09:00:00-10:50:00 / 09:00:00-10:50:00</th>\n      <td>GED0019</td>\n      <td>TV06</td>\n      <td>1</td>\n      <td>F / T</td>\n    </tr>\n    <tr>\n      <th>09:00:00-10:50:00 / 09:00:00-10:50:00</th>\n      <td>GED0019</td>\n      <td>TV08</td>\n      <td>6</td>\n      <td>F / T</td>\n    </tr>\n  </tbody>\n</table>\n</div>"
     },
     "execution_count": 93,
     "metadata": {},
     "output_type": "execute_result"
    }
   ],
   "source": [
    "available_course = available_course[available_course['REMAINING'] >= 1]"
   ],
   "metadata": {
    "collapsed": false,
    "pycharm": {
     "name": "#%%\n"
    }
   }
  },
  {
   "cell_type": "code",
   "execution_count": 102,
   "outputs": [
    {
     "data": {
      "text/plain": "                                        COURSE SECTION  REMAINING     DAY\nTIME                                                                     \n09:00:00-10:50:00 / 09:00:00-10:50:00  GED0015    TK01          3   F / T\n09:00:00-10:50:00 / 09:00:00-10:50:00  GED0021    TV05          0  M / TH\n09:00:00-10:50:00 / 09:00:00-10:50:00  GED0021    TK03          0   S / W\n09:00:00-10:50:00 / 09:00:00-10:50:00  GED0015    TD02          0   F / T\n09:00:00-10:50:00 / 09:00:00-10:50:00  GED0015    TD01          0   F / T\n09:00:00-10:50:00 / 09:00:00-10:50:00  GED0031    TN23          0  M / TH\n09:00:00-10:50:00 / 09:00:00-10:50:00  GED0015    TX03         16   F / T\n09:00:00-10:50:00 / 09:00:00-10:50:00   CS0009    TN24          0   M / W\n09:00:00-10:50:00 / 09:00:00-10:50:00  GED0019    TE03          3   F / T\n09:00:00-10:50:00 / 09:00:00-10:50:00  GED0019    TK03          6   F / T\n09:00:00-10:50:00 / 09:00:00-10:50:00  CCS0103   TB291          0   F / T\n09:00:00-10:50:00 / 09:00:00-10:50:00  GED0019    TT01         12   F / T\n09:00:00-10:50:00 / 09:00:00-10:50:00  GED0019    TT02         37   F / T\n09:00:00-10:50:00 / 09:00:00-10:50:00  CCS0101    TW22          0   F / T\n09:00:00-10:50:00 / 09:00:00-10:50:00  CCS0101    TW21          0   F / T\n09:00:00-10:50:00 / 09:00:00-10:50:00  CCS0101    TN23          0   F / T\n09:00:00-10:50:00 / 09:00:00-10:50:00  GED0015    TV03          0   F / T\n09:00:00-10:50:00 / 09:00:00-10:50:00   CS0037    TN42          0   F / T\n09:00:00-10:50:00 / 09:00:00-10:50:00  GED0015    TV02         12   F / T\n09:00:00-10:50:00 / 09:00:00-10:50:00   CS0039    TN41          0   M / W\n09:00:00-10:50:00 / 09:00:00-10:50:00   CS0039    TN43          0  M / TH\n09:00:00-10:50:00 / 09:00:00-10:50:00   CS0051    TN31          1  S / TH\n09:00:00-10:50:00 / 09:00:00-10:50:00  GED0019    TV05          5   F / T\n09:00:00-10:50:00 / 09:00:00-10:50:00  GED0019    TV06          1   F / T\n09:00:00-10:50:00 / 09:00:00-10:50:00  GED0019    TV08          6   F / T\n09:00:00-10:50:00 / 09:00:00-10:50:00  GED0047    TW43          0   F / T\n09:00:00-10:50:00 / 09:00:00-10:50:00  GED0047    TW42          0   F / T\n09:00:00-10:50:00 / 09:00:00-10:50:00  GED0047    TN42          0  M / TH\n09:00:00-10:50:00 / 09:00:00-10:50:00  GED0021    TV06          0  M / TH\n09:00:00-10:50:00 / 11:10:00-13:00:00   CS0031    TN31          0   W / W\n09:10:00-11:00:00 / 09:10:00-11:00:00   CS0007    TN22          0   M / W\n10:00:00-11:50:00 / 10:00:00-11:50:00  CCS0101    TD22          0   F / T\n10:00:00-11:50:00 / 10:00:00-11:50:00  GED0061    TV32          0  M / TH",
      "text/html": "<div>\n<style scoped>\n    .dataframe tbody tr th:only-of-type {\n        vertical-align: middle;\n    }\n\n    .dataframe tbody tr th {\n        vertical-align: top;\n    }\n\n    .dataframe thead th {\n        text-align: right;\n    }\n</style>\n<table border=\"1\" class=\"dataframe\">\n  <thead>\n    <tr style=\"text-align: right;\">\n      <th></th>\n      <th>COURSE</th>\n      <th>SECTION</th>\n      <th>REMAINING</th>\n      <th>DAY</th>\n    </tr>\n    <tr>\n      <th>TIME</th>\n      <th></th>\n      <th></th>\n      <th></th>\n      <th></th>\n    </tr>\n  </thead>\n  <tbody>\n    <tr>\n      <th>09:00:00-10:50:00 / 09:00:00-10:50:00</th>\n      <td>GED0015</td>\n      <td>TK01</td>\n      <td>3</td>\n      <td>F / T</td>\n    </tr>\n    <tr>\n      <th>09:00:00-10:50:00 / 09:00:00-10:50:00</th>\n      <td>GED0021</td>\n      <td>TV05</td>\n      <td>0</td>\n      <td>M / TH</td>\n    </tr>\n    <tr>\n      <th>09:00:00-10:50:00 / 09:00:00-10:50:00</th>\n      <td>GED0021</td>\n      <td>TK03</td>\n      <td>0</td>\n      <td>S / W</td>\n    </tr>\n    <tr>\n      <th>09:00:00-10:50:00 / 09:00:00-10:50:00</th>\n      <td>GED0015</td>\n      <td>TD02</td>\n      <td>0</td>\n      <td>F / T</td>\n    </tr>\n    <tr>\n      <th>09:00:00-10:50:00 / 09:00:00-10:50:00</th>\n      <td>GED0015</td>\n      <td>TD01</td>\n      <td>0</td>\n      <td>F / T</td>\n    </tr>\n    <tr>\n      <th>09:00:00-10:50:00 / 09:00:00-10:50:00</th>\n      <td>GED0031</td>\n      <td>TN23</td>\n      <td>0</td>\n      <td>M / TH</td>\n    </tr>\n    <tr>\n      <th>09:00:00-10:50:00 / 09:00:00-10:50:00</th>\n      <td>GED0015</td>\n      <td>TX03</td>\n      <td>16</td>\n      <td>F / T</td>\n    </tr>\n    <tr>\n      <th>09:00:00-10:50:00 / 09:00:00-10:50:00</th>\n      <td>CS0009</td>\n      <td>TN24</td>\n      <td>0</td>\n      <td>M / W</td>\n    </tr>\n    <tr>\n      <th>09:00:00-10:50:00 / 09:00:00-10:50:00</th>\n      <td>GED0019</td>\n      <td>TE03</td>\n      <td>3</td>\n      <td>F / T</td>\n    </tr>\n    <tr>\n      <th>09:00:00-10:50:00 / 09:00:00-10:50:00</th>\n      <td>GED0019</td>\n      <td>TK03</td>\n      <td>6</td>\n      <td>F / T</td>\n    </tr>\n    <tr>\n      <th>09:00:00-10:50:00 / 09:00:00-10:50:00</th>\n      <td>CCS0103</td>\n      <td>TB291</td>\n      <td>0</td>\n      <td>F / T</td>\n    </tr>\n    <tr>\n      <th>09:00:00-10:50:00 / 09:00:00-10:50:00</th>\n      <td>GED0019</td>\n      <td>TT01</td>\n      <td>12</td>\n      <td>F / T</td>\n    </tr>\n    <tr>\n      <th>09:00:00-10:50:00 / 09:00:00-10:50:00</th>\n      <td>GED0019</td>\n      <td>TT02</td>\n      <td>37</td>\n      <td>F / T</td>\n    </tr>\n    <tr>\n      <th>09:00:00-10:50:00 / 09:00:00-10:50:00</th>\n      <td>CCS0101</td>\n      <td>TW22</td>\n      <td>0</td>\n      <td>F / T</td>\n    </tr>\n    <tr>\n      <th>09:00:00-10:50:00 / 09:00:00-10:50:00</th>\n      <td>CCS0101</td>\n      <td>TW21</td>\n      <td>0</td>\n      <td>F / T</td>\n    </tr>\n    <tr>\n      <th>09:00:00-10:50:00 / 09:00:00-10:50:00</th>\n      <td>CCS0101</td>\n      <td>TN23</td>\n      <td>0</td>\n      <td>F / T</td>\n    </tr>\n    <tr>\n      <th>09:00:00-10:50:00 / 09:00:00-10:50:00</th>\n      <td>GED0015</td>\n      <td>TV03</td>\n      <td>0</td>\n      <td>F / T</td>\n    </tr>\n    <tr>\n      <th>09:00:00-10:50:00 / 09:00:00-10:50:00</th>\n      <td>CS0037</td>\n      <td>TN42</td>\n      <td>0</td>\n      <td>F / T</td>\n    </tr>\n    <tr>\n      <th>09:00:00-10:50:00 / 09:00:00-10:50:00</th>\n      <td>GED0015</td>\n      <td>TV02</td>\n      <td>12</td>\n      <td>F / T</td>\n    </tr>\n    <tr>\n      <th>09:00:00-10:50:00 / 09:00:00-10:50:00</th>\n      <td>CS0039</td>\n      <td>TN41</td>\n      <td>0</td>\n      <td>M / W</td>\n    </tr>\n    <tr>\n      <th>09:00:00-10:50:00 / 09:00:00-10:50:00</th>\n      <td>CS0039</td>\n      <td>TN43</td>\n      <td>0</td>\n      <td>M / TH</td>\n    </tr>\n    <tr>\n      <th>09:00:00-10:50:00 / 09:00:00-10:50:00</th>\n      <td>CS0051</td>\n      <td>TN31</td>\n      <td>1</td>\n      <td>S / TH</td>\n    </tr>\n    <tr>\n      <th>09:00:00-10:50:00 / 09:00:00-10:50:00</th>\n      <td>GED0019</td>\n      <td>TV05</td>\n      <td>5</td>\n      <td>F / T</td>\n    </tr>\n    <tr>\n      <th>09:00:00-10:50:00 / 09:00:00-10:50:00</th>\n      <td>GED0019</td>\n      <td>TV06</td>\n      <td>1</td>\n      <td>F / T</td>\n    </tr>\n    <tr>\n      <th>09:00:00-10:50:00 / 09:00:00-10:50:00</th>\n      <td>GED0019</td>\n      <td>TV08</td>\n      <td>6</td>\n      <td>F / T</td>\n    </tr>\n    <tr>\n      <th>09:00:00-10:50:00 / 09:00:00-10:50:00</th>\n      <td>GED0047</td>\n      <td>TW43</td>\n      <td>0</td>\n      <td>F / T</td>\n    </tr>\n    <tr>\n      <th>09:00:00-10:50:00 / 09:00:00-10:50:00</th>\n      <td>GED0047</td>\n      <td>TW42</td>\n      <td>0</td>\n      <td>F / T</td>\n    </tr>\n    <tr>\n      <th>09:00:00-10:50:00 / 09:00:00-10:50:00</th>\n      <td>GED0047</td>\n      <td>TN42</td>\n      <td>0</td>\n      <td>M / TH</td>\n    </tr>\n    <tr>\n      <th>09:00:00-10:50:00 / 09:00:00-10:50:00</th>\n      <td>GED0021</td>\n      <td>TV06</td>\n      <td>0</td>\n      <td>M / TH</td>\n    </tr>\n    <tr>\n      <th>09:00:00-10:50:00 / 11:10:00-13:00:00</th>\n      <td>CS0031</td>\n      <td>TN31</td>\n      <td>0</td>\n      <td>W / W</td>\n    </tr>\n    <tr>\n      <th>09:10:00-11:00:00 / 09:10:00-11:00:00</th>\n      <td>CS0007</td>\n      <td>TN22</td>\n      <td>0</td>\n      <td>M / W</td>\n    </tr>\n    <tr>\n      <th>10:00:00-11:50:00 / 10:00:00-11:50:00</th>\n      <td>CCS0101</td>\n      <td>TD22</td>\n      <td>0</td>\n      <td>F / T</td>\n    </tr>\n    <tr>\n      <th>10:00:00-11:50:00 / 10:00:00-11:50:00</th>\n      <td>GED0061</td>\n      <td>TV32</td>\n      <td>0</td>\n      <td>M / TH</td>\n    </tr>\n  </tbody>\n</table>\n</div>"
     },
     "execution_count": 102,
     "metadata": {},
     "output_type": "execute_result"
    }
   ],
   "source": [
    "# completed courses\n",
    "completed_courses = ['CCS0001', 'CCS0003', 'GED0004', 'GED0009', 'GED0011', 'GED0085', 'NSTP1', 'CCS0005', 'CCS0007', 'GED0001', 'GED0027', 'GED0029', 'NSTP2']\n",
    "\n",
    "data1 = available_course[~available_course['COURSE'].isin(completed_courses)]\n",
    "data2 = available_course[available_course['REMAINING'] >= 1]\n",
    "data1"
   ],
   "metadata": {
    "collapsed": false,
    "pycharm": {
     "name": "#%%\n"
    }
   }
  },
  {
   "cell_type": "code",
   "execution_count": null,
   "outputs": [],
   "source": [],
   "metadata": {
    "collapsed": false,
    "pycharm": {
     "name": "#%%\n"
    }
   }
  }
 ],
 "metadata": {
  "kernelspec": {
   "display_name": "Python 3",
   "language": "python",
   "name": "python3"
  },
  "language_info": {
   "codemirror_mode": {
    "name": "ipython",
    "version": 2
   },
   "file_extension": ".py",
   "mimetype": "text/x-python",
   "name": "python",
   "nbconvert_exporter": "python",
   "pygments_lexer": "ipython2",
   "version": "2.7.6"
  }
 },
 "nbformat": 4,
 "nbformat_minor": 0
}