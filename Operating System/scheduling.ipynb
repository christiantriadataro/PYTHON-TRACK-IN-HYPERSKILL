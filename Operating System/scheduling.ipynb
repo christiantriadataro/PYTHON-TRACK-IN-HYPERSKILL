{
 "cells": [
  {
   "cell_type": "markdown",
   "source": [
    "# CPU SCHEDULING ALGORITHMS"
   ],
   "metadata": {
    "collapsed": false,
    "pycharm": {
     "name": "#%% md\n"
    }
   }
  },
  {
   "cell_type": "code",
   "execution_count": 45,
   "outputs": [
    {
     "data": {
      "text/plain": "  Process  Arrival Time  Burst Time  Waiting Time  Turnaround Time Gantt Chart\n0      P1             0           5             0                0      (0, 0)\n1      P2             1           3             0                0      (0, 0)\n2      P3             2           8             0                0      (0, 0)\n3      P4             3           6             0                0      (0, 0)",
      "text/html": "<div>\n<style scoped>\n    .dataframe tbody tr th:only-of-type {\n        vertical-align: middle;\n    }\n\n    .dataframe tbody tr th {\n        vertical-align: top;\n    }\n\n    .dataframe thead th {\n        text-align: right;\n    }\n</style>\n<table border=\"1\" class=\"dataframe\">\n  <thead>\n    <tr style=\"text-align: right;\">\n      <th></th>\n      <th>Process</th>\n      <th>Arrival Time</th>\n      <th>Burst Time</th>\n      <th>Waiting Time</th>\n      <th>Turnaround Time</th>\n      <th>Gantt Chart</th>\n    </tr>\n  </thead>\n  <tbody>\n    <tr>\n      <th>0</th>\n      <td>P1</td>\n      <td>0</td>\n      <td>5</td>\n      <td>0</td>\n      <td>0</td>\n      <td>(0, 0)</td>\n    </tr>\n    <tr>\n      <th>1</th>\n      <td>P2</td>\n      <td>1</td>\n      <td>3</td>\n      <td>0</td>\n      <td>0</td>\n      <td>(0, 0)</td>\n    </tr>\n    <tr>\n      <th>2</th>\n      <td>P3</td>\n      <td>2</td>\n      <td>8</td>\n      <td>0</td>\n      <td>0</td>\n      <td>(0, 0)</td>\n    </tr>\n    <tr>\n      <th>3</th>\n      <td>P4</td>\n      <td>3</td>\n      <td>6</td>\n      <td>0</td>\n      <td>0</td>\n      <td>(0, 0)</td>\n    </tr>\n  </tbody>\n</table>\n</div>"
     },
     "metadata": {},
     "output_type": "display_data"
    }
   ],
   "source": [
    "import pandas as pd\n",
    "n = 4\n",
    "df = {'Process': [f'P{i}' for i in range(1, n + 1)],\n",
    "      # 'Arrival Time': [int(i) for i in input(\"Arrival Time\").split()],\n",
    "      \"Arrival Time\": [0, 1, 2, 3],\n",
    "      # 'Burst Time': [int(i) for i in input(\"Burst Time\").split()],\n",
    "      \"Burst Time\": [5, 3, 8, 6],\n",
    "      \"Waiting Time\": [0] * n,\n",
    "      \"Turnaround Time\": [0] * n,\n",
    "      \"Gantt Chart\": [(0, 0)] * n}\n",
    "\n",
    "display(pd.DataFrame(df))\n"
   ],
   "metadata": {
    "collapsed": false,
    "pycharm": {
     "name": "#%%\n"
    }
   }
  },
  {
   "cell_type": "markdown",
   "source": [
    "## NON-PREMPTIVE:"
   ],
   "metadata": {
    "collapsed": false,
    "pycharm": {
     "name": "#%% md\n"
    }
   }
  },
  {
   "cell_type": "markdown",
   "source": [
    "* First-Come First-Served"
   ],
   "metadata": {
    "collapsed": false,
    "pycharm": {
     "name": "#%% md\n"
    }
   }
  },
  {
   "cell_type": "code",
   "execution_count": 5,
   "outputs": [
    {
     "data": {
      "text/plain": "  Process  Arrival Time  Burst Time  Waiting Time  Turnaround Time Gantt Chart\n0      P1             0           5             0                5      (0, 5)\n1      P2             1           3             4                7      (5, 8)\n2      P3             2           8             6               14     (8, 16)\n3      P4             3           6            13               19    (16, 22)",
      "text/html": "<div>\n<style scoped>\n    .dataframe tbody tr th:only-of-type {\n        vertical-align: middle;\n    }\n\n    .dataframe tbody tr th {\n        vertical-align: top;\n    }\n\n    .dataframe thead th {\n        text-align: right;\n    }\n</style>\n<table border=\"1\" class=\"dataframe\">\n  <thead>\n    <tr style=\"text-align: right;\">\n      <th></th>\n      <th>Process</th>\n      <th>Arrival Time</th>\n      <th>Burst Time</th>\n      <th>Waiting Time</th>\n      <th>Turnaround Time</th>\n      <th>Gantt Chart</th>\n    </tr>\n  </thead>\n  <tbody>\n    <tr>\n      <th>0</th>\n      <td>P1</td>\n      <td>0</td>\n      <td>5</td>\n      <td>0</td>\n      <td>5</td>\n      <td>(0, 5)</td>\n    </tr>\n    <tr>\n      <th>1</th>\n      <td>P2</td>\n      <td>1</td>\n      <td>3</td>\n      <td>4</td>\n      <td>7</td>\n      <td>(5, 8)</td>\n    </tr>\n    <tr>\n      <th>2</th>\n      <td>P3</td>\n      <td>2</td>\n      <td>8</td>\n      <td>6</td>\n      <td>14</td>\n      <td>(8, 16)</td>\n    </tr>\n    <tr>\n      <th>3</th>\n      <td>P4</td>\n      <td>3</td>\n      <td>6</td>\n      <td>13</td>\n      <td>19</td>\n      <td>(16, 22)</td>\n    </tr>\n  </tbody>\n</table>\n</div>"
     },
     "metadata": {},
     "output_type": "display_data"
    },
    {
     "data": {
      "text/plain": "{'Waiting Time': 5.75, 'Turnaround Time': 11.25}"
     },
     "metadata": {},
     "output_type": "display_data"
    }
   ],
   "source": [
    "def autosum(arr, last):\n",
    "    _sum = 0\n",
    "    for i in range(last):\n",
    "        _sum += arr[i]\n",
    "    return _sum\n",
    "\n",
    "def FCFS():\n",
    "    # Gantt Chart\n",
    "    for i in range(n):\n",
    "        if i == 0:\n",
    "            #                  Start    End\n",
    "            df[\"Gantt Chart\"][i] = (0, autosum(df[\"Burst Time\"], 1))\n",
    "        else:\n",
    "            df[\"Gantt Chart\"][i] = (autosum(df[\"Burst Time\"], i), autosum(df[\"Burst Time\"], i+1))\n",
    "\n",
    "    # Second step Waiting Time and Turnaround Time\n",
    "    for i in range(n):\n",
    "        df[\"Waiting Time\"][i] = df[\"Gantt Chart\"][i][0] - df[\"Arrival Time\"][i]\n",
    "        df[\"Turnaround Time\"][i] = df[\"Gantt Chart\"][i][1] - df[\"Arrival Time\"][i]\n",
    "    display(pd.DataFrame(df))\n",
    "    average = {\"Waiting Time\": autosum(df[\"Waiting Time\"], n)/n, \"Turnaround Time\": autosum(df[\"Turnaround Time\"], n)/n}\n",
    "    display(average)\n",
    "FCFS()\n"
   ],
   "metadata": {
    "collapsed": false,
    "pycharm": {
     "name": "#%%\n"
    }
   }
  },
  {
   "cell_type": "markdown",
   "source": [
    "* Shortest Job First"
   ],
   "metadata": {
    "collapsed": false,
    "pycharm": {
     "name": "#%% md\n"
    }
   }
  },
  {
   "cell_type": "code",
   "execution_count": 20,
   "outputs": [
    {
     "data": {
      "text/plain": "22"
     },
     "metadata": {},
     "output_type": "display_data"
    }
   ],
   "source": [
    "def sort_by(df, col):\n",
    "    sorted_list = [{key: value[index] for key, value in df.items()} for index in sorted(range(len(df[col])), key=lambda x: df[col][x])]\n",
    "\n",
    "    sorted_df = {key: [row[key] for row in sorted_list] for key in sorted_list[0].keys()}\n",
    "    return sorted_df\n",
    "\n",
    "# make a ready queue for all to make sure that all of this\n",
    "def SJF():\n",
    "    global df\n",
    "    max_n = sum(df[\"Burst Time\"])\n",
    "    sorted_df = sort_by(df, \"Arrival Time\")\n",
    "    # display(pd.DataFrame(df))\n",
    "    for i in max_n:\n",
    "        if i == 0:\n",
    "            #                  Start    End\n",
    "            sorted_df[\"Gantt Chart\"][i] = (0, autosum(sorted_df[\"Burst Time\"], 1))\n",
    "        else:\n",
    "            sorted_df[\"Gantt Chart\"][i] = (autosum(sorted_df[\"Burst Time\"], i), autosum(sorted_df[\"Burst Time\"], i+1))\n",
    "    display(max_n)\n",
    "    # display(pd.DataFrame(sorted_df))\n",
    "    # df = sort_by(df, \"Arrival Time\")\n",
    "    # # Second step Waiting Time and Turnaround Time\n",
    "    # for i in range(n):\n",
    "    #     df[\"Waiting Time\"][i] = df[\"Gantt Chart\"][i][0] - df[\"Arrival Time\"][i]\n",
    "    #     df[\"Turnaround Time\"][i] = df[\"Gantt Chart\"][i][1] - df[\"Arrival Time\"][i]\n",
    "\n",
    "    # display(pd.DataFrame(df))\n",
    "    # display(average)\n",
    "SJF()"
   ],
   "metadata": {
    "collapsed": false,
    "pycharm": {
     "name": "#%%\n"
    }
   }
  },
  {
   "cell_type": "code",
   "execution_count": 39,
   "outputs": [
    {
     "name": "stdout",
     "output_type": "stream",
     "text": [
      "Num: 0\n",
      "Ready Queue:\n",
      "Num: 1\n",
      "Ready Queue: P1\n",
      "Num: 2\n",
      "Ready Queue: P1 P2\n",
      "Num: 3\n",
      "Ready Queue: P1 P2 P3\n",
      "Num: 4\n",
      "Ready Queue: P1 P2 P3 P4\n",
      "Num: 5\n",
      "Ready Queue: P1 P2 P3 P4\n",
      "Num: 6\n",
      "Ready Queue: P1 P2 P3 P4\n",
      "Num: 7\n",
      "Ready Queue: P1 P2 P3 P4\n",
      "Num: 8\n",
      "Ready Queue: P1 P2 P3 P4\n",
      "Num: 9\n",
      "Ready Queue: P1 P2 P3 P4\n",
      "Num: 10\n",
      "Ready Queue: P1 P2 P3 P4\n",
      "Num: 11\n",
      "Ready Queue: P1 P2 P3 P4\n",
      "Num: 12\n",
      "Ready Queue: P1 P2 P3 P4\n",
      "Num: 13\n",
      "Ready Queue: P1 P2 P3 P4\n",
      "Num: 14\n",
      "Ready Queue: P1 P2 P3 P4\n",
      "Num: 15\n",
      "Ready Queue: P1 P2 P3 P4\n",
      "Num: 16\n",
      "Ready Queue: P1 P2 P3 P4\n",
      "Num: 17\n",
      "Ready Queue: P1 P2 P3 P4\n",
      "Num: 18\n",
      "Ready Queue: P1 P2 P3 P4\n",
      "Num: 19\n",
      "Ready Queue: P1 P2 P3 P4\n",
      "Num: 20\n",
      "Ready Queue: P1 P2 P3 P4\n",
      "Num: 21\n",
      "Ready Queue: P1 P2 P3 P4\n",
      "Num: 22\n",
      "Ready Queue: P1 P2 P3 P4\n"
     ]
    },
    {
     "data": {
      "text/plain": "['P1', 'P2', 'P3', 'P4']"
     },
     "metadata": {},
     "output_type": "display_data"
    }
   ],
   "source": [
    "# def print_gantt_chart(process):\n",
    "\n",
    "#     print(\" |  |  |  |  |  |  |  |  |  |  |  |  |  |  |  |  |  |  |  |  |  |  |\")\n",
    "#     print(\"00 01 02 03 04 05 06 07 08 09 10 11 12 13 14 15 16 17 18 19 20 21 22\")\n",
    "#     print(\" |  |  |  |  |  |  |  |  |  |  |  |  |  |  |  |  |  |  |  |  |  |  |\")\n",
    "def print_ready_queue(queue):\n",
    "    print(\"Ready Queue:\", end=\"\")\n",
    "    for process in queue:\n",
    "        print(f\" {process}\", end=\"\")\n",
    "    print()\n",
    "\n",
    "def shortest_job_first():\n",
    "    ready_queue = []\n",
    "    cpu = {}\n",
    "    is_full = False\n",
    "    # Gantt Chart\n",
    "    for i in range(0, 22 + 1):\n",
    "        print(\"Num:\" ,i)\n",
    "        print_ready_queue(ready_queue)\n",
    "        # search if may papasok sa ready queue sa cpu\n",
    "        for j in df[\"Arrival Time\"]:\n",
    "            if df[\"Arrival Time\"][j] == i:\n",
    "                # papasok ko yung process sa ready queue\n",
    "                ready_queue.append(df[\"Process\"][j])\n",
    "        if ready_queue and :\n",
    "            cpu[i] = df[\"Process\"][j]\n",
    "\n",
    "\n",
    "        # print_gantt_chart(ready_queue)\n",
    "    display(ready_queue)\n",
    "shortest_job_first()\n"
   ],
   "metadata": {
    "collapsed": false,
    "pycharm": {
     "name": "#%%\n"
    }
   }
  },
  {
   "cell_type": "code",
   "execution_count": 55,
   "outputs": [
    {
     "data": {
      "text/plain": "'A'"
     },
     "metadata": {},
     "output_type": "display_data"
    }
   ],
   "source": [
    "queue = [\"A\", \"B\", \"C\", \"D\"]\n",
    "display(queue[0])"
   ],
   "metadata": {
    "collapsed": false,
    "pycharm": {
     "name": "#%%\n"
    }
   }
  },
  {
   "cell_type": "code",
   "execution_count": 62,
   "outputs": [
    {
     "data": {
      "text/plain": "{}"
     },
     "metadata": {},
     "output_type": "display_data"
    },
    {
     "data": {
      "text/plain": "[]"
     },
     "metadata": {},
     "output_type": "display_data"
    }
   ],
   "source": [
    "\n",
    "# First Come First Serve\n",
    "# Steps:\n",
    "for i in range(0, 8):\n",
    "    ready_queue = []\n",
    "    cpu = {}\n",
    "    # Step 1: check if someone arrive?\n",
    "    for j in df[\"Arrival Time\"]:\n",
    "        # there is arrival time?\n",
    "        if df[\"Arrival Time\"][j] == i:\n",
    "            # store it to the ready queue\n",
    "            ready_queue.append(df[\"Process\"][i])\n",
    "    # Step 2: check the ready queue\n",
    "    if ready_queue:\n",
    "        cpu.update({i: ready_queue[0]})\n",
    "\n",
    "display(cpu)\n",
    "display(ready_queue)\n",
    "# Step 2:"
   ],
   "metadata": {
    "collapsed": false,
    "pycharm": {
     "name": "#%%\n"
    }
   }
  },
  {
   "cell_type": "markdown",
   "source": [
    "* Priority Scheduling"
   ],
   "metadata": {
    "collapsed": false,
    "pycharm": {
     "name": "#%% md\n"
    }
   }
  },
  {
   "cell_type": "code",
   "execution_count": 136,
   "outputs": [
    {
     "name": "stdout",
     "output_type": "stream",
     "text": [
      "   Process  Arrival Time  Burst Time  Waiting Time  Turnaround Time  \\\n",
      "0        1             1           3             0                3   \n",
      "1        2             0           5             3                8   \n",
      "2        3             3           6             8               14   \n",
      "3        4             2           8            14               22   \n",
      "\n",
      "   Completion Time  \n",
      "0                6  \n",
      "1               13  \n",
      "2               20  \n",
      "3               30  \n"
     ]
    }
   ],
   "source": [],
   "metadata": {
    "collapsed": false,
    "pycharm": {
     "name": "#%%\n"
    }
   }
  },
  {
   "cell_type": "markdown",
   "source": [
    "## Preemptive:"
   ],
   "metadata": {
    "collapsed": false,
    "pycharm": {
     "name": "#%% md\n"
    }
   }
  },
  {
   "cell_type": "markdown",
   "source": [
    "* Shortest Remaining Time First"
   ],
   "metadata": {
    "collapsed": false,
    "pycharm": {
     "name": "#%% md\n"
    }
   }
  },
  {
   "cell_type": "code",
   "execution_count": null,
   "outputs": [],
   "source": [],
   "metadata": {
    "collapsed": false,
    "pycharm": {
     "name": "#%%\n"
    }
   }
  },
  {
   "cell_type": "markdown",
   "source": [
    "* Priority Scheduling"
   ],
   "metadata": {
    "collapsed": false,
    "pycharm": {
     "name": "#%% md\n"
    }
   }
  },
  {
   "cell_type": "code",
   "execution_count": null,
   "outputs": [],
   "source": [],
   "metadata": {
    "collapsed": false,
    "pycharm": {
     "name": "#%%\n"
    }
   }
  },
  {
   "cell_type": "markdown",
   "source": [
    "* Round-robin"
   ],
   "metadata": {
    "collapsed": false,
    "pycharm": {
     "name": "#%% md\n"
    }
   }
  },
  {
   "cell_type": "code",
   "execution_count": null,
   "outputs": [],
   "source": [],
   "metadata": {
    "collapsed": false,
    "pycharm": {
     "name": "#%%\n"
    }
   }
  },
  {
   "cell_type": "markdown",
   "source": [],
   "metadata": {
    "collapsed": false,
    "pycharm": {
     "name": "#%% md\n"
    }
   }
  }
 ],
 "metadata": {
  "kernelspec": {
   "display_name": "Python 3",
   "language": "python",
   "name": "python3"
  },
  "language_info": {
   "codemirror_mode": {
    "name": "ipython",
    "version": 2
   },
   "file_extension": ".py",
   "mimetype": "text/x-python",
   "name": "python",
   "nbconvert_exporter": "python",
   "pygments_lexer": "ipython2",
   "version": "2.7.6"
  }
 },
 "nbformat": 4,
 "nbformat_minor": 0
}