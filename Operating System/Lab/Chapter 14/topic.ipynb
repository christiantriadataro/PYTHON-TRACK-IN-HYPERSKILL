{
 "cells": [
  {
   "cell_type": "markdown",
   "source": [
    "## Module 14 - Network Configuration"
   ],
   "metadata": {
    "collapsed": false,
    "pycharm": {
     "name": "#%% md\n"
    }
   }
  },
  {
   "cell_type": "markdown",
   "source": [
    "#### Introduction\n",
    "* Linux provides several tools to configure your network and monitor how it is performing.\n",
    "* This module will cover how to use both GUI-based tools as well as command line tools."
   ],
   "metadata": {
    "collapsed": false,
    "pycharm": {
     "name": "#%% md\n"
    }
   }
  },
  {
   "cell_type": "markdown",
   "source": [
    "#### Network Terminology\n",
    "* host - A computer or device\n",
    "* Network - two or more computers that communicate\n",
    "* Internet - Publicly accessible network\n",
    "* Wi-Fi - a wireless network\n",
    "* Server - a host that provides a service to another host.\n",
    "* Service - a feature being provided from a host.\n",
    "* Client - a host that is accessing a server\n",
    "* Router - a machine that connects hosts from one network to another network."
   ],
   "metadata": {
    "collapsed": false,
    "pycharm": {
     "name": "#%% md\n"
    }
   }
  },
  {
   "cell_type": "markdown",
   "source": [
    "#### Networking Features\n",
    "- Network packet - a data delivery method used to send network communication between hosts\n",
    "- IP address - An Internet Protocol address is a unique number assigned ta host on a network\n",
    "- Network mask - A numbering system that defines which IP addresses are part of a network\n",
    "- Hostnames - a name given to a host on a network\n",
    "- DHCP - The Dynamic Host Configuration protocol assigns hosts hostnames, IP addreess and other network-related information"
   ],
   "metadata": {
    "collapsed": false,
    "pycharm": {
     "name": "#%% md\n"
    }
   }
  },
  {
   "cell_type": "markdown",
   "source": [
    "#### Networking Features\n",
    "* DNS - A Domain Name Server translates domain names into IP address\n",
    "* Ethernet - Common method of physically connecting hosts into a network by using cables and devices\n",
    "* TCP/IP - Transmission Control Protocol/Internet Protocol is a collection of protocols that are used to define how network communication should take place between hosts."
   ],
   "metadata": {
    "collapsed": false,
    "pycharm": {
     "name": "#%% md\n"
    }
   }
  },
  {
   "cell_type": "markdown",
   "source": [
    "#### IP Addresses\n",
    "* hosts use IP addresses to send and receive network packets from other hosts.\n",
    "* there are two types of IP addresses:\n",
    "    * IPv4  -"
   ],
   "metadata": {
    "collapsed": false,
    "pycharm": {
     "name": "#%% md\n"
    }
   }
  },
  {
   "cell_type": "markdown",
   "source": [
    "#### Configuring Network Devices\n",
    "- Two important questions to consider when configuring network devices:\n",
    "    * Wired or wireless?\n",
    "        * wireless includes addtional security features\n",
    "    * DHCP or static?\n",
    "        * DHCP will provide an IP addres and subnet mask (a number used to identify what subnetwork an IP address belongs to).\n",
    "    * Static means to manually provide network information to the nest.\n",
    "    * Wireless uses DHCP"
   ],
   "metadata": {
    "collapsed": false,
    "pycharm": {
     "name": "#%% md\n"
    }
   }
  },
  {
   "cell_type": "markdown",
   "source": [
    "#### Using Configuration Files to Configure the network\n",
    "* There will be times when no GUI-bsed tool will be availble. In thos case, it is helpful to know the configuration files that are used to store and modify network data.\n",
    "*"
   ],
   "metadata": {
    "collapsed": false,
    "pycharm": {
     "name": "#%% md\n"
    }
   }
  },
  {
   "cell_type": "markdown",
   "source": [
    "#### Using Configuration Files to Configure the network\n",
    "* Primary IPv6 Configuration File: /etc/sysconfig/network-scripts/ifcfg-eth0\n",
    "    * Same file as the Cent OS\n",
    "    *"
   ],
   "metadata": {
    "collapsed": false,
    "pycharm": {
     "name": "#%% md\n"
    }
   }
  },
  {
   "cell_type": "markdown",
   "source": [
    "#### Domain Name Service (DNS)\n",
    "* In order for the computer to associate an IP address with the URL or hostname requests, the computer relies upon the DNS service of another computer.\n",
    "* The address of the DND server is stored in the `/etc/"
   ],
   "metadata": {
    "collapsed": false,
    "pycharm": {
     "name": "#%% md\n"
    }
   }
  },
  {
   "cell_type": "markdown",
   "source": [
    "#### Domain Name Service (DNS)\n",
    "* Name resolution on a Linux host is accomplished by 3 critical files:\n",
    "    * /etc/hosts - contains a table of hostnames to IP addresses\n",
    "    * /etc/resolv.conf - contains the ip addresses of the name servers the system uses to resolve names to IP addresses\n",
    "    * /etc/nnswitch.conf - used to modify where hostname lookups occur\n",
    "* Commands or programs on the system, (i.e., browser) will request a connection with a remote computer by DNS name.\n",
    "* The system will consult various files in a particular order to attempt to resolve that name into a usable IP address."
   ],
   "metadata": {
    "collapsed": false,
    "pycharm": {
     "name": "#%% md\n"
    }
   }
  },
  {
   "cell_type": "markdown",
   "source": [
    "#### Network Tools\n",
    "* There are"
   ],
   "metadata": {
    "collapsed": false,
    "pycharm": {
     "name": "#%% md\n"
    }
   }
  },
  {
   "cell_type": "markdown",
   "source": [
    "#### The ifconfig command\n",
    "* The `ifconfig` command stands for \"interface configuration\".\n",
    "* used to display network configuration"
   ],
   "metadata": {
    "collapsed": false,
    "pycharm": {
     "name": "#%% md\n"
    }
   }
  },
  {
   "cell_type": "markdown",
   "source": [
    "#### The ip command\n",
    "* The `ip` command is replacing the `ifconfig` command.\n",
    "* The `ip` command has increased functionality and set of options.\n",
    "* the format for the `ip` command is as follows:\n",
    "* Both (`ip` and `ifconfig`) show the type of interface, protocols, hardware and IP addreses, network masks and other various information about each"
   ],
   "metadata": {
    "collapsed": false,
    "pycharm": {
     "name": "#%% md\n"
    }
   }
  },
  {
   "cell_type": "markdown",
   "source": [
    "#### The route command\n",
    "Remember: A router (or gateway) is a machine that will allow hosts from one network to communicate with another network.\n",
    "* The `route` command can be used to view a table that describes where network packages are sent.\n",
    "* Any network packages sent to a machine in the 192.168.1 network is not sent to a gateway machine (the * indicates \"no gateway\").\n",
    "* All"
   ],
   "metadata": {
    "collapsed": false,
    "pycharm": {
     "name": "#%% md\n"
    }
   }
  },
  {
   "cell_type": "markdown",
   "source": [
    "#### The ping command\n",
    "* The `ping` command can be used to determine if another machine is \"reachable\".\n",
    "* By default, the `ping`"
   ],
   "metadata": {
    "collapsed": false,
    "pycharm": {
     "name": "#%% md\n"
    }
   }
  },
  {
   "cell_type": "markdown",
   "source": [
    "#### The netstat command\n",
    "* The `netstat` command is used to display information about network connections as well as display the routing table"
   ],
   "metadata": {
    "collapsed": false,
    "pycharm": {
     "name": "#%% md\n"
    }
   }
  },
  {
   "cell_type": "markdown",
   "source": [
    "#### The ss command\n",
    "* The ss command is designed to show socket statistics and supports all the major packet and socket types.\n",
    "* used to view connections currently established between like local machine and remote machines, as well as statistics about those connections.\n",
    "* This output is very similar to the output"
   ],
   "metadata": {
    "collapsed": false,
    "pycharm": {
     "name": "#%% md\n"
    }
   }
  },
  {
   "cell_type": "markdown",
   "source": [
    "#### The dig command\n",
    "* the `dig` command will perform queries on the DNS server to determine if the information needed is available on the server.\n",
    "* For example, the `dig` command is used to determine the IP address of the example.com host:\n",
    "*"
   ],
   "metadata": {
    "collapsed": false,
    "pycharm": {
     "name": "#%% md\n"
    }
   }
  },
  {
   "cell_type": "markdown",
   "source": [
    "#### The host command\n",
    "* The `host` command works with DNS to associate a hostname with an IP address\n",
    "* The `host` command can also be used to reverse if an IP address is known, but the domain name is not\n",
    "*"
   ],
   "metadata": {
    "collapsed": false,
    "pycharm": {
     "name": "#%% md\n"
    }
   }
  },
  {
   "cell_type": "markdown",
   "source": [
    "#### The ssh command\n",
    "* The `ssh` command will allow you to connect to another machine across the network, log in and then perform tasks on the remote machine:\n",
    "* To return back to the local machine, use the `exit` command."
   ],
   "metadata": {
    "collapsed": false,
    "pycharm": {
     "name": "#%% md\n"
    }
   }
  },
  {
   "cell_type": "markdown",
   "source": [
    "#### The ssh command\n",
    "* RSA key fingerprint\n",
    "    * If you answer `yes` at the prompt (asking to verify the machine's identity), the RSA key fingerprint of the remote machine will be stored on your local system:\n",
    "    * When you attempt to `ssh` to the same machine in the future, the RSA key fingerprint ("
   ],
   "metadata": {
    "collapsed": false,
    "pycharm": {
     "name": "#%% md\n"
    }
   }
  },
  {
   "cell_type": "code",
   "execution_count": null,
   "outputs": [],
   "source": [],
   "metadata": {
    "collapsed": false,
    "pycharm": {
     "name": "#%%\n"
    }
   }
  }
 ],
 "metadata": {
  "kernelspec": {
   "display_name": "Python 3",
   "language": "python",
   "name": "python3"
  },
  "language_info": {
   "codemirror_mode": {
    "name": "ipython",
    "version": 2
   },
   "file_extension": ".py",
   "mimetype": "text/x-python",
   "name": "python",
   "nbconvert_exporter": "python",
   "pygments_lexer": "ipython2",
   "version": "2.7.6"
  }
 },
 "nbformat": 4,
 "nbformat_minor": 0
}