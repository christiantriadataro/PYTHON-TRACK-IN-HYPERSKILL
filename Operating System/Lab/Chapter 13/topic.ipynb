{
 "cells": [
  {
   "cell_type": "markdown",
   "source": [
    "## Module 13"
   ],
   "metadata": {
    "collapsed": false,
    "pycharm": {
     "name": "#%% md\n"
    }
   }
  },
  {
   "cell_type": "markdown",
   "source": [
    "#### FSH and Process\n",
    "* A typical Linux system has thousands of files. The **Filesystem Hierarchy Standard (FHS)** provides a guideline for distributions on how to organize these files.\n",
    "* The _Linux kernel_ is the core of the GNU/Linux operating system. It is important to understand the role of the Linux kernel and how it both processes and provides information about the system.\n",
    "* Learn how to view running processes with the `ps`, `top` and other commands.\n",
    "* discussion of how the system records or logs messages."
   ],
   "metadata": {
    "collapsed": false,
    "pycharm": {
     "name": "#%% md\n"
    }
   }
  },
  {
   "cell_type": "markdown",
   "source": [
    "#### Kernel processes\n",
    "* A key function of the Linux kernel is to `manage processes`.\n",
    "* The kernel accepts commands and manages processes that carry out those commands.\n",
    "* The kernel gives command access to devices like memory, disks, network interfaces, keyboards, mice, monitors, and more.\n",
    "* The kernel also provides access to information about active processes through a _pseudo filesystem_ that is visible under the _/proc_ directory. Other pseudo filesystems include _/dev_ and _/sys_, which give information about hardware devices.\n",
    "\n",
    "Pseudo filesystems are ones that appear to be real files on disks, but exist only in memory."
   ],
   "metadata": {
    "collapsed": false,
    "pycharm": {
     "name": "#%% md\n"
    }
   }
  },
  {
   "cell_type": "markdown",
   "source": [
    "#### The /proc Directory\n",
    "* The _/proc_ directory not only contains information about processes (as name \"proc\" suggest), but also provides information about system hardware and current kernel configuration\n",
    "* The output shows a variety of named and numbered directories:\n",
    "![]()"
   ],
   "metadata": {
    "collapsed": false,
    "pycharm": {
     "name": "#%% md\n"
    }
   }
  },
  {
   "cell_type": "markdown",
   "source": [
    "#### The _/proc_ Directory\n",
    "* Some of the commands that read from _/proc_ include: `top`, `free`, `mount`, `unmount`.\n",
    "* There are also important regular files in the `_/proc_` directory such as:\n",
    "  - `/proc/cmdline` - contains information passed to kernel during boot.\n",
    "  - `/proc/meminfo` - contains information about kernel memory usage\n",
    "  - `/proc/modules` -"
   ],
   "metadata": {
    "collapsed": false,
    "pycharm": {
     "name": "#%% md\n"
    }
   }
  },
  {
   "cell_type": "markdown",
   "source": [
    "#### Process Hierarchy\n",
    "* When the kernel finishes loading during boot, it starts the *init* process and assigns it a PID of 1.\n",
    "* This process then starts other system processes and assigns a PID in sequential order.\n",
    "* When one process starts another process, the first process is called a *parent process*. The second process is a *child process*"
   ],
   "metadata": {
    "collapsed": false,
    "pycharm": {
     "name": "#%% md\n"
    }
   }
  },
  {
   "cell_type": "markdown",
   "source": [
    "#### Process Hierarchy\n",
    "* Processes can be mapped into a \"tree\" which can be viewed with the `pstree` command."
   ],
   "metadata": {
    "collapsed": false,
    "pycharm": {
     "name": "#%% md\n"
    }
   }
  },
  {
   "cell_type": "code",
   "execution_count": null,
   "metadata": {
    "collapsed": true,
    "pycharm": {
     "name": "#%%\n"
    }
   },
   "outputs": [],
   "source": [
    "# pstree\n",
    "# init-+-cron\n",
    "#   |-login---bash---pstree\n",
    "#   |-named---18*[{named}]"
   ]
  },
  {
   "cell_type": "markdown",
   "source": [
    "#### Viewing Process snapshot\n",
    "* another way of viewing processes is with the `ps` command.\n",
    "* by default, `ps` will only show running processes.\n",
    "* The `ps` command can be also used with the `head` and `grep` comamnds to filter processes displayed:"
   ],
   "metadata": {
    "collapsed": false,
    "pycharm": {
     "name": "#%% md\n"
    }
   }
  },
  {
   "cell_type": "markdown",
   "source": [
    "#### Viewing Processes in Real Time\n",
    "* The `top` command has a dynamic, screen-based interface that will regularly update the output of running processes.\n"
   ],
   "metadata": {
    "collapsed": false,
    "pycharm": {
     "name": "#%% md\n"
    }
   }
  },
  {
   "cell_type": "code",
   "execution_count": null,
   "outputs": [],
   "source": [
    "# top"
   ],
   "metadata": {
    "collapsed": false,
    "pycharm": {
     "name": "#%%\n"
    }
   }
  },
  {
   "cell_type": "markdown",
   "source": [
    "#### Viewing Memory\n",
    "* To view a snapshot of the memory used at that moment, use the `free` command:"
   ],
   "metadata": {
    "collapsed": false,
    "pycharm": {
     "name": "#%% md\n"
    }
   }
  },
  {
   "cell_type": "code",
   "execution_count": null,
   "outputs": [],
   "source": [
    "# free"
   ],
   "metadata": {
    "collapsed": false,
    "pycharm": {
     "name": "#%%\n"
    }
   }
  },
  {
   "cell_type": "markdown",
   "source": [
    "* The output above explained:\n",
    "   * Mem: is the statistics for physical memory on the system\n",
    "   * -/+ buffers/cache: is the physical memoery"
   ],
   "metadata": {
    "collapsed": false,
    "pycharm": {
     "name": "#%% md\n"
    }
   }
  },
  {
   "cell_type": "markdown",
   "source": [
    "#### Log Files\n",
    "* Process running on a system produce output that describes what the process is doing.\n",
    "* Some output goes to the terminal, however other output is not seen in the terminal and ges written to files as _log messages_ (or log data) instead.\n",
    "* Some processes log data by default, while others use a daemon to log data.\n",
    "  * Examples of daemon include; `syslogd`, `klogd`, `rsyslogd`, `journald`\n",
    "* Log files are placed under the `/var/log/` directory."
   ],
   "metadata": {
    "collapsed": false,
    "pycharm": {
     "name": "#%% md\n"
    }
   }
  },
  {
   "cell_type": "markdown",
   "source": [
    "#### Kernel Messages\n",
    "* Kernel messages can be found in the following files:\n",
    "    * `/var/log/dmesg` - contains the kernel messages that were produced during the system startup.\n",
    "    * `/var/log/messages` - will contain kernel messages that are produced as the system is running.\n",
    "* To view messages generated by the kernel, use the `dmesg` command. To filter the output, use a pipe with the `less` or `grep` command:"
   ],
   "metadata": {
    "collapsed": false,
    "pycharm": {
     "name": "#%% md\n"
    }
   }
  },
  {
   "cell_type": "markdown",
   "source": [
    "#### Filesystem Hierarchy Standard\n",
    "* Filesystem Hierarchy Standard (FHS) is a set of standards supported by the Linux Foundation.\n",
    "* FHS categorizes system directories as:\n",
    "    * Shareable / Not shareable\n",
    "    * Static / Variable\n",
    "* The FHS standard defines four hierarchies of directories used in organizing the files of the filesystem:\n",
    "    * Top-level hierarchy: /\n",
    "    * Second-level hierarchy: /usr\n",
    "    * Third-level hierarchy: /usr/local\n",
    "    * Fourth-level hierarchy: /var"
   ],
   "metadata": {
    "collapsed": false,
    "pycharm": {
     "name": "#%% md\n"
    }
   }
  },
  {
   "cell_type": "markdown",
   "source": [
    "#### Organization within the filesystem hierarchy\n",
    "* User and Home Directories: The `/home` directory will typically have a directory underneath it for each user account.\n",
    "* Binary Directories: contains the programs that users and administrators execute to start processes or applications running on the system.\n",
    "    * includes"
   ],
   "metadata": {
    "collapsed": false,
    "pycharm": {
     "name": "#%% md\n"
    }
   }
  },
  {
   "cell_type": "markdown",
   "source": [
    "#### Organization within the filesystem hierarchy\n",
    "* software application directories:\n",
    "    * microsoft windows - applications files are installed in a single subdirectory under the `C:\\Program Files` directory.\n",
    "    * Linux - Applications may have files in multiples directories spread out throughout the Linux filesystem.\n",
    "    * To view list of application files, use `dpkg -L packagename` (Debian) and `rpm -ql packagename` (Red Hat)."
   ],
   "metadata": {
    "collapsed": false,
    "pycharm": {
     "name": "#%% md\n"
    }
   }
  },
  {
   "cell_type": "markdown",
   "source": [
    "#### Organization within the filesystem hierarchy\n",
    "* Variable Data Directories: The `/var` directory and many of its subdirectories can contain data that will change frequently.\n",
    "    * Examples include: /var/mail, /var/spool/mail, /var/spool/cups"
   ],
   "metadata": {
    "collapsed": false,
    "pycharm": {
     "name": "#%% md\n"
    }
   }
  },
  {
   "cell_type": "code",
   "execution_count": null,
   "outputs": [],
   "source": [],
   "metadata": {
    "collapsed": false,
    "pycharm": {
     "name": "#%%\n"
    }
   }
  }
 ],
 "metadata": {
  "kernelspec": {
   "display_name": "Python 3",
   "language": "python",
   "name": "python3"
  },
  "language_info": {
   "codemirror_mode": {
    "name": "ipython",
    "version": 2
   },
   "file_extension": ".py",
   "mimetype": "text/x-python",
   "name": "python",
   "nbconvert_exporter": "python",
   "pygments_lexer": "ipython2",
   "version": "2.7.6"
  }
 },
 "nbformat": 4,
 "nbformat_minor": 0
}