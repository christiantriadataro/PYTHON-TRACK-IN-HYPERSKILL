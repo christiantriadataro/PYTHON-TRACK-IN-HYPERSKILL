{
 "cells": [
  {
   "cell_type": "raw",
   "source": [
    "##%% md\n",
    "### IDE"
   ],
   "metadata": {
    "collapsed": false,
    "pycharm": {
     "name": ""
    }
   }
  },
  {
   "cell_type": "markdown",
   "source": [
    "#### Theory\n",
    "Writing just one program involves a whole variety of tasks: you write the code, find and fix errors that inevitably arise, then the code has to be compiled, run, and documented. And guess what, all of this has to be done over and over again (well, that's just great). With small programs like **Hello World**, you can perform these tasks using a simple text editor to write your source code and a set of tools to translate and start the programs. Some text editors can even highlight the syntax, which simplifies the writing process, but this may not suffice for working on something larger and more complex.\n",
    "\n",
    "As a professional developer, you need a specialized tool to navigate through your multiple-file programs, modify, compile, run, and debug them, display syntax errors, and so on. An **Integrated Development Environment (IDE)** precisely that: it offers a single program in which developer can deal with all these common tasks.\n"
   ],
   "metadata": {
    "collapsed": false
   }
  },
  {
   "cell_type": "markdown",
   "source": [
    "#### 1. Brief historical background\n",
    "Most modern IDEs are graphical, though the first ones were used back in the era when no one dreamed of graphics. They were built on a text-based interface nd could only be operated using function keys and hotkeys to invoke various functions. This was, for example, Turbo Pascal, created by Borland:\n",
    "\n",
    "![](https://ucarecdn.com/caef137d-7e91-4b99-ac7a-3604ec73cb28/)\n",
    "\n",
    "The first IDEs were designed to be operated via a console or terminal, which were new in themselves. Indeed, before that, programs were generally created on paper and entered into the machine using pre-prepared paper media such as punched cards or punched tapes.\n",
    "\n",
    "Here are some specific historical examples. Dartmouth BASIC was the first language designed to run in a console or terminal. This ancient IDE was controlled by commands, not even using menus and hotkeys. However, it did allow you to edit source code, manage files, compile, debug, and run programs in a manner fundamentally similar to modern IDEs.\n",
    "\n",
    "Then it was a time for Maestro I. It was a product from Softlab Munich that was the world's first integrated development environment for sottware. Can you believe it held a leading position in its niche for almost twenty years? Today though, Maestro I belongs to history.\n",
    "\n",
    "As you see, humanity did not immediately come to multifunctional IDEs."
   ],
   "metadata": {
    "collapsed": false
   }
  },
  {
   "cell_type": "markdown",
   "source": [
    "#### 2. What is a modern IDE?\n",
    "IDEs, were created to maximize programmer productivity through tightly coupled components with simple user interfaces. This allows the developer to do fewer steps to switch between different modes, as opposed to discrete development programs. However, modern graphic IDEs are complex software packages. That means one can achieve the necessary acceleration of the work process only after training. Anyway, there are no big difficulties here either: many IDEs are quite interactive, and the interfaces of different manufacturers are often very similar, so it is not too hard to switch from one IDE to another.\n",
    "\n",
    "There are a lot of IDEs for different programming languages. Some support only a single language, while others support multiple or can be extended with plugins. For instance, IDEs that support multiple language are [IntelliJ IDEA](), [Eclipse](), [NetBeans](), [Android Studio](), and [Visual Studio Code](). IDEs for one specific programming language are [Delphi](), [Dev-C++](), [IDLE for Python](), and [PyCharm]().\n",
    "\n",
    "As an example, this is what the IntelliJ IDEA IDE looks like:\n",
    "\n",
    "![](https://ucarecdn.com/d89df081-4394-4d6d-8393-e51ac8ac7c39/)\n",
    "\n",
    "All of these environments can be run on Windows, macOS, or GNU/Linux."
   ],
   "metadata": {
    "collapsed": false
   }
  },
  {
   "cell_type": "markdown",
   "source": [
    "#### 3. IDE components\n",
    "In general, the development environment includes:\n",
    "\n",
    "1. A **text editor**, which is designed to work with text files interactively. It allows you to view the contents of text files and perform various actions like inserting, deleting, and copying text, contextual search, replacement, sorting strings, viewing character codes and converting encodings, printing. They often contain additional functionality, such as syntax highlighting.\n",
    "2. A **translator (compiler and/or interpreter)**, which translates a text written in a programming language into machine code and does this either immediately before starting the program (compilation) or line by line (interpretation).\n",
    "3. **Build automation tools**, which get the code ready and put everything together.\n",
    "4. A **Debugger**, which looks for errors in the code and immediately reports them.\n",
    "\n",
    "![](https://ucarecdn.com/2d6c0b56-cc75-4ec0-b4f2-90ab3e72f46a/)\n",
    "\n",
    "By and large, using an IDE makes you a more productive developer because an IDE provides tight-knit components with a similar user interface. It also automates some routine tasks and even gives you advice and feedback. That's all because the purpose of the integrated environment is to combine various utilities into one product. This approach allows developers to focus on solving their core problems, while common and standard operations are taken care of by an IDE."
   ],
   "metadata": {
    "collapsed": false
   }
  },
  {
   "cell_type": "markdown",
   "source": [
    "#### Conclusion\n",
    "To sum up,\n",
    "* an IDE is a specialized tool thah navigates through your multiple-file programs, modifies, compiles, runs, debugs them, and also display syntax errors;\n",
    "* modern IDEs are graphical and interactive;\n",
    "* some IDEs support only a single langauge, while others support multiple languages."
   ],
   "metadata": {
    "collapsed": false
   }
  },
  {
   "cell_type": "code",
   "execution_count": null,
   "metadata": {
    "collapsed": true
   },
   "outputs": [],
   "source": []
  }
 ],
 "metadata": {
  "kernelspec": {
   "display_name": "Python 3",
   "language": "python",
   "name": "python3"
  },
  "language_info": {
   "codemirror_mode": {
    "name": "ipython",
    "version": 2
   },
   "file_extension": ".py",
   "mimetype": "text/x-python",
   "name": "python",
   "nbconvert_exporter": "python",
   "pygments_lexer": "ipython2",
   "version": "2.7.6"
  }
 },
 "nbformat": 4,
 "nbformat_minor": 0
}
