{
 "cells": [
  {
   "cell_type": "markdown",
   "source": [
    "#### Immutability"
   ],
   "metadata": {
    "collapsed": false
   }
  },
  {
   "cell_type": "markdown",
   "source": [
    "#### Theory\n",
    "In philosophy, there is a thought experiment called **\"Ship of Theseus\"**. It is one of the oldest concepts in Western philosophy and it goes like this.\n",
    "\n",
    "THe famous ship of the hero Theseus has been kept as a museum piece in a harbor. Over the years, the wooden parts have rotted and been replaced. A hundred years later, all of the wooden parts of the ship have been replaced. The question is: is it still the same ship?\n",
    "\n",
    "![](https://ucarecdn.com/3b2ef8c8-ef58-47b4-84a9-a37eb08dcc25/)\n",
    "\n",
    "There are many ways to answer the question and you can check them out [Wikipedia](http://en.wikipedia.org/wiki/Ship_of_Theseus). What is of interest to us is that this question of identify can be applied to programming as well. One of the most important concepts in programming, the one directly connected to change and identity, is the concept of **(im)mmutability**.\n",
    "\n",
    "In this topic, you will read about the general idea of immutability, and in the following topics, you will explore the means of ensuring immutability in the programming languages you have chosen to study."
   ],
   "metadata": {
    "collapsed": false
   }
  },
  {
   "cell_type": "markdown",
   "source": [
    "#### 1. Mutability and immutability\n",
    "**Mutability** literally means \"the quality of being changeable\" and, in programming, it refers to the idea of changing the state of the object after it has been created.\n",
    "\n",
    "Along this line, we can distinguish between **mutable** and **immutable** objects. To put it simply, mutable objects can be altered once they've been created and immutable cannot. This is the key difference between mutable and immutable objects.\n",
    "\n",
    "What does this mean in practice? Immutable objects always represent the same value: if you want to have a different value, you need to create a completely new object. WIth mutable objects, things are much easier and we can change the values they contain without creating a new object.\n",
    "\n",
    "Returning to the ship of Theseus, if we were to consider it an immutable object, then the answer to the question of identity would be no. Once you change something, you have a different object. In other words, thte ship of Theseus is no longer the ship of Theseus even though it has the same name!\n",
    "\n",
    "Alternatively, if we regard the ship as a mutable object, then, yes, it is still the same ship. The changes that we made did not affect its identity.\n",
    "\n",
    "Depending on the programming langauge you're using, different types of objects may be immutable. For instance, strings are immutable in Python and Java, but Java also has `StringBuilder` and `StringBuffer` classes which are mutable. In Ruby and PHP strings are mutable. When writing a program in your favorite language, you need to take into account which objects are mutable and which are immutable in that particular language."
   ],
   "metadata": {
    "collapsed": false
   }
  },
  {
   "cell_type": "markdown",
   "source": [
    "#### 2. Custom objects and immutability\n",
    "In general, objects of custom classes are mutable. However, there are cases when we would want to make them immutable: immutable objects are thread-safe, easier to test, and may be more secure.\n",
    "\n",
    "<div>Immutable objects can be shared between different threadss without additional protection. The state of mutable objects is hard to follow as long as they can be changed by any of the working threads.</div>\n",
    "\n",
    "Specific instructions on how to make a custom class immutable depend on the language, but we can give general guidelines. Basically, you need to forbid changing the value of the field once it has been created or forbid reassigning  the value. This can be done, for example, by making the field read-only or a constant. Another option is to modify the methods that set attribute values so thay they throw exceptions. You can also work with access modifiers: make the fields unattainable from the outside of the class."
   ],
   "metadata": {
    "collapsed": false
   }
  },
  {
   "cell_type": "markdown",
   "source": [
    "#### 3. Summary\n",
    "To sum it up, the difference between mutable and immutable objects lies in the fact that mutable objects can change their states after creation and immutable objects cannot. Languages have their own division into mutable and immutable objects. Custom classes are usually mutable but can be made immutable using language-specific tools and techniques if necessary."
   ],
   "metadata": {
    "collapsed": false
   }
  },
  {
   "cell_type": "code",
   "execution_count": null,
   "metadata": {
    "collapsed": true
   },
   "outputs": [],
   "source": []
  }
 ],
 "metadata": {
  "kernelspec": {
   "display_name": "Python 3",
   "language": "python",
   "name": "python3"
  },
  "language_info": {
   "codemirror_mode": {
    "name": "ipython",
    "version": 2
   },
   "file_extension": ".py",
   "mimetype": "text/x-python",
   "name": "python",
   "nbconvert_exporter": "python",
   "pygments_lexer": "ipython2",
   "version": "2.7.6"
  }
 },
 "nbformat": 4,
 "nbformat_minor": 0
}
