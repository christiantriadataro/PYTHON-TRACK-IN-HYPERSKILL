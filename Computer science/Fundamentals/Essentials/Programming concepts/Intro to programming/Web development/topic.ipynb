{
 "cells": [
  {
   "cell_type": "markdown",
   "source": [
    "#### Web development"
   ],
   "metadata": {
    "collapsed": false
   }
  },
  {
   "cell_type": "markdown",
   "source": [
    "#### Theory\n",
    "Web development is the process of creating web applications or websites. One approach to creating a web application is to separate the logic into its server-side and client-side parts. This process usually involves developers with different specializations. Let's learn more about this aspect of web development."
   ],
   "metadata": {
    "collapsed": false
   }
  },
  {
   "cell_type": "markdown",
   "source": [
    "#### 1. Frontend and backend development\n",
    "It is customary to divide web development into two parts: frontend and backend.\n",
    "\n",
    "**Frontend development**, also called **client-side** programming, is the development of the user interface (in other words, the visual part of web applications/sites) as well as writing the logic of interaction with users. Simply put, frontend development is responsible for everything users see when they open a web page and everything they interact with.\n",
    "\n",
    "**Backend development**, also called **server-side** programming, is the development of the internal server side of the web application, the implementation of its logic. Backend development includes the things that users do not see, and what happens outside of their browser and computer.\n",
    "\n",
    "![](https://ucarecdn.com/cb0fa6d5-50ff-47d5-b160-d2a07c5ee0f0/)"
   ],
   "metadata": {
    "collapsed": false
   }
  },
  {
   "cell_type": "markdown",
   "source": [
    "#### 2. Developers\n",
    "Usually, different specialists work on the frontend and backend development: frontend and backend developers, respectively. To better understand the difference between them, take a look at the examples of the tasks that these developers have.\n",
    "\n",
    "* **Frontend developers** make webpages according to the layout received from the designer. They are responsible for the correct functioning and display of websites in different browsers and on different devices. Thanks to frontend developers, interactive elements appear on web pages.\n",
    "* **Backend developers** write the basic business logic of an application, process user data, organize information storage in databases, implement data security and protection, optimize applications for maximum speed and scalability.\n",
    "\n",
    "Also, there are people who are involved in all phases of web application development: from the creation of the client part to the implementation of the server part. Such programmers are called **full-stack developers**."
   ],
   "metadata": {
    "collapsed": false
   }
  },
  {
   "cell_type": "markdown",
   "source": [
    "#### 3. Separation of client and server parts\n",
    "\n",
    "Client-side and server-side are terms from web development that tell us where the application code is executed. But why do we separate the client and server parts? Why do we need the user interface representation and the server logic separated from each other? There are several reasons for this:\n",
    "* We can independently replace the frontend and backend logic, minimizing the number of errors. For example, we can change how the site looks without modifying the common processes;\n",
    "* We need a server to store and structure data;\n",
    "* Data on the client's side may become outdated, but the server's answers are usually up-to-date;\n",
    "* It's easier to manage data flows and orchestrate processes on a few servers than on millions of clients;\n",
    "* Some tasks don't need an update from server, it's faster to perform them locally."
   ],
   "metadata": {
    "collapsed": false
   }
  },
  {
   "cell_type": "markdown",
   "source": [
    "#### 4. How do frontend and backend communicate\n",
    "In order for a web service to work correctly, client and server parts must interact. This happens through HTTP requests. In the most basic variant, the interaction between frontend and backend happens as follows:\n",
    "1. The client sends a request to the server to retrieve or modify data using the HTTP protocol.\n",
    "2. Backend processes this request and returns the response via HTTP.\n",
    "3. Frontend receives the response and processes it, and then displays the result to a user.\n",
    "\n",
    "The most popular format for exchanging data between client and server is **JSON**, but others do exists. Markup languages help display the response from the server in a user-friendly way. The most commonly used markup languages are **HTML** and **XML**."
   ],
   "metadata": {
    "collapsed": false
   }
  },
  {
   "cell_type": "markdown",
   "source": [
    "#### 5. Conclusion\n",
    "In this topic, you've learned how the web development process is roughly organized, why there is a division into the server and client parts, and how these parts interact with each other. Usually different specialists work on the server and client parts: backend and frontend developers. But there are also full-stack developers - a kind of universal developers who do both frontend and backend development. It's up to you which specialization you prefer."
   ],
   "metadata": {
    "collapsed": false
   }
  },
  {
   "cell_type": "markdown",
   "source": [],
   "metadata": {
    "collapsed": false
   }
  },
  {
   "cell_type": "code",
   "execution_count": null,
   "metadata": {
    "collapsed": true
   },
   "outputs": [],
   "source": []
  }
 ],
 "metadata": {
  "kernelspec": {
   "display_name": "Python 3",
   "language": "python",
   "name": "python3"
  },
  "language_info": {
   "codemirror_mode": {
    "name": "ipython",
    "version": 2
   },
   "file_extension": ".py",
   "mimetype": "text/x-python",
   "name": "python",
   "nbconvert_exporter": "python",
   "pygments_lexer": "ipython2",
   "version": "2.7.6"
  }
 },
 "nbformat": 4,
 "nbformat_minor": 0
}
