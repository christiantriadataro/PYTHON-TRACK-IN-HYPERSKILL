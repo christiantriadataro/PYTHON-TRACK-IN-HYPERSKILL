{
 "cells": [
  {
   "cell_type": "markdown",
   "source": [
    "### Computer programming"
   ],
   "metadata": {
    "collapsed": false,
    "pycharm": {
     "name": "#%% md\n"
    }
   }
  },
  {
   "cell_type": "markdown",
   "source": [
    "#### Theory\n",
    "Simply put, computer programming is a way to make computers do different tasks. It is a process of writing a set of instructions (also known as **code**) that a machine can understand and making the machine follow them. The end goal might be to solve a mathematical equation, automate a boring task, or create a web page, a piece of software, a mobile app, or a whole game.\n",
    "\n",
    "Computer programming requires technical skills and creative thinking. Some call it science, some call it art.\n",
    "\n",
    "To have a full picture of what computer programming is, we need to highlight two points in the definition: \"make computers do tasks\", and \"writing a set of *instructions* that a *machine* can understand\". Let's talk about the instructions first."
   ],
   "metadata": {
    "collapsed": false,
    "pycharm": {
     "name": "#%% md\n"
    }
   }
  },
  {
   "cell_type": "markdown",
   "source": [
    "#### 1. What are the programming languages?\n",
    "So, how can you write this set of instructions? Think about a computer as your foreign friend. They don't understand any language except their native one and need very simple and clear descriptions of every action you want them to perform. Why that last part? Well, um, because they are your foreign time-traveling friend. See, now this metaphor is taking me places. Your computer is your foreign time-traveling friend from, err, the 12th century. That's why it knows nothing about anything.\n",
    "\n",
    "![](https://ucarecdn.com/e6544cf1-905b-4988-bdf9-6ecbdc24bfb6/)\n",
    "\n",
    "Following this logic, you can't just tell your computer to \"call Steve from accounting\". You need to describe every single action that this order includes:\n",
    "\n",
    "1. Pick up the phone\n",
    "2. Push the button to turn on the screen\n",
    "3. Swipe the phone to unlock it\n",
    "4. Open Contacts\n",
    "5. Enter \"Steve from accounting\" into the search\n",
    "6. Open Steve's contact\n",
    "7. Push the Call button\n",
    "\n",
    "And what was that about its native language? Computers don't understand English or French, but they do understand programming languages such as C, Python, or Java. It's a bit of simplification because computers don't actually understand them - they understood only machine code. Programmers use compilers to translate code that they write to the machine code, but we don't want to overload you with all this information.\n",
    "\n",
    "There are more than a thousand programming languages. The old ones keep evolving and new ones keep appearing. Below you can see the most popular programming languages in February 2022 according to [PYPL Popularity of Programming Language](http://pypl.github.io/PYPL.html). This list is rapidly changing, so for more relevant data you should visit their site.\n",
    "\n",
    "![https://ucarecdn.com/5e223fc1-4402-40c1-8bec-6d00180960c3/]()\n",
    "\n",
    "Every computer language has its own goals and merits, and some languages are better suited for specific applications and tasks. Some languages are more difficult, other less so. Some are simple and popular, others are nuanced and niche. An important thing to remember is that just like English, French, Russian or any other language, programming language have parts, constructions, and concepts that are shared among all of them. So, learning another computer language will be as difficult (or as easy) as learning a foreign one. If you understand the sentence \"I can write\" in English, you won't have much trouble grasping the concept of \"ich kann schreiben\" in German."
   ],
   "metadata": {
    "collapsed": false,
    "pycharm": {
     "name": "#%% md\n"
    }
   }
  },
  {
   "cell_type": "markdown",
   "source": [
    "#### 2. How to choose a computer language?\n",
    "When choosing a language, you should ask yourself what sort of work you would like to do. And this brings us to the \"make computers **do tasks**\" part of the question. Think about why you want to learn to code. Do you want to become a game developer? Do you want to create iPhone apps? Do you want to make websites? Or maybe you need programming to automate work with scientific and statistical data?\n",
    "\n",
    "Every field comes with a set number of languages. Web development, for example, differentiates between two main types of programming: front-end and back-end.\n",
    "\n",
    "The front end of a website is that part that users can see. Fonts, colors, sliders, panels, menus are created with a combination of HTML, CSS and JavaScript.\n",
    "Think about it as the interior design of a house. In this sense, back-end development is similar to building a house. It includes a server, an application, maintaining these components. A lot of different languages can be used here, e.g. PHP, Python, Java, etc.\n",
    "\n",
    "So, it's not really about choosing a language. It's more about choosing a field. If you want to create Android apps, choosing Kotlin; for iOS apps choose Swift, and if you want to develop games, learn C or C++. And if your answer to the question \"why\" is \"to make a lot of money, idk\", consider the most popular programming languages and start there."
   ],
   "metadata": {
    "collapsed": false,
    "pycharm": {
     "name": "#%% md\n"
    }
   }
  },
  {
   "cell_type": "markdown",
   "source": [
    "#### 3. What should I expect?\n",
    "A lot of it feels like a routine, and when it doesn't, it's more like hitting your head against the brick wall in the middle of a desert. Yet so many people find great joy in it. Programming isn't just about languages and syntax and compilers, it's the whole logical thinking process that makes it so rewarding. There is never the \"best\" solution to the problem. You always want to make it faster, better, bigger.\n",
    "\n",
    "Programming teaches you how to think differently. It teaches you to think about how things work, and why they work this or that way. The coding process feels like a puzzle that you're constantly trying to solve.\n",
    "\n",
    "Programming teaches you patience. It's one of the most stressful and aggravating things you can ever do. A lot of people get frustrated and give up learning when their code doesn't work for the first time. But the truth is, this is a normal process. Programmers with years of experience still have moments when their code doesn't work, and they have no idea why. But patience and perseverance are the key traits that got them to where they are now.\n",
    "\n",
    "The bottom line is that programming is a skill. And like with every skill, you need to put in some time and effect to see the results. It probably won't be easy, but it's definitely worth trying! Good luck!"
   ],
   "metadata": {
    "collapsed": false,
    "pycharm": {
     "name": "#%% md\n"
    }
   }
  }
 ],
 "metadata": {
  "kernelspec": {
   "display_name": "Python 3",
   "language": "python",
   "name": "python3"
  },
  "language_info": {
   "codemirror_mode": {
    "name": "ipython",
    "version": 2
   },
   "file_extension": ".py",
   "mimetype": "text/x-python",
   "name": "python",
   "nbconvert_exporter": "python",
   "pygments_lexer": "ipython2",
   "version": "2.7.6"
  }
 },
 "nbformat": 4,
 "nbformat_minor": 0
}