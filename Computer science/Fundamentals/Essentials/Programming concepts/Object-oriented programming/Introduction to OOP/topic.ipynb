{
 "cells": [
  {
   "cell_type": "markdown",
   "source": [
    "### Introduction to OOP"
   ],
   "metadata": {
    "collapsed": false,
    "pycharm": {
     "name": "#%% md\n"
    }
   }
  },
  {
   "cell_type": "markdown",
   "source": [
    "#### Theory"
   ],
   "metadata": {
    "collapsed": false,
    "pycharm": {
     "name": "#%% md\n"
    }
   }
  },
  {
   "cell_type": "markdown",
   "source": [
    "#### 1. Fundamentals?\n",
    "**Object-oriented programming (OOP)** is a programming paradigm based on the concept of **objects** that interact with each other to perform the program functions. Each object can be characterized by a state and behavior. An object's current state is represented by its **fields**, and an object's behavior is represented by its **methods**.\n"
   ],
   "metadata": {
    "collapsed": false,
    "pycharm": {
     "name": "#%% md\n"
    }
   }
  },
  {
   "cell_type": "markdown",
   "source": [
    "#### 2. Basic principles of OOP\n",
    "There are four basic principles of OOP. They are **encapsulation, abstraction, inheritance,** and **polymorphism**.\n",
    "    * **Encapsulation** ensures bundling (=encapsulating) of data and the methods operating on that data into a single unit. It also refers to the ability to hide the internal structure of its properties and methods.\n",
    "    * **Data abstraction** means that objects should provide the simplified, abstract version of their implementations. The details of their internal work usually aren't necessary for the user, so there's no need to represent them. Abstraction also means that only the most relevant features of the object will be presented.\n",
    "    * **Inheritance** is a mechanism for defining parent-child relationships between classes. Often objects are very similar, so inheritance allows programmers to reuse common logic and at the same time introduce unique concepts into the classes.\n",
    "    * **Polymorphism** literally means \"having many forms\" and is a concept related to inheritance. It allows programmers to define different implementations for the same method. Thus, the name (or interface) remains the same, but the actions performed may differ. For example, imagine a website that posts three main types of text: news, announcements, and articles. They are somewhat similar in that they all have a deadline, some text, and a date. In other ways, they are different: articles have authors, news bulletins have sources, and announcements have a date after which they become irrelevant. It is convenient to write an abstract class with general information for all publications to avoid copying it every time and store what is different in the appropriate derived classes.\n",
    "\n",
    "These are the key concepts of OOP. Each object-oriented language implements these principles in its own way, but the essence stays the same from langauge to language."
   ],
   "metadata": {
    "collapsed": false,
    "pycharm": {
     "name": "#%% md\n"
    }
   }
  },
  {
   "cell_type": "markdown",
   "source": [
    "#### 3. Objects\n",
    "The key notion of OOP is, naturally, an **object**. There are a lot of real-world objects around you: pets, buildings, cars, computers, planes, you name it. Even a computer program may be considered as an object.\n",
    "\n",
    "It's possible to identify some important characteristics of real-world objects. For instance, for a building, we can consider the number of floors, the year of construction, and the total area. Another example is a plane, which can accommodate a certain number of passengers and transfer you from one city to another. These characteristics constitute the object's **attributes** and **methods**. Attributes characterize the states or data of an object, and methods characterize its behavior.\n",
    "\n",
    "In OOP, everything can be viewed as an object; a class, for example, is also an object. Programs are made up of different objects that interact with each other. Object state and behavior are usually combined, but this is not always the case. Sometimes we see objects without a state or methods. This, of course, depends on the purpose of the program and the nature of the object.\n",
    "\n",
    "For example, there is such a thing as an interface. Not a user interface, but a class that only serves to be inherited from in order to guarantee an interface to its descendant classes. It is a stateless class. Structures exist in C++ for historical reasons. Now a structure is also a class, but once upon a time, a structure had only properties and did not have any methods - a type for storing data and nothing else. These are special cases, and they are sometimes useful."
   ],
   "metadata": {
    "collapsed": false,
    "pycharm": {
     "name": "#%% md\n"
    }
   }
  },
  {
   "cell_type": "markdown",
   "source": [
    "#### 4. Classes\n",
    "Often, many individual objects have similar characteristics. We can say these objects belong to the same **type** or **class**.\n",
    "\n",
    "A class is another important notion of OOP. A class describes a common structure of similar objects: their fields and methods. It may be considered a template or a blueprint for similar objects. An object is an individual **instance** of a class.\n",
    "\n",
    "In accordance with the principle of encapsulation mentioned above, any class should be considered as a blackbox, that is, the user of the class should see and use only the interface part of the class, namely, the list of declared properties and methods, and should not delve into the internal implementation.\n",
    "\n",
    "Let's look at some examples below.\n",
    "\n",
    "**Example 1. The building class**\n",
    "![](https://ucarecdn.com/b0bcc13c-0f35-40f9-97bc-e78b56f5a556/)\n",
    "**An abstract building for describing buildings as a type of object (class)**\n",
    "\n",
    "Each building has the same attributes:\n",
    "    * Number of floors (an integer number);\n",
    "    * Area (a floating-point number, square meters);\n",
    "    * Year of construction (an integer number).\n",
    "\n",
    "Each object of the building type has the same attributes but different values.\n",
    "\n",
    "For instance:\n",
    "    * Building 1: number of floors = 4, area = 2400.16, year of construction = 1966;\n",
    "    * Building 2: number of floors = 6, area = 3200.54, year of construction = 2001.\n",
    "\n",
    "It's quite difficult to determine the behavior of a plane: it can fly and transfer you between two points on the planet.\n",
    "\n",
    "![](https://ucarecdn.com/e2dd006a-b80c-4761-98c9-5c76f563fec8/)\n",
    "**An abstract plane for describing all planes as a type of object (class)**\n",
    "\n",
    "Each plane has the following attributes:\n",
    "    * Name (a string, for example, \"Airbus A320\", or \"Boeing 777\");\n",
    "    * Passenger capacity (an integer number);\n",
    "    * Standard speed (an integer number);\n",
    "    * Current coordinates (they are needed to navigate).\n",
    "\n",
    "Also, it has a behavior (a method): transferring passengers from one geographical point to another. This behavior changes the state of a plane, namely, its current coordinates."
   ],
   "metadata": {
    "collapsed": false,
    "pycharm": {
     "name": "#%% md\n"
    }
   }
  },
  {
   "cell_type": "markdown",
   "source": [
    "#### 5. Conclusion\n",
    "To put it concisely, you should remember the following:\n",
    "    * An object-oriented program consists of a set of interacting objects.\n",
    "    * According to the principle of encapsulation, the internal implementation of the object is not accessible to the user.\n",
    "    * An object may have characteristics: fields and methods.\n",
    "    * An object is an instance of a class (type);\n",
    "    * A class is a more abstract concept than an individual object; it may be considered a template or blueprint that describes the common structure of a set of similar objects."
   ],
   "metadata": {
    "collapsed": false,
    "pycharm": {
     "name": "#%% md\n"
    }
   }
  }
 ],
 "metadata": {
  "kernelspec": {
   "display_name": "Python 3",
   "language": "python",
   "name": "python3"
  },
  "language_info": {
   "codemirror_mode": {
    "name": "ipython",
    "version": 2
   },
   "file_extension": ".py",
   "mimetype": "text/x-python",
   "name": "python",
   "nbconvert_exporter": "python",
   "pygments_lexer": "ipython2",
   "version": "2.7.6"
  }
 },
 "nbformat": 4,
 "nbformat_minor": 0
}