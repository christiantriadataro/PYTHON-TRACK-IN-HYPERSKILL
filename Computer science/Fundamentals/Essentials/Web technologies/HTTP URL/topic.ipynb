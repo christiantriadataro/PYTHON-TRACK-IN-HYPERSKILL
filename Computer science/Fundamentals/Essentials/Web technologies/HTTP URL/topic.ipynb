{
 "cells": [
  {
   "cell_type": "markdown",
   "source": [
    "## HTTP URL"
   ],
   "metadata": {
    "collapsed": false,
    "pycharm": {
     "name": "#%% md\n"
    }
   }
  },
  {
   "cell_type": "markdown",
   "source": [
    "### Theory"
   ],
   "metadata": {
    "collapsed": false,
    "pycharm": {
     "name": "#%% md\n"
    }
   }
  },
  {
   "cell_type": "markdown",
   "source": [
    "#### 1. What is URL?\n",
    "Imagine all files on the Internet are located in a megalopolis, each of them lucky to be living in their own home. Given the scale of the Internet, in the resulting settlement, there will be an unimaginable number of blocks and streets. For example, an interesting article, which you want to share with your friend, lives in one of the houses in the megalopolis. How do you explain where exactly to find the article? That's right, you need to come up with a single standard by which you could name all the addresses in the city, and then give your friend the street name and house number, just like in a real city!\n",
    "\n",
    "All documents on the Internet have a personal address. For example, the URL of the JetBrains website looks like this:\n",
    "\n",
    "`\n",
    "https://www.jetbrains.com/\n",
    "`\n",
    "\n",
    "Web pages, images, videos, and other documents that can be stored on your computer also have addresses. To make them look the same on the Internet, in 1990 the creators of the World Wide Web developed a special standard that defines what addresses should look like. That standard is called a **URL**, which stands for **Uniform Resource Locator**. It represents the standardized way of recording file addresses on the Internet.\n",
    "\n",
    "The standard has one specific feature: not all characters can be used in URLs. The list of allowed characters includes:\n",
    "    * Latin alphabet (or English alphabet symbols);\n",
    "    * Cyrillic alphabet;\n",
    "    * Numbers;\n",
    "    * Reserved characters with special meaning `!#$&'()*+,/:;=?@[]`;\n",
    "    * Unreserved characters: `-_.~`.\n"
   ],
   "metadata": {
    "collapsed": false,
    "pycharm": {
     "name": "#%% md\n"
    }
   }
  },
  {
   "cell_type": "markdown",
   "source": [
    "#### 2. Basic URL structure\n",
    "Here is an example of a URL address:\n",
    "\n",
    "![](https://ucarecdn.com/7d04d125-281b-46f9-8651-cdfd78fb9e2c/)\n",
    "\n",
    "URL address has a certain structure based on the following template:\n",
    "\n",
    "`\n",
    "://:@:/?#\n",
    "`\n",
    "\n",
    "Now let's look at this template in more detail:\n",
    "    * `<protocol>` is a way of exchanging data with a resource. You are probably most familiar with HTTP and HTTPS protocols, but there are others;\n",
    "    * `<login>` and `<password>` are prefixes that transmit authentication data for some protocols, if necessary;\n",
    "    * `<host>` is the domain name of IP address where the site is located. **Domain** is the name of the site, IP is its address in a network;\n",
    "    * `<port>` is required for connection within the specified host. The official port for HTTP connections is 80, and the alternative is 8080, but is possible to use any other ports too. The default setting for HTTPS is 443;\n",
    "    * `<path>` indicates the exact address of a particular file or page within a domain;\n",
    "    * `<request parameters>` are parameters transmitted to the server. Depending on request parameters, the site may slightly change its display. For example, it is possible to sort the items of a list in a different order;\n",
    "    * `<anchor>` allows you to connect to a specific part of a web page or document.\n",
    "\n",
    "\n",
    "This is the general structure of any URL. Most often, when accessing web pages and documents located on a web server, most of the parameters are not mandatory and are set automatically.\n",
    "\n",
    "When you just want to see a particular page on the Internet with your browser, the URL template looks a lot easier:\n",
    "\n",
    "`\n",
    "://\n",
    "`\n",
    "\n",
    "For example, it can be recorded in a form:\n",
    "`\n",
    "https://www.google.com\n",
    "`\n",
    "\n",
    "The simplification was created to make life easier for ordinary Internet users, but most programmers need to know the complete template, and now you do."
   ],
   "metadata": {
    "collapsed": false,
    "pycharm": {
     "name": "#%% md\n"
    }
   }
  },
  {
   "cell_type": "markdown",
   "source": [
    "#### 3. Absolute and relative URLs\n",
    "As we know, a URL consists of several parts, and when you're browsing through the same site, some elements of it stay the same. Whichever IDE you want to read about on JetBrains, the protocol and host parts of a URL always match [https://www.jetbrains.com](https://www.jetbrains.com). For example, let's look at these links:\n",
    "\n",
    " * [https://www.jetbrains.com/pycharm/](https://www.jetbrains.com/pycharm/) about PyCharm.\n",
    " * [https://www.jetbrains.com/go/](https://www.jetbrains.com/go/) about GoLang\n",
    " * [https://www.jetbrains.com/idea/](https://www.jetbrains.com/idea/) about IntelliJ IDEA\n",
    "\n",
    "The new information in each link is its `<path>`. There exists another way to locate resources on the same site by only `<path>?<request parameters>#<anchor>`. The full URL is known as **absolute**, and we call **relative** its shorter counterpart.\n",
    "\n",
    "You should remember that it would work only on the same site, while you cannot refer to another site by a relative path. Every time you follow the link with a relative URL, it will expand to absolute, where all parts including everything from protocol to port will match the resource you are using this time.\n",
    "\n",
    "We know that by absolute URLs we can easily find the resource through the Internet, but why do we need relative paths at all since they will be transformed to absolute anyway? Here are the main reasons for that:\n",
    "    * They are short.\n",
    "    * We can easily move the site to another host.\n",
    "    * They are a little bit faster to retrieve by a browser."
   ],
   "metadata": {
    "collapsed": false,
    "pycharm": {
     "name": "#%% md\n"
    }
   }
  },
  {
   "cell_type": "markdown",
   "source": [
    "#### 4. Conclusion\n",
    "\n",
    "Let's sum up what you have learned about URLs in this topic:\n",
    "\n",
    "   * We can locate any resources on the Internet through a URL.\n",
    "   * Each URL consists of several parts, but some of them are optional.\n",
    "   * We can retrieve resources by an absolute URL and then browse them through relative paths."
   ],
   "metadata": {
    "collapsed": false,
    "pycharm": {
     "name": "#%% md\n"
    }
   }
  }
 ],
 "metadata": {
  "kernelspec": {
   "display_name": "Python 3",
   "language": "python",
   "name": "python3"
  },
  "language_info": {
   "codemirror_mode": {
    "name": "ipython",
    "version": 2
   },
   "file_extension": ".py",
   "mimetype": "text/x-python",
   "name": "python",
   "nbconvert_exporter": "python",
   "pygments_lexer": "ipython2",
   "version": "2.7.6"
  }
 },
 "nbformat": 4,
 "nbformat_minor": 0
}