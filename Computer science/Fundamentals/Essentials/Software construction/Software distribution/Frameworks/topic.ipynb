{
 "cells": [
  {
   "cell_type": "markdown",
   "source": [
    "#### Frameworks"
   ],
   "metadata": {
    "collapsed": false
   }
  },
  {
   "cell_type": "markdown",
   "source": [
    "#### Theory"
   ],
   "metadata": {
    "collapsed": false
   }
  },
  {
   "cell_type": "markdown",
   "source": [
    "#### 1. What are frameworks?\n",
    "All programs are different just like snowflakes, yet it is similarities in code that we want to draw your attention to, or rather, how theses similarities can be used to the developer's advantage. In programming, it is common practice to reuse code packed into libraries in order to simplify the development and avoid making the same errors over and over. Such libraries exist for most programming languages; they provide good documentation and well-tested code used by many people.\n",
    "\n",
    "Large applications like internet stores, online banks or social networks often need the same typical components and functionality such as user authorization, database interaction, sending notifications and so on. To reuse them, developers created a special kind of software called **frameworks** for all popular programming languages.\n",
    "\n",
    "A **framework** is a universal, reusable piece of software that facilitates the development of typical applications or their parts. It consists of structured code templates and provides generic functionality which can be easily extended for the needs of a specific application. TO relinquish control on low-level tasks and focus on the high-level problems, you should use the API provided by the framework. It can significantly reduce total development time.\n",
    "\n",
    "Some frameworks are so large that they are in fact a union of different frameworks under a single name.\n",
    "\n",
    "Frameworks are extremely useful and relatively easy to grasp: for example, the very concept of a framework has some `real-life analogies`, which help to understand its meaning."
   ],
   "metadata": {
    "collapsed": false
   }
  },
  {
   "cell_type": "markdown",
   "source": [
    "#### 2. Frameworks vs libraries"
   ],
   "metadata": {
    "collapsed": false
   }
  },
  {
   "cell_type": "markdown",
   "source": [],
   "metadata": {
    "collapsed": false
   }
  },
  {
   "cell_type": "code",
   "execution_count": 17,
   "metadata": {
    "collapsed": true,
    "ExecuteTime": {
     "start_time": "2023-05-20T14:14:18.038971Z",
     "end_time": "2023-05-20T14:14:18.050982Z"
    }
   },
   "outputs": [],
   "source": [
    "# class Dog:\n",
    "#     def __init__(self, name, age):\n",
    "#         self.name = name\n",
    "#         self.age = age\n",
    "#\n",
    "#     def __str__(self):\n",
    "#         return f\"{self.name} {self.age}\"\n",
    "#\n",
    "# class JackRussellTerrier(Dog):\n",
    "#     pass\n",
    "#\n",
    "# class Dachshund(Dog):\n",
    "#     pass\n",
    "#\n",
    "# class Bulldog(Dog):\n",
    "#     pass\n",
    "#\n",
    "# miles = JackRussellTerrier(\"Miles\", 4)\n",
    "# buddy = Dachshund(\"Buddy\", 9)\n",
    "# jack = Bulldog(\"Jack\", 3)\n",
    "# jim = Bulldog(\"Jim\", 5)\n",
    "# print(isinstance(jack, Dog))\n",
    "# print(isinstance(miles, Dog))\n",
    "# print(isinstance(miles, Bulldog))\n",
    "# print(isinstance(miles, Dog))\n",
    "# print(isinstance(miles, Dachshund))\n",
    "# print(isinstance(buddy, Bulldog))"
   ]
  },
  {
   "cell_type": "code",
   "execution_count": 26,
   "outputs": [
    {
     "name": "stdout",
     "output_type": "stream",
     "text": [
      "55 55\n"
     ]
    }
   ],
   "source": [
    "class Ball():\n",
    "    def __init__(self):\n",
    "        self.x = 0\n",
    "        self.y = 0\n",
    "\n",
    "b1 = Ball()\n",
    "b2 = b1\n",
    "\n",
    "b1.x = 40\n",
    "b2.x = 50\n",
    "b1.x += 5\n",
    "# b2.x += 5\n",
    "print(b1.x, b2.x)"
   ],
   "metadata": {
    "collapsed": false,
    "ExecuteTime": {
     "start_time": "2023-05-20T14:16:39.005136Z",
     "end_time": "2023-05-20T14:16:39.011138Z"
    }
   }
  },
  {
   "cell_type": "code",
   "execution_count": 20,
   "outputs": [
    {
     "data": {
      "text/plain": "'Arf!!'"
     },
     "execution_count": 20,
     "metadata": {},
     "output_type": "execute_result"
    }
   ],
   "source": [
    "class Dog:\n",
    "    def walk(self):\n",
    "        return \"*Walking*\"\n",
    "\n",
    "    def speak(self):\n",
    "        return \"Woof!\"\n",
    "\n",
    "class JackRusselTerrier(Dog):\n",
    "    def speak(self):\n",
    "        return \"Arf!!\"\n",
    "\n",
    "bobo = JackRusselTerrier()\n",
    "bobo.speak()"
   ],
   "metadata": {
    "collapsed": false,
    "ExecuteTime": {
     "start_time": "2023-05-20T14:14:50.984455Z",
     "end_time": "2023-05-20T14:14:50.998448Z"
    }
   }
  },
  {
   "cell_type": "code",
   "execution_count": 27,
   "outputs": [
    {
     "name": "stdout",
     "output_type": "stream",
     "text": [
      "[10 15 13  8]\n"
     ]
    }
   ],
   "source": [
    "import numpy as np\n",
    "x = np.array([10, 15, 22, 13, 17, 20, 8])\n",
    "print(x[x < 17])"
   ],
   "metadata": {
    "collapsed": false,
    "ExecuteTime": {
     "start_time": "2023-05-20T14:24:14.504853Z",
     "end_time": "2023-05-20T14:24:15.007700Z"
    }
   }
  },
  {
   "cell_type": "code",
   "execution_count": 29,
   "outputs": [
    {
     "ename": "TypeError",
     "evalue": "can only concatenate str (not \"bool\") to str",
     "output_type": "error",
     "traceback": [
      "\u001B[1;31m---------------------------------------------------------------------------\u001B[0m",
      "\u001B[1;31mTypeError\u001B[0m                                 Traceback (most recent call last)",
      "Cell \u001B[1;32mIn[29], line 4\u001B[0m\n\u001B[0;32m      1\u001B[0m \u001B[38;5;66;03m# print(str(True) + \"python\")\u001B[39;00m\n\u001B[0;32m      2\u001B[0m \u001B[38;5;66;03m# print(True + True + 3)\u001B[39;00m\n\u001B[0;32m      3\u001B[0m \u001B[38;5;66;03m# print(True + 0)\u001B[39;00m\n\u001B[1;32m----> 4\u001B[0m \u001B[38;5;28mprint\u001B[39m(\u001B[38;5;124;43m\"\u001B[39;49m\u001B[38;5;124;43mpython\u001B[39;49m\u001B[38;5;124;43m\"\u001B[39;49m\u001B[43m \u001B[49m\u001B[38;5;241;43m+\u001B[39;49m\u001B[43m \u001B[49m\u001B[38;5;28;43;01mTrue\u001B[39;49;00m)\n",
      "\u001B[1;31mTypeError\u001B[0m: can only concatenate str (not \"bool\") to str"
     ]
    }
   ],
   "source": [
    "# print(str(True) + \"python\")\n",
    "# print(True + True + 3)\n",
    "# print(True + 0)\n",
    "print(\"python\" + True)"
   ],
   "metadata": {
    "collapsed": false
   }
  },
  {
   "cell_type": "code",
   "execution_count": 30,
   "outputs": [
    {
     "data": {
      "text/plain": "[['3', 1, 8], [3, 4, 5], [6, False, True]]"
     },
     "metadata": {},
     "output_type": "display_data"
    }
   ],
   "source": [
    "display([[\"3\", 1, 8], [3, 4, 5], [6, False, True]])"
   ],
   "metadata": {
    "collapsed": false,
    "ExecuteTime": {
     "start_time": "2023-05-20T14:28:33.839045Z",
     "end_time": "2023-05-20T14:28:33.865877Z"
    }
   }
  },
  {
   "cell_type": "code",
   "execution_count": 31,
   "outputs": [
    {
     "data": {
      "text/plain": "[[1, 5], [6, '3', 7], ['DataCamp', 8, True]]"
     },
     "execution_count": 31,
     "metadata": {},
     "output_type": "execute_result"
    }
   ],
   "source": [
    "[[1, 5], [6, \"3\", 7], [\"DataCamp\", 8, True]]"
   ],
   "metadata": {
    "collapsed": false,
    "ExecuteTime": {
     "start_time": "2023-05-20T14:28:57.803131Z",
     "end_time": "2023-05-20T14:28:57.826992Z"
    }
   }
  },
  {
   "cell_type": "code",
   "execution_count": 32,
   "outputs": [
    {
     "name": "stdout",
     "output_type": "stream",
     "text": [
      "False\n"
     ]
    }
   ],
   "source": [
    "print(False == 1)"
   ],
   "metadata": {
    "collapsed": false,
    "ExecuteTime": {
     "start_time": "2023-05-20T15:44:00.012797Z",
     "end_time": "2023-05-20T15:44:00.022799Z"
    }
   }
  },
  {
   "cell_type": "code",
   "execution_count": 38,
   "outputs": [
    {
     "data": {
      "text/plain": "   a  b   c\n0  2  7  12\n1  1  5   8\n2  4  3   6",
      "text/html": "<div>\n<style scoped>\n    .dataframe tbody tr th:only-of-type {\n        vertical-align: middle;\n    }\n\n    .dataframe tbody tr th {\n        vertical-align: top;\n    }\n\n    .dataframe thead th {\n        text-align: right;\n    }\n</style>\n<table border=\"1\" class=\"dataframe\">\n  <thead>\n    <tr style=\"text-align: right;\">\n      <th></th>\n      <th>a</th>\n      <th>b</th>\n      <th>c</th>\n    </tr>\n  </thead>\n  <tbody>\n    <tr>\n      <th>0</th>\n      <td>2</td>\n      <td>7</td>\n      <td>12</td>\n    </tr>\n    <tr>\n      <th>1</th>\n      <td>1</td>\n      <td>5</td>\n      <td>8</td>\n    </tr>\n    <tr>\n      <th>2</th>\n      <td>4</td>\n      <td>3</td>\n      <td>6</td>\n    </tr>\n  </tbody>\n</table>\n</div>"
     },
     "execution_count": 38,
     "metadata": {},
     "output_type": "execute_result"
    }
   ],
   "source": [
    "import pandas as pd\n",
    "a = [2, 7, 12]\n",
    "b = [1, 5, 8]\n",
    "c = [4, 3, 6]\n",
    "df = pd.DataFrame([a, b, c])\n",
    "df.columns = ['a', 'b', 'c']\n",
    "df"
   ],
   "metadata": {
    "collapsed": false,
    "ExecuteTime": {
     "start_time": "2023-05-20T15:49:12.749768Z",
     "end_time": "2023-05-20T15:49:12.784688Z"
    }
   }
  },
  {
   "cell_type": "code",
   "execution_count": 39,
   "outputs": [
    {
     "name": "stdout",
     "output_type": "stream",
     "text": [
      "   b   c\n",
      "0  7  12\n",
      "1  5   8\n",
      "2  3   6\n"
     ]
    }
   ],
   "source": [
    "print(df[['b', 'c']])"
   ],
   "metadata": {
    "collapsed": false,
    "ExecuteTime": {
     "start_time": "2023-05-20T15:49:14.014624Z",
     "end_time": "2023-05-20T15:49:14.065751Z"
    }
   }
  },
  {
   "cell_type": "code",
   "execution_count": 41,
   "outputs": [
    {
     "data": {
      "text/plain": "   chapter  course         level\n                                \nP        1  python      advanced\nR        2       r  intermediate\nS        3       s      beginner",
      "text/html": "<div>\n<style scoped>\n    .dataframe tbody tr th:only-of-type {\n        vertical-align: middle;\n    }\n\n    .dataframe tbody tr th {\n        vertical-align: top;\n    }\n\n    .dataframe thead th {\n        text-align: right;\n    }\n</style>\n<table border=\"1\" class=\"dataframe\">\n  <thead>\n    <tr style=\"text-align: right;\">\n      <th></th>\n      <th>chapter</th>\n      <th>course</th>\n      <th>level</th>\n    </tr>\n    <tr>\n      <th></th>\n      <th></th>\n      <th></th>\n      <th></th>\n    </tr>\n  </thead>\n  <tbody>\n    <tr>\n      <th>P</th>\n      <td>1</td>\n      <td>python</td>\n      <td>advanced</td>\n    </tr>\n    <tr>\n      <th>R</th>\n      <td>2</td>\n      <td>r</td>\n      <td>intermediate</td>\n    </tr>\n    <tr>\n      <th>S</th>\n      <td>3</td>\n      <td>s</td>\n      <td>beginner</td>\n    </tr>\n  </tbody>\n</table>\n</div>"
     },
     "execution_count": 41,
     "metadata": {},
     "output_type": "execute_result"
    }
   ],
   "source": [
    "temp = [\n",
    "    {'': 'P', 'chapter': 1, 'course': 'python', 'level': 'advanced'},\n",
    "    {'': 'R', 'chapter': 2, 'course': 'r', 'level': 'intermediate'},\n",
    "    {'': 'S', 'chapter': 3, 'course': 's', 'level': 'beginner'},\n",
    "        ]\n",
    "datacamp = pd.DataFrame(temp).set_index('')\n",
    "datacamp"
   ],
   "metadata": {
    "collapsed": false,
    "ExecuteTime": {
     "start_time": "2023-05-20T15:53:53.041154Z",
     "end_time": "2023-05-20T15:53:53.060205Z"
    }
   }
  },
  {
   "cell_type": "code",
   "execution_count": 42,
   "outputs": [
    {
     "data": {
      "text/plain": "   chapter course         level\n                               \nR        2      r  intermediate",
      "text/html": "<div>\n<style scoped>\n    .dataframe tbody tr th:only-of-type {\n        vertical-align: middle;\n    }\n\n    .dataframe tbody tr th {\n        vertical-align: top;\n    }\n\n    .dataframe thead th {\n        text-align: right;\n    }\n</style>\n<table border=\"1\" class=\"dataframe\">\n  <thead>\n    <tr style=\"text-align: right;\">\n      <th></th>\n      <th>chapter</th>\n      <th>course</th>\n      <th>level</th>\n    </tr>\n    <tr>\n      <th></th>\n      <th></th>\n      <th></th>\n      <th></th>\n    </tr>\n  </thead>\n  <tbody>\n    <tr>\n      <th>R</th>\n      <td>2</td>\n      <td>r</td>\n      <td>intermediate</td>\n    </tr>\n  </tbody>\n</table>\n</div>"
     },
     "execution_count": 42,
     "metadata": {},
     "output_type": "execute_result"
    }
   ],
   "source": [
    "between = np.logical_and(datacamp[\"chapter\"] > 1, datacamp[\"chapter\"] < 3)\n",
    "datacamp[between]"
   ],
   "metadata": {
    "collapsed": false,
    "ExecuteTime": {
     "start_time": "2023-05-20T15:54:34.199908Z",
     "end_time": "2023-05-20T15:54:34.228752Z"
    }
   }
  },
  {
   "cell_type": "code",
   "execution_count": 49,
   "outputs": [
    {
     "data": {
      "text/plain": "ID          3\nViews     800\nClicks    500\nName: c, dtype: int64"
     },
     "execution_count": 49,
     "metadata": {},
     "output_type": "execute_result"
    }
   ],
   "source": [
    "marketing_temp = [\n",
    "    {'': 'a', 'ID': 1, 'Views': 1000, 'Clicks': 300},\n",
    "    {'': 'b', 'ID': 2, 'Views': 1200, 'Clicks': 800},\n",
    "    {'': 'c', 'ID': 3, 'Views': 800, 'Clicks': 500},\n",
    "        ]\n",
    "marketing = pd.DataFrame(marketing_temp).set_index('')\n",
    "marketing.iloc[2]"
   ],
   "metadata": {
    "collapsed": false,
    "ExecuteTime": {
     "start_time": "2023-05-20T16:02:20.143005Z",
     "end_time": "2023-05-20T16:02:20.167098Z"
    }
   }
  },
  {
   "cell_type": "code",
   "execution_count": 52,
   "outputs": [
    {
     "data": {
      "text/plain": "  product month  sold\n0       A   Jan    85\n1       A   Feb   200\n2       A   Mar   180\n3       B   Jan    90\n4       B   Feb    80\n5       B   Mar   130",
      "text/html": "<div>\n<style scoped>\n    .dataframe tbody tr th:only-of-type {\n        vertical-align: middle;\n    }\n\n    .dataframe tbody tr th {\n        vertical-align: top;\n    }\n\n    .dataframe thead th {\n        text-align: right;\n    }\n</style>\n<table border=\"1\" class=\"dataframe\">\n  <thead>\n    <tr style=\"text-align: right;\">\n      <th></th>\n      <th>product</th>\n      <th>month</th>\n      <th>sold</th>\n    </tr>\n  </thead>\n  <tbody>\n    <tr>\n      <th>0</th>\n      <td>A</td>\n      <td>Jan</td>\n      <td>85</td>\n    </tr>\n    <tr>\n      <th>1</th>\n      <td>A</td>\n      <td>Feb</td>\n      <td>200</td>\n    </tr>\n    <tr>\n      <th>2</th>\n      <td>A</td>\n      <td>Mar</td>\n      <td>180</td>\n    </tr>\n    <tr>\n      <th>3</th>\n      <td>B</td>\n      <td>Jan</td>\n      <td>90</td>\n    </tr>\n    <tr>\n      <th>4</th>\n      <td>B</td>\n      <td>Feb</td>\n      <td>80</td>\n    </tr>\n    <tr>\n      <th>5</th>\n      <td>B</td>\n      <td>Mar</td>\n      <td>130</td>\n    </tr>\n  </tbody>\n</table>\n</div>"
     },
     "execution_count": 52,
     "metadata": {},
     "output_type": "execute_result"
    }
   ],
   "source": [
    "import numpy as np\n",
    "sales_temp = [\n",
    "    {'product': 'A', 'month': 'Jan', 'sold': 85},\n",
    "    {'product': 'A', 'month': 'Feb', 'sold': 200},\n",
    "    {'product': 'A', 'month': 'Mar', 'sold': 180},\n",
    "    {'product': 'B', 'month': 'Jan', 'sold': 90},\n",
    "    {'product': 'B', 'month': 'Feb', 'sold': 80},\n",
    "    {'product': 'B', 'month': 'Mar', 'sold': 130},\n",
    "        ]\n",
    "sales = pd.DataFrame(sales_temp)\n",
    "sales"
   ],
   "metadata": {
    "collapsed": false,
    "ExecuteTime": {
     "start_time": "2023-05-20T16:07:06.329037Z",
     "end_time": "2023-05-20T16:07:06.361002Z"
    }
   }
  },
  {
   "cell_type": "code",
   "execution_count": 54,
   "outputs": [
    {
     "data": {
      "text/plain": "  product month  sold\n0       A   Jan    85\n3       B   Jan    90\n4       B   Feb    80\n5       B   Mar   130",
      "text/html": "<div>\n<style scoped>\n    .dataframe tbody tr th:only-of-type {\n        vertical-align: middle;\n    }\n\n    .dataframe tbody tr th {\n        vertical-align: top;\n    }\n\n    .dataframe thead th {\n        text-align: right;\n    }\n</style>\n<table border=\"1\" class=\"dataframe\">\n  <thead>\n    <tr style=\"text-align: right;\">\n      <th></th>\n      <th>product</th>\n      <th>month</th>\n      <th>sold</th>\n    </tr>\n  </thead>\n  <tbody>\n    <tr>\n      <th>0</th>\n      <td>A</td>\n      <td>Jan</td>\n      <td>85</td>\n    </tr>\n    <tr>\n      <th>3</th>\n      <td>B</td>\n      <td>Jan</td>\n      <td>90</td>\n    </tr>\n    <tr>\n      <th>4</th>\n      <td>B</td>\n      <td>Feb</td>\n      <td>80</td>\n    </tr>\n    <tr>\n      <th>5</th>\n      <td>B</td>\n      <td>Mar</td>\n      <td>130</td>\n    </tr>\n  </tbody>\n</table>\n</div>"
     },
     "execution_count": 54,
     "metadata": {},
     "output_type": "execute_result"
    }
   ],
   "source": [
    "pick = np.logical_or(sales['product'] == 'B', sales['sold'] < 100)\n",
    "sales[pick]"
   ],
   "metadata": {
    "collapsed": false,
    "ExecuteTime": {
     "start_time": "2023-05-20T16:07:21.790315Z",
     "end_time": "2023-05-20T16:07:21.805582Z"
    }
   }
  },
  {
   "cell_type": "code",
   "execution_count": 55,
   "outputs": [
    {
     "data": {
      "text/plain": "array([ True, False, False, False])"
     },
     "execution_count": 55,
     "metadata": {},
     "output_type": "execute_result"
    }
   ],
   "source": [
    "numpy1 = np.array([17.2, 20.0, 8.25, 9.50])\n",
    "numpy2 = np.array([13.0, 24.0, 8.25, 9.0])\n",
    "np.logical_and(numpy1 > 10, numpy2 < 20)"
   ],
   "metadata": {
    "collapsed": false,
    "ExecuteTime": {
     "start_time": "2023-05-20T16:09:22.782064Z",
     "end_time": "2023-05-20T16:09:22.824133Z"
    }
   }
  },
  {
   "cell_type": "code",
   "execution_count": 56,
   "outputs": [
    {
     "data": {
      "text/plain": "year    2015\nName: d, dtype: object"
     },
     "execution_count": 56,
     "metadata": {},
     "output_type": "execute_result"
    }
   ],
   "source": [
    "sales_temp = [\n",
    "    {'': 'a', 'year': 2003, 'winner': 'Australia'},\n",
    "    {'': 'b', 'year': 2007, 'winner': 'Australia'},\n",
    "    {'': 'c', 'year': 2011, 'winner': 'India'},\n",
    "    {'': 'd', 'year': 2015, 'winner': 'Australia'},\n",
    "        ]\n",
    "sales = pd.DataFrame(sales_temp).set_index('')\n",
    "sales.loc['d', ['year']]"
   ],
   "metadata": {
    "collapsed": false,
    "ExecuteTime": {
     "start_time": "2023-05-20T16:12:10.964063Z",
     "end_time": "2023-05-20T16:12:11.192804Z"
    }
   }
  },
  {
   "cell_type": "code",
   "execution_count": 58,
   "outputs": [
    {
     "data": {
      "text/plain": "  geography  surname  credit_score  age exited\n0    France  Barlett           822   50     No\n1    France   Bearce           528   31     No\n2    France     Boni           699   39     No\n3    France     Chin           549   25     No\n4    France      Hao           684   27     No",
      "text/html": "<div>\n<style scoped>\n    .dataframe tbody tr th:only-of-type {\n        vertical-align: middle;\n    }\n\n    .dataframe tbody tr th {\n        vertical-align: top;\n    }\n\n    .dataframe thead th {\n        text-align: right;\n    }\n</style>\n<table border=\"1\" class=\"dataframe\">\n  <thead>\n    <tr style=\"text-align: right;\">\n      <th></th>\n      <th>geography</th>\n      <th>surname</th>\n      <th>credit_score</th>\n      <th>age</th>\n      <th>exited</th>\n    </tr>\n  </thead>\n  <tbody>\n    <tr>\n      <th>0</th>\n      <td>France</td>\n      <td>Barlett</td>\n      <td>822</td>\n      <td>50</td>\n      <td>No</td>\n    </tr>\n    <tr>\n      <th>1</th>\n      <td>France</td>\n      <td>Bearce</td>\n      <td>528</td>\n      <td>31</td>\n      <td>No</td>\n    </tr>\n    <tr>\n      <th>2</th>\n      <td>France</td>\n      <td>Boni</td>\n      <td>699</td>\n      <td>39</td>\n      <td>No</td>\n    </tr>\n    <tr>\n      <th>3</th>\n      <td>France</td>\n      <td>Chin</td>\n      <td>549</td>\n      <td>25</td>\n      <td>No</td>\n    </tr>\n    <tr>\n      <th>4</th>\n      <td>France</td>\n      <td>Hao</td>\n      <td>684</td>\n      <td>27</td>\n      <td>No</td>\n    </tr>\n  </tbody>\n</table>\n</div>"
     },
     "execution_count": 58,
     "metadata": {},
     "output_type": "execute_result"
    }
   ],
   "source": [
    "churn_temp = [\n",
    "    {'geography': 'France', 'surname': 'Barlett', 'credit_score': 822, 'age': 50, 'exited': 'No'},\n",
    "    {'geography': 'France', 'surname': 'Bearce', 'credit_score': 528, 'age': 31, 'exited': 'No'},\n",
    "    {'geography': 'France', 'surname': 'Boni', 'credit_score': 699, 'age': 39, 'exited': 'No'},\n",
    "    {'geography': 'France', 'surname': 'Chin', 'credit_score': 549, 'age': 25, 'exited': 'No'},\n",
    "    {'geography': 'France', 'surname': 'Hao', 'credit_score': 684, 'age': 27, 'exited': 'No'},\n",
    "        ]\n",
    "churn = pd.DataFrame(churn_temp)\n",
    "churn"
   ],
   "metadata": {
    "collapsed": false,
    "ExecuteTime": {
     "start_time": "2023-05-20T16:16:55.854072Z",
     "end_time": "2023-05-20T16:16:56.371995Z"
    }
   }
  },
  {
   "cell_type": "code",
   "execution_count": 59,
   "outputs": [
    {
     "data": {
      "text/plain": "                   credit_score  age\ngeography surname                   \nFrance    Barlett           822   50\n          Bearce            528   31\n          Boni              699   39\n          Chin              549   25\n          Hao               684   27",
      "text/html": "<div>\n<style scoped>\n    .dataframe tbody tr th:only-of-type {\n        vertical-align: middle;\n    }\n\n    .dataframe tbody tr th {\n        vertical-align: top;\n    }\n\n    .dataframe thead th {\n        text-align: right;\n    }\n</style>\n<table border=\"1\" class=\"dataframe\">\n  <thead>\n    <tr style=\"text-align: right;\">\n      <th></th>\n      <th></th>\n      <th>credit_score</th>\n      <th>age</th>\n    </tr>\n    <tr>\n      <th>geography</th>\n      <th>surname</th>\n      <th></th>\n      <th></th>\n    </tr>\n  </thead>\n  <tbody>\n    <tr>\n      <th rowspan=\"5\" valign=\"top\">France</th>\n      <th>Barlett</th>\n      <td>822</td>\n      <td>50</td>\n    </tr>\n    <tr>\n      <th>Bearce</th>\n      <td>528</td>\n      <td>31</td>\n    </tr>\n    <tr>\n      <th>Boni</th>\n      <td>699</td>\n      <td>39</td>\n    </tr>\n    <tr>\n      <th>Chin</th>\n      <td>549</td>\n      <td>25</td>\n    </tr>\n    <tr>\n      <th>Hao</th>\n      <td>684</td>\n      <td>27</td>\n    </tr>\n  </tbody>\n</table>\n</div>"
     },
     "execution_count": 59,
     "metadata": {},
     "output_type": "execute_result"
    }
   ],
   "source": [
    "churn_srt = churn.set_index([\"geography\", \"surname\"]).sort_index()\n",
    "churn_srt.loc[:, 'credit_score': 'age']"
   ],
   "metadata": {
    "collapsed": false,
    "ExecuteTime": {
     "start_time": "2023-05-20T16:22:22.996771Z",
     "end_time": "2023-05-20T16:22:23.762485Z"
    }
   }
  },
  {
   "cell_type": "code",
   "execution_count": null,
   "outputs": [],
   "source": [],
   "metadata": {
    "collapsed": false
   }
  }
 ],
 "metadata": {
  "kernelspec": {
   "display_name": "Python 3",
   "language": "python",
   "name": "python3"
  },
  "language_info": {
   "codemirror_mode": {
    "name": "ipython",
    "version": 2
   },
   "file_extension": ".py",
   "mimetype": "text/x-python",
   "name": "python",
   "nbconvert_exporter": "python",
   "pygments_lexer": "ipython2",
   "version": "2.7.6"
  }
 },
 "nbformat": 4,
 "nbformat_minor": 0
}
