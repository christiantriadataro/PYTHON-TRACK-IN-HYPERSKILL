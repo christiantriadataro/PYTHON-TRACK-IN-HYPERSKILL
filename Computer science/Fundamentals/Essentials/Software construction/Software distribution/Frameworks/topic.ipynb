{
 "cells": [
  {
   "cell_type": "markdown",
   "source": [
    "#### Frameworks"
   ],
   "metadata": {
    "collapsed": false
   }
  },
  {
   "cell_type": "markdown",
   "source": [
    "#### Theory"
   ],
   "metadata": {
    "collapsed": false
   }
  },
  {
   "cell_type": "markdown",
   "source": [
    "#### 1. What are frameworks?\n",
    "All programs are different just like snowflakes, yet it is similarities in code that we want to draw your attention to, or rather, how these similarities can be used to the developer's advantage. In programming, it is common practice to reuse code packag"
   ],
   "metadata": {
    "collapsed": false
   }
  }
 ],
 "metadata": {
  "kernelspec": {
   "display_name": "Python 3",
   "language": "python",
   "name": "python3"
  },
  "language_info": {
   "codemirror_mode": {
    "name": "ipython",
    "version": 2
   },
   "file_extension": ".py",
   "mimetype": "text/x-python",
   "name": "python",
   "nbconvert_exporter": "python",
   "pygments_lexer": "ipython2",
   "version": "2.7.6"
  }
 },
 "nbformat": 4,
 "nbformat_minor": 0
}
