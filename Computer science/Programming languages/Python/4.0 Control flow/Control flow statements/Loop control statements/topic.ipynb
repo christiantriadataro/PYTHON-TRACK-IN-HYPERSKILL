{
 "cells": [
  {
   "cell_type": "markdown",
   "source": [
    "## For Loop"
   ],
   "metadata": {
    "collapsed": false,
    "pycharm": {
     "name": "#%% md\n"
    }
   }
  },
  {
   "cell_type": "markdown",
   "source": [
    "### Theory\n",
    "Loop control statements are nested inside loops and designed to change their typical behavior. In this topic, we'll find out how they work and what they are used for.\n"
   ],
   "metadata": {
    "collapsed": false,
    "pycharm": {
     "name": "#%% md\n"
    }
   }
  },
  {
   "cell_type": "markdown",
   "source": [
    "#### 1. Break\n",
    "The **break** statement is used to terminate a loop of any type (i.e. `for` and `while` loops). It may be said that **break** \"jumps out\" of the loop where it was placed. Let's examine a tiny example:"
   ],
   "metadata": {
    "collapsed": false,
    "pycharm": {
     "name": "#%% md\n"
    }
   }
  },
  {
   "cell_type": "code",
   "execution_count": null,
   "outputs": [],
   "source": [
    "import math\n",
    "\n",
    "pets = [\"dog\", \"cat\", \"parrot\"]\n",
    "for pet in pets:\n",
    "    print(pet)\n",
    "    if pet == \"cat\":\n",
    "        break"
   ],
   "metadata": {
    "collapsed": false,
    "pycharm": {
     "name": "#%%\n"
    }
   }
  },
  {
   "cell_type": "markdown",
   "source": [
    "We wanted to stop the loop before it iterated for the last time. For that purpose, we introduced a condition when the loop should be stopped. The output is as follows:\n",
    "\n",
    "`\n",
    "dog\n",
    "cat\n",
    "`"
   ],
   "metadata": {
    "collapsed": false,
    "pycharm": {
     "name": "#%% md\n"
    }
   }
  },
  {
   "cell_type": "markdown",
   "source": [
    "Be careful where you put `print()`. If you put it at the loop's end, the output will return only the first value - 'dog'. This happens because **break** exists from the loop immediately.\n",
    "\n",
    "Often enough, **break** is used to stop endless `while` loops like this one:"
   ],
   "metadata": {
    "collapsed": false,
    "pycharm": {
     "name": "#%% md\n"
    }
   }
  },
  {
   "cell_type": "code",
   "execution_count": 1,
   "outputs": [
    {
     "name": "stdout",
     "output_type": "stream",
     "text": [
      "I am Infinite Loop\n",
      "I am Infinite Loop\n",
      "I am Infinite Loop\n",
      "I am Infinite Loop\n",
      "I am Infinite Loop\n",
      "I am Infinite Loop\n",
      "I am Infinite Loop\n",
      "I am Infinite Loop\n",
      "I am Infinite Loop\n",
      "I am Infinite Loop\n",
      "I am Infinite Loop\n",
      "I am Infinite Loop\n",
      "I am Infinite Loop\n"
     ]
    }
   ],
   "source": [
    "count = 0\n",
    "while True:\n",
    "    print(\"I am Infinite Loop\")\n",
    "    count += 1\n",
    "    if count == 13:\n",
    "        break"
   ],
   "metadata": {
    "collapsed": false,
    "pycharm": {
     "name": "#%%\n"
    }
   }
  },
  {
   "cell_type": "markdown",
   "source": [
    "#### 2. Continue\n",
    "The **continue** operator is commonly used, too. You can stop the iteration if your condition is true and return to the beginning of the loop (that is, jump to the loop's top and execution with the next value). Look at the following example:"
   ],
   "metadata": {
    "collapsed": false,
    "pycharm": {
     "name": "#%% md\n"
    }
   }
  },
  {
   "cell_type": "code",
   "execution_count": 2,
   "outputs": [
    {
     "name": "stdout",
     "output_type": "stream",
     "text": [
      "cat\n",
      "parrot\n"
     ]
    }
   ],
   "source": [
    "pets = ['dog', 'cat', 'parrot']\n",
    "for pet in pets:\n",
    "    if pet == 'dog':\n",
    "        continue\n",
    "    print(pet)"
   ],
   "metadata": {
    "collapsed": false,
    "pycharm": {
     "name": "#%%\n"
    }
   }
  },
  {
   "cell_type": "markdown",
   "source": [
    "The output will contain all values except the first one ('dog') since it fulfills the condition:\n",
    "\n",
    "`\n",
    "cat\n",
    "parrot\n",
    "`\n",
    "\n",
    "Thus, the loop just skips one value and goes on running.\n",
    "\n",
    "One nuance is worth mentioning: the **continue** operator should be used moderately. Sometimes you can shorten the code by simply using an `if` statement with the **reversed** condition:"
   ],
   "metadata": {
    "collapsed": false,
    "pycharm": {
     "name": "#%% md\n"
    }
   }
  },
  {
   "cell_type": "code",
   "execution_count": 3,
   "outputs": [
    {
     "name": "stdout",
     "output_type": "stream",
     "text": [
      "cat\n",
      "parrot\n"
     ]
    }
   ],
   "source": [
    "pets = ['dog', 'cat', 'parrot']\n",
    "for pet in pets:\n",
    "    if pet != 'dog':\n",
    "        print(pet)"
   ],
   "metadata": {
    "collapsed": false,
    "pycharm": {
     "name": "#%%\n"
    }
   }
  },
  {
   "cell_type": "markdown",
   "source": [
    "In this case, the output will remain the same:\n",
    "`\n",
    "cat\n",
    "parrot\n",
    "`"
   ],
   "metadata": {
    "collapsed": false,
    "pycharm": {
     "name": "#%% md\n"
    }
   }
  },
  {
   "cell_type": "markdown",
   "source": [
    "#### 3. Pass\n",
    "When no action is required (e.g. some condition is met, you need to take it into account in a loop, but do nothing if that's the case), in Python, you can use `pass` statement which does exactly what you need - thing. Here the program is just waiting to be manually interrupted:"
   ],
   "metadata": {
    "collapsed": false,
    "pycharm": {
     "name": "#%% md\n"
    }
   }
  },
  {
   "cell_type": "code",
   "execution_count": null,
   "outputs": [],
   "source": [
    "while True:\n",
    "    pass"
   ],
   "metadata": {
    "collapsed": false,
    "pycharm": {
     "name": "#%%\n"
    }
   }
  },
  {
   "cell_type": "markdown",
   "source": [
    "#### 4. Summary\n",
    "To sum up, loop control statements  represents a useful tool to alter the way a loop works. You can introduce extra conditions using the `break`, `continue`, and `pass` operators. In addition, they allow you to skip a beforehand selected set of values, terminate an endless loop, or even do nothing. Use them wisely and they'll work wonders."
   ],
   "metadata": {
    "collapsed": false,
    "pycharm": {
     "name": "#%% md\n"
    }
   }
  },
  {
   "cell_type": "code",
   "execution_count": 12,
   "outputs": [
    {
     "name": "stdout",
     "output_type": "stream",
     "text": [
      "0\n"
     ]
    }
   ],
   "source": [
    "prime = int(input())\n",
    "print(prime % 1)"
   ],
   "metadata": {
    "collapsed": false,
    "pycharm": {
     "name": "#%%\n"
    }
   }
  },
  {
   "cell_type": "code",
   "execution_count": 17,
   "outputs": [
    {
     "name": "stdout",
     "output_type": "stream",
     "text": [
      "1.7320508075688772\n",
      "True\n"
     ]
    }
   ],
   "source": [
    "import math\n",
    "num = 3\n",
    "print(math.sqrt(num))\n",
    "print(4 * 2 > math.sqrt(num) * math.sqrt(num))"
   ],
   "metadata": {
    "collapsed": false,
    "pycharm": {
     "name": "#%%\n"
    }
   }
  },
  {
   "cell_type": "code",
   "execution_count": 24,
   "outputs": [
    {
     "name": "stdout",
     "output_type": "stream",
     "text": [
      "This number is prime\n"
     ]
    }
   ],
   "source": [
    "import math\n",
    "\n",
    "prime_message = \"This number is prime\"\n",
    "not_prime_message = \"This number is not prime\"\n",
    "number = int(input())\n",
    "is_divisible = False\n",
    "\n",
    "for num in range(1, number):\n",
    "    if math.sqrt(number) % num == 0:\n",
    "        is_divisible = True\n",
    "        break\n",
    "print(prime_message if is_divisible == False else not_prime_message)\n"
   ],
   "metadata": {
    "collapsed": false,
    "pycharm": {
     "name": "#%%\n"
    }
   }
  },
  {
   "cell_type": "code",
   "execution_count": 29,
   "outputs": [
    {
     "name": "stdout",
     "output_type": "stream",
     "text": [
      "152\n"
     ]
    }
   ],
   "source": [
    "squares = 0\n",
    "summ = 0\n",
    "while True:\n",
    "    num = int(input())\n",
    "    summ += num\n",
    "    squares += num ** 2\n",
    "    if summ == 0:\n",
    "        break\n",
    "print(squares)"
   ],
   "metadata": {
    "collapsed": false,
    "pycharm": {
     "name": "#%%\n"
    }
   }
  },
  {
   "cell_type": "code",
   "execution_count": null,
   "outputs": [],
   "source": [
    "nums = [int(input())]\n",
    "\n",
    "while sum(nums):\n",
    "    nums.append(int(input()))\n",
    "\n",
    "print(sum(n * n for n in nums))"
   ],
   "metadata": {
    "collapsed": false,
    "pycharm": {
     "name": "#%%\n"
    }
   }
  }
 ],
 "metadata": {
  "kernelspec": {
   "display_name": "Python 3",
   "language": "python",
   "name": "python3"
  },
  "language_info": {
   "codemirror_mode": {
    "name": "ipython",
    "version": 2
   },
   "file_extension": ".py",
   "mimetype": "text/x-python",
   "name": "python",
   "nbconvert_exporter": "python",
   "pygments_lexer": "ipython2",
   "version": "2.7.6"
  }
 },
 "nbformat": 4,
 "nbformat_minor": 0
}