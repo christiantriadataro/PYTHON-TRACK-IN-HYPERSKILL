{
 "cells": [
  {
   "cell_type": "markdown",
   "source": [
    "### Else statement"
   ],
   "metadata": {
    "collapsed": false,
    "pycharm": {
     "name": "#%% md\n"
    }
   }
  },
  {
   "cell_type": "markdown",
   "source": [
    "#### Theory\n",
    "Setting conditions is a pretty popular and useful tool in programming. However, sometimes just to check if a condition is true or not might not be enough. Let's say, you don't want a piece of code to execute if your condition is false, but, if that's the case, there is another piece of code you do want to execute. For situations like this Python has another powerful tool about which we're gonna learn in this topic!"
   ],
   "metadata": {
    "collapsed": false,
    "pycharm": {
     "name": "#%% md\n"
    }
   }
  },
  {
   "cell_type": "markdown",
   "source": [
    "#### 1. Simple if-else\n",
    "An **if-else statement** is another type of conditional expression in Python. It differs from an **if statement** by the presence of the additional keyword `else`. The block of code that `else` contains executes when the condition of your if statement does not hold (the Boolean value is `False`). Since an else statement is an alternative for an if statement, only one block fo code can be executed. Also, `else` doesn't require any condition:\n"
   ],
   "metadata": {
    "collapsed": false,
    "pycharm": {
     "name": "#%% md\n"
    }
   }
  },
  {
   "cell_type": "code",
   "execution_count": null,
   "outputs": [],
   "source": [
    "if today == \"holiday\":\n",
    "    print(\"Lucky you!\")\n",
    "else:\n",
    "    print(\"Keep your chin up, then.\")"
   ],
   "metadata": {
    "collapsed": false,
    "pycharm": {
     "name": "#%%\n"
    }
   }
  },
  {
   "cell_type": "markdown",
   "source": [
    "Note that 4-space **indentation** rule applies here too.\n",
    "\n",
    "As you may soon find out, programmers do like all sorts of shortcuts. For conditional expressions, there's a trick as well - you can write an if-else statement in one line. This is called a **ternary operator** and it looks like this:"
   ],
   "metadata": {
    "collapsed": false,
    "pycharm": {
     "name": "#%% md\n"
    }
   }
  },
  {
   "cell_type": "code",
   "execution_count": null,
   "outputs": [],
   "source": [
    "print(\"It's a day now!\" if sun else \"It's a night for sure!\")"
   ],
   "metadata": {
    "collapsed": false,
    "pycharm": {
     "name": "#%%\n"
    }
   }
  },
  {
   "cell_type": "markdown",
   "source": [
    "Or, more generally:"
   ],
   "metadata": {
    "collapsed": false,
    "pycharm": {
     "name": "#%% md\n"
    }
   }
  },
  {
   "cell_type": "code",
   "execution_count": null,
   "outputs": [],
   "source": [
    "# first_alternative if condition else second_alternative"
   ],
   "metadata": {
    "collapsed": false,
    "pycharm": {
     "name": "#%%\n"
    }
   }
  },
  {
   "cell_type": "markdown",
   "source": [
    "It's a matter of convenience, but remember that the code you create should still be readable."
   ],
   "metadata": {
    "collapsed": false,
    "pycharm": {
     "name": "#%% md\n"
    }
   }
  },
  {
   "cell_type": "markdown",
   "source": [
    "#### 2. Nested if-else\n",
    "It should be mentioned that `if-else` statement can be **nested** the same way as `if` statements. An additional conditional expression may appear after the `if` section as well as after the `else` section. Once again, don't forget to indent properly:"
   ],
   "metadata": {
    "collapsed": false,
    "pycharm": {
     "name": "#%% md\n"
    }
   }
  },
  {
   "cell_type": "code",
   "execution_count": null,
   "outputs": [],
   "source": [
    "if x < 100:\n",
    "    print(\"x < 100\")\n",
    "else:\n",
    "    if x == 100:\n",
    "        print(\"x = 100\")\n",
    "    else:\n",
    "        print(\"x > 100\")\n",
    "    print(\"This will be printed only because x >= 100\")"
   ],
   "metadata": {
    "collapsed": false,
    "pycharm": {
     "name": "#%%\n"
    }
   }
  },
  {
   "cell_type": "markdown",
   "source": [
    "#### 3. Summary\n",
    "In this topic, we've learned about one more type of conditional expression: if-else statement. Let's go through the main points again:\n",
    "* the keyword `else` is used to give an alternative;\n",
    "* it will be executed in case `if` statement isn't;\n",
    "* it doesn't require any condition;\n",
    "* `if-else` statements can be nested.\n",
    "\n",
    "That's it! Now you are ready not only to set conditions but also to consider different alternatives. Congratulations!"
   ],
   "metadata": {
    "collapsed": false,
    "pycharm": {
     "name": "#%% md\n"
    }
   }
  },
  {
   "cell_type": "code",
   "execution_count": 6,
   "outputs": [
    {
     "name": "stdout",
     "output_type": "stream",
     "text": [
      "333\n"
     ]
    }
   ],
   "source": [
    "print(111 * 3)"
   ],
   "metadata": {
    "collapsed": false,
    "pycharm": {
     "name": "#%%\n"
    }
   }
  },
  {
   "cell_type": "code",
   "execution_count": null,
   "outputs": [],
   "source": [],
   "metadata": {
    "collapsed": false,
    "pycharm": {
     "name": "#%%\n"
    }
   }
  }
 ],
 "metadata": {
  "kernelspec": {
   "display_name": "Python 3",
   "language": "python",
   "name": "python3"
  },
  "language_info": {
   "codemirror_mode": {
    "name": "ipython",
    "version": 2
   },
   "file_extension": ".py",
   "mimetype": "text/x-python",
   "name": "python",
   "nbconvert_exporter": "python",
   "pygments_lexer": "ipython2",
   "version": "2.7.6"
  }
 },
 "nbformat": 4,
 "nbformat_minor": 0
}