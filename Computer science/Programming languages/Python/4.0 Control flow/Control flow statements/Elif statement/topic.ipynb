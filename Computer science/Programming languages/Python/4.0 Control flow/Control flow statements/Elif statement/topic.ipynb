{
 "cells": [
  {
   "cell_type": "markdown",
   "source": [
    "### Elif statement"
   ],
   "metadata": {
    "collapsed": false,
    "pycharm": {
     "name": "#%% md\n"
    }
   }
  },
  {
   "cell_type": "markdown",
   "source": [
    "#### Theory\n",
    "Since you are familiar with basic conditional statements, such as **if** statement and **if-else** statement, it's time for the more advanced **elif statement**.\n",
    "\n",
    "An **elif statement** is used when we want to specify several conditions in our code. How does it differ from **if-else statements*? Well, it's simple. Here we add the **elif** keyword for our additional conditions. It is mostly used with both if and else operators and the basic syntax looks like this:"
   ],
   "metadata": {
    "collapsed": false,
    "pycharm": {
     "name": "#%% md\n"
    }
   }
  },
  {
   "cell_type": "code",
   "execution_count": null,
   "outputs": [],
   "source": [
    "# basic elif syntax\n",
    "if condition1:\n",
    "    action1\n",
    "elif condition2:\n",
    "    action2\n",
    "else:\n",
    "    action3"
   ],
   "metadata": {
    "collapsed": false,
    "pycharm": {
     "name": "#%%\n"
    }
   }
  },
  {
   "cell_type": "markdown",
   "source": [
    "The condition is followed by a color, just like with the **if-else** statements, the desired action is placed within the **elif** body and don't forget about an **indentation**, i.e., 4 spaces at the beginning of a new line. Here we first check the condition1 in the **if** statement and if it holds (the value of the Boolean expression is **True), action1 is performed. If it is **False**, we skip action1 and then check the condition2 in the **elif** statement. Again, if condition2 is True, action2 is performed, otherwise, we skip it and go to the **else** part of the code.\n",
    "\n",
    "Let's take a look at the example below:"
   ],
   "metadata": {
    "collapsed": false,
    "pycharm": {
     "name": "#%% md\n"
    }
   }
  },
  {
   "cell_type": "code",
   "execution_count": null,
   "outputs": [],
   "source": [
    "# elif example\n",
    "price = 10_000  # there should be some int value\n",
    "if price > 5_000:\n",
    "    print(\"That's too expensive!\")\n",
    "elif price > 500:\n",
    "    print(\"I can afford that!\")\n",
    "else:\n",
    "    print(\"That's too cheap!\")"
   ],
   "metadata": {
    "collapsed": false,
    "pycharm": {
     "name": "#%%\n"
    }
   }
  },
  {
   "cell_type": "markdown",
   "source": [
    "To buy or not to buy? To answer the question we first check if the price is higher than 5000. If 'price > 5000' is True, we print that it's too expensive and set off, looking for something cheaper. But what if the price was less than or equal to 5000? In this case, we check the next condition 'price > 500', and again, if it is True, we print out that we can afford that ,and if it False, we go to the **else** block and print that it's too cheap. So \"I can afford it!\" will be printed if the price is less than or equal to 5000 but  more than 500, and \"That's too cheap\" if the price is lower than or equal to 500.\n",
    "\n",
    "**Elif** statement differs from **else** in one key aspect: it represents another specific option while **else** fits all cases that don't fall into the condition given in the **if** statement. That's why sometimes you may encounter conditional statements without **else**:"
   ],
   "metadata": {
    "collapsed": false,
    "pycharm": {
     "name": "#%% md\n"
    }
   }
  },
  {
   "cell_type": "code",
   "execution_count": 1,
   "outputs": [
    {
     "name": "stdout",
     "output_type": "stream",
     "text": [
      "Oh, you are a cat person, Meow!\n"
     ]
    }
   ],
   "source": [
    "pet = \"cat\" # or \"dog\"?\n",
    "\n",
    "# cat vs dog conditional\n",
    "if pet == \"cat\":\n",
    "    print(\"Oh, you are a cat person, Meow!\")\n",
    "elif pet == \"dog\":\n",
    "    print(\"Oh, you are a dog person, Woof!\")"
   ],
   "metadata": {
    "collapsed": false,
    "pycharm": {
     "name": "#%%\n"
    }
   }
  },
  {
   "cell_type": "markdown",
   "source": [
    "In this example, it's possible to add an **else** statement to slightly expand the perspective, but it's not necessary if we are only interested in dogs and cats."
   ],
   "metadata": {
    "collapsed": false,
    "pycharm": {
     "name": "#%% md\n"
    }
   }
  },
  {
   "cell_type": "markdown",
   "source": [
    "#### 1. Why elif and not if?\n",
    "The last example probably made you wonder: why did we use an `elif` statement instead of just two `if` statements? Wouldn't two `if` statements be easier?"
   ],
   "metadata": {
    "collapsed": false,
    "pycharm": {
     "name": "#%% md\n"
    }
   }
  },
  {
   "cell_type": "code",
   "execution_count": 3,
   "outputs": [
    {
     "name": "stdout",
     "output_type": "stream",
     "text": [
      "Oh, you are a cat person. Meow!\n"
     ]
    }
   ],
   "source": [
    "if pet == \"cat\":\n",
    "    print(\"Oh, you are a cat person. Meow!\")\n",
    "if pet == \"dog\":\n",
    "    print(\"Oh, you are a dog person.Woof!\")"
   ],
   "metadata": {
    "collapsed": false,
    "pycharm": {
     "name": "#%%\n"
    }
   }
  },
  {
   "cell_type": "markdown",
   "source": [
    "In this particular case, th result would be the same as with `elif` But this wouldn't work as needed for the first example of this topic:"
   ],
   "metadata": {
    "collapsed": false,
    "pycharm": {
     "name": "#%% md\n"
    }
   }
  },
  {
   "cell_type": "code",
   "execution_count": 4,
   "outputs": [
    {
     "name": "stdout",
     "output_type": "stream",
     "text": [
      "That's too expensive!\n",
      "I can afford that!\n"
     ]
    }
   ],
   "source": [
    "price = 6000\n",
    "if price > 5000:\n",
    "    print(\"That's too expensive!\")\n",
    "if price > 500:\n",
    "    print(\"I can afford that!\")\n",
    "else:\n",
    "    print(\"That's too cheap!\")\n",
    "# The output is \"That's too expensive/nI can afford that!"
   ],
   "metadata": {
    "collapsed": false,
    "pycharm": {
     "name": "#%%\n"
    }
   }
  },
  {
   "cell_type": "markdown",
   "source": [
    "See? We got two contradicting messages instead of one that we originally intended to output. The difference between the above examples is that in the example with pets, the cases described by conditional statements are *mutually exclusive*, that is, there's no string that would be equal both to `'dog'` and `'cat`' at the same time. In the other example, the cases aren't mutually, exclusive, and there are values for `price` that can satisfy both conditions.\n",
    "\n",
    "So, an `elif` statement is better alternative than two `if` statements when you want to show that only one of the conditions is supposed to be satisfied. A chain of `if` statements implies that the conditions stated in them are totally unrelated and can be satisfied independently of each other, like in the following example:"
   ],
   "metadata": {
    "collapsed": false,
    "pycharm": {
     "name": "#%% md\n"
    }
   }
  },
  {
   "cell_type": "code",
   "execution_count": 5,
   "outputs": [
    {
     "name": "stdout",
     "output_type": "stream",
     "text": [
      "This animal is a horse\n"
     ]
    }
   ],
   "source": [
    "animal = \"unicorn\"\n",
    "if animal in \"crow, dog, from, pony\":\n",
    "    print(\"This anima exists\")\n",
    "if animal in \"unicorn, pegasus, pony\":\n",
    "    print(\"This animal is a horse\")"
   ],
   "metadata": {
    "collapsed": false,
    "pycharm": {
     "name": "#%%\n"
    }
   }
  },
  {
   "cell_type": "markdown",
   "source": [
    "With this distinction in mind, you'll be able to make your code more clear and less error-prone. Now, let's get back to studying `elif` functionality."
   ],
   "metadata": {
    "collapsed": false,
    "pycharm": {
     "name": "#%% md\n"
    }
   }
  },
  {
   "cell_type": "markdown",
   "source": [
    "#### 2. Multiple elifs and a decision tree\n",
    "There can be as many **elif** statements as you need, so your conditions can be very detailed. No matter how many **elif** statements  you have, the syntax is always the same. The only difference is that we add more **elifs**:"
   ],
   "metadata": {
    "collapsed": false,
    "pycharm": {
     "name": "#%% md\n"
    }
   }
  },
  {
   "cell_type": "code",
   "execution_count": 6,
   "outputs": [
    {
     "ename": "IndentationError",
     "evalue": "expected an indented block (4156051875.py, line 9)",
     "output_type": "error",
     "traceback": [
      "\u001B[1;36m  Input \u001B[1;32mIn [6]\u001B[1;36m\u001B[0m\n\u001B[1;33m    else:\u001B[0m\n\u001B[1;37m         ^\u001B[0m\n\u001B[1;31mIndentationError\u001B[0m\u001B[1;31m:\u001B[0m expected an indented block\n"
     ]
    }
   ],
   "source": [
    "# multiple elifs syntax\n",
    "if condition1:\n",
    "    action1\n",
    "elif condition2:\n",
    "    action2\n",
    "# here you can add as many elifs as you need\n",
    "elif conditionN:\n",
    "    actionN\n",
    "else:\n",
    "    actionN1"
   ],
   "metadata": {
    "collapsed": false,
    "pycharm": {
     "name": "#%%\n"
    }
   }
  },
  {
   "cell_type": "markdown",
   "source": [
    "The code inside the **else** block is executed only if all conditions before it are **False**. See the following example:"
   ],
   "metadata": {
    "collapsed": false,
    "pycharm": {
     "name": "#%% md\n"
    }
   }
  },
  {
   "cell_type": "code",
   "execution_count": 7,
   "outputs": [
    {
     "name": "stdout",
     "output_type": "stream",
     "text": [
      "Just wait.\n"
     ]
    }
   ],
   "source": [
    "# multiple elifs example\n",
    "light = \"red\"   # there can be any other value\n",
    "if light == \"green\":\n",
    "    print(\"You can go!\")\n",
    "elif light == \"yellow\":\n",
    "    print(\"Get ready!\")\n",
    "elif light == \"red\":\n",
    "    print(\"Just wait.\")\n",
    "else:\n",
    "    print(\"No such traffic light color, do whatever you want\")"
   ],
   "metadata": {
    "collapsed": false,
    "pycharm": {
     "name": "#%%\n"
    }
   }
  },
  {
   "cell_type": "markdown",
   "source": [
    "In this program, the message from the **else** block is printed for the light of any color except green, yellow and red for which we've written special messages.\n",
    "\n",
    "Conditionals with multiple branches make a **decision tree**, in which a node is a Boolean expression and branches are marked with either **True** or **False**. The branch marked as True leads to the action that has to be executed, and the False branch leads to the next condition. The picture below shows such a decision tree of our example with traffic lights.\n",
    "\n",
    "![](https://ucarecdn.com/8f7d80be-494d-4599-85a9-c917d5b77cf7/)"
   ],
   "metadata": {
    "collapsed": false,
    "pycharm": {
     "name": "#%% md\n"
    }
   }
  },
  {
   "cell_type": "markdown",
   "source": [
    "#### 3. Nested elif statements\n",
    "\n",
    "Elif statements can also be **nested**, just like **if-else** statements. We can rewrite our example of traffic lights with nested conditionals:"
   ],
   "metadata": {
    "collapsed": false,
    "pycharm": {
     "name": "#%% md\n"
    }
   }
  },
  {
   "cell_type": "code",
   "execution_count": 8,
   "outputs": [
    {
     "name": "stdout",
     "output_type": "stream",
     "text": [
      "No such traffic light color, do whatever you want\n"
     ]
    }
   ],
   "source": [
    "# nested elifs example\n",
    "traffic_lights = \"green, yellow, red\"\n",
    "# a string with one color\n",
    "light = \"purple\"    # variable for color name\n",
    "if light in traffic_lights:\n",
    "    if light == \"green\":\n",
    "        print(\"You can go!\")\n",
    "    elif light == \"yellow\":\n",
    "        print(\"Get ready1\")\n",
    "    else:\n",
    "        # if the lights are red\n",
    "        print(\"Just wait.\")\n",
    "else:\n",
    "    print(\"No such traffic light color, do whatever you want\")"
   ],
   "metadata": {
    "collapsed": false,
    "pycharm": {
     "name": "#%%\n"
    }
   }
  },
  {
   "cell_type": "markdown",
   "source": [
    "#### 4. Summary\n",
    "In this topic, we familiarized ourselves with elif-statement and learned when it might be helpful, how to use and nest it or make decision tree with it. Since you have mastered the topic of conditionals, from now on you can make your program do what you want when you want it!"
   ],
   "metadata": {
    "collapsed": false,
    "pycharm": {
     "name": "#%% md\n"
    }
   }
  },
  {
   "cell_type": "code",
   "execution_count": 11,
   "outputs": [
    {
     "name": "stdout",
     "output_type": "stream",
     "text": [
      "Deficiency\n"
     ]
    }
   ],
   "source": [
    "A, B, H = int(input()), int(input()), int(input())\n",
    "if H < A:\n",
    "    print(\"Deficiency\")\n",
    "elif H > B:\n",
    "    print(\"Excess\")\n",
    "else:\n",
    "    print(\"Normal\")"
   ],
   "metadata": {
    "collapsed": false,
    "pycharm": {
     "name": "#%%\n"
    }
   }
  },
  {
   "cell_type": "code",
   "execution_count": 14,
   "outputs": [
    {
     "name": "stdout",
     "output_type": "stream",
     "text": [
      "Trainspotting\n"
     ]
    }
   ],
   "source": [
    "age = int(input())\n",
    "\n",
    "if age <= 16:\n",
    "    print(\"Lion King\")\n",
    "elif 17 <= age <= 25:\n",
    "    print(\"Trainspotting\")\n",
    "elif 26 <= age <= 40:\n",
    "    print(\"Matrix\")\n",
    "elif 41 <= age <= 60:\n",
    "    print(\"Pulp Fiction\")\n",
    "else:\n",
    "    print(\"Breakfast at Tiffany's\")"
   ],
   "metadata": {
    "collapsed": false,
    "pycharm": {
     "name": "#%%\n"
    }
   }
  },
  {
   "cell_type": "code",
   "execution_count": null,
   "outputs": [],
   "source": [
    "index = float(input())\n",
    "if index < 2:\n",
    "    print(\"Analytic\")\n",
    "elif 2 <= index <= 3:\n",
    "    print(\"Synthetic\")\n",
    "else:\n",
    "    print(\"Polysynthetic\")"
   ],
   "metadata": {
    "collapsed": false,
    "pycharm": {
     "name": "#%%\n"
    }
   }
  }
 ],
 "metadata": {
  "kernelspec": {
   "display_name": "Python 3",
   "language": "python",
   "name": "python3"
  },
  "language_info": {
   "codemirror_mode": {
    "name": "ipython",
    "version": 2
   },
   "file_extension": ".py",
   "mimetype": "text/x-python",
   "name": "python",
   "nbconvert_exporter": "python",
   "pygments_lexer": "ipython2",
   "version": "2.7.6"
  }
 },
 "nbformat": 4,
 "nbformat_minor": 0
}