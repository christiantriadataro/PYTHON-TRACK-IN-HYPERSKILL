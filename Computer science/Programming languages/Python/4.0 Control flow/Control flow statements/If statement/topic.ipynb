{
 "cells": [
  {
   "cell_type": "markdown",
   "source": [
    "### If statement"
   ],
   "metadata": {
    "collapsed": false,
    "pycharm": {
     "name": "#%% md\n"
    }
   }
  },
  {
   "cell_type": "markdown",
   "source": [
    "#### Theory\n",
    "There are situations when your program needs to execute some piece of code only if a particular condition is met. It's possible to set that condition in Python and, in this topic, we're gonna learn how!"
   ],
   "metadata": {
    "collapsed": false,
    "pycharm": {
     "name": "#%% md\n"
    }
   }
  },
  {
   "cell_type": "markdown",
   "source": [
    "#### 1. Simple if statement\n",
    "So, in Python, a piece of code that should be executed only under some condition should be placed within the body of an **if statement**. The pattern is the same as in the English language: first comes the keyword `if`, then a condition, and then a list of expressions to execute. The condition is always a **Boolean expression**, that is, its value equals either `True` or `False`. Here is one example of how the code with a conditional expression should look like:"
   ],
   "metadata": {
    "collapsed": false,
    "pycharm": {
     "name": "#%% md\n"
    }
   }
  },
  {
   "cell_type": "code",
   "execution_count": 2,
   "outputs": [
    {
     "name": "stdout",
     "output_type": "stream",
     "text": [
      "It's time for tea!\n"
     ]
    }
   ],
   "source": [
    "biscuits = 17\n",
    "if biscuits >= 5:\n",
    "    print(\"It's time for tea!\")"
   ],
   "metadata": {
    "collapsed": false,
    "pycharm": {
     "name": "#%%\n"
    }
   }
  },
  {
   "cell_type": "markdown",
   "source": [
    "Note that the condition ends with a colon and a new line starts with an **indentation**. Usually, 4 spaces are used to designate each level of indentation. A piece of code in which all lines are on the same level of indentation is called a **block of code**. In Python, *only* indentation is used to separate different blocks of code, hence, only indentation shows which lines of code are supposed to be executed when the `if` statement is satisfied, and which ones should be executed *independently* of the `if` statement. Check out the following example:"
   ],
   "metadata": {
    "collapsed": false,
    "pycharm": {
     "name": "#%% md\n"
    }
   }
  },
  {
   "cell_type": "code",
   "execution_count": 3,
   "outputs": [
    {
     "name": "stdout",
     "output_type": "stream",
     "text": [
      "It's time for tea!\n",
      "What tea do you prefer?\n",
      "What about some chocolate?\n"
     ]
    }
   ],
   "source": [
    "if biscuits >= 5:\n",
    "    print(\"It's time for tea!\")\n",
    "    print(\"What tea do you prefer?\")\n",
    "print(\"What about some chocolate?\")"
   ],
   "metadata": {
    "collapsed": false,
    "pycharm": {
     "name": "#%%\n"
    }
   }
  },
  {
   "cell_type": "markdown",
   "source": [
    "In this example, the line `\"It's time for tea!\"`, as well as `\"What tea do you prefer?\"`, will be printed only if there are 5 or more biscuits. The line `\"What about some chocolate?\"` will be printed regardless of the number of biscuits.\n",
    "\n",
    "An `if` statement is executed only if its condition holds (the Boolean value is `True`), otherwise, it's skipped.\n",
    "\n",
    "Boolean values basically make it clear whether a piece of code needs to executed or not. Since comparisons result in `bool`, it's always a good idea to use them as a condition."
   ],
   "metadata": {
    "collapsed": false,
    "pycharm": {
     "name": "#%% md\n"
    }
   }
  },
  {
   "cell_type": "markdown",
   "source": [
    "<div>\n",
    "    There is one pitfall, though. You should not confuse the comparison operator for equality `==` with the assignment operator `=`. Only the former provides for a proper condition. Try to avoid this common mistake in your code.\n",
    "</div>"
   ],
   "metadata": {
    "collapsed": false,
    "pycharm": {
     "name": "#%% md\n"
    }
   }
  },
  {
   "cell_type": "markdown",
   "source": [
    "#### 2. Nested if statement\n",
    "Sometimes a condition happens to be too complicated for a simple `if` statement. In this case, you can use so-called **nested** `if` statements. The more `if` statements are nested, the more complex your code gets, which is usually not a good thing. However, this doesn't mean that you need to avoid nested `if` statements at all costs.\n",
    "Let's take a look at the code below:"
   ],
   "metadata": {
    "collapsed": false,
    "pycharm": {
     "name": "#%% md\n"
    }
   }
  },
  {
   "cell_type": "code",
   "execution_count": 1,
   "outputs": [
    {
     "name": "stdout",
     "output_type": "stream",
     "text": [
      "Wow, your color is in the rainbow!\n",
      "Oh, by the way, it's a warm color.\n"
     ]
    }
   ],
   "source": [
    "rainbow = \"red, orange, yellow, green, blue, indigo, violet\"\n",
    "warm_colors = \"red, yellow, orange\"\n",
    "my_color = \"orange\"\n",
    "\n",
    "if my_color in rainbow:\n",
    "    print(\"Wow, your color is in the rainbow!\")\n",
    "    if my_color in warm_colors:\n",
    "        print(\"Oh, by the way, it's a warm color.\")"
   ],
   "metadata": {
    "collapsed": false,
    "pycharm": {
     "name": "#%%\n"
    }
   }
  },
  {
   "cell_type": "markdown",
   "source": [
    "The example above illustrates a nested `if` statement. If the variable `my_color` is a string that contains the name of a color from the rainbow, we enter the body of the first `if` statement. First, we print the message and then check if our belongs to the warm colors. The membership operator `in` simply shows whether `my_color` is a substring of the respective string, `rainbow` or `warm_colors`. Just like arithmetic comparisons, it returns a boolean value.\n",
    "\n",
    "Here is what we will see in our case:\n",
    "`\n",
    "Wow, your color is in the rainbow!\n",
    "Oh, by the way, it's a warm color.\n",
    "`\n",
    "\n",
    "When it comes to nested `if` statements, proper indentation is crucial, so do not forget to indent each statement that starts with the `if` keyword."
   ],
   "metadata": {
    "collapsed": false,
    "pycharm": {
     "name": "#%% md\n"
    }
   }
  },
  {
   "cell_type": "markdown",
   "source": [
    "#### 3. Summary\n",
    "To sum up, in this topic, we've learned how to write and nest conditions in Python with if-statements."
   ],
   "metadata": {
    "collapsed": false,
    "pycharm": {
     "name": "#%% md\n"
    }
   }
  },
  {
   "cell_type": "code",
   "execution_count": 8,
   "outputs": [
    {
     "name": "stdout",
     "output_type": "stream",
     "text": [
      "3 students\n"
     ]
    }
   ],
   "source": [
    "number = 3\n",
    "word = \"student\"\n",
    "\n",
    "# write a condition for plurals\n",
    "if number != 1:\n",
    "    word += \"s\"\n",
    "\n",
    "print(number, word)\n"
   ],
   "metadata": {
    "collapsed": false,
    "pycharm": {
     "name": "#%%\n"
    }
   }
  },
  {
   "cell_type": "markdown",
   "source": [],
   "metadata": {
    "collapsed": false,
    "pycharm": {
     "name": "#%% md\n"
    }
   }
  }
 ],
 "metadata": {
  "kernelspec": {
   "display_name": "Python 3",
   "language": "python",
   "name": "python3"
  },
  "language_info": {
   "codemirror_mode": {
    "name": "ipython",
    "version": 2
   },
   "file_extension": ".py",
   "mimetype": "text/x-python",
   "name": "python",
   "nbconvert_exporter": "python",
   "pygments_lexer": "ipython2",
   "version": "2.7.6"
  }
 },
 "nbformat": 4,
 "nbformat_minor": 0
}