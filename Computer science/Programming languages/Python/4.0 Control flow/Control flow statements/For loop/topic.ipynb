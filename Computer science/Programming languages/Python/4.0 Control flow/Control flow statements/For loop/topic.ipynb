{
 "cells": [
  {
   "cell_type": "markdown",
   "source": [
    "## For Loop"
   ],
   "metadata": {
    "collapsed": false,
    "pycharm": {
     "name": "#%% md\n"
    }
   }
  },
  {
   "cell_type": "markdown",
   "source": [
    "### Theory\n",
    "Computers are known for their ability to do things that people consider to be boring and energy-consuming. For example, repeating identical tasks without any errors is one of these things. In this topic, we'll learn what Python tool can help you with that, how to implement it, and what functions you can use along with it."
   ],
   "metadata": {
    "collapsed": false,
    "pycharm": {
     "name": "#%% md\n"
    }
   }
  },
  {
   "cell_type": "markdown",
   "source": [
    "#### 1. What is iteration?\n",
    "In Python, the process of repetitive execution of the same block of code is called an **iteration**.\n",
    "\n",
    "There are two types of iteration:\n",
    "\n",
    "**Definite iteration**, where the number of repetitions is stated in advance.\n",
    "\n",
    "**Indefinite iteration**, where a code block executes as long as the condition stated in advance is true.\n",
    "\n",
    "After the first iteration, the program comes back to the beginning of the code's body and repeats it, making a so-called **loop**. The most popular is the `for` loop, named after the `for` operator, which provides the code's execution. `For` loops are usually considered to be definite."
   ],
   "metadata": {
    "collapsed": false,
    "pycharm": {
     "name": "#%% md\n"
    }
   }
  },
  {
   "cell_type": "markdown",
   "source": [
    "#### 2. For loop syntax\n",
    "Here is the scheme of the loop:\n",
    "`\n",
    "for variable in iterable:\n",
    "    statement\n",
    "`\n",
    "\n",
    "where `statement` is a block of operations executed for each item in `iterable`, an object used in iteration(e.g., a string or a list). `Variable` takes the value of the next iterm from the iterable after each iteration.\n",
    "\n",
    "Now try to guess what output we'll get if we execute the following piece of code:"
   ],
   "metadata": {
    "collapsed": false,
    "pycharm": {
     "name": "#%% md\n"
    }
   }
  },
  {
   "cell_type": "code",
   "execution_count": 2,
   "outputs": [
    {
     "name": "stdout",
     "output_type": "stream",
     "text": [
      "Atlantic\n",
      "Pacific\n",
      "Indian\n",
      "Southern\n",
      "Arctic\n"
     ]
    }
   ],
   "source": [
    "oceans = [\"Atlantic\", \"Pacific\", \"Indian\", \"Southern\", \"Arctic\"]\n",
    "for ocean in oceans:\n",
    "    print(ocean)"
   ],
   "metadata": {
    "collapsed": false,
    "pycharm": {
     "name": "#%%\n"
    }
   }
  },
  {
   "cell_type": "markdown",
   "source": [
    "During each iteration, the program will take one item from the list and execute the statements on it, so the final output will be:\n",
    "\n",
    "`\n",
    "Atlantic\n",
    "Pacific\n",
    "Indian\n",
    "Southern\n",
    "Arctic\n",
    "`\n",
    "\n",
    "Strings are also iterable, so you can spell a word, for example:"
   ],
   "metadata": {
    "collapsed": false,
    "pycharm": {
     "name": "#%% md\n"
    }
   }
  },
  {
   "cell_type": "code",
   "execution_count": 3,
   "outputs": [
    {
     "name": "stdout",
     "output_type": "stream",
     "text": [
      "m\n",
      "a\n",
      "g\n",
      "i\n",
      "c\n"
     ]
    }
   ],
   "source": [
    "for char in \"magic\":\n",
    "    print(char)"
   ],
   "metadata": {
    "collapsed": false,
    "pycharm": {
     "name": "#%%\n"
    }
   }
  },
  {
   "cell_type": "markdown",
   "source": [
    "Like this:\n",
    "`\n",
    "m\n",
    "a\n",
    "g\n",
    "i\n",
    "c\n",
    "`"
   ],
   "metadata": {
    "collapsed": false,
    "pycharm": {
     "name": "#%% md\n"
    }
   }
  },
  {
   "cell_type": "markdown",
   "source": [
    "#### 3. Range function\n",
    "The `range()` function can be used to specify the number of iterations. It returns a sequence of numbers from 0 (by default) and ends at a specified number. Be careful: the last number won't be in the output since we started from 0.\n",
    "\n",
    "Let's look at the example below:"
   ],
   "metadata": {
    "collapsed": false,
    "pycharm": {
     "name": "#%% md\n"
    }
   }
  },
  {
   "cell_type": "code",
   "execution_count": 4,
   "outputs": [
    {
     "name": "stdout",
     "output_type": "stream",
     "text": [
      "0\n",
      "1\n",
      "2\n",
      "3\n",
      "4\n"
     ]
    }
   ],
   "source": [
    "for i in range(5):\n",
    "    print(i)"
   ],
   "metadata": {
    "collapsed": false,
    "pycharm": {
     "name": "#%%\n"
    }
   }
  },
  {
   "cell_type": "markdown",
   "source": [
    "What we'll get is this:\n",
    "`\n",
    "0\n",
    "1\n",
    "2\n",
    "3\n",
    "4\n",
    "`"
   ],
   "metadata": {
    "collapsed": false,
    "pycharm": {
     "name": "#%% md\n"
    }
   }
  },
  {
   "cell_type": "markdown",
   "source": [
    "You can change the **starting value** if you're not satisfied with 0, you can configure the **increment (step)** value by adding a third parameter:"
   ],
   "metadata": {
    "collapsed": false,
    "pycharm": {
     "name": "#%% md\n"
    }
   }
  },
  {
   "cell_type": "code",
   "execution_count": 5,
   "outputs": [
    {
     "name": "stdout",
     "output_type": "stream",
     "text": [
      "5\n",
      "15\n",
      "25\n",
      "35\n"
     ]
    }
   ],
   "source": [
    "for i in range(5, 45, 10):\n",
    "    print(i)"
   ],
   "metadata": {
    "collapsed": false,
    "pycharm": {
     "name": "#%%\n"
    }
   }
  },
  {
   "cell_type": "markdown",
   "source": [
    "According to the parameters included, we've asked to print the numbers from 5 to 45 with an increment value of 10. Be careful again, the last value is not included in the output:\n",
    "\n",
    "`\n",
    "5\n",
    "15\n",
    "25\n",
    "35\n",
    "`\n",
    "\n",
    "If you're not going to use the counter variable in your loop, you can show it by replacing its name with the underscore symbol:"
   ],
   "metadata": {
    "collapsed": false,
    "pycharm": {
     "name": "#%% md\n"
    }
   }
  },
  {
   "cell_type": "code",
   "execution_count": null,
   "outputs": [],
   "source": [
    "for _ in range(100):\n",
    "    do_smth()"
   ],
   "metadata": {
    "collapsed": false,
    "pycharm": {
     "name": "#%%\n"
    }
   }
  },
  {
   "cell_type": "markdown",
   "source": [
    "In the example above, we don't need the computer variable in any way, we simply use the loop to repeat the `do_smth()` function a give number of times."
   ],
   "metadata": {
    "collapsed": false,
    "pycharm": {
     "name": "#%% md\n"
    }
   }
  },
  {
   "cell_type": "markdown",
   "source": [
    "#### 4. Input data processing\n",
    "You can also use the `input()` **function** that helps the user to pass a value to some variables and work with it. Thus, you can get the same output as with the previous piece of code:"
   ],
   "metadata": {
    "collapsed": false,
    "pycharm": {
     "name": "#%% md\n"
    }
   }
  },
  {
   "cell_type": "code",
   "execution_count": 6,
   "outputs": [
    {
     "name": "stdout",
     "output_type": "stream",
     "text": [
      "e\n",
      "w\n",
      "a\n",
      "n\n"
     ]
    }
   ],
   "source": [
    "word = input()\n",
    "for char in word:\n",
    "    print(char)"
   ],
   "metadata": {
    "collapsed": false,
    "pycharm": {
     "name": "#%%\n"
    }
   }
  },
  {
   "cell_type": "markdown",
   "source": [
    "Oh, look, you can write a piece of code with a practical purpose:"
   ],
   "metadata": {
    "collapsed": false,
    "pycharm": {
     "name": "#%% md\n"
    }
   }
  },
  {
   "cell_type": "code",
   "execution_count": 7,
   "outputs": [
    {
     "name": "stdout",
     "output_type": "stream",
     "text": [
      "Hello!\n",
      "Hello!\n",
      "Hello!\n",
      "Hello!\n",
      "Hello!\n"
     ]
    }
   ],
   "source": [
    "times = int(input('How many times should I say \"Hello\"?'))\n",
    "for i in range(times):\n",
    "    print(\"Hello!\")"
   ],
   "metadata": {
    "collapsed": false,
    "pycharm": {
     "name": "#%%\n"
    }
   }
  },
  {
   "cell_type": "markdown",
   "source": [
    "You can, therefore, ask the user to specify the number of iterations to be performed."
   ],
   "metadata": {
    "collapsed": false,
    "pycharm": {
     "name": "#%% md\n"
    }
   }
  },
  {
   "cell_type": "markdown",
   "source": [
    "#### 5. Nested loop\n",
    "In Python, it is easy to put one loop inside another one - a **nested loop**. The type of the inner and outer loops doesn't matter, the first to execute is the outer loop, then the inner one executes:"
   ],
   "metadata": {
    "collapsed": false,
    "pycharm": {
     "name": "#%% md\n"
    }
   }
  },
  {
   "cell_type": "code",
   "execution_count": 8,
   "outputs": [
    {
     "name": "stdout",
     "output_type": "stream",
     "text": [
      "Rose Miller\n",
      "Rose Smith\n",
      "Daniel Miller\n",
      "Daniel Smith\n"
     ]
    }
   ],
   "source": [
    "names = ['Rose', 'Daniel']\n",
    "surnames = ['Miller', 'Smith']\n",
    "for name in names:\n",
    "    for surname in surnames:\n",
    "        print(name, surname)"
   ],
   "metadata": {
    "collapsed": false,
    "pycharm": {
     "name": "#%%\n"
    }
   }
  },
  {
   "cell_type": "markdown",
   "source": [
    "The output is shown below:\n",
    "`\n",
    "Rose Miller\n",
    "Rose Smith\n",
    "Daniel Miller\n",
    "Daniel Smith\n",
    "`\n",
    "\n",
    "Check out the Python Tutor [visualization](https://pythontutor.com/visualize.html#code=names%20%3D%20%5B'Rose',%20'Daniel'%5D%0Asurnames%20%3D%20%5B'Miller',%20'Smith'%5D%0Afor%20name%20in%20names%3A%0A%20%20%20%20for%20surname%20in%20surnames%3A%0A%20%20%20%20%20%20%20%20%20print%28name,%20surname%29&cumulative=false&curInstr=0&heapPrimitives=nevernest&mode=display&origin=opt-frontend.js&py=3&rawInputLstJSON=%5B%5D&textReferences=false) for a better understanding of how the code works. Click `Next>` and follow the arrows. In this example, we use two `for` loops to create fictional people's names. You can deal with iterable objects of different sizes without too much fuss."
   ],
   "metadata": {
    "collapsed": false,
    "pycharm": {
     "name": "#%% md\n"
    }
   }
  },
  {
   "cell_type": "markdown",
   "source": [
    "#### 5. Conclusion\n",
    "All in all, `for` loops are an efficient way to automate some repetitive actions. You can add variables and operations to make a nested loop. Moreover, you can control the number of iterations with the help of `range()` function. Be careful with the syntax: an extra indent or the lack of a colon can cause a mistake!"
   ],
   "metadata": {
    "collapsed": false,
    "pycharm": {
     "name": "#%% md\n"
    }
   }
  },
  {
   "cell_type": "code",
   "execution_count": 13,
   "outputs": [
    {
     "name": "stdout",
     "output_type": "stream",
     "text": [
      "23\n"
     ]
    }
   ],
   "source": [
    "string = \"red yellow fox bite orange goose beeeeeeeeeeep\"\n",
    "vowels = 'aeiou'\n",
    "count = 0\n",
    "for char in string:\n",
    "    if char in vowels:\n",
    "        count += 1\n",
    "print(sum(vowel in vowels for vowel in string))\n"
   ],
   "metadata": {
    "collapsed": false,
    "pycharm": {
     "name": "#%%\n"
    }
   }
  },
  {
   "cell_type": "code",
   "execution_count": 29,
   "outputs": [
    {
     "name": "stdout",
     "output_type": "stream",
     "text": [
      "lower_camel_case\n"
     ]
    }
   ],
   "source": [
    "word = \"lowerCamelCase\"\n",
    "new_word = \"\"\n",
    "for char in word:\n",
    "    if char.isupper():\n",
    "        new_word += \"_\"\n",
    "    new_word += char\n",
    "print(new_word.lower())"
   ],
   "metadata": {
    "collapsed": false,
    "pycharm": {
     "name": "#%%\n"
    }
   }
  },
  {
   "cell_type": "code",
   "execution_count": 32,
   "outputs": [
    {
     "name": "stdout",
     "output_type": "stream",
     "text": [
      "lower_camel_case\n"
     ]
    }
   ],
   "source": [
    "word = \"lowerCamelCase\"\n",
    "print(word[0].lower() + ''.join(\"_\" + char.lower() if char.upper() == char else char for char in word[1::]))"
   ],
   "metadata": {
    "collapsed": false,
    "pycharm": {
     "name": "#%%\n"
    }
   }
  },
  {
   "cell_type": "code",
   "execution_count": 39,
   "outputs": [
    {
     "name": "stdout",
     "output_type": "stream",
     "text": [
      "lower_camel_case\n"
     ]
    }
   ],
   "source": [
    "print(''.join(\"_\" + char if char.upper() == char else char for char in word).lower())"
   ],
   "metadata": {
    "collapsed": false,
    "pycharm": {
     "name": "#%%\n"
    }
   }
  },
  {
   "cell_type": "code",
   "execution_count": null,
   "outputs": [],
   "source": [],
   "metadata": {
    "collapsed": false,
    "pycharm": {
     "name": "#%%\n"
    }
   }
  }
 ],
 "metadata": {
  "kernelspec": {
   "display_name": "Python 3",
   "language": "python",
   "name": "python3"
  },
  "language_info": {
   "codemirror_mode": {
    "name": "ipython",
    "version": 2
   },
   "file_extension": ".py",
   "mimetype": "text/x-python",
   "name": "python",
   "nbconvert_exporter": "python",
   "pygments_lexer": "ipython2",
   "version": "2.7.6"
  }
 },
 "nbformat": 4,
 "nbformat_minor": 0
}