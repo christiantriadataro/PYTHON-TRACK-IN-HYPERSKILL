{
 "cells": [
  {
   "cell_type": "markdown",
   "source": [
    "### Scopes"
   ],
   "metadata": {
    "collapsed": false,
    "pycharm": {
     "name": "#%% md\n"
    }
   }
  },
  {
   "cell_type": "markdown",
   "source": [
    "#### Theory\n",
    "A **scope** is a part of the program where a certain variable can be reached by its name. The scope is a very important concept in programming because it defines the visibility of a name within the code block."
   ],
   "metadata": {
    "collapsed": false,
    "pycharm": {
     "name": "#%% md\n"
    }
   }
  },
  {
   "cell_type": "markdown",
   "source": [
    "#### 1. Global vs. Local\n",
    "When you define a variable it becomes either **global** or **local**. If a variable is defined at the top-level of the module it is considered global. That means that you can refer to this variable from every code block in your program. Global variable can be useful when you need to share state information or some configuration between different functions. For example, you can store the name of a current user in a global variable and then use it where needed. It makes your code easier to change: in order to set a new user name you will only have to change a single variable.\n",
    "\n",
    "Local variable are created when you define them in the body of a function. So its name can only be resolved inside the current function's scope. It lets you avoid issues with side-effects that may happen when using global variables.\n",
    "\n",
    "Consider the example to see the difference between global and local variables:"
   ],
   "metadata": {
    "collapsed": false,
    "pycharm": {
     "name": "#%% md\n"
    }
   }
  },
  {
   "cell_type": "code",
   "execution_count": 4,
   "outputs": [
    {
     "name": "stdout",
     "output_type": "stream",
     "text": [
      "Let it be\n",
      "Let it be\n",
      "Hey Jude\n",
      "Yesterday\n"
     ]
    },
    {
     "ename": "NameError",
     "evalue": "name 'local_phrase' is not defined",
     "output_type": "error",
     "traceback": [
      "\u001B[1;31m---------------------------------------------------------------------------\u001B[0m",
      "\u001B[1;31mNameError\u001B[0m                                 Traceback (most recent call last)",
      "Input \u001B[1;32mIn [4]\u001B[0m, in \u001B[0;36m<cell line: 19>\u001B[1;34m()\u001B[0m\n\u001B[0;32m     14\u001B[0m     \u001B[38;5;28mprint\u001B[39m(local_phrase) \u001B[38;5;66;03m# local_phrase is a local variable\u001B[39;00m\n\u001B[0;32m     16\u001B[0m printer()   \u001B[38;5;66;03m# Yesterday is printed as expected\u001B[39;00m\n\u001B[1;32m---> 19\u001B[0m \u001B[38;5;28mprint\u001B[39m(\u001B[43mlocal_phrase\u001B[49m)\n",
      "\u001B[1;31mNameError\u001B[0m: name 'local_phrase' is not defined"
     ]
    }
   ],
   "source": [
    "phrase = \"Let it be\"\n",
    "\n",
    "def global_printer():\n",
    "    print(phrase)   # we can use phrase because it's a global variable\n",
    "global_printer()    # Let it be is printed\n",
    "print(phrase)       # we can also print it directly\n",
    "\n",
    "phrase = \"Hey Jude\"     # Hey Jude is now printed because we changed the variable\n",
    "\n",
    "global_printer()\n",
    "\n",
    "def printer():\n",
    "    local_phrase = \"Yesterday\"\n",
    "    print(local_phrase) # local_phrase is a local variable\n",
    "\n",
    "printer()   # Yesterday is printed as expected\n",
    "\n",
    "\n",
    "print(local_phrase) # NameError is raised\n"
   ],
   "metadata": {
    "collapsed": false,
    "pycharm": {
     "name": "#%%\n"
    }
   }
  },
  {
   "cell_type": "markdown",
   "source": [
    "Thus, a global variable can be accessed both from the top-level of the module and the function's body. On the other hand, a local variable is only visible inside the nearest scope and cannot be accessed from the outside."
   ],
   "metadata": {
    "collapsed": false,
    "pycharm": {
     "name": "#%% md\n"
    }
   }
  },
  {
   "cell_type": "markdown",
   "source": [
    "#### 2. LEGB rule\n",
    "A variable resolution in Python follows the **LEGB rule**. That means that the interpreter looks for a name in the following order:\n",
    "1. **Locals**. Variables defined within the function body and not declared global.\n",
    "2. **Enclosing**. Names of the local scope in all enclosing functions from inner to outer.\n",
    "3. **Globals**. Names defined at the top-level of a module or declared global with a `global` keyword.\n",
    "4. **Built-in**. Any built-in name in Python.\n",
    "\n",
    "Let's consider an example to illustrate the LEGB rule:"
   ],
   "metadata": {
    "collapsed": false,
    "pycharm": {
     "name": "#%% md\n"
    }
   }
  },
  {
   "cell_type": "code",
   "execution_count": 6,
   "outputs": [
    {
     "name": "stdout",
     "output_type": "stream",
     "text": [
      "func local\n"
     ]
    }
   ],
   "source": [
    "x = \"global\"\n",
    "def outer():\n",
    "    x = \"outer local\"\n",
    "    def inner():\n",
    "        x = \"inner local\"\n",
    "        def func():\n",
    "            x = \"func local\"\n",
    "            print(x)\n",
    "        func()\n",
    "    inner()\n",
    "\n",
    "\n",
    "outer()     # \"func local"
   ],
   "metadata": {
    "collapsed": false,
    "pycharm": {
     "name": "#%%\n"
    }
   }
  },
  {
   "cell_type": "markdown",
   "source": [
    "When the `print()` function inside the `func()` is called the interpreter needs to resolve the name `x`. It'll first look at the innermost variables and will search for the local definition of `x` in `func()` function. In the case of the code above, the interpreter will fnd the local `x` in `func()` successfully and print its value, `'func local'`. [Here](https://pythontutor.com/visualize.html#code=x%20%3D%20%22global%22%0Adef%20outer%28%29%3A%0A%20%20%20%20x%20%3D%20%22outer%20local%22%0A%20%20%20%20def%20inner%28%29%3A%0A%20%20%20%20%20%20%20%20x%20%3D%20%22inner%20local%22%0A%20%20%20%20%20%20%20%20def%20func%28%29%3A%0A%20%20%20%20%20%20%20%20%20%20%20%20x%20%3D%20%22func%20local%22%0A%20%20%20%20%20%20%20%20%20%20%20%20print%28x%29%0A%20%20%20%20%20%20%20%20func%28%29%0A%20%20%20%20inner%28%29%0A%0Aouter%28%29%20%20%23%20%22func%20local%22&cumulative=false&curInstr=0&heapPrimitives=nevernest&mode=display&origin=opt-frontend.js&py=3&rawInputLstJSON=%5B%5D&textReferences=false) is the visualization of the code. Check it out to see how it works almost in real-time!\n",
    "\n",
    "But what if there isn't a definition of `x` in`func()`? Then, the interpreter will move outward and turn to `inner()` function. Check out the following example:"
   ],
   "metadata": {
    "collapsed": false,
    "pycharm": {
     "name": "#%% md\n"
    }
   }
  },
  {
   "cell_type": "code",
   "execution_count": 7,
   "outputs": [
    {
     "name": "stdout",
     "output_type": "stream",
     "text": [
      "inner local\n"
     ]
    }
   ],
   "source": [
    "x = \"global\"\n",
    "def outer():\n",
    "    x = \"outer local\"\n",
    "    def inner():\n",
    "        x = \"inner local\"\n",
    "        def func():\n",
    "            print(x)\n",
    "        func()\n",
    "    inner()\n",
    "\n",
    "\n",
    "outer() # \"inner local\""
   ],
   "metadata": {
    "collapsed": false,
    "pycharm": {
     "name": "#%%\n"
    }
   }
  },
  {
   "cell_type": "markdown",
   "source": [
    "As you see, the name `x` was resolved in `inner()` function, since the value `\"inner local\"` was printed.\n",
    "\n",
    "If we remove the definition of `x` from the `inner()` function as well and run the code again, the interpreter will continue the search among the `outer()` locals in the same fashion. If we keep deleting the lines of code defining `x`, the interpreter will move on to `outer()` locals, then globals, and then built-in names. In case there is no matching built-in name, an error will be raised. Look at the example where the global definition of `x` is reached by the interpreter."
   ],
   "metadata": {
    "collapsed": false,
    "pycharm": {
     "name": "#%% md\n"
    }
   }
  },
  {
   "cell_type": "code",
   "execution_count": 8,
   "outputs": [
    {
     "name": "stdout",
     "output_type": "stream",
     "text": [
      "global\n"
     ]
    }
   ],
   "source": [
    "x = \"global\"\n",
    "def outer():\n",
    "    def inner():\n",
    "        def func():\n",
    "            print(x)\n",
    "        func()\n",
    "    inner()\n",
    "\n",
    "outer() # \"global\""
   ],
   "metadata": {
    "collapsed": false,
    "pycharm": {
     "name": "#%%\n"
    }
   }
  },
  {
   "cell_type": "markdown",
   "source": [
    "Don't forget about LEGB rule if you plan on using enclosing functions."
   ],
   "metadata": {
    "collapsed": false,
    "pycharm": {
     "name": "#%% md\n"
    }
   }
  },
  {
   "cell_type": "markdown",
   "source": [
    "#### 3. Keywords \"nonlocal\" and \"global\"\n",
    "We already mentioned one way to assign a global variable: make a definition at the top-level of a module. But there is also a special keyword `global` that allows us to declare a variable global inside a function's body.\n",
    "\n",
    "You can't change the value of a global variable inside the function without using the `global` keyword:"
   ],
   "metadata": {
    "collapsed": false,
    "pycharm": {
     "name": "#%% md\n"
    }
   }
  },
  {
   "cell_type": "code",
   "execution_count": 9,
   "outputs": [
    {
     "name": "stdout",
     "output_type": "stream",
     "text": [
      "1\n"
     ]
    },
    {
     "ename": "UnboundLocalError",
     "evalue": "local variable 'x' referenced before assignment",
     "output_type": "error",
     "traceback": [
      "\u001B[1;31m---------------------------------------------------------------------------\u001B[0m",
      "\u001B[1;31mUnboundLocalError\u001B[0m                         Traceback (most recent call last)",
      "Input \u001B[1;32mIn [9]\u001B[0m, in \u001B[0;36m<cell line: 11>\u001B[1;34m()\u001B[0m\n\u001B[0;32m      8\u001B[0m     \u001B[38;5;28mprint\u001B[39m(x)\n\u001B[0;32m      9\u001B[0m     x \u001B[38;5;241m=\u001B[39m x \u001B[38;5;241m+\u001B[39m \u001B[38;5;241m1\u001B[39m\n\u001B[1;32m---> 11\u001B[0m \u001B[43mmodify_global\u001B[49m\u001B[43m(\u001B[49m\u001B[43m)\u001B[49m\n",
      "Input \u001B[1;32mIn [9]\u001B[0m, in \u001B[0;36mmodify_global\u001B[1;34m()\u001B[0m\n\u001B[0;32m      7\u001B[0m \u001B[38;5;28;01mdef\u001B[39;00m \u001B[38;5;21mmodify_global\u001B[39m():\n\u001B[1;32m----> 8\u001B[0m     \u001B[38;5;28mprint\u001B[39m(\u001B[43mx\u001B[49m)\n\u001B[0;32m      9\u001B[0m     x \u001B[38;5;241m=\u001B[39m x \u001B[38;5;241m+\u001B[39m \u001B[38;5;241m1\u001B[39m\n",
      "\u001B[1;31mUnboundLocalError\u001B[0m: local variable 'x' referenced before assignment"
     ]
    }
   ],
   "source": [
    "x = 1\n",
    "def print_global():\n",
    "    print(x)\n",
    "\n",
    "print_global()      # 1\n",
    "\n",
    "def modify_global():\n",
    "    print(x)\n",
    "    x = x + 1\n",
    "\n",
    "modify_global() # UnboundLocalError: local variable 'x' referenced before assignment, line 8"
   ],
   "metadata": {
    "collapsed": false,
    "pycharm": {
     "name": "#%%\n"
    }
   }
  },
  {
   "cell_type": "markdown",
   "source": [
    "The error is raised because to execute `print(x)` on the 8th line, the interpreter tries to resolve `x` and finds it in the *local* scope - the local `x` is declared on the next, 9th, line, i.e. after its use on line 8, so the interpreter raises the error. However, if we removed line 8, the same would happen. In that case, to execute `x = x + 1`, the interpreter would need to computer the expression `x + 1` and resolve the variable `x` in it. Trying to do that, it would again find `x` in the *local* scope - the local `x` is declared by the line `x = x + 1`. Since its value would be needed before it had actually been computed, the interpreter would raise the same error: `UnboundLocalError: local variable 'x' referenced before assignment`. To fix this error, we need to declare `x` global:"
   ],
   "metadata": {
    "collapsed": false,
    "pycharm": {
     "name": "#%% md\n"
    }
   }
  },
  {
   "cell_type": "code",
   "execution_count": 10,
   "outputs": [
    {
     "name": "stdout",
     "output_type": "stream",
     "text": [
      "1\n",
      "2\n",
      "3\n"
     ]
    }
   ],
   "source": [
    "x = 1\n",
    "def global_func():\n",
    "    global x\n",
    "    print(x)\n",
    "    x = x + 1\n",
    "global_func()   # 1\n",
    "global_func()   # 2\n",
    "global_func()   # 3"
   ],
   "metadata": {
    "collapsed": false,
    "pycharm": {
     "name": "#%%\n"
    }
   }
  },
  {
   "cell_type": "markdown",
   "source": [
    "When `x` is global you can increment its value inside the function.\n",
    "\n",
    "`nonlocal` keyword lets us assign to variable in outer (but not global) scope:"
   ],
   "metadata": {
    "collapsed": false,
    "pycharm": {
     "name": "#%% md\n"
    }
   }
  },
  {
   "cell_type": "code",
   "execution_count": 11,
   "outputs": [
    {
     "name": "stdout",
     "output_type": "stream",
     "text": [
      "inner: 2\n",
      "outer: 1\n",
      "inner 2\n",
      "outer: 2\n"
     ]
    }
   ],
   "source": [
    "def func():\n",
    "    x = 1\n",
    "    def inner():\n",
    "        x = 2\n",
    "        print(\"inner:\", x)\n",
    "    inner()\n",
    "    print(\"outer:\", x)\n",
    "\n",
    "def nonlocal_func():\n",
    "    x = 1\n",
    "    def inner():\n",
    "        nonlocal x\n",
    "        x = 2\n",
    "        print(\"inner\", x)\n",
    "    inner()\n",
    "    print(\"outer:\", x)\n",
    "\n",
    "func()  # inner: 2\n",
    "        # outer: 1\n",
    "\n",
    "nonlocal_func() # inner: 2\n",
    "                # outer: 2"
   ],
   "metadata": {
    "collapsed": false,
    "pycharm": {
     "name": "#%%\n"
    }
   }
  },
  {
   "cell_type": "markdown",
   "source": [
    "Though `global` and `nonlocal` are present in the language, they are not often used in practice, because these keywords make programs less predictable and harder to understand."
   ],
   "metadata": {
    "collapsed": false,
    "pycharm": {
     "name": "#%% md\n"
    }
   }
  },
  {
   "cell_type": "markdown",
   "source": [
    "#### 4. Why do we need scopes?\n",
    "First of all, why does Python need the distinction between global and local scope? Well, from the experience of some other programming languages that do not have *local* scopes it became clear, that using only global scope is highly inconvenient: when every variable is accessible from every part of the code, a whole bunch of bugs is inevitable. The longer the code, the more difficult it becomes to remember all the variables' names and not accidentally change the value of the variable that you were supposed to keep intact. Therefore, Python saves you the trouble by allowing to \"isolate\" some variables from the rest of the code when you split it into functions.\n",
    "\n",
    "On the other hand, why do we need *global* scope then? Well, as was already mentioned above, global scope is one of the easiest ways to retain information between function calls: while local variables disappear the moment the function returns, global variables remain and help functions to transfer the necessary data between each other. Similarly, global variables can enable the communication between more complex processes, such as threads in multithreaded applications."
   ],
   "metadata": {
    "collapsed": false,
    "pycharm": {
     "name": "#%% md\n"
    }
   }
  },
  {
   "cell_type": "markdown",
   "source": [
    "#### 5. Summary\n",
    "In this topic, we've found out the difference between global and local variables and \"nonlocal\" and \"global\" keywords, learned the LEGB rule, and how scopes can be helpful in practice. Hope you'll find this new knowledge useful!"
   ],
   "metadata": {
    "collapsed": false,
    "pycharm": {
     "name": "#%% md\n"
    }
   }
  },
  {
   "cell_type": "code",
   "execution_count": 12,
   "outputs": [
    {
     "ename": "NameError",
     "evalue": "name 'b' is not defined",
     "output_type": "error",
     "traceback": [
      "\u001B[1;31m---------------------------------------------------------------------------\u001B[0m",
      "\u001B[1;31mNameError\u001B[0m                                 Traceback (most recent call last)",
      "Input \u001B[1;32mIn [12]\u001B[0m, in \u001B[0;36m<cell line: 8>\u001B[1;34m()\u001B[0m\n\u001B[0;32m      5\u001B[0m     b \u001B[38;5;241m=\u001B[39m a \u001B[38;5;241m%\u001B[39m \u001B[38;5;241m10\u001B[39m\n\u001B[0;32m      7\u001B[0m func()\n\u001B[1;32m----> 8\u001B[0m \u001B[38;5;28mprint\u001B[39m(\u001B[43mb\u001B[49m)\n",
      "\u001B[1;31mNameError\u001B[0m: name 'b' is not defined"
     ]
    }
   ],
   "source": [
    "a = 13\n",
    "global b\n",
    "\n",
    "def func():\n",
    "    b = a % 10\n",
    "\n",
    "func()\n",
    "print(b)"
   ],
   "metadata": {
    "collapsed": false,
    "pycharm": {
     "name": "#%%\n"
    }
   }
  }
 ],
 "metadata": {
  "kernelspec": {
   "display_name": "Python 3",
   "language": "python",
   "name": "python3"
  },
  "language_info": {
   "codemirror_mode": {
    "name": "ipython",
    "version": 2
   },
   "file_extension": ".py",
   "mimetype": "text/x-python",
   "name": "python",
   "nbconvert_exporter": "python",
   "pygments_lexer": "ipython2",
   "version": "2.7.6"
  }
 },
 "nbformat": 4,
 "nbformat_minor": 0
}