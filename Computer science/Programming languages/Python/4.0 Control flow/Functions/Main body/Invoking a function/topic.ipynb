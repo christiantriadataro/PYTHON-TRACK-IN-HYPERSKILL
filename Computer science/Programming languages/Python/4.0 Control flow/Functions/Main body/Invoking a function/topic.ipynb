{
 "cells": [
  {
   "cell_type": "markdown",
   "source": [
    "### Invoking a function"
   ],
   "metadata": {
    "collapsed": false
   }
  },
  {
   "cell_type": "markdown",
   "source": [
    "#### Theory\n",
    "Even though invoking functions in Python is not about casting a spell or the like, it does sometimes work wonders. Let's start with the concept. A **function** is a structured fragment of code we may want to use in more than one place and more than one time. What's more, functions allow us to read both our code and that of someone else way better. Haven't they become your favorite yet?\n",
    "\n",
    "Here is a simple function call:\n",
    "\n",
    "`multiply(1, 7)`\n",
    "\n",
    "Here `multiply` is the name of the function, and numbers in parentheses `(1, 7)` are its **arguments**. What is an argument? Well, it's just a value, that will be used inside the function body. Let's go deeper into it!"
   ],
   "metadata": {
    "collapsed": false
   }
  },
  {
   "cell_type": "markdown",
   "source": [
    "#### 1. Invoking print()\n",
    "To **call**, or **invoke**, **a function** in your program, simply write its name and add parentheses after it. That's all it takes! Fun fact: if you've ever typed an expression like this `print(\"Hello, world!\")`, you already know a little about functions. In this tiny example, however, we see the message \"Hello, world!\" in parentheses after the name of the `print` function. What does it mean? This string is just an argument. And more often than not, function do have arguments. As for the `print` function, we may as well use it with no argument at all or even with multiple arguments:"
   ],
   "metadata": {
    "collapsed": false
   }
  },
  {
   "cell_type": "code",
   "execution_count": 1,
   "outputs": [
    {
     "name": "stdout",
     "output_type": "stream",
     "text": [
      "Hello, world!\n",
      "\n",
      "Bye, then!\n"
     ]
    }
   ],
   "source": [
    "print(\"Hello, world!\")\n",
    "print()\n",
    "print(\"Bye,\", \"then!\")"
   ],
   "metadata": {
    "collapsed": false
   }
  },
  {
   "cell_type": "markdown",
   "source": [
    "And here is the output:\n",
    "\n",
    "`\n",
    "Hello, world!\n",
    "\n",
    "Bye, then!\n",
    "`\n",
    "\n",
    "So, the first call prints one string, and the second call of `print` without arguments prints, an empty line, and the last call outputs our two messages as one expression. Are you surprised by these results? Then you may learn how the `print` function works in more detail from its [documentation](https://docs.python.org/3/library/functions.html#print). The Python documentation contains all sorts of information about the function of your interest, for example, which arguments it expects."
   ],
   "metadata": {
    "collapsed": false
   }
  },
  {
   "cell_type": "markdown",
   "source": [
    "#### 2. Built-in functions\n",
    "Functions can make life easier, provided one is aware of their existence. Many algorithms are already written, so there is no need for reinvention, except perhaps for educational purposes. The Python interpreter has several functions and types **built into** it, so they are always available. Currently, the number of [built-in functions amounts to 69](https://docs.python.org/3/library/functions.html)(in the **Python 3.8** version). Some of them are used to convert the **object type**, for example, `str()` returns a string, `int()` returns an integer, and `float()` returns a floating-point number. Others deal with **numbers**: you can `round()` them and `sum()` them, find the minimum `min()` or the maximum `max()`. Still, others give us information about the object: its `type()` or length `len()`. Let's consider them in action!\n",
    "\n",
    "In the following example, `len()` counts the number of characters in the string (the same goes for any **sequence**, i.e. list, tuple, range, byte sequences, byte arrays)."
   ],
   "metadata": {
    "collapsed": false
   }
  },
  {
   "cell_type": "code",
   "execution_count": 2,
   "outputs": [
    {
     "name": "stdout",
     "output_type": "stream",
     "text": [
      "3\n"
     ]
    }
   ],
   "source": [
    "number = \"111\"\n",
    "\n",
    "# finding the length of an object\n",
    "print(len(number))  # 3"
   ],
   "metadata": {
    "collapsed": false
   }
  },
  {
   "cell_type": "markdown",
   "source": [
    "Then we declare the variables `integer` and `float_number`, convert our string to corresponding types, and write their sum into `my_sum`. By the way, the `sum()` function deals with iterable objects, that's why we use double parentheses."
   ],
   "metadata": {
    "collapsed": false
   }
  },
  {
   "cell_type": "code",
   "execution_count": 6,
   "outputs": [],
   "source": [
    "# converting types\n",
    "integer = int(number)  # 111\n",
    "float_number = float(number)  # 111.0\n",
    "\n",
    "# adding numbers\n",
    "my_sum = sum((integer, float_number))"
   ],
   "metadata": {
    "collapsed": false
   }
  },
  {
   "cell_type": "markdown",
   "source": [
    "The result is a floating-point number, which becomes clear after printing `my_sum`"
   ],
   "metadata": {
    "collapsed": false
   }
  },
  {
   "cell_type": "code",
   "execution_count": 7,
   "outputs": [
    {
     "name": "stdout",
     "output_type": "stream",
     "text": [
      "222.0\n",
      "222\n"
     ]
    }
   ],
   "source": [
    "print(my_sum)   # 222.0\n",
    "print(round(my_sum))  # 222"
   ],
   "metadata": {
    "collapsed": false
   }
  },
  {
   "cell_type": "markdown",
   "source": [
    "Furthermore, you can see how to find the minimum and maximum values: in this example, the smallest number equals 3 and the largest number 8.4 (the sum of 3 and 5.4) belongs to floats."
   ],
   "metadata": {
    "collapsed": false
   }
  },
  {
   "cell_type": "code",
   "execution_count": 8,
   "outputs": [
    {
     "name": "stdout",
     "output_type": "stream",
     "text": [
      "3\n",
      "<class 'float'>\n"
     ]
    }
   ],
   "source": [
    "# finding the minimum and the maximum\n",
    "integer = 3\n",
    "float_number = 5.4\n",
    "my_sum = sum((integer, float_number))\n",
    "\n",
    "print(min(integer, float_number))  # 3\n",
    "print(type(max(integer, float_number, my_sum)))  # <class 'float'>"
   ],
   "metadata": {
    "collapsed": false
   }
  },
  {
   "cell_type": "markdown",
   "source": [
    "There is far more to explore, but let's sum it up."
   ],
   "metadata": {
    "collapsed": false
   }
  },
  {
   "cell_type": "markdown",
   "source": [
    "#### 3. Conclusion\n",
    "The beauty of functions is that we can use them without clear insight into their inner structure, and how they manage to perform what we need. If you want to put a function to good use, make sure to check its documentation or try invoking the special `help()` function with the name of the function in question wrapped in parentheses. It saves the day when the function behaves unexpectedly."
   ],
   "metadata": {
    "collapsed": false
   }
  },
  {
   "cell_type": "code",
   "execution_count": 9,
   "outputs": [
    {
     "name": "stdout",
     "output_type": "stream",
     "text": [
      "Help on built-in function len in module builtins:\n",
      "\n",
      "len(obj, /)\n",
      "    Return the number of items in a container.\n",
      "\n"
     ]
    }
   ],
   "source": [
    "help(len)\n",
    "\n",
    "# Help on built-in function len in module builtins:\n",
    "#\n",
    "# len(obj, /)\n",
    "#   Return the number of items in a container."
   ],
   "metadata": {
    "collapsed": false
   }
  },
  {
   "cell_type": "markdown",
   "source": [
    "Let's make a summary:\n",
    "    * function are meant to be reusable. You can apply them multiple times with different arguments,\n",
    "    * to call a function write its name followed by parentheses and place the arguments within,\n",
    "    * normally, a function has documentation, which sometimes might be of huge help."
   ],
   "metadata": {
    "collapsed": false
   }
  },
  {
   "cell_type": "code",
   "execution_count": 1,
   "outputs": [
    {
     "data": {
      "text/plain": "'grew'"
     },
     "metadata": {},
     "output_type": "display_data"
    },
    {
     "data": {
      "text/plain": "'gloomy'"
     },
     "metadata": {},
     "output_type": "display_data"
    },
    {
     "data": {
      "text/plain": "'grass'"
     },
     "metadata": {},
     "output_type": "display_data"
    },
    {
     "data": {
      "text/plain": "'grey'"
     },
     "metadata": {},
     "output_type": "display_data"
    }
   ],
   "source": [
    "display(max(\"gloomy\", \"grew\", \"green'\"))\n",
    "display(min(\"gloomy\", \"grey\", \"green\"))\n",
    "display(min(\"green\", \"grass\"))\n",
    "display(max(\"gloomy\", \"grey\", \"green\"))"
   ],
   "metadata": {
    "collapsed": false,
    "ExecuteTime": {
     "start_time": "2023-05-08T10:55:33.173167Z",
     "end_time": "2023-05-08T10:55:33.197344Z"
    }
   }
  },
  {
   "cell_type": "code",
   "execution_count": null,
   "outputs": [],
   "source": [
    "from random import seed, randint\n",
    "\n",
    "n = int(input())\n",
    "seed(n)\n",
    "print(randint(-100, 100))"
   ],
   "metadata": {
    "collapsed": false
   }
  },
  {
   "cell_type": "code",
   "execution_count": 2,
   "outputs": [
    {
     "name": "stdout",
     "output_type": "stream",
     "text": [
      "A Aaaa Aaaaaaaa\n"
     ]
    }
   ],
   "source": [
    "from string import capwords\n",
    "\n",
    "input_string = input()\n",
    "\n",
    "print(capwords(input_string))"
   ],
   "metadata": {
    "collapsed": false,
    "ExecuteTime": {
     "start_time": "2023-05-08T11:26:11.158727Z",
     "end_time": "2023-05-08T11:26:14.683249Z"
    }
   }
  },
  {
   "cell_type": "code",
   "execution_count": null,
   "outputs": [],
   "source": [],
   "metadata": {
    "collapsed": false
   }
  }
 ],
 "metadata": {
  "kernelspec": {
   "display_name": "Python 3",
   "language": "python",
   "name": "python3"
  },
  "language_info": {
   "codemirror_mode": {
    "name": "ipython",
    "version": 2
   },
   "file_extension": ".py",
   "mimetype": "text/x-python",
   "name": "python",
   "nbconvert_exporter": "python",
   "pygments_lexer": "ipython2",
   "version": "2.7.6"
  }
 },
 "nbformat": 4,
 "nbformat_minor": 0
}
