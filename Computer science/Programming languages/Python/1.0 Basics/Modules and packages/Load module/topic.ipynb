{
 "cells": [
  {
   "cell_type": "markdown",
   "source": [
    "#### Load module"
   ],
   "metadata": {
    "collapsed": false
   }
  },
  {
   "cell_type": "markdown",
   "source": [
    "#### Theory\n",
    "There are different ways to interact with code. In this topic, we'll learn what they are and in what cases which option is the most convenient. However, most importantly, we'll find out how to save our code into a file for further use or editing. As you probably have already guessed, that applies to any code, which means you can also use someone else's code and this last part is a pretty big deal you'll quickly appreciate as a developer."
   ],
   "metadata": {
    "collapsed": false
   }
  },
  {
   "cell_type": "markdown",
   "source": [
    "#### 1. Module basics\n",
    "While working on simple examples, you probably type your code directly into the interpreter. But every time you exit the interpreter and start it again, you lose all the definitions you made before. So as you start writing larger programs, it makes sense to prepare your code in advance using a text editor and then run it with the interpreter. A file containing a list of operations that will be read and interpreted further on is called **script**.\n",
    "\n",
    "You also may want to write some functions and then use them in other programs or even reuse code someone else wrote before. One way is just to copy the code into your program, but it soon leads to code that is badly structured and hard to read. Luckily, there is another way in Python to organize and reuse code called **modules**.\n",
    "\n",
    "A module is simply a file that contains Python statements and definitions. It usually has a **.py** extension. What really makes the module system powerful is the ability to **load** or **import** one module from another."
   ],
   "metadata": {
    "collapsed": false
   }
  },
  {
   "cell_type": "markdown",
   "source": [
    "#### 2. Module loading\n",
    "To load a module, just use an **import** statement. In its basic form, it has the following syntax: `import module`."
   ],
   "metadata": {
    "collapsed": false
   }
  },
  {
   "cell_type": "code",
   "execution_count": null,
   "metadata": {
    "collapsed": true
   },
   "outputs": [],
   "source": [
    "# import super_module\n",
    "\n",
    "# super_module.super_function()  # calling a function defined in super_module\n",
    "\n",
    "# print(super_module.super_variable)    # accessing a variable defined in super_module"
   ]
  },
  {
   "cell_type": "markdown",
   "source": [
    "`super_module` is the name of the module you want to import. For example, a file called super_module.py has a name super_module. In order to be available for import,  super_module.py should be located in the same directory as the file you are trying to import the required functions or variables from a module but not the module itself. You can do this bu using `from` in the import statement."
   ],
   "metadata": {
    "collapsed": false
   }
  },
  {
   "cell_type": "code",
   "execution_count": null,
   "outputs": [],
   "source": [
    "# from super_module import super_function\n",
    "\n",
    "# super_function()  # super_function is now available directly at the current module\n",
    "\n",
    "# super_module.super_function()     # note that in this case name super_module is not imported,\n",
    "                                    # so this line leads to an error"
   ],
   "metadata": {
    "collapsed": false
   }
  },
  {
   "cell_type": "markdown",
   "source": [
    "A good practice is to load a single module in a single line and put all your imports at the top of the file because it increases readability."
   ],
   "metadata": {
    "collapsed": false
   }
  },
  {
   "cell_type": "code",
   "execution_count": null,
   "outputs": [],
   "source": [
    "# import module1\n",
    "# import module2\n",
    "# import module3\n",
    "\n",
    "# the rest of module code goes here"
   ],
   "metadata": {
    "collapsed": false
   }
  },
  {
   "cell_type": "markdown",
   "source": [
    "A special form of import statement you to load all the names defined in a module. It is called **wildcard import** and has the syntax `from module import *`. You should generally avoid this in your code. It can cause unexpected behavior because you don't know what names exactly are imported into the current namespace. Besides, these names may shadow some of the existing ones without your knowledge. It's better to make it explicitly and specify what you're importing.\n",
    "\n",
    "In case you have to use several import statements, pay attention to their order:\n",
    "1. standard library imports, i.e. from the Standard Python library\n",
    "2. third party dependency imports, i.e. something installed additionally\n",
    "3. local application imports, i.e. files that belong to the current application\n",
    "\n",
    "Having your imports grouped, you may put a blank line between import sections. Also, some guide"
   ],
   "metadata": {
    "collapsed": false
   }
  }
 ],
 "metadata": {
  "kernelspec": {
   "display_name": "Python 3",
   "language": "python",
   "name": "python3"
  },
  "language_info": {
   "codemirror_mode": {
    "name": "ipython",
    "version": 2
   },
   "file_extension": ".py",
   "mimetype": "text/x-python",
   "name": "python",
   "nbconvert_exporter": "python",
   "pygments_lexer": "ipython2",
   "version": "2.7.6"
  }
 },
 "nbformat": 4,
 "nbformat_minor": 0
}
