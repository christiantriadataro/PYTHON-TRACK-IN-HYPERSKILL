{
 "cells": [
  {
   "cell_type": "markdown",
   "source": [
    "#### Packages"
   ],
   "metadata": {
    "collapsed": false
   }
  },
  {
   "cell_type": "markdown",
   "source": [
    "### Theory\n",
    "When our code gets longer, it becomes very difficult to maintain and keep track of all the module included. In order to make the code more organized, we can resort to packages. In this topic, we'll learn what they are and how to use them correctly."
   ],
   "metadata": {
    "collapsed": false
   }
  },
  {
   "cell_type": "markdown",
   "source": [
    "#### 1. Package definition and structure\n",
    "A **package** is a way of structuring modules **hierarchically** with the help of the so-called \"dotted module names\". Thus the module name `sun.moon` designates a submodule named \"moon\" in a package named \"sun\".\n",
    "\n",
    "The possible **structure** might be the following:"
   ],
   "metadata": {
    "collapsed": false
   }
  },
  {
   "cell_type": "code",
   "execution_count": null,
   "metadata": {
    "collapsed": true
   },
   "outputs": [],
   "source": [
    "# package/                           # first we name the main or top-level package\n",
    "#         __init__.py               # this directory should be treated as a package\n",
    "#         subpackage/               # we can add subpackage with extra modules\n",
    "#                   __init__.py     # this directory should be treated as a subpackage\n",
    "#                   artificial.py\n",
    "#                   amateurs.py\n",
    "#                   ...\n",
    "\n",
    "#         subpackage2/\n",
    "#                   __init__.py\n",
    "#                   amazing.py\n",
    "#                   animate.py\n",
    "#                   barriers.py\n",
    "#                   ..."
   ]
  },
  {
   "cell_type": "markdown",
   "source": [
    "**NB**: It's necessry to create `__init__.py` files, that will make Python treat the directory as a package/subpackage. They can be empty or execute the initialization code for the package."
   ],
   "metadata": {
    "collapsed": false
   }
  },
  {
   "cell_type": "markdown",
   "source": [
    "#### 2. Importing and referencing packages\n",
    "Let us suppose we'd like to import a specific module from the package. There are two ways to import the \"artificial\" submodule from the subpackage:"
   ],
   "metadata": {
    "collapsed": false
   }
  },
  {
   "cell_type": "code",
   "execution_count": null,
   "outputs": [],
   "source": [
    "# from package.subpackage import artificial"
   ],
   "metadata": {
    "collapsed": false
   }
  },
  {
   "cell_type": "markdown",
   "source": [],
   "metadata": {
    "collapsed": false
   }
  },
  {
   "cell_type": "code",
   "execution_count": 7,
   "outputs": [
    {
     "name": "stdout",
     "output_type": "stream",
     "text": [
      "1: 4\n",
      "2: 10\n",
      "3: 22\n",
      "4: 46\n",
      "5: 94\n",
      "6: 190\n",
      "7: 382\n",
      "8: 766\n",
      "9: 1534\n",
      "10: 3070\n",
      "11: 6142\n",
      "12: 12286\n",
      "13: 24574\n",
      "14: 49150\n",
      "15: 98302\n",
      "16: 196606\n",
      "17: 393214\n",
      "18: 786430\n",
      "19: 1572862\n"
     ]
    }
   ],
   "source": [
    "i = 1\n",
    "for x in range(1, 20):\n",
    "    i = i + i + 2\n",
    "    print(f\"{x}: {i}\")"
   ],
   "metadata": {
    "collapsed": false,
    "ExecuteTime": {
     "start_time": "2023-05-15T09:37:55.613359Z",
     "end_time": "2023-05-15T09:37:55.645377Z"
    }
   }
  },
  {
   "cell_type": "markdown",
   "source": [],
   "metadata": {
    "collapsed": false
   }
  },
  {
   "cell_type": "code",
   "execution_count": 1,
   "outputs": [
    {
     "name": "stdout",
     "output_type": "stream",
     "text": [
      "2 3 2 5 2 7 2 9 2 11 2 13 2 15 2 17 2 19 2 21 2 23 2 25 2 27 2 29 2 31 2 33 2 35 2 37 2 39 2 41 "
     ]
    }
   ],
   "source": [
    "i = 1\n",
    "j = 2\n",
    "for x in range(1, 21):\n",
    "    i = i + 2\n",
    "    print(j,i, end=' ')\n",
    "j = j + i"
   ],
   "metadata": {
    "collapsed": false,
    "ExecuteTime": {
     "start_time": "2023-05-15T09:46:48.544810Z",
     "end_time": "2023-05-15T09:46:48.568816Z"
    }
   }
  },
  {
   "cell_type": "markdown",
   "source": [
    "This method allow us to use the submodule content without naming the package and subpackage:"
   ],
   "metadata": {
    "collapsed": false
   }
  },
  {
   "cell_type": "markdown",
   "source": [
    "artificial.function(arg1, arg2)"
   ],
   "metadata": {
    "collapsed": false
   }
  },
  {
   "cell_type": "markdown",
   "source": [
    "The second method is more straightforward:"
   ],
   "metadata": {
    "collapsed": false
   }
  },
  {
   "cell_type": "code",
   "execution_count": null,
   "outputs": [],
   "source": [
    "# import package.subpackage.artificial"
   ],
   "metadata": {
    "collapsed": false
   }
  },
  {
   "cell_type": "markdown",
   "source": [
    "After we've loaded the submodule in such a way, its content should be referenced with its **full name**:"
   ],
   "metadata": {
    "collapsed": false
   }
  },
  {
   "cell_type": "code",
   "execution_count": null,
   "outputs": [],
   "source": [
    "# package.subpackage.artificial.function(arg1, arg2)"
   ],
   "metadata": {
    "collapsed": false
   }
  },
  {
   "cell_type": "markdown",
   "source": [
    "Apart from that, it's possible to import a particular function from the submodule:"
   ],
   "metadata": {
    "collapsed": false
   }
  },
  {
   "cell_type": "code",
   "execution_count": null,
   "outputs": [],
   "source": [
    "# from package.subpackage.artificial import function"
   ],
   "metadata": {
    "collapsed": false
   }
  },
  {
   "cell_type": "markdown",
   "source": [
    "After that, you can address the `function()` directly, without specifying the full path to a module.\n",
    "\n",
    "The method of importing modules depends on your current program and needs. The main rule is readability!"
   ],
   "metadata": {
    "collapsed": false
   }
  },
  {
   "cell_type": "markdown",
   "source": [
    "#### 3. Import * from ...: advantages and disadvantages\n",
    "You can also use `from package.subpackage import *` This code will import all the subpackage has, although you might not really need that. Moreover, it is really time-consuming and considered to be a bad practice. How can we manage these side-effects?\n",
    "\n",
    "The major thing to do is to provide the package with a particular **index** with the help of `__all__` statement that should be inserted into `__init__.py` file. There ryou want to list the submodules to be imported while `from package import *` operation is executed."
   ],
   "metadata": {
    "collapsed": false
   }
  },
  {
   "cell_type": "code",
   "execution_count": null,
   "outputs": [],
   "source": [
    "__all__ = ['submodule1', 'submodule10']"
   ],
   "metadata": {
    "collapsed": false
   }
  },
  {
   "cell_type": "markdown",
   "source": [
    "#### 4. Intra package references\n",
    "Python is ever more powerful than you can image: you can refer to the submodules of **siblings packages** if needed. For instance, if you use the `package.subpackage.artificial` and there you need something from `package.subpackage2.amazing`,  you can import it by `from package.subpackage2 import amazing` in the **artificial.py** file.\n",
    "\n",
    "You can also carry out the so-called \"relative imports\" that use leading dots to indicate the current and parent packages involved."
   ],
   "metadata": {
    "collapsed": false
   }
  },
  {
   "cell_type": "code",
   "execution_count": null,
   "outputs": [],
   "source": [
    "from . import artificial    # one dot means addressing to a current package/subpackage\n",
    "\n",
    "from .. impor subpackage2 # two dots mean addressing to a parent package/subpackage\n",
    "\n",
    "from ..subpackage2 import amazing"
   ],
   "metadata": {
    "collapsed": false
   }
  },
  {
   "cell_type": "markdown",
   "source": [
    "#### PEP time!\n",
    "Using **wildcard imports** (`from <module> import *`) is considered bad practice, as they make it unclear which names are present in the namespace, confusing both readers and many automated tools.\n",
    "\n",
    "Absolute imports are recommended, as they are usually more readable. They also give better error messages if something goes wrong:"
   ],
   "metadata": {
    "collapsed": false
   }
  },
  {
   "cell_type": "code",
   "execution_count": null,
   "outputs": [],
   "source": [
    "# import  package.subpackage.amateurs\n",
    "# from package.subpackage import amateurs"
   ],
   "metadata": {
    "collapsed": false
   }
  },
  {
   "cell_type": "markdown",
   "source": [
    "Explicit relative imports are also acceptable, especially when dealing with complex package layouts where using absolute imports would be unnecessarily verbose:"
   ],
   "metadata": {
    "collapsed": false
   }
  },
  {
   "cell_type": "code",
   "execution_count": null,
   "outputs": [],
   "source": [
    "# from . import animate             # in amazing.py, for example\n",
    "# from .barriers import function    # in amazing.py, for example"
   ],
   "metadata": {
    "collapsed": false
   }
  },
  {
   "cell_type": "markdown",
   "source": [
    "Standard library code should avoid complex package layout and always use absolute imports."
   ],
   "metadata": {
    "collapsed": false
   }
  },
  {
   "cell_type": "markdown",
   "source": [
    "#### 6. Conclusion\n",
    "* Using packages is a very good way to structure your code.\n",
    "* Packages make your project simpler to perceive. They allow reusing code more easily.\n",
    "* Different ways of importing have their own advantages and disadvantages. Remember one of the main rules of Python: readability counts!"
   ],
   "metadata": {
    "collapsed": false
   }
  },
  {
   "cell_type": "markdown",
   "source": [],
   "metadata": {
    "collapsed": false
   }
  }
 ],
 "metadata": {
  "kernelspec": {
   "display_name": "Python 3",
   "language": "python",
   "name": "python3"
  },
  "language_info": {
   "codemirror_mode": {
    "name": "ipython",
    "version": 2
   },
   "file_extension": ".py",
   "mimetype": "text/x-python",
   "name": "python",
   "nbconvert_exporter": "python",
   "pygments_lexer": "ipython2",
   "version": "2.7.6"
  }
 },
 "nbformat": 4,
 "nbformat_minor": 0
}
