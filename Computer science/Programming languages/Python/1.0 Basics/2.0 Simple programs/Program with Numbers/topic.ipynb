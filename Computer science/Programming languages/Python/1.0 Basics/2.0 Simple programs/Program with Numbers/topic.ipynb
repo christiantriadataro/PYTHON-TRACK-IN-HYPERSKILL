{
 "cells": [
  {
   "cell_type": "markdown",
   "source": [
    "### Program with numbers"
   ],
   "metadata": {
    "collapsed": false
   }
  },
  {
   "cell_type": "markdown",
   "source": [
    "#### Theory\n",
    "Programs in which there's nothing to calculate are quite rare. Therefore, learning to program with number is never a bad idea. An even more valuable skill we are about to learn is the processing of user data. With its help, you can interactive and by far more flexible applications. So let's get started!"
   ],
   "metadata": {
    "collapsed": false
   }
  },
  {
   "cell_type": "markdown",
   "source": [
    "#### 1. Reading numbers from user input\n",
    "Since you have become familiar with the `input()` function in Python, it's hardly new to you that any data passed to this function is treated as a **string**. But how should we deal with numerical values? As a general rule, they are explicitly converted to corresponding numerical types:\n"
   ],
   "metadata": {
    "collapsed": false
   }
  },
  {
   "cell_type": "code",
   "execution_count": null,
   "outputs": [],
   "source": [
    "integer = int(input())\n",
    "floating_point = float(input())"
   ],
   "metadata": {
    "collapsed": false
   }
  },
  {
   "cell_type": "markdown",
   "source": [
    "Pay attention to current best practices: it's crucial not to name your variables as built-in types (say, **float** or **int**). Also, we should take into account user mistakes: if a user types an inaccurate input, a string **'two'** instead of number **2**, a `ValueError` will occur. At the moment, we won't focus on it; but don't worry, more information about errors is available in a dedicated topic. Now, consider a more detailed and pragmatic example of handling numerical inputs."
   ],
   "metadata": {
    "collapsed": false
   }
  },
  {
   "cell_type": "markdown",
   "source": [
    "#### 2. Free air miles\n",
    "Imagine you have a credit card with a free air miles bonus program (or maybe you have already have one). As a user, you are expected to input the amount of money you spend on average from this card per month. Let's assume that the bonus program gives you 2 free air miles for every dollar you spend. Here's a simple program to figure out when you can travel somewhere for free:"
   ],
   "metadata": {
    "collapsed": false
   }
  },
  {
   "cell_type": "code",
   "execution_count": 1,
   "outputs": [
    {
     "name": "stdout",
     "output_type": "stream",
     "text": [
      "1.075\n"
     ]
    }
   ],
   "source": [
    "# the average amount of money per month\n",
    "money = int(input(\"How much money do you spend per month: \"))\n",
    "\n",
    "# the number of miles per unit of money\n",
    "n_miles = 2\n",
    "\n",
    "# earned miles\n",
    "miles_per_month = money * n_miles\n",
    "\n",
    "# the distance between London and Paris\n",
    "distance = 215\n",
    "\n",
    "# how many months do you need to get\n",
    "# a free trip from London to Paris and back\n",
    "print(distance * 2 / miles_per_month)"
   ],
   "metadata": {
    "collapsed": false,
    "ExecuteTime": {
     "start_time": "2023-05-21T18:52:15.035909Z",
     "end_time": "2023-05-21T18:52:19.317416Z"
    }
   }
  },
  {
   "cell_type": "markdown",
   "source": [
    "This program will calculate how many months it takes to travel the selected distance and back."
   ],
   "metadata": {
    "collapsed": false
   }
  },
  {
   "cell_type": "markdown",
   "source": [
    "<div>Although it is recommended to write messages for users in the `input()` function, avoid them in our educational programming challenges, otherwise your code may not pass our tests.</div>"
   ],
   "metadata": {
    "collapsed": false
   }
  },
  {
   "cell_type": "markdown",
   "source": [
    "#### 3. Advanced forms of assignment\n",
    "Whenever you use an equal sign `=`, you actually assign some value to a variable. For that reason, `=` is typically referred to as an `assignment operator`. Meanwhile, there are other assignment operators you can use in Python. They are also called **compound assignment operators**, for they carry out an arithmetic operation and assignment in one step. Have a lookk at the code snippet below:"
   ],
   "metadata": {
    "collapsed": false
   }
  },
  {
   "cell_type": "code",
   "execution_count": null,
   "outputs": [],
   "source": [
    "# simple assignment\n",
    "number = 10\n",
    "number = number + 1  # 11"
   ],
   "metadata": {
    "collapsed": false
   }
  },
  {
   "cell_type": "markdown",
   "source": [
    "This code is equivalent to the following one:"
   ],
   "metadata": {
    "collapsed": false
   }
  },
  {
   "cell_type": "code",
   "execution_count": null,
   "outputs": [],
   "source": [
    "# compound assignment\n",
    "number = 10\n",
    "number += 1     # 11"
   ],
   "metadata": {
    "collapsed": false
   }
  },
  {
   "cell_type": "markdown",
   "source": [
    "One can clearly see from the example that the second piece of code is more concise (for it doesn't repeat the variable's name).\n",
    "\n",
    "Naturally, similar assignment forms exist for the rest of arithmetic operations: `-=`, `*=`, `/=`, `//=`, `%=` `**=`. Given the opportunity, use them to save time and effort.\n",
    "\n",
    "One possible application of compound assignment comes next."
   ],
   "metadata": {
    "collapsed": false
   }
  },
  {
   "cell_type": "markdown",
   "source": [
    "#### 4. Counter variable\n",
    "In programming, there is a concept called loop. It is used to repeat some block of code a certain number of times. Pretty often they have special variables called **counters** alongside them. A **counter**, as the name presupposes, counts something: how many times a condition is met, how many elements in the sequence, etc. Hence, counters should be integers. Now we are getting to the point: you can use the operators `+=` and `-=` to increase or decrease the counter respectively.\n",
    "\n",
    "Consider this example where a user determines the value by which the counter is increased:"
   ],
   "metadata": {
    "collapsed": false
   }
  },
  {
   "cell_type": "code",
   "execution_count": 2,
   "outputs": [
    {
     "name": "stdout",
     "output_type": "stream",
     "text": [
      "5\n"
     ]
    }
   ],
   "source": [
    "counter = 1\n",
    "step = int(input())     # let it be 3\n",
    "counter += step\n",
    "print(counter)          # it should be 4"
   ],
   "metadata": {
    "collapsed": false,
    "ExecuteTime": {
     "start_time": "2023-05-21T19:11:21.551751Z",
     "end_time": "2023-05-21T19:11:22.956662Z"
    }
   }
  },
  {
   "cell_type": "markdown",
   "source": [
    "In case you need only non-negative integers from the user (we are increasing the counter after all!), you can prevent incorrect inputs by using the `abs()` function. It is a Python built-in function that returns the absolute value of a number (that is, value regardless of its sign). Let's readjust our last program a bit:"
   ],
   "metadata": {
    "collapsed": false
   }
  },
  {
   "cell_type": "code",
   "execution_count": null,
   "outputs": [],
   "source": [
    "counter = 1\n",
    "step = abs(int(input()))        # user type -3\n",
    "counter += step\n",
    "print(counter)      # it's still 4"
   ],
   "metadata": {
    "collapsed": false
   }
  },
  {
   "cell_type": "markdown",
   "source": [
    "As you can see, thanks to the `abs()` function we got a positive number."
   ],
   "metadata": {
    "collapsed": false
   }
  },
  {
   "cell_type": "markdown",
   "source": [
    "<div>For now, it's all right that you do not know much about the mentioned details of **errors**, **loops**, and **built-in functions** in Python. We will catch up and make sure that you know these topics comprehensively. Keep learning!"
   ],
   "metadata": {
    "collapsed": false
   }
  },
  {
   "cell_type": "markdown",
   "source": [
    "#### 5. Summary\n",
    "Thus, we have shed some light on new details about integer arithmetic and the processing of numerical inputs in Python. Feel free to use them in your future projects. In this topic, we discussed:\n",
    "* how to read numbers from the user input;\n",
    "* how to assign numbers to variables and use arithmetic operators to assign the result of the calculation;\n",
    "* what counters are and when they are used."
   ],
   "metadata": {
    "collapsed": false
   }
  },
  {
   "cell_type": "code",
   "execution_count": 7,
   "outputs": [
    {
     "data": {
      "text/plain": "50.0"
     },
     "execution_count": 7,
     "metadata": {},
     "output_type": "execute_result"
    }
   ],
   "source": [
    "amount = 1000\n",
    "interest_rate = 5\n",
    "years = 1\n",
    "\n",
    "income = (amount * interest_rate * years) / 100\n",
    "income"
   ],
   "metadata": {
    "collapsed": false,
    "ExecuteTime": {
     "start_time": "2023-05-21T19:18:27.070030Z",
     "end_time": "2023-05-21T19:18:27.079039Z"
    }
   }
  },
  {
   "cell_type": "code",
   "execution_count": 11,
   "outputs": [
    {
     "name": "stdout",
     "output_type": "stream",
     "text": [
      "4\n"
     ]
    }
   ],
   "source": [
    "N = int(input())\n",
    "K = int(input())\n",
    "print(K // N)"
   ],
   "metadata": {
    "collapsed": false,
    "ExecuteTime": {
     "start_time": "2023-05-21T19:20:38.360668Z",
     "end_time": "2023-05-21T19:20:40.621100Z"
    }
   }
  },
  {
   "cell_type": "code",
   "execution_count": 14,
   "outputs": [
    {
     "name": "stdout",
     "output_type": "stream",
     "text": [
      "4\n"
     ]
    }
   ],
   "source": [
    "print(int(N ** -1 * K))"
   ],
   "metadata": {
    "collapsed": false,
    "ExecuteTime": {
     "start_time": "2023-05-21T19:22:40.516857Z",
     "end_time": "2023-05-21T19:22:40.529866Z"
    }
   }
  },
  {
   "cell_type": "code",
   "execution_count": null,
   "outputs": [],
   "source": [],
   "metadata": {
    "collapsed": false
   }
  }
 ],
 "metadata": {
  "kernelspec": {
   "display_name": "Python 3",
   "language": "python",
   "name": "python3"
  },
  "language_info": {
   "codemirror_mode": {
    "name": "ipython",
    "version": 2
   },
   "file_extension": ".py",
   "mimetype": "text/x-python",
   "name": "python",
   "nbconvert_exporter": "python",
   "pygments_lexer": "ipython2",
   "version": "2.7.6"
  }
 },
 "nbformat": 4,
 "nbformat_minor": 0
}
