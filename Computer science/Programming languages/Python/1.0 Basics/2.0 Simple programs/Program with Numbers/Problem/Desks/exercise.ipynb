{
 "cells": [
  {
   "cell_type": "markdown",
   "source": [
    "### Program with numbers"
   ],
   "metadata": {
    "collapsed": false,
    "pycharm": {
     "name": "#%% md\n"
    }
   }
  },
  {
   "cell_type": "markdown",
   "source": [
    "#### Desks\n",
    "A school has decided to create three new math groups and equip three classrooms for them with new desks. Your tasks is to calculate the minimum number of desks to be purchased. To do so, you'll need the following information:\n",
    "* The number of students in each of the three groups is known: your program will receive three non-negative integers as the input. It is possible that one or more of them will be zero, so you should take it into account.\n",
    "* Each group will sit in its own classroom. It means that you should calculate the number of desks for each classroom separately, and only then add them up!\n",
    "* At most two students may sit at any desk. You are expected to output the *minimum* number of desks to by, so there should be as many as possible desks taken by two students rather than one.\n",
    "\n",
    "Most probably, you'll need operations `//` and `%` in your program!"
   ],
   "metadata": {
    "collapsed": false,
    "pycharm": {
     "name": "#%% md\n"
    }
   }
  },
  {
   "cell_type": "code",
   "execution_count": 1,
   "outputs": [
    {
     "name": "stdout",
     "output_type": "stream",
     "text": [
      "45\n"
     ]
    }
   ],
   "source": [],
   "metadata": {
    "collapsed": false,
    "pycharm": {
     "name": "#%%\n"
    }
   }
  }
 ],
 "metadata": {
  "kernelspec": {
   "display_name": "Python 3",
   "language": "python",
   "name": "python3"
  },
  "language_info": {
   "codemirror_mode": {
    "name": "ipython",
    "version": 2
   },
   "file_extension": ".py",
   "mimetype": "text/x-python",
   "name": "python",
   "nbconvert_exporter": "python",
   "pygments_lexer": "ipython2",
   "version": "2.7.6"
  }
 },
 "nbformat": 4,
 "nbformat_minor": 0
}