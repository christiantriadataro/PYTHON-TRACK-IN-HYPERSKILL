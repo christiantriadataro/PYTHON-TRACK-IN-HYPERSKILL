{
 "cells": [
  {
   "cell_type": "markdown",
   "source": [
    "### Program with numbers"
   ],
   "metadata": {
    "collapsed": false,
    "pycharm": {
     "name": "#%% md\n"
    }
   }
  },
  {
   "cell_type": "markdown",
   "source": [
    "#### Good rest on vacation\n",
    "Write a program that will help people who are going on vacation. The program should calculate the total required sum (e.g. $) of money to have a good rest for a given duration. There are four parameters that have to be considered:\n",
    "* duration in days\n",
    "* total food cost per day\n",
    "* one-way flight cost\n",
    "* cost of one night in a hotel (the number of nights is equal to the duration of days minus one)\n",
    "\n",
    "Read integer values of these parameters from the standard input and then print the result."
   ],
   "metadata": {
    "collapsed": false,
    "pycharm": {
     "name": "#%% md\n"
    }
   }
  },
  {
   "cell_type": "code",
   "execution_count": 2,
   "outputs": [
    {
     "name": "stdout",
     "output_type": "stream",
     "text": [
      "650\n"
     ]
    }
   ],
   "source": [
    "duration_days = int(input())\n",
    "total_food_cost = int(input())\n",
    "flight_cost = int(input())\n",
    "hotel_night_cost = int(input())\n",
    "total = (hotel_night_cost * (duration_days - 1)) + (total_food_cost * duration_days) + (flight_cost * 2)\n",
    "print(total)"
   ],
   "metadata": {
    "collapsed": false,
    "pycharm": {
     "name": "#%%\n"
    }
   }
  },
  {
   "cell_type": "code",
   "execution_count": 4,
   "outputs": [
    {
     "name": "stdout",
     "output_type": "stream",
     "text": [
      "21.5\n"
     ]
    }
   ],
   "source": [
    "# the number of free miles per dollar\n",
    "n_miles = 0.01\n",
    "\n",
    "# money spent per month (in dollars)\n",
    "money = 2000\n",
    "\n",
    "# number of miles earned each month\n",
    "miles_per_month = money * n_miles\n",
    "\n",
    "# distance from London to Paris and back (in miles)\n",
    "total_distance = 215 * 2\n",
    "print(total_distance / miles_per_month)"
   ],
   "metadata": {
    "collapsed": false,
    "pycharm": {
     "name": "#%%\n"
    }
   }
  }
 ],
 "metadata": {
  "kernelspec": {
   "display_name": "Python 3",
   "language": "python",
   "name": "python3"
  },
  "language_info": {
   "codemirror_mode": {
    "name": "ipython",
    "version": 2
   },
   "file_extension": ".py",
   "mimetype": "text/x-python",
   "name": "python",
   "nbconvert_exporter": "python",
   "pygments_lexer": "ipython2",
   "version": "2.7.6"
  }
 },
 "nbformat": 4,
 "nbformat_minor": 0
}