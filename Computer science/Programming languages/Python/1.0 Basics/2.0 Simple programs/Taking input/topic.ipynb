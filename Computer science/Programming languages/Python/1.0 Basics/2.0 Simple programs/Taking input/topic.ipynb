{
 "cells": [
  {
   "cell_type": "markdown",
   "source": [
    "### Taking input"
   ],
   "metadata": {
    "collapsed": false
   }
  },
  {
   "cell_type": "markdown",
   "source": [
    "#### Theory\n",
    "Sometimes programs need to interact with users, either to receive some data or to deliver some sort of result. And that's when the `input()` function steals the show."
   ],
   "metadata": {
    "collapsed": false
   }
  },
  {
   "cell_type": "markdown",
   "source": [
    "#### 1. Reading input from a user\n",
    "The input data we want to get is nothing but some value entered by the user. The `input()` function reads this value and returns it in a program as a string. For example, the following program reads the user name and prints a greeting."
   ],
   "metadata": {
    "collapsed": false
   }
  },
  {
   "cell_type": "code",
   "execution_count": 1,
   "outputs": [
    {
     "name": "stdout",
     "output_type": "stream",
     "text": [
      "Hello, Sauron\n"
     ]
    }
   ],
   "source": [
    "user_name = input()\n",
    "print('Hello, ' + user_name)"
   ],
   "metadata": {
    "collapsed": false,
    "ExecuteTime": {
     "start_time": "2023-05-18T12:21:28.272220Z",
     "end_time": "2023-05-18T12:30:48.746152Z"
    }
   }
  },
  {
   "cell_type": "markdown",
   "source": [
    "In the first line, the program will wait for the user to enter something as input. We'll assign this input to a variable to save it for later. In the second line, the program appends the entered name to the end of the 'Hello, ' string and prints the whole phrase as a result.\n",
    "\n",
    "If a user enters `Sauron`, this program prints:\n",
    "\n",
    "`Hello, Sauron`\n",
    "\n",
    "So, your program prints a result that depends on the user's input (name)."
   ],
   "metadata": {
    "collapsed": false
   }
  },
  {
   "cell_type": "markdown",
   "source": [
    "#### 2. Clear messages\n",
    "It is highly recommended to state clearly what type of input we except from out users. To do so, the `input()` function may take an optional argument, that is, a message:"
   ],
   "metadata": {
    "collapsed": false
   }
  },
  {
   "cell_type": "code",
   "execution_count": 2,
   "outputs": [
    {
     "name": "stdout",
     "output_type": "stream",
     "text": [
      "Hello, Sauron\n"
     ]
    }
   ],
   "source": [
    "user_name = input('Please, enter your name: ')\n",
    "print('Hello, '  + user_name)"
   ],
   "metadata": {
    "collapsed": false,
    "ExecuteTime": {
     "start_time": "2023-05-18T12:36:15.800107Z",
     "end_time": "2023-05-18T12:36:17.274267Z"
    }
   }
  },
  {
   "cell_type": "markdown",
   "source": [
    "The program starts, the user sees the message, enters their name, and gets the result as follows:\n",
    "\n",
    "`\n",
    "Please, enter your name: Sauron\n",
    "Hello, Sauron\n",
    "`\n",
    "\n",
    "Another way to do this is to print the message separately"
   ],
   "metadata": {
    "collapsed": false
   }
  },
  {
   "cell_type": "code",
   "execution_count": null,
   "outputs": [],
   "source": [
    "print('Enter your name: ')\n",
    "user_name = input()\n",
    "print('Hello, ' + user_name)"
   ],
   "metadata": {
    "collapsed": false
   }
  },
  {
   "cell_type": "markdown",
   "source": [
    "There's no big difference actually: in the previous example, the input will be printed in the same line as the message, while in this case it will be entered on the next line. So, you may choose whatever you like."
   ],
   "metadata": {
    "collapsed": false
   }
  },
  {
   "cell_type": "markdown",
   "source": [
    "<div>Although it is recommended to print message for users, avoid them in our educational programming language, otherwise your code may not pass our tests."
   ],
   "metadata": {
    "collapsed": false
   }
  },
  {
   "cell_type": "markdown",
   "source": [
    "#### 3. Important details\n",
    "Let's dig into some details.\n",
    "\n",
    "First of all, how long can the user's input be, and how does the program understand that the person entered everything they wanted? Here's a thing about the `input()` function: as soon as the program has started executing this function, it stops and waits for the user to enter some value and `press Enter`. That also means that if there's no input from the user, the program will not execute any further.\n",
    "\n",
    "What else should you remember? Well, this: any value you enter, the function sees as a **string**. It doesn't matter if you enter digits or letters, the input will be converted to a string.\n",
    "\n",
    "If you want a number to be a **number**, you should write it explicitly:"
   ],
   "metadata": {
    "collapsed": false
   }
  },
  {
   "cell_type": "code",
   "execution_count": null,
   "outputs": [],
   "source": [
    "print(\"What's your favorite number?\")\n",
    "value = int(input())        # now value keeps an integer number"
   ],
   "metadata": {
    "collapsed": false
   }
  },
  {
   "cell_type": "markdown",
   "source": [
    "However, be careful: in these circum stances, if a user enters a non-integer value, an `Error` will appear.\n",
    "\n",
    "To read several inputs, you should call the function more than once:"
   ],
   "metadata": {
    "collapsed": false
   }
  },
  {
   "cell_type": "code",
   "execution_count": 3,
   "outputs": [],
   "source": [
    "day = int(input())      # 4\n",
    "month = input()         # October"
   ],
   "metadata": {
    "collapsed": false,
    "ExecuteTime": {
     "start_time": "2023-05-18T12:50:06.573370Z",
     "end_time": "2023-05-18T12:50:09.832955Z"
    }
   }
  },
  {
   "cell_type": "markdown",
   "source": [
    "Brilliant! Why this date? It's simple:"
   ],
   "metadata": {
    "collapsed": false
   }
  },
  {
   "cell_type": "code",
   "execution_count": null,
   "outputs": [],
   "source": [
    "print('Cinnamon roll is celebrated on', month, day)\n",
    "# Cinnamon roll day is celebrated on October 4"
   ],
   "metadata": {
    "collapsed": false
   }
  },
  {
   "cell_type": "markdown",
   "source": [
    "#### 4. Conclusion\n",
    "Congratulations, now you know how to work with `input()`, that is, function that helps you interact with the user. Believe us, this is something you will definitely appreciate when programming. Here's what you've learned:\n",
    "* there is no limit for the input data length, the function will be waiting until the user presses Enter;\n",
    "* you can add a message to the user along with the input request;\n",
    "* the function interprets any entered value as a string;\n",
    "* the input data can be later converted to the data type you need."
   ],
   "metadata": {
    "collapsed": false
   }
  }
 ],
 "metadata": {
  "kernelspec": {
   "display_name": "Python 3",
   "language": "python",
   "name": "python3"
  },
  "language_info": {
   "codemirror_mode": {
    "name": "ipython",
    "version": 2
   },
   "file_extension": ".py",
   "mimetype": "text/x-python",
   "name": "python",
   "nbconvert_exporter": "python",
   "pygments_lexer": "ipython2",
   "version": "2.7.6"
  }
 },
 "nbformat": 4,
 "nbformat_minor": 0
}
