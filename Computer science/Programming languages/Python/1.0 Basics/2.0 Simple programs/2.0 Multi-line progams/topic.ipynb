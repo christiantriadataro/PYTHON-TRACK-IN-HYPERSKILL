{
 "cells": [
  {
   "cell_type": "markdown",
   "source": [
    "### Multi-line programs"
   ],
   "metadata": {
    "collapsed": false,
    "pycharm": {
     "name": "#%% md\n"
    }
   }
  },
  {
   "cell_type": "markdown",
   "source": [
    "#### Theory\n",
    "We hope you have already learned how to write simple\n",
    "Python programs consisting og a single line that just\n",
    "prints a text. However, real programs contain a significant\n",
    "number of lines: from tens and hundreds for small scripts\n",
    "to thousands and even more for large projects. So, in this\n",
    "lessons, you will write programs that print multiple lines."
   ],
   "metadata": {
    "collapsed": false,
    "pycharm": {
     "name": "#%% md\n"
    }
   }
  },
  {
   "cell_type": "markdown",
   "source": [
    "#### 1. Ways of printing multiple lines\n",
    "Let's consider an example, the following code prints exactly three strings, each on a new line:"
   ],
   "metadata": {
    "collapsed": false,
    "pycharm": {
     "name": "#%% md\n"
    }
   }
  },
  {
   "cell_type": "code",
   "execution_count": 1,
   "outputs": [
    {
     "name": "stdout",
     "output_type": "stream",
     "text": [
      "I\n",
      "know\n",
      "Python\n"
     ]
    }
   ],
   "source": [
    "print(\"I\")\n",
    "print(\"know\")\n",
    "print(\"Python\")"
   ],
   "metadata": {
    "collapsed": false,
    "pycharm": {
     "name": "#%%\n"
    }
   }
  },
  {
   "cell_type": "markdown",
   "source": [
    "The output is:\n",
    "`\n",
    "I\n",
    "know\n",
    "Python\n",
    "`\n",
    "\n",
    "You can run this example [here](https://repl.it/languages/python3) or locally if you have already installed Python on your computer.\n",
    "\n",
    "There are other ways to print the same text using just one function call. We wil consider them in the next topics.\n",
    "\n",
    "The `print` function also allows you to print an empty\n",
    "line with no string specified:"
   ],
   "metadata": {
    "collapsed": false,
    "pycharm": {
     "name": "#%% md\n"
    }
   }
  },
  {
   "cell_type": "code",
   "execution_count": 2,
   "outputs": [
    {
     "name": "stdout",
     "output_type": "stream",
     "text": [
      "I\n",
      "\n",
      "know\n",
      "\n",
      "Python\n"
     ]
    }
   ],
   "source": [
    "print(\"I\")\n",
    "print()\n",
    "print(\"know\")\n",
    "print()\n",
    "print(\"Python\")"
   ],
   "metadata": {
    "collapsed": false,
    "pycharm": {
     "name": "#%%\n"
    }
   }
  },
  {
   "cell_type": "markdown",
   "source": [
    "Here's the output:\n",
    "`\n",
    "I\n",
    "\n",
    "know\n",
    "\n",
    "Python\n",
    "`\n",
    "\n",
    "However, skipping the line will have no effect:"
   ],
   "metadata": {
    "collapsed": false,
    "pycharm": {
     "name": "#%% md\n"
    }
   }
  },
  {
   "cell_type": "code",
   "execution_count": 3,
   "outputs": [
    {
     "name": "stdout",
     "output_type": "stream",
     "text": [
      "And\n",
      "you?\n"
     ]
    }
   ],
   "source": [
    "print(\"And\")\n",
    "\n",
    "print(\"you?\")"
   ],
   "metadata": {
    "collapsed": false,
    "pycharm": {
     "name": "#%%\n"
    }
   }
  },
  {
   "cell_type": "markdown",
   "source": [
    "The output is:\n",
    "`\n",
    "And\n",
    "you?\n",
    "`"
   ],
   "metadata": {
    "collapsed": false,
    "pycharm": {
     "name": "#%% md\n"
    }
   }
  },
  {
   "cell_type": "markdown",
   "source": [
    "#### 2. Conclusion\n",
    "In this short lesson, we learned how to deal with multiple lines with the help of `print()`. Now it's time to solve some problems."
   ],
   "metadata": {
    "collapsed": false,
    "pycharm": {
     "name": "#%% md\n"
    }
   }
  },
  {
   "cell_type": "markdown",
   "source": [],
   "metadata": {
    "collapsed": false,
    "pycharm": {
     "name": "#%% md\n"
    }
   }
  }
 ],
 "metadata": {
  "kernelspec": {
   "display_name": "Python 3",
   "language": "python",
   "name": "python3"
  },
  "language_info": {
   "codemirror_mode": {
    "name": "ipython",
    "version": 2
   },
   "file_extension": ".py",
   "mimetype": "text/x-python",
   "name": "python",
   "nbconvert_exporter": "python",
   "pygments_lexer": "ipython2",
   "version": "2.7.6"
  }
 },
 "nbformat": 4,
 "nbformat_minor": 0
}