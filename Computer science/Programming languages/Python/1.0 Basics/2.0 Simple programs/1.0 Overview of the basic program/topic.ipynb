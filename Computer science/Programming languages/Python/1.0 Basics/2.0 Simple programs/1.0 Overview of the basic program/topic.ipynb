{
 "cells": [
  {
   "cell_type": "markdown",
   "source": [
    "### Overview of the basic program"
   ],
   "metadata": {
    "collapsed": false,
    "pycharm": {
     "name": "#%% md\n"
    }
   }
  },
  {
   "cell_type": "markdown",
   "source": [
    "#### Theory\n",
    "In this topic, you will learn how to develop your first Python programs. Despite the fact that these programs are quite simple, they are still syntactically correct and show that programming in Python is a treat."
   ],
   "metadata": {
    "collapsed": false,
    "pycharm": {
     "name": "#%% md\n"
    }
   }
  },
  {
   "cell_type": "markdown",
   "source": [
    "#### 1. The Hello World program\n",
    "Our first example will be **Hello, World!** It is traditionally used to introduce beginners to a new programming language."
   ],
   "metadata": {
    "collapsed": false,
    "pycharm": {
     "name": "#%% md\n"
    }
   }
  },
  {
   "cell_type": "code",
   "execution_count": 1,
   "outputs": [
    {
     "name": "stdout",
     "output_type": "stream",
     "text": [
      "Hello, World!\n"
     ]
    }
   ],
   "source": [
    "print(\"Hello, World!\")"
   ],
   "metadata": {
    "collapsed": false,
    "pycharm": {
     "name": "#%%\n"
    }
   }
  },
  {
   "cell_type": "markdown",
   "source": [
    "As you can see, it consists of a single line and just prints a string passed in the parentheses, but without quotes. You may run this code [online](https://repl.it/languages/python3) (just copy it and click on the triangle) or follow these [installation tips](https://www.python.org/about/gettingstarted/#installing). You should get this result.\n",
    "\n",
    "`\n",
    "Hello, World!\n",
    "`\n",
    "\n",
    "Although this code is very simple, we will go through it in some more detail."
   ],
   "metadata": {
    "collapsed": false,
    "pycharm": {
     "name": "#%% md\n"
    }
   }
  },
  {
   "cell_type": "markdown",
   "source": [
    "#### 2. Short explanation\n",
    "Here, **print** is the name of a function. A **function** is a block of code that does some useful work for you, e.g. prints a text. In some sense, a function is a subprogram that can be reused within your programs. When the name of a function is followed by parentheses, it means that it was **called** to get the result.\n",
    "\n",
    "Let's go further: **\"Hello, World!\"** is a Python string. All strings are surrounded by either *single* or *double* quotes, so **'Hello, World!'** is also a valid string. You may replace that string with another one, and the program will print the new string. For example:"
   ],
   "metadata": {
    "collapsed": false,
    "pycharm": {
     "name": "#%% md\n"
    }
   }
  },
  {
   "cell_type": "code",
   "execution_count": 2,
   "outputs": [
    {
     "name": "stdout",
     "output_type": "stream",
     "text": [
      "Python 3.x\n"
     ]
    }
   ],
   "source": [
    "print('Python 3.x')"
   ],
   "metadata": {
    "collapsed": false,
    "pycharm": {
     "name": "#%%\n"
    }
   }
  },
  {
   "cell_type": "markdown",
   "source": [
    "As you might guess, this program will print:\n",
    "`\n",
    "Python 3.x\n",
    "`"
   ],
   "metadata": {
    "collapsed": false,
    "pycharm": {
     "name": "#%% md\n"
    }
   }
  },
  {
   "cell_type": "markdown",
   "source": [
    "#### 3. Printing quotes\n",
    "Now imagine that the string you want to print already contains some type of quotation mark. If you would lke to include quotes into a string, then enclose this string in quotes of **another** type. e.g.:"
   ],
   "metadata": {
    "collapsed": false,
    "pycharm": {
     "name": "#%% md\n"
    }
   }
  },
  {
   "cell_type": "code",
   "execution_count": null,
   "outputs": [],
   "source": [
    "print(\"Yes, I'm ready to learn Python.\")"
   ],
   "metadata": {
    "collapsed": false,
    "pycharm": {
     "name": "#%%\n"
    }
   }
  },
  {
   "cell_type": "markdown",
   "source": [
    "Part of the string with `I'm` is printed **correctly**, because you used double quotes `\"...\"` to enclose the whole string:\n",
    "\n",
    "`\n",
    "Yes, I'm ready to learn Python.\n",
    "`\n",
    "\n",
    "If you write it in the following **wrong** way:"
   ],
   "metadata": {
    "collapsed": false,
    "pycharm": {
     "name": "#%% md\n"
    }
   }
  },
  {
   "cell_type": "code",
   "execution_count": null,
   "outputs": [],
   "source": [
    "print('Yes, I'm ready to learn Python.`)"
   ],
   "metadata": {
    "collapsed": false,
    "pycharm": {
     "name": "#%%\n"
    }
   }
  },
  {
   "cell_type": "markdown",
   "source": [
    "your program won't know where the string starts and ends.\n",
    "\n",
    "You can try to run all the examples using the [link](https://repl.it/languages/python3) provided earlier. This will help you familiarize yourself with Python."
   ],
   "metadata": {
    "collapsed": false,
    "pycharm": {
     "name": "#%% md\n"
    }
   }
  },
  {
   "cell_type": "markdown",
   "source": [
    "#### 4. Possible errors\n",
    "Even this simple line of code may contain errors, most common of them are:\n",
    "\n",
    "* **putting extra indentation**"
   ],
   "metadata": {
    "collapsed": false,
    "pycharm": {
     "name": "#%% md\n"
    }
   }
  },
  {
   "cell_type": "code",
   "execution_count": null,
   "outputs": [],
   "source": [
    "        print(\"Hello, World!\")"
   ],
   "metadata": {
    "collapsed": false,
    "pycharm": {
     "name": "#%%\n"
    }
   }
  },
  {
   "cell_type": "markdown",
   "source": [
    "This does not work because of extra spaces before **print**."
   ],
   "metadata": {
    "collapsed": false,
    "pycharm": {
     "name": "#%% md\n"
    }
   }
  },
  {
   "cell_type": "markdown",
   "source": [
    "* **calling the function by the wrong name.**"
   ],
   "metadata": {
    "collapsed": false,
    "pycharm": {
     "name": "#%% md\n"
    }
   }
  },
  {
   "cell_type": "code",
   "execution_count": null,
   "outputs": [],
   "source": [
    "pint(\"Hello, World!\")"
   ],
   "metadata": {
    "collapsed": false,
    "pycharm": {
     "name": "#%%\n"
    }
   }
  },
  {
   "cell_type": "markdown",
   "source": [
    "This line contains **pint** instead of **print**. Make sure to refer to every function by its proper name.\n",
    "\n",
    "* **writing names in wrong case**"
   ],
   "metadata": {
    "collapsed": false,
    "pycharm": {
     "name": "#%% md\n"
    }
   }
  },
  {
   "cell_type": "code",
   "execution_count": null,
   "outputs": [],
   "source": [
    "PRINT(\"All caps\")"
   ],
   "metadata": {
    "collapsed": false,
    "pycharm": {
     "name": "#%%\n"
    }
   }
  },
  {
   "cell_type": "markdown",
   "source": [
    "Again, **Print**, **print**, and **PRINT** are not the same. Names are case-sensitive in Python.\n",
    "\n",
    "* **missing one or more parentheses**"
   ],
   "metadata": {
    "collapsed": false,
    "pycharm": {
     "name": "#%% md\n"
    }
   }
  },
  {
   "cell_type": "code",
   "execution_count": null,
   "outputs": [],
   "source": [
    "print(\" I have no end\""
   ],
   "metadata": {
    "collapsed": false,
    "pycharm": {
     "name": "#%%\n"
    }
   }
  },
  {
   "cell_type": "markdown",
   "source": [
    "Be careful with parentheses, especially when calling a function.\n",
    "\n",
    "Now you shouldn't have any serious trouble with such programs."
   ],
   "metadata": {
    "collapsed": false,
    "pycharm": {
     "name": "#%% md\n"
    }
   }
  },
  {
   "cell_type": "markdown",
   "source": [
    "#### 5. Summary\n",
    "In this topic, we've written our first program in Python, broke it down, printed some strings, and looked at the most common errors you may encounter at the very start."
   ],
   "metadata": {
    "collapsed": false,
    "pycharm": {
     "name": "#%% md\n"
    }
   }
  }
 ],
 "metadata": {
  "kernelspec": {
   "display_name": "Python 3",
   "language": "python",
   "name": "python3"
  },
  "language_info": {
   "codemirror_mode": {
    "name": "ipython",
    "version": 2
   },
   "file_extension": ".py",
   "mimetype": "text/x-python",
   "name": "python",
   "nbconvert_exporter": "python",
   "pygments_lexer": "ipython2",
   "version": "2.7.6"
  }
 },
 "nbformat": 4,
 "nbformat_minor": 0
}