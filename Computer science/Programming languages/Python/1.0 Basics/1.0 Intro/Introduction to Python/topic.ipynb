{
 "cells": [
  {
   "cell_type": "markdown",
   "source": [
    "### Introduction to Python"
   ],
   "metadata": {
    "collapsed": false,
    "pycharm": {
     "name": "#%% md\n"
    }
   }
  },
  {
   "cell_type": "markdown",
   "source": [
    "#### Theory\n",
    "Computer science has been around for a while, and\n",
    "programming languages are one of its main tools. These\n",
    "are designed to help us implement software to run on a\n",
    "computer. Just as natural languages for people, they\n",
    "serve as a communication tool, only between people and\n",
    "machines. In this topic, we will learn about the one\n",
    "exponentially gaining popularity among developers\n",
    "recently. Behold, this is an introduction to Python!"
   ],
   "metadata": {
    "collapsed": false,
    "pycharm": {
     "name": "#%% md\n"
    }
   }
  },
  {
   "cell_type": "markdown",
   "source": [
    "#### 1. What is Python?\n",
    "**Python** is a modern general-purpose programming\n",
    "language initially developer by a Dutch programmer\n",
    "named Guido van Rossum in the late 1980s. The name\n",
    "comes from the popular Month Python show, not the\n",
    "snake, as you might think. This language has a clean,\n",
    "uniform, and easy-to-read syntax and is designed to be\n",
    "easy to learn and use in practice.\n",
    "\n",
    "Nowadays, Python is one of the most popular programming languages\n",
    "worldwide, according to the\n",
    "[TIOBE](https://www.tiobe.com/tiobe-index/) index. The number of programmers  who use it is growing every day! The language has a huge community of developers around the world. If you have a problem, you can always ask other programmers for help or find a suitable answer on a site like [Stack Overflow](https://stackoverflow.com/questions/tagged/python).\n",
    "\n",
    "Developing software with Python is easy and fun!\n",
    "![](https://ucarecdn.com/33368eeb-d6f0-4356-90d4-c5aab4126fbc/)\n",
    "\n",
    "Python has a wide range of possible applications, especially in:\n",
    "- Web development;\n",
    "- Data science (including machine learning);\n",
    "- Scripting (task automation, such as text processing or simulation of typical user actions).\n",
    "\n",
    "It is also used in **desktop development**, though less commonly."
   ],
   "metadata": {
    "collapsed": false,
    "pycharm": {
     "name": "#%% md\n"
    }
   }
  },
  {
   "cell_type": "markdown",
   "source": [
    "#### 2. Python in data science\n",
    "Python's huge popularity in recent years is mostly due to\n",
    "its use in data science. What makes it better than other\n",
    "languages for this purpose? Well, there's a number of reasons:\n",
    "\n",
    "- Its simple syntax allows people from non-programming backgrounds to use it for data processing and model training without spending much time learning a new language.\n",
    "- Python supports a very large number of third-party libraries for machine learning, neural networks, statistics, and numeric calculations, which makes your job much easier.\n",
    "- With Python, it is possible to collect, clean, and explore data, as well as train models and visualize the results - all in one setting!\n",
    "- Python ML developers' community is very large, so you can always find support for your tasks.\n",
    "\n",
    "As you can see, Python does have a lot to offer for data science enthusiasts."
   ],
   "metadata": {
    "collapsed": false,
    "pycharm": {
     "name": "#%% md\n"
    }
   }
  },
  {
   "cell_type": "markdown",
   "source": [
    "#### 3. A short history of Python\n",
    "Like other programming languages, Python has gone through a number of versions. Python 1.0 was released in 1994 and laid the basic principles of the language with emphasis on simplicity.\n",
    "\n",
    "Python 2.0 was released in 2000. This version has become very popular among programmers. Different 2.x subversions (2.6, 2.7) are still used in various projects and libraries. The symbol **x** in 2.x means any subversion of Python 2.\n",
    "\n",
    "Python 3.0 was the next major version released in 2008. It broke backward compatibility with its predecessors in order to rid the language of historic clutter and make Python more readable and consistent.\n",
    "\n",
    "Today, two similar but incompatible versions of Python are commonly used. Knowing about the compatibility of Python versions will likely help you in the future. If you know it, you can easily read through the older code and correct it, so it will run without any mistakes in newer Python versions."
   ],
   "metadata": {
    "collapsed": false,
    "pycharm": {
     "name": "#%% md\n"
    }
   }
  },
  {
   "cell_type": "markdown",
   "source": [
    "<div>\n",
    "    Throughout this course, we will be working with Python 3.x.\n",
    "</div>"
   ],
   "metadata": {
    "collapsed": false,
    "pycharm": {
     "name": "#%% md\n"
    }
   }
  },
  {
   "cell_type": "markdown",
   "source": [
    "#### 4. First program example\n",
    "Here is a single line of Python code that prints `Learn Python to be great!`."
   ],
   "metadata": {
    "collapsed": false,
    "pycharm": {
     "name": "#%% md\n"
    }
   }
  },
  {
   "cell_type": "code",
   "execution_count": null,
   "outputs": [],
   "source": [
    "print(\"Learn Python to be great!\")"
   ],
   "metadata": {
    "collapsed": false,
    "pycharm": {
     "name": "#%%\n"
    }
   }
  },
  {
   "cell_type": "markdown",
   "source": [
    "For now, you do not need to understand how this code works: just appreciate its beautiful syntax that isn't too far from normal English."
   ],
   "metadata": {
    "collapsed": false,
    "pycharm": {
     "name": "#%% md\n"
    }
   }
  },
  {
   "cell_type": "markdown",
   "source": [
    "#### 5. Summary\n",
    "Let's summarize what we've learned in this topic:\n",
    "- what Python is;\n",
    "- its applications;\n",
    "- the reasons why Python is so popular in the field of data science;\n",
    "- the history of the language;\n",
    "- how to write simple code in Python.\n",
    "\n",
    "Now, when you know the most basic things about Python, you're all settled to continue your journey into it!"
   ],
   "metadata": {
    "collapsed": false,
    "pycharm": {
     "name": "#%% md\n"
    }
   }
  },
  {
   "cell_type": "markdown",
   "source": [],
   "metadata": {
    "collapsed": false,
    "pycharm": {
     "name": "#%% md\n"
    }
   }
  }
 ],
 "metadata": {
  "kernelspec": {
   "display_name": "Python 3",
   "language": "python",
   "name": "python3"
  },
  "language_info": {
   "codemirror_mode": {
    "name": "ipython",
    "version": 2
   },
   "file_extension": ".py",
   "mimetype": "text/x-python",
   "name": "python",
   "nbconvert_exporter": "python",
   "pygments_lexer": "ipython2",
   "version": "2.7.6"
  }
 },
 "nbformat": 4,
 "nbformat_minor": 0
}