{
 "cells": [
  {
   "cell_type": "markdown",
   "source": [
    "### Naming variables"
   ],
   "metadata": {
    "collapsed": false
   }
  },
  {
   "cell_type": "markdown",
   "source": [
    "#### Theory\n",
    "\n",
    "As you know, every variable has a name that uniquely identifies it among other variables. Giving a good name to a variable may not be as simple it seems. Experienced programmers are careful when naming their variables to ensure that their programs are easy to understand. It is important because programmers spend a lot of time reading and understanding code written by other programmers. If variables have bad names, even your own code will seem unclear to you in a few months. In this topic, we will consider how to choose good names for your variables in accordance with conventions and best practices established in the Python community."
   ],
   "metadata": {
    "collapsed": false
   }
  },
  {
   "cell_type": "markdown",
   "source": [
    "#### 1. Code style convention\n",
    "PEP 8 provides some rules for variable names to increase code readability.\n",
    "    * Use lowercase and underscores to split words. Even if it's an abbreviation."
   ],
   "metadata": {
    "collapsed": false
   }
  },
  {
   "cell_type": "code",
   "execution_count": null,
   "outputs": [],
   "source": [
    "http_response = ''      # yes!\n",
    "httpresponse = ''       # no\n",
    "myVariable  = ''        # no, that's from Java"
   ],
   "metadata": {
    "collapsed": false
   }
  },
  {
   "cell_type": "markdown",
   "source": [
    "However, if you want to define a constant, it's common to write its name in all capital letters and, again, separate words with underscores. Normally, constants are stored in special files called modules. Although we'll cover this later, here is an small example:"
   ],
   "metadata": {
    "collapsed": false
   }
  },
  {
   "cell_type": "code",
   "execution_count": null,
   "outputs": [],
   "source": [
    "SPEED_OF_LIGHT = 299792458"
   ],
   "metadata": {
    "collapsed": false
   }
  },
  {
   "cell_type": "markdown",
   "source": [
    "* Avoid names of one letter that could be easily mixed up with numbers like 'l' (lowercase letter el), 'O' (uppercase letter oh), or 'I' (uppercase letter eye)."
   ],
   "metadata": {
    "collapsed": false
   }
  },
  {
   "cell_type": "code",
   "execution_count": null,
   "outputs": [],
   "source": [
    "l = 1   # no\n",
    "O = 100 # no, if you use this variable name further in your code, it may look like a zero"
   ],
   "metadata": {
    "collapsed": false
   }
  },
  {
   "cell_type": "markdown",
   "source": [
    "* Although you can use any `Unicode` symbols,  the code style convention recommends limiting variable names with `ASCII` characters."
   ],
   "metadata": {
    "collapsed": false
   }
  },
  {
   "cell_type": "code",
   "execution_count": null,
   "outputs": [],
   "source": [
    "# Using Cyrillic instead of Latin can cause an evening of useless headache\n",
    "# There are different variables!\n",
    "copy = \"I'm written in Latin alphabet\"        # yes!\n",
    "сору = \"And I'm written in Cyrillic!\"  # no"
   ],
   "metadata": {
    "collapsed": false
   }
  },
  {
   "cell_type": "markdown",
   "source": [
    "* If the most suitable variable name is some Python keyword, add an underscore to the end of it."
   ],
   "metadata": {
    "collapsed": false
   }
  },
  {
   "cell_type": "code",
   "execution_count": null,
   "outputs": [],
   "source": [
    "class_ = type(var)  # yes!\n",
    "klass = type(var)   # no"
   ],
   "metadata": {
    "collapsed": false
   }
  },
  {
   "cell_type": "markdown",
   "source": [
    "All the code style rules regarding names are described in `PEP 8`."
   ],
   "metadata": {
    "collapsed": false
   }
  },
  {
   "cell_type": "markdown",
   "source": [
    "#### 2. Other variable names best practices\n",
    "There are also some best practice that are common for many programming languages.\n",
    "    * Choose a names that makes sense. The variable name must be readable and descriptive and should explain to the reader what sort of values will be stored in it."
   ],
   "metadata": {
    "collapsed": false
   }
  },
  {
   "cell_type": "code",
   "execution_count": null,
   "outputs": [],
   "source": [
    "score   # yes!\n",
    "s       # no\n",
    "\n",
    "count   # yes!\n",
    "n       # no"
   ],
   "metadata": {
    "collapsed": false
   }
  },
  {
   "cell_type": "markdown",
   "source": [
    "* Don't use too many generic names. Try to choose a name that will explain the meaning of the variable. But don't make it too wordly. 1-3 words are usually enough."
   ],
   "metadata": {
    "collapsed": false
   }
  },
  {
   "cell_type": "code",
   "execution_count": null,
   "outputs": [],
   "source": [
    "http_response                   # yes!\n",
    "var1                            # no\n",
    "http_response_from_the_server   # no, some words can be dropped"
   ],
   "metadata": {
    "collapsed": false
   }
  },
  {
   "cell_type": "markdown",
   "source": [
    "* If a word is long, try to find the most common and expected short form to make it easier to guess later."
   ],
   "metadata": {
    "collapsed": false
   }
  },
  {
   "cell_type": "code",
   "execution_count": null,
   "outputs": [],
   "source": [
    "output_file_path    # yes!\n",
    "fpath               # no\n",
    "output_flpth        # no"
   ],
   "metadata": {
    "collapsed": false
   }
  },
  {
   "cell_type": "markdown",
   "source": [
    "* Avoid names from the built-in types list."
   ],
   "metadata": {
    "collapsed": false
   }
  },
  {
   "cell_type": "code",
   "execution_count": null,
   "outputs": [],
   "source": [
    "str = 'Hello!'  # no, because in the further code you can't use str type as it's overridden"
   ],
   "metadata": {
    "collapsed": false
   }
  },
  {
   "cell_type": "markdown",
   "source": [
    "Note, the last best practice is pretty Python-specific."
   ],
   "metadata": {
    "collapsed": false
   }
  },
  {
   "cell_type": "markdown",
   "source": [
    "#### 3. Conclusion\n",
    "All the naming conventions and best practices are optional, but it is strongly recommended to follow them. As we mentioned at the beginning of this lesson, they make your code more readable and self-descriptive for you and other programmers. So far, the recommended practices are:\n",
    "* Choose a name that is readable and descriptive, but not too words (1-3 words are enough).\n",
    "* Ues lowercase and separate words with underscores when you define **variables8*.\n",
    "* Use all capital letters when you define **constants**.\n",
    "* Avoid names of one letter that could be easily mixed up with numbers like 'l', 'O', or 'I'.\n",
    "* Avoid names that shadow the names of built-in objects. If the most suitable name is some Python keyword, add an underscore to the end of it (`class_`)."
   ],
   "metadata": {
    "collapsed": false
   }
  }
 ],
 "metadata": {
  "kernelspec": {
   "display_name": "Python 3",
   "language": "python",
   "name": "python3"
  },
  "language_info": {
   "codemirror_mode": {
    "name": "ipython",
    "version": 2
   },
   "file_extension": ".py",
   "mimetype": "text/x-python",
   "name": "python",
   "nbconvert_exporter": "python",
   "pygments_lexer": "ipython2",
   "version": "2.7.6"
  }
 },
 "nbformat": 4,
 "nbformat_minor": 0
}
