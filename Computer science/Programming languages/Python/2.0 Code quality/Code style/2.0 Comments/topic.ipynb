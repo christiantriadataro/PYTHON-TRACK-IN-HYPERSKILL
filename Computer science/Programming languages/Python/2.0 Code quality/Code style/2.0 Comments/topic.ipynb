{
 "cells": [
  {
   "cell_type": "markdown",
   "source": [
    "### Basic data types"
   ],
   "metadata": {
    "collapsed": false,
    "pycharm": {
     "name": "#%% md\n"
    }
   }
  },
  {
   "cell_type": "markdown",
   "source": [
    "#### Theory\n",
    "Every *data object* ( a variable or a constant) has  a type that describes how to keep it in memory, which operations can be applied to this object and how to compute them.\n",
    "\n",
    "A real-world analogy of types may be biological species or any other abstract attribute shared among specific objects. all the dogs you've seen have type **dog**, but each of them is an individual object. Thinking about a **dog** as a type you can assume some operations available, for example, a dog can bark.\n",
    "\n",
    "In this topic, we will consider only a few of the simplest data types that are commonly used in programming practice."
   ],
   "metadata": {
    "collapsed": false,
    "pycharm": {
     "name": "#%% md\n"
    }
   }
  },
  {
   "cell_type": "markdown",
   "source": [
    "#### 1. Strings\n",
    "Whenever you want to work with some kind of textual information in your program, you'll have to work with **strings**. The string type is called `str`. Strings are extremely common and useful in Python. String literals may be delimited using either single or double quotes.\n",
    "\n",
    "* Example of strings in double quotes:"
   ],
   "metadata": {
    "collapsed": false,
    "pycharm": {
     "name": "#%% md\n"
    }
   }
  },
  {
   "cell_type": "code",
   "execution_count": null,
   "outputs": [],
   "source": [
    "print(\"\")               # empty string\n",
    "print(\"string\")         # one word\n",
    "print(\"Hello, world!\")  # a sentence"
   ],
   "metadata": {
    "collapsed": false,
    "pycharm": {
     "name": "#%%\n"
    }
   }
  },
  {
   "cell_type": "markdown",
   "source": [
    "* Examples of strings in single quotes:"
   ],
   "metadata": {
    "collapsed": false,
    "pycharm": {
     "name": "#%% md\n"
    }
   }
  },
  {
   "cell_type": "code",
   "execution_count": null,
   "outputs": [],
   "source": [
    "print('a')                   # single character\n",
    "print('1234')                # a sequence of digits\n",
    "print('Bonjour, le monde!')  # a sentence"
   ],
   "metadata": {
    "collapsed": false,
    "pycharm": {
     "name": "#%%\n"
    }
   }
  },
  {
   "cell_type": "markdown",
   "source": [
    "In a real program, a string can represent an email of a person or an organization."
   ],
   "metadata": {
    "collapsed": false,
    "pycharm": {
     "name": "#%% md\n"
    }
   }
  },
  {
   "cell_type": "code",
   "execution_count": null,
   "outputs": [],
   "source": [
    "print('hello@hyperskill.org')   # printing an email"
   ],
   "metadata": {
    "collapsed": false,
    "pycharm": {
     "name": "#%%\n"
    }
   }
  },
  {
   "cell_type": "markdown",
   "source": [
    "As you can see, strings are very easy to use!"
   ],
   "metadata": {
    "collapsed": false,
    "pycharm": {
     "name": "#%% md\n"
    }
   }
  },
  {
   "cell_type": "markdown",
   "source": [
    "#### 2. Numerical types\n",
    "Numbers are the most important thing for any programmer. There is hardly any serious program you can write without using numbers, so let's discuss some basic **numerical types**:\n",
    "\n",
    "* `int` **(singed integers)**. Called integers or ints, they are  whole numbers (positive, negative, or zero), having no decimal  point;\n",
    "* `float` **(floating-point numbers)**. Called floats, they represent real numbers and have a decimal point.\n",
    "\n",
    "You can start working with a number by just printing it out."
   ],
   "metadata": {
    "collapsed": false,
    "pycharm": {
     "name": "#%% md\n"
    }
   }
  },
  {
   "cell_type": "code",
   "execution_count": null,
   "outputs": [],
   "source": [
    "print(11)    # prints 11\n",
    "print(11.0)  # prints 11.0"
   ],
   "metadata": {
    "collapsed": false,
    "pycharm": {
     "name": "#%%\n"
    }
   }
  },
  {
   "cell_type": "markdown",
   "source": [
    "Even though `11` and `11.0` are the same number, the former is an integer, and the latter is a float. The simples way to distinguish them is that floats have a **decimal point** and integers don't. Pay attention!\n",
    "\n",
    "You can also use negative numbers as well as zeroes:"
   ],
   "metadata": {
    "collapsed": false,
    "pycharm": {
     "name": "#%% md\n"
    }
   }
  },
  {
   "cell_type": "code",
   "execution_count": null,
   "outputs": [],
   "source": [
    "print(0)        # prints 0\n",
    "print(-5)       # prints -5\n",
    "print(-1.03)    # prints -1.03"
   ],
   "metadata": {
    "collapsed": false,
    "pycharm": {
     "name": "#%%\n"
    }
   }
  },
  {
   "cell_type": "markdown",
   "source": [
    "Integer numbers can be used to count things in the real world while floating-point numbers are a good choice for statistical  and scientific calculations."
   ],
   "metadata": {
    "collapsed": false,
    "pycharm": {
     "name": "#%% md\n"
    }
   }
  },
  {
   "cell_type": "markdown",
   "source": [
    "#### 3. Printing types\n",
    "We also have a way to clearly demonstrate types of different objects using the `type()` function which is a part of Python."
   ],
   "metadata": {
    "collapsed": false,
    "pycharm": {
     "name": "#%% md\n"
    }
   }
  },
  {
   "cell_type": "code",
   "execution_count": 3,
   "outputs": [
    {
     "name": "stdout",
     "output_type": "stream",
     "text": [
      "<class 'str'>\n",
      "<class 'str'>\n",
      "<class 'int'>\n",
      "<class 'int'>\n",
      "<class 'float'>\n",
      "<class 'float'>\n"
     ]
    }
   ],
   "source": [
    "print(type('hello'))  # <class 'str'>\n",
    "print(type(\"world\"))  # <class 'str'>\n",
    "\n",
    "print(type(100))      # <class 'int'>\n",
    "print(type(-50))      # <class 'int'>\n",
    "\n",
    "print(type(3.14))     # <class 'float'>\n",
    "print(type(-0.5))     # <class 'float'>"
   ],
   "metadata": {
    "collapsed": false,
    "pycharm": {
     "name": "#%%\n"
    }
   }
  },
  {
   "cell_type": "markdown",
   "source": [
    "As you can see from the examples above, the `type()` function indicates the data type of  passed value after the word *class*."
   ],
   "metadata": {
    "collapsed": false,
    "pycharm": {
     "name": "#%% md\n"
    }
   }
  },
  {
   "cell_type": "markdown",
   "source": [
    "#### 4. Summary"
   ],
   "metadata": {
    "collapsed": false,
    "pycharm": {
     "name": "#%% md\n"
    }
   }
  }
 ],
 "metadata": {
  "kernelspec": {
   "display_name": "Python 3",
   "language": "python",
   "name": "python3"
  },
  "language_info": {
   "codemirror_mode": {
    "name": "ipython",
    "version": 2
   },
   "file_extension": ".py",
   "mimetype": "text/x-python",
   "name": "python",
   "nbconvert_exporter": "python",
   "pygments_lexer": "ipython2",
   "version": "2.7.6"
  }
 },
 "nbformat": 4,
 "nbformat_minor": 0
}