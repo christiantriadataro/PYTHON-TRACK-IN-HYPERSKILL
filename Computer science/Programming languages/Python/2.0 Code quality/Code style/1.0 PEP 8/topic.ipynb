{
 "cells": [
  {
   "cell_type": "markdown",
   "source": [
    "### PEP 8"
   ],
   "metadata": {
    "collapsed": false,
    "pycharm": {
     "name": "#%% md\n"
    }
   }
  },
  {
   "cell_type": "markdown",
   "source": [
    "#### Theory\n",
    "How to write code that is clean and easy to read? That is\n",
    "the question you bump into when moving from simple\n",
    "single-line programs to more complicated ones. In  the\n",
    "beginning, it may seem unimportant, but in real life, programming is a process that involves a lot of people that work together, so you spend more time reading code than writing it.\n",
    "\n",
    "Although Python is often more readable than other programming languages because of its minimalistic syntax, just syntax itself is not enough. It is the way you write code that affects general readability. That is why you need to follow common conventions concerning programming style, so other programmers are able to read your code easily.\n",
    "\n",
    "You may ask, where do these conventions come from? There is a document that is called [PEP 8](https://www.python.org/dev/peps/pep-0008/). The key idea of it is to use the same code style for all Python projects as if they were written by the same programmer. This document guarantees that even a beginner will understand the code, written by any other developer."
   ],
   "metadata": {
    "collapsed": false,
    "pycharm": {
     "name": "#%% md\n"
    }
   }
  },
  {
   "cell_type": "markdown",
   "source": [
    "#### 1. PEPs\n",
    "Before going further, let's talk about PEP for a moment.\n",
    "PEP stands for **Python Enhancement Proposal**. There are different types of PEP and the most useful one for beginners is the information PEP. PEPs of this kind typically describe commonly accepted guidelines or conventions about the language, so they can be very helpful. Besides PEP 8, which an official style guide, another great PEP to look at is [the Zen of Python](https://www.python.org/dev/peps/pep-0020/).\n",
    "\n",
    "Since we know what PEP 8 is, let's read a bit from it."
   ],
   "metadata": {
    "collapsed": false,
    "pycharm": {
     "name": "#%% md\n"
    }
   }
  },
  {
   "cell_type": "markdown",
   "source": [
    "#### 2. The length of a line\n",
    "Do not use more than 79 characters in a line of code. Shorter lines look better in code editors. During this course, we will learn several ways to achieve it."
   ],
   "metadata": {
    "collapsed": false,
    "pycharm": {
     "name": "#%% md\n"
    }
   }
  },
  {
   "cell_type": "markdown",
   "source": [
    "#### 3. Avoid extra spaces\n",
    "Sometimes you may add some spaces even if you don't really need it. This will reduce the readability of your code.\n",
    "\n",
    "* **Avoid extra spaces within parentheses.**\n",
    "\n",
    "Good:"
   ],
   "metadata": {
    "collapsed": false,
    "pycharm": {
     "name": "#%% md\n"
    }
   }
  },
  {
   "cell_type": "code",
   "execution_count": null,
   "outputs": [],
   "source": [
    "print('Hello!')"
   ],
   "metadata": {
    "collapsed": false,
    "pycharm": {
     "name": "#%%\n"
    }
   }
  },
  {
   "cell_type": "markdown",
   "source": [
    "Bad:"
   ],
   "metadata": {
    "collapsed": false,
    "pycharm": {
     "name": "#%% md\n"
    }
   }
  },
  {
   "cell_type": "code",
   "execution_count": null,
   "outputs": [],
   "source": [
    "print( 'Hello!' )"
   ],
   "metadata": {
    "collapsed": false,
    "pycharm": {
     "name": "#%%\n"
    }
   }
  },
  {
   "cell_type": "markdown",
   "source": [
    "* **Avoid an extra space before an opening parenthesis.**"
   ],
   "metadata": {
    "collapsed": false,
    "pycharm": {
     "name": "#%% md\n"
    }
   }
  },
  {
   "cell_type": "markdown",
   "source": [
    "Good:"
   ],
   "metadata": {
    "collapsed": false,
    "pycharm": {
     "name": "#%% md\n"
    }
   }
  },
  {
   "cell_type": "code",
   "execution_count": null,
   "outputs": [],
   "source": [
    "print('some text')"
   ],
   "metadata": {
    "collapsed": false,
    "pycharm": {
     "name": "#%%\n"
    }
   }
  },
  {
   "cell_type": "markdown",
   "source": [
    "Bad:"
   ],
   "metadata": {
    "collapsed": false,
    "pycharm": {
     "name": "#%% md\n"
    }
   }
  },
  {
   "cell_type": "code",
   "execution_count": null,
   "outputs": [],
   "source": [
    "print ('some text')"
   ],
   "metadata": {
    "collapsed": false,
    "pycharm": {
     "name": "#%%\n"
    }
   }
  },
  {
   "cell_type": "markdown",
   "source": [
    "#### 4. Quotes\n",
    "As it was already mentioned, you can use either single or double quotes to define strings. Please, choose one that you like the most and consistently use it in your coe. The only recommendation in PEP 8 is that if a string contains single or double quotes, you should use the other one to avoid backslashes.\n",
    "\n",
    "Good:"
   ],
   "metadata": {
    "collapsed": false,
    "pycharm": {
     "name": "#%% md\n"
    }
   }
  },
  {
   "cell_type": "code",
   "execution_count": null,
   "outputs": [],
   "source": [
    "print(\"It's a good string!\")"
   ],
   "metadata": {
    "collapsed": false,
    "pycharm": {
     "name": "#%%\n"
    }
   }
  },
  {
   "cell_type": "markdown",
   "source": [
    "Bad and harder to read:"
   ],
   "metadata": {
    "collapsed": false,
    "pycharm": {
     "name": "#%% md\n"
    }
   }
  },
  {
   "cell_type": "code",
   "execution_count": null,
   "outputs": [],
   "source": [
    "print('It\\'s a bad string!')"
   ],
   "metadata": {
    "collapsed": false,
    "pycharm": {
     "name": "#%%\n"
    }
   }
  },
  {
   "cell_type": "markdown",
   "source": [
    "Backslash in this case is an escape character used to indicate that the following single quote is not the end of the string; you will learn about it in more detail later. For now, note that the first example is easier to read."
   ],
   "metadata": {
    "collapsed": false,
    "pycharm": {
     "name": "#%% md\n"
    }
   }
  },
  {
   "cell_type": "markdown",
   "source": [
    "#### 5. What's next?\n",
    "Later on, you will learn a lot of things about Python and before a more skillful programmer, but following the code style will always remain important. Do not worry, though: you do not need to learn all the conventions at once; just open them from time to time after learning something new. We will also give parts of these conventions in this course."
   ],
   "metadata": {
    "collapsed": false,
    "pycharm": {
     "name": "#%% md\n"
    }
   }
  },
  {
   "cell_type": "markdown",
   "source": [
    "#### 6. Summary\n",
    "Thus, in this topic, we found out what PEP 8 is, where to find it and how to use it. Let's also briefly go through the main points we discussed:\n",
    "* the length of a line of code shouldn't exceed 79 characters;\n",
    "* extra spaces should be avoided within parentheses and before an open one;\n",
    "* quotes should be used consistently and/or to avoid backslashes."
   ],
   "metadata": {
    "collapsed": false,
    "pycharm": {
     "name": "#%% md\n"
    }
   }
  }
 ],
 "metadata": {
  "kernelspec": {
   "display_name": "Python 3",
   "language": "python",
   "name": "python3"
  },
  "language_info": {
   "codemirror_mode": {
    "name": "ipython",
    "version": 2
   },
   "file_extension": ".py",
   "mimetype": "text/x-python",
   "name": "python",
   "nbconvert_exporter": "python",
   "pygments_lexer": "ipython2",
   "version": "2.7.6"
  }
 },
 "nbformat": 4,
 "nbformat_minor": 0
}