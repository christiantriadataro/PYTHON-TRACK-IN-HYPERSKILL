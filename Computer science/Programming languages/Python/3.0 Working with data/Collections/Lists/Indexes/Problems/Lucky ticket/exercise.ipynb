{
 "cells": [
  {
   "cell_type": "markdown",
   "source": [
    "### Indexes"
   ],
   "metadata": {
    "collapsed": false,
    "pycharm": {
     "name": "#%% md\n"
    }
   }
  },
  {
   "cell_type": "markdown",
   "source": [
    "#### Lucky ticket\n",
    "Lucky tickets are a kind of mathematical entertainment. A ticket is considered *lucky* if the sum of the first 3 digits equals the sum of the last 3 digits of the ticket number.\n",
    "\n",
    "You are supposed to write a program that check whether the two sums of equal. The code snippet below displays `\"Lucky\"` if they are and `\"Ordinary\"` if they are not.\n",
    "\n",
    "However, some parts of the code are missing. Fill in the blanks to make it work!\n",
    "\n",
    "**Input**: a string of 6 digits.\n",
    "\n",
    "**Output**: either `\"Lucky\"` or `\"Ordinary\"` (without quotes).\n",
    "\n",
    "Make sure that you are NOT concatenating strings. To do this, convert each digit in the ticket number to an integer. **Don't forget to use proper indices.**"
   ],
   "metadata": {
    "collapsed": false,
    "pycharm": {
     "name": "#%% md\n"
    }
   }
  },
  {
   "cell_type": "code",
   "execution_count": 14,
   "outputs": [
    {
     "name": "stdout",
     "output_type": "stream",
     "text": [
      "[2, 3, 4]\n"
     ]
    }
   ],
   "source": [
    "t = \"090234\"\n",
    "# print(sum(list(int(x) for x in t[4:6])))\n",
    "print(list(int(x) for x in t[3:6]))"
   ],
   "metadata": {
    "collapsed": false,
    "pycharm": {
     "name": "#%%\n"
    }
   }
  },
  {
   "cell_type": "code",
   "execution_count": 22,
   "outputs": [
    {
     "name": "stdout",
     "output_type": "stream",
     "text": [
      "Ordinary\n"
     ]
    }
   ],
   "source": [
    "# Save the input in this variable\n",
    "ticket = [int(x) for x in input()]\n",
    "\n",
    "# Add up the digits for each half\n",
    "half1 = sum(ticket[:3])\n",
    "half2 = sum(ticket[3:])\n",
    "# Thanks to you, this code will work\n",
    "if half1 == half2:\n",
    "    print(\"Lucky\")\n",
    "else:\n",
    "    print(\"Ordinary\")"
   ],
   "metadata": {
    "collapsed": false,
    "pycharm": {
     "name": "#%%\n"
    }
   }
  },
  {
   "cell_type": "code",
   "execution_count": 4,
   "outputs": [
    {
     "name": "stdout",
     "output_type": "stream",
     "text": [
      "224\n"
     ]
    }
   ],
   "source": [
    "print(f\"{input()[14]}\")"
   ],
   "metadata": {
    "collapsed": false,
    "pycharm": {
     "name": "#%%\n"
    }
   }
  },
  {
   "cell_type": "code",
   "execution_count": 7,
   "outputs": [
    {
     "name": "stdout",
     "output_type": "stream",
     "text": [
      "[0, 9, 0, 2, 3, 4]\n",
      "[0, 9, 0]\n",
      "[2, 3, 4]\n",
      "9\n",
      "9\n"
     ]
    }
   ],
   "source": [
    "raw_ticket = \"090234\"\n",
    "ticket = [int(x) for x in raw_ticket]\n",
    "print(ticket)\n",
    "print(ticket[:3])\n",
    "print(ticket[3:])\n",
    "print(sum(ticket[:3]))\n",
    "print(sum(ticket[3:]))"
   ],
   "metadata": {
    "collapsed": false,
    "pycharm": {
     "name": "#%%\n"
    }
   }
  },
  {
   "cell_type": "code",
   "execution_count": 1,
   "outputs": [
    {
     "ename": "TypeError",
     "evalue": "unsupported operand type(s) for +: 'int' and 'str'",
     "output_type": "error",
     "traceback": [
      "\u001B[1;31m---------------------------------------------------------------------------\u001B[0m",
      "\u001B[1;31mTypeError\u001B[0m                                 Traceback (most recent call last)",
      "Input \u001B[1;32mIn [1]\u001B[0m, in \u001B[0;36m<cell line: 5>\u001B[1;34m()\u001B[0m\n\u001B[0;32m      2\u001B[0m ticket \u001B[38;5;241m=\u001B[39m \u001B[38;5;124m\"\u001B[39m\u001B[38;5;124m090234\u001B[39m\u001B[38;5;124m\"\u001B[39m\n\u001B[0;32m      4\u001B[0m \u001B[38;5;66;03m# Add up the digits for each half\u001B[39;00m\n\u001B[1;32m----> 5\u001B[0m half1 \u001B[38;5;241m=\u001B[39m \u001B[38;5;28;43msum\u001B[39;49m\u001B[43m(\u001B[49m\u001B[43mticket\u001B[49m\u001B[43m[\u001B[49m\u001B[43m:\u001B[49m\u001B[38;5;241;43m3\u001B[39;49m\u001B[43m]\u001B[49m\u001B[43m)\u001B[49m\n\u001B[0;32m      6\u001B[0m half2 \u001B[38;5;241m=\u001B[39m \u001B[38;5;28msum\u001B[39m(ticket[\u001B[38;5;241m3\u001B[39m:])\n\u001B[0;32m      7\u001B[0m \u001B[38;5;28mprint\u001B[39m(half1, half2, sep\u001B[38;5;241m=\u001B[39m\u001B[38;5;124m\"\u001B[39m\u001B[38;5;130;01m\\n\u001B[39;00m\u001B[38;5;124m\"\u001B[39m)\n",
      "\u001B[1;31mTypeError\u001B[0m: unsupported operand type(s) for +: 'int' and 'str'"
     ]
    }
   ],
   "source": [
    "# Save the input in this variable\n",
    "ticket = \"090234\"\n",
    "\n",
    "# Add up the digits for each half\n",
    "half1 = sum(ticket[:3])\n",
    "half2 = sum(ticket[3:])\n",
    "print(half1, half2, sep=\"\\n\")\n",
    "# Thanks to you, this code will work\n",
    "if half1 == half2:\n",
    "    print(\"Lucky\")\n",
    "else:\n",
    "    print(\"Ordinary\")"
   ],
   "metadata": {
    "collapsed": false,
    "pycharm": {
     "name": "#%%\n"
    }
   }
  },
  {
   "cell_type": "code",
   "execution_count": null,
   "outputs": [],
   "source": [],
   "metadata": {
    "collapsed": false,
    "pycharm": {
     "name": "#%%\n"
    }
   }
  }
 ],
 "metadata": {
  "kernelspec": {
   "display_name": "Python 3",
   "language": "python",
   "name": "python3"
  },
  "language_info": {
   "codemirror_mode": {
    "name": "ipython",
    "version": 2
   },
   "file_extension": ".py",
   "mimetype": "text/x-python",
   "name": "python",
   "nbconvert_exporter": "python",
   "pygments_lexer": "ipython2",
   "version": "2.7.6"
  }
 },
 "nbformat": 4,
 "nbformat_minor": 0
}