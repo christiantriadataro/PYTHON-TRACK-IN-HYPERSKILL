{
 "cells": [
  {
   "cell_type": "markdown",
   "source": [
    "## Basic string methods"
   ],
   "metadata": {
    "collapsed": false,
    "pycharm": {
     "name": "#%% md\n"
    }
   }
  },
  {
   "cell_type": "markdown",
   "source": [
    "#### Theory\n",
    "As you already know, the string is one of the most important data types in Python. To make working with strings easier, Python has many special built-in string methods. We are about to learn some of them."
   ],
   "metadata": {
    "collapsed": false,
    "pycharm": {
     "name": "#%% md\n"
    }
   }
  },
  {
   "cell_type": "markdown",
   "source": [
    "<div>\n",
    "    An important thing to remember, however, is that the string is an **immutable** data type! It means that you cannot just change the string in-place, so most string methods **returns a copy** of the string (with several exceptions). To save the changes made to the string for later use you need to create a **new variable** for the copy that you made or **assign the same name** to the copy. So, what to do with the output of the methods depends on whether you are going to use the original string or its copy later.\n",
    "</div>"
   ],
   "metadata": {
    "collapsed": false,
    "pycharm": {
     "name": "#%% md\n"
    }
   }
  },
  {
   "cell_type": "markdown",
   "source": [
    "#### 1. \"Changing\" a string\n",
    "\n",
    "The first group of string methods consists of the ones that \"change\" the string in a specific way, that is they return the copy with some changes made.\n",
    "\n",
    "The syntax for calling a method is as follows: a string is given first (or the name of a variable that holds a string), then comes a period followed by the method name and parentheses in which arguments are listed.\n",
    "\n",
    "Here's a list of common string methods of that kind:\n",
    "    * `str.replace(old, new, count)` replaces all occurrences of the `old` string with the `new` one.\n",
    "     The `count` parameter is optional, and if specified, only the first `count` occurrences are replaced in the given string.\n",
    "    * `str.upper()` converts all characters of the string to upper case.\n",
    "    * `str.lower()` converts all characters of the string to lower case.\n",
    "    * `str.title()` converts the first characters of each word to upper case.\n",
    "    * `str.swapcase()` converts upper case to lower case and vice versa.\n",
    "    * `str.capitalize()` changes the first character of the string to upper case and the rest of lower case.\n",
    "\n",
    "And here's an example of how these methods are used (note that we don't save the result of every method):"
   ],
   "metadata": {
    "collapsed": false,
    "pycharm": {
     "name": "#%% md\n"
    }
   }
  },
  {
   "cell_type": "code",
   "execution_count": 5,
   "outputs": [
    {
     "name": "stdout",
     "output_type": "stream",
     "text": [
      "BONJOUR AND WELCOME TO PARIS!\n",
      "bonjour and welcome to Paris!\n",
      "Bonjour And Welcome To Paris!\n",
      "bonjour and welcome to Lyon!\n",
      "b!nj!ur and welcome to Paris!\n",
      "bonjour and welcome to Paris!\n"
     ]
    }
   ],
   "source": [
    "message  = \"bonjour and welcome to Paris!\"\n",
    "\n",
    "print(message.upper())      # BONJOUR AND WELCOME TO PARIS!\n",
    "# `message` is not changed\n",
    "print(message)              # bonjour and welcome to Paris!\n",
    "\n",
    "title_message = message.title()\n",
    "# `title_message` contains a new string\n",
    "# with the first character of each word capitalized\n",
    "print(title_message)    # Bonjour And Welcome To Paris!\n",
    "\n",
    "print(message.replace(\"Paris\", \"Lyon\"))     # bonjour and welcome to Lyon!\n",
    "replaced_message = message.replace(\"o\", \"!\", 2)\n",
    "print(replaced_message)     # b!nj!ur and welcome to Paris!\n",
    "\n",
    "# again, the source string is unchanged, only its copy its modified\n",
    "print(message)  # bonjour and welcome to Paris!"
   ],
   "metadata": {
    "collapsed": false,
    "pycharm": {
     "name": "#%%\n"
    }
   }
  },
  {
   "cell_type": "markdown",
   "source": [
    "#### 2. Removing characters from a string\n",
    "Often, when you read a string from somewhere (a file or the input) you need to edit it so that it contains only the information you need. For instance, the input string can have a lot of unnecessary whitespaces or some trailing combinations of characters. The \"editing\" methods that can help with that are `strip()`, `rstrip()`, and `lstrip()`.\n",
    "\n",
    "  * `str.lstrip([chars])` removes the leading characters (i.e. character\n",
    "  * `str.rstrip([chars])` removes the trailing characters (i.e. characters from the right side). The default for the argument `chars` is also whitespace.\n",
    "  * `str.strip([chars])` removes both the leading and the trailing characters. The default is whitespace."
   ],
   "metadata": {
    "collapsed": false,
    "pycharm": {
     "name": "#%% md\n"
    }
   }
  },
  {
   "cell_type": "markdown",
   "source": [
    "The `chars` argument, when specified, is a string of characters that are meant to be removed from the very end or beginning of the word (depending) on the method you're using). See how it works:"
   ],
   "metadata": {
    "collapsed": false,
    "pycharm": {
     "name": "#%% md\n"
    }
   }
  },
  {
   "cell_type": "code",
   "execution_count": 11,
   "outputs": [
    {
     "data": {
      "text/plain": "'ncomprehensibilitie'"
     },
     "execution_count": 11,
     "metadata": {},
     "output_type": "execute_result"
    }
   ],
   "source": [
    "whitespace_string = \"     hey      \"\n",
    "normal_string = \"incomprehensibilities\"\n",
    "\n",
    "# delete spaces from the left side\n",
    "whitespace_string.lstrip()      # 'hey      '\n",
    "\n",
    "# delete all \"i\" and \"s\" from the left side\n",
    "normal_string.lstrip(\"is\")      # \"ncomprehensibilities\"\n",
    "\n",
    "# delete spaces from the right side\n",
    "whitespace_string.rstrip()     # '     hey'\n",
    "\n",
    "# delete all \"i\" and \"s\" from the right side\n",
    "normal_string.rstrip(\"is\")     # \"incomprehensibilitie\"\n",
    "\n",
    "# no spaces from both sides\n",
    "whitespace_string.strip()       # hey\n",
    "\n",
    "# delete all trailing \"i\" and \"s\" from both sides\n",
    "normal_string.strip(\"is\")       # \"ncomprehensibilitie\""
   ],
   "metadata": {
    "collapsed": false,
    "pycharm": {
     "name": "#%%\n"
    }
   }
  },
  {
   "cell_type": "markdown",
   "source": [
    "Keep in mind that the methods `strip()`, `lstrip()`, and `rstrip()` get rid of all possible combinations of specified characters:"
   ],
   "metadata": {
    "collapsed": false,
    "pycharm": {
     "name": "#%% md\n"
    }
   }
  },
  {
   "cell_type": "code",
   "execution_count": 14,
   "outputs": [
    {
     "name": "stdout",
     "output_type": "stream",
     "text": [
      "M\n",
      "Mississippi\n",
      "\n"
     ]
    }
   ],
   "source": [
    "word = \"Mississippi\"\n",
    "\n",
    "# starting from the right side, all \"i\", \"p\", and \"s\" are removed.\n",
    "print(word.rstrip(\"ips\"))   # \"M\"\n",
    "\n",
    "# the word starts with \"M\" rather than \"i\", \"p\", or \"s\", so no chars are removed from the left side:\n",
    "print(word.lstrip(\"ips\"))\n",
    "\n",
    "# \"M\", \"i\", \"p\", and \"s\" are removed from both sides, so nothing is left:\n",
    "print(word.strip(\"Mips\"))   # \"\""
   ],
   "metadata": {
    "collapsed": false,
    "pycharm": {
     "name": "#%%\n"
    }
   }
  },
  {
   "cell_type": "markdown",
   "source": [
    "Use them carefully, or you may end up with an empty string."
   ],
   "metadata": {
    "collapsed": false,
    "pycharm": {
     "name": "#%% md\n"
    }
   }
  },
  {
   "cell_type": "markdown",
   "source": [
    "#### 3. Summary\n",
    "To sum up, we have considered the main methods for strings. Here is a brief recap:\n",
    "    * While working with strings, you have to remember that strings are **immutable**, thus all the methods that \"change\" them only return the copy of a string with necessary changes.\n",
    "    * If you want to save the result of a method call for later use, you need to assign this result to a variable (either the same or the one with a different name).\n",
    "    * If you want to use this result only once, for example, in comparisons or just to print the formatted string, you are free to use the result on the spot, as we did within `print()`."
   ],
   "metadata": {
    "collapsed": false,
    "pycharm": {
     "name": "#%% md\n"
    }
   }
  },
  {
   "cell_type": "code",
   "execution_count": 19,
   "outputs": [
    {
     "name": "stdout",
     "output_type": "stream",
     "text": [
      "london is the cxpitxl of great britain.\n"
     ]
    }
   ],
   "source": [
    "sentence = \"London is the capital of Great Britain.\"\n",
    "sentence = sentence.lower()\n",
    "sentence.upper()\n",
    "sentence = sentence.replace(\"a\", \"x\", 2)\n",
    "sentence.capitalize()\n",
    "print(sentence)"
   ],
   "metadata": {
    "collapsed": false,
    "pycharm": {
     "name": "#%%\n"
    }
   }
  },
  {
   "cell_type": "code",
   "execution_count": null,
   "outputs": [],
   "source": [],
   "metadata": {
    "collapsed": false,
    "pycharm": {
     "name": "#%%\n"
    }
   }
  }
 ],
 "metadata": {
  "kernelspec": {
   "display_name": "Python 3",
   "language": "python",
   "name": "python3"
  },
  "language_info": {
   "codemirror_mode": {
    "name": "ipython",
    "version": 2
   },
   "file_extension": ".py",
   "mimetype": "text/x-python",
   "name": "python",
   "nbconvert_exporter": "python",
   "pygments_lexer": "ipython2",
   "version": "2.7.6"
  }
 },
 "nbformat": 4,
 "nbformat_minor": 0
}