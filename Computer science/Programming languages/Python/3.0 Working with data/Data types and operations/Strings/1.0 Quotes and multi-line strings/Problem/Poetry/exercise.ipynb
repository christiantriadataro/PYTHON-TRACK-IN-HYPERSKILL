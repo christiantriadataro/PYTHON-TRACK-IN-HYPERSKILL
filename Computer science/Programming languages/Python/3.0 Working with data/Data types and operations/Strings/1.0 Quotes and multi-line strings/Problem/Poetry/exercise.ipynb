{
 "cells": [
  {
   "cell_type": "markdown",
   "source": [
    "## Basic data types"
   ],
   "metadata": {
    "collapsed": false,
    "pycharm": {
     "name": "#%% md\n"
    }
   }
  },
  {
   "cell_type": "markdown",
   "source": [
    "#### Poetry\n",
    "Write a program that will create and print this string from \"How The Grinch Stole Christmas\":\n",
    "`\n",
    "Did that stop the old Grinch?\n",
    "No! The Grinch simply said,\n",
    "\"If I can't find a reindeer,\n",
    "I'll make one instead!\"\n",
    "`"
   ],
   "metadata": {
    "collapsed": false,
    "pycharm": {
     "name": "#%% md\n"
    }
   }
  },
  {
   "cell_type": "code",
   "execution_count": 1,
   "metadata": {
    "collapsed": true,
    "pycharm": {
     "name": "#%%\n"
    }
   },
   "outputs": [
    {
     "name": "stdout",
     "output_type": "stream",
     "text": [
      "Did that stop the old Grinch?\n",
      "No! The Grinch simply said,\n",
      "\"If I can't find a reindeer,\n",
      "I'll make one instead!\"\n"
     ]
    }
   ],
   "source": [
    "print('''Did that stop the old Grinch?\n",
    "No! The Grinch simply said,\n",
    "\"If I can't find a reindeer,\n",
    "I'll make one instead!\"''')"
   ]
  }
 ],
 "metadata": {
  "kernelspec": {
   "display_name": "Python 3",
   "language": "python",
   "name": "python3"
  },
  "language_info": {
   "codemirror_mode": {
    "name": "ipython",
    "version": 2
   },
   "file_extension": ".py",
   "mimetype": "text/x-python",
   "name": "python",
   "nbconvert_exporter": "python",
   "pygments_lexer": "ipython2",
   "version": "2.7.6"
  }
 },
 "nbformat": 4,
 "nbformat_minor": 0
}