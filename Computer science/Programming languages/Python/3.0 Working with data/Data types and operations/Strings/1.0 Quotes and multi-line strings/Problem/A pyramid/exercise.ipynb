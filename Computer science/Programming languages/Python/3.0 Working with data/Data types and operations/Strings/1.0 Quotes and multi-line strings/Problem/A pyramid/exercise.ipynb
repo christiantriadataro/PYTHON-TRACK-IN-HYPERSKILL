{
 "cells": [
  {
   "cell_type": "markdown",
   "source": [
    "## Basic data types"
   ],
   "metadata": {
    "collapsed": false,
    "pycharm": {
     "name": "#%% md\n"
    }
   }
  },
  {
   "cell_type": "markdown",
   "source": [
    "#### A pyramid!\n",
    "Print a four-line string that includes:\n",
    "1. One single quote;\n",
    "2. One single quote, one double quote, and one single quote;\n",
    "3. Five alternating single and double quotes, starting with a single quotes;\n",
    "4. Seven alternating single and double quotes, starting with a single quote.\n",
    "\n",
    "Your output should look like this:\n",
    "`\n",
    "'\n",
    "'\"'\n",
    "'\"'\"'\n",
    "'\"'\"'\"'\n",
    "`"
   ],
   "metadata": {
    "collapsed": false,
    "pycharm": {
     "name": "#%% md\n"
    }
   }
  },
  {
   "cell_type": "code",
   "execution_count": 7,
   "metadata": {
    "collapsed": true,
    "pycharm": {
     "name": "#%%\n"
    }
   },
   "outputs": [
    {
     "name": "stdout",
     "output_type": "stream",
     "text": [
      "'\n",
      "'\"'\n",
      "'\"'\"'\n",
      "'\"'\"'\"'\n"
     ]
    }
   ],
   "source": [
    "print(\"\"\"'\n",
    "'\"'\n",
    "'\"'\"'\n",
    "'\"'\"'\"'\n",
    "\"\"\")"
   ]
  },
  {
   "cell_type": "code",
   "execution_count": 3,
   "outputs": [
    {
     "name": "stdout",
     "output_type": "stream",
     "text": [
      "1 2 3 4 5 6 7 8 9 10\n"
     ]
    }
   ],
   "source": [],
   "metadata": {
    "collapsed": false,
    "pycharm": {
     "name": "#%%\n"
    }
   }
  },
  {
   "cell_type": "code",
   "execution_count": null,
   "outputs": [],
   "source": [],
   "metadata": {
    "collapsed": false,
    "pycharm": {
     "name": "#%%\n"
    }
   }
  }
 ],
 "metadata": {
  "kernelspec": {
   "display_name": "Python 3",
   "language": "python",
   "name": "python3"
  },
  "language_info": {
   "codemirror_mode": {
    "name": "ipython",
    "version": 2
   },
   "file_extension": ".py",
   "mimetype": "text/x-python",
   "name": "python",
   "nbconvert_exporter": "python",
   "pygments_lexer": "ipython2",
   "version": "2.7.6"
  }
 },
 "nbformat": 4,
 "nbformat_minor": 0
}