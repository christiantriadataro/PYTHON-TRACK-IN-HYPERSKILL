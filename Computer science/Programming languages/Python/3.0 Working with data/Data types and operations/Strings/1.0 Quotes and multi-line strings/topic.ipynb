{
 "cells": [
  {
   "cell_type": "markdown",
   "source": [
    "### Quotes and multi-line strings"
   ],
   "metadata": {
    "collapsed": false,
    "pycharm": {
     "name": "#%% md\n"
    }
   }
  },
  {
   "cell_type": "markdown",
   "source": [
    "#### Theory\n",
    "You are already familiar with strings, which are extremely common and useful in programming. Let's take a look at some features of Python strings related to quotes and multi-line strings."
   ],
   "metadata": {
    "collapsed": false,
    "pycharm": {
     "name": "#%% md\n"
    }
   }
  },
  {
   "cell_type": "markdown",
   "source": [
    "#### 1. Quotes\n",
    "As you know, a string literal is surrounded by a pair of **single** or **double quotes**. There is basically no difference\n",
    "between the two, but there are some common conventions concerning their use:\n",
    "* Use double quotes if your string contains single quotes, for example, `\"You're doing great!\"`.\n",
    "* Use single quotes if your string contains double quotes, for example, `'Hve you read \"Hamlet\"?'`.\n",
    "* Do not mix two styles in one literal! For example, something like `\"string!\"` is not correct.\n",
    "* Most importantly, be consistent in your use!\n",
    "\n",
    "There is a way to include any quotes in your string, regardless of the style of the outer quotes, and that is to use the **backslash symbol** (`\\`) before the quotes inside the of the string. The backslash will basically tell Python that the quote symbol that follows it is a part of the string rather than its end of beginning. It is called **escaping**, and you'll learn about it in detail in the next topics.\n",
    "\n",
    "In the example below, both ways to writing string are correct and will produce the same result:"
   ],
   "metadata": {
    "collapsed": false,
    "pycharm": {
     "name": "#%% md\n"
    }
   }
  },
  {
   "cell_type": "code",
   "execution_count": null,
   "outputs": [],
   "source": [
    "# example 1\n",
    "print(\"You're doing great!\")\n",
    "print('You\\'re doing great!')\n",
    "# example 2\n",
    "print(\"Have you read \\\"Hamlet\\\"?\")\n",
    "print('Have you read \"Hamlet\"?')"
   ],
   "metadata": {
    "collapsed": false,
    "pycharm": {
     "name": "#%%\n"
    }
   }
  },
  {
   "cell_type": "markdown",
   "source": [
    "However, it's considered best practice to avoid backslashes inside the strings - even though it works. You'll learn more about the style conventions in following topics."
   ],
   "metadata": {
    "collapsed": false,
    "pycharm": {
     "name": "#%% md\n"
    }
   }
  },
  {
   "cell_type": "markdown",
   "source": [
    "#### 2. Multiline strings\n",
    "Strings can represent a long text, a single character, or even no characters, like in the case of an empty string. One thing has so far been true about all of them: all our strings were single line, no matter how long they were. However, you can also write **multi-line** strings in Python! To do that, you need to use **triple quotes** on each side of the string literal. Again, the choice of single or double quotes is up to you as both work fine in Python.\n",
    "\n",
    "Multi-line string in double quotes:"
   ],
   "metadata": {
    "collapsed": false,
    "pycharm": {
     "name": "#%% md\n"
    }
   }
  },
  {
   "cell_type": "code",
   "execution_count": 1,
   "outputs": [
    {
     "name": "stdout",
     "output_type": "stream",
     "text": [
      "This\n",
      "is\n",
      "a\n",
      "multi-line\n",
      "string\n"
     ]
    }
   ],
   "source": [
    "print(\"\"\"This\n",
    "is\n",
    "a\n",
    "multi-line\n",
    "string\"\"\")"
   ],
   "metadata": {
    "collapsed": false,
    "pycharm": {
     "name": "#%%\n"
    }
   }
  },
  {
   "cell_type": "markdown",
   "source": [
    "Multi-line string in single quotes:"
   ],
   "metadata": {
    "collapsed": false,
    "pycharm": {
     "name": "#%% md\n"
    }
   }
  },
  {
   "cell_type": "code",
   "execution_count": null,
   "outputs": [],
   "source": [
    "print('''This\n",
    "is\n",
    "a\n",
    "multi-line\n",
    "string''')"
   ],
   "metadata": {
    "collapsed": false,
    "pycharm": {
     "name": "#%%\n"
    }
   }
  },
  {
   "cell_type": "markdown",
   "source": [
    "Both examples print the same result:\n",
    "\n",
    "`\n",
    "This\n",
    "is\n",
    "a\n",
    "mult-line\n",
    "string\n",
    "`"
   ],
   "metadata": {
    "collapsed": false,
    "pycharm": {
     "name": "#%% md\n"
    }
   }
  },
  {
   "cell_type": "markdown",
   "source": [
    "#### 3. Summary\n",
    "In this topic, we've covered some basic information about using quotes in strings and saw how to write multi-line strings. This is by far not all you can do with strings in Python: there is a lot more to learn and, very importantly, to practice!"
   ],
   "metadata": {
    "collapsed": false,
    "pycharm": {
     "name": "#%% md\n"
    }
   }
  }
 ],
 "metadata": {
  "kernelspec": {
   "display_name": "Python 3",
   "language": "python",
   "name": "python3"
  },
  "language_info": {
   "codemirror_mode": {
    "name": "ipython",
    "version": 2
   },
   "file_extension": ".py",
   "mimetype": "text/x-python",
   "name": "python",
   "nbconvert_exporter": "python",
   "pygments_lexer": "ipython2",
   "version": "2.7.6"
  }
 },
 "nbformat": 4,
 "nbformat_minor": 0
}