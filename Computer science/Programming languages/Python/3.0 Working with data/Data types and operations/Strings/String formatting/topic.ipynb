{
 "cells": [
  {
   "cell_type": "markdown",
   "source": [
    "## String formatting"
   ],
   "metadata": {
    "collapsed": false,
    "pycharm": {
     "name": "#%% md\n"
    }
   }
  },
  {
   "cell_type": "markdown",
   "source": [
    "### Theory\n",
    "There are certain situations when you want to make your strings kind of \"dynamic\", i.e. make them change depending on the value of a variable or expression. For example, you want to prompt the user for their name and print the greeting to them with the name they entered. But how can you embed a variable into a string? If you do it in the most intuitive way, you'll be disappointed:"
   ],
   "metadata": {
    "collapsed": false,
    "pycharm": {
     "name": "#%% md\n"
    }
   }
  },
  {
   "cell_type": "code",
   "execution_count": null,
   "outputs": [],
   "source": [
    "a = input()\n",
    "print(\"Hello, a\")"
   ],
   "metadata": {
    "collapsed": false,
    "pycharm": {
     "name": "#%%\n"
    }
   }
  },
  {
   "cell_type": "markdown",
   "source": [
    "The output will be:\n",
    "`\n",
    "Hello, a\n",
    "`\n",
    "\n",
    "Luckily, Python offers a large variety of methods to format the output the way you want, and we'll concentrate on the main two:\n",
    "    * Formatted string literals\n",
    "    * The `str.format()` method\n",
    "\n",
    "Earlier, `the % operator` was commonly in use for formatting strings. This built-in operator was derived from C-language and was used in some situations in the following way:\n",
    "\n",
    "`**string % value**`\n",
    "\n",
    "Thus, the variable to the right of `%` was included in the string to the left of it. If we'd wanted to divide 11 by 3, the `\\` operator would have returned a float number with a lot of decimal places."
   ],
   "metadata": {
    "collapsed": false,
    "pycharm": {
     "name": "#%% md\n"
    }
   }
  },
  {
   "cell_type": "code",
   "execution_count": 1,
   "outputs": [
    {
     "name": "stdout",
     "output_type": "stream",
     "text": [
      "3.6666666666666665\n"
     ]
    }
   ],
   "source": [
    "print(11 / 3)   # 3.6666666666666665"
   ],
   "metadata": {
    "collapsed": false,
    "pycharm": {
     "name": "#%%\n"
    }
   }
  },
  {
   "cell_type": "markdown",
   "source": [
    "With `%` character, we could control the number of decimal places, for example, reduce their number to 3 or 2:"
   ],
   "metadata": {
    "collapsed": false,
    "pycharm": {
     "name": "#%% md\n"
    }
   }
  },
  {
   "cell_type": "code",
   "execution_count": null,
   "outputs": [],
   "source": [
    "print('%.3f' % (11 / 3))\n",
    "prinnt"
   ],
   "metadata": {
    "collapsed": false,
    "pycharm": {
     "name": "#%%\n"
    }
   }
  }
 ],
 "metadata": {
  "kernelspec": {
   "display_name": "Python 3",
   "language": "python",
   "name": "python3"
  },
  "language_info": {
   "codemirror_mode": {
    "name": "ipython",
    "version": 2
   },
   "file_extension": ".py",
   "mimetype": "text/x-python",
   "name": "python",
   "nbconvert_exporter": "python",
   "pygments_lexer": "ipython2",
   "version": "2.7.6"
  }
 },
 "nbformat": 4,
 "nbformat_minor": 0
}