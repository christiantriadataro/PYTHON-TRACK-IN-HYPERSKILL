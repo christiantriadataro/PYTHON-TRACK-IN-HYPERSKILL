{
 "cells": [
  {
   "cell_type": "markdown",
   "source": [
    "### Boolean logic"
   ],
   "metadata": {
    "collapsed": false,
    "pycharm": {
     "name": "#%% md\n"
    }
   }
  },
  {
   "cell_type": "markdown",
   "source": [
    "#### Theory\n",
    "In programming languages, the boolean, or logical, type is a common way to represent something that has only two opposite states like *one* or *off*, *yes*, or *no*, etc. It's a very useful type which you will quickly see for yourself when you start working on your projects or even write small programs. In this topic, we'll look at the boolean  type in Python and learn how to use it."
   ],
   "metadata": {
    "collapsed": false,
    "pycharm": {
     "name": "#%% md\n"
    }
   }
  },
  {
   "cell_type": "markdown",
   "source": [
    "#### 1. Boolean type\n",
    "The **Boolean** type, or simply `bool`, is a special data type that only two possible values: `True` and `False`. In Python, the names of boolean values start with a capital letter.\n",
    "\n",
    "If you are writing an application that keeps track of door openings, you'll find it natural to use `bool` to store the current door state."
   ],
   "metadata": {
    "collapsed": false,
    "pycharm": {
     "name": "#%% md\n"
    }
   }
  },
  {
   "cell_type": "code",
   "execution_count": 2,
   "outputs": [
    {
     "name": "stdout",
     "output_type": "stream",
     "text": [
      "True\n",
      "False\n"
     ]
    }
   ],
   "source": [
    "is_open = True\n",
    "is_closed = False\n",
    "\n",
    "print(is_open)      # True\n",
    "print(is_closed)    # False"
   ],
   "metadata": {
    "collapsed": false,
    "pycharm": {
     "name": "#%%\n"
    }
   }
  },
  {
   "cell_type": "markdown",
   "source": [
    "#### 2. Boolean operations\n",
    "There are three built-in boolean operators in Python:\n",
    "`and`, `or`, `not`. The first two are **binary** operators which means that they expect two arguments. `not` is a **unary** operator, it is always applied to the boolean values.\n",
    "\n",
    "   * **and** is a binary operator, it takes two arguments and returns `True` if both arguments are true, otherwise, it returns `False`."
   ],
   "metadata": {
    "collapsed": false,
    "pycharm": {
     "name": "#%% md\n"
    }
   }
  },
  {
   "cell_type": "code",
   "execution_count": 3,
   "outputs": [
    {
     "name": "stdout",
     "output_type": "stream",
     "text": [
      "True\n",
      "False\n",
      "False\n",
      "False\n"
     ]
    }
   ],
   "source": [
    "a = True and True       # True\n",
    "b = True and False      # False\n",
    "c = False and False     # False\n",
    "d = False and True      # False\n",
    "\n",
    "print(a, b, c, d, sep=\"\\n\")"
   ],
   "metadata": {
    "collapsed": false,
    "pycharm": {
     "name": "#%%\n"
    }
   }
  },
  {
   "cell_type": "markdown",
   "source": [
    "   * **or** is a binary operator, it returns `True` if at least one argument is true, otherwise, it returns `False`."
   ],
   "metadata": {
    "collapsed": false,
    "pycharm": {
     "name": "#%% md\n"
    }
   }
  },
  {
   "cell_type": "code",
   "execution_count": 4,
   "outputs": [
    {
     "name": "stdout",
     "output_type": "stream",
     "text": [
      "True\n",
      "True\n",
      "False\n",
      "True\n"
     ]
    }
   ],
   "source": [
    "a = True or True        # True\n",
    "b = True or False       # True\n",
    "c = False or False      # False\n",
    "d = False or True       # True\n",
    "\n",
    "print(a, b, c, d, sep=\"\\n\")"
   ],
   "metadata": {
    "collapsed": false,
    "pycharm": {
     "name": "#%%\n"
    }
   }
  },
  {
   "cell_type": "markdown",
   "source": [
    "   * **not** is a unary operator, it reverses the boolean value of its argument."
   ],
   "metadata": {
    "collapsed": false,
    "pycharm": {
     "name": "#%% md\n"
    }
   }
  },
  {
   "cell_type": "code",
   "execution_count": 5,
   "outputs": [
    {
     "name": "stdout",
     "output_type": "stream",
     "text": [
      "True\n",
      "False\n"
     ]
    }
   ],
   "source": [
    "to_be = True                # to_be is True\n",
    "not_to_be = not to_be       # not_to_be is False\n",
    "\n",
    "print(to_be, not_to_be, sep=\"\\n\")"
   ],
   "metadata": {
    "collapsed": false,
    "pycharm": {
     "name": "#%%\n"
    }
   }
  },
  {
   "cell_type": "markdown",
   "source": [
    "#### 3. The precedence of boolean operations\n",
    "Logical operators have a different priority and it affects the order of evaluation. Here are the operators in order of their priorities:\n",
    "\n",
    "1. `not`\n",
    "2. `and`\n",
    "3. `or`\n",
    "\n",
    "So, `not` is considered first, then `and`, finally `or`. Having this in mind, consider the following expression:"
   ],
   "metadata": {
    "collapsed": false,
    "pycharm": {
     "name": "#%% md\n"
    }
   }
  },
  {
   "cell_type": "code",
   "execution_count": 6,
   "outputs": [
    {
     "name": "stdout",
     "output_type": "stream",
     "text": [
      "True\n"
     ]
    }
   ],
   "source": [
    "print(False or not False)   # True"
   ],
   "metadata": {
    "collapsed": false,
    "pycharm": {
     "name": "#%%\n"
    }
   }
  },
  {
   "cell_type": "markdown",
   "source": [
    "First, the part `not False` gets evaluated, and after evaluation, we are left with `False or True`. This results in `True`, if you recall the previous section.\n",
    "\n",
    "While dealing solely with the boolean values may seem obvious, the precedence of logical operations will be quite important to remember when you start working with so-called **truthy** and **falsy** values."
   ],
   "metadata": {
    "collapsed": false,
    "pycharm": {
     "name": "#%% md\n"
    }
   }
  },
  {
   "cell_type": "markdown",
   "source": [
    "#### 4. Truthy and falsy value\n",
    "Though Python has the boolean data type, we often want to use non-boolean values in logical context. And Python lets you test almost any object for truthfulness. When used with logical operators, values of non-boolean types, such as integers or strings, are called **truthy** or **falsy**. It depends on whether thye are interpreted as `True` or `False`.\n",
    "\n",
    "The following values are evaluated to `False` in Python:\n",
    "    * constants defined to be false: `None` and `False`,\n",
    "    * zero of any numeric type: `0`, `0.0`,\n",
    "    * empty sequences and containers: `\"\"`, `[]`, `{}`.\n",
    "\n",
    "Anything else generally evaluates to `True`. Here is a couple of examples:"
   ],
   "metadata": {
    "collapsed": false,
    "pycharm": {
     "name": "#%% md\n"
    }
   }
  },
  {
   "cell_type": "code",
   "execution_count": 10,
   "outputs": [
    {
     "name": "stdout",
     "output_type": "stream",
     "text": [
      "False\n",
      "True\n",
      "False\n",
      "True\n"
     ]
    }
   ],
   "source": [
    "#    False\n",
    "print(0.0 or False)     # False\n",
    "#    True\n",
    "print(\"True\" and True)  # True\n",
    "#    False\n",
    "print(\"\" or False)      # False\n",
    "print(not \"\")           # True"
   ],
   "metadata": {
    "collapsed": false,
    "pycharm": {
     "name": "#%%\n"
    }
   }
  },
  {
   "cell_type": "markdown",
   "source": [
    "Generally speaking, `and` and `or` could take any arguments that can be tested for a boolean value.\n",
    "\n",
    "Now we can demonstrate more clearly the difference in operator precedence:"
   ],
   "metadata": {
    "collapsed": false,
    "pycharm": {
     "name": "#%% md\n"
    }
   }
  },
  {
   "cell_type": "code",
   "execution_count": 13,
   "outputs": [
    {
     "name": "stdout",
     "output_type": "stream",
     "text": [
      "100\n",
      "500\n",
      "100\n"
     ]
    }
   ],
   "source": [
    "# `and` has a higher priority than `or`\n",
    "truthy_integer = False or 5 and 100     # 100\n",
    "# the number who is greater than the other will be omitted\n",
    "print(5 and 100)    # 100\n",
    "print(truthy_integer)"
   ],
   "metadata": {
    "collapsed": false,
    "pycharm": {
     "name": "#%%\n"
    }
   }
  },
  {
   "cell_type": "markdown",
   "source": [
    "Again, let's break the above expression into parts. Since the operator `and` has a higher priority than `or`, we should look at the `5 and 100` part. Both `100` and `5` happen to be truthy values, so this operation will return `100`. You have never seen this before, so it's natural to wonder why we have a number instead of the `True` value here. The explanation is as follows:"
   ],
   "metadata": {
    "collapsed": false,
    "pycharm": {
     "name": "#%% md\n"
    }
   }
  },
  {
   "cell_type": "markdown",
   "source": [
    "<div>\n",
    "    The operators `or` and `and` return one of their operands, not necessarily of the boolean type (see details below). Nonetheless, `not` always returns a boolean value.\n",
    "</div>"
   ],
   "metadata": {
    "collapsed": false,
    "pycharm": {
     "name": "#%% md\n"
    }
   }
  },
  {
   "cell_type": "markdown",
   "source": [
    "Coming back to the original expression, you can see that the last part `False or 100` does exactly the same thing, returns `100` instead of `True`.\n",
    "\n",
    "Another tricky example is below:"
   ],
   "metadata": {
    "collapsed": false,
    "pycharm": {
     "name": "#%% md\n"
    }
   }
  },
  {
   "cell_type": "code",
   "execution_count": 16,
   "outputs": [
    {
     "name": "stdout",
     "output_type": "stream",
     "text": [
      "\n",
      "True\n"
     ]
    }
   ],
   "source": [
    "#                   False\n",
    "tricky = not (False or '')  # (False or \"\") = \"\" (False)\n",
    "#                           # not False = True\n",
    "print(tricky)  # True"
   ],
   "metadata": {
    "collapsed": false,
    "pycharm": {
     "name": "#%%\n"
    }
   }
  },
  {
   "cell_type": "markdown",
   "source": [
    "A pair of parentheses is a way to specify the order in which the operations are performed. Thus, we evaluate this part of the expression first: `False or ''`. This operand `''` evaluates to `False` and `or` returns this empty string. Since the result of the enclosed expression is negated, we get `True` in the end: `not ''` is the same as `True`. Why didn't we get, say, a non-empty string? The `not` operator creates a new value, which by default has the boolean type. So, as stated earlier, the unary operator always returns a logical value."
   ],
   "metadata": {
    "collapsed": false,
    "pycharm": {
     "name": "#%% md\n"
    }
   }
  },
  {
   "cell_type": "markdown",
   "source": [
    "#### 5. Short-circuit evaluation\n",
    "The last thing to mention is that logical operators in Python are **short-circuited**. That's why they are also called **lazy**. That means that the second operand in such an expression is evaluated only if the first one is not sufficient to evaluate the whole expression.\n",
    "\n",
    "   * `x and y` returns x if x is falsy; otherwise, it evaluates and returns y.\n",
    "   * `x or y` returns x if x is truthy; otherwise, it evaluates and returns y.\n",
    "\n",
    "For instance:"
   ],
   "metadata": {
    "collapsed": false,
    "pycharm": {
     "name": "#%% md\n"
    }
   }
  },
  {
   "cell_type": "code",
   "execution_count": 18,
   "outputs": [
    {
     "name": "stdout",
     "output_type": "stream",
     "text": [
      "True\n",
      "False\n"
     ]
    }
   ],
   "source": [
    "# division is never evaluated, because the first argument is True\n",
    "# the result is automatically True if the boolean operator is \"or\" else it will evaluate\n",
    "lazy_or = True or (1 / 0)   # True\n",
    "print(lazy_or)\n",
    "\n",
    "# division is never evalauted, because the first argument is True\n",
    "lazy_and = False and (1 / 0) # False\n",
    "print(lazy_and)"
   ],
   "metadata": {
    "collapsed": false,
    "pycharm": {
     "name": "#%%\n"
    }
   }
  },
  {
   "cell_type": "markdown",
   "source": [
    "#### 6. Summary\n",
    "So, in this topic, we've learned about a boolean type in Python, what boolean operations it has (`not`, `and`, `or`) and their priority. We also familiarized ourselves with the concept of truthy and falsy values and why logical operators in Python are called short-circuited. Those were the very basics of boolean values and logical operations in Python. It's definitely good to know them right from the beginning!"
   ],
   "metadata": {
    "collapsed": false,
    "pycharm": {
     "name": "#%% md\n"
    }
   }
  },
  {
   "cell_type": "code",
   "execution_count": null,
   "outputs": [],
   "source": [
    "# not a and b ="
   ],
   "metadata": {
    "collapsed": false,
    "pycharm": {
     "name": "#%%\n"
    }
   }
  }
 ],
 "metadata": {
  "kernelspec": {
   "display_name": "Python 3",
   "language": "python",
   "name": "python3"
  },
  "language_info": {
   "codemirror_mode": {
    "name": "ipython",
    "version": 2
   },
   "file_extension": ".py",
   "mimetype": "text/x-python",
   "name": "python",
   "nbconvert_exporter": "python",
   "pygments_lexer": "ipython2",
   "version": "2.7.6"
  }
 },
 "nbformat": 4,
 "nbformat_minor": 0
}