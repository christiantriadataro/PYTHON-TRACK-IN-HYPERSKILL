{
 "cells": [
  {
   "cell_type": "markdown",
   "source": [
    "### Basic data types"
   ],
   "metadata": {
    "collapsed": false,
    "pycharm": {
     "name": "#%% md\n"
    }
   }
  },
  {
   "cell_type": "markdown",
   "source": [
    "#### Theory\n",
    "Every data **object** (a variable or a constant) has a type that describes how to keep it in memory, which operations can be applied to this object and how to compute them.\n",
    "\n",
    "A real-world analogy of types may be biological species or any other abstract attribute shared among specific objects. All the *dog*, but each of them is an individual object. Thinking about a *dog* as a type you can assume some operations available, for example, a dog can bark.\n",
    "\n",
    "In this topic, we will consider only a few of the simplest data types that are commonly used in programming practice.\n",
    "\n",
    "#### 1. Strings\n",
    "Whenever you want to work with some kind of textual information in your program, you'll have to work with **strings**. The string type is called *str*. Strings are extremely common and useful in Python. String literals may be delimited using either single or double quotes.\n",
    "\n",
    "* Examples of strings in double quotes:"
   ],
   "metadata": {
    "collapsed": false,
    "pycharm": {
     "name": "#%% md\n"
    }
   }
  },
  {
   "cell_type": "code",
   "execution_count": null,
   "outputs": [],
   "source": [
    "print(\"\")                # empty string\n",
    "print(\"string\")          # one word\n",
    "print(\"Hello, world!\")   # a sentence"
   ],
   "metadata": {
    "collapsed": false,
    "pycharm": {
     "name": "#%%\n"
    }
   }
  },
  {
   "cell_type": "markdown",
   "source": [
    "* Examples of strings in single quotes:"
   ],
   "metadata": {
    "collapsed": false,
    "pycharm": {
     "name": "#%% md\n"
    }
   }
  },
  {
   "cell_type": "code",
   "execution_count": null,
   "outputs": [],
   "source": [
    "print('a')                   # single character\n",
    "print('1234')                # a sequence of digits\n",
    "print('Bonjour, le monde!')  # a sentence"
   ],
   "metadata": {
    "collapsed": false,
    "pycharm": {
     "name": "#%%\n"
    }
   }
  },
  {
   "cell_type": "markdown",
   "source": [
    "In a real program, a string can represent an email of a person or an organization."
   ],
   "metadata": {
    "collapsed": false,
    "pycharm": {
     "name": "#%% md\n"
    }
   }
  },
  {
   "cell_type": "code",
   "execution_count": null,
   "outputs": [],
   "source": [
    "print('hello@hyperskill.org')       # printing an email"
   ],
   "metadata": {
    "collapsed": false,
    "pycharm": {
     "name": "#%%\n"
    }
   }
  },
  {
   "cell_type": "markdown",
   "source": [
    "As you can see, strings are very easy to use!"
   ],
   "metadata": {
    "collapsed": false,
    "pycharm": {
     "name": "#%% md\n"
    }
   }
  },
  {
   "cell_type": "markdown",
   "source": [
    "#### 2. Numerical types\n",
    "Numbers are the most important thing for any programmer. There is hardly any serious program you can write without using numbers, so let's discuss some basic **numerical types**:\n",
    "* `int` **(signed integers)**. Called integers or ints, they are whole numbers (positive, negative or zero), having no decimal point;\n",
    "* `float` **(floating-point numbers)**. Called floats, they represent real numbers and have a decimal point.\n",
    "\n",
    "You can start working with a number by just printing it out."
   ],
   "metadata": {
    "collapsed": false,
    "pycharm": {
     "name": "#%% md\n"
    }
   }
  },
  {
   "cell_type": "code",
   "execution_count": null,
   "outputs": [],
   "source": [
    "print(11)           # prints 11\n",
    "print(11.0)         # prints 11.0"
   ],
   "metadata": {
    "collapsed": false,
    "pycharm": {
     "name": "#%%\n"
    }
   }
  },
  {
   "cell_type": "markdown",
   "source": [
    "Even though `11` and `11.0` are the same number, the former is an integer, and the latter is a float. The simples way to distinguish them is that floats have a **decimal point** and integers don't. Pay attention!\n",
    "\n",
    "You can also use negative numbers as well as zeroes:"
   ],
   "metadata": {
    "collapsed": false,
    "pycharm": {
     "name": "#%% md\n"
    }
   }
  },
  {
   "cell_type": "code",
   "execution_count": null,
   "outputs": [],
   "source": [
    "print(0)        # prints 0\n",
    "print(-5)       # prints -5\n",
    "print(-1.03)    # prints -1.03"
   ],
   "metadata": {
    "collapsed": false,
    "pycharm": {
     "name": "#%%\n"
    }
   }
  },
  {
   "cell_type": "markdown",
   "source": [
    "Integer numbers can be used to count things in the real world while floating-point numbers are a good choice for statistical a"
   ],
   "metadata": {
    "collapsed": false,
    "pycharm": {
     "name": "#%% md\n"
    }
   }
  },
  {
   "cell_type": "markdown",
   "source": [],
   "metadata": {
    "collapsed": false,
    "pycharm": {
     "name": "#%% md\n"
    }
   }
  }
 ],
 "metadata": {
  "kernelspec": {
   "display_name": "Python 3",
   "language": "python",
   "name": "python3"
  },
  "language_info": {
   "codemirror_mode": {
    "name": "ipython",
    "version": 2
   },
   "file_extension": ".py",
   "mimetype": "text/x-python",
   "name": "python",
   "nbconvert_exporter": "python",
   "pygments_lexer": "ipython2",
   "version": "2.7.6"
  }
 },
 "nbformat": 4,
 "nbformat_minor": 0
}