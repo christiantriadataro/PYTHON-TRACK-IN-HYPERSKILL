{
 "cells": [
  {
   "cell_type": "markdown",
   "source": [
    "### Type casting"
   ],
   "metadata": {
    "collapsed": false,
    "pycharm": {
     "name": "#%% md\n"
    }
   }
  },
  {
   "cell_type": "markdown",
   "source": [
    "#### Theory\n",
    "Computer science, like any other science, actually, has lots of theory attached to it. It never hurts to be familiar with some fundamental theoretic knowledge about a programming language you're learning or already using in practice. It might help you to understand the language better or the difference between several ones. In this topic, we'll learn some theory about types in Python and see how it works in practice."
   ],
   "metadata": {
    "collapsed": false,
    "pycharm": {
     "name": "#%% md\n"
    }
   }
  },
  {
   "cell_type": "markdown",
   "source": [
    "#### 1. Dynamic vs. Static typing\n",
    "Python is a **dynamically typed** and **strongly typed** language. Dynamic typing means that only runtime objects (value) have a type, but not the variables that store them. You are able to store several values of different types ina single variable during your code execution and no errors will occur.\n",
    "\n",
    "The following code is totally valid:"
   ],
   "metadata": {
    "collapsed": false,
    "pycharm": {
     "name": "#%% md\n"
    }
   }
  },
  {
   "cell_type": "code",
   "execution_count": 2,
   "outputs": [
    {
     "name": "stdout",
     "output_type": "stream",
     "text": [
      "hello\n",
      "10\n",
      "hello\n"
     ]
    }
   ],
   "source": [
    "v = 10  # variable v stores an integer value\n",
    "print(v)\n",
    "v = \"hello\"  # v now stores a string\n",
    "print(v)"
   ],
   "metadata": {
    "collapsed": false,
    "pycharm": {
     "name": "#%%\n"
    }
   }
  },
  {
   "cell_type": "markdown",
   "source": [
    "On the other side, in **statically typed** languages each variable has a type that cannot be changed during the runtime, so the code above would fail. Examples of statistically typed languages are C++, Java and Go."
   ],
   "metadata": {
    "collapsed": false,
    "pycharm": {
     "name": "#%% md\n"
    }
   }
  },
  {
   "cell_type": "markdown",
   "source": [
    "#### 2. Strong vs. Weak typing\n",
    "**Strong typing** means that implicit type conversions don't happen. For example, even though `\"125\"` consists only of digits it's a string. To use it in arithmetic operations you need to change its type to an integer or another numerical type. Trying to use it as leads to a `TypeError`."
   ],
   "metadata": {
    "collapsed": false,
    "pycharm": {
     "name": "#%% md\n"
    }
   }
  },
  {
   "cell_type": "code",
   "execution_count": 3,
   "outputs": [
    {
     "ename": "TypeError",
     "evalue": "can only concatenate str (not \"int\") to str",
     "output_type": "error",
     "traceback": [
      "\u001B[1;31m---------------------------------------------------------------------------\u001B[0m",
      "\u001B[1;31mTypeError\u001B[0m                                 Traceback (most recent call last)",
      "Input \u001B[1;32mIn [3]\u001B[0m, in \u001B[0;36m<cell line: 1>\u001B[1;34m()\u001B[0m\n\u001B[1;32m----> 1\u001B[0m \u001B[38;5;28mprint\u001B[39m(\u001B[38;5;124;43m\"\u001B[39;49m\u001B[38;5;124;43m125\u001B[39;49m\u001B[38;5;124;43m\"\u001B[39;49m\u001B[43m \u001B[49m\u001B[38;5;241;43m+\u001B[39;49m\u001B[43m \u001B[49m\u001B[38;5;241;43m10\u001B[39;49m)\n",
      "\u001B[1;31mTypeError\u001B[0m: can only concatenate str (not \"int\") to str"
     ]
    }
   ],
   "source": [
    "print(\"125\" + 10)\n",
    "# ...\n",
    "# TypeError: can only ooncatenate str (not \"int\") to str"
   ],
   "metadata": {
    "collapsed": false,
    "pycharm": {
     "name": "#%%\n"
    }
   }
  },
  {
   "cell_type": "markdown",
   "source": [
    "If Python had a **weak type system**, such value could be interpreted as an integer to successfully perform the operation. Such behavior, when one of the operands is implicitly converted to the type of another operand, is called **type coercion**.\n",
    "\n",
    "Since there is no type coercion in Python, the same operand may give different results depending on the types of provided arguments. For example, you can add two strings to get a concatenation. It is also possible to multiply a string by an integer:"
   ],
   "metadata": {
    "collapsed": false,
    "pycharm": {
     "name": "#%% md\n"
    }
   }
  },
  {
   "cell_type": "code",
   "execution_count": 8,
   "outputs": [
    {
     "name": "stdout",
     "output_type": "stream",
     "text": [
      "250\n",
      "125125\n",
      "500\n",
      "125125125125\n",
      "This is a number: 125\n"
     ]
    }
   ],
   "source": [
    "print(125 + 125)        # 250\n",
    "print(\"125\" + \"125\")    # \"125125\"\n",
    "print(125 * 4)          # 500\n",
    "print(\"125\" * 4)        # \"125125125125\"\n",
    "print(\"This is a number:\", 125)     # \"This is a number: 125\""
   ],
   "metadata": {
    "collapsed": false,
    "pycharm": {
     "name": "#%%\n"
    }
   }
  },
  {
   "cell_type": "markdown",
   "source": [
    "The example also shows that you can print values of different types if you separate them with commas in the parentheses. The `print()` function will print all the arguments delimited by a space."
   ],
   "metadata": {
    "collapsed": false,
    "pycharm": {
     "name": "#%% md\n"
    }
   }
  },
  {
   "cell_type": "markdown",
   "source": [
    "#### 3. Explicit type casting\n",
    "The process of converting a value to another type is also called **type casting**. Though implicit type casting isn't allowed in Python you will often find yourself in need to define an explicit type conversion within your code. This happens a lot when you work with the user's input.\n",
    "\n",
    "Imagine you asked a user to provide an age that you will later use in some calculations. To convert a string to integer type can use the built-in `int()` function."
   ],
   "metadata": {
    "collapsed": false,
    "pycharm": {
     "name": "#%% md\n"
    }
   }
  },
  {
   "cell_type": "code",
   "execution_count": 9,
   "outputs": [
    {
     "name": "stdout",
     "output_type": "stream",
     "text": [
      "<class 'str'>\n",
      "<class 'int'>\n"
     ]
    }
   ],
   "source": [
    "raw_age = \"22\"\n",
    "print(type(raw_age))    # <class 'str'>\n",
    "\n",
    "age = int(raw_age)\n",
    "print(type(age))        # <class 'int'>"
   ],
   "metadata": {
    "collapsed": false,
    "pycharm": {
     "name": "#%%\n"
    }
   }
  },
  {
   "cell_type": "markdown",
   "source": [
    "The **type** function is used to find out the type of the value provided.\n",
    "\n",
    "To cast an integer to the string type use the `str()` function:"
   ],
   "metadata": {
    "collapsed": false,
    "pycharm": {
     "name": "#%% md\n"
    }
   }
  },
  {
   "cell_type": "code",
   "execution_count": null,
   "outputs": [],
   "source": [
    "age = 22\n",
    "print(type(age))             # <class 'int'>\n",
    "\n",
    "string_age = str(age)\n",
    "print(type(string_age))      # <class 'str'>"
   ],
   "metadata": {
    "collapsed": false,
    "pycharm": {
     "name": "#%%\n"
    }
   }
  },
  {
   "cell_type": "markdown",
   "source": [
    "As you noticed, to cast a value to some type we use the function with the same name. If conversion between two types is not allowed you will see an error. Except for the `str()` and `int()` functions we covered above there is also `float()` function. It converts a given value to the float type.\n",
    "\n",
    "Here are some more examples of casting between different types:"
   ],
   "metadata": {
    "collapsed": false,
    "pycharm": {
     "name": "#%% md\n"
    }
   }
  },
  {
   "cell_type": "code",
   "execution_count": 13,
   "outputs": [
    {
     "name": "stdout",
     "output_type": "stream",
     "text": [
      "<class 'float'>\n",
      "3.14\n",
      "3\n",
      "<class 'int'>\n",
      "3.0\n",
      "<class 'float'>\n"
     ]
    }
   ],
   "source": [
    "f = 3.14    # the type is float\n",
    "print(type(f))  # <class 'float'>\n",
    "\n",
    "s = str(f)  # converting float to string\n",
    "print(s)        # <class 'str'>\n",
    "\n",
    "i = int(f)  # while converting a float value to an integer its fractional part is discarded\n",
    "print(i)    # 3\n",
    "print(type(i))  # <class 'int'>\n",
    "\n",
    "f = float(i)\n",
    "print(f)    # 3.0\n",
    "print(type(f))      # <class 'float'>"
   ],
   "metadata": {
    "collapsed": false,
    "pycharm": {
     "name": "#%%\n"
    }
   }
  },
  {
   "cell_type": "markdown",
   "source": [
    "<div>\n",
    "    It is important to remember that you can cast the value of any type to a string in Python. This fact is often used for debugging purposes.\n",
    "</div>"
   ],
   "metadata": {
    "collapsed": false,
    "pycharm": {
     "name": "#%% md\n"
    }
   }
  },
  {
   "cell_type": "markdown",
   "source": [
    "#### 4. Summary\n",
    "Let's sum up what this topic was about:\n",
    "    * Python as a dynamically typed and strongly typed language;\n",
    "    * the difference between dynamic and static typing;\n",
    "    * the difference between strong and weak typing;\n",
    "    * using explicit type casting in Python."
   ],
   "metadata": {
    "collapsed": false,
    "pycharm": {
     "name": "#%% md\n"
    }
   }
  },
  {
   "cell_type": "code",
   "execution_count": 15,
   "outputs": [
    {
     "ename": "ValueError",
     "evalue": "invalid literal for int() with base 10: '15.5'",
     "output_type": "error",
     "traceback": [
      "\u001B[1;31m---------------------------------------------------------------------------\u001B[0m",
      "\u001B[1;31mValueError\u001B[0m                                Traceback (most recent call last)",
      "Input \u001B[1;32mIn [15]\u001B[0m, in \u001B[0;36m<cell line: 1>\u001B[1;34m()\u001B[0m\n\u001B[1;32m----> 1\u001B[0m \u001B[38;5;28mprint\u001B[39m(\u001B[38;5;28mtype\u001B[39m(\u001B[38;5;28;43mint\u001B[39;49m\u001B[43m(\u001B[49m\u001B[38;5;124;43m\"\u001B[39;49m\u001B[38;5;124;43m15.5\u001B[39;49m\u001B[38;5;124;43m\"\u001B[39;49m\u001B[43m)\u001B[49m))\n",
      "\u001B[1;31mValueError\u001B[0m: invalid literal for int() with base 10: '15.5'"
     ]
    }
   ],
   "source": [
    "print(type(int(\"15.5\")))"
   ],
   "metadata": {
    "collapsed": false,
    "pycharm": {
     "name": "#%%\n"
    }
   }
  },
  {
   "cell_type": "code",
   "execution_count": null,
   "outputs": [],
   "source": [],
   "metadata": {
    "collapsed": false,
    "pycharm": {
     "name": "#%%\n"
    }
   }
  }
 ],
 "metadata": {
  "kernelspec": {
   "display_name": "Python 3",
   "language": "python",
   "name": "python3"
  },
  "language_info": {
   "codemirror_mode": {
    "name": "ipython",
    "version": 2
   },
   "file_extension": ".py",
   "mimetype": "text/x-python",
   "name": "python",
   "nbconvert_exporter": "python",
   "pygments_lexer": "ipython2",
   "version": "2.7.6"
  }
 },
 "nbformat": 4,
 "nbformat_minor": 0
}