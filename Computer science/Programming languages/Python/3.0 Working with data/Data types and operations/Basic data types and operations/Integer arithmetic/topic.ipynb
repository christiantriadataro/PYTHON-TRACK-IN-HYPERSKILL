{
 "cells": [
  {
   "cell_type": "markdown",
   "source": [
    "### Integer arithmetic"
   ],
   "metadata": {
    "collapsed": false
   }
  },
  {
   "cell_type": "markdown",
   "source": [
    "#### Theory\n",
    "In real life, we often perform arithmetic operations. They help us to calculate the change from a purchase, determine the area of a room, count the number of people in a line, and so on. The same operations are used in programs."
   ],
   "metadata": {
    "collapsed": false
   }
  },
  {
   "cell_type": "markdown",
   "source": [
    "#### 1. Basic operations\n",
    "Python supports basic arithmetic operations:\n",
    "* addition `+`\n",
    "* subtraction `-`\n",
    "* multiplication `*`\n",
    "* division `/`\n",
    "* integer division `//`\n",
    "\n",
    "The examples below show how it works for numbers."
   ],
   "metadata": {
    "collapsed": false
   }
  },
  {
   "cell_type": "code",
   "execution_count": null,
   "outputs": [],
   "source": [
    "print(10 + 10)      # 20\n",
    "print(100 - 10)     # 90\n",
    "print(10 * 10)      # 100\n",
    "print(77 / 10)      # 7.7\n",
    "print(77 // 10)     # 7"
   ],
   "metadata": {
    "collapsed": false
   }
  },
  {
   "cell_type": "markdown",
   "source": [
    "There is a difference between division `/` and integer division `//`. The first produces a floating-point number (like `7.7`), while the second one produces an integer value (like `7`) ignoring the decimal part.\n",
    "\n",
    "Python raises an error if you try to divide by zero."
   ],
   "metadata": {
    "collapsed": false
   }
  },
  {
   "cell_type": "markdown",
   "source": [
    "ZeroDivisionError: division by zero"
   ],
   "metadata": {
    "collapsed": false
   }
  },
  {
   "cell_type": "markdown",
   "source": [
    "#### 2. Writing complex expressions\n",
    "Arithmetic operations can be combined to write more complex expressions:"
   ],
   "metadata": {
    "collapsed": false
   }
  },
  {
   "cell_type": "code",
   "execution_count": 2,
   "outputs": [
    {
     "name": "stdout",
     "output_type": "stream",
     "text": [
      "6\n",
      "6\n"
     ]
    }
   ],
   "source": [
    "print(2 + 2 * 2)    # 6"
   ],
   "metadata": {
    "collapsed": false
   }
  },
  {
   "cell_type": "markdown",
   "source": [
    "The calculation order coincides with the rules of arithmetic operations. Multiplication has a higher priority level than addition and subtraction, so the operation `2 * 2` is calculated first.\n",
    "\n",
    "To specify an order of execution, you can use **parentheses**, as in the following:"
   ],
   "metadata": {
    "collapsed": false
   }
  },
  {
   "cell_type": "code",
   "execution_count": 3,
   "outputs": [
    {
     "name": "stdout",
     "output_type": "stream",
     "text": [
      "8\n"
     ]
    }
   ],
   "source": [
    "print((2 + 2) * 2)  # 8"
   ],
   "metadata": {
    "collapsed": false
   }
  },
  {
   "cell_type": "markdown",
   "source": [
    "Like in arithmetic, parenthesis can be nested inside each other. You can also use them for clarity.\n",
    "\n",
    "The minus operator has a unary form that negates the value or expression. A positive number becomes negative, and a negative number becomes positive."
   ],
   "metadata": {
    "collapsed": false
   }
  },
  {
   "cell_type": "code",
   "execution_count": 4,
   "outputs": [
    {
     "name": "stdout",
     "output_type": "stream",
     "text": [
      "-10\n",
      "-300\n",
      "20\n"
     ]
    }
   ],
   "source": [
    "print(-10)  # -10\n",
    "print(-(100 + 200))   # -300\n",
    "print(-(-20))   # 20"
   ],
   "metadata": {
    "collapsed": false
   }
  },
  {
   "cell_type": "markdown",
   "source": [
    "#### 3. Other operations\n",
    "**The remainder of a division.** Python modulo operator `%` is used to get the remainder of a division. It may come in handy when you want to check if a number is even. Applied to `2`, it returns `1` for odd numbers and `0` for the even ones."
   ],
   "metadata": {
    "collapsed": false
   }
  },
  {
   "cell_type": "code",
   "execution_count": null,
   "outputs": [],
   "source": [
    "print(7 % 2)    # 1, because 7 is an odd number\n",
    "print(8 % 2)    # 0, because 8 is an even number"
   ],
   "metadata": {
    "collapsed": false
   }
  },
  {
   "cell_type": "markdown",
   "source": [
    "Here are some more examples:"
   ],
   "metadata": {
    "collapsed": false
   }
  },
  {
   "cell_type": "code",
   "execution_count": 5,
   "outputs": [
    {
     "name": "stdout",
     "output_type": "stream",
     "text": [
      "0\n",
      "5.0\n",
      "55\n",
      "4\n",
      "-4\n"
     ]
    }
   ],
   "source": [
    "# Divide the number by itself\n",
    "print(4 % 4)    # 0\n",
    "# At least one number is a float\n",
    "print(11 % 6.0) # 5.0\n",
    "# The first number is less than the divisor\n",
    "print(55 % 77)  # 55\n",
    "# With negative numbers, it preserves the divisor sign\n",
    "print(-11 % 5)   # 4\n",
    "print(11 % -5)   # -4"
   ],
   "metadata": {
    "collapsed": false
   }
  },
  {
   "cell_type": "markdown",
   "source": [
    "<div>\n",
    "    Taking the remainder of the division by `0` also leads to `ZeroDivisionError`.\n",
    "</div>"
   ],
   "metadata": {
    "collapsed": false
   }
  },
  {
   "cell_type": "markdown",
   "source": [
    "The behavior of the mod function in Python might seem unexpected at first glance. While `11 % 5 = 1` and `-11 % -5 = -1` when both numbers on the left side are of the same sign, `11 % 5 = -4` and `-11 % 5 = 4` if we have one negative number. In Python, the remainder always has the same sign as the divisor.\n",
    "\n",
    "In the first case, `11 % -5 = -4`, as the remainder should be negative, we need to compare 15 and 11, not 10 and 11: `11 = (-5) * (-3) + (-4)`. In the second case, `-11 % 5 = 4`, the remainder is supposed to be positive: `-11 = 5 * (-3) + 4`. It's alright if you don't understand how exactly it's calculated. However, if you want a detailed explanation, we have a separate topic on modulo division with negative numbers.\n",
    "\n",
    "**Exponentiation**. Here is a way to raise a number to a power:"
   ],
   "metadata": {
    "collapsed": false
   }
  },
  {
   "cell_type": "code",
   "execution_count": null,
   "outputs": [],
   "source": [
    "print(10 ** 2)  # 100"
   ],
   "metadata": {
    "collapsed": false
   }
  },
  {
   "cell_type": "markdown",
   "source": [
    "This operation has a higher priority over multiplication."
   ],
   "metadata": {
    "collapsed": false
   }
  },
  {
   "cell_type": "markdown",
   "source": [
    "#### 4. Operation priority\n",
    "To sum up, there is a list of priorities for all considered operations:\n",
    "1. parentheses\n",
    "2. power\n",
    "3. unary minus\n",
    "4. multiplication, division, and remainder\n",
    "5. addition and subtraction\n",
    "\n",
    "As mentioned above, the unary minus changes the sign of its argument.\n",
    "\n",
    "Sometimes operations have the same priority."
   ],
   "metadata": {
    "collapsed": false
   }
  },
  {
   "cell_type": "code",
   "execution_count": 6,
   "outputs": [
    {
     "name": "stdout",
     "output_type": "stream",
     "text": [
      "1.0\n",
      "20.0\n"
     ]
    }
   ],
   "source": [
    "print(10 / 5 / 2)   # 1.0\n",
    "print(8 / 2 * 5)    # 20.0"
   ],
   "metadata": {
    "collapsed": false
   }
  },
  {
   "cell_type": "markdown",
   "source": [
    "The expressions above may seem ambiguous to you, since they have alternative solutions depending on the operation order: either `1.0` or `4.0` in the first example, and either `20.0` or `0.8` in the second one. In such cases, Python follow sa left-to-right operation convention from mathematics. It's a good thing to know, so try to keep that in mind, too!"
   ],
   "metadata": {
    "collapsed": false
   }
  },
  {
   "cell_type": "markdown",
   "source": [
    "#### 5. PEP time!\n",
    "There a few things to mention about the use of binary operators (that is, the operators that influence both operands). As you know, readability does matter in Python. So first, remember to surround a binary operator with a single space on both sides:"
   ],
   "metadata": {
    "collapsed": false
   }
  },
  {
   "cell_type": "code",
   "execution_count": null,
   "outputs": [],
   "source": [
    "number=30+12    # No!\n",
    "\n",
    "number = 30 + 12    # It's better this way"
   ],
   "metadata": {
    "collapsed": false
   }
  },
  {
   "cell_type": "markdown",
   "source": [
    "<div>\n",
    "    **Operators** are special symbols indicating what operation to perform. **Operands** are values that the operation is performed on. Let's consider our example: `30 + 12`. Here `+` is an operator and `30` and `12` are operands.\n",
    "</div>"
   ],
   "metadata": {
    "collapsed": false
   }
  },
  {
   "cell_type": "markdown",
   "source": [
    "Also, sometimes people use the break **after** binary operators. But this can hurt readability in two ways:\n",
    "* the operators are not in one column,\n",
    "* each operator has moved away from its operand and onto the previous line:"
   ],
   "metadata": {
    "collapsed": false
   }
  },
  {
   "cell_type": "code",
   "execution_count": null,
   "outputs": [],
   "source": [
    "# No: operators sit far away from their operands\n",
    "income = (gross_wages +\n",
    "          taxable_interest +\n",
    "          (dividends - qualified_dividends) -\n",
    "          ira_deduction -\n",
    "          student_loan_interest)"
   ],
   "metadata": {
    "collapsed": false
   }
  },
  {
   "cell_type": "markdown",
   "source": [
    "Mathematicians and their publishers follow the opposite convention in order to solve the readability problem. Donald Knuth explain this in his *Computers and Typesetting* series: \"Although formulas within a paragraph always break after binary operations and relations, displayed formulas always break before binary operations\". Following this tradition makes the code more readable:"
   ],
   "metadata": {
    "collapsed": false
   }
  },
  {
   "cell_type": "code",
   "execution_count": null,
   "outputs": [],
   "source": [
    "# Yes: easy to match operators with operands\n",
    "income = (gross_wages\n",
    "          + taxable_interest\n",
    "          + (dividends - qualified_dividends)\n",
    "          - ira_deduction\n",
    "          - student_loan_interest)"
   ],
   "metadata": {
    "collapsed": false
   }
  },
  {
   "cell_type": "markdown",
   "source": [
    "In Python code, it is **permissible** to break before or after a binary operator, as long as the convention is consistent locally. For new code, **Knuth's style** is suggested, according to PEP 8."
   ],
   "metadata": {
    "collapsed": false
   }
  },
  {
   "cell_type": "markdown",
   "source": [
    "#### 6. Summary\n",
    "Alright, now let's quickly overview what we've learned in this topic:\n",
    "* what basic arithmetic operations Python supports and how to combine them ni more complex expressions;\n",
    "* a couple of other useful operations like calculation of the remainder of a division and exponentiation;\n",
    "* operation priority in Python;\n",
    "* how to write expressions according to PEP 8."
   ],
   "metadata": {
    "collapsed": false
   }
  },
  {
   "cell_type": "code",
   "execution_count": 1,
   "outputs": [
    {
     "name": "stdout",
     "output_type": "stream",
     "text": [
      "1219326311126420580\n"
     ]
    }
   ],
   "source": [
    "print(1234567890 * 987654321 + 67890)"
   ],
   "metadata": {
    "collapsed": false,
    "ExecuteTime": {
     "start_time": "2023-05-21T17:01:55.014060Z",
     "end_time": "2023-05-21T17:01:55.024058Z"
    }
   }
  },
  {
   "cell_type": "markdown",
   "source": [],
   "metadata": {
    "collapsed": false
   }
  },
  {
   "cell_type": "markdown",
   "source": [],
   "metadata": {
    "collapsed": false
   }
  }
 ],
 "metadata": {
  "kernelspec": {
   "display_name": "Python 3",
   "language": "python",
   "name": "python3"
  },
  "language_info": {
   "codemirror_mode": {
    "name": "ipython",
    "version": 2
   },
   "file_extension": ".py",
   "mimetype": "text/x-python",
   "name": "python",
   "nbconvert_exporter": "python",
   "pygments_lexer": "ipython2",
   "version": "2.7.6"
  }
 },
 "nbformat": 4,
 "nbformat_minor": 0
}
