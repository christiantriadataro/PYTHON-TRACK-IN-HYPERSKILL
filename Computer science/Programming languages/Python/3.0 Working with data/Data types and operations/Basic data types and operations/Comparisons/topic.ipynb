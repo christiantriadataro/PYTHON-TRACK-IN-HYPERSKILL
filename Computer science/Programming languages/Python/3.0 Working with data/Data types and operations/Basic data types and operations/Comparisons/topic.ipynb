{
 "cells": [
  {
   "cell_type": "markdown",
   "source": [
    "### Comparisons"
   ],
   "metadata": {
    "collapsed": false,
    "pycharm": {
     "name": "#%% md\n"
    }
   }
  },
  {
   "cell_type": "markdown",
   "source": [
    "#### Theory\n",
    "Writing code without comparing any values in it will get you only so far. Now, it's time to master this skill."
   ],
   "metadata": {
    "collapsed": false,
    "pycharm": {
     "name": "#%% md\n"
    }
   }
  },
  {
   "cell_type": "markdown",
   "source": [
    "#### 1. Comparison operators\n",
    "**Comparison** or **relation** operations let you compare two values and determine the relation between them. There are ten comparison operators in Python:\n",
    "    * `<` strictly less than\n",
    "    * `<=` less than or equal\n",
    "    * `>` strictly greater than\n",
    "    * `==` equal\n",
    "    * `!=` not equal\n",
    "    * `is` object identity\n",
    "    * `is not` negated object identity\n",
    "    * `in` membership\n",
    "    * `not in` negated membership\n",
    "\n",
    "The result of applying these operators is always `bool`. The following sections focus on the first six operators (`<`, `<=`, `>`, `>=`, `==`, `!=`), but you can find more details about identity and membership testing in the next topics. Also, pay attention to the greater/less than or equal operators, they are supposed to be written in the same order their names are pronounced: `<=` less than or equal, `>=` greater than or equal."
   ],
   "metadata": {
    "collapsed": false,
    "pycharm": {
     "name": "#%% md\n"
    }
   }
  },
  {
   "cell_type": "markdown",
   "source": [
    "#### 2. Comparing integers\n",
    "In this topic, we will cover only integer comparison."
   ],
   "metadata": {
    "collapsed": false,
    "pycharm": {
     "name": "#%% md\n"
    }
   }
  },
  {
   "cell_type": "code",
   "execution_count": 4,
   "outputs": [
    {
     "name": "stdout",
     "output_type": "stream",
     "text": [
      "False\n"
     ]
    }
   ],
   "source": [
    "a = 5\n",
    "b = -10\n",
    "c = 15\n",
    "\n",
    "result_1 = a < b    # False\n",
    "result_2 = a == a   # True\n",
    "result_3 = a != b   # True\n",
    "result_4 = b >= c   # False\n",
    "print(result_1, result_2, result_3, result_4)"
   ],
   "metadata": {
    "collapsed": false,
    "pycharm": {
     "name": "#%%\n"
    }
   }
  },
  {
   "cell_type": "markdown",
   "source": [
    "Any expression that returns an integer is a valid comparison operand too:"
   ],
   "metadata": {
    "collapsed": false,
    "pycharm": {
     "name": "#%% md\n"
    }
   }
  },
  {
   "cell_type": "code",
   "execution_count": 5,
   "outputs": [
    {
     "name": "stdout",
     "output_type": "stream",
     "text": [
      "True\n"
     ]
    }
   ],
   "source": [
    "#                   5 == (-10 + 15)\n",
    "calculated_result = a == b + c  # True\n",
    "print(calculated_result)"
   ],
   "metadata": {
    "collapsed": false,
    "pycharm": {
     "name": "#%%\n"
    }
   }
  },
  {
   "cell_type": "markdown",
   "source": [
    "Given the defined variables `a`, `b`, `c`, we basically check if `5` is equal to `-10 + 15`, which is true."
   ],
   "metadata": {
    "collapsed": false,
    "pycharm": {
     "name": "#%% md\n"
    }
   }
  },
  {
   "cell_type": "markdown",
   "source": [
    "#### 3. Comparison chaining\n",
    "Since comparison operations return boolean values, you can join them using logical operators. In this ase, it is important to know their priority, i.e. which one is executed first. All comparison operations have the same priority, and it is lower than that of any arithmetic, shifting, or bitwise operation (the last two are used for operations with bytes)."
   ],
   "metadata": {
    "collapsed": false,
    "pycharm": {
     "name": "#%% md\n"
    }
   }
  },
  {
   "cell_type": "code",
   "execution_count": 7,
   "outputs": [
    {
     "name": "stdout",
     "output_type": "stream",
     "text": [
      "True\n"
     ]
    }
   ],
   "source": [
    "x = -5\n",
    "y = 10\n",
    "z = 122\n",
    "#       (True) and (True)\n",
    "result = x < y and y <= z       # True\n",
    "print(result)"
   ],
   "metadata": {
    "collapsed": false,
    "pycharm": {
     "name": "#%%\n"
    }
   }
  },
  {
   "cell_type": "markdown",
   "source": [
    "In Python, there is a fancier way to write complex comparisons. It is called **chaining**. For example, `x < y <= z` is almost equivalent to the expression you saw in the last example. The difference is that `y` is evaluated only once."
   ],
   "metadata": {
    "collapsed": false,
    "pycharm": {
     "name": "#%% md\n"
    }
   }
  },
  {
   "cell_type": "code",
   "execution_count": 9,
   "outputs": [
    {
     "name": "stdout",
     "output_type": "stream",
     "text": [
      "True\n"
     ]
    }
   ],
   "source": [
    "#        10  <    10000\n",
    "#           True        <= 10000\n",
    "result = 10 < (100 * 100) <= 10000      # True, the multiplication is evaluated only once.\n",
    "print(result)"
   ],
   "metadata": {
    "collapsed": false,
    "pycharm": {
     "name": "#%%\n"
    }
   }
  },
  {
   "cell_type": "markdown",
   "source": [
    "<div>\n",
    "    Please pay attention to the fact that tools for code quality often recommend *chaining* comparisons instead of *joining* them.\n",
    "</div>"
   ],
   "metadata": {
    "collapsed": false,
    "pycharm": {
     "name": "#%% md\n"
    }
   }
  },
  {
   "cell_type": "markdown",
   "source": [
    "Comparison chaining, however, should be used carefully because sometimes expressions might get tricky, so the result would depend on the operators' order and how the parentheses are put. Consider this example:"
   ],
   "metadata": {
    "collapsed": false,
    "pycharm": {
     "name": "#%% md\n"
    }
   }
  },
  {
   "cell_type": "code",
   "execution_count": 2,
   "outputs": [
    {
     "name": "stdout",
     "output_type": "stream",
     "text": [
      "False\n",
      "True\n",
      "True\n"
     ]
    }
   ],
   "source": [
    "a = 1\n",
    "b = 2\n",
    "c = 3\n",
    "e = 4\n",
    "f = 5\n",
    "g = 6\n",
    "#                                       False\n",
    "#                              False\n",
    "#                         True\n",
    "#         False  or      True  == 5 == 5\n",
    "#       5   <= 4 or   11  >= 4 == 5 == 5\n",
    "#     2 + 3 <= 4 or 5 + 6 >= 4 == 5 == 5\n",
    "print(b + c <= e or f + g >= e == f == 5)   # False\n",
    "\n",
    "\n",
    "#\n",
    "#                 False         ==      True\n",
    "#           False  or   True     ==    True\n",
    "print((b + c <= e or f + g >= e) == (f == 5))  # True"
   ],
   "metadata": {
    "collapsed": false,
    "pycharm": {
     "name": "#%%\n"
    }
   }
  },
  {
   "cell_type": "markdown",
   "source": [
    "The first expression is `False` because it is evaluated consequently: `b + c <= e` is `False`, `f + g >= e` is `True`. `False` or `True` is `True` but it is not equal to `f`, hence `False` is not equal to `5` and the whole expression is `False`. In the second case, we have `True` in the left parentheses and `True` in the right parentheses, so `True` equals `True` and the final expression `True`."
   ],
   "metadata": {
    "collapsed": false,
    "pycharm": {
     "name": "#%% md\n"
    }
   }
  },
  {
   "cell_type": "markdown",
   "source": [
    "#### 4. Logic & arithmetics\n",
    "Let's look at another interesting case. At the beginning of the topic, we learned that the result of applying comparison operators is always `bool`. However, if there is a logical and arithmetic part in a expression, we might see unusual behavior due to logical operators in Python being short-calculated, or lazy:"
   ],
   "metadata": {
    "collapsed": false,
    "pycharm": {
     "name": "#%% md\n"
    }
   }
  },
  {
   "cell_type": "code",
   "execution_count": 11,
   "outputs": [
    {
     "name": "stdout",
     "output_type": "stream",
     "text": [
      "33\n"
     ]
    }
   ],
   "source": [
    "a = 1\n",
    "b = 2\n",
    "c = 3\n",
    "e = 4\n",
    "f = 5\n",
    "g = 6\n",
    "\n",
    "# True and-expressions return the result of the last operation:\n",
    "#                        33\n",
    "#               True and 33\n",
    "#     2 + 3 * 5 >= 4 and (5 + 6) * 3\n",
    "print(b + c * f >= e and (f + g) * c)  # (17 >= 4 is True) and 33 -> 33\n",
    "#              33 and True\n",
    "#     (5 + 6) * 3 and 2 + 3 * 5 >= 4\n",
    "print((f + g) * c and b + c * f >= e)  # 33 and (17 >= 4 is True) -> True\n",
    "\n",
    "\n",
    "# False and-expressions return a boolean False value:\n",
    "#                     False\n",
    "#              False and 33\n",
    "#     2 + 3 * 5 <= 4 and (5 + 6) * 3\n",
    "print(b + c * f <= e and (f + g) * c) # (17 <= 4 is False) and 33 --> False\n",
    "#              33 and False\n",
    "#     (5 + 6) * 3 and 2 + 3 * 5 <= 4)\n",
    "print((f + g) * c and b + c * f <= e)  # 33 and (17 <= 4 is False) --> False\n",
    "\n",
    "# True or-expressions return the result of first operation:\n",
    "#               True or 33\n",
    "#     2 + 3 * 5 >= 4 or (5 + 6) * 3\n",
    "print(b + c * f >= e or (f + g) * c)  # (17 >= 4 is True) and 33 --> True\n",
    "#              33 and True\n",
    "#     (5 + 6) * 3 and 2 + 3 * 5 <= 4\n",
    "print((f + g) * c and b + c * f <= e)  # 33 and (17 <= 4 is False) --> True\n",
    "\n",
    "\n",
    "# True-False or-expressions return the True part:\n",
    "#              33 or False\n",
    "#     (5 + 6) * 3 or 2 + 3 * 5 <= 4\n",
    "print((f + g) * c or b + c * f <= e)  # 33 or (17 <= 4 is False) --> 33\n",
    "#              False or 33\n",
    "#     2 + 3 * 5 <= 4 or (5 + 6) * 3)\n",
    "print(b + c * f <= e or (f + g) * c)  # (17 <= 4 is False) or 33 --> 33"
   ],
   "metadata": {
    "collapsed": false,
    "pycharm": {
     "name": "#%%\n"
    }
   }
  },
  {
   "cell_type": "markdown",
   "source": [
    "It might look confusing at first sight but, if you think, every printed value is perfectly legal nd complies with common mathematical logic."
   ],
   "metadata": {
    "collapsed": false,
    "pycharm": {
     "name": "#%% md\n"
    }
   }
  },
  {
   "cell_type": "markdown",
   "source": [
    "#### 5. Summary\n",
    "In this topic, we familiarized ourselves with Python comparison operators, learned how to compare integers, and use comparison chaining. These basic operators will definitely be a great help to you in the future!"
   ],
   "metadata": {
    "collapsed": false,
    "pycharm": {
     "name": "#%% md\n"
    }
   }
  },
  {
   "cell_type": "code",
   "execution_count": null,
   "outputs": [],
   "source": [],
   "metadata": {
    "collapsed": false,
    "pycharm": {
     "name": "#%%\n"
    }
   }
  },
  {
   "cell_type": "markdown",
   "source": [],
   "metadata": {
    "collapsed": false,
    "pycharm": {
     "name": "#%% md\n"
    }
   }
  }
 ],
 "metadata": {
  "kernelspec": {
   "display_name": "Python 3",
   "language": "python",
   "name": "python3"
  },
  "language_info": {
   "codemirror_mode": {
    "name": "ipython",
    "version": 2
   },
   "file_extension": ".py",
   "mimetype": "text/x-python",
   "name": "python",
   "nbconvert_exporter": "python",
   "pygments_lexer": "ipython2",
   "version": "2.7.6"
  }
 },
 "nbformat": 4,
 "nbformat_minor": 0
}