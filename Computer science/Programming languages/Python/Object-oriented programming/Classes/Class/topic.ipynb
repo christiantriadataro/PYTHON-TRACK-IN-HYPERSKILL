{
 "cells": [
  {
   "cell_type": "markdown",
   "source": [
    "#### Class"
   ],
   "metadata": {
    "collapsed": false
   }
  },
  {
   "cell_type": "markdown",
   "source": [
    "#### Theory\n",
    "As you already know, **object-oriented programming (OOP)** is a programming paradigm that is based on the concept of objects. Objects interact with eac other and that is how the program functions. Objects have states and behaviors. Many objects can have similar characteristics and if you need to work with them in your program it may be easier to create a **class** for similar objects. Classes represent the common structure of similar objects: their data and their behavior."
   ],
   "metadata": {
    "collapsed": false
   }
  },
  {
   "cell_type": "markdown",
   "source": [
    "#### 1. Declaring classes\n",
    "Classes are declared with the keyword `class` and the name of the class:"
   ],
   "metadata": {
    "collapsed": false
   }
  },
  {
   "cell_type": "code",
   "execution_count": null,
   "metadata": {
    "collapsed": true
   },
   "outputs": [],
   "source": [
    "# class syntax\n",
    "class MyClass:\n",
    "    var = ...   # some variable\n",
    "\n",
    "    def do_smt(self):\n",
    "        # some method"
   ]
  },
  {
   "cell_type": "markdown",
   "source": [
    "Generally, a class name starts with a capital letter and it is usually a noun or a noun phrase. The names of the classes follow the **CapWords** convention: meaning that if it's a phrase, all words in the phrase are capitalized and written without underscores between them."
   ],
   "metadata": {
    "collapsed": false
   }
  },
  {
   "cell_type": "code",
   "execution_count": null,
   "outputs": [],
   "source": [
    "# good class name\n",
    "class MyClass:\n",
    "    ...\n",
    "\n",
    "# not so good class name:\n",
    "class My_class:\n",
    "    ..."
   ],
   "metadata": {
    "collapsed": false
   }
  },
  {
   "cell_type": "markdown",
   "source": [
    "Classes allow you to define the data and the behaviors of similar objects. The behavior is described by **methods**. A method is similar to a function in that it is a block of code that has a name and performs a certain action. Methods, however, are not independent since they are defined within a class. Data within classes are stored in the **attributes** (variables) and there are two kinds of them: **class attributes** and **instance attributes**. The difference between those two will be explained below."
   ],
   "metadata": {
    "collapsed": false
   }
  },
  {
   "cell_type": "markdown",
   "source": [
    "#### 2. Class attribute\n",
    "A class attribute is attribute share by all instance of the class. Let's consider the class **Book** as an example:"
   ],
   "metadata": {
    "collapsed": false
   }
  },
  {
   "cell_type": "code",
   "execution_count": 1,
   "outputs": [],
   "source": [
    "# Book class\n",
    "class Book:\n",
    "    material = \"paper\"\n",
    "    cover = \"paperback\"\n",
    "    all_books = []"
   ],
   "metadata": {
    "collapsed": false,
    "ExecuteTime": {
     "start_time": "2023-05-17T16:51:03.948907Z",
     "end_time": "2023-05-17T16:51:03.957425Z"
    }
   }
  },
  {
   "cell_type": "markdown",
   "source": [
    "This class has a string variable `material with the value \"paper\", a string variable `cover` with the value \"paperback\" and an empty list as an attribute and they can be accessed using the **dot notation** with the name of the class:"
   ],
   "metadata": {
    "collapsed": false
   }
  },
  {
   "cell_type": "code",
   "execution_count": 3,
   "outputs": [
    {
     "data": {
      "text/plain": "'paper'"
     },
     "metadata": {},
     "output_type": "display_data"
    },
    {
     "data": {
      "text/plain": "'paperback'"
     },
     "metadata": {},
     "output_type": "display_data"
    },
    {
     "data": {
      "text/plain": "[]"
     },
     "metadata": {},
     "output_type": "display_data"
    }
   ],
   "source": [
    "display(Book.material)      # \"paper\"\n",
    "display(Book.cover)         # \"paperback\"\n",
    "display(Book.all_books)     # []"
   ],
   "metadata": {
    "collapsed": false,
    "ExecuteTime": {
     "start_time": "2023-05-17T16:51:35.376310Z",
     "end_time": "2023-05-17T16:51:35.391307Z"
    }
   }
  },
  {
   "cell_type": "markdown",
   "source": [
    "**Class attributes** are defined within the class but outside of any methods. Their value is the same for all instances of that class so you could consider them as the sort of \"default\" values for all objects.\n",
    "\n",
    "As for the **instance variables**, they store the data unique to each object of the class. They are defined within the class method, notably, within the `__init__` method. In this topic, we'll deal with the class attributes, but don't worry - you'll have plenty of time to learn more about instance attributes."
   ],
   "metadata": {
    "collapsed": false
   }
  },
  {
   "cell_type": "markdown",
   "source": [
    "#### 3. Class instance\n",
    "Now, let's create an instance of a **Book** class. For that we would need to execute this code:"
   ],
   "metadata": {
    "collapsed": false
   }
  },
  {
   "cell_type": "code",
   "execution_count": 4,
   "outputs": [],
   "source": [
    "# Book instance\n",
    "my_book = Book()"
   ],
   "metadata": {
    "collapsed": false,
    "ExecuteTime": {
     "start_time": "2023-05-17T17:07:50.248983Z",
     "end_time": "2023-05-17T17:07:50.262222Z"
    }
   }
  },
  {
   "cell_type": "markdown",
   "source": [
    "Here we not only created an instance of a **Book** class but also assigned it to the variable `my_book`. The syntax of instantiating a class object resembles a function call: after the class name, we write parentheses.\n",
    "\n",
    "Our `my_book` object has access to the contents of the class **Book**: its attribute and methods."
   ],
   "metadata": {
    "collapsed": false
   }
  },
  {
   "cell_type": "code",
   "execution_count": 6,
   "outputs": [
    {
     "name": "stdout",
     "output_type": "stream",
     "text": [
      "paper\n",
      "paperback\n",
      "[]\n"
     ]
    }
   ],
   "source": [
    "print(my_book.material)     # \"paper\"\n",
    "print(my_book.cover)        # \"paperback\"\n",
    "print(my_book.all_books)    # []"
   ],
   "metadata": {
    "collapsed": false,
    "ExecuteTime": {
     "start_time": "2023-05-17T17:09:26.847695Z",
     "end_time": "2023-05-17T17:09:26.860786Z"
    }
   }
  },
  {
   "cell_type": "markdown",
   "source": [
    "#### 4. Conclusion\n",
    "Well, those were the very basics of classes in Python. Classes represent the common structure of similar objects, their attributes, and their methods. There are class attributes and instance attributes. Class attributes are common to all instances of the class.\n",
    "\n",
    "All in all, classes are an extremely useful tool that can help you optimize your code and organize the program in a logical and readable way. We hope you'll make use of them!"
   ],
   "metadata": {
    "collapsed": false
   }
  },
  {
   "cell_type": "code",
   "execution_count": null,
   "outputs": [],
   "source": [],
   "metadata": {
    "collapsed": false
   }
  }
 ],
 "metadata": {
  "kernelspec": {
   "display_name": "Python 3",
   "language": "python",
   "name": "python3"
  },
  "language_info": {
   "codemirror_mode": {
    "name": "ipython",
    "version": 2
   },
   "file_extension": ".py",
   "mimetype": "text/x-python",
   "name": "python",
   "nbconvert_exporter": "python",
   "pygments_lexer": "ipython2",
   "version": "2.7.6"
  }
 },
 "nbformat": 4,
 "nbformat_minor": 0
}
