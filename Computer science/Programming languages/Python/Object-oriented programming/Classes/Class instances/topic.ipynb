{
 "cells": [
  {
   "cell_type": "markdown",
   "source": [
    "#### Class instances"
   ],
   "metadata": {
    "collapsed": false
   }
  },
  {
   "cell_type": "markdown",
   "source": [
    "#### Theory\n",
    "By now, you already know what classes are and how they're created and used in Python. Now let's get into the details about **class instances**.\n",
    "\n",
    "A class instance is an object of the class. If, for example, there was a class **River**, we could create such instances as Volga, Seine, and Nile. They would all have the same structure and share all class attributes defined within the class River.\n",
    "\n",
    "However, initially, all instances of the class would be identical to one another. Most of the time that is not what we want. To customize the initial state of an instance, the `__init__` method is used."
   ],
   "metadata": {
    "collapsed": false
   }
  },
  {
   "cell_type": "markdown",
   "source": [
    "#### 1. def __init__()\n",
    "The `__init__` method is a **constructor** are conception from the the object-oriented programming. A class can have one and only one constructor. If `__init__` is defined within a class, it is automatically invoked when we create a new class instance. Take our class Riven as a example:"
   ],
   "metadata": {
    "collapsed": false
   }
  },
  {
   "cell_type": "code",
   "execution_count": 1,
   "metadata": {
    "collapsed": true,
    "ExecuteTime": {
     "start_time": "2023-05-17T17:38:28.948241Z",
     "end_time": "2023-05-17T17:38:28.973488Z"
    }
   },
   "outputs": [
    {
     "name": "stdout",
     "output_type": "stream",
     "text": [
      "Volga\n",
      "Seine\n",
      "Nile\n"
     ]
    }
   ],
   "source": [
    "class River:\n",
    "    # list of all rivers\n",
    "    all_rivers = []\n",
    "\n",
    "    def __init__(self, name, length):\n",
    "        self.name = name\n",
    "        self.length = length\n",
    "        # add current river to the list of all rivers\n",
    "        River.all_rivers.append(self)\n",
    "\n",
    "volga = River(\"Volga\", 3530)\n",
    "seine = River(\"Seine\", 776)\n",
    "nile = River(\"Nile\", 6852)\n",
    "\n",
    "# print all river names\n",
    "for river in River.all_rivers:\n",
    "    print(river.name)\n",
    "\n",
    "# Output:\n",
    "# Volga\n",
    "# Seine\n",
    "# Nile"
   ]
  },
  {
   "cell_type": "markdown",
   "source": [
    "We created three instances (or objects) of the class River: `volga`, `seine`, and `nile`. Since we defined **name** and **length** parameters for the `__init__`, they must be explicitly passed when creating new instances. So something like `volga = River()` would cause an error. Look at this visualization of the code to see how it works almost in real-time!\n",
    "\n",
    "The `__init__` method specifies what attributes we want the instances of our class to have from the very beginning. In our example, they are **name** and **length**."
   ],
   "metadata": {
    "collapsed": false
   }
  },
  {
   "cell_type": "markdown",
   "source": [
    "#### 2. self\n",
    "You may have noticed that our `__init__` method had another argument beside name and length: `self`. The `self` argument represents a particular instance of the class and allows us to access its attributes and methods. In the example with `__init__`, we basically create attributes for the particular instance and assign the values of method arguments to them. It is important to use the `self` parameter inside the method if we want to save the values of the instance for later use.\n",
    "\n",
    "Most of the time we also need to write the self parameter in other methods because when the method is called the first argument that is passed to the method is the object itself. Let's add a method to our River class and see how it works. The syntax of the methods is not of importance at the moment, just pay attention to the use of the `self`:"
   ],
   "metadata": {
    "collapsed": false
   }
  },
  {
   "cell_type": "code",
   "execution_count": 2,
   "outputs": [],
   "source": [
    "class River:\n",
    "    all_rivers = []\n",
    "\n",
    "    def __init__(self, name, length):\n",
    "        self.name = name\n",
    "        self.length = length\n",
    "        River.all_rivers.append(self)\n",
    "\n",
    "    def get_info(self):\n",
    "        print(\"The length of the {0} is {1} km\".format(self.name, self.length))"
   ],
   "metadata": {
    "collapsed": false,
    "ExecuteTime": {
     "start_time": "2023-05-17T18:03:57.580543Z",
     "end_time": "2023-05-17T18:03:57.606074Z"
    }
   }
  },
  {
   "cell_type": "markdown",
   "source": [
    "Now if we call this method with the objects we've created we will get this:"
   ],
   "metadata": {
    "collapsed": false
   }
  },
  {
   "cell_type": "code",
   "execution_count": 4,
   "outputs": [
    {
     "name": "stdout",
     "output_type": "stream",
     "text": [
      "The length of the Volga is 3530 km\n",
      "The length of the Seine is 776 km\n",
      "The length of the Nile is 6852 km\n"
     ]
    }
   ],
   "source": [
    "volga = River(\"Volga\", 3530)\n",
    "seine = River(\"Seine\", 776)\n",
    "nile = River(\"Nile\", 6852)\n",
    "\n",
    "volga.get_info()\n",
    "seine.get_info()\n",
    "nile.get_info()\n"
   ],
   "metadata": {
    "collapsed": false,
    "ExecuteTime": {
     "start_time": "2023-05-17T18:04:53.913713Z",
     "end_time": "2023-05-17T18:04:53.959962Z"
    }
   }
  },
  {
   "cell_type": "markdown",
   "source": [
    "As you can see, for each object the `get_info()` method printed its particular values and that was possible because we used the `self` keyword in the method.\n",
    "\n",
    "Note that when we actually call an object's method we don't write the `self` argument in the brackets. The `self` parameter (that represents a particular instance of the class) is passed to the instance method **implicitly** when it is called. So there are actually two ways to call an instance method: `self.method()` or `class.method(self)`. In our example it would look like this:"
   ],
   "metadata": {
    "collapsed": false
   }
  },
  {
   "cell_type": "code",
   "execution_count": 5,
   "outputs": [
    {
     "name": "stdout",
     "output_type": "stream",
     "text": [
      "The length of the Volga is 3530 km\n",
      "The length of the Volga is 3530 km\n"
     ]
    }
   ],
   "source": [
    "# self.method()\n",
    "volga.get_info()\n",
    "\n",
    "# class.method(self)\n",
    "River.get_info(volga)\n",
    "# The length of the volga is 3530 km"
   ],
   "metadata": {
    "collapsed": false,
    "ExecuteTime": {
     "start_time": "2023-05-17T18:07:09.286919Z",
     "end_time": "2023-05-17T18:07:09.298922Z"
    }
   }
  },
  {
   "cell_type": "markdown",
   "source": [
    "#### 3. Instance attributes\n",
    "Classes in Python have two types of attributes: class attributes and instance attributes. You should already know what class attributes are, so here we'll focus on the instance attributes instead. **Instance attributes** are defined within methods and they store instance-specific information.\n",
    "\n",
    "In the class River, the attribute **name** and **length** are instance attributes since they are defined within a method (`__init__`) and have `self` before them. Usually, instance attributes are created within the `__init__` method since it's the constructor, but you can define instance attributes in other methods as well. However, it's not recommended so we advise you to stick tto the `__init__`.\n",
    "\n",
    "Instance attribute are available only from the scope of the object which is why this code will produce a mistake:"
   ],
   "metadata": {
    "collapsed": false
   }
  },
  {
   "cell_type": "code",
   "execution_count": 6,
   "outputs": [
    {
     "ename": "AttributeError",
     "evalue": "type object 'River' has no attribute 'name'",
     "output_type": "error",
     "traceback": [
      "\u001B[1;31m---------------------------------------------------------------------------\u001B[0m",
      "\u001B[1;31mAttributeError\u001B[0m                            Traceback (most recent call last)",
      "Cell \u001B[1;32mIn[6], line 1\u001B[0m\n\u001B[1;32m----> 1\u001B[0m \u001B[38;5;28mprint\u001B[39m(\u001B[43mRiver\u001B[49m\u001B[38;5;241;43m.\u001B[39;49m\u001B[43mname\u001B[49m)   \u001B[38;5;66;03m# AttributeError\u001B[39;00m\n",
      "\u001B[1;31mAttributeError\u001B[0m: type object 'River' has no attribute 'name'"
     ]
    }
   ],
   "source": [
    "print(River.name)   # AttributeError"
   ],
   "metadata": {
    "collapsed": false
   }
  },
  {
   "cell_type": "markdown",
   "source": [
    "Instance attributes, naturally, are used to distinguish objects: their values are different for different instances."
   ],
   "metadata": {
    "collapsed": false
   }
  },
  {
   "cell_type": "code",
   "execution_count": 7,
   "outputs": [
    {
     "data": {
      "text/plain": "'Volga'"
     },
     "metadata": {},
     "output_type": "display_data"
    },
    {
     "data": {
      "text/plain": "'Seine'"
     },
     "metadata": {},
     "output_type": "display_data"
    },
    {
     "data": {
      "text/plain": "'Nile'"
     },
     "metadata": {},
     "output_type": "display_data"
    }
   ],
   "source": [
    "display(volga.name)     # \"Volga\"\n",
    "display(seine.name)     # \"Seine\"\n",
    "display(nile.name)      # \"Nile\""
   ],
   "metadata": {
    "collapsed": false,
    "ExecuteTime": {
     "start_time": "2023-05-17T18:11:13.853987Z",
     "end_time": "2023-05-17T18:11:13.957662Z"
    }
   }
  },
  {
   "cell_type": "markdown",
   "source": [
    "So when deciding which attributes to choose in your program, you should first decide whether you want it to store values unique to each object of the class or, on the contrary, the ones shared by all instances."
   ],
   "metadata": {
    "collapsed": false
   }
  },
  {
   "cell_type": "markdown",
   "source": [
    "#### 4. Summary\n",
    "In this topic, you've learned about class instances.\n",
    "\n",
    "if classes are an abstraction, a template for similar objects, a **class instance** is a sort of example of that class, a particular object that follows the structure outlined in the class. In your program, you can create as many objects of your class as you need.\n",
    "\n",
    "To create objects with different initial states, classes have a constructor `__init__` that allows us to define necessary parameters. Reference to a particular instance within methods is done through the `self` keyword. Within the `__init__` method, we define instance attributes that are different for all instances.\n",
    "\n",
    "Most of the time, we'll deal in our programs not with classes as such but rather with their instances, so knowing how to create them and work with them is very important!"
   ],
   "metadata": {
    "collapsed": false
   }
  },
  {
   "cell_type": "code",
   "execution_count": null,
   "outputs": [],
   "source": [],
   "metadata": {
    "collapsed": false
   }
  }
 ],
 "metadata": {
  "kernelspec": {
   "display_name": "Python 3",
   "language": "python",
   "name": "python3"
  },
  "language_info": {
   "codemirror_mode": {
    "name": "ipython",
    "version": 2
   },
   "file_extension": ".py",
   "mimetype": "text/x-python",
   "name": "python",
   "nbconvert_exporter": "python",
   "pygments_lexer": "ipython2",
   "version": "2.7.6"
  }
 },
 "nbformat": 4,
 "nbformat_minor": 0
}
