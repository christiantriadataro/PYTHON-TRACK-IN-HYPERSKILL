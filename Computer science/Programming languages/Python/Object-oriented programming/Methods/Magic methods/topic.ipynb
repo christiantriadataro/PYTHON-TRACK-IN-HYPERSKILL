{
 "cells": [
  {
   "cell_type": "markdown",
   "source": [
    "#### Magic methods"
   ],
   "metadata": {
    "collapsed": false
   }
  },
  {
   "cell_type": "markdown",
   "source": [
    "#### Theory\n",
    "\n",
    "There are different ways to enrich the functionality of your classes in Python. One of the them is creating custom methods which you've already learned about. Another way, the one that we'll cover in this topic, is using  **\"magic\" methods**."
   ],
   "metadata": {
    "collapsed": false
   }
  },
  {
   "cell_type": "markdown",
   "source": [
    "#### 2. What are \"magic\" methods?\n",
    "Magic methods are special methods that make using objects much easier. They are recognizable in the code of the class definitions because they are enclosed in **double underscores**: for example `__init__` is one of those \"magic\" methods in Python. Since they are characterized by double underscores they are often called **dunders**.\n",
    "\n",
    "Dunders are not meant to be invoked directly by you or the user of your classes, it happens internally on a certain action. For example, we do not explicitly call the `__init__` method when we create a new object of the class, but instead, this method is invoked internally. All we need to do is define the method inside the class in a way that makes sense for our project.\n",
    "\n",
    "There are many different dunders that you can use, but in this topic, we will focus on the most helpful ones.\n"
   ],
   "metadata": {
    "collapsed": false
   }
  },
  {
   "cell_type": "markdown",
   "source": [
    "#### 3. __new__ vs __init__\n",
    "\n",
    "So far we've been calling `__init__` the constructor of the class, but in reality, it is its initializer. New object of the class are in fact created by the `__new__` method that in its turn calls the `__init__` method.\n",
    "\n",
    "Usually, there is no need to define a special `__new__` method, but it can be useful if we want to return instances of other classes or restrict the number of objects in our class.\n",
    "\n",
    "Imagine, for example, that we want to create a class `Sun` and make sure that we create only one object of this class. We would need to define a class variable that would track the number of instances in the class and forbid the creation of new ones if the limit has been reached."
   ],
   "metadata": {
    "collapsed": false
   }
  },
  {
   "cell_type": "code",
   "execution_count": 1,
   "metadata": {
    "collapsed": true,
    "ExecuteTime": {
     "start_time": "2023-05-18T15:03:28.282728Z",
     "end_time": "2023-05-18T15:03:28.291373Z"
    }
   },
   "outputs": [],
   "source": [
    "class Sun:\n",
    "    n = 0   # number of instances of this class\n",
    "\n",
    "    def __new__(cls, *args, **kwargs):\n",
    "        if cls.n == 0:\n",
    "            cls.n += 1\n",
    "            return object.__new__(cls)  # create new object of the class"
   ]
  },
  {
   "cell_type": "markdown",
   "source": [
    "The code above may be a bit unexpected so let's analyze it. We first check that the class variable `n` has a value of zero. If it does, it means that no instances of the class have been created and we can do that. We then update the class variable and call `__new__` method of `object` class which allows us to create a new instance.\n",
    "\n",
    "If we now try to create 2 objects of this class we will not succeed:"
   ],
   "metadata": {
    "collapsed": false
   }
  },
  {
   "cell_type": "code",
   "execution_count": 2,
   "outputs": [
    {
     "name": "stdout",
     "output_type": "stream",
     "text": [
      "<__main__.Sun object at 0x000002AF053BBF70>\n",
      "None\n"
     ]
    }
   ],
   "source": [
    "sun1 = Sun()\n",
    "sun2 = Sun()\n",
    "\n",
    "print(sun1)\n",
    "print(sun2)"
   ],
   "metadata": {
    "collapsed": false,
    "ExecuteTime": {
     "start_time": "2023-05-18T15:03:46.440727Z",
     "end_time": "2023-05-18T15:03:46.454726Z"
    }
   }
  },
  {
   "cell_type": "markdown",
   "source": [
    "#### 3. __str__ vs __repr__\n",
    "Printing out information and data is very important when programming. You can print the results of calculations for yourself or the user of your program, find the mistakes in the code or print out messages.\n",
    "\n",
    "For example, let's consider the class `Transaction`:"
   ],
   "metadata": {
    "collapsed": false
   }
  },
  {
   "cell_type": "code",
   "execution_count": 4,
   "outputs": [],
   "source": [
    "class Transaction:\n",
    "    def __init__(self, number, funds, status=\"active\"):\n",
    "        self.number = number\n",
    "        self.funds = funds\n",
    "        self.status = status"
   ],
   "metadata": {
    "collapsed": false,
    "ExecuteTime": {
     "start_time": "2023-05-18T15:31:22.399804Z",
     "end_time": "2023-05-18T15:31:22.416803Z"
    }
   }
  },
  {
   "cell_type": "markdown",
   "source": [
    "If we create a transaction and try to print it out we will not get what we want:"
   ],
   "metadata": {
    "collapsed": false
   }
  },
  {
   "cell_type": "code",
   "execution_count": 5,
   "outputs": [
    {
     "name": "stdout",
     "output_type": "stream",
     "text": [
      "<__main__.Transaction object at 0x000002AF06726890>\n"
     ]
    }
   ],
   "source": [
    "payment = Transaction(\"000001\", 9999.99)\n",
    "print(payment)\n",
    "# example of out the output:"
   ],
   "metadata": {
    "collapsed": false,
    "ExecuteTime": {
     "start_time": "2023-05-18T15:31:23.737855Z",
     "end_time": "2023-05-18T15:31:23.746861Z"
    }
   }
  },
  {
   "cell_type": "markdown",
   "source": [
    "Instead of the values that we would like to see, we get information about the object itself. This can be altered if we deal with `__str__` or `__repr__` methods.\n",
    "\n",
    "As the names suggest, `__str__` defines the behavior of the `str()` function and `__repr__` defines the `repr()` function. A general rule with the `__str__` and `__repr__` methods is that the output of the `__str__` should be highly readable and the output of the `__repr__` should be unambiguous. In other words, `__str__` creates a representation for users and `__repr__` creates a representation for developers and debuggers. If possible, `__repr__` should return Python code that could be used to create this object or, at least, a comprehensive description."
   ],
   "metadata": {
    "collapsed": false
   }
  },
  {
   "cell_type": "markdown",
   "source": [
    "<div>Both `__repr__` and `__str__` should return a string object!</div>"
   ],
   "metadata": {
    "collapsed": false
   }
  },
  {
   "cell_type": "markdown",
   "source": [
    "A good rule is to always define the `__repr__` method first since it is the method used by developers in debugging. It is also a fallback method for `__str__` which means that if the `__str__` method isn't defined, in the situations where it's needed, the `__repr__` will be called instead. This is, for example, the case with `print()`.\n",
    "\n",
    "In out example here, let's create the `__repr__` method that would create an unambiguous representation of the transaction and all its attributes."
   ],
   "metadata": {
    "collapsed": false
   }
  },
  {
   "cell_type": "code",
   "execution_count": 7,
   "outputs": [],
   "source": [
    "class Transaction:\n",
    "    def __init__(self, number, funds, status=\"active\"):\n",
    "        self.number = number\n",
    "        self.funds = funds\n",
    "        self.status = status\n",
    "\n",
    "    def __repr__(self):\n",
    "        return \"Transaction({}, {})\".format(self.number, self.funds)"
   ],
   "metadata": {
    "collapsed": false,
    "ExecuteTime": {
     "start_time": "2023-05-18T17:07:08.659583Z",
     "end_time": "2023-05-18T17:07:08.667573Z"
    }
   }
  },
  {
   "cell_type": "markdown",
   "source": [
    "Now if we try to print any transaction we will get a standard readable string:"
   ],
   "metadata": {
    "collapsed": false
   }
  },
  {
   "cell_type": "code",
   "execution_count": 8,
   "outputs": [
    {
     "name": "stdout",
     "output_type": "stream",
     "text": [
      "Transaction(0000001, 9999.99)\n"
     ]
    }
   ],
   "source": [
    "payment = Transaction(\"0000001\", 9999.99)\n",
    "print(payment)\n",
    "# Transaction(0000001, 9999.999)"
   ],
   "metadata": {
    "collapsed": false,
    "ExecuteTime": {
     "start_time": "2023-05-18T17:07:10.725919Z",
     "end_time": "2023-05-18T17:07:10.737907Z"
    }
   }
  },
  {
   "cell_type": "markdown",
   "source": [
    "You can see that we've called `print` and got the representation from `__repr__`. Now let's add `__str__` and see if things change."
   ],
   "metadata": {
    "collapsed": false
   }
  },
  {
   "cell_type": "code",
   "execution_count": 9,
   "outputs": [
    {
     "name": "stdout",
     "output_type": "stream",
     "text": [
      "Transaction 000001 for 9999.99 (active)\n",
      "Transaction(000001, 9999.99)\n"
     ]
    }
   ],
   "source": [
    "class Transaction:\n",
    "    def __init__(self, number, funds, status=\"active\"):\n",
    "        self.number = number\n",
    "        self.funds = funds\n",
    "        self.status = status\n",
    "\n",
    "    def __repr__(self):\n",
    "        return \"Transaction({}, {})\".format(self.number, self.funds)\n",
    "\n",
    "    def __str__(self):\n",
    "        return \"Transaction {} for {} ({})\".format(self.number, self.funds, self.status)\n",
    "\n",
    "payment = Transaction(\"000001\", 9999.99)\n",
    "print(payment)\n",
    "# Transaction 000001 for 9999.99 (active)\n",
    "print(repr(payment))"
   ],
   "metadata": {
    "collapsed": false,
    "ExecuteTime": {
     "start_time": "2023-05-18T17:19:45.115342Z",
     "end_time": "2023-05-18T17:19:45.163173Z"
    }
   }
  },
  {
   "cell_type": "markdown",
   "source": [
    "Now that we have `__str__`, when we call `print`, we get the representation we need to directly call the `repr` function."
   ],
   "metadata": {
    "collapsed": false
   }
  },
  {
   "cell_type": "markdown",
   "source": [
    "#### 4. Summary\n",
    "Magic methods are said to add \"magic\" to your classes and that is somewhat true. Dunders really make working with classes much easier and far more efficient.\n",
    "\n",
    "In this topic, we've covered only a couple of these magic methods. We highly encourage you to look them up (for example, [](in \"A Guide to Python's Magic Methods\" by Rafe Kettler)) and try them out in your projects. As for the magic methods for arithmetics and comparisons, we'll look into them in another topic!"
   ],
   "metadata": {
    "collapsed": false
   }
  },
  {
   "cell_type": "code",
   "execution_count": 10,
   "outputs": [],
   "source": [
    "class Puppy:\n",
    "    n_puppies = 0\n",
    "\n",
    "    def __new__(cls, *args, **kwargs):\n",
    "        cls.n_puppies += int(cls.n_puppies < 10)\n",
    "        return super().__new__(cls) if cls.n_puppies < 10 else None\n",
    "\n",
    "    def __str__(self):\n",
    "        return f\"Puppy with {self.n_puppies} puppies\""
   ],
   "metadata": {
    "collapsed": false,
    "ExecuteTime": {
     "start_time": "2023-05-18T17:45:13.608115Z",
     "end_time": "2023-05-18T17:45:13.669716Z"
    }
   }
  },
  {
   "cell_type": "code",
   "execution_count": null,
   "outputs": [],
   "source": [
    "class Book:\n",
    "    def __init__(self, author, title, price, book_id):\n",
    "        self.author = author\n",
    "        self.title = title\n",
    "        self.price = price\n",
    "        self.book_id = book_id\n",
    "\n",
    "    # define the necessary method here\n",
    "    def __str__(self):\n",
    "        return f\"{self.title} by {self.author}. ${self.price}. [{self.book_id}]\""
   ],
   "metadata": {
    "collapsed": false
   }
  }
 ],
 "metadata": {
  "kernelspec": {
   "display_name": "Python 3",
   "language": "python",
   "name": "python3"
  },
  "language_info": {
   "codemirror_mode": {
    "name": "ipython",
    "version": 2
   },
   "file_extension": ".py",
   "mimetype": "text/x-python",
   "name": "python",
   "nbconvert_exporter": "python",
   "pygments_lexer": "ipython2",
   "version": "2.7.6"
  }
 },
 "nbformat": 4,
 "nbformat_minor": 0
}
