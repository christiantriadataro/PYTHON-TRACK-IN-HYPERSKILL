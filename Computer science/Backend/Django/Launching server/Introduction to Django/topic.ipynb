{
 "cells": [
  {
   "cell_type": "markdown",
   "source": [
    "### Introduction to Django"
   ],
   "metadata": {
    "collapsed": false,
    "pycharm": {
     "name": "#%% md\n"
    }
   }
  },
  {
   "cell_type": "markdown",
   "source": [
    "#### Theory\n",
    "Django is one of the most-used Python framework in web programming. When you are browsing through boards on Pinterest, reviewing code on Bitbucket, or making comments with the help of Disqus, you are using Django products. You can find out about more well-known services that use Django in this [article about websites on Django](https://www.shuup.com/django/25-of-the-most-popular-python-and-django-websites/).\n",
    "\n",
    "The name of the framework is inspired by the stage name of a famous jazz guitarist Django Reinhardt, so the developers who created many handy add-ons for the framework call their group Jazzband. At first, you won't need all of the tools, but whenever you need more, you can find them on [their Github account](https://github.com/jazzband).\n",
    "\n",
    "Django frameworks provides an API for templating HTML pages, making connections to databases, and using HTTP backend services. Django has many useful web development shortcuts and utilities in one place. To start working with the framework, choose the version you'll use. For Django in its A.B.C version, A.B stands for a feature release and C for a patch release. When choosing an appropriate version, pay attention to its feature release number. When you're done choosing, download the latest patch release for this version. To get the most of Django, start with the latest version."
   ],
   "metadata": {
    "collapsed": false,
    "pycharm": {
     "name": "#%% md\n"
    }
   }
  },
  {
   "cell_type": "markdown",
   "source": [
    "#### 1. LTS\n",
    "**LTS** - long-term support - is a well-known standard in software development. It means that developers will support this version of the framework for an extended period of time (for Django, it's usually 3 years or more). You can safely update your version to a newer patch release without fear of breaking compatibility with the source code. For this period, all bugs and security losses will be fixed as soon as possible. Conversely, non-LTS versions are supported only until a newer feature release comes out (note that Django developers supports the last two feature release at a time).\n",
    "\n",
    " For example, the LTS version 2.2 will be supported until April 2022, even though newer versions are already available. On the other hand, a later, non-LTS version 3.0 is already not supported by the developing team.\n",
    "\n",
    "In our topics, we will use the stable version of Django, [version 3.1](https://docs.djangoproject.com/en/3.1/) from August 2020. The information we give will fit all versions higher than 3.0."
   ],
   "metadata": {
    "collapsed": false,
    "pycharm": {
     "name": "#%% md\n"
    }
   }
  }
 ],
 "metadata": {
  "kernelspec": {
   "display_name": "Python 3",
   "language": "python",
   "name": "python3"
  },
  "language_info": {
   "codemirror_mode": {
    "name": "ipython",
    "version": 2
   },
   "file_extension": ".py",
   "mimetype": "text/x-python",
   "name": "python",
   "nbconvert_exporter": "python",
   "pygments_lexer": "ipython2",
   "version": "2.7.6"
  }
 },
 "nbformat": 4,
 "nbformat_minor": 0
}