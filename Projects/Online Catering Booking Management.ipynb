{
 "cells": [
  {
   "cell_type": "markdown",
   "source": [
    "# Online Catering Booking Management System with Recommender System using Apriori Algorithm"
   ],
   "metadata": {
    "collapsed": false
   }
  },
  {
   "cell_type": "markdown",
   "source": [
    "![](objectives.png)"
   ],
   "metadata": {
    "collapsed": false
   }
  },
  {
   "cell_type": "markdown",
   "source": [
    "![](book_crud.png)\n",
    "![](account_settings.png)\n",
    "![](dashboard.png)\n",
    "![](login.png)\n",
    "![](register_account.png)"
   ],
   "metadata": {
    "collapsed": false
   }
  },
  {
   "cell_type": "markdown",
   "source": [
    "## TODO:\n",
    "CLIENT\n",
    "* USER\n",
    "  - Home Page\n",
    "  - Registration Page\n",
    "  - Login Page\n",
    "  - Account Settings Page\n",
    "    + Book CRUD\n",
    "    + User details\n",
    "* Admin\n",
    "  - Dashboard\n",
    "    + no of users\n",
    "    + books\n",
    "    +\n",
    "SERVER\n",
    "    +\n",
    "DATABASE"
   ],
   "metadata": {
    "collapsed": false
   }
  },
  {
   "cell_type": "markdown",
   "source": [
    "\n"
   ],
   "metadata": {
    "collapsed": false
   }
  },
  {
   "cell_type": "code",
   "execution_count": null,
   "metadata": {
    "collapsed": true
   },
   "outputs": [],
   "source": []
  }
 ],
 "metadata": {
  "kernelspec": {
   "display_name": "Python 3",
   "language": "python",
   "name": "python3"
  },
  "language_info": {
   "codemirror_mode": {
    "name": "ipython",
    "version": 2
   },
   "file_extension": ".py",
   "mimetype": "text/x-python",
   "name": "python",
   "nbconvert_exporter": "python",
   "pygments_lexer": "ipython2",
   "version": "2.7.6"
  }
 },
 "nbformat": 4,
 "nbformat_minor": 0
}
