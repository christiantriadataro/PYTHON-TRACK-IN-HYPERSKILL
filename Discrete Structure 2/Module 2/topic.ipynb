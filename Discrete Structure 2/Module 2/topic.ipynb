{
 "cells": [
  {
   "cell_type": "code",
   "execution_count": null,
   "outputs": [],
   "source": [],
   "metadata": {
    "collapsed": false,
    "pycharm": {
     "name": "#%%\n"
    }
   }
  },
  {
   "cell_type": "markdown",
   "source": [
    "Initialization of A and"
   ],
   "metadata": {
    "collapsed": false,
    "pycharm": {
     "name": "#%% md\n"
    }
   }
  },
  {
   "cell_type": "code",
   "execution_count": 5,
   "outputs": [
    {
     "data": {
      "text/plain": "4"
     },
     "execution_count": 5,
     "metadata": {},
     "output_type": "execute_result"
    }
   ],
   "source": [
    "A = [\n",
    "    [13, 10, 1],\n",
    "    [-2, -1, 4],\n",
    "    [5, 6, 3],\n",
    "    [-1, 4, 0],\n",
    "]\n",
    "B = [\n",
    "    [3, 2],\n",
    "    [1, -2],\n",
    "    [3, 5]\n",
    "]\n",
    "A[1][2]"
   ],
   "metadata": {
    "collapsed": false,
    "pycharm": {
     "name": "#%%\n"
    }
   }
  },
  {
   "cell_type": "markdown",
   "source": [
    "Initialization of AB"
   ],
   "metadata": {
    "collapsed": false,
    "pycharm": {
     "name": "#%% md\n"
    }
   }
  },
  {
   "cell_type": "code",
   "execution_count": 53,
   "outputs": [],
   "source": [
    "# AB = [\n",
    "#     [0, 0, 0, 0],\n",
    "#     [0, 0, 0, 0]\n",
    "# ]\n",
    "# r = 2\n",
    "# c = 4\n",
    "# AB"
   ],
   "metadata": {
    "collapsed": false,
    "pycharm": {
     "name": "#%%\n"
    }
   }
  },
  {
   "cell_type": "markdown",
   "source": [
    "Solving for AB"
   ],
   "metadata": {
    "collapsed": false,
    "pycharm": {
     "name": "#%% md\n"
    }
   }
  },
  {
   "cell_type": "code",
   "execution_count": 54,
   "outputs": [],
   "source": [
    "# for i in range(r):\n",
    "#     for j in range(c):\n",
    "#         temp = 0\n",
    "#         # A[1][1] * B[1][1] +\n",
    "#         # A[1][2] * B[2][1] +\n",
    "#         # A[1][3] * B[3][1]\n",
    "#         for k in range(3):\n",
    "#             temp += A[i][k] * B[k][j]\n",
    "#         AB[i][j] = temp\n",
    "# AB\n",
    "# AB[0][0] =\n"
   ],
   "metadata": {
    "collapsed": false,
    "pycharm": {
     "name": "#%%\n"
    }
   }
  },
  {
   "cell_type": "code",
   "execution_count": 8,
   "outputs": [
    {
     "data": {
      "text/plain": "array([[ 52.,  11.],\n       [  5.,  18.],\n       [ 30.,  13.],\n       [  1., -10.]])"
     },
     "metadata": {},
     "output_type": "display_data"
    }
   ],
   "source": [
    "def matrices(A, B):\n",
    "    array_A = np.array(A)\n",
    "    array_B = np.array(B)\n",
    "    temp_shape = (array_A.shape[0], array_B.shape[1])\n",
    "    temp_k = array_A.shape[1]\n",
    "    AB = np.zeros(temp_shape)\n",
    "    for i in range(temp_shape[0]):\n",
    "            for j in range(temp_shape[1]):\n",
    "                temp = 0\n",
    "                # A[1][1] * B[1][1] +\n",
    "                # A[1][2] * B[2][1] +\n",
    "                # A[1][3] * B[3][1]\n",
    "                for k in range(temp_k):\n",
    "                    temp += A[i][k] * B[k][j]\n",
    "                AB[i][j] = temp\n",
    "    display(AB)\n",
    "\n",
    "matrices(A, B)"
   ],
   "metadata": {
    "collapsed": false,
    "pycharm": {
     "name": "#%%\n"
    }
   }
  },
  {
   "cell_type": "code",
   "execution_count": 9,
   "outputs": [
    {
     "data": {
      "text/plain": "(4, 2)"
     },
     "metadata": {},
     "output_type": "display_data"
    },
    {
     "data": {
      "text/plain": "array([[ 52.,  11.],\n       [  5.,  18.],\n       [ 30.,  13.],\n       [  1., -10.]])"
     },
     "execution_count": 9,
     "metadata": {},
     "output_type": "execute_result"
    }
   ],
   "source": [
    "import numpy as np\n",
    "\n",
    "class Matrices:\n",
    "    def __init__(self, A, B):\n",
    "        self.array_A = np.array(A)\n",
    "        self.array_B = np.array(B)\n",
    "        self.shape = (self.array_A.shape[0], self.array_B.shape[1])\n",
    "        self.k = self.array_A.shape[1]\n",
    "        self.AB = np.zeros(self.shape)\n",
    "\n",
    "    def solve(self):\n",
    "        for i in range(self.shape[0]):\n",
    "            for j in range(self.shape[1]):\n",
    "                temp = 0\n",
    "                # A[1][1] * B[1][1] +\n",
    "                # A[1][2] * B[2][1] +\n",
    "                # A[1][3] * B[3][1]\n",
    "                for k in range(self.k):\n",
    "                    temp += self.array_A[i][k] * self.array_B[k][j]\n",
    "                self.AB[i][j] = temp\n",
    "\n",
    "AB = Matrices(A, B)\n",
    "AB.solve()\n",
    "display(AB.shape)\n",
    "AB.AB"
   ],
   "metadata": {
    "collapsed": false,
    "pycharm": {
     "name": "#%%\n"
    }
   }
  },
  {
   "cell_type": "code",
   "execution_count": null,
   "outputs": [],
   "source": [],
   "metadata": {
    "collapsed": false,
    "pycharm": {
     "name": "#%%\n"
    }
   }
  },
  {
   "cell_type": "markdown",
   "source": [
    "computing lcm"
   ],
   "metadata": {
    "collapsed": false,
    "pycharm": {
     "name": "#%% md\n"
    }
   }
  },
  {
   "cell_type": "code",
   "execution_count": null,
   "outputs": [],
   "source": [],
   "metadata": {
    "collapsed": false,
    "pycharm": {
     "name": "#%%\n"
    }
   }
  },
  {
   "cell_type": "markdown",
   "source": [
    "computing lcd"
   ],
   "metadata": {
    "collapsed": false,
    "pycharm": {
     "name": "#%% md\n"
    }
   }
  },
  {
   "cell_type": "code",
   "execution_count": null,
   "outputs": [],
   "source": [],
   "metadata": {
    "collapsed": false,
    "pycharm": {
     "name": "#%%\n"
    }
   }
  }
 ],
 "metadata": {
  "kernelspec": {
   "display_name": "Python 3",
   "language": "python",
   "name": "python3"
  },
  "language_info": {
   "codemirror_mode": {
    "name": "ipython",
    "version": 2
   },
   "file_extension": ".py",
   "mimetype": "text/x-python",
   "name": "python",
   "nbconvert_exporter": "python",
   "pygments_lexer": "ipython2",
   "version": "2.7.6"
  }
 },
 "nbformat": 4,
 "nbformat_minor": 0
}