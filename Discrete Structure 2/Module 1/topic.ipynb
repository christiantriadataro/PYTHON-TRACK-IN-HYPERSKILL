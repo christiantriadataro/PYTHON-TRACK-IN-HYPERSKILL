{
 "cells": [
  {
   "cell_type": "markdown",
   "source": [
    "# Introduction to Number Theory\n",
    "Number theory is about integers and their properties.\n",
    "\n",
    "The basic principles of:\n",
    "- divisibility\n",
    "- greatest common divisors\n",
    "- least common multiples\n",
    "- modular arithmetic"
   ],
   "metadata": {
    "collapsed": false,
    "pycharm": {
     "name": "#%% md\n"
    }
   }
  },
  {
   "cell_type": "markdown",
   "source": [
    "Divisibility Rules\n",
    "Rule Number | Divisibility Test | Example\n",
    "- | ----------------------- | ------------------\n",
    "2 | The last digit is even  | 128 is; 129 is not\n",
    "3 | The sum of the digits is divisible by 3 | 6\n",
    "4 | The last 2 digits are divisible by 4 | 1312 is (12/4=3); 7019 is not"
   ],
   "metadata": {
    "collapsed": false,
    "pycharm": {
     "name": "#%% md\n"
    }
   }
  },
  {
   "cell_type": "code",
   "execution_count": 5,
   "outputs": [
    {
     "name": "stdout",
     "output_type": "stream",
     "text": [
      "8 is even: True\n",
      "Divisible by 2\n"
     ]
    }
   ],
   "source": [
    "# Divisibility rules\n",
    "num = 128\n",
    "# last digit is even\n",
    "if((num % 10) % 2 == 0):\n",
    "    print(f\"{num % 10} is even: {num % 10 % 2 == 0}\")\n",
    "    print(\"Divisible by 2\")\n",
    "# the sum of the digits is divisible by 3\n",
    "\n",
    "if()"
   ],
   "metadata": {
    "collapsed": false,
    "pycharm": {
     "name": "#%%\n"
    }
   }
  },
  {
   "cell_type": "code",
   "execution_count": null,
   "outputs": [],
   "source": [],
   "metadata": {
    "collapsed": false,
    "pycharm": {
     "name": "#%%\n"
    }
   }
  }
 ],
 "metadata": {
  "kernelspec": {
   "display_name": "Python 3",
   "language": "python",
   "name": "python3"
  },
  "language_info": {
   "codemirror_mode": {
    "name": "ipython",
    "version": 2
   },
   "file_extension": ".py",
   "mimetype": "text/x-python",
   "name": "python",
   "nbconvert_exporter": "python",
   "pygments_lexer": "ipython2",
   "version": "2.7.6"
  }
 },
 "nbformat": 4,
 "nbformat_minor": 0
}