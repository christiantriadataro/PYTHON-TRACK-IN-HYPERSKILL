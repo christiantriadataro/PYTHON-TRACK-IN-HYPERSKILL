{
 "cells": [
  {
   "cell_type": "markdown",
   "source": [
    "# Rule of Product and Sum"
   ],
   "metadata": {
    "collapsed": false,
    "pycharm": {
     "name": "#%% md\n"
    }
   }
  },
  {
   "cell_type": "markdown",
   "source": [
    "Sum Rule\n",
    "if task can be done in n1 and task2 can be done in n2,\n",
    "then tasks = n1 + n2\n",
    "Sample:\n",
    "- department will award a free computer to **either a CS student _or_ a CS professor**. How many different choices are there, if there are 530 students and 15 professors."
   ],
   "metadata": {
    "collapsed": false,
    "pycharm": {
     "name": "#%% md\n"
    }
   }
  },
  {
   "cell_type": "code",
   "execution_count": 5,
   "outputs": [
    {
     "data": {
      "text/plain": "545"
     },
     "metadata": {},
     "output_type": "display_data"
    }
   ],
   "source": [
    "# if task is n1 and task is n2\n",
    "# then n1 + n2\n",
    "# 530 + 15 = 545 choices\n",
    "import math\n",
    "\n",
    "display(530 + 15)"
   ],
   "metadata": {
    "collapsed": false,
    "pycharm": {
     "name": "#%%\n"
    }
   }
  },
  {
   "cell_type": "markdown",
   "source": [
    "Product Rule\n",
    "if the task can be broken done to two successive tasks. If there are n1 ways to do first task and n2 ways to do the second tasks then we have n1n2 ways to do the tasks.\n",
    "\n",
    "Sample:\n",
    "- how many different license plates are there that contain exactly three english letters.\n",
    "There are 25 letter in an alphabet, so 26 possibilities in each letter. If there are 3 letters in the license plates, we can conclude that there 26*26*26 in different license plates."
   ],
   "metadata": {
    "collapsed": false,
    "pycharm": {
     "name": "#%% md\n"
    }
   }
  },
  {
   "cell_type": "code",
   "execution_count": 6,
   "metadata": {
    "collapsed": true,
    "pycharm": {
     "name": "#%%\n"
    }
   },
   "outputs": [
    {
     "data": {
      "text/plain": "17576"
     },
     "metadata": {},
     "output_type": "display_data"
    }
   ],
   "source": [
    "display(26*26*26)"
   ]
  },
  {
   "cell_type": "markdown",
   "source": [
    "How many bit strings of length 8 either start with a 1 or end with oo?\n",
    "- Task 1: Construct a string of length 8 that starts with a 1.\n",
    "  There are 8 byte in a bit, and the first string starts with 1, so there are 8 (which is the length of the string) - 1, so there are 7 strings left to solve, which means if 0 or 1 in every strings, we will have 1*2*2*2*2*2*2 ways."
   ],
   "metadata": {
    "collapsed": false,
    "pycharm": {
     "name": "#%% md\n"
    }
   }
  },
  {
   "cell_type": "code",
   "execution_count": 7,
   "outputs": [
    {
     "data": {
      "text/plain": "64"
     },
     "metadata": {},
     "output_type": "display_data"
    }
   ],
   "source": [
    "display(1*2*2*2*2*2*2)"
   ],
   "metadata": {
    "collapsed": false,
    "pycharm": {
     "name": "#%%\n"
    }
   }
  },
  {
   "cell_type": "markdown",
   "source": [
    "- Task 2: Construct a string of length 8 that ends with 00.\n",
    "  There are 8 strings in a bit, and the bit ends with two 00, which means that there are 8 strings - 2 (which are the last 2 letters). Hence, there are 6 strings left to solve, which means if every 6 strings have 0 or 1, we can conclude that there are 2*2*2*2*2*2*1*1 ways to construct a string that ends with 00."
   ],
   "metadata": {
    "collapsed": false,
    "pycharm": {
     "name": "#%% md\n"
    }
   }
  },
  {
   "cell_type": "code",
   "execution_count": 8,
   "outputs": [
    {
     "data": {
      "text/plain": "64"
     },
     "metadata": {},
     "output_type": "display_data"
    }
   ],
   "source": [
    "display(2*2*2*2*2*2*1*1)"
   ],
   "metadata": {
    "collapsed": false,
    "pycharm": {
     "name": "#%%\n"
    }
   }
  },
  {
   "cell_type": "markdown",
   "source": [
    "If there are 128 ways to do task1 and another 64 ways to do task2, can we conclude that there will be a total ofo 192 bit strings startings with 1 or ending with 00?"
   ],
   "metadata": {
    "collapsed": false,
    "pycharm": {
     "name": "#%% md\n"
    }
   }
  },
  {
   "cell_type": "markdown",
   "source": [
    "3 digits even number if"
   ],
   "metadata": {
    "collapsed": false,
    "pycharm": {
     "name": "#%% md\n"
    }
   }
  },
  {
   "cell_type": "markdown",
   "source": [
    "# Pigeonhole Principle\n",
    "m items and n containers, if m > n, then m // n items"
   ],
   "metadata": {
    "collapsed": false,
    "pycharm": {
     "name": "#%% md\n"
    }
   }
  },
  {
   "cell_type": "code",
   "execution_count": 14,
   "outputs": [
    {
     "name": "stdout",
     "output_type": "stream",
     "text": [
      "2\n"
     ]
    }
   ],
   "source": [
    "import math\n",
    "m = 4\n",
    "n = 3\n",
    "print(math.ceil(m / n))"
   ],
   "metadata": {
    "collapsed": false,
    "pycharm": {
     "name": "#%%\n"
    }
   }
  },
  {
   "cell_type": "markdown",
   "source": [
    "In a group of n people, there are two people who have an identical number of friends within the group.\n"
   ],
   "metadata": {
    "collapsed": false,
    "pycharm": {
     "name": "#%% md\n"
    }
   }
  },
  {
   "cell_type": "code",
   "execution_count": 15,
   "outputs": [
    {
     "name": "stdout",
     "output_type": "stream",
     "text": [
      "2\n"
     ]
    }
   ],
   "source": [
    "print(math.ceil(4 / 3))"
   ],
   "metadata": {
    "collapsed": false,
    "pycharm": {
     "name": "#%%\n"
    }
   }
  },
  {
   "cell_type": "markdown",
   "source": [
    "if there are 366 people, there are 2 out of people that are same birthdays"
   ],
   "metadata": {
    "collapsed": false,
    "pycharm": {
     "name": "#%% md\n"
    }
   }
  },
  {
   "cell_type": "code",
   "execution_count": 16,
   "outputs": [
    {
     "name": "stdout",
     "output_type": "stream",
     "text": [
      "2\n"
     ]
    }
   ],
   "source": [
    "m = 366\n",
    "n = 366 - 1\n",
    "print(math.ceil(m / n))"
   ],
   "metadata": {
    "collapsed": false,
    "pycharm": {
     "name": "#%%\n"
    }
   }
  },
  {
   "cell_type": "code",
   "execution_count": 26,
   "outputs": [
    {
     "data": {
      "text/plain": "[(20, 1),\n (19, 2),\n (18, 3),\n (17, 4),\n (16, 5),\n (15, 6),\n (14, 7),\n (13, 8),\n (12, 9),\n (11, 10),\n (10, 11),\n (9, 12),\n (8, 13),\n (7, 14),\n (6, 15),\n (5, 16),\n (4, 17),\n (3, 18),\n (2, 19),\n (1, 20)]"
     },
     "metadata": {},
     "output_type": "display_data"
    }
   ],
   "source": [
    "s = [_ for _ in range(1, 21)]\n",
    "new_s = []\n",
    "for i in s[::-1]:\n",
    "    for j in s:\n",
    "        if i + j == 21:\n",
    "            new_s.append((i, j))\n",
    "display(new_s)"
   ],
   "metadata": {
    "collapsed": false,
    "pycharm": {
     "name": "#%%\n"
    }
   }
  },
  {
   "cell_type": "code",
   "execution_count": null,
   "outputs": [],
   "source": [],
   "metadata": {
    "collapsed": false,
    "pycharm": {
     "name": "#%%\n"
    }
   }
  }
 ],
 "metadata": {
  "kernelspec": {
   "display_name": "Python 3",
   "language": "python",
   "name": "python3"
  },
  "language_info": {
   "codemirror_mode": {
    "name": "ipython",
    "version": 2
   },
   "file_extension": ".py",
   "mimetype": "text/x-python",
   "name": "python",
   "nbconvert_exporter": "python",
   "pygments_lexer": "ipython2",
   "version": "2.7.6"
  }
 },
 "nbformat": 4,
 "nbformat_minor": 0
}