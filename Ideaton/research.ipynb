{
 "cells": [
  {
   "cell_type": "markdown",
   "source": [
    "Do some research\n",
    "list down all the research papers, articles, or references to provide the proposal."
   ],
   "metadata": {
    "collapsed": false,
    "pycharm": {
     "name": "#%% md\n"
    }
   }
  },
  {
   "cell_type": "markdown",
   "source": [
    "- improve the idea\n",
    "- find the problem/issues and solve it\n",
    "- create solutions utilizing the latest technologies related to samsung\n",
    "  - AI\n",
    "  - Immersive/Metaverse\n",
    "  - Robotics\n",
    "  - Network and connectivity\n"
   ],
   "metadata": {
    "collapsed": false,
    "pycharm": {
     "name": "#%% md\n"
    }
   }
  }
 ],
 "metadata": {
  "kernelspec": {
   "display_name": "Python 3",
   "language": "python",
   "name": "python3"
  },
  "language_info": {
   "codemirror_mode": {
    "name": "ipython",
    "version": 2
   },
   "file_extension": ".py",
   "mimetype": "text/x-python",
   "name": "python",
   "nbconvert_exporter": "python",
   "pygments_lexer": "ipython2",
   "version": "2.7.6"
  }
 },
 "nbformat": 4,
 "nbformat_minor": 0
}