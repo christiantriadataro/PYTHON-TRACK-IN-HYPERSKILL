{
 "cells": [
  {
   "cell_type": "code",
   "execution_count": 7,
   "outputs": [
    {
     "data": {
      "text/plain": "11.892999999999999"
     },
     "metadata": {},
     "output_type": "display_data"
    }
   ],
   "source": [
    "# class standing\n",
    "act1 = 20\n",
    "act2 = 32\n",
    "SA1 = 58\n",
    "class_standing = (((act1 + act2) / 36 + 40) * .45) + ((SA1 / 60) * .55)\n",
    "# midterm grade\n",
    "midterm_score = 100\n",
    "midterm_grade = (class_standing * .60) + ((48/50) * .40)\n",
    "display(midterm_grade)"
   ],
   "metadata": {
    "collapsed": false,
    "pycharm": {
     "name": "#%%\n"
    }
   }
  },
  {
   "cell_type": "code",
   "execution_count": null,
   "outputs": [],
   "source": [],
   "metadata": {
    "collapsed": false,
    "pycharm": {
     "name": "#%%\n"
    }
   }
  }
 ],
 "metadata": {
  "kernelspec": {
   "display_name": "Python 3",
   "language": "python",
   "name": "python3"
  },
  "language_info": {
   "codemirror_mode": {
    "name": "ipython",
    "version": 2
   },
   "file_extension": ".py",
   "mimetype": "text/x-python",
   "name": "python",
   "nbconvert_exporter": "python",
   "pygments_lexer": "ipython2",
   "version": "2.7.6"
  }
 },
 "nbformat": 4,
 "nbformat_minor": 0
}