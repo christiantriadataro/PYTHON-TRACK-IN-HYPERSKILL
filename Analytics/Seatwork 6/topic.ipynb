{
 "cells": [
  {
   "cell_type": "code",
   "execution_count": 1,
   "outputs": [
    {
     "data": {
      "text/plain": "          Duration     Pulse  Maxpulse  Calories\nDuration  1.000000 -0.155408  0.009403  0.922717\nPulse    -0.155408  1.000000  0.786535  0.025121\nMaxpulse  0.009403  0.786535  1.000000  0.203813\nCalories  0.922717  0.025121  0.203813  1.000000",
      "text/html": "<div>\n<style scoped>\n    .dataframe tbody tr th:only-of-type {\n        vertical-align: middle;\n    }\n\n    .dataframe tbody tr th {\n        vertical-align: top;\n    }\n\n    .dataframe thead th {\n        text-align: right;\n    }\n</style>\n<table border=\"1\" class=\"dataframe\">\n  <thead>\n    <tr style=\"text-align: right;\">\n      <th></th>\n      <th>Duration</th>\n      <th>Pulse</th>\n      <th>Maxpulse</th>\n      <th>Calories</th>\n    </tr>\n  </thead>\n  <tbody>\n    <tr>\n      <th>Duration</th>\n      <td>1.000000</td>\n      <td>-0.155408</td>\n      <td>0.009403</td>\n      <td>0.922717</td>\n    </tr>\n    <tr>\n      <th>Pulse</th>\n      <td>-0.155408</td>\n      <td>1.000000</td>\n      <td>0.786535</td>\n      <td>0.025121</td>\n    </tr>\n    <tr>\n      <th>Maxpulse</th>\n      <td>0.009403</td>\n      <td>0.786535</td>\n      <td>1.000000</td>\n      <td>0.203813</td>\n    </tr>\n    <tr>\n      <th>Calories</th>\n      <td>0.922717</td>\n      <td>0.025121</td>\n      <td>0.203813</td>\n      <td>1.000000</td>\n    </tr>\n  </tbody>\n</table>\n</div>"
     },
     "execution_count": 1,
     "metadata": {},
     "output_type": "execute_result"
    }
   ],
   "source": [
    "import pandas as pd\n",
    "import pandas.core.series\n",
    "\n",
    "df = pd.read_csv(\"mydataset.csv\")\n",
    "df.corr()"
   ],
   "metadata": {
    "collapsed": false,
    "pycharm": {
     "name": "#%%\n"
    }
   }
  },
  {
   "cell_type": "code",
   "execution_count": 13,
   "outputs": [
    {
     "name": "stdout",
     "output_type": "stream",
     "text": [
      "-0.15540813258059727\n",
      "0.009402912085577995\n"
     ]
    }
   ],
   "source": [
    "print(df['Duration'].corr(df['Pulse']))\n",
    "print(df['Duration'].corr(df['Maxpulse']))"
   ],
   "metadata": {
    "collapsed": false,
    "pycharm": {
     "name": "#%%\n"
    }
   }
  },
  {
   "cell_type": "code",
   "execution_count": 14,
   "outputs": [
    {
     "name": "stdout",
     "output_type": "stream",
     "text": [
      "0.025121130626710283\n",
      "0.20381327390550158\n"
     ]
    }
   ],
   "source": [
    "print(df['Calories'].corr(df['Pulse']))\n",
    "print(df['Calories'].corr(df['Maxpulse']))"
   ],
   "metadata": {
    "collapsed": false,
    "pycharm": {
     "name": "#%%\n"
    }
   }
  },
  {
   "cell_type": "code",
   "execution_count": 11,
   "outputs": [
    {
     "name": "stdout",
     "output_type": "stream",
     "text": [
      "0.9227166783472469\n"
     ]
    }
   ],
   "source": [
    "print(df['Duration'].corr(df['Calories']))"
   ],
   "metadata": {
    "collapsed": false,
    "pycharm": {
     "name": "#%%\n"
    }
   }
  },
  {
   "cell_type": "code",
   "execution_count": 12,
   "outputs": [
    {
     "name": "stdout",
     "output_type": "stream",
     "text": [
      "0.7865346759989709\n"
     ]
    }
   ],
   "source": [
    "print(df['Pulse'].corr(df['Maxpulse']))"
   ],
   "metadata": {
    "collapsed": false,
    "pycharm": {
     "name": "#%%\n"
    }
   }
  },
  {
   "cell_type": "code",
   "execution_count": 16,
   "outputs": [
    {
     "name": "stdout",
     "output_type": "stream",
     "text": [
      "0.9227166783472469\n"
     ]
    }
   ],
   "source": [
    "print(df['Duration'].corr(df['Calories']))"
   ],
   "metadata": {
    "collapsed": false,
    "pycharm": {
     "name": "#%%\n"
    }
   }
  },
  {
   "cell_type": "code",
   "execution_count": 36,
   "outputs": [
    {
     "name": "stdout",
     "output_type": "stream",
     "text": [
      "Duration    1.000000\n",
      "Pulse      -0.155408\n",
      "Maxpulse    0.009403\n",
      "Calories    0.922717\n",
      "Name: Duration, dtype: float64\n",
      "Duration   -0.155408\n",
      "Pulse       1.000000\n",
      "Maxpulse    0.786535\n",
      "Calories    0.025121\n",
      "Name: Pulse, dtype: float64\n",
      "Duration    0.009403\n",
      "Pulse       0.786535\n",
      "Maxpulse    1.000000\n",
      "Calories    0.203813\n",
      "Name: Maxpulse, dtype: float64\n",
      "Duration    0.922717\n",
      "Pulse       0.025121\n",
      "Maxpulse    0.203813\n",
      "Calories    1.000000\n",
      "Name: Calories, dtype: float64\n"
     ]
    }
   ],
   "source": [
    "for col in df.corr().items():\n",
    "    for value in col:\n",
    "        if type(value) == pd.core.series.Series:\n",
    "            if float(value) > 0.6:\n",
    "                print(value)\n"
   ],
   "metadata": {
    "collapsed": false,
    "pycharm": {
     "name": "#%%\n"
    }
   }
  },
  {
   "cell_type": "code",
   "execution_count": 3,
   "outputs": [
    {
     "name": "stdout",
     "output_type": "stream",
     "text": [
      "          Duration     Pulse  Maxpulse  Calories\n",
      "Duration  1.000000 -0.155408  0.009403  0.922717\n",
      "Pulse    -0.155408  1.000000  0.786535  0.025121\n",
      "Maxpulse  0.009403  0.786535  1.000000  0.203813\n",
      "Calories  0.922717  0.025121  0.203813  1.000000\n"
     ]
    }
   ],
   "source": [
    "print(df.corr('pearson'))"
   ],
   "metadata": {
    "collapsed": false,
    "pycharm": {
     "name": "#%%\n"
    }
   }
  },
  {
   "cell_type": "code",
   "execution_count": 7,
   "outputs": [
    {
     "name": "stdout",
     "output_type": "stream",
     "text": [
      "          Duration     Pulse  Maxpulse  Calories\n",
      "Duration  1.000000 -0.124808 -0.046464  0.687394\n",
      "Pulse    -0.124808  1.000000  0.640451  0.158295\n",
      "Maxpulse -0.046464  0.640451  1.000000  0.198774\n",
      "Calories  0.687394  0.158295  0.198774  1.000000\n"
     ]
    }
   ],
   "source": [
    "print(df.corr('kendall'))"
   ],
   "metadata": {
    "collapsed": false,
    "pycharm": {
     "name": "#%%\n"
    }
   }
  },
  {
   "cell_type": "code",
   "execution_count": 5,
   "outputs": [
    {
     "name": "stdout",
     "output_type": "stream",
     "text": [
      "          Duration     Pulse  Maxpulse  Calories\n",
      "Duration  1.000000 -0.158436 -0.068517  0.815127\n",
      "Pulse    -0.158436  1.000000  0.788520  0.186022\n",
      "Maxpulse -0.068517  0.788520  1.000000  0.271928\n",
      "Calories  0.815127  0.186022  0.271928  1.000000\n"
     ]
    }
   ],
   "source": [
    "print(df.corr('spearman'))"
   ],
   "metadata": {
    "collapsed": false,
    "pycharm": {
     "name": "#%%\n"
    }
   }
  },
  {
   "cell_type": "code",
   "execution_count": 8,
   "outputs": [
    {
     "name": "stdout",
     "output_type": "stream",
     "text": [
      "0.9227166783472469\n"
     ]
    }
   ],
   "source": [
    "print(df['Duration'].corr(df['Calories']))"
   ],
   "metadata": {
    "collapsed": false,
    "pycharm": {
     "name": "#%%\n"
    }
   }
  },
  {
   "cell_type": "code",
   "execution_count": 9,
   "outputs": [
    {
     "name": "stdout",
     "output_type": "stream",
     "text": [
      "0.7865346759989709\n"
     ]
    }
   ],
   "source": [
    "print(df['Pulse'].corr(df['Maxpulse']))"
   ],
   "metadata": {
    "collapsed": false,
    "pycharm": {
     "name": "#%%\n"
    }
   }
  },
  {
   "cell_type": "code",
   "execution_count": null,
   "outputs": [],
   "source": [],
   "metadata": {
    "collapsed": false,
    "pycharm": {
     "name": "#%%\n"
    }
   }
  }
 ],
 "metadata": {
  "kernelspec": {
   "display_name": "Python 3",
   "language": "python",
   "name": "python3"
  },
  "language_info": {
   "codemirror_mode": {
    "name": "ipython",
    "version": 2
   },
   "file_extension": ".py",
   "mimetype": "text/x-python",
   "name": "python",
   "nbconvert_exporter": "python",
   "pygments_lexer": "ipython2",
   "version": "2.7.6"
  }
 },
 "nbformat": 4,
 "nbformat_minor": 0
}