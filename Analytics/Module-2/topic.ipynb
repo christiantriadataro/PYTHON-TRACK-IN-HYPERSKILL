{
 "cells": [
  {
   "cell_type": "markdown",
   "source": [
    "# Sample questions"
   ],
   "metadata": {
    "collapsed": false,
    "pycharm": {
     "name": "#%% md\n"
    }
   }
  },
  {
   "cell_type": "markdown",
   "source": [
    "Analytics as an Integral Part of the decision-making ecosystem\n",
    "3 types of analytics\n",
    "descriptive analytics\n",
    "- what has happened?\n",
    "predictive analytics\n",
    "- what will happen\n",
    "- build models that help predict the best course of action\n",
    "prescriptive analytics\n",
    "- what should happen\n",
    "build models that help predict the unknown future\n",
    "\n",
    "two fundamental approaches to finding business opportunities\n",
    "samples of most common business challenges\n",
    "building an analytics culture\n",
    "analytics framework pillars\n",
    "business analytics implementation factors\n",
    "integration of analytics with action and measurement"
   ],
   "metadata": {
    "collapsed": false,
    "pycharm": {
     "name": "#%% md\n"
    }
   }
  },
  {
   "cell_type": "markdown",
   "source": [
    "Descriptive analytics\n",
    "- provides information about the past state or performance of a business and its environment\n",
    "- provides regular reports for events that already happened and ad hoc reports to help examine facts about what happened, where, how often, and with how many."
   ],
   "metadata": {
    "collapsed": false,
    "pycharm": {
     "name": "#%% md\n"
    }
   }
  },
  {
   "cell_type": "markdown",
   "source": [
    "Predictive Analytics\n",
    "- Helps predict (based on data and statistical techniques) with confidence what will happen next so that you can make well-informed decisions and improve business outcomes.\n",
    "- Uses simulation models to suggest what could happen."
   ],
   "metadata": {
    "collapsed": false,
    "pycharm": {
     "name": "#%% md\n"
    }
   }
  },
  {
   "cell_type": "markdown",
   "source": [
    "Prescriptive Analytics\n",
    "- Recommends high-value alternative actions or decisions given a complex set of targets, limits, and choices.\n",
    "- Predicts future outcomes and suggest courses of actions to take so that you can benefit from those predictions."
   ],
   "metadata": {
    "collapsed": false,
    "pycharm": {
     "name": "#%% md\n"
    }
   }
  },
  {
   "cell_type": "markdown",
   "source": [
    "Outside-In Thinking: Keeping tabs on what others in your industry are doing.\n",
    "- What makes the business tick?\n",
    "- Where does the next breakthrough await?\n",
    "\n",
    "Inside-out Thinking: Keeping a systematic inventory of the key business processes.\n",
    "- How are key decisions made within?\n",
    "- What are the key business decisions?\n",
    "- How they can be made more process-oriented?"
   ],
   "metadata": {
    "collapsed": false,
    "pycharm": {
     "name": "#%% md\n"
    }
   }
  },
  {
   "cell_type": "markdown",
   "source": [
    "Samples of Most Common Business Challenges\n",
    "- Increase market share (customer acquisition)\n",
    "- Increase customer intimacy\n",
    "- Increase customer satisfaction and retention\n",
    "- Increase customer wallet share growth\n",
    "- Increase customer profitability\n",
    "- Increase traffic and conversion.\n",
    "- Increase employee productivity and performance\n",
    "- Reduce cost"
   ],
   "metadata": {
    "collapsed": false,
    "pycharm": {
     "name": "#%% md\n"
    }
   }
  },
  {
   "cell_type": "markdown",
   "source": [
    "Analytics Culture?\n",
    "- To build: Top-down\n",
    "Manager->Employees\n",
    "- To use: Bottom-up\n",
    "Employees->Manager\n",
    "\n",
    "Define->Assess->Select->Implement\n",
    "\n",
    "Places where to establish it?\n",
    "- Endowed with great deal of data that is not fully utilized\n",
    "- Important to the business success\n",
    "- led by a manager who already understands the importance of analytics\n",
    "- blessed with a cadre of people who have some analytical skills\n",
    "\n",
    "- Search for the truth\n",
    "  - Find or identify patterns and get to root causes\n",
    "  - Make data as granular as possible in their analysis\n",
    "  - Seek data, not just stories, to analyze a question or issue\n",
    "  - Value negative results as well as positive\n",
    "  - Use the results of analysis to make decisions and take actions\n",
    "  - are pragmatic about trade-offs in decision making\n",
    "  - analytical culture - the sum total of a series of individual attributes and behaviors that get repeated over time. People in an analytical culture demonstrate a set of common attributes. In our research and experience, they:"
   ],
   "metadata": {
    "collapsed": false,
    "pycharm": {
     "name": "#%% md\n"
    }
   }
  },
  {
   "cell_type": "markdown",
   "source": [
    "building an analytics culture\n",
    "- Search for the truth\n",
    "- Find or Identify Patterns and Get to Root Causes\n",
    "- Make data as granular as possible in their analysis\n",
    "- Seek data, not just stories, to analyze a question or issue\n",
    "- Value negative results as well as positive\n",
    "- use the results of analyses to make decisions and take actions\n",
    "- are pragmatic about trade-offs in decision making"
   ],
   "metadata": {
    "collapsed": false,
    "pycharm": {
     "name": "#%% md\n"
    }
   }
  },
  {
   "cell_type": "markdown",
   "source": [],
   "metadata": {
    "collapsed": false,
    "pycharm": {
     "name": "#%% md\n"
    }
   }
  },
  {
   "cell_type": "markdown",
   "source": [],
   "metadata": {
    "collapsed": false,
    "pycharm": {
     "name": "#%% md\n"
    }
   }
  },
  {
   "cell_type": "markdown",
   "source": [
    "Analytics Framework Pillars\n",
    "- Business Challenges\n",
    "- Data Foundation\n",
    "- Analytics Implementation\n",
    "- Insight\n",
    "- Execution and measurement\n",
    "- distributed knowledge\n",
    "- innovation\n",
    "\n",
    "Business Analytics Implementation factors\n",
    "- Drivers\n",
    "- facitilitators\n",
    "- enablers\n",
    "\n",
    "Driver: Strategy\n",
    "Two types of Strategy\n",
    "- focus\n",
    "- commitment\n",
    "\n",
    "Drivers: Metrics and Measurement\n",
    "Examples\n",
    "- productivity\n",
    "- market share\n",
    "- retention rate\n",
    "- wallet share\n",
    "- conversion rate\n",
    "- customer satisfaction\n",
    "- average order size/number of products\n",
    "- average spend per customer\n",
    "\n",
    "Drivers: Change Management\n",
    "- What is your goal of the project?\n",
    "- What are the risks of not addressing that goal/question?\n",
    "- When will you meet that goal or answer the business question\n",
    "- what is the analytics strategy to do so\n",
    "- what impact(benefits) will the solution have on your customer-facing employees\n",
    "- how will end-users be trained to use the solution\n",
    "- what resources are required to achieve your plan\n",
    "- who will be involved in executing your plan, internally or externally\n",
    "\n",
    "Facilitators: Integrated Processes\n",
    "\n",
    "Enablers: Human Capital Skills needed\n",
    "- Project Management\n",
    "- Data Modeling\n",
    "- Data Programming\n",
    "- Database extraction and manipulation\n",
    "- Multivariate statistics\n",
    "- Data mining/exploration\n",
    "- data visualization\n",
    "- machine learning\n",
    "- marketing analytics\n",
    "- unstructured data analytics\n",
    "- marketing research\n",
    "- competitive intelligence\n",
    "- data quality/governance\n",
    "- web analytics"
   ],
   "metadata": {
    "collapsed": false,
    "pycharm": {
     "name": "#%% md\n"
    }
   }
  },
  {
   "cell_type": "markdown",
   "source": [
    "DELTA MODEL\n",
    "D - Accessible, high-quality **data**\n",
    "E - An **Enterprise** orientation\n",
    "L - Analytical **Leadership**\n",
    "T - A long-term strategic **target**\n",
    "A - a cadre of **Analysts**"
   ],
   "metadata": {
    "collapsed": false,
    "pycharm": {
     "name": "#%% md\n"
    }
   }
  },
  {
   "cell_type": "markdown",
   "source": [
    "Integration of Analytics with Action and Measurement\n",
    "Companies failed because:\n",
    "- Lack of clear implementation strategy\n",
    "- Lack of support\n",
    "- Lack of Internal Customer Experience\n",
    "- Lack of executive sponsorship\n",
    "- Lack of analytics leadership\n",
    "- Lack of collaboration across organization groups\n",
    "- Lack of integrated processes\n",
    "- Lack of skilled and focus human capital\n",
    "- Lack of measurement or metrics to track outcomes"
   ],
   "metadata": {
    "collapsed": false,
    "pycharm": {
     "name": "#%% md\n"
    }
   }
  },
  {
   "cell_type": "markdown",
   "source": [
    "Key Components for Successful analytics solution:\n",
    "- Data Collection\n",
    "- Integration with multiple data sources"
   ],
   "metadata": {
    "collapsed": false,
    "pycharm": {
     "name": "#%% md\n"
    }
   }
  },
  {
   "cell_type": "markdown",
   "source": [
    "# Sample Questions"
   ],
   "metadata": {
    "collapsed": false,
    "pycharm": {
     "name": "#%% md\n"
    }
   }
  },
  {
   "cell_type": "markdown",
   "source": [
    "_____ is the measurement and analysis of data to inform an understanding of user behavior across web pages.\n",
    "#### Web analytics"
   ],
   "metadata": {
    "collapsed": false,
    "pycharm": {
     "name": "#%% md\n"
    }
   }
  },
  {
   "cell_type": "markdown",
   "source": [
    "Data Mining is the presentation of data in a pictorial or graphical format\n",
    "#### False"
   ],
   "metadata": {
    "collapsed": false,
    "pycharm": {
     "name": "#%% md\n"
    }
   }
  },
  {
   "cell_type": "markdown",
   "source": [
    "Marketing Analytics is the process of determining the viability of a new service or product through research conducted directly with potential customers.\n",
    "#### True"
   ],
   "metadata": {
    "collapsed": false,
    "pycharm": {
     "name": "#%% md\n"
    }
   }
  },
  {
   "cell_type": "markdown",
   "source": [
    "Which is one of the main reasons companies failed to make forward progress?\n",
    "### All of the mentioned"
   ],
   "metadata": {
    "collapsed": false,
    "pycharm": {
     "name": "#%% md\n"
    }
   }
  },
  {
   "cell_type": "markdown",
   "source": [
    "One of the main reasons companies failed to make forward progress is the lack of support.\n",
    "#### True"
   ],
   "metadata": {
    "collapsed": false,
    "pycharm": {
     "name": "#%% md\n"
    }
   }
  },
  {
   "cell_type": "markdown",
   "source": [
    "Which is a driver for business analytics implementation factors?\n",
    "#### Strategy"
   ],
   "metadata": {
    "collapsed": false,
    "pycharm": {
     "name": "#%% md\n"
    }
   }
  },
  {
   "cell_type": "markdown",
   "source": [
    "Commitment from others means they are more likely to devote the time, the budget, and the resource to the analytics project and have the will to see it though.\n",
    "#### True"
   ],
   "metadata": {
    "collapsed": false,
    "pycharm": {
     "name": "#%% md\n"
    }
   }
  },
  {
   "cell_type": "markdown",
   "source": [
    "Which element is extremely important to a successful analytics implementation strategy?\n",
    "#### commitment"
   ],
   "metadata": {
    "collapsed": false,
    "pycharm": {
     "name": "#%% md\n"
    }
   }
  },
  {
   "cell_type": "markdown",
   "source": [
    "Business Analytics must be set aside as it misleads the organizational action, as well as provide improper guidance on how to track the results of the actions taken.\n",
    "#### False"
   ],
   "metadata": {
    "collapsed": false,
    "pycharm": {
     "name": "#%% md\n"
    }
   }
  },
  {
   "cell_type": "markdown",
   "source": [
    "In building analytics culture, leadership plays an important role to have a strong mission that explicitly states that the organization values the use of data in decision making.\n",
    "#### True"
   ],
   "metadata": {
    "collapsed": false,
    "pycharm": {
     "name": "#%% md\n"
    }
   }
  },
  {
   "cell_type": "markdown",
   "source": [
    "What analytics culture can be used to address the given statement, \"That is, if you find out that an intervention doesn't work,- it doesn't life sales or get a customer to buy something for you - that's just as useful as knowing that something does work\"\n",
    "#### value negative results as well as positive"
   ],
   "metadata": {
    "collapsed": false,
    "pycharm": {
     "name": "#%% md\n"
    }
   }
  },
  {
   "cell_type": "markdown",
   "source": [
    "Identify Patterns and Get to Root Causes\n",
    "#### True"
   ],
   "metadata": {
    "collapsed": false,
    "pycharm": {
     "name": "#%% md\n"
    }
   }
  },
  {
   "cell_type": "markdown",
   "source": [
    "Validate is the third phase of Analytics Solution Life Cycle\n",
    "#### False"
   ],
   "metadata": {
    "collapsed": false,
    "pycharm": {
     "name": "#%% md\n"
    }
   }
  },
  {
   "cell_type": "markdown",
   "source": [
    "Which is one of the common business challenges?\n",
    "#### All of the mentioned"
   ],
   "metadata": {
    "collapsed": false,
    "pycharm": {
     "name": "#%% md\n"
    }
   }
  },
  {
   "cell_type": "markdown",
   "source": [
    "A question \"How are key decisions made within\" can be addressed by Inside OUt thinking approach\n",
    "#### True"
   ],
   "metadata": {
    "collapsed": false,
    "pycharm": {
     "name": "#%% md\n"
    }
   }
  },
  {
   "cell_type": "markdown",
   "source": [
    "It helps predict (based on data and statistical techniques) with confidence what will happen next so that you can make well-informed decisions and improve business outcomes\n",
    "#### Predictive Analytics"
   ],
   "metadata": {
    "collapsed": false,
    "pycharm": {
     "name": "#%% md\n"
    }
   }
  },
  {
   "cell_type": "markdown",
   "source": [
    "Descriptive analytics provides information about hte past state of performance of a business and its environment\n",
    "#### True"
   ],
   "metadata": {
    "collapsed": false,
    "pycharm": {
     "name": "#%% md\n"
    }
   }
  },
  {
   "cell_type": "markdown",
   "source": [
    "Which is a critical key component for a successful analytics solution?\n",
    "- All of the mentioned"
   ],
   "metadata": {
    "collapsed": false,
    "pycharm": {
     "name": "#%% md\n"
    }
   }
  },
  {
   "cell_type": "markdown",
   "source": [
    "Data Integration is one of the critical key components for a successful analytics solution\n",
    "####  True"
   ],
   "metadata": {
    "collapsed": false,
    "pycharm": {
     "name": "#%% md\n"
    }
   }
  },
  {
   "cell_type": "markdown",
   "source": [
    "Processes involved using descriptive analytics are data, analyze, generate report and smart decisions\n",
    "#### True"
   ],
   "metadata": {
    "collapsed": false,
    "pycharm": {
     "name": "#%% md\n"
    }
   }
  },
  {
   "cell_type": "markdown",
   "source": [],
   "metadata": {
    "collapsed": false,
    "pycharm": {
     "name": "#%% md\n"
    }
   }
  },
  {
   "cell_type": "markdown",
   "source": [],
   "metadata": {
    "collapsed": false,
    "pycharm": {
     "name": "#%% md\n"
    }
   }
  }
 ],
 "metadata": {
  "kernelspec": {
   "display_name": "Python 3",
   "language": "python",
   "name": "python3"
  },
  "language_info": {
   "codemirror_mode": {
    "name": "ipython",
    "version": 2
   },
   "file_extension": ".py",
   "mimetype": "text/x-python",
   "name": "python",
   "nbconvert_exporter": "python",
   "pygments_lexer": "ipython2",
   "version": "2.7.6"
  }
 },
 "nbformat": 4,
 "nbformat_minor": 0
}