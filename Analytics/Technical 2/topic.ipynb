{
 "cells": [
  {
   "cell_type": "markdown",
   "source": [],
   "metadata": {
    "collapsed": false,
    "pycharm": {
     "name": "#%% md\n"
    }
   }
  },
  {
   "cell_type": "code",
   "execution_count": 35,
   "outputs": [
    {
     "data": {
      "text/plain": "    Customer_ID           Occupation PROVINCE  GENDER MARITAL_STATUS URBANITY  \\\n0     009-17336  White collar worker      TK1  FEMALE        MARRIED    Rural   \n1     009-17170        Small Farrmer       TK  FEMALE        MARRIED    Rural   \n2     009-17046       Factory worker       TK  FEMALE        MARRIED    Rural   \n3     009-17381  Construction Worker       TK  FEMALE        WIDOWER    Rural   \n4     009-17088       Factory worker       TK  FEMALE        WIDOWER    Rural   \n..          ...                  ...      ...     ...            ...      ...   \n599   009-17244           SME Farmer       TK  FEMALE        MARRIED    Rural   \n602   009-17211       Factory worker       TK    MALE        MARRIED    Rural   \n604   009-17279         Small Farmer       TK  FEMALE        WIDOWER    Rural   \n605   009-17433       Factory worker       KS    MALE        MARRIED    Rural   \n606   009-17396  White collar worker       TK    MALE        MARRIED    Rural   \n\n    CREDIT_BUREAU  INCOME_TIER  \n0               B          2.0  \n1               D          2.0  \n2               D          2.0  \n3               D          2.0  \n4               D          3.0  \n..            ...          ...  \n599             B          4.0  \n602             A          3.0  \n604             D          2.0  \n605             B          3.0  \n606             B          3.0  \n\n[445 rows x 8 columns]",
      "text/html": "<div>\n<style scoped>\n    .dataframe tbody tr th:only-of-type {\n        vertical-align: middle;\n    }\n\n    .dataframe tbody tr th {\n        vertical-align: top;\n    }\n\n    .dataframe thead th {\n        text-align: right;\n    }\n</style>\n<table border=\"1\" class=\"dataframe\">\n  <thead>\n    <tr style=\"text-align: right;\">\n      <th></th>\n      <th>Customer_ID</th>\n      <th>Occupation</th>\n      <th>PROVINCE</th>\n      <th>GENDER</th>\n      <th>MARITAL_STATUS</th>\n      <th>URBANITY</th>\n      <th>CREDIT_BUREAU</th>\n      <th>INCOME_TIER</th>\n    </tr>\n  </thead>\n  <tbody>\n    <tr>\n      <th>0</th>\n      <td>009-17336</td>\n      <td>White collar worker</td>\n      <td>TK1</td>\n      <td>FEMALE</td>\n      <td>MARRIED</td>\n      <td>Rural</td>\n      <td>B</td>\n      <td>2.0</td>\n    </tr>\n    <tr>\n      <th>1</th>\n      <td>009-17170</td>\n      <td>Small Farrmer</td>\n      <td>TK</td>\n      <td>FEMALE</td>\n      <td>MARRIED</td>\n      <td>Rural</td>\n      <td>D</td>\n      <td>2.0</td>\n    </tr>\n    <tr>\n      <th>2</th>\n      <td>009-17046</td>\n      <td>Factory worker</td>\n      <td>TK</td>\n      <td>FEMALE</td>\n      <td>MARRIED</td>\n      <td>Rural</td>\n      <td>D</td>\n      <td>2.0</td>\n    </tr>\n    <tr>\n      <th>3</th>\n      <td>009-17381</td>\n      <td>Construction Worker</td>\n      <td>TK</td>\n      <td>FEMALE</td>\n      <td>WIDOWER</td>\n      <td>Rural</td>\n      <td>D</td>\n      <td>2.0</td>\n    </tr>\n    <tr>\n      <th>4</th>\n      <td>009-17088</td>\n      <td>Factory worker</td>\n      <td>TK</td>\n      <td>FEMALE</td>\n      <td>WIDOWER</td>\n      <td>Rural</td>\n      <td>D</td>\n      <td>3.0</td>\n    </tr>\n    <tr>\n      <th>...</th>\n      <td>...</td>\n      <td>...</td>\n      <td>...</td>\n      <td>...</td>\n      <td>...</td>\n      <td>...</td>\n      <td>...</td>\n      <td>...</td>\n    </tr>\n    <tr>\n      <th>599</th>\n      <td>009-17244</td>\n      <td>SME Farmer</td>\n      <td>TK</td>\n      <td>FEMALE</td>\n      <td>MARRIED</td>\n      <td>Rural</td>\n      <td>B</td>\n      <td>4.0</td>\n    </tr>\n    <tr>\n      <th>602</th>\n      <td>009-17211</td>\n      <td>Factory worker</td>\n      <td>TK</td>\n      <td>MALE</td>\n      <td>MARRIED</td>\n      <td>Rural</td>\n      <td>A</td>\n      <td>3.0</td>\n    </tr>\n    <tr>\n      <th>604</th>\n      <td>009-17279</td>\n      <td>Small Farmer</td>\n      <td>TK</td>\n      <td>FEMALE</td>\n      <td>WIDOWER</td>\n      <td>Rural</td>\n      <td>D</td>\n      <td>2.0</td>\n    </tr>\n    <tr>\n      <th>605</th>\n      <td>009-17433</td>\n      <td>Factory worker</td>\n      <td>KS</td>\n      <td>MALE</td>\n      <td>MARRIED</td>\n      <td>Rural</td>\n      <td>B</td>\n      <td>3.0</td>\n    </tr>\n    <tr>\n      <th>606</th>\n      <td>009-17396</td>\n      <td>White collar worker</td>\n      <td>TK</td>\n      <td>MALE</td>\n      <td>MARRIED</td>\n      <td>Rural</td>\n      <td>B</td>\n      <td>3.0</td>\n    </tr>\n  </tbody>\n</table>\n<p>445 rows × 8 columns</p>\n</div>"
     },
     "execution_count": 35,
     "metadata": {},
     "output_type": "execute_result"
    }
   ],
   "source": [
    "import pandas as pd\n",
    "df = pd.read_excel('CustomerInfo.xlsx')\n",
    "df.dropna(inplace=True)\n",
    "df"
   ],
   "metadata": {
    "collapsed": false,
    "pycharm": {
     "name": "#%%\n"
    }
   }
  },
  {
   "cell_type": "markdown",
   "source": [
    "income tier based on ? occupation? gender"
   ],
   "metadata": {
    "collapsed": false,
    "pycharm": {
     "name": "#%% md\n"
    }
   }
  },
  {
   "cell_type": "code",
   "execution_count": 33,
   "outputs": [
    {
     "data": {
      "text/plain": "    Customer_ID            Occupation PROVINCE  GENDER MARITAL_STATUS  \\\n1     009-17170         Small Farrmer       TK  FEMALE        MARRIED   \n2     009-17046        Factory worker       TK  FEMALE        MARRIED   \n3     009-17381   Construction Worker       TK  FEMALE        WIDOWER   \n4     009-17088        Factory worker       TK  FEMALE        WIDOWER   \n5     009-17186  Small Business Owner       TK  FEMALE        MARRIED   \n..          ...                   ...      ...     ...            ...   \n599   009-17244            SME Farmer       TK  FEMALE        MARRIED   \n602   009-17211        Factory worker       TK    MALE        MARRIED   \n604   009-17279          Small Farmer       TK  FEMALE        WIDOWER   \n605   009-17433        Factory worker       KS    MALE        MARRIED   \n606   009-17396   White collar worker       TK    MALE        MARRIED   \n\n    URBANITY CREDIT_BUREAU  INCOME_TIER  \n1      Rural             D          2.0  \n2      Rural             D          2.0  \n3      Rural             D          2.0  \n4      Rural             D          3.0  \n5      Rural             D          3.0  \n..       ...           ...          ...  \n599    Rural             B          4.0  \n602    Rural             A          3.0  \n604    Rural             D          2.0  \n605    Rural             B          3.0  \n606    Rural             B          3.0  \n\n[422 rows x 8 columns]",
      "text/html": "<div>\n<style scoped>\n    .dataframe tbody tr th:only-of-type {\n        vertical-align: middle;\n    }\n\n    .dataframe tbody tr th {\n        vertical-align: top;\n    }\n\n    .dataframe thead th {\n        text-align: right;\n    }\n</style>\n<table border=\"1\" class=\"dataframe\">\n  <thead>\n    <tr style=\"text-align: right;\">\n      <th></th>\n      <th>Customer_ID</th>\n      <th>Occupation</th>\n      <th>PROVINCE</th>\n      <th>GENDER</th>\n      <th>MARITAL_STATUS</th>\n      <th>URBANITY</th>\n      <th>CREDIT_BUREAU</th>\n      <th>INCOME_TIER</th>\n    </tr>\n  </thead>\n  <tbody>\n    <tr>\n      <th>1</th>\n      <td>009-17170</td>\n      <td>Small Farrmer</td>\n      <td>TK</td>\n      <td>FEMALE</td>\n      <td>MARRIED</td>\n      <td>Rural</td>\n      <td>D</td>\n      <td>2.0</td>\n    </tr>\n    <tr>\n      <th>2</th>\n      <td>009-17046</td>\n      <td>Factory worker</td>\n      <td>TK</td>\n      <td>FEMALE</td>\n      <td>MARRIED</td>\n      <td>Rural</td>\n      <td>D</td>\n      <td>2.0</td>\n    </tr>\n    <tr>\n      <th>3</th>\n      <td>009-17381</td>\n      <td>Construction Worker</td>\n      <td>TK</td>\n      <td>FEMALE</td>\n      <td>WIDOWER</td>\n      <td>Rural</td>\n      <td>D</td>\n      <td>2.0</td>\n    </tr>\n    <tr>\n      <th>4</th>\n      <td>009-17088</td>\n      <td>Factory worker</td>\n      <td>TK</td>\n      <td>FEMALE</td>\n      <td>WIDOWER</td>\n      <td>Rural</td>\n      <td>D</td>\n      <td>3.0</td>\n    </tr>\n    <tr>\n      <th>5</th>\n      <td>009-17186</td>\n      <td>Small Business Owner</td>\n      <td>TK</td>\n      <td>FEMALE</td>\n      <td>MARRIED</td>\n      <td>Rural</td>\n      <td>D</td>\n      <td>3.0</td>\n    </tr>\n    <tr>\n      <th>...</th>\n      <td>...</td>\n      <td>...</td>\n      <td>...</td>\n      <td>...</td>\n      <td>...</td>\n      <td>...</td>\n      <td>...</td>\n      <td>...</td>\n    </tr>\n    <tr>\n      <th>599</th>\n      <td>009-17244</td>\n      <td>SME Farmer</td>\n      <td>TK</td>\n      <td>FEMALE</td>\n      <td>MARRIED</td>\n      <td>Rural</td>\n      <td>B</td>\n      <td>4.0</td>\n    </tr>\n    <tr>\n      <th>602</th>\n      <td>009-17211</td>\n      <td>Factory worker</td>\n      <td>TK</td>\n      <td>MALE</td>\n      <td>MARRIED</td>\n      <td>Rural</td>\n      <td>A</td>\n      <td>3.0</td>\n    </tr>\n    <tr>\n      <th>604</th>\n      <td>009-17279</td>\n      <td>Small Farmer</td>\n      <td>TK</td>\n      <td>FEMALE</td>\n      <td>WIDOWER</td>\n      <td>Rural</td>\n      <td>D</td>\n      <td>2.0</td>\n    </tr>\n    <tr>\n      <th>605</th>\n      <td>009-17433</td>\n      <td>Factory worker</td>\n      <td>KS</td>\n      <td>MALE</td>\n      <td>MARRIED</td>\n      <td>Rural</td>\n      <td>B</td>\n      <td>3.0</td>\n    </tr>\n    <tr>\n      <th>606</th>\n      <td>009-17396</td>\n      <td>White collar worker</td>\n      <td>TK</td>\n      <td>MALE</td>\n      <td>MARRIED</td>\n      <td>Rural</td>\n      <td>B</td>\n      <td>3.0</td>\n    </tr>\n  </tbody>\n</table>\n<p>422 rows × 8 columns</p>\n</div>"
     },
     "execution_count": 33,
     "metadata": {},
     "output_type": "execute_result"
    }
   ],
   "source": [
    "df.dropna(inplace=True)\n",
    "# df[df['PROVINCE'] != 'TK' and df['PROVINCE'] != 'KS' and df['PROVINCE'] != 'BM']\n",
    "df = df[df.eval(\"PROVINCE == ['TK', 'BM', 'KS']\")]\n",
    "df"
   ],
   "metadata": {
    "collapsed": false,
    "pycharm": {
     "name": "#%%\n"
    }
   }
  },
  {
   "cell_type": "markdown",
   "source": [
    "correlation between occupation and income\n",
    "correlation between province and income\n",
    "correlation between gender and income\n",
    "correlation between urban and income\n",
    "correlation between marital_status and income"
   ],
   "metadata": {
    "collapsed": false,
    "pycharm": {
     "name": "#%% md\n"
    }
   }
  },
  {
   "cell_type": "code",
   "execution_count": 45,
   "outputs": [
    {
     "name": "stderr",
     "output_type": "stream",
     "text": [
      "C:\\Users\\admin\\AppData\\Local\\Temp\\ipykernel_25000\\4056020120.py:1: FutureWarning: Dropping of nuisance columns in DataFrame reductions (with 'numeric_only=None') is deprecated; in a future version this will raise TypeError.  Select only valid columns before calling the reduction.\n",
      "  total = df.mean()\n"
     ]
    }
   ],
   "source": [
    "total = df.mean()"
   ],
   "metadata": {
    "collapsed": false,
    "pycharm": {
     "name": "#%%\n"
    }
   }
  },
  {
   "cell_type": "markdown",
   "source": [],
   "metadata": {
    "collapsed": false,
    "pycharm": {
     "name": "#%% md\n"
    }
   }
  },
  {
   "cell_type": "code",
   "execution_count": 82,
   "outputs": [
    {
     "data": {
      "text/plain": "Customer_ID       0.191011\nOccupation        0.191011\nPROVINCE          0.191011\nGENDER            0.191011\nMARITAL_STATUS    0.191011\nURBANITY          0.191011\nCREDIT_BUREAU     0.191011\nINCOME_TIER       0.191011\ndtype: float64"
     },
     "metadata": {},
     "output_type": "display_data"
    }
   ],
   "source": [
    "\n",
    "display(df[df['GENDER'] == 'MALE'].count() / df.count())"
   ],
   "metadata": {
    "collapsed": false,
    "pycharm": {
     "name": "#%%\n"
    }
   }
  },
  {
   "cell_type": "code",
   "execution_count": 72,
   "outputs": [
    {
     "data": {
      "text/plain": "Customer_ID       0.155056\nOccupation        0.155056\nPROVINCE          0.155056\nGENDER            0.155056\nMARITAL_STATUS    0.155056\nURBANITY          0.155056\nCREDIT_BUREAU     0.155056\nINCOME_TIER       0.155056\ndtype: float64"
     },
     "metadata": {},
     "output_type": "display_data"
    }
   ],
   "source": [
    "# two_mean = df[df.eval(\"INCOME_TIER == 2.0\")].mean()\n",
    "highest_income_mean = df[df['INCOME_TIER'] == 4.0].count()\n",
    "total_income_mean  = df.count()\n",
    "# display(highest_income_mean / total_income_mean )\n",
    "display(highest_income_mean / total_income_mean)"
   ],
   "metadata": {
    "collapsed": false,
    "pycharm": {
     "name": "#%%\n"
    }
   }
  },
  {
   "cell_type": "markdown",
   "source": [
    "d"
   ],
   "metadata": {
    "collapsed": false,
    "pycharm": {
     "name": "#%% md\n"
    }
   }
  },
  {
   "cell_type": "markdown",
   "source": [
    "dtotal number of income tier based on occupation\n"
   ],
   "metadata": {
    "collapsed": false,
    "pycharm": {
     "name": "#%% md\n"
    }
   }
  },
  {
   "cell_type": "markdown",
   "source": [
    "Province = { { 'TK': 'Takeo'},\n",
    "             { 'KS': 'Kamp' },\n",
    "             { 'BM' : 'Bantaey Mocheay'}"
   ],
   "metadata": {
    "collapsed": false,
    "pycharm": {
     "name": "#%% md\n"
    }
   }
  },
  {
   "cell_type": "markdown",
   "source": [
    "total number of income tier based on province"
   ],
   "metadata": {
    "collapsed": false,
    "pycharm": {
     "name": "#%% md\n"
    }
   }
  }
 ],
 "metadata": {
  "kernelspec": {
   "display_name": "Python 3",
   "language": "python",
   "name": "python3"
  },
  "language_info": {
   "codemirror_mode": {
    "name": "ipython",
    "version": 2
   },
   "file_extension": ".py",
   "mimetype": "text/x-python",
   "name": "python",
   "nbconvert_exporter": "python",
   "pygments_lexer": "ipython2",
   "version": "2.7.6"
  }
 },
 "nbformat": 4,
 "nbformat_minor": 0
}