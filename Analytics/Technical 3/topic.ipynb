{
 "cells": [
  {
   "cell_type": "code",
   "execution_count": null,
   "metadata": {
    "collapsed": true,
    "pycharm": {
     "name": "#%%\n"
    }
   },
   "outputs": [],
   "source": []
  },
  {
   "cell_type": "markdown",
   "source": [
    "# Technical 3"
   ],
   "metadata": {
    "collapsed": false,
    "pycharm": {
     "name": "#%% md\n"
    }
   }
  },
  {
   "cell_type": "markdown",
   "source": [],
   "metadata": {
    "collapsed": false,
    "pycharm": {
     "name": "#%% md\n"
    }
   }
  },
  {
   "cell_type": "code",
   "execution_count": 2,
   "outputs": [
    {
     "data": {
      "text/plain": "               CUSID  DEPOSIT INCOME  LOAN INCOME  TOTAL_PRODUCT_COUNT  \\\ncount     728.000000      728.000000   728.000000            728.00000   \nmean   917348.500000        0.063568    31.240922              1.78022   \nstd       210.299786        0.242139    62.252693              1.08816   \nmin    916985.000000        0.000000     0.000000              1.00000   \n25%    917166.750000        0.000000     0.000000              1.00000   \n50%    917348.500000        0.000000     7.272391              1.00000   \n75%    917530.250000        0.000000    30.300054              2.00000   \nmax    917712.000000        0.991884   430.748260              6.00000   \n\n       DEPOSIT_PRODUCT_COUNT  LOAN_PRODUCT_COUNT  DEPOSIT_BALANCE  \\\ncount             728.000000          728.000000       421.000000   \nmean                0.840659            0.939560       114.384659   \nstd                 0.772210            0.685215       505.077603   \nmin                 0.000000            0.000000         0.060000   \n25%                 0.000000            1.000000         1.328087   \n50%                 1.000000            1.000000         4.918840   \n75%                 1.000000            1.000000        12.440000   \nmax                 4.000000            3.000000      3362.540000   \n\n       COUNT_TRANSACTION_CURRENT  AMOUNT_TRANSACTION_CURRENT  \\\ncount                 528.000000                  528.000000   \nmean                    1.729167                  211.430230   \nstd                     2.604284                  306.053141   \nmin                     1.000000                    0.983768   \n25%                     1.000000                   26.807678   \n50%                     1.000000                   50.762429   \n75%                     2.000000                  243.828350   \nmax                    19.000000                 1290.786124   \n\n       MONTHS_REMAIN_MIN  ...  COUNT_LOANTRANS_CURRENT  \\\ncount         532.000000  ...               491.000000   \nmean           13.015038  ...                 1.553971   \nstd            11.468608  ...                 1.081684   \nmin             3.000000  ...                 1.000000   \n25%             6.000000  ...                 1.000000   \n50%             9.000000  ...                 1.000000   \n75%            12.000000  ...                 2.000000   \nmax            55.000000  ...                 5.000000   \n\n       AMOUNT_LOANTRANS_CURRENT  AGE_MONTHS  TENURE_MONTHS  \\\ncount                491.000000  728.000000     728.000000   \nmean                 191.585649  666.186813      75.766484   \nstd                  305.554408  115.748046      22.715219   \nmin                    0.590261  419.000000      10.000000   \n25%                    6.640434  587.000000      74.000000   \n50%                    9.222825  681.000000      86.000000   \n75%                  243.008350  743.000000      89.250000   \nmax                 1289.996124  939.000000     103.000000   \n\n       MONTHS_LAST_ACTIVE  CNT_LN_TOTFSI  LOAN_BALANCE  AGE_MONTHS.1  \\\ncount          185.000000     355.000000    532.000000    339.000000   \nmean             6.243243       2.980282   3168.859317    655.433628   \nstd              2.816927       1.732754   5185.650857    111.736737   \nmin              1.000000       1.000000     27.053620    419.000000   \n25%              5.000000       1.000000    418.101400    565.000000   \n50%              7.000000       3.000000    614.855000    668.000000   \n75%              9.000000       4.000000   3524.000000    743.000000   \nmax             10.000000       8.000000  31113.375150    863.000000   \n\n       TENURE_MONTHS.1   LOAN_AMOUNT  \ncount       728.000000    532.000000  \nmean         75.766484   4370.521531  \nstd          22.715219   6409.022986  \nmin          10.000000    122.971281  \n25%          74.000000    541.073638  \n50%          86.000000    614.856406  \n75%          89.250000   5714.856406  \nmax         103.000000  22941.073640  \n\n[8 rows x 21 columns]",
      "text/html": "<div>\n<style scoped>\n    .dataframe tbody tr th:only-of-type {\n        vertical-align: middle;\n    }\n\n    .dataframe tbody tr th {\n        vertical-align: top;\n    }\n\n    .dataframe thead th {\n        text-align: right;\n    }\n</style>\n<table border=\"1\" class=\"dataframe\">\n  <thead>\n    <tr style=\"text-align: right;\">\n      <th></th>\n      <th>CUSID</th>\n      <th>DEPOSIT INCOME</th>\n      <th>LOAN INCOME</th>\n      <th>TOTAL_PRODUCT_COUNT</th>\n      <th>DEPOSIT_PRODUCT_COUNT</th>\n      <th>LOAN_PRODUCT_COUNT</th>\n      <th>DEPOSIT_BALANCE</th>\n      <th>COUNT_TRANSACTION_CURRENT</th>\n      <th>AMOUNT_TRANSACTION_CURRENT</th>\n      <th>MONTHS_REMAIN_MIN</th>\n      <th>...</th>\n      <th>COUNT_LOANTRANS_CURRENT</th>\n      <th>AMOUNT_LOANTRANS_CURRENT</th>\n      <th>AGE_MONTHS</th>\n      <th>TENURE_MONTHS</th>\n      <th>MONTHS_LAST_ACTIVE</th>\n      <th>CNT_LN_TOTFSI</th>\n      <th>LOAN_BALANCE</th>\n      <th>AGE_MONTHS.1</th>\n      <th>TENURE_MONTHS.1</th>\n      <th>LOAN_AMOUNT</th>\n    </tr>\n  </thead>\n  <tbody>\n    <tr>\n      <th>count</th>\n      <td>728.000000</td>\n      <td>728.000000</td>\n      <td>728.000000</td>\n      <td>728.00000</td>\n      <td>728.000000</td>\n      <td>728.000000</td>\n      <td>421.000000</td>\n      <td>528.000000</td>\n      <td>528.000000</td>\n      <td>532.000000</td>\n      <td>...</td>\n      <td>491.000000</td>\n      <td>491.000000</td>\n      <td>728.000000</td>\n      <td>728.000000</td>\n      <td>185.000000</td>\n      <td>355.000000</td>\n      <td>532.000000</td>\n      <td>339.000000</td>\n      <td>728.000000</td>\n      <td>532.000000</td>\n    </tr>\n    <tr>\n      <th>mean</th>\n      <td>917348.500000</td>\n      <td>0.063568</td>\n      <td>31.240922</td>\n      <td>1.78022</td>\n      <td>0.840659</td>\n      <td>0.939560</td>\n      <td>114.384659</td>\n      <td>1.729167</td>\n      <td>211.430230</td>\n      <td>13.015038</td>\n      <td>...</td>\n      <td>1.553971</td>\n      <td>191.585649</td>\n      <td>666.186813</td>\n      <td>75.766484</td>\n      <td>6.243243</td>\n      <td>2.980282</td>\n      <td>3168.859317</td>\n      <td>655.433628</td>\n      <td>75.766484</td>\n      <td>4370.521531</td>\n    </tr>\n    <tr>\n      <th>std</th>\n      <td>210.299786</td>\n      <td>0.242139</td>\n      <td>62.252693</td>\n      <td>1.08816</td>\n      <td>0.772210</td>\n      <td>0.685215</td>\n      <td>505.077603</td>\n      <td>2.604284</td>\n      <td>306.053141</td>\n      <td>11.468608</td>\n      <td>...</td>\n      <td>1.081684</td>\n      <td>305.554408</td>\n      <td>115.748046</td>\n      <td>22.715219</td>\n      <td>2.816927</td>\n      <td>1.732754</td>\n      <td>5185.650857</td>\n      <td>111.736737</td>\n      <td>22.715219</td>\n      <td>6409.022986</td>\n    </tr>\n    <tr>\n      <th>min</th>\n      <td>916985.000000</td>\n      <td>0.000000</td>\n      <td>0.000000</td>\n      <td>1.00000</td>\n      <td>0.000000</td>\n      <td>0.000000</td>\n      <td>0.060000</td>\n      <td>1.000000</td>\n      <td>0.983768</td>\n      <td>3.000000</td>\n      <td>...</td>\n      <td>1.000000</td>\n      <td>0.590261</td>\n      <td>419.000000</td>\n      <td>10.000000</td>\n      <td>1.000000</td>\n      <td>1.000000</td>\n      <td>27.053620</td>\n      <td>419.000000</td>\n      <td>10.000000</td>\n      <td>122.971281</td>\n    </tr>\n    <tr>\n      <th>25%</th>\n      <td>917166.750000</td>\n      <td>0.000000</td>\n      <td>0.000000</td>\n      <td>1.00000</td>\n      <td>0.000000</td>\n      <td>1.000000</td>\n      <td>1.328087</td>\n      <td>1.000000</td>\n      <td>26.807678</td>\n      <td>6.000000</td>\n      <td>...</td>\n      <td>1.000000</td>\n      <td>6.640434</td>\n      <td>587.000000</td>\n      <td>74.000000</td>\n      <td>5.000000</td>\n      <td>1.000000</td>\n      <td>418.101400</td>\n      <td>565.000000</td>\n      <td>74.000000</td>\n      <td>541.073638</td>\n    </tr>\n    <tr>\n      <th>50%</th>\n      <td>917348.500000</td>\n      <td>0.000000</td>\n      <td>7.272391</td>\n      <td>1.00000</td>\n      <td>1.000000</td>\n      <td>1.000000</td>\n      <td>4.918840</td>\n      <td>1.000000</td>\n      <td>50.762429</td>\n      <td>9.000000</td>\n      <td>...</td>\n      <td>1.000000</td>\n      <td>9.222825</td>\n      <td>681.000000</td>\n      <td>86.000000</td>\n      <td>7.000000</td>\n      <td>3.000000</td>\n      <td>614.855000</td>\n      <td>668.000000</td>\n      <td>86.000000</td>\n      <td>614.856406</td>\n    </tr>\n    <tr>\n      <th>75%</th>\n      <td>917530.250000</td>\n      <td>0.000000</td>\n      <td>30.300054</td>\n      <td>2.00000</td>\n      <td>1.000000</td>\n      <td>1.000000</td>\n      <td>12.440000</td>\n      <td>2.000000</td>\n      <td>243.828350</td>\n      <td>12.000000</td>\n      <td>...</td>\n      <td>2.000000</td>\n      <td>243.008350</td>\n      <td>743.000000</td>\n      <td>89.250000</td>\n      <td>9.000000</td>\n      <td>4.000000</td>\n      <td>3524.000000</td>\n      <td>743.000000</td>\n      <td>89.250000</td>\n      <td>5714.856406</td>\n    </tr>\n    <tr>\n      <th>max</th>\n      <td>917712.000000</td>\n      <td>0.991884</td>\n      <td>430.748260</td>\n      <td>6.00000</td>\n      <td>4.000000</td>\n      <td>3.000000</td>\n      <td>3362.540000</td>\n      <td>19.000000</td>\n      <td>1290.786124</td>\n      <td>55.000000</td>\n      <td>...</td>\n      <td>5.000000</td>\n      <td>1289.996124</td>\n      <td>939.000000</td>\n      <td>103.000000</td>\n      <td>10.000000</td>\n      <td>8.000000</td>\n      <td>31113.375150</td>\n      <td>863.000000</td>\n      <td>103.000000</td>\n      <td>22941.073640</td>\n    </tr>\n  </tbody>\n</table>\n<p>8 rows × 21 columns</p>\n</div>"
     },
     "execution_count": 2,
     "metadata": {},
     "output_type": "execute_result"
    }
   ],
   "source": [
    "import pandas as pd\n",
    "\n",
    "\n",
    "df = pd.read_csv(\"Transactional_Information.csv\")\n",
    "df.describe()"
   ],
   "metadata": {
    "collapsed": false,
    "pycharm": {
     "name": "#%%\n"
    }
   }
  },
  {
   "cell_type": "markdown",
   "source": [],
   "metadata": {
    "collapsed": false,
    "pycharm": {
     "name": "#%% md\n"
    }
   }
  },
  {
   "cell_type": "code",
   "execution_count": 4,
   "outputs": [
    {
     "data": {
      "text/plain": "Index(['CUSID', 'DEPOSIT INCOME', 'LOAN INCOME', 'TOTAL_PRODUCT_COUNT',\n       'DEPOSIT_PRODUCT_COUNT', 'LOAN_PRODUCT_COUNT', 'DEPOSIT_BALANCE',\n       'COUNT_TRANSACTION_CURRENT', 'AMOUNT_TRANSACTION_CURRENT',\n       'MONTHS_REMAIN_MIN', 'MONTHS_REMAIN_MAX', 'COUNT_LOANTRANS_CURRENT',\n       'AMOUNT_LOANTRANS_CURRENT', 'AGE_MONTHS', 'TENURE_MONTHS',\n       'MONTHS_LAST_ACTIVE', 'CNT_LN_TOTFSI', 'LOAN_BALANCE', 'AGE_MONTHS.1',\n       'TENURE_MONTHS.1', 'LOAN_AMOUNT'],\n      dtype='object')"
     },
     "execution_count": 4,
     "metadata": {},
     "output_type": "execute_result"
    }
   ],
   "source": [
    "df.columns"
   ],
   "metadata": {
    "collapsed": false,
    "pycharm": {
     "name": "#%%\n"
    }
   }
  },
  {
   "cell_type": "markdown",
   "source": [],
   "metadata": {
    "collapsed": false,
    "pycharm": {
     "name": "#%% md\n"
    }
   }
  },
  {
   "cell_type": "code",
   "execution_count": 3,
   "outputs": [
    {
     "data": {
      "text/plain": "CUSID                           int64\nDEPOSIT INCOME                float64\nLOAN INCOME                   float64\nTOTAL_PRODUCT_COUNT             int64\nDEPOSIT_PRODUCT_COUNT           int64\nLOAN_PRODUCT_COUNT              int64\nDEPOSIT_BALANCE               float64\nCOUNT_TRANSACTION_CURRENT     float64\nAMOUNT_TRANSACTION_CURRENT    float64\nMONTHS_REMAIN_MIN             float64\nMONTHS_REMAIN_MAX             float64\nCOUNT_LOANTRANS_CURRENT       float64\nAMOUNT_LOANTRANS_CURRENT      float64\nAGE_MONTHS                      int64\nTENURE_MONTHS                   int64\nMONTHS_LAST_ACTIVE            float64\nCNT_LN_TOTFSI                 float64\nLOAN_BALANCE                  float64\nAGE_MONTHS.1                  float64\nTENURE_MONTHS.1                 int64\nLOAN_AMOUNT                   float64\ndtype: object"
     },
     "execution_count": 3,
     "metadata": {},
     "output_type": "execute_result"
    }
   ],
   "source": [
    "df.dtypes"
   ],
   "metadata": {
    "collapsed": false,
    "pycharm": {
     "name": "#%%\n"
    }
   }
  },
  {
   "cell_type": "code",
   "execution_count": null,
   "outputs": [],
   "source": [],
   "metadata": {
    "collapsed": false,
    "pycharm": {
     "name": "#%%\n"
    }
   }
  }
 ],
 "metadata": {
  "kernelspec": {
   "display_name": "Python 3",
   "language": "python",
   "name": "python3"
  },
  "language_info": {
   "codemirror_mode": {
    "name": "ipython",
    "version": 2
   },
   "file_extension": ".py",
   "mimetype": "text/x-python",
   "name": "python",
   "nbconvert_exporter": "python",
   "pygments_lexer": "ipython2",
   "version": "2.7.6"
  }
 },
 "nbformat": 4,
 "nbformat_minor": 0
}