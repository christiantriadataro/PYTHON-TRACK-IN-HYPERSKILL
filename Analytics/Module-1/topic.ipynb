{
 "cells": [
  {
   "cell_type": "markdown",
   "source": [
    "# Sample questions"
   ],
   "metadata": {
    "collapsed": false,
    "pycharm": {
     "name": "#%% md\n"
    }
   }
  },
  {
   "cell_type": "markdown",
   "source": [
    "Analytics can be applied to Transportation\n",
    "#### YES"
   ],
   "metadata": {
    "collapsed": false,
    "pycharm": {
     "name": "#%% md\n"
    }
   }
  },
  {
   "cell_type": "markdown",
   "source": [
    "The competition is one of the challenges of business analytics\n",
    "#### TRUE"
   ],
   "metadata": {
    "collapsed": false,
    "pycharm": {
     "name": "#%% md\n"
    }
   }
  },
  {
   "cell_type": "markdown",
   "source": [
    "One of a secret of success for business analytics is to recognize the insights as a competitive advantage.\n",
    "#### TRUE"
   ],
   "metadata": {
    "collapsed": false,
    "pycharm": {
     "name": "#%% md\n"
    }
   }
  },
  {
   "cell_type": "markdown",
   "source": [
    "Analytics is NOT practical when the decision maker has NO experience\n",
    "#### False?TRUE"
   ],
   "metadata": {
    "collapsed": false,
    "pycharm": {
     "name": "#%% md\n"
    }
   }
  },
  {
   "cell_type": "markdown",
   "source": [
    "The number of people visited a website in a month. is an example of metric\n",
    "#### TRUE"
   ],
   "metadata": {
    "collapsed": false,
    "pycharm": {
     "name": "#%% md\n"
    }
   }
  },
  {
   "cell_type": "markdown",
   "source": [
    "The number of people visited a website in a month. is an example of measurement\n",
    "#### FALSE"
   ],
   "metadata": {
    "collapsed": false,
    "pycharm": {
     "name": "#%% md\n"
    }
   }
  },
  {
   "cell_type": "markdown",
   "source": [
    "A metric is a data point at a single point in time.\n",
    "#### FALSE"
   ],
   "metadata": {
    "collapsed": false,
    "pycharm": {
     "name": "#%% md\n"
    }
   }
  },
  {
   "cell_type": "markdown",
   "source": [
    "Data is processed, structured, or presented in a given context to make it meaningful and useful.\n",
    "#### TRUE"
   ],
   "metadata": {
    "collapsed": false,
    "pycharm": {
     "name": "#%% md\n"
    }
   }
  },
  {
   "cell_type": "markdown",
   "source": [
    "Data contains numbers, statements, and characters in a raw form.\n",
    "#### TRUE"
   ],
   "metadata": {
    "collapsed": false,
    "pycharm": {
     "name": "#%% md\n"
    }
   }
  },
  {
   "cell_type": "markdown",
   "source": [
    "Machine and instrument data use has risen drastically so as to optimize and track treatment, patient flow as well as the use of equiment in hospitals.\n",
    "\n",
    "Given the statement, where does analytics applied?\n",
    "#### Healthcare"
   ],
   "metadata": {
    "collapsed": false,
    "pycharm": {
     "name": "#%% md\n"
    }
   }
  },
  {
   "cell_type": "markdown",
   "source": [
    "The purpose of an analytics is to enable business decisions based on data.\n",
    "#### True"
   ],
   "metadata": {
    "collapsed": false,
    "pycharm": {
     "name": "#%% md\n"
    }
   }
  },
  {
   "cell_type": "markdown",
   "source": [
    "Descriptive Analytics\n",
    "- What happened\n",
    "- why it happen\n",
    "- How many, how often, where?\n",
    "- What exactly is the problem?\n",
    "\n",
    "Predictive Analytics\n",
    "- What will happen/What could happen?\n",
    "- What actions are needed?\n",
    "- What if these trends continue?\n",
    "- What will happen next if?\n",
    "\n",
    "Prescriptive Analytics\n",
    "- What will happen\n",
    "- when it happened\n",
    "- why is happened\n",
    "- How can we achieve the best outcome\n",
    "- How can we achieve the best outcome including the effects of variability"
   ],
   "metadata": {
    "collapsed": false,
    "pycharm": {
     "name": "#%% md\n"
    }
   }
  },
  {
   "cell_type": "markdown",
   "source": [
    "\"What will happen next if...?\" is one of the question Prescriptive analytics can answer?\n",
    "#### False"
   ],
   "metadata": {
    "collapsed": false,
    "pycharm": {
     "name": "#%% md\n"
    }
   }
  },
  {
   "cell_type": "markdown",
   "source": [
    "Descriptive Answer?\n",
    "#### How many?"
   ],
   "metadata": {
    "collapsed": false,
    "pycharm": {
     "name": "#%% md\n"
    }
   }
  },
  {
   "cell_type": "markdown",
   "source": [
    "\"What actions are needed ...?\" is one of the questions Predictive analytics can answer.\n",
    "#### True"
   ],
   "metadata": {
    "collapsed": false,
    "pycharm": {
     "name": "#%% md\n"
    }
   }
  },
  {
   "cell_type": "markdown",
   "source": [
    "Descriptive analytics answers the question what will happen?\n",
    "#### Predictive"
   ],
   "metadata": {
    "collapsed": false,
    "pycharm": {
     "name": "#%% md\n"
    }
   }
  },
  {
   "cell_type": "markdown",
   "source": [
    "Descriptive - The application of simple statistical techniques that describes what is contained in a data set or database\n",
    "\n",
    "Predictive - An application of advanced statistical, information software or operations research methods to identify predictive variable and build predictive models to identify trends and relationships not readily observed in a descriptive analytics.\n",
    "\n",
    "Prescriptive - An application of decision science, management science, and operations research methodologies to make best use of allocable resources"
   ],
   "metadata": {
    "collapsed": false,
    "pycharm": {
     "name": "#%% md\n"
    }
   }
  },
  {
   "cell_type": "markdown",
   "source": [
    "Predictive Analytics to application of decision science...\n",
    "#### FALSE"
   ],
   "metadata": {
    "collapsed": false,
    "pycharm": {
     "name": "#%% md\n"
    }
   }
  },
  {
   "cell_type": "markdown",
   "source": [
    "Predictive Analytics is an application of advance...\n",
    "#### TRUE"
   ],
   "metadata": {
    "collapsed": false,
    "pycharm": {
     "name": "#%% md\n"
    }
   }
  },
  {
   "cell_type": "markdown",
   "source": [
    "Descriptive application of simple statitical techniques that describes\n",
    "#### describes"
   ],
   "metadata": {
    "collapsed": false,
    "pycharm": {
     "name": "#%% md\n"
    }
   }
  },
  {
   "cell_type": "markdown",
   "source": [
    "It can be defined as a process that involves the use of statistical techinuqe\n",
    "#### Analytics"
   ],
   "metadata": {
    "collapsed": false,
    "pycharm": {
     "name": "#%% md\n"
    }
   }
  },
  {
   "cell_type": "markdown",
   "source": [
    "It describes the collection of data sets that are so large and complex that software systems\n",
    "#### big data"
   ],
   "metadata": {
    "collapsed": false,
    "pycharm": {
     "name": "#%% md\n"
    }
   }
  },
  {
   "cell_type": "markdown",
   "source": [
    "Is the scientific process of discovering and communicating the meaningful patterns which can be found in data.\n",
    "It is concerned with turning raw data into insight for making better decisions\n",
    "#### Analytics"
   ],
   "metadata": {
    "collapsed": false,
    "pycharm": {
     "name": "#%% md\n"
    }
   }
  },
  {
   "cell_type": "markdown",
   "source": [
    "The application of statistics, computer programming, and operations research in order to quantify and gain insight to the meanings of data.\n",
    "Is is especially useful in areas which record a lot of data or information.\n",
    "#### Analytics"
   ],
   "metadata": {
    "collapsed": false,
    "pycharm": {
     "name": "#%% md\n"
    }
   }
  },
  {
   "cell_type": "markdown",
   "source": [
    "iS the process of collating, sorting, processing, and studying business data, and using statistical models and iterative methodologies to transform data into business insights.\n",
    "#### Business Analytics"
   ],
   "metadata": {
    "collapsed": false,
    "pycharm": {
     "name": "#%% md\n"
    }
   }
  },
  {
   "cell_type": "markdown",
   "source": [
    "Is the process of technologies and strategies used to continue exploring and to extract the insights and performance from the past business information to drive successful future business planning\n",
    "#### Business Analytics"
   ],
   "metadata": {
    "collapsed": false,
    "pycharm": {
     "name": "#%% md\n"
    }
   }
  },
  {
   "cell_type": "markdown",
   "source": [],
   "metadata": {
    "collapsed": false,
    "pycharm": {
     "name": "#%% md\n"
    }
   }
  },
  {
   "cell_type": "markdown",
   "source": [],
   "metadata": {
    "collapsed": false,
    "pycharm": {
     "name": "#%% md\n"
    }
   }
  },
  {
   "cell_type": "code",
   "execution_count": null,
   "outputs": [],
   "source": [],
   "metadata": {
    "collapsed": false,
    "pycharm": {
     "name": "#%%\n"
    }
   }
  }
 ],
 "metadata": {
  "kernelspec": {
   "display_name": "Python 3",
   "language": "python",
   "name": "python3"
  },
  "language_info": {
   "codemirror_mode": {
    "name": "ipython",
    "version": 2
   },
   "file_extension": ".py",
   "mimetype": "text/x-python",
   "name": "python",
   "nbconvert_exporter": "python",
   "pygments_lexer": "ipython2",
   "version": "2.7.6"
  }
 },
 "nbformat": 4,
 "nbformat_minor": 0
}