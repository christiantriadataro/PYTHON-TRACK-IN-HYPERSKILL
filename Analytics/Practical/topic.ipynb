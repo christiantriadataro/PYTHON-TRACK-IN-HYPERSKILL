{
 "cells": [
  {
   "cell_type": "code",
   "execution_count": 1,
   "metadata": {
    "collapsed": true,
    "pycharm": {
     "name": "#%%\n"
    }
   },
   "outputs": [
    {
     "data": {
      "text/plain": "        UserID  Day  Duration  Pulse  Maxpulse  Calories\n0    202200001  1.0        60    110       130     409.1\n1    202200002  2.0        60    117       145     479.0\n2    202200003  3.0        60    103       135     340.0\n3    202200004  4.0        45    109       175     282.4\n4    202200005  5.0        45    117       148     406.0\n..         ...  ...       ...    ...       ...       ...\n164  202200083  8.0        60    105       140     290.8\n165  202200084  7.0        60    110       145     300.0\n166  202200085  6.0        60    115       145     310.2\n167  202200086  NaN        75    120       150     320.4\n168  202200087  0.0        75    125       150     330.4\n\n[169 rows x 6 columns]",
      "text/html": "<div>\n<style scoped>\n    .dataframe tbody tr th:only-of-type {\n        vertical-align: middle;\n    }\n\n    .dataframe tbody tr th {\n        vertical-align: top;\n    }\n\n    .dataframe thead th {\n        text-align: right;\n    }\n</style>\n<table border=\"1\" class=\"dataframe\">\n  <thead>\n    <tr style=\"text-align: right;\">\n      <th></th>\n      <th>UserID</th>\n      <th>Day</th>\n      <th>Duration</th>\n      <th>Pulse</th>\n      <th>Maxpulse</th>\n      <th>Calories</th>\n    </tr>\n  </thead>\n  <tbody>\n    <tr>\n      <th>0</th>\n      <td>202200001</td>\n      <td>1.0</td>\n      <td>60</td>\n      <td>110</td>\n      <td>130</td>\n      <td>409.1</td>\n    </tr>\n    <tr>\n      <th>1</th>\n      <td>202200002</td>\n      <td>2.0</td>\n      <td>60</td>\n      <td>117</td>\n      <td>145</td>\n      <td>479.0</td>\n    </tr>\n    <tr>\n      <th>2</th>\n      <td>202200003</td>\n      <td>3.0</td>\n      <td>60</td>\n      <td>103</td>\n      <td>135</td>\n      <td>340.0</td>\n    </tr>\n    <tr>\n      <th>3</th>\n      <td>202200004</td>\n      <td>4.0</td>\n      <td>45</td>\n      <td>109</td>\n      <td>175</td>\n      <td>282.4</td>\n    </tr>\n    <tr>\n      <th>4</th>\n      <td>202200005</td>\n      <td>5.0</td>\n      <td>45</td>\n      <td>117</td>\n      <td>148</td>\n      <td>406.0</td>\n    </tr>\n    <tr>\n      <th>...</th>\n      <td>...</td>\n      <td>...</td>\n      <td>...</td>\n      <td>...</td>\n      <td>...</td>\n      <td>...</td>\n    </tr>\n    <tr>\n      <th>164</th>\n      <td>202200083</td>\n      <td>8.0</td>\n      <td>60</td>\n      <td>105</td>\n      <td>140</td>\n      <td>290.8</td>\n    </tr>\n    <tr>\n      <th>165</th>\n      <td>202200084</td>\n      <td>7.0</td>\n      <td>60</td>\n      <td>110</td>\n      <td>145</td>\n      <td>300.0</td>\n    </tr>\n    <tr>\n      <th>166</th>\n      <td>202200085</td>\n      <td>6.0</td>\n      <td>60</td>\n      <td>115</td>\n      <td>145</td>\n      <td>310.2</td>\n    </tr>\n    <tr>\n      <th>167</th>\n      <td>202200086</td>\n      <td>NaN</td>\n      <td>75</td>\n      <td>120</td>\n      <td>150</td>\n      <td>320.4</td>\n    </tr>\n    <tr>\n      <th>168</th>\n      <td>202200087</td>\n      <td>0.0</td>\n      <td>75</td>\n      <td>125</td>\n      <td>150</td>\n      <td>330.4</td>\n    </tr>\n  </tbody>\n</table>\n<p>169 rows × 6 columns</p>\n</div>"
     },
     "execution_count": 1,
     "metadata": {},
     "output_type": "execute_result"
    }
   ],
   "source": [
    "import pandas as pd\n",
    "\n",
    "df = pd.read_csv(\"Transactional_Information.csv\")\n",
    "df"
   ]
  },
  {
   "cell_type": "markdown",
   "source": [
    "# Technical 3"
   ],
   "metadata": {
    "collapsed": false,
    "pycharm": {
     "name": "#%% md\n"
    }
   }
  },
  {
   "cell_type": "markdown",
   "source": [
    "Data Preparation\n",
    "Object:\n",
    "- To compare the values of correlation between dropped and replaced null values.\n",
    "TODOS:\n",
    "- drop the CUSID duplicate values DONE\n",
    "1. Dropped Values\n",
    "- print the attributes\n",
    "- drop the null value\n",
    "-\n",
    "2. Replaced null values\n"
   ],
   "metadata": {
    "collapsed": false,
    "pycharm": {
     "name": "#%% md\n"
    }
   }
  },
  {
   "cell_type": "markdown",
   "source": [
    "Essential drop the values by on CUSID"
   ],
   "metadata": {
    "collapsed": false,
    "pycharm": {
     "name": "#%% md\n"
    }
   }
  },
  {
   "cell_type": "code",
   "execution_count": 44,
   "outputs": [
    {
     "data": {
      "text/plain": "UserID\n202200001    1\n202200002    1\n202200077    1\n202200076    1\n202200075    1\n            ..\n202200032    1\n202200031    1\n202200030    1\n202200029    1\n202200104    1\nLength: 104, dtype: int64"
     },
     "execution_count": 44,
     "metadata": {},
     "output_type": "execute_result"
    }
   ],
   "source": [
    "df.drop_duplicates(subset='CUSID', inplace=True)\n",
    "df.value_counts(subset='CUSID')"
   ],
   "metadata": {
    "collapsed": false,
    "pycharm": {
     "name": "#%%\n"
    }
   }
  },
  {
   "cell_type": "markdown",
   "source": [
    "drop the values"
   ],
   "metadata": {
    "collapsed": false,
    "pycharm": {
     "name": "#%% md\n"
    }
   }
  },
  {
   "cell_type": "code",
   "execution_count": 45,
   "outputs": [
    {
     "data": {
      "text/plain": "Day\n1.0     17\n2.0     13\n0.0     11\n4.0     10\n5.0      9\n3.0      8\n8.0      8\n7.0      6\n6.0      5\n0.1      1\n9.0      1\n11.0     1\n22.0     1\n33.0     1\n66.0     1\n77.0     1\ndtype: int64"
     },
     "execution_count": 45,
     "metadata": {},
     "output_type": "execute_result"
    }
   ],
   "source": [
    "df.dropna(subset='LOAN_AMOUNT')\n",
    "df.value_counts(subset='LOAN_AMOUNT')"
   ],
   "metadata": {
    "collapsed": false,
    "pycharm": {
     "name": "#%%\n"
    }
   }
  },
  {
   "cell_type": "code",
   "execution_count": 27,
   "outputs": [
    {
     "data": {
      "text/plain": "            UserID       Day  Duration     Pulse  Maxpulse  Calories\nUserID    1.000000  0.145525  0.005850  0.088805  0.081475  0.033571\nDay       0.145525  1.000000  0.441058  0.045033  0.140619  0.591756\nDuration  0.005850  0.441058  1.000000 -0.175446 -0.049845  0.855490\nPulse     0.088805  0.045033 -0.175446  1.000000  0.809409  0.143545\nMaxpulse  0.081475  0.140619 -0.049845  0.809409  1.000000  0.257186\nCalories  0.033571  0.591756  0.855490  0.143545  0.257186  1.000000",
      "text/html": "<div>\n<style scoped>\n    .dataframe tbody tr th:only-of-type {\n        vertical-align: middle;\n    }\n\n    .dataframe tbody tr th {\n        vertical-align: top;\n    }\n\n    .dataframe thead th {\n        text-align: right;\n    }\n</style>\n<table border=\"1\" class=\"dataframe\">\n  <thead>\n    <tr style=\"text-align: right;\">\n      <th></th>\n      <th>UserID</th>\n      <th>Day</th>\n      <th>Duration</th>\n      <th>Pulse</th>\n      <th>Maxpulse</th>\n      <th>Calories</th>\n    </tr>\n  </thead>\n  <tbody>\n    <tr>\n      <th>UserID</th>\n      <td>1.000000</td>\n      <td>0.145525</td>\n      <td>0.005850</td>\n      <td>0.088805</td>\n      <td>0.081475</td>\n      <td>0.033571</td>\n    </tr>\n    <tr>\n      <th>Day</th>\n      <td>0.145525</td>\n      <td>1.000000</td>\n      <td>0.441058</td>\n      <td>0.045033</td>\n      <td>0.140619</td>\n      <td>0.591756</td>\n    </tr>\n    <tr>\n      <th>Duration</th>\n      <td>0.005850</td>\n      <td>0.441058</td>\n      <td>1.000000</td>\n      <td>-0.175446</td>\n      <td>-0.049845</td>\n      <td>0.855490</td>\n    </tr>\n    <tr>\n      <th>Pulse</th>\n      <td>0.088805</td>\n      <td>0.045033</td>\n      <td>-0.175446</td>\n      <td>1.000000</td>\n      <td>0.809409</td>\n      <td>0.143545</td>\n    </tr>\n    <tr>\n      <th>Maxpulse</th>\n      <td>0.081475</td>\n      <td>0.140619</td>\n      <td>-0.049845</td>\n      <td>0.809409</td>\n      <td>1.000000</td>\n      <td>0.257186</td>\n    </tr>\n    <tr>\n      <th>Calories</th>\n      <td>0.033571</td>\n      <td>0.591756</td>\n      <td>0.855490</td>\n      <td>0.143545</td>\n      <td>0.257186</td>\n      <td>1.000000</td>\n    </tr>\n  </tbody>\n</table>\n</div>"
     },
     "execution_count": 27,
     "metadata": {},
     "output_type": "execute_result"
    }
   ],
   "source": [
    "df.corr()"
   ],
   "metadata": {
    "collapsed": false,
    "pycharm": {
     "name": "#%%\n"
    }
   }
  },
  {
   "cell_type": "code",
   "execution_count": 16,
   "outputs": [
    {
     "data": {
      "text/plain": "('UserID',\n 0      202200001\n 1      202200002\n 2      202200003\n 3      202200004\n 4      202200005\n          ...    \n 164    202200083\n 165    202200084\n 166    202200085\n 167    202200086\n 168    202200087\n Name: UserID, Length: 169, dtype: int64)"
     },
     "metadata": {},
     "output_type": "display_data"
    },
    {
     "data": {
      "text/plain": "('Day',\n 0      1.0\n 1      2.0\n 2      3.0\n 3      4.0\n 4      5.0\n       ... \n 164    8.0\n 165    7.0\n 166    6.0\n 167    NaN\n 168    0.0\n Name: Day, Length: 169, dtype: float64)"
     },
     "metadata": {},
     "output_type": "display_data"
    },
    {
     "data": {
      "text/plain": "('Duration',\n 0      60\n 1      60\n 2      60\n 3      45\n 4      45\n        ..\n 164    60\n 165    60\n 166    60\n 167    75\n 168    75\n Name: Duration, Length: 169, dtype: int64)"
     },
     "metadata": {},
     "output_type": "display_data"
    },
    {
     "data": {
      "text/plain": "('Pulse',\n 0      110\n 1      117\n 2      103\n 3      109\n 4      117\n       ... \n 164    105\n 165    110\n 166    115\n 167    120\n 168    125\n Name: Pulse, Length: 169, dtype: int64)"
     },
     "metadata": {},
     "output_type": "display_data"
    },
    {
     "data": {
      "text/plain": "('Maxpulse',\n 0      130\n 1      145\n 2      135\n 3      175\n 4      148\n       ... \n 164    140\n 165    145\n 166    145\n 167    150\n 168    150\n Name: Maxpulse, Length: 169, dtype: int64)"
     },
     "metadata": {},
     "output_type": "display_data"
    },
    {
     "data": {
      "text/plain": "('Calories',\n 0      409.1\n 1      479.0\n 2      340.0\n 3      282.4\n 4      406.0\n        ...  \n 164    290.8\n 165    300.0\n 166    310.2\n 167    320.4\n 168    330.4\n Name: Calories, Length: 169, dtype: float64)"
     },
     "metadata": {},
     "output_type": "display_data"
    }
   ],
   "source": [
    "for row in df:\n",
    "    display(row)"
   ],
   "metadata": {
    "collapsed": false,
    "pycharm": {
     "name": "#%%\n"
    }
   }
  },
  {
   "cell_type": "code",
   "execution_count": null,
   "outputs": [],
   "source": [],
   "metadata": {
    "collapsed": false,
    "pycharm": {
     "name": "#%%\n"
    }
   }
  }
 ],
 "metadata": {
  "kernelspec": {
   "display_name": "Python 3",
   "language": "python",
   "name": "python3"
  },
  "language_info": {
   "codemirror_mode": {
    "name": "ipython",
    "version": 2
   },
   "file_extension": ".py",
   "mimetype": "text/x-python",
   "name": "python",
   "nbconvert_exporter": "python",
   "pygments_lexer": "ipython2",
   "version": "2.7.6"
  }
 },
 "nbformat": 4,
 "nbformat_minor": 0
}