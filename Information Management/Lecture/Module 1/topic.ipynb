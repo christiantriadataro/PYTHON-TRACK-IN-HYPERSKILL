{
 "cells": [
  {
   "cell_type": "markdown",
   "source": [
    "## Module 1 Subtopic 1\n",
    "### THE DATABASE ENVIRONMENT"
   ],
   "metadata": {
    "collapsed": false,
    "pycharm": {
     "name": "#%% md\n"
    }
   }
  },
  {
   "cell_type": "markdown",
   "source": [
    "#### DEFINITIONS\n",
    "**Database**: organizaed collection of logically related data\n",
    "**Data**: stored representeations of meaningful objects and events\n",
    "    - **Structured**: numbers, text, dates\n",
    "    - **Unstructured**: images, video, documents\n",
    "**Information**: data processed to increase knowledge in the person using the data\n",
    "**Metadata**: data that describes the properties and context of user data"
   ],
   "metadata": {
    "collapsed": false,
    "pycharm": {
     "name": "#%% md\n"
    }
   }
  },
  {
   "cell_type": "markdown",
   "source": [
    "#### Disadvantages of File Processing\n",
    "* Program-Data Dependence: All programs maintain metadata for each file they use\n",
    "* Duplication of Data: Different systems/programs have separate copies of the same data\n",
    "* Limited Data Sharing: No centralized control of data\n",
    "* Lengthy Development Times: Programmers must design their own file formats\n",
    "* Excessive Program Maintenance: 80% of information systems budget"
   ],
   "metadata": {
    "collapsed": false,
    "pycharm": {
     "name": "#%% md\n"
    }
   }
  },
  {
   "cell_type": "markdown",
   "source": [
    "#### SOLUTION: The DATABASE Approach\n",
    "* Central repository of shared data\n",
    "* Data is managed by a controlling agent\n",
    "* Stored in a standardized, convenient form"
   ],
   "metadata": {
    "collapsed": false,
    "pycharm": {
     "name": "#%% md\n"
    }
   }
  },
  {
   "cell_type": "markdown",
   "source": [
    "Database Management System: A software system that is used to create, maintain and provide controlled access to user databases"
   ],
   "metadata": {
    "collapsed": false,
    "pycharm": {
     "name": "#%% md\n"
    }
   }
  },
  {
   "cell_type": "markdown",
   "source": [
    "Advantages of the Database Approach\n",
    "1. Program-data independence\n",
    "2. Planned data redundancy\n",
    "3. Improved data consistency\n",
    "4. Improved data sharing\n",
    "5. Increased application development productivity\n",
    "6. Enforcement of standards\n",
    "7. Improved data quality\n",
    "8. Improved data accessibility and responsiveness\n",
    "9. Reduced program maintenance\n",
    "10. Improved decision support"
   ],
   "metadata": {
    "collapsed": false,
    "pycharm": {
     "name": "#%% md\n"
    }
   }
  },
  {
   "cell_type": "markdown",
   "source": [
    "Costs and Risks of the Database Approach\n",
    "1. New, specialized personnel\n",
    "2. Installation and management cost and complexity\n",
    "3. Conversion costs\n",
    "4. Need for explicit backup and recovery\n",
    "5. organizational conflict"
   ],
   "metadata": {
    "collapsed": false,
    "pycharm": {
     "name": "#%% md\n"
    }
   }
  },
  {
   "cell_type": "markdown",
   "source": [
    "#### Elements of the Database Approach\n",
    "Data models\n",
    "  - Graphical system capturing nature and relationship of data\n",
    "  - Enterprise Data Model: A high-level entities and relationships for the organization\n",
    "  - Project Data Model: more detailed view, matching data structure in database or data warehouse\n",
    "Entities\n",
    "  - Noun form describing a person, place, object, event or concept\n",
    "  - Composed of attributes\n",
    "Relationships\n",
    "  - Between entities\n",
    "  - Usually one-to-many (1:M) or many-to-many (M:N)\n",
    "Relational Databases\n",
    "  - Database technology involving tables (relations) representating entities and primary/foreign keys representing relationships"
   ],
   "metadata": {
    "collapsed": false,
    "pycharm": {
     "name": "#%% md\n"
    }
   }
  },
  {
   "cell_type": "markdown",
   "source": [
    "Components of the Database Environment\n",
    "Data and database administrators------>User Interface->\n",
    "                                                        Data modeling and design tools\n",
    "System developers--------------------->User Interface->\n",
    "                                                        Application programs\n",
    "End users----------------------------->User Interface->\n",
    "\n",
    "                                    Repository\n",
    "Data modeling and design tools----->\n",
    "                                    DBMS\n",
    "Application programs--------------->\n",
    "                                    Database"
   ],
   "metadata": {
    "collapsed": false,
    "pycharm": {
     "name": "#%% md\n"
    }
   }
  },
  {
   "cell_type": "markdown",
   "source": [
    "#### Components of the Database Environment\n",
    "Case Tools: computer-aided software engineering\n",
    "Repository: centralized storehouse of metadata\n",
    "Database Management System (DBMS): software for managing the database\n",
    "Database: storehouse of the data\n",
    "Application Programs: software using the data\n",
    "User Interface: text and graphical displays to users\n",
    "Data/Database Administrators: personnel responsible for maintaining the database\n",
    "End Users: people who use the applications and databases\n",
    "Application Programs: software using the data\n",
    "User Interface: text and graphical displays to users\n",
    "Data/Database Administrators: personnel responsible for maintaining the database\n",
    "System Developers: personnel responsible for designing databases and software\n",
    "End users: people who use the applications and databases"
   ],
   "metadata": {
    "collapsed": false,
    "pycharm": {
     "name": "#%% md\n"
    }
   }
  },
  {
   "cell_type": "markdown",
   "source": [
    "## Module 1 Subtopic 2"
   ],
   "metadata": {
    "collapsed": false,
    "pycharm": {
     "name": "#%% md\n"
    }
   }
  },
  {
   "cell_type": "markdown",
   "source": [
    "#### Two Approaches to Database and Is Development\n",
    "SDLC\n",
    "- System Development Life Cycle\n",
    "- Detailed, well-planned development process\n",
    "- Time-consuming, but comprehensive\n",
    "- Long development cycle\n",
    "Prototyping\n",
    "- Rapid application development (RAD)\n",
    "- Cursory attempt at conceptual data modeling\n",
    "- Define database during development of initial prototype\n",
    "- Repeat implementation and maintenance activities with new prototype versions"
   ],
   "metadata": {
    "collapsed": false,
    "pycharm": {
     "name": "#%% md\n"
    }
   }
  },
  {
   "cell_type": "markdown",
   "source": [
    "Systems Development Life Cycle\n",
    "* Planning\n",
    "    - Purpose: preliminary understanding\n",
    "    - Deliverable: request for study\n",
    "    - Database activity: enterprise modeling and early conceptual data modeling\n",
    "* Analysis\n",
    "    - Purpose: thorough requirements analysis and structuring\n",
    "    - Deliverable: functional system specifications\n",
    "    - Database activity: thorough and integrated conceptual data modeling\n",
    "* Logical Design\n",
    "    - Purpose: information requirements eliciation and structure\n",
    "    - Deliverable: detailed design specifications\n",
    "    - Database activity: logical database design (transactions, forms, displays, views, data integrity and security)\n",
    "* Physical Design\n",
    "    - Purpose: develop technology and organizational specifications\n",
    "    - Deliverable: program/data structure, technology purchases, organization redesigns\n",
    "    - Database activity: physical database design (define database to DBMS, physical data organization, database processing programs)\n",
    "* Implementation\n",
    "    - Purpose: Programming, testing, training, installation, documenting\n",
    "    - Deliverable: operational programs, documentation, training materials\n",
    "    - Database activity: database implementation, including coded programs, documentation, installation and conversion\n",
    "* Maintenance\n",
    "    - Purpose: monitor, repair, enchance\n",
    "    - Deliverable: periodic audits\n",
    "    - Database activity: database maintenance, performance analysis and tuning, error corrections"
   ],
   "metadata": {
    "collapsed": false,
    "pycharm": {
     "name": "#%% md\n"
    }
   }
  },
  {
   "cell_type": "markdown",
   "source": [
    "Prototyping Database Methodology\n",
    "- Identify Problem\n",
    "    Conceptual data modeling\n",
    "        - Analyze requirements\n",
    "        - Develop preliminary data model\n",
    "|\n",
    "| Initial requirements\n",
    "v\n",
    "- Develop inital prototype\n",
    "    Logical database design\n",
    "        - Analyze requirements in detail\n",
    "        - Integrate database views into conceptual data model\n",
    "\n",
    "    Physical database design and definition\n",
    "        - Define new database contents to DBMS\n",
    "        - Decide on physical organization for new data\n",
    "        - Design database processing programs\n",
    "\n",
    "    Database implementation\n",
    "        - code database processing\n",
    "        - install new database contents, usually from existing data sources\n",
    "|\n",
    "| Working prototype\n",
    "v\n",
    "             - Implement and use prototype\n",
    "|          ^                                  |\n",
    "| Problems | Next version                     |  If prototype is inefficient\n",
    "v          |                                  v\n",
    "- Revise and enchance prototype            - Convert to operational system\n",
    "    Database maintenance                       Database maintenance\n",
    "    - Analyze database to ensure                  - Tune database for improved performance\n",
    "      it meets application needs                  - Fix errors in database\n",
    "    - Fix errors in database\n",
    "^\n",
    "| New requirements\n",
    "|"
   ],
   "metadata": {
    "collapsed": false,
    "pycharm": {
     "name": "#%% md\n"
    }
   }
  },
  {
   "cell_type": "markdown",
   "source": [
    "#### Database Schema\n",
    "- External Schema\n",
    "    * User views\n",
    "    * Subset of Conceptual Schema\n",
    "    * Can be determined from business-function/data entity matrices\n",
    "    * DBA determines schema for different users\n",
    "- Conceptual Schema\n",
    "    * E-R models\n",
    "- Internal Schema\n",
    "    * Logical structures\n",
    "    * Physical structures"
   ],
   "metadata": {
    "collapsed": false,
    "pycharm": {
     "name": "#%% md\n"
    }
   }
  },
  {
   "cell_type": "markdown",
   "source": [
    "Picture"
   ],
   "metadata": {
    "collapsed": false,
    "pycharm": {
     "name": "#%% md\n"
    }
   }
  },
  {
   "cell_type": "markdown",
   "source": [
    "#### Managing Projects\n",
    "Project: a planned undertaking of related activities to reach an object that has a beginning and an end\n",
    "    - Initiated and planned in planning stage of SDLC\n",
    "    - Executed during analysis, design, and implementation\n",
    "    - Closed at the end of implementation"
   ],
   "metadata": {
    "collapsed": false,
    "pycharm": {
     "name": "#%% md\n"
    }
   }
  },
  {
   "cell_type": "markdown",
   "source": [
    "Managing Projecs: People involved\n",
    "* Business analysts\n",
    "* Systems analysts\n",
    "* Database analysts and data modelers\n",
    "* Data/Database administrators\n",
    "* Project managers\n",
    "* Users\n",
    "* Programmers\n",
    "* Database architects\n",
    "* Other technical experts"
   ],
   "metadata": {
    "collapsed": false,
    "pycharm": {
     "name": "#%% md\n"
    }
   }
  },
  {
   "cell_type": "markdown",
   "source": [
    "#### Evolution of Database systems\n",
    "4 objectives:\n",
    "* Need for program-data independence-> reduced maintenance\n",
    "* Desire to manage more complex data types and structures\n",
    "* Ease of data access for less technical personnel\n",
    "* Need for more powerful decision support platforms"
   ],
   "metadata": {
    "collapsed": false,
    "pycharm": {
     "name": "#%% md\n"
    }
   }
  },
  {
   "cell_type": "markdown",
   "source": [
    "#### Evolution of database technologies\n",
    "Flat Files:\n",
    "    Active: 1960-1985\n",
    "    Legacy: 1985-2015\n",
    "Hierarchical:\n",
    "    Active: 1968-1992\n",
    "    Legacy: 1992-2015\n",
    "Network:\n",
    "    Active: 1970-1990\n",
    "    Legacy: 1990-2000\n",
    "Object-oriented:\n",
    "    Active: 1991-Present\n",
    "Object-relational:\n",
    "    Active: 1992-Present\n",
    "Data Warehousing:\n",
    "    Active: 1990"
   ],
   "metadata": {
    "collapsed": false,
    "pycharm": {
     "name": "#%% md\n"
    }
   }
  },
  {
   "cell_type": "markdown",
   "source": [
    "Pioneering DBMS technologies: 1960'es-2002\n",
    "The Relational Empire: 1980's2010s->onwards\n",
    "Multidimensional: 1990'es-2010s->onwards\n",
    "Graph: 2000's-2010s->onwards\n",
    "NoSQL: 2005-2010s->onwards"
   ],
   "metadata": {
    "collapsed": false,
    "pycharm": {
     "name": "#%% md\n"
    }
   }
  },
  {
   "cell_type": "markdown",
   "source": [
    "Picture"
   ],
   "metadata": {
    "collapsed": false,
    "pycharm": {
     "name": "#%% md\n"
    }
   }
  },
  {
   "cell_type": "markdown",
   "source": [
    "Picture"
   ],
   "metadata": {
    "collapsed": false,
    "pycharm": {
     "name": "#%% md\n"
    }
   }
  },
  {
   "cell_type": "markdown",
   "source": [
    "Picture"
   ],
   "metadata": {
    "collapsed": false,
    "pycharm": {
     "name": "#%% md\n"
    }
   }
  },
  {
   "cell_type": "markdown",
   "source": [
    "#### The Range of Database Applications\n",
    "- Personal databases\n",
    "- Multitier client/server databases\n",
    "- Enterprise applications\n",
    "    - Enterprise resource planning (ERP) systems\n",
    "    - Data warehousing implementations"
   ],
   "metadata": {
    "collapsed": false,
    "pycharm": {
     "name": "#%% md\n"
    }
   }
  },
  {
   "cell_type": "markdown",
   "source": [
    "Picture\n",
    "Picture\n",
    "Picture"
   ],
   "metadata": {
    "collapsed": false,
    "pycharm": {
     "name": "#%% md\n"
    }
   }
  },
  {
   "cell_type": "markdown",
   "source": [],
   "metadata": {
    "collapsed": false,
    "pycharm": {
     "name": "#%% md\n"
    }
   }
  }
 ],
 "metadata": {
  "kernelspec": {
   "display_name": "Python 3",
   "language": "python",
   "name": "python3"
  },
  "language_info": {
   "codemirror_mode": {
    "name": "ipython",
    "version": 2
   },
   "file_extension": ".py",
   "mimetype": "text/x-python",
   "name": "python",
   "nbconvert_exporter": "python",
   "pygments_lexer": "ipython2",
   "version": "2.7.6"
  }
 },
 "nbformat": 4,
 "nbformat_minor": 0
}