{
 "cells": [
  {
   "cell_type": "markdown",
   "source": [
    "# INFORMATION MANAGEMENT"
   ],
   "metadata": {
    "collapsed": false
   }
  },
  {
   "cell_type": "markdown",
   "source": [
    "## MODULE 7: DATA MANIPULATION LANGAUGE (DML) AND TRANSACTION CONTROL"
   ],
   "metadata": {
    "collapsed": false
   }
  },
  {
   "cell_type": "markdown",
   "source": [
    "# INSERT STATEMENT SYNTAX\n",
    "- Add new rows to a table by using the INSERT statement"
   ],
   "metadata": {
    "collapsed": false
   }
  },
  {
   "cell_type": "code",
   "execution_count": 10,
   "outputs": [],
   "source": [
    "import cx_Oracle\n",
    "\n",
    "\n",
    "def print_all():\n",
    "    connection = cx_Oracle.connect(user=\"MODULES_CHAN\", password=\"123\", dsn=\"localhost:1521/xe\")\n",
    "    cursor = connection.cursor()\n",
    "    cursor.execute(\"SELECT * FROM Customer_T\")\n",
    "    for row in cursor:\n",
    "        display(row)\n",
    "\n",
    "def run_statement(sql):\n",
    "    connection = cx_Oracle.connect(user=\"MODULES_CHAN\", password=\"123\", dsn=\"localhost:1521/xe\")\n",
    "    cursor = connection.cursor()\n",
    "    cursor.execute(sql)\n",
    "    for row in cursor:\n",
    "        display(row)"
   ],
   "metadata": {
    "collapsed": false
   }
  },
  {
   "cell_type": "code",
   "execution_count": 13,
   "outputs": [
    {
     "ename": "DatabaseError",
     "evalue": "ORA-02000: missing ) keyword",
     "output_type": "error",
     "traceback": [
      "\u001B[1;31m---------------------------------------------------------------------------\u001B[0m",
      "\u001B[1;31mDatabaseError\u001B[0m                             Traceback (most recent call last)",
      "Input \u001B[1;32mIn [13]\u001B[0m, in \u001B[0;36m<cell line: 16>\u001B[1;34m()\u001B[0m\n\u001B[0;32m      1\u001B[0m sql \u001B[38;5;241m=\u001B[39m \u001B[38;5;124m\"\"\"\u001B[39m\n\u001B[0;32m      2\u001B[0m \u001B[38;5;124mCREATE TABLE Customer_T\u001B[39m\n\u001B[0;32m      3\u001B[0m \u001B[38;5;124m(CustomerID INTEGER GENERATED ALWAYS AS IDENTITY\u001B[39m\n\u001B[1;32m   (...)\u001B[0m\n\u001B[0;32m     14\u001B[0m \u001B[38;5;124m CONSTRAINT Customer_PK PRIMARY KEY (CustomerID));\u001B[39m\n\u001B[0;32m     15\u001B[0m \u001B[38;5;124m\"\"\"\u001B[39m\n\u001B[1;32m---> 16\u001B[0m \u001B[43mrun_statement\u001B[49m\u001B[43m(\u001B[49m\u001B[43msql\u001B[49m\u001B[43m)\u001B[49m\n\u001B[0;32m     17\u001B[0m sql \u001B[38;5;241m=\u001B[39m \u001B[38;5;124m\"\"\"\u001B[39m\n\u001B[0;32m     18\u001B[0m \u001B[38;5;124mINSERT INTO Customer_T VALUES (\u001B[39m\u001B[38;5;124m'\u001B[39m\u001B[38;5;124mContemporary Casuals\u001B[39m\u001B[38;5;124m'\u001B[39m\u001B[38;5;124m, \u001B[39m\u001B[38;5;124m'\u001B[39m\u001B[38;5;124m1355 S. Himes Blvd.\u001B[39m\u001B[38;5;124m'\u001B[39m\u001B[38;5;124m, \u001B[39m\u001B[38;5;124m'\u001B[39m\u001B[38;5;124mGainesville\u001B[39m\u001B[38;5;124m'\u001B[39m\u001B[38;5;124m, \u001B[39m\u001B[38;5;124m'\u001B[39m\u001B[38;5;124mFL\u001B[39m\u001B[38;5;124m'\u001B[39m\u001B[38;5;124m, 32601);\u001B[39m\n\u001B[0;32m     19\u001B[0m \u001B[38;5;124m\"\"\"\u001B[39m\n\u001B[0;32m     20\u001B[0m run_statement(sql)\n",
      "Input \u001B[1;32mIn [10]\u001B[0m, in \u001B[0;36mrun_statement\u001B[1;34m(sql)\u001B[0m\n\u001B[0;32m     12\u001B[0m connection \u001B[38;5;241m=\u001B[39m cx_Oracle\u001B[38;5;241m.\u001B[39mconnect(user\u001B[38;5;241m=\u001B[39m\u001B[38;5;124m\"\u001B[39m\u001B[38;5;124mMODULES_CHAN\u001B[39m\u001B[38;5;124m\"\u001B[39m, password\u001B[38;5;241m=\u001B[39m\u001B[38;5;124m\"\u001B[39m\u001B[38;5;124m123\u001B[39m\u001B[38;5;124m\"\u001B[39m, dsn\u001B[38;5;241m=\u001B[39m\u001B[38;5;124m\"\u001B[39m\u001B[38;5;124mlocalhost:1521/xe\u001B[39m\u001B[38;5;124m\"\u001B[39m)\n\u001B[0;32m     13\u001B[0m cursor \u001B[38;5;241m=\u001B[39m connection\u001B[38;5;241m.\u001B[39mcursor()\n\u001B[1;32m---> 14\u001B[0m \u001B[43mcursor\u001B[49m\u001B[38;5;241;43m.\u001B[39;49m\u001B[43mexecute\u001B[49m\u001B[43m(\u001B[49m\u001B[43msql\u001B[49m\u001B[43m)\u001B[49m\n\u001B[0;32m     15\u001B[0m \u001B[38;5;28;01mfor\u001B[39;00m row \u001B[38;5;129;01min\u001B[39;00m cursor:\n\u001B[0;32m     16\u001B[0m     display(row)\n",
      "\u001B[1;31mDatabaseError\u001B[0m: ORA-02000: missing ) keyword"
     ]
    }
   ],
   "source": [
    "sql = \"\"\"\n",
    "CREATE TABLE Customer_T\n",
    "(CustomerID INTEGER GENERATED ALWAYS AS IDENTITY\n",
    "    (START WITH 1\n",
    "    INCREMENT BY 1\n",
    "    MINVALUE 1\n",
    "    MAXVALUE 10000\n",
    "    NO CYCLE),\n",
    " CustomerName       VARCHAR2(25) NOT NULL,\n",
    " CustomerAddress    VARCHAR2(30),\n",
    " CustomerCity       VARCHAR2(20),\n",
    " CustomerState      CHAR(2),\n",
    " CustomerPostalCode VARCHAR2(9),\n",
    " CONSTRAINT Customer_PK PRIMARY KEY (CustomerID));\n",
    "\"\"\"\n",
    "run_statement(sql)\n",
    "sql = \"\"\"\n",
    "INSERT INTO Customer_T VALUES ('Contemporary Casuals', '1355 S. Himes Blvd.', 'Gainesville', 'FL', 32601);\n",
    "\"\"\"\n",
    "run_statement(sql)\n",
    "print_all()"
   ],
   "metadata": {
    "collapsed": false
   }
  },
  {
   "cell_type": "code",
   "execution_count": null,
   "outputs": [],
   "source": [
    "# INSERT INTO table [(column [, column...])]\n",
    "# VALUES             (value [, value...]);\n",
    "# NOTE THAT ONLY ONE ROW IS INSERTED AT A TIME\n"
   ],
   "metadata": {
    "collapsed": false
   }
  }
 ],
 "metadata": {
  "kernelspec": {
   "display_name": "Python 3",
   "language": "python",
   "name": "python3"
  },
  "language_info": {
   "codemirror_mode": {
    "name": "ipython",
    "version": 2
   },
   "file_extension": ".py",
   "mimetype": "text/x-python",
   "name": "python",
   "nbconvert_exporter": "python",
   "pygments_lexer": "ipython2",
   "version": "2.7.6"
  }
 },
 "nbformat": 4,
 "nbformat_minor": 0
}
