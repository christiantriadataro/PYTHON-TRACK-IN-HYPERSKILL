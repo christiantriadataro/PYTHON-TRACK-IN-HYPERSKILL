{
 "cells": [
  {
   "cell_type": "markdown",
   "source": [
    "# Final Project Documentation\n",
    "## Possible choices about the system\n",
    "- Patient Management System\n",
    "- Sales Management System using Motorcycle Parts\n",
    "   - [Link](https://app.datacamp.com/learn/projects/1574)\n",
    "- Retail Management system using Online Sport Revenue\n",
    "   - [Link](https://app.datacamp.com/learn/projects/optimizing_online_revenue)\n",
    "- Employee Management System\n",
    "   - [Link] (https://app.datacamp.com/learn/projects/streamlining_employee_data)"
   ],
   "metadata": {
    "collapsed": false,
    "pycharm": {
     "name": "#%% md\n"
    }
   }
  },
  {
   "cell_type": "markdown",
   "source": [
    "## Requirements\n",
    "- Business Rules\n",
    "- EERD (Data modeler)\n",
    "- Sample data\n",
    "- 5 queries\n",
    "- video about pitching the system"
   ],
   "metadata": {
    "collapsed": false,
    "pycharm": {
     "name": "#%% md\n"
    }
   }
  },
  {
   "cell_type": "markdown",
   "source": [
    "### Members:\n",
    "- Christian, Project Manager\n",
    "- Gian\n",
    "- Kenneth\n",
    "- Jai"
   ],
   "metadata": {
    "collapsed": false,
    "pycharm": {
     "name": "#%% md\n"
    }
   }
  },
  {
   "cell_type": "markdown",
   "source": [
    "### Roles\n",
    "- Designer/Editor\n",
    "  - will create slides for the pitching of the system, as well as making sure that the design is well put.\n",
    "  - will be the one who will edit the presentation\n",
    "- Documentation/Quality Control (Kenneth)\n",
    "  - will make sure that the docs have no errors, keeping the quality of the paragraphs and screenshots meaningful.\n",
    "- Programmer\n",
    "  - will be the one who will query using SQL, and making changes\n",
    "- Database Architect (Jai)\n",
    "  - will be the one who will design the database and its erd"
   ],
   "metadata": {
    "collapsed": false,
    "pycharm": {
     "name": "#%% md\n"
    }
   }
  },
  {
   "cell_type": "markdown",
   "source": [
    "- KENNETH\n",
    "* screenshot of quering tables (number 6 in the documentation) isesend kay jai\n",
    "* introduction and description (keywords)\n",
    "\n",
    "- GIAN\n",
    "* making sop description (keywords)\n",
    "* screenshot of entity sa data modeler (each relation sa entity for example airplane -> airplane type)\n",
    "\n",
    "\n",
    "- JAI\n",
    "* designing powerpoint\n",
    "* sorting the contents from powerpoint\n",
    "\n",
    "- CHRISTIAN\n",
    "* quality control and pitching/explaining\n",
    "* ddl and dml stuffs for powerpoint\n",
    "\n",
    "\n",
    "\n"
   ],
   "metadata": {
    "collapsed": false,
    "pycharm": {
     "name": "#%% md\n"
    }
   }
  },
  {
   "cell_type": "code",
   "execution_count": null,
   "outputs": [],
   "source": [],
   "metadata": {
    "collapsed": false,
    "pycharm": {
     "name": "#%%\n"
    }
   }
  },
  {
   "cell_type": "code",
   "execution_count": null,
   "outputs": [],
   "source": [],
   "metadata": {
    "collapsed": false,
    "pycharm": {
     "name": "#%%\n"
    }
   }
  },
  {
   "cell_type": "code",
   "execution_count": null,
   "metadata": {
    "collapsed": true,
    "pycharm": {
     "name": "#%%\n"
    }
   },
   "outputs": [],
   "source": []
  }
 ],
 "metadata": {
  "kernelspec": {
   "display_name": "Python 3",
   "language": "python",
   "name": "python3"
  },
  "language_info": {
   "codemirror_mode": {
    "name": "ipython",
    "version": 2
   },
   "file_extension": ".py",
   "mimetype": "text/x-python",
   "name": "python",
   "nbconvert_exporter": "python",
   "pygments_lexer": "ipython2",
   "version": "2.7.6"
  }
 },
 "nbformat": 4,
 "nbformat_minor": 0
}