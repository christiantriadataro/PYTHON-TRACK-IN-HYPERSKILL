{
 "cells": [
  {
   "cell_type": "markdown",
   "source": [
    "## Visualizing your data"
   ],
   "metadata": {
    "collapsed": false,
    "pycharm": {
     "name": "#%% md\n"
    }
   }
  },
  {
   "cell_type": "markdown",
   "source": [
    "#### Reading and writing CSVs"
   ],
   "metadata": {
    "collapsed": false,
    "pycharm": {
     "name": "#%% md\n"
    }
   }
  },
  {
   "cell_type": "code",
   "execution_count": 1,
   "outputs": [
    {
     "data": {
      "text/plain": "         date          type  year  avg_price   size     nb_sold\n0  2015-12-27  conventional  2015       0.95  small  9626901.09\n1  2015-12-20  conventional  2015       0.98  small  8710021.76\n2  2015-12-13  conventional  2015       0.93  small  9855053.66\n3  2015-12-06  conventional  2015       0.89  small  9405464.36\n4  2015-11-29  conventional  2015       0.99  small  8094803.56",
      "text/html": "<div>\n<style scoped>\n    .dataframe tbody tr th:only-of-type {\n        vertical-align: middle;\n    }\n\n    .dataframe tbody tr th {\n        vertical-align: top;\n    }\n\n    .dataframe thead th {\n        text-align: right;\n    }\n</style>\n<table border=\"1\" class=\"dataframe\">\n  <thead>\n    <tr style=\"text-align: right;\">\n      <th></th>\n      <th>date</th>\n      <th>type</th>\n      <th>year</th>\n      <th>avg_price</th>\n      <th>size</th>\n      <th>nb_sold</th>\n    </tr>\n  </thead>\n  <tbody>\n    <tr>\n      <th>0</th>\n      <td>2015-12-27</td>\n      <td>conventional</td>\n      <td>2015</td>\n      <td>0.95</td>\n      <td>small</td>\n      <td>9626901.09</td>\n    </tr>\n    <tr>\n      <th>1</th>\n      <td>2015-12-20</td>\n      <td>conventional</td>\n      <td>2015</td>\n      <td>0.98</td>\n      <td>small</td>\n      <td>8710021.76</td>\n    </tr>\n    <tr>\n      <th>2</th>\n      <td>2015-12-13</td>\n      <td>conventional</td>\n      <td>2015</td>\n      <td>0.93</td>\n      <td>small</td>\n      <td>9855053.66</td>\n    </tr>\n    <tr>\n      <th>3</th>\n      <td>2015-12-06</td>\n      <td>conventional</td>\n      <td>2015</td>\n      <td>0.89</td>\n      <td>small</td>\n      <td>9405464.36</td>\n    </tr>\n    <tr>\n      <th>4</th>\n      <td>2015-11-29</td>\n      <td>conventional</td>\n      <td>2015</td>\n      <td>0.99</td>\n      <td>small</td>\n      <td>8094803.56</td>\n    </tr>\n  </tbody>\n</table>\n</div>"
     },
     "execution_count": 1,
     "metadata": {},
     "output_type": "execute_result"
    }
   ],
   "source": [
    "# importing pandas\n",
    "import pandas as pd\n",
    "\n",
    "# importing sales dataset\n",
    "avocado = pd.read_pickle(\"../datasets/avoplotto.pkl\")\n",
    "avocado.head()"
   ],
   "metadata": {
    "collapsed": false,
    "pycharm": {
     "name": "#%%\n"
    }
   }
  },
  {
   "cell_type": "markdown",
   "source": [
    "#### What's a CSV file?\n",
    "* CSV = comma-separated values\n",
    "* Designed for DataFrame-like data\n",
    "* Most database and spreadsheet programs can use them or create them"
   ],
   "metadata": {
    "collapsed": false,
    "pycharm": {
     "name": "#%% md\n"
    }
   }
  },
  {
   "cell_type": "code",
   "execution_count": 2,
   "outputs": [
    {
     "data": {
      "text/plain": "'value1'"
     },
     "execution_count": 2,
     "metadata": {},
     "output_type": "execute_result"
    }
   ],
   "source": [
    "import pandas as pd\n",
    "new_dogs = pd.read_csv(\"new_dogs.csv\")\n",
    "new_dogs"
   ],
   "metadata": {
    "collapsed": false,
    "pycharm": {
     "name": "#%%\n"
    }
   }
  },
  {
   "cell_type": "markdown",
   "source": [],
   "metadata": {
    "collapsed": false,
    "pycharm": {
     "name": "#%% md\n"
    }
   }
  },
  {
   "cell_type": "markdown",
   "source": [
    "#### DataFrame manipulation"
   ],
   "metadata": {
    "collapsed": false,
    "pycharm": {
     "name": "#%% md\n"
    }
   }
  },
  {
   "cell_type": "code",
   "execution_count": 3,
   "outputs": [
    {
     "data": {
      "text/plain": "\"Charlotte's Web\""
     },
     "execution_count": 3,
     "metadata": {},
     "output_type": "execute_result"
    }
   ],
   "source": [
    "new_dogs[\"bmi\"] = new_dogs[\"weight_kg\"] / (new_dogs[\"height_cm\"] / 100) ** 2\n",
    "new_dogs"
   ],
   "metadata": {
    "collapsed": false,
    "pycharm": {
     "name": "#%%\n"
    }
   }
  },
  {
   "cell_type": "markdown",
   "source": [],
   "metadata": {
    "collapsed": false,
    "pycharm": {
     "name": "#%% md\n"
    }
   }
  },
  {
   "cell_type": "markdown",
   "source": [
    "#### DataFrame  to CSV"
   ],
   "metadata": {
    "collapsed": false,
    "pycharm": {
     "name": "#%% md\n"
    }
   }
  },
  {
   "cell_type": "code",
   "execution_count": null,
   "outputs": [],
   "source": [
    "new_dogs.to_csv(\"new_dogs_with_bmi.csv\")"
   ],
   "metadata": {
    "collapsed": false,
    "pycharm": {
     "name": "#%%\n"
    }
   }
  }
 ],
 "metadata": {
  "kernelspec": {
   "display_name": "Python 3",
   "language": "python",
   "name": "python3"
  },
  "language_info": {
   "codemirror_mode": {
    "name": "ipython",
    "version": 2
   },
   "file_extension": ".py",
   "mimetype": "text/x-python",
   "name": "python",
   "nbconvert_exporter": "python",
   "pygments_lexer": "ipython2",
   "version": "2.7.6"
  }
 },
 "nbformat": 4,
 "nbformat_minor": 0
}