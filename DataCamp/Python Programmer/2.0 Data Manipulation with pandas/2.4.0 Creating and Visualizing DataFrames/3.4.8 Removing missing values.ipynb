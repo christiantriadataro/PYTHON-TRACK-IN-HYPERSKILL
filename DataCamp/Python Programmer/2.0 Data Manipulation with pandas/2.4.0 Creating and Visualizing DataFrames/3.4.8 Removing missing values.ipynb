{
 "cells": [
  {
   "cell_type": "markdown",
   "source": [
    "## Visualizing DataFrames"
   ],
   "metadata": {
    "collapsed": false,
    "pycharm": {
     "name": "#%% md\n"
    }
   }
  },
  {
   "cell_type": "markdown",
   "source": [
    "#### Removing missing values"
   ],
   "metadata": {
    "collapsed": false,
    "pycharm": {
     "name": "#%% md\n"
    }
   }
  },
  {
   "cell_type": "markdown",
   "source": [
    "Now that you know there are some missing values in your DataFrame, you have a few options to deal with them. One way is to remove them from the dataset completely. In this exercise, you'll remove missing values by removing all rows that contain missing values. `pandas` has been imported as `pd` and `avocados_2016` is available."
   ],
   "metadata": {
    "collapsed": false,
    "pycharm": {
     "name": "#%% md\n"
    }
   }
  },
  {
   "cell_type": "code",
   "execution_count": 1,
   "outputs": [
    {
     "data": {
      "text/plain": "           date          type  year  avg_price         size      nb_sold\n52   2016-12-25  conventional  2016       1.00        small   9255125.20\n53   2016-12-18  conventional  2016       0.96        small   9394065.91\n54   2016-12-11  conventional  2016       0.98        small   9009996.11\n55   2016-12-04  conventional  2016       1.00        small  11043350.90\n56   2016-11-27  conventional  2016       1.21        small   7891487.94\n..          ...           ...   ...        ...          ...          ...\n943  2016-02-07       organic  2016       1.44  extra_large      8028.75\n944  2016-01-31       organic  2016       1.43  extra_large      5515.91\n945  2016-01-24       organic  2016       1.41  extra_large     12933.97\n946  2016-01-17       organic  2016       1.44  extra_large     13106.29\n947  2016-01-10       organic  2016       1.35  extra_large      8771.79\n\n[306 rows x 6 columns]",
      "text/html": "<div>\n<style scoped>\n    .dataframe tbody tr th:only-of-type {\n        vertical-align: middle;\n    }\n\n    .dataframe tbody tr th {\n        vertical-align: top;\n    }\n\n    .dataframe thead th {\n        text-align: right;\n    }\n</style>\n<table border=\"1\" class=\"dataframe\">\n  <thead>\n    <tr style=\"text-align: right;\">\n      <th></th>\n      <th>date</th>\n      <th>type</th>\n      <th>year</th>\n      <th>avg_price</th>\n      <th>size</th>\n      <th>nb_sold</th>\n    </tr>\n  </thead>\n  <tbody>\n    <tr>\n      <th>52</th>\n      <td>2016-12-25</td>\n      <td>conventional</td>\n      <td>2016</td>\n      <td>1.00</td>\n      <td>small</td>\n      <td>9255125.20</td>\n    </tr>\n    <tr>\n      <th>53</th>\n      <td>2016-12-18</td>\n      <td>conventional</td>\n      <td>2016</td>\n      <td>0.96</td>\n      <td>small</td>\n      <td>9394065.91</td>\n    </tr>\n    <tr>\n      <th>54</th>\n      <td>2016-12-11</td>\n      <td>conventional</td>\n      <td>2016</td>\n      <td>0.98</td>\n      <td>small</td>\n      <td>9009996.11</td>\n    </tr>\n    <tr>\n      <th>55</th>\n      <td>2016-12-04</td>\n      <td>conventional</td>\n      <td>2016</td>\n      <td>1.00</td>\n      <td>small</td>\n      <td>11043350.90</td>\n    </tr>\n    <tr>\n      <th>56</th>\n      <td>2016-11-27</td>\n      <td>conventional</td>\n      <td>2016</td>\n      <td>1.21</td>\n      <td>small</td>\n      <td>7891487.94</td>\n    </tr>\n    <tr>\n      <th>...</th>\n      <td>...</td>\n      <td>...</td>\n      <td>...</td>\n      <td>...</td>\n      <td>...</td>\n      <td>...</td>\n    </tr>\n    <tr>\n      <th>943</th>\n      <td>2016-02-07</td>\n      <td>organic</td>\n      <td>2016</td>\n      <td>1.44</td>\n      <td>extra_large</td>\n      <td>8028.75</td>\n    </tr>\n    <tr>\n      <th>944</th>\n      <td>2016-01-31</td>\n      <td>organic</td>\n      <td>2016</td>\n      <td>1.43</td>\n      <td>extra_large</td>\n      <td>5515.91</td>\n    </tr>\n    <tr>\n      <th>945</th>\n      <td>2016-01-24</td>\n      <td>organic</td>\n      <td>2016</td>\n      <td>1.41</td>\n      <td>extra_large</td>\n      <td>12933.97</td>\n    </tr>\n    <tr>\n      <th>946</th>\n      <td>2016-01-17</td>\n      <td>organic</td>\n      <td>2016</td>\n      <td>1.44</td>\n      <td>extra_large</td>\n      <td>13106.29</td>\n    </tr>\n    <tr>\n      <th>947</th>\n      <td>2016-01-10</td>\n      <td>organic</td>\n      <td>2016</td>\n      <td>1.35</td>\n      <td>extra_large</td>\n      <td>8771.79</td>\n    </tr>\n  </tbody>\n</table>\n<p>306 rows × 6 columns</p>\n</div>"
     },
     "execution_count": 1,
     "metadata": {},
     "output_type": "execute_result"
    }
   ],
   "source": [
    "# importing pandas\n",
    "import pandas as pd\n",
    "\n",
    "# importing sales dataset\n",
    "avocados = pd.read_pickle(\"../datasets/avoplotto.pkl\")\n",
    "avocados_2016 = avocados[(avocados[\"date\"] >= \"2016-01-1\") & (avocados[\"date\"] <= \"2016-12-31\")]\n",
    "avocados_2016"
   ],
   "metadata": {
    "collapsed": false,
    "pycharm": {
     "name": "#%%\n"
    }
   }
  },
  {
   "cell_type": "markdown",
   "source": [
    "### Instructions"
   ],
   "metadata": {
    "collapsed": false,
    "pycharm": {
     "name": "#%% md\n"
    }
   }
  },
  {
   "cell_type": "markdown",
   "source": [
    "* Remove the rows of `avocados_2016` that contain missing values and store the remaining rows in `avocados_complete`.\n",
    "* Verify that all missing values have been removed from `avocados_complete`. Calculate each column that has NAs and print."
   ],
   "metadata": {
    "collapsed": false,
    "pycharm": {
     "name": "#%% md\n"
    }
   }
  },
  {
   "cell_type": "code",
   "execution_count": 3,
   "outputs": [
    {
     "data": {
      "text/plain": "            date          type  year  avg_price         size     nb_sold\n0     2015-12-27  conventional  2015       0.95        small  9626901.09\n1     2015-12-20  conventional  2015       0.98        small  8710021.76\n2     2015-12-13  conventional  2015       0.93        small  9855053.66\n3     2015-12-06  conventional  2015       0.89        small  9405464.36\n4     2015-11-29  conventional  2015       0.99        small  8094803.56\n...          ...           ...   ...        ...          ...         ...\n1009  2018-02-04       organic  2018       1.53  extra_large     1703.52\n1010  2018-01-28       organic  2018       1.61  extra_large     1270.61\n1011  2018-01-21       organic  2018       1.63  extra_large     1490.02\n1012  2018-01-14       organic  2018       1.59  extra_large     1580.01\n1013  2018-01-07       organic  2018       1.51  extra_large     1289.07\n\n[1014 rows x 6 columns]",
      "text/html": "<div>\n<style scoped>\n    .dataframe tbody tr th:only-of-type {\n        vertical-align: middle;\n    }\n\n    .dataframe tbody tr th {\n        vertical-align: top;\n    }\n\n    .dataframe thead th {\n        text-align: right;\n    }\n</style>\n<table border=\"1\" class=\"dataframe\">\n  <thead>\n    <tr style=\"text-align: right;\">\n      <th></th>\n      <th>date</th>\n      <th>type</th>\n      <th>year</th>\n      <th>avg_price</th>\n      <th>size</th>\n      <th>nb_sold</th>\n    </tr>\n  </thead>\n  <tbody>\n    <tr>\n      <th>0</th>\n      <td>2015-12-27</td>\n      <td>conventional</td>\n      <td>2015</td>\n      <td>0.95</td>\n      <td>small</td>\n      <td>9626901.09</td>\n    </tr>\n    <tr>\n      <th>1</th>\n      <td>2015-12-20</td>\n      <td>conventional</td>\n      <td>2015</td>\n      <td>0.98</td>\n      <td>small</td>\n      <td>8710021.76</td>\n    </tr>\n    <tr>\n      <th>2</th>\n      <td>2015-12-13</td>\n      <td>conventional</td>\n      <td>2015</td>\n      <td>0.93</td>\n      <td>small</td>\n      <td>9855053.66</td>\n    </tr>\n    <tr>\n      <th>3</th>\n      <td>2015-12-06</td>\n      <td>conventional</td>\n      <td>2015</td>\n      <td>0.89</td>\n      <td>small</td>\n      <td>9405464.36</td>\n    </tr>\n    <tr>\n      <th>4</th>\n      <td>2015-11-29</td>\n      <td>conventional</td>\n      <td>2015</td>\n      <td>0.99</td>\n      <td>small</td>\n      <td>8094803.56</td>\n    </tr>\n    <tr>\n      <th>...</th>\n      <td>...</td>\n      <td>...</td>\n      <td>...</td>\n      <td>...</td>\n      <td>...</td>\n      <td>...</td>\n    </tr>\n    <tr>\n      <th>1009</th>\n      <td>2018-02-04</td>\n      <td>organic</td>\n      <td>2018</td>\n      <td>1.53</td>\n      <td>extra_large</td>\n      <td>1703.52</td>\n    </tr>\n    <tr>\n      <th>1010</th>\n      <td>2018-01-28</td>\n      <td>organic</td>\n      <td>2018</td>\n      <td>1.61</td>\n      <td>extra_large</td>\n      <td>1270.61</td>\n    </tr>\n    <tr>\n      <th>1011</th>\n      <td>2018-01-21</td>\n      <td>organic</td>\n      <td>2018</td>\n      <td>1.63</td>\n      <td>extra_large</td>\n      <td>1490.02</td>\n    </tr>\n    <tr>\n      <th>1012</th>\n      <td>2018-01-14</td>\n      <td>organic</td>\n      <td>2018</td>\n      <td>1.59</td>\n      <td>extra_large</td>\n      <td>1580.01</td>\n    </tr>\n    <tr>\n      <th>1013</th>\n      <td>2018-01-07</td>\n      <td>organic</td>\n      <td>2018</td>\n      <td>1.51</td>\n      <td>extra_large</td>\n      <td>1289.07</td>\n    </tr>\n  </tbody>\n</table>\n<p>1014 rows × 6 columns</p>\n</div>"
     },
     "execution_count": 3,
     "metadata": {},
     "output_type": "execute_result"
    }
   ],
   "source": [
    "# Remove rows with missing values\n",
    "avocados_complete = avocados.dropna()\n",
    "avocados_complete"
   ],
   "metadata": {
    "collapsed": false,
    "pycharm": {
     "name": "#%%\n"
    }
   }
  },
  {
   "cell_type": "code",
   "execution_count": 5,
   "outputs": [
    {
     "data": {
      "text/plain": "date         False\ntype         False\nyear         False\navg_price    False\nsize         False\nnb_sold      False\ndtype: bool"
     },
     "execution_count": 5,
     "metadata": {},
     "output_type": "execute_result"
    }
   ],
   "source": [
    "# Check if any columns contain missing values\n",
    "avocados_complete.isna().any()"
   ],
   "metadata": {
    "collapsed": false,
    "pycharm": {
     "name": "#%%\n"
    }
   }
  }
 ],
 "metadata": {
  "kernelspec": {
   "display_name": "Python 3",
   "language": "python",
   "name": "python3"
  },
  "language_info": {
   "codemirror_mode": {
    "name": "ipython",
    "version": 2
   },
   "file_extension": ".py",
   "mimetype": "text/x-python",
   "name": "python",
   "nbconvert_exporter": "python",
   "pygments_lexer": "ipython2",
   "version": "2.7.6"
  }
 },
 "nbformat": 4,
 "nbformat_minor": 0
}