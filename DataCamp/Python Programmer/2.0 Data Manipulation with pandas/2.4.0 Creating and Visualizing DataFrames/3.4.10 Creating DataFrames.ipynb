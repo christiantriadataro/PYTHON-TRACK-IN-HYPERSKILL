{
 "cells": [
  {
   "cell_type": "markdown",
   "source": [
    "## Visualizing your data"
   ],
   "metadata": {
    "collapsed": false,
    "pycharm": {
     "name": "#%% md\n"
    }
   }
  },
  {
   "cell_type": "markdown",
   "source": [
    "#### Creating DataFrames"
   ],
   "metadata": {
    "collapsed": false,
    "pycharm": {
     "name": "#%% md\n"
    }
   }
  },
  {
   "cell_type": "code",
   "execution_count": 1,
   "outputs": [
    {
     "data": {
      "text/plain": "         date          type  year  avg_price   size     nb_sold\n0  2015-12-27  conventional  2015       0.95  small  9626901.09\n1  2015-12-20  conventional  2015       0.98  small  8710021.76\n2  2015-12-13  conventional  2015       0.93  small  9855053.66\n3  2015-12-06  conventional  2015       0.89  small  9405464.36\n4  2015-11-29  conventional  2015       0.99  small  8094803.56",
      "text/html": "<div>\n<style scoped>\n    .dataframe tbody tr th:only-of-type {\n        vertical-align: middle;\n    }\n\n    .dataframe tbody tr th {\n        vertical-align: top;\n    }\n\n    .dataframe thead th {\n        text-align: right;\n    }\n</style>\n<table border=\"1\" class=\"dataframe\">\n  <thead>\n    <tr style=\"text-align: right;\">\n      <th></th>\n      <th>date</th>\n      <th>type</th>\n      <th>year</th>\n      <th>avg_price</th>\n      <th>size</th>\n      <th>nb_sold</th>\n    </tr>\n  </thead>\n  <tbody>\n    <tr>\n      <th>0</th>\n      <td>2015-12-27</td>\n      <td>conventional</td>\n      <td>2015</td>\n      <td>0.95</td>\n      <td>small</td>\n      <td>9626901.09</td>\n    </tr>\n    <tr>\n      <th>1</th>\n      <td>2015-12-20</td>\n      <td>conventional</td>\n      <td>2015</td>\n      <td>0.98</td>\n      <td>small</td>\n      <td>8710021.76</td>\n    </tr>\n    <tr>\n      <th>2</th>\n      <td>2015-12-13</td>\n      <td>conventional</td>\n      <td>2015</td>\n      <td>0.93</td>\n      <td>small</td>\n      <td>9855053.66</td>\n    </tr>\n    <tr>\n      <th>3</th>\n      <td>2015-12-06</td>\n      <td>conventional</td>\n      <td>2015</td>\n      <td>0.89</td>\n      <td>small</td>\n      <td>9405464.36</td>\n    </tr>\n    <tr>\n      <th>4</th>\n      <td>2015-11-29</td>\n      <td>conventional</td>\n      <td>2015</td>\n      <td>0.99</td>\n      <td>small</td>\n      <td>8094803.56</td>\n    </tr>\n  </tbody>\n</table>\n</div>"
     },
     "execution_count": 1,
     "metadata": {},
     "output_type": "execute_result"
    }
   ],
   "source": [
    "# importing pandas\n",
    "import pandas as pd\n",
    "\n",
    "# importing sales dataset\n",
    "avocado = pd.read_pickle(\"../datasets/avoplotto.pkl\")\n",
    "avocado.head()"
   ],
   "metadata": {
    "collapsed": false,
    "pycharm": {
     "name": "#%%\n"
    }
   }
  },
  {
   "cell_type": "markdown",
   "source": [
    "#### Dictionaries"
   ],
   "metadata": {
    "collapsed": false,
    "pycharm": {
     "name": "#%% md\n"
    }
   }
  },
  {
   "cell_type": "code",
   "execution_count": 2,
   "outputs": [
    {
     "data": {
      "text/plain": "'value1'"
     },
     "execution_count": 2,
     "metadata": {},
     "output_type": "execute_result"
    }
   ],
   "source": [
    "value1 = \"value1\"\n",
    "value2 = \"value2\"\n",
    "value3 = \"value3\"\n",
    "my_dict = {\n",
    "    \"key1\": value1,\n",
    "    \"key2\": value2,\n",
    "    \"key3\": value3\n",
    "}\n",
    "\n",
    "my_dict[\"key1\"]"
   ],
   "metadata": {
    "collapsed": false,
    "pycharm": {
     "name": "#%%\n"
    }
   }
  },
  {
   "cell_type": "code",
   "execution_count": 3,
   "outputs": [
    {
     "data": {
      "text/plain": "\"Charlotte's Web\""
     },
     "execution_count": 3,
     "metadata": {},
     "output_type": "execute_result"
    }
   ],
   "source": [
    "my_dict = {\n",
    "    \"title\": \"Charlotte's Web\",\n",
    "    \"author\": \"E.B White\",\n",
    "    \"published\": 1952\n",
    "}\n",
    "my_dict[\"title\"]"
   ],
   "metadata": {
    "collapsed": false,
    "pycharm": {
     "name": "#%%\n"
    }
   }
  },
  {
   "cell_type": "markdown",
   "source": [],
   "metadata": {
    "collapsed": false,
    "pycharm": {
     "name": "#%% md\n"
    }
   }
  },
  {
   "cell_type": "markdown",
   "source": [
    "#### Creating DataFrames\n",
    "* From a list of dictionaries\n",
    "  * Constructed row by row\n",
    "* From a dictionary of lists\n",
    "  * Constructed column by column"
   ],
   "metadata": {
    "collapsed": false,
    "pycharm": {
     "name": "#%% md\n"
    }
   }
  },
  {
   "cell_type": "markdown",
   "source": [],
   "metadata": {
    "collapsed": false,
    "pycharm": {
     "name": "#%% md\n"
    }
   }
  },
  {
   "cell_type": "markdown",
   "source": [
    "#### List of dictionaries - by row"
   ],
   "metadata": {
    "collapsed": false,
    "pycharm": {
     "name": "#%% md\n"
    }
   }
  },
  {
   "cell_type": "code",
   "execution_count": 4,
   "outputs": [
    {
     "data": {
      "text/plain": "[{'name': 'Ginger',\n  'breed': 'Dachshund',\n  'height_cm': 22,\n  'weight_kg': 10,\n  'date_of_birth': '2019-03-14'},\n {'name': 'Scout',\n  'breed': 'Dalmatian',\n  'height_cm': 59,\n  'weight_kg': 25,\n  'date_of_birth': '2019-05-09'}]"
     },
     "execution_count": 4,
     "metadata": {},
     "output_type": "execute_result"
    }
   ],
   "source": [
    "list_of_dicts = [\n",
    "    {\"name\": \"Ginger\", \"breed\": \"Dachshund\", \"height_cm\": 22, \"weight_kg\": 10, \"date_of_birth\": \"2019-03-14\"},\n",
    "    {\"name\": \"Scout\", \"breed\": \"Dalmatian\", \"height_cm\": 59, \"weight_kg\": 25, \"date_of_birth\": \"2019-05-09\"}\n",
    "]\n",
    "list_of_dicts"
   ],
   "metadata": {
    "collapsed": false,
    "pycharm": {
     "name": "#%%\n"
    }
   }
  },
  {
   "cell_type": "code",
   "execution_count": 5,
   "outputs": [
    {
     "data": {
      "text/plain": "     name      breed  height_cm  weight_kg date_of_birth\n0  Ginger  Dachshund         22         10    2019-03-14\n1   Scout  Dalmatian         59         25    2019-05-09",
      "text/html": "<div>\n<style scoped>\n    .dataframe tbody tr th:only-of-type {\n        vertical-align: middle;\n    }\n\n    .dataframe tbody tr th {\n        vertical-align: top;\n    }\n\n    .dataframe thead th {\n        text-align: right;\n    }\n</style>\n<table border=\"1\" class=\"dataframe\">\n  <thead>\n    <tr style=\"text-align: right;\">\n      <th></th>\n      <th>name</th>\n      <th>breed</th>\n      <th>height_cm</th>\n      <th>weight_kg</th>\n      <th>date_of_birth</th>\n    </tr>\n  </thead>\n  <tbody>\n    <tr>\n      <th>0</th>\n      <td>Ginger</td>\n      <td>Dachshund</td>\n      <td>22</td>\n      <td>10</td>\n      <td>2019-03-14</td>\n    </tr>\n    <tr>\n      <th>1</th>\n      <td>Scout</td>\n      <td>Dalmatian</td>\n      <td>59</td>\n      <td>25</td>\n      <td>2019-05-09</td>\n    </tr>\n  </tbody>\n</table>\n</div>"
     },
     "execution_count": 5,
     "metadata": {},
     "output_type": "execute_result"
    }
   ],
   "source": [
    "new_dogs = pd.DataFrame(list_of_dicts)\n",
    "new_dogs"
   ],
   "metadata": {
    "collapsed": false,
    "pycharm": {
     "name": "#%%\n"
    }
   }
  },
  {
   "cell_type": "markdown",
   "source": [],
   "metadata": {
    "collapsed": false,
    "pycharm": {
     "name": "#%% md\n"
    }
   }
  },
  {
   "cell_type": "markdown",
   "source": [
    "#### Dictionary of lists - by column"
   ],
   "metadata": {
    "collapsed": false,
    "pycharm": {
     "name": "#%% md\n"
    }
   }
  },
  {
   "cell_type": "code",
   "execution_count": 6,
   "outputs": [
    {
     "data": {
      "text/plain": "{'name': ['Ginger', 'Scout'],\n 'breed': ['Dachshund', 'Dalmatian'],\n 'height_cm': [22, 59],\n 'weight_kg': [10, 25],\n 'date_of_birth': ['2019-03-14', '2019-05-09']}"
     },
     "execution_count": 6,
     "metadata": {},
     "output_type": "execute_result"
    }
   ],
   "source": [
    "dict_of_lists = {\n",
    "    \"name\": [\"Ginger\", \"Scout\"],\n",
    "    \"breed\": [\"Dachshund\", \"Dalmatian\"],\n",
    "    \"height_cm\": [22, 59],\n",
    "    \"weight_kg\": [10, 25],\n",
    "    \"date_of_birth\": [\"2019-03-14\", \"2019-05-09\"],\n",
    "}\n",
    "dict_of_lists"
   ],
   "metadata": {
    "collapsed": false,
    "pycharm": {
     "name": "#%%\n"
    }
   }
  },
  {
   "cell_type": "code",
   "execution_count": 8,
   "outputs": [
    {
     "data": {
      "text/plain": "     name      breed  height_cm  weight_kg date_of_birth\n0  Ginger  Dachshund         22         10    2019-03-14\n1   Scout  Dalmatian         59         25    2019-05-09",
      "text/html": "<div>\n<style scoped>\n    .dataframe tbody tr th:only-of-type {\n        vertical-align: middle;\n    }\n\n    .dataframe tbody tr th {\n        vertical-align: top;\n    }\n\n    .dataframe thead th {\n        text-align: right;\n    }\n</style>\n<table border=\"1\" class=\"dataframe\">\n  <thead>\n    <tr style=\"text-align: right;\">\n      <th></th>\n      <th>name</th>\n      <th>breed</th>\n      <th>height_cm</th>\n      <th>weight_kg</th>\n      <th>date_of_birth</th>\n    </tr>\n  </thead>\n  <tbody>\n    <tr>\n      <th>0</th>\n      <td>Ginger</td>\n      <td>Dachshund</td>\n      <td>22</td>\n      <td>10</td>\n      <td>2019-03-14</td>\n    </tr>\n    <tr>\n      <th>1</th>\n      <td>Scout</td>\n      <td>Dalmatian</td>\n      <td>59</td>\n      <td>25</td>\n      <td>2019-05-09</td>\n    </tr>\n  </tbody>\n</table>\n</div>"
     },
     "execution_count": 8,
     "metadata": {},
     "output_type": "execute_result"
    }
   ],
   "source": [
    "new_dogs = pd.DataFrame(dict_of_lists)\n",
    "new_dogs"
   ],
   "metadata": {
    "collapsed": false,
    "pycharm": {
     "name": "#%%\n"
    }
   }
  }
 ],
 "metadata": {
  "kernelspec": {
   "display_name": "Python 3",
   "language": "python",
   "name": "python3"
  },
  "language_info": {
   "codemirror_mode": {
    "name": "ipython",
    "version": 2
   },
   "file_extension": ".py",
   "mimetype": "text/x-python",
   "name": "python",
   "nbconvert_exporter": "python",
   "pygments_lexer": "ipython2",
   "version": "2.7.6"
  }
 },
 "nbformat": 4,
 "nbformat_minor": 0
}