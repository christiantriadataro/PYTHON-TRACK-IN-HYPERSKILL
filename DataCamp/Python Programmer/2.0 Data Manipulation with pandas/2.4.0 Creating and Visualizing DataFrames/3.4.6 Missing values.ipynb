{
 "cells": [
  {
   "cell_type": "markdown",
   "source": [
    "## Visualizing your data"
   ],
   "metadata": {
    "collapsed": false,
    "pycharm": {
     "name": "#%% md\n"
    }
   }
  },
  {
   "cell_type": "markdown",
   "source": [
    "#### Missing values"
   ],
   "metadata": {
    "collapsed": false,
    "pycharm": {
     "name": "#%% md\n"
    }
   }
  },
  {
   "cell_type": "code",
   "execution_count": 1,
   "outputs": [
    {
     "data": {
      "text/plain": "         date          type  year  avg_price   size     nb_sold\n0  2015-12-27  conventional  2015       0.95  small  9626901.09\n1  2015-12-20  conventional  2015       0.98  small  8710021.76\n2  2015-12-13  conventional  2015       0.93  small  9855053.66\n3  2015-12-06  conventional  2015       0.89  small  9405464.36\n4  2015-11-29  conventional  2015       0.99  small  8094803.56",
      "text/html": "<div>\n<style scoped>\n    .dataframe tbody tr th:only-of-type {\n        vertical-align: middle;\n    }\n\n    .dataframe tbody tr th {\n        vertical-align: top;\n    }\n\n    .dataframe thead th {\n        text-align: right;\n    }\n</style>\n<table border=\"1\" class=\"dataframe\">\n  <thead>\n    <tr style=\"text-align: right;\">\n      <th></th>\n      <th>date</th>\n      <th>type</th>\n      <th>year</th>\n      <th>avg_price</th>\n      <th>size</th>\n      <th>nb_sold</th>\n    </tr>\n  </thead>\n  <tbody>\n    <tr>\n      <th>0</th>\n      <td>2015-12-27</td>\n      <td>conventional</td>\n      <td>2015</td>\n      <td>0.95</td>\n      <td>small</td>\n      <td>9626901.09</td>\n    </tr>\n    <tr>\n      <th>1</th>\n      <td>2015-12-20</td>\n      <td>conventional</td>\n      <td>2015</td>\n      <td>0.98</td>\n      <td>small</td>\n      <td>8710021.76</td>\n    </tr>\n    <tr>\n      <th>2</th>\n      <td>2015-12-13</td>\n      <td>conventional</td>\n      <td>2015</td>\n      <td>0.93</td>\n      <td>small</td>\n      <td>9855053.66</td>\n    </tr>\n    <tr>\n      <th>3</th>\n      <td>2015-12-06</td>\n      <td>conventional</td>\n      <td>2015</td>\n      <td>0.89</td>\n      <td>small</td>\n      <td>9405464.36</td>\n    </tr>\n    <tr>\n      <th>4</th>\n      <td>2015-11-29</td>\n      <td>conventional</td>\n      <td>2015</td>\n      <td>0.99</td>\n      <td>small</td>\n      <td>8094803.56</td>\n    </tr>\n  </tbody>\n</table>\n</div>"
     },
     "execution_count": 1,
     "metadata": {},
     "output_type": "execute_result"
    }
   ],
   "source": [
    "# importing pandas\n",
    "import pandas as pd\n",
    "\n",
    "# importing sales dataset\n",
    "avocado = pd.read_pickle(\"../datasets/avoplotto.pkl\")\n",
    "avocado.head()"
   ],
   "metadata": {
    "collapsed": false,
    "pycharm": {
     "name": "#%%\n"
    }
   }
  },
  {
   "cell_type": "markdown",
   "source": [
    "#### Detecting missing values"
   ],
   "metadata": {
    "collapsed": false,
    "pycharm": {
     "name": "#%% md\n"
    }
   }
  },
  {
   "cell_type": "code",
   "execution_count": 2,
   "outputs": [
    {
     "data": {
      "text/plain": "       date   type   year  avg_price   size  nb_sold\n0     False  False  False      False  False    False\n1     False  False  False      False  False    False\n2     False  False  False      False  False    False\n3     False  False  False      False  False    False\n4     False  False  False      False  False    False\n...     ...    ...    ...        ...    ...      ...\n1009  False  False  False      False  False    False\n1010  False  False  False      False  False    False\n1011  False  False  False      False  False    False\n1012  False  False  False      False  False    False\n1013  False  False  False      False  False    False\n\n[1014 rows x 6 columns]",
      "text/html": "<div>\n<style scoped>\n    .dataframe tbody tr th:only-of-type {\n        vertical-align: middle;\n    }\n\n    .dataframe tbody tr th {\n        vertical-align: top;\n    }\n\n    .dataframe thead th {\n        text-align: right;\n    }\n</style>\n<table border=\"1\" class=\"dataframe\">\n  <thead>\n    <tr style=\"text-align: right;\">\n      <th></th>\n      <th>date</th>\n      <th>type</th>\n      <th>year</th>\n      <th>avg_price</th>\n      <th>size</th>\n      <th>nb_sold</th>\n    </tr>\n  </thead>\n  <tbody>\n    <tr>\n      <th>0</th>\n      <td>False</td>\n      <td>False</td>\n      <td>False</td>\n      <td>False</td>\n      <td>False</td>\n      <td>False</td>\n    </tr>\n    <tr>\n      <th>1</th>\n      <td>False</td>\n      <td>False</td>\n      <td>False</td>\n      <td>False</td>\n      <td>False</td>\n      <td>False</td>\n    </tr>\n    <tr>\n      <th>2</th>\n      <td>False</td>\n      <td>False</td>\n      <td>False</td>\n      <td>False</td>\n      <td>False</td>\n      <td>False</td>\n    </tr>\n    <tr>\n      <th>3</th>\n      <td>False</td>\n      <td>False</td>\n      <td>False</td>\n      <td>False</td>\n      <td>False</td>\n      <td>False</td>\n    </tr>\n    <tr>\n      <th>4</th>\n      <td>False</td>\n      <td>False</td>\n      <td>False</td>\n      <td>False</td>\n      <td>False</td>\n      <td>False</td>\n    </tr>\n    <tr>\n      <th>...</th>\n      <td>...</td>\n      <td>...</td>\n      <td>...</td>\n      <td>...</td>\n      <td>...</td>\n      <td>...</td>\n    </tr>\n    <tr>\n      <th>1009</th>\n      <td>False</td>\n      <td>False</td>\n      <td>False</td>\n      <td>False</td>\n      <td>False</td>\n      <td>False</td>\n    </tr>\n    <tr>\n      <th>1010</th>\n      <td>False</td>\n      <td>False</td>\n      <td>False</td>\n      <td>False</td>\n      <td>False</td>\n      <td>False</td>\n    </tr>\n    <tr>\n      <th>1011</th>\n      <td>False</td>\n      <td>False</td>\n      <td>False</td>\n      <td>False</td>\n      <td>False</td>\n      <td>False</td>\n    </tr>\n    <tr>\n      <th>1012</th>\n      <td>False</td>\n      <td>False</td>\n      <td>False</td>\n      <td>False</td>\n      <td>False</td>\n      <td>False</td>\n    </tr>\n    <tr>\n      <th>1013</th>\n      <td>False</td>\n      <td>False</td>\n      <td>False</td>\n      <td>False</td>\n      <td>False</td>\n      <td>False</td>\n    </tr>\n  </tbody>\n</table>\n<p>1014 rows × 6 columns</p>\n</div>"
     },
     "execution_count": 2,
     "metadata": {},
     "output_type": "execute_result"
    }
   ],
   "source": [
    "avocado.isna()"
   ],
   "metadata": {
    "collapsed": false,
    "pycharm": {
     "name": "#%%\n"
    }
   }
  },
  {
   "cell_type": "markdown",
   "source": [],
   "metadata": {
    "collapsed": false,
    "pycharm": {
     "name": "#%% md\n"
    }
   }
  },
  {
   "cell_type": "markdown",
   "source": [
    "#### Detecting any missing values"
   ],
   "metadata": {
    "collapsed": false,
    "pycharm": {
     "name": "#%% md\n"
    }
   }
  },
  {
   "cell_type": "code",
   "execution_count": 3,
   "outputs": [
    {
     "data": {
      "text/plain": "date         False\ntype         False\nyear         False\navg_price    False\nsize         False\nnb_sold      False\ndtype: bool"
     },
     "execution_count": 3,
     "metadata": {},
     "output_type": "execute_result"
    }
   ],
   "source": [
    "avocado.isna().any()"
   ],
   "metadata": {
    "collapsed": false,
    "pycharm": {
     "name": "#%%\n"
    }
   }
  },
  {
   "cell_type": "markdown",
   "source": [],
   "metadata": {
    "collapsed": false,
    "pycharm": {
     "name": "#%% md\n"
    }
   }
  },
  {
   "cell_type": "markdown",
   "source": [
    "#### Counting missing values"
   ],
   "metadata": {
    "collapsed": false,
    "pycharm": {
     "name": "#%% md\n"
    }
   }
  },
  {
   "cell_type": "code",
   "execution_count": 4,
   "outputs": [
    {
     "data": {
      "text/plain": "date         0\ntype         0\nyear         0\navg_price    0\nsize         0\nnb_sold      0\ndtype: int64"
     },
     "execution_count": 4,
     "metadata": {},
     "output_type": "execute_result"
    }
   ],
   "source": [
    "avocado.isna().sum()"
   ],
   "metadata": {
    "collapsed": false,
    "pycharm": {
     "name": "#%%\n"
    }
   }
  },
  {
   "cell_type": "markdown",
   "source": [
    "#### Plotting missing values"
   ],
   "metadata": {
    "collapsed": false,
    "pycharm": {
     "name": "#%% md\n"
    }
   }
  },
  {
   "cell_type": "code",
   "execution_count": 5,
   "outputs": [
    {
     "data": {
      "text/plain": "<Figure size 432x288 with 1 Axes>",
      "image/png": "[encoded data removed]"
     },
     "metadata": {
      "needs_background": "light"
     },
     "output_type": "display_data"
    }
   ],
   "source": [
    "import matplotlib.pyplot as plt\n",
    "avocado.isna().sum().plot(kind=\"bar\")\n",
    "plt.show()"
   ],
   "metadata": {
    "collapsed": false,
    "pycharm": {
     "name": "#%%\n"
    }
   }
  },
  {
   "cell_type": "markdown",
   "source": [
    "#### Removing missing values"
   ],
   "metadata": {
    "collapsed": false,
    "pycharm": {
     "name": "#%% md\n"
    }
   }
  },
  {
   "cell_type": "code",
   "execution_count": 6,
   "outputs": [
    {
     "data": {
      "text/plain": "            date          type  year  avg_price         size     nb_sold\n0     2015-12-27  conventional  2015       0.95        small  9626901.09\n1     2015-12-20  conventional  2015       0.98        small  8710021.76\n2     2015-12-13  conventional  2015       0.93        small  9855053.66\n3     2015-12-06  conventional  2015       0.89        small  9405464.36\n4     2015-11-29  conventional  2015       0.99        small  8094803.56\n...          ...           ...   ...        ...          ...         ...\n1009  2018-02-04       organic  2018       1.53  extra_large     1703.52\n1010  2018-01-28       organic  2018       1.61  extra_large     1270.61\n1011  2018-01-21       organic  2018       1.63  extra_large     1490.02\n1012  2018-01-14       organic  2018       1.59  extra_large     1580.01\n1013  2018-01-07       organic  2018       1.51  extra_large     1289.07\n\n[1014 rows x 6 columns]",
      "text/html": "<div>\n<style scoped>\n    .dataframe tbody tr th:only-of-type {\n        vertical-align: middle;\n    }\n\n    .dataframe tbody tr th {\n        vertical-align: top;\n    }\n\n    .dataframe thead th {\n        text-align: right;\n    }\n</style>\n<table border=\"1\" class=\"dataframe\">\n  <thead>\n    <tr style=\"text-align: right;\">\n      <th></th>\n      <th>date</th>\n      <th>type</th>\n      <th>year</th>\n      <th>avg_price</th>\n      <th>size</th>\n      <th>nb_sold</th>\n    </tr>\n  </thead>\n  <tbody>\n    <tr>\n      <th>0</th>\n      <td>2015-12-27</td>\n      <td>conventional</td>\n      <td>2015</td>\n      <td>0.95</td>\n      <td>small</td>\n      <td>9626901.09</td>\n    </tr>\n    <tr>\n      <th>1</th>\n      <td>2015-12-20</td>\n      <td>conventional</td>\n      <td>2015</td>\n      <td>0.98</td>\n      <td>small</td>\n      <td>8710021.76</td>\n    </tr>\n    <tr>\n      <th>2</th>\n      <td>2015-12-13</td>\n      <td>conventional</td>\n      <td>2015</td>\n      <td>0.93</td>\n      <td>small</td>\n      <td>9855053.66</td>\n    </tr>\n    <tr>\n      <th>3</th>\n      <td>2015-12-06</td>\n      <td>conventional</td>\n      <td>2015</td>\n      <td>0.89</td>\n      <td>small</td>\n      <td>9405464.36</td>\n    </tr>\n    <tr>\n      <th>4</th>\n      <td>2015-11-29</td>\n      <td>conventional</td>\n      <td>2015</td>\n      <td>0.99</td>\n      <td>small</td>\n      <td>8094803.56</td>\n    </tr>\n    <tr>\n      <th>...</th>\n      <td>...</td>\n      <td>...</td>\n      <td>...</td>\n      <td>...</td>\n      <td>...</td>\n      <td>...</td>\n    </tr>\n    <tr>\n      <th>1009</th>\n      <td>2018-02-04</td>\n      <td>organic</td>\n      <td>2018</td>\n      <td>1.53</td>\n      <td>extra_large</td>\n      <td>1703.52</td>\n    </tr>\n    <tr>\n      <th>1010</th>\n      <td>2018-01-28</td>\n      <td>organic</td>\n      <td>2018</td>\n      <td>1.61</td>\n      <td>extra_large</td>\n      <td>1270.61</td>\n    </tr>\n    <tr>\n      <th>1011</th>\n      <td>2018-01-21</td>\n      <td>organic</td>\n      <td>2018</td>\n      <td>1.63</td>\n      <td>extra_large</td>\n      <td>1490.02</td>\n    </tr>\n    <tr>\n      <th>1012</th>\n      <td>2018-01-14</td>\n      <td>organic</td>\n      <td>2018</td>\n      <td>1.59</td>\n      <td>extra_large</td>\n      <td>1580.01</td>\n    </tr>\n    <tr>\n      <th>1013</th>\n      <td>2018-01-07</td>\n      <td>organic</td>\n      <td>2018</td>\n      <td>1.51</td>\n      <td>extra_large</td>\n      <td>1289.07</td>\n    </tr>\n  </tbody>\n</table>\n<p>1014 rows × 6 columns</p>\n</div>"
     },
     "execution_count": 6,
     "metadata": {},
     "output_type": "execute_result"
    }
   ],
   "source": [
    "avocado.dropna()"
   ],
   "metadata": {
    "collapsed": false,
    "pycharm": {
     "name": "#%%\n"
    }
   }
  },
  {
   "cell_type": "markdown",
   "source": [
    "#### Replacing missing values"
   ],
   "metadata": {
    "collapsed": false,
    "pycharm": {
     "name": "#%% md\n"
    }
   }
  },
  {
   "cell_type": "code",
   "execution_count": 8,
   "outputs": [
    {
     "data": {
      "text/plain": "            date          type  year  avg_price         size     nb_sold\n0     2015-12-27  conventional  2015       0.95        small  9626901.09\n1     2015-12-20  conventional  2015       0.98        small  8710021.76\n2     2015-12-13  conventional  2015       0.93        small  9855053.66\n3     2015-12-06  conventional  2015       0.89        small  9405464.36\n4     2015-11-29  conventional  2015       0.99        small  8094803.56\n...          ...           ...   ...        ...          ...         ...\n1009  2018-02-04       organic  2018       1.53  extra_large     1703.52\n1010  2018-01-28       organic  2018       1.61  extra_large     1270.61\n1011  2018-01-21       organic  2018       1.63  extra_large     1490.02\n1012  2018-01-14       organic  2018       1.59  extra_large     1580.01\n1013  2018-01-07       organic  2018       1.51  extra_large     1289.07\n\n[1014 rows x 6 columns]",
      "text/html": "<div>\n<style scoped>\n    .dataframe tbody tr th:only-of-type {\n        vertical-align: middle;\n    }\n\n    .dataframe tbody tr th {\n        vertical-align: top;\n    }\n\n    .dataframe thead th {\n        text-align: right;\n    }\n</style>\n<table border=\"1\" class=\"dataframe\">\n  <thead>\n    <tr style=\"text-align: right;\">\n      <th></th>\n      <th>date</th>\n      <th>type</th>\n      <th>year</th>\n      <th>avg_price</th>\n      <th>size</th>\n      <th>nb_sold</th>\n    </tr>\n  </thead>\n  <tbody>\n    <tr>\n      <th>0</th>\n      <td>2015-12-27</td>\n      <td>conventional</td>\n      <td>2015</td>\n      <td>0.95</td>\n      <td>small</td>\n      <td>9626901.09</td>\n    </tr>\n    <tr>\n      <th>1</th>\n      <td>2015-12-20</td>\n      <td>conventional</td>\n      <td>2015</td>\n      <td>0.98</td>\n      <td>small</td>\n      <td>8710021.76</td>\n    </tr>\n    <tr>\n      <th>2</th>\n      <td>2015-12-13</td>\n      <td>conventional</td>\n      <td>2015</td>\n      <td>0.93</td>\n      <td>small</td>\n      <td>9855053.66</td>\n    </tr>\n    <tr>\n      <th>3</th>\n      <td>2015-12-06</td>\n      <td>conventional</td>\n      <td>2015</td>\n      <td>0.89</td>\n      <td>small</td>\n      <td>9405464.36</td>\n    </tr>\n    <tr>\n      <th>4</th>\n      <td>2015-11-29</td>\n      <td>conventional</td>\n      <td>2015</td>\n      <td>0.99</td>\n      <td>small</td>\n      <td>8094803.56</td>\n    </tr>\n    <tr>\n      <th>...</th>\n      <td>...</td>\n      <td>...</td>\n      <td>...</td>\n      <td>...</td>\n      <td>...</td>\n      <td>...</td>\n    </tr>\n    <tr>\n      <th>1009</th>\n      <td>2018-02-04</td>\n      <td>organic</td>\n      <td>2018</td>\n      <td>1.53</td>\n      <td>extra_large</td>\n      <td>1703.52</td>\n    </tr>\n    <tr>\n      <th>1010</th>\n      <td>2018-01-28</td>\n      <td>organic</td>\n      <td>2018</td>\n      <td>1.61</td>\n      <td>extra_large</td>\n      <td>1270.61</td>\n    </tr>\n    <tr>\n      <th>1011</th>\n      <td>2018-01-21</td>\n      <td>organic</td>\n      <td>2018</td>\n      <td>1.63</td>\n      <td>extra_large</td>\n      <td>1490.02</td>\n    </tr>\n    <tr>\n      <th>1012</th>\n      <td>2018-01-14</td>\n      <td>organic</td>\n      <td>2018</td>\n      <td>1.59</td>\n      <td>extra_large</td>\n      <td>1580.01</td>\n    </tr>\n    <tr>\n      <th>1013</th>\n      <td>2018-01-07</td>\n      <td>organic</td>\n      <td>2018</td>\n      <td>1.51</td>\n      <td>extra_large</td>\n      <td>1289.07</td>\n    </tr>\n  </tbody>\n</table>\n<p>1014 rows × 6 columns</p>\n</div>"
     },
     "execution_count": 8,
     "metadata": {},
     "output_type": "execute_result"
    }
   ],
   "source": [
    "avocado.fillna(0)"
   ],
   "metadata": {
    "collapsed": false,
    "pycharm": {
     "name": "#%%\n"
    }
   }
  }
 ],
 "metadata": {
  "kernelspec": {
   "display_name": "Python 3",
   "language": "python",
   "name": "python3"
  },
  "language_info": {
   "codemirror_mode": {
    "name": "ipython",
    "version": 2
   },
   "file_extension": ".py",
   "mimetype": "text/x-python",
   "name": "python",
   "nbconvert_exporter": "python",
   "pygments_lexer": "ipython2",
   "version": "2.7.6"
  }
 },
 "nbformat": 4,
 "nbformat_minor": 0
}