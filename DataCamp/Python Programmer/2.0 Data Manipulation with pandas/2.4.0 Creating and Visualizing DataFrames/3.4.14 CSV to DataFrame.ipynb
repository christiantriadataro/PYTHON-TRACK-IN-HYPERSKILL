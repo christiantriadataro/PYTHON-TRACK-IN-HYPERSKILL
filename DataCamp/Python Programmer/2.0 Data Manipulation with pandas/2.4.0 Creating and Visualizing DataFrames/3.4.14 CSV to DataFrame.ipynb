{
 "cells": [
  {
   "cell_type": "markdown",
   "source": [
    "## Visualizing DataFrames"
   ],
   "metadata": {
    "collapsed": false,
    "pycharm": {
     "name": "#%% md\n"
    }
   }
  },
  {
   "cell_type": "markdown",
   "source": [
    "#### CSV to DataFrame"
   ],
   "metadata": {
    "collapsed": false,
    "pycharm": {
     "name": "#%% md\n"
    }
   }
  },
  {
   "cell_type": "markdown",
   "source": [
    "You work for an airline, and your manager has asked you to do a competitive analysis and see how often passengers flying on other airlines are involuntarily bumped from their flights. You got a CSV file (`airline_bumping.csv`) from the Department of Transportation containing data on passengers that were involuntarily denied boarding in 2016 and 2017, but it doesn't have the exact numbers you want. In order to figure this out, you'll need to get the CSV into a pandas DataFrame and do some manipulation!\n",
    "`pandas` is imported you as `pd`.\n",
    "`\"airline_bumping.csv\"` is in your working directory."
   ],
   "metadata": {
    "collapsed": false,
    "pycharm": {
     "name": "#%% md\n"
    }
   }
  },
  {
   "cell_type": "code",
   "execution_count": 1,
   "outputs": [],
   "source": [
    "# importing pandas\n",
    "import pandas as pd"
   ],
   "metadata": {
    "collapsed": false,
    "pycharm": {
     "name": "#%%\n"
    }
   }
  },
  {
   "cell_type": "markdown",
   "source": [
    "### Instructions"
   ],
   "metadata": {
    "collapsed": false,
    "pycharm": {
     "name": "#%% md\n"
    }
   }
  },
  {
   "cell_type": "markdown",
   "source": [
    "* Read the CSV file `\"airline_bumping.csv\"` and store it as a DataFrame called `airline_bumping`.\n",
    "* Print the first few rows of `airline_bumping`."
   ],
   "metadata": {
    "collapsed": false,
    "pycharm": {
     "name": "#%% md\n"
    }
   }
  },
  {
   "cell_type": "code",
   "execution_count": 2,
   "outputs": [
    {
     "data": {
      "text/plain": "             airline  year  nb_bumped  total_passengers\n0    DELTA AIR LINES  2017        679        99796155.0\n1     VIRGIN AMERICA  2017        165         6090029.0\n2    JETBLUE AIRWAYS  2017       1475        27255038.0\n3    UNITED AIRLINES  2017       2067        70030765.0\n4  HAWAIIAN AIRLINES  2017         92         8422734.0",
      "text/html": "<div>\n<style scoped>\n    .dataframe tbody tr th:only-of-type {\n        vertical-align: middle;\n    }\n\n    .dataframe tbody tr th {\n        vertical-align: top;\n    }\n\n    .dataframe thead th {\n        text-align: right;\n    }\n</style>\n<table border=\"1\" class=\"dataframe\">\n  <thead>\n    <tr style=\"text-align: right;\">\n      <th></th>\n      <th>airline</th>\n      <th>year</th>\n      <th>nb_bumped</th>\n      <th>total_passengers</th>\n    </tr>\n  </thead>\n  <tbody>\n    <tr>\n      <th>0</th>\n      <td>DELTA AIR LINES</td>\n      <td>2017</td>\n      <td>679</td>\n      <td>99796155.0</td>\n    </tr>\n    <tr>\n      <th>1</th>\n      <td>VIRGIN AMERICA</td>\n      <td>2017</td>\n      <td>165</td>\n      <td>6090029.0</td>\n    </tr>\n    <tr>\n      <th>2</th>\n      <td>JETBLUE AIRWAYS</td>\n      <td>2017</td>\n      <td>1475</td>\n      <td>27255038.0</td>\n    </tr>\n    <tr>\n      <th>3</th>\n      <td>UNITED AIRLINES</td>\n      <td>2017</td>\n      <td>2067</td>\n      <td>70030765.0</td>\n    </tr>\n    <tr>\n      <th>4</th>\n      <td>HAWAIIAN AIRLINES</td>\n      <td>2017</td>\n      <td>92</td>\n      <td>8422734.0</td>\n    </tr>\n  </tbody>\n</table>\n</div>"
     },
     "execution_count": 2,
     "metadata": {},
     "output_type": "execute_result"
    }
   ],
   "source": [
    "# Read CSV as DataFrame called airline_bumpinng\n",
    "airline_bumping = pd.read_csv(\"../datasets/airline_bumping.csv\")\n",
    "airline_bumping.head()"
   ],
   "metadata": {
    "collapsed": false,
    "pycharm": {
     "name": "#%%\n"
    }
   }
  },
  {
   "cell_type": "code",
   "execution_count": 4,
   "outputs": [
    {
     "data": {
      "text/plain": "                     nb_bumped  total_passengers\nairline                                         \nALASKA AIRLINES           1392        36543121.0\nAMERICAN AIRLINES     98023730        99348093.0\nDELTA AIR LINES           1591       197033215.0\nEXPRESSJET AIRLINES       3326        27858678.0\nFRONTIER AIRLINES         1228        22954995.0\nHAWAIIAN AIRLINES          122        16577572.0\nJETBLUE AIRWAYS           3615        53245866.0\nSKYWEST AIRLINES          3094        47091737.0\nSOUTHWEST AIRLINES       18585       228142036.0\nSPIRIT AIRLINES           2920        32304571.0\nUNITED AIRLINES           4941       134468897.0\nVIRGIN AMERICA             242        12017967.0",
      "text/html": "<div>\n<style scoped>\n    .dataframe tbody tr th:only-of-type {\n        vertical-align: middle;\n    }\n\n    .dataframe tbody tr th {\n        vertical-align: top;\n    }\n\n    .dataframe thead th {\n        text-align: right;\n    }\n</style>\n<table border=\"1\" class=\"dataframe\">\n  <thead>\n    <tr style=\"text-align: right;\">\n      <th></th>\n      <th>nb_bumped</th>\n      <th>total_passengers</th>\n    </tr>\n    <tr>\n      <th>airline</th>\n      <th></th>\n      <th></th>\n    </tr>\n  </thead>\n  <tbody>\n    <tr>\n      <th>ALASKA AIRLINES</th>\n      <td>1392</td>\n      <td>36543121.0</td>\n    </tr>\n    <tr>\n      <th>AMERICAN AIRLINES</th>\n      <td>98023730</td>\n      <td>99348093.0</td>\n    </tr>\n    <tr>\n      <th>DELTA AIR LINES</th>\n      <td>1591</td>\n      <td>197033215.0</td>\n    </tr>\n    <tr>\n      <th>EXPRESSJET AIRLINES</th>\n      <td>3326</td>\n      <td>27858678.0</td>\n    </tr>\n    <tr>\n      <th>FRONTIER AIRLINES</th>\n      <td>1228</td>\n      <td>22954995.0</td>\n    </tr>\n    <tr>\n      <th>HAWAIIAN AIRLINES</th>\n      <td>122</td>\n      <td>16577572.0</td>\n    </tr>\n    <tr>\n      <th>JETBLUE AIRWAYS</th>\n      <td>3615</td>\n      <td>53245866.0</td>\n    </tr>\n    <tr>\n      <th>SKYWEST AIRLINES</th>\n      <td>3094</td>\n      <td>47091737.0</td>\n    </tr>\n    <tr>\n      <th>SOUTHWEST AIRLINES</th>\n      <td>18585</td>\n      <td>228142036.0</td>\n    </tr>\n    <tr>\n      <th>SPIRIT AIRLINES</th>\n      <td>2920</td>\n      <td>32304571.0</td>\n    </tr>\n    <tr>\n      <th>UNITED AIRLINES</th>\n      <td>4941</td>\n      <td>134468897.0</td>\n    </tr>\n    <tr>\n      <th>VIRGIN AMERICA</th>\n      <td>242</td>\n      <td>12017967.0</td>\n    </tr>\n  </tbody>\n</table>\n</div>"
     },
     "execution_count": 4,
     "metadata": {},
     "output_type": "execute_result"
    }
   ],
   "source": [
    "# For each airline, select nb_bumped and total_passengers and sum\n",
    "airline_totals = airline_bumping.groupby(\"airline\")[[\"nb_bumped\",\"total_passengers\"]].sum()\n",
    "airline_totals"
   ],
   "metadata": {
    "collapsed": false,
    "pycharm": {
     "name": "#%%\n"
    }
   }
  },
  {
   "cell_type": "code",
   "execution_count": 5,
   "outputs": [
    {
     "data": {
      "text/plain": "                     nb_bumped  total_passengers  bumps_per_10k\nairline                                                        \nALASKA AIRLINES           1392        36543121.0       0.380920\nAMERICAN AIRLINES     98023730        99348093.0    9866.694673\nDELTA AIR LINES           1591       197033215.0       0.080748\nEXPRESSJET AIRLINES       3326        27858678.0       1.193883\nFRONTIER AIRLINES         1228        22954995.0       0.534960\nHAWAIIAN AIRLINES          122        16577572.0       0.073593\nJETBLUE AIRWAYS           3615        53245866.0       0.678926\nSKYWEST AIRLINES          3094        47091737.0       0.657015\nSOUTHWEST AIRLINES       18585       228142036.0       0.814624\nSPIRIT AIRLINES           2920        32304571.0       0.903897\nUNITED AIRLINES           4941       134468897.0       0.367446\nVIRGIN AMERICA             242        12017967.0       0.201365",
      "text/html": "<div>\n<style scoped>\n    .dataframe tbody tr th:only-of-type {\n        vertical-align: middle;\n    }\n\n    .dataframe tbody tr th {\n        vertical-align: top;\n    }\n\n    .dataframe thead th {\n        text-align: right;\n    }\n</style>\n<table border=\"1\" class=\"dataframe\">\n  <thead>\n    <tr style=\"text-align: right;\">\n      <th></th>\n      <th>nb_bumped</th>\n      <th>total_passengers</th>\n      <th>bumps_per_10k</th>\n    </tr>\n    <tr>\n      <th>airline</th>\n      <th></th>\n      <th></th>\n      <th></th>\n    </tr>\n  </thead>\n  <tbody>\n    <tr>\n      <th>ALASKA AIRLINES</th>\n      <td>1392</td>\n      <td>36543121.0</td>\n      <td>0.380920</td>\n    </tr>\n    <tr>\n      <th>AMERICAN AIRLINES</th>\n      <td>98023730</td>\n      <td>99348093.0</td>\n      <td>9866.694673</td>\n    </tr>\n    <tr>\n      <th>DELTA AIR LINES</th>\n      <td>1591</td>\n      <td>197033215.0</td>\n      <td>0.080748</td>\n    </tr>\n    <tr>\n      <th>EXPRESSJET AIRLINES</th>\n      <td>3326</td>\n      <td>27858678.0</td>\n      <td>1.193883</td>\n    </tr>\n    <tr>\n      <th>FRONTIER AIRLINES</th>\n      <td>1228</td>\n      <td>22954995.0</td>\n      <td>0.534960</td>\n    </tr>\n    <tr>\n      <th>HAWAIIAN AIRLINES</th>\n      <td>122</td>\n      <td>16577572.0</td>\n      <td>0.073593</td>\n    </tr>\n    <tr>\n      <th>JETBLUE AIRWAYS</th>\n      <td>3615</td>\n      <td>53245866.0</td>\n      <td>0.678926</td>\n    </tr>\n    <tr>\n      <th>SKYWEST AIRLINES</th>\n      <td>3094</td>\n      <td>47091737.0</td>\n      <td>0.657015</td>\n    </tr>\n    <tr>\n      <th>SOUTHWEST AIRLINES</th>\n      <td>18585</td>\n      <td>228142036.0</td>\n      <td>0.814624</td>\n    </tr>\n    <tr>\n      <th>SPIRIT AIRLINES</th>\n      <td>2920</td>\n      <td>32304571.0</td>\n      <td>0.903897</td>\n    </tr>\n    <tr>\n      <th>UNITED AIRLINES</th>\n      <td>4941</td>\n      <td>134468897.0</td>\n      <td>0.367446</td>\n    </tr>\n    <tr>\n      <th>VIRGIN AMERICA</th>\n      <td>242</td>\n      <td>12017967.0</td>\n      <td>0.201365</td>\n    </tr>\n  </tbody>\n</table>\n</div>"
     },
     "execution_count": 5,
     "metadata": {},
     "output_type": "execute_result"
    }
   ],
   "source": [
    "# Create a new col, bumps_per_10k: no. of bumps per 10k passengers for each airline\n",
    "airline_totals[\"bumps_per_10k\"] = airline_totals[\"nb_bumped\"] / airline_totals[\"total_passengers\"] * 10000\n",
    "airline_totals"
   ],
   "metadata": {
    "collapsed": false,
    "pycharm": {
     "name": "#%%\n"
    }
   }
  }
 ],
 "metadata": {
  "kernelspec": {
   "display_name": "Python 3",
   "language": "python",
   "name": "python3"
  },
  "language_info": {
   "codemirror_mode": {
    "name": "ipython",
    "version": 2
   },
   "file_extension": ".py",
   "mimetype": "text/x-python",
   "name": "python",
   "nbconvert_exporter": "python",
   "pygments_lexer": "ipython2",
   "version": "2.7.6"
  }
 },
 "nbformat": 4,
 "nbformat_minor": 0
}