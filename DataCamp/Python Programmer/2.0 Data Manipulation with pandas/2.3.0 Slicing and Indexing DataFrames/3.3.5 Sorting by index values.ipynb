{
 "cells": [
  {
   "cell_type": "markdown",
   "source": [
    "## Slicing and Indexing DataFrames"
   ],
   "metadata": {
    "collapsed": false,
    "pycharm": {
     "name": "#%% md\n"
    }
   }
  },
  {
   "cell_type": "markdown",
   "source": [
    "#### Sorting by index values"
   ],
   "metadata": {
    "collapsed": false,
    "pycharm": {
     "name": "#%% md\n"
    }
   }
  },
  {
   "cell_type": "markdown",
   "source": [
    "Previously, you changed the order of the rows in a DataFrame by calling `.sort_values()`. It's also useful to be able sort by elements in the index. For this, you need to use `.sort_index()`. `pandas` is loaded as `pd`.\n",
    "`temperatures_ind` has a multi_level index of `country` and `city`, and is available."
   ],
   "metadata": {
    "collapsed": false,
    "pycharm": {
     "name": "#%% md\n"
    }
   }
  },
  {
   "cell_type": "code",
   "execution_count": 1,
   "outputs": [
    {
     "data": {
      "text/plain": "                       Unnamed: 0        date  avg_temp_c\ncountry       city                                       \nCôte D'Ivoire Abidjan           0  2000-01-01      27.293\n              Abidjan           1  2000-02-01      27.685\n              Abidjan           2  2000-03-01      29.061\n              Abidjan           3  2000-04-01      28.162\n              Abidjan           4  2000-05-01      27.547",
      "text/html": "<div>\n<style scoped>\n    .dataframe tbody tr th:only-of-type {\n        vertical-align: middle;\n    }\n\n    .dataframe tbody tr th {\n        vertical-align: top;\n    }\n\n    .dataframe thead th {\n        text-align: right;\n    }\n</style>\n<table border=\"1\" class=\"dataframe\">\n  <thead>\n    <tr style=\"text-align: right;\">\n      <th></th>\n      <th></th>\n      <th>Unnamed: 0</th>\n      <th>date</th>\n      <th>avg_temp_c</th>\n    </tr>\n    <tr>\n      <th>country</th>\n      <th>city</th>\n      <th></th>\n      <th></th>\n      <th></th>\n    </tr>\n  </thead>\n  <tbody>\n    <tr>\n      <th rowspan=\"5\" valign=\"top\">Côte D'Ivoire</th>\n      <th>Abidjan</th>\n      <td>0</td>\n      <td>2000-01-01</td>\n      <td>27.293</td>\n    </tr>\n    <tr>\n      <th>Abidjan</th>\n      <td>1</td>\n      <td>2000-02-01</td>\n      <td>27.685</td>\n    </tr>\n    <tr>\n      <th>Abidjan</th>\n      <td>2</td>\n      <td>2000-03-01</td>\n      <td>29.061</td>\n    </tr>\n    <tr>\n      <th>Abidjan</th>\n      <td>3</td>\n      <td>2000-04-01</td>\n      <td>28.162</td>\n    </tr>\n    <tr>\n      <th>Abidjan</th>\n      <td>4</td>\n      <td>2000-05-01</td>\n      <td>27.547</td>\n    </tr>\n  </tbody>\n</table>\n</div>"
     },
     "execution_count": 1,
     "metadata": {},
     "output_type": "execute_result"
    }
   ],
   "source": [
    "# importing pandas\n",
    "import pandas as pd\n",
    "\n",
    "# importing sales dataset\n",
    "temperatures = pd.read_csv(\"../datasets/temperatures.csv\")\n",
    "temperatures_ind = temperatures.set_index([\"country\", \"city\"])\n",
    "temperatures_ind.head()"
   ],
   "metadata": {
    "collapsed": false,
    "pycharm": {
     "name": "#%%\n"
    }
   }
  },
  {
   "cell_type": "markdown",
   "source": [
    "### Instructions"
   ],
   "metadata": {
    "collapsed": false,
    "pycharm": {
     "name": "#%% md\n"
    }
   }
  },
  {
   "cell_type": "markdown",
   "source": [
    "* Sort `temperatures_ind` by the index values.\n",
    "* Sort `temperatures_ind` by the index values at the `\"city\"` level.\n",
    "* Sort `temperatures_ind` by ascending country then descending city."
   ],
   "metadata": {
    "collapsed": false,
    "pycharm": {
     "name": "#%% md\n"
    }
   }
  },
  {
   "cell_type": "code",
   "execution_count": 2,
   "outputs": [
    {
     "data": {
      "text/plain": "                    Unnamed: 0        date  avg_temp_c\ncountry     city                                      \nAfghanistan Kabul         7260  2000-01-01       3.326\n            Kabul         7261  2000-02-01       3.454\n            Kabul         7262  2000-03-01       9.612\n            Kabul         7263  2000-04-01      17.925\n            Kabul         7264  2000-05-01      24.658\n...                        ...         ...         ...\nZimbabwe    Harare        5605  2013-05-01      18.298\n            Harare        5606  2013-06-01      17.020\n            Harare        5607  2013-07-01      16.299\n            Harare        5608  2013-08-01      19.232\n            Harare        5609  2013-09-01         NaN\n\n[16500 rows x 3 columns]",
      "text/html": "<div>\n<style scoped>\n    .dataframe tbody tr th:only-of-type {\n        vertical-align: middle;\n    }\n\n    .dataframe tbody tr th {\n        vertical-align: top;\n    }\n\n    .dataframe thead th {\n        text-align: right;\n    }\n</style>\n<table border=\"1\" class=\"dataframe\">\n  <thead>\n    <tr style=\"text-align: right;\">\n      <th></th>\n      <th></th>\n      <th>Unnamed: 0</th>\n      <th>date</th>\n      <th>avg_temp_c</th>\n    </tr>\n    <tr>\n      <th>country</th>\n      <th>city</th>\n      <th></th>\n      <th></th>\n      <th></th>\n    </tr>\n  </thead>\n  <tbody>\n    <tr>\n      <th rowspan=\"5\" valign=\"top\">Afghanistan</th>\n      <th>Kabul</th>\n      <td>7260</td>\n      <td>2000-01-01</td>\n      <td>3.326</td>\n    </tr>\n    <tr>\n      <th>Kabul</th>\n      <td>7261</td>\n      <td>2000-02-01</td>\n      <td>3.454</td>\n    </tr>\n    <tr>\n      <th>Kabul</th>\n      <td>7262</td>\n      <td>2000-03-01</td>\n      <td>9.612</td>\n    </tr>\n    <tr>\n      <th>Kabul</th>\n      <td>7263</td>\n      <td>2000-04-01</td>\n      <td>17.925</td>\n    </tr>\n    <tr>\n      <th>Kabul</th>\n      <td>7264</td>\n      <td>2000-05-01</td>\n      <td>24.658</td>\n    </tr>\n    <tr>\n      <th>...</th>\n      <th>...</th>\n      <td>...</td>\n      <td>...</td>\n      <td>...</td>\n    </tr>\n    <tr>\n      <th rowspan=\"5\" valign=\"top\">Zimbabwe</th>\n      <th>Harare</th>\n      <td>5605</td>\n      <td>2013-05-01</td>\n      <td>18.298</td>\n    </tr>\n    <tr>\n      <th>Harare</th>\n      <td>5606</td>\n      <td>2013-06-01</td>\n      <td>17.020</td>\n    </tr>\n    <tr>\n      <th>Harare</th>\n      <td>5607</td>\n      <td>2013-07-01</td>\n      <td>16.299</td>\n    </tr>\n    <tr>\n      <th>Harare</th>\n      <td>5608</td>\n      <td>2013-08-01</td>\n      <td>19.232</td>\n    </tr>\n    <tr>\n      <th>Harare</th>\n      <td>5609</td>\n      <td>2013-09-01</td>\n      <td>NaN</td>\n    </tr>\n  </tbody>\n</table>\n<p>16500 rows × 3 columns</p>\n</div>"
     },
     "execution_count": 2,
     "metadata": {},
     "output_type": "execute_result"
    }
   ],
   "source": [
    "# Sort temperatures_ind by index values\n",
    "temperatures_ind.sort_index()"
   ],
   "metadata": {
    "collapsed": false,
    "pycharm": {
     "name": "#%%\n"
    }
   }
  },
  {
   "cell_type": "code",
   "execution_count": 4,
   "outputs": [
    {
     "data": {
      "text/plain": "                       Unnamed: 0        date  avg_temp_c\ncountry       city                                       \nCôte D'Ivoire Abidjan           0  2000-01-01      27.293\n              Abidjan           1  2000-02-01      27.685\n              Abidjan           2  2000-03-01      29.061\n              Abidjan           3  2000-04-01      28.162\n              Abidjan           4  2000-05-01      27.547\n...                           ...         ...         ...\nChina         Xian          16495  2013-05-01      18.979\n              Xian          16496  2013-06-01      23.522\n              Xian          16497  2013-07-01      25.251\n              Xian          16498  2013-08-01      24.528\n              Xian          16499  2013-09-01         NaN\n\n[16500 rows x 3 columns]",
      "text/html": "<div>\n<style scoped>\n    .dataframe tbody tr th:only-of-type {\n        vertical-align: middle;\n    }\n\n    .dataframe tbody tr th {\n        vertical-align: top;\n    }\n\n    .dataframe thead th {\n        text-align: right;\n    }\n</style>\n<table border=\"1\" class=\"dataframe\">\n  <thead>\n    <tr style=\"text-align: right;\">\n      <th></th>\n      <th></th>\n      <th>Unnamed: 0</th>\n      <th>date</th>\n      <th>avg_temp_c</th>\n    </tr>\n    <tr>\n      <th>country</th>\n      <th>city</th>\n      <th></th>\n      <th></th>\n      <th></th>\n    </tr>\n  </thead>\n  <tbody>\n    <tr>\n      <th rowspan=\"5\" valign=\"top\">Côte D'Ivoire</th>\n      <th>Abidjan</th>\n      <td>0</td>\n      <td>2000-01-01</td>\n      <td>27.293</td>\n    </tr>\n    <tr>\n      <th>Abidjan</th>\n      <td>1</td>\n      <td>2000-02-01</td>\n      <td>27.685</td>\n    </tr>\n    <tr>\n      <th>Abidjan</th>\n      <td>2</td>\n      <td>2000-03-01</td>\n      <td>29.061</td>\n    </tr>\n    <tr>\n      <th>Abidjan</th>\n      <td>3</td>\n      <td>2000-04-01</td>\n      <td>28.162</td>\n    </tr>\n    <tr>\n      <th>Abidjan</th>\n      <td>4</td>\n      <td>2000-05-01</td>\n      <td>27.547</td>\n    </tr>\n    <tr>\n      <th>...</th>\n      <th>...</th>\n      <td>...</td>\n      <td>...</td>\n      <td>...</td>\n    </tr>\n    <tr>\n      <th rowspan=\"5\" valign=\"top\">China</th>\n      <th>Xian</th>\n      <td>16495</td>\n      <td>2013-05-01</td>\n      <td>18.979</td>\n    </tr>\n    <tr>\n      <th>Xian</th>\n      <td>16496</td>\n      <td>2013-06-01</td>\n      <td>23.522</td>\n    </tr>\n    <tr>\n      <th>Xian</th>\n      <td>16497</td>\n      <td>2013-07-01</td>\n      <td>25.251</td>\n    </tr>\n    <tr>\n      <th>Xian</th>\n      <td>16498</td>\n      <td>2013-08-01</td>\n      <td>24.528</td>\n    </tr>\n    <tr>\n      <th>Xian</th>\n      <td>16499</td>\n      <td>2013-09-01</td>\n      <td>NaN</td>\n    </tr>\n  </tbody>\n</table>\n<p>16500 rows × 3 columns</p>\n</div>"
     },
     "execution_count": 4,
     "metadata": {},
     "output_type": "execute_result"
    }
   ],
   "source": [
    "# Sort temperatures_ind by index values at the city level\n",
    "temperatures_ind.sort_index(level=\"city\")"
   ],
   "metadata": {
    "collapsed": false,
    "pycharm": {
     "name": "#%%\n"
    }
   }
  },
  {
   "cell_type": "code",
   "execution_count": 5,
   "outputs": [
    {
     "data": {
      "text/plain": "                    Unnamed: 0        date  avg_temp_c\ncountry     city                                      \nAfghanistan Kabul         7260  2000-01-01       3.326\n            Kabul         7261  2000-02-01       3.454\n            Kabul         7262  2000-03-01       9.612\n            Kabul         7263  2000-04-01      17.925\n            Kabul         7264  2000-05-01      24.658\n...                        ...         ...         ...\nZimbabwe    Harare        5605  2013-05-01      18.298\n            Harare        5606  2013-06-01      17.020\n            Harare        5607  2013-07-01      16.299\n            Harare        5608  2013-08-01      19.232\n            Harare        5609  2013-09-01         NaN\n\n[16500 rows x 3 columns]",
      "text/html": "<div>\n<style scoped>\n    .dataframe tbody tr th:only-of-type {\n        vertical-align: middle;\n    }\n\n    .dataframe tbody tr th {\n        vertical-align: top;\n    }\n\n    .dataframe thead th {\n        text-align: right;\n    }\n</style>\n<table border=\"1\" class=\"dataframe\">\n  <thead>\n    <tr style=\"text-align: right;\">\n      <th></th>\n      <th></th>\n      <th>Unnamed: 0</th>\n      <th>date</th>\n      <th>avg_temp_c</th>\n    </tr>\n    <tr>\n      <th>country</th>\n      <th>city</th>\n      <th></th>\n      <th></th>\n      <th></th>\n    </tr>\n  </thead>\n  <tbody>\n    <tr>\n      <th rowspan=\"5\" valign=\"top\">Afghanistan</th>\n      <th>Kabul</th>\n      <td>7260</td>\n      <td>2000-01-01</td>\n      <td>3.326</td>\n    </tr>\n    <tr>\n      <th>Kabul</th>\n      <td>7261</td>\n      <td>2000-02-01</td>\n      <td>3.454</td>\n    </tr>\n    <tr>\n      <th>Kabul</th>\n      <td>7262</td>\n      <td>2000-03-01</td>\n      <td>9.612</td>\n    </tr>\n    <tr>\n      <th>Kabul</th>\n      <td>7263</td>\n      <td>2000-04-01</td>\n      <td>17.925</td>\n    </tr>\n    <tr>\n      <th>Kabul</th>\n      <td>7264</td>\n      <td>2000-05-01</td>\n      <td>24.658</td>\n    </tr>\n    <tr>\n      <th>...</th>\n      <th>...</th>\n      <td>...</td>\n      <td>...</td>\n      <td>...</td>\n    </tr>\n    <tr>\n      <th rowspan=\"5\" valign=\"top\">Zimbabwe</th>\n      <th>Harare</th>\n      <td>5605</td>\n      <td>2013-05-01</td>\n      <td>18.298</td>\n    </tr>\n    <tr>\n      <th>Harare</th>\n      <td>5606</td>\n      <td>2013-06-01</td>\n      <td>17.020</td>\n    </tr>\n    <tr>\n      <th>Harare</th>\n      <td>5607</td>\n      <td>2013-07-01</td>\n      <td>16.299</td>\n    </tr>\n    <tr>\n      <th>Harare</th>\n      <td>5608</td>\n      <td>2013-08-01</td>\n      <td>19.232</td>\n    </tr>\n    <tr>\n      <th>Harare</th>\n      <td>5609</td>\n      <td>2013-09-01</td>\n      <td>NaN</td>\n    </tr>\n  </tbody>\n</table>\n<p>16500 rows × 3 columns</p>\n</div>"
     },
     "execution_count": 5,
     "metadata": {},
     "output_type": "execute_result"
    }
   ],
   "source": [
    "# Sort temperatures_ind by country then descending city\n",
    "temperatures_ind.sort_index(level=[\"country\", \"city\"], ascending=[True, False])"
   ],
   "metadata": {
    "collapsed": false,
    "pycharm": {
     "name": "#%%\n"
    }
   }
  },
  {
   "cell_type": "code",
   "execution_count": null,
   "outputs": [],
   "source": [],
   "metadata": {
    "collapsed": false,
    "pycharm": {
     "name": "#%%\n"
    }
   }
  }
 ],
 "metadata": {
  "kernelspec": {
   "display_name": "Python 3",
   "language": "python",
   "name": "python3"
  },
  "language_info": {
   "codemirror_mode": {
    "name": "ipython",
    "version": 2
   },
   "file_extension": ".py",
   "mimetype": "text/x-python",
   "name": "python",
   "nbconvert_exporter": "python",
   "pygments_lexer": "ipython2",
   "version": "2.7.6"
  }
 },
 "nbformat": 4,
 "nbformat_minor": 0
}