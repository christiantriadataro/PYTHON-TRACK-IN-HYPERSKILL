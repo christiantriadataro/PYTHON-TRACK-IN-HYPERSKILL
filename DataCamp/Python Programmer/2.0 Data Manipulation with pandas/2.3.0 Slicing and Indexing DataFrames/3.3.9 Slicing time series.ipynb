{
 "cells": [
  {
   "cell_type": "markdown",
   "source": [
    "## Slicing and Indexing DataFrames"
   ],
   "metadata": {
    "collapsed": false,
    "pycharm": {
     "name": "#%% md\n"
    }
   }
  },
  {
   "cell_type": "markdown",
   "source": [
    "#### Slicing time series"
   ],
   "metadata": {
    "collapsed": false,
    "pycharm": {
     "name": "#%% md\n"
    }
   }
  },
  {
   "cell_type": "markdown",
   "source": [
    "Slicing is particularly useful for time series since it's a common thing to want to filter for data within a date range. Add the `date` column to the index, then use `.loc[]` to perform the subsetting. The important thing to remember is to keep your dates in ISO 8601 format, that is, `\"yyyy-mm-dd\"` for year-month-day, `\"yyyy-mm\"` for year-month, and `\"yyyy\"` for year. Recall from Chapter  1 that you can multiple Boolean conditions using logical operators, such as `&`. To do so in one line of code, you'll need to add parentheses `()` around each condition. `pandas` is loaded as `pd` and `temperatures`, with no index, is available."
   ],
   "metadata": {
    "collapsed": false,
    "pycharm": {
     "name": "#%% md\n"
    }
   }
  },
  {
   "cell_type": "code",
   "execution_count": 1,
   "outputs": [
    {
     "data": {
      "text/plain": "   Unnamed: 0        date     city        country  avg_temp_c\n0           0  2000-01-01  Abidjan  Côte D'Ivoire      27.293\n1           1  2000-02-01  Abidjan  Côte D'Ivoire      27.685\n2           2  2000-03-01  Abidjan  Côte D'Ivoire      29.061\n3           3  2000-04-01  Abidjan  Côte D'Ivoire      28.162\n4           4  2000-05-01  Abidjan  Côte D'Ivoire      27.547",
      "text/html": "<div>\n<style scoped>\n    .dataframe tbody tr th:only-of-type {\n        vertical-align: middle;\n    }\n\n    .dataframe tbody tr th {\n        vertical-align: top;\n    }\n\n    .dataframe thead th {\n        text-align: right;\n    }\n</style>\n<table border=\"1\" class=\"dataframe\">\n  <thead>\n    <tr style=\"text-align: right;\">\n      <th></th>\n      <th>Unnamed: 0</th>\n      <th>date</th>\n      <th>city</th>\n      <th>country</th>\n      <th>avg_temp_c</th>\n    </tr>\n  </thead>\n  <tbody>\n    <tr>\n      <th>0</th>\n      <td>0</td>\n      <td>2000-01-01</td>\n      <td>Abidjan</td>\n      <td>Côte D'Ivoire</td>\n      <td>27.293</td>\n    </tr>\n    <tr>\n      <th>1</th>\n      <td>1</td>\n      <td>2000-02-01</td>\n      <td>Abidjan</td>\n      <td>Côte D'Ivoire</td>\n      <td>27.685</td>\n    </tr>\n    <tr>\n      <th>2</th>\n      <td>2</td>\n      <td>2000-03-01</td>\n      <td>Abidjan</td>\n      <td>Côte D'Ivoire</td>\n      <td>29.061</td>\n    </tr>\n    <tr>\n      <th>3</th>\n      <td>3</td>\n      <td>2000-04-01</td>\n      <td>Abidjan</td>\n      <td>Côte D'Ivoire</td>\n      <td>28.162</td>\n    </tr>\n    <tr>\n      <th>4</th>\n      <td>4</td>\n      <td>2000-05-01</td>\n      <td>Abidjan</td>\n      <td>Côte D'Ivoire</td>\n      <td>27.547</td>\n    </tr>\n  </tbody>\n</table>\n</div>"
     },
     "execution_count": 1,
     "metadata": {},
     "output_type": "execute_result"
    }
   ],
   "source": [
    "# importing pandas\n",
    "import pandas as pd\n",
    "\n",
    "# importing sales dataset\n",
    "temperatures = pd.read_csv(\"../datasets/temperatures.csv\")\n",
    "temperatures.head()"
   ],
   "metadata": {
    "collapsed": false,
    "pycharm": {
     "name": "#%%\n"
    }
   }
  },
  {
   "cell_type": "markdown",
   "source": [
    "### Instructions"
   ],
   "metadata": {
    "collapsed": false,
    "pycharm": {
     "name": "#%% md\n"
    }
   }
  },
  {
   "cell_type": "markdown",
   "source": [
    "* Use Boolean conditions, not `isin()` or `.loc[]`, and the full date `\"yyyy-mm-dd\"`, to subset `temperatures` for rows in 2010 and 2011 and print the results.\n",
    "* Set the index of temperatures to the `date` column and sort it.\n",
    "* Use `.loc[]` to subset `temperatures_ind` for rows in 2010 and 2011.\n",
    "* Use `.loc[]` to subset `temperatures_ind` for rows and Aug 2010 to Feb 2011."
   ],
   "metadata": {
    "collapsed": false,
    "pycharm": {
     "name": "#%% md\n"
    }
   }
  },
  {
   "cell_type": "code",
   "execution_count": 8,
   "outputs": [
    {
     "data": {
      "text/plain": "       Unnamed: 0        date     city        country  avg_temp_c\n120           120  2010-01-01  Abidjan  Côte D'Ivoire      28.270\n121           121  2010-02-01  Abidjan  Côte D'Ivoire      29.262\n122           122  2010-03-01  Abidjan  Côte D'Ivoire      29.596\n123           123  2010-04-01  Abidjan  Côte D'Ivoire      29.068\n124           124  2010-05-01  Abidjan  Côte D'Ivoire      28.258\n...           ...         ...      ...            ...         ...\n16474       16474  2011-08-01     Xian          China      23.069\n16475       16475  2011-09-01     Xian          China      16.775\n16476       16476  2011-10-01     Xian          China      12.587\n16477       16477  2011-11-01     Xian          China       7.543\n16478       16478  2011-12-01     Xian          China      -0.490\n\n[2400 rows x 5 columns]",
      "text/html": "<div>\n<style scoped>\n    .dataframe tbody tr th:only-of-type {\n        vertical-align: middle;\n    }\n\n    .dataframe tbody tr th {\n        vertical-align: top;\n    }\n\n    .dataframe thead th {\n        text-align: right;\n    }\n</style>\n<table border=\"1\" class=\"dataframe\">\n  <thead>\n    <tr style=\"text-align: right;\">\n      <th></th>\n      <th>Unnamed: 0</th>\n      <th>date</th>\n      <th>city</th>\n      <th>country</th>\n      <th>avg_temp_c</th>\n    </tr>\n  </thead>\n  <tbody>\n    <tr>\n      <th>120</th>\n      <td>120</td>\n      <td>2010-01-01</td>\n      <td>Abidjan</td>\n      <td>Côte D'Ivoire</td>\n      <td>28.270</td>\n    </tr>\n    <tr>\n      <th>121</th>\n      <td>121</td>\n      <td>2010-02-01</td>\n      <td>Abidjan</td>\n      <td>Côte D'Ivoire</td>\n      <td>29.262</td>\n    </tr>\n    <tr>\n      <th>122</th>\n      <td>122</td>\n      <td>2010-03-01</td>\n      <td>Abidjan</td>\n      <td>Côte D'Ivoire</td>\n      <td>29.596</td>\n    </tr>\n    <tr>\n      <th>123</th>\n      <td>123</td>\n      <td>2010-04-01</td>\n      <td>Abidjan</td>\n      <td>Côte D'Ivoire</td>\n      <td>29.068</td>\n    </tr>\n    <tr>\n      <th>124</th>\n      <td>124</td>\n      <td>2010-05-01</td>\n      <td>Abidjan</td>\n      <td>Côte D'Ivoire</td>\n      <td>28.258</td>\n    </tr>\n    <tr>\n      <th>...</th>\n      <td>...</td>\n      <td>...</td>\n      <td>...</td>\n      <td>...</td>\n      <td>...</td>\n    </tr>\n    <tr>\n      <th>16474</th>\n      <td>16474</td>\n      <td>2011-08-01</td>\n      <td>Xian</td>\n      <td>China</td>\n      <td>23.069</td>\n    </tr>\n    <tr>\n      <th>16475</th>\n      <td>16475</td>\n      <td>2011-09-01</td>\n      <td>Xian</td>\n      <td>China</td>\n      <td>16.775</td>\n    </tr>\n    <tr>\n      <th>16476</th>\n      <td>16476</td>\n      <td>2011-10-01</td>\n      <td>Xian</td>\n      <td>China</td>\n      <td>12.587</td>\n    </tr>\n    <tr>\n      <th>16477</th>\n      <td>16477</td>\n      <td>2011-11-01</td>\n      <td>Xian</td>\n      <td>China</td>\n      <td>7.543</td>\n    </tr>\n    <tr>\n      <th>16478</th>\n      <td>16478</td>\n      <td>2011-12-01</td>\n      <td>Xian</td>\n      <td>China</td>\n      <td>-0.490</td>\n    </tr>\n  </tbody>\n</table>\n<p>2400 rows × 5 columns</p>\n</div>"
     },
     "execution_count": 8,
     "metadata": {},
     "output_type": "execute_result"
    }
   ],
   "source": [
    "# Use Boolean conditions to subset temperatures for rows in 2010 and 2011\n",
    "temperatures_bool = temperatures[(temperatures[\"date\"] >= '2010-01-01') & (temperatures[\"date\"] <= '2011-12-31')]\n",
    "temperatures_bool"
   ],
   "metadata": {
    "collapsed": false,
    "pycharm": {
     "name": "#%%\n"
    }
   }
  },
  {
   "cell_type": "code",
   "execution_count": 5,
   "outputs": [
    {
     "data": {
      "text/plain": "            Unnamed: 0       city        country  avg_temp_c\ndate                                                        \n2000-01-01           0    Abidjan  Côte D'Ivoire      27.293\n2000-01-01        8415     Lahore       Pakistan      12.792\n2000-01-01       15345   Tangshan          China      -5.406\n2000-01-01        5115      Gizeh          Egypt      12.669\n2000-01-01        8580    Lakhnau          India      15.152\n...                ...        ...            ...         ...\n2013-09-01       11549    Nanjing          China         NaN\n2013-09-01       11714  New Delhi          India         NaN\n2013-09-01       11879   New York  United States      17.408\n2013-09-01       12209     Peking          China         NaN\n2013-09-01       16499       Xian          China         NaN\n\n[16500 rows x 4 columns]",
      "text/html": "<div>\n<style scoped>\n    .dataframe tbody tr th:only-of-type {\n        vertical-align: middle;\n    }\n\n    .dataframe tbody tr th {\n        vertical-align: top;\n    }\n\n    .dataframe thead th {\n        text-align: right;\n    }\n</style>\n<table border=\"1\" class=\"dataframe\">\n  <thead>\n    <tr style=\"text-align: right;\">\n      <th></th>\n      <th>Unnamed: 0</th>\n      <th>city</th>\n      <th>country</th>\n      <th>avg_temp_c</th>\n    </tr>\n    <tr>\n      <th>date</th>\n      <th></th>\n      <th></th>\n      <th></th>\n      <th></th>\n    </tr>\n  </thead>\n  <tbody>\n    <tr>\n      <th>2000-01-01</th>\n      <td>0</td>\n      <td>Abidjan</td>\n      <td>Côte D'Ivoire</td>\n      <td>27.293</td>\n    </tr>\n    <tr>\n      <th>2000-01-01</th>\n      <td>8415</td>\n      <td>Lahore</td>\n      <td>Pakistan</td>\n      <td>12.792</td>\n    </tr>\n    <tr>\n      <th>2000-01-01</th>\n      <td>15345</td>\n      <td>Tangshan</td>\n      <td>China</td>\n      <td>-5.406</td>\n    </tr>\n    <tr>\n      <th>2000-01-01</th>\n      <td>5115</td>\n      <td>Gizeh</td>\n      <td>Egypt</td>\n      <td>12.669</td>\n    </tr>\n    <tr>\n      <th>2000-01-01</th>\n      <td>8580</td>\n      <td>Lakhnau</td>\n      <td>India</td>\n      <td>15.152</td>\n    </tr>\n    <tr>\n      <th>...</th>\n      <td>...</td>\n      <td>...</td>\n      <td>...</td>\n      <td>...</td>\n    </tr>\n    <tr>\n      <th>2013-09-01</th>\n      <td>11549</td>\n      <td>Nanjing</td>\n      <td>China</td>\n      <td>NaN</td>\n    </tr>\n    <tr>\n      <th>2013-09-01</th>\n      <td>11714</td>\n      <td>New Delhi</td>\n      <td>India</td>\n      <td>NaN</td>\n    </tr>\n    <tr>\n      <th>2013-09-01</th>\n      <td>11879</td>\n      <td>New York</td>\n      <td>United States</td>\n      <td>17.408</td>\n    </tr>\n    <tr>\n      <th>2013-09-01</th>\n      <td>12209</td>\n      <td>Peking</td>\n      <td>China</td>\n      <td>NaN</td>\n    </tr>\n    <tr>\n      <th>2013-09-01</th>\n      <td>16499</td>\n      <td>Xian</td>\n      <td>China</td>\n      <td>NaN</td>\n    </tr>\n  </tbody>\n</table>\n<p>16500 rows × 4 columns</p>\n</div>"
     },
     "execution_count": 5,
     "metadata": {},
     "output_type": "execute_result"
    }
   ],
   "source": [
    "# Set date as the index and sort the index\n",
    "temperatures_ind = temperatures.set_index(\"date\").sort_index()\n",
    "temperatures_ind"
   ],
   "metadata": {
    "collapsed": false,
    "pycharm": {
     "name": "#%%\n"
    }
   }
  },
  {
   "cell_type": "code",
   "execution_count": 6,
   "outputs": [
    {
     "data": {
      "text/plain": "            Unnamed: 0        city    country  avg_temp_c\ndate                                                     \n2010-01-01        4905  Faisalabad   Pakistan      11.810\n2010-01-01       10185   Melbourne  Australia      20.016\n2010-01-01        3750   Chongqing      China       7.921\n2010-01-01       13155   São Paulo     Brazil      23.738\n2010-01-01        5400   Guangzhou      China      14.136\n...                ...         ...        ...         ...\n2010-12-01        6896     Jakarta  Indonesia      26.602\n2010-12-01        5246       Gizeh      Egypt      16.530\n2010-12-01       11186      Nagpur      India      19.120\n2010-12-01       14981      Sydney  Australia      19.559\n2010-12-01       13496    Salvador     Brazil      26.265\n\n[1200 rows x 4 columns]",
      "text/html": "<div>\n<style scoped>\n    .dataframe tbody tr th:only-of-type {\n        vertical-align: middle;\n    }\n\n    .dataframe tbody tr th {\n        vertical-align: top;\n    }\n\n    .dataframe thead th {\n        text-align: right;\n    }\n</style>\n<table border=\"1\" class=\"dataframe\">\n  <thead>\n    <tr style=\"text-align: right;\">\n      <th></th>\n      <th>Unnamed: 0</th>\n      <th>city</th>\n      <th>country</th>\n      <th>avg_temp_c</th>\n    </tr>\n    <tr>\n      <th>date</th>\n      <th></th>\n      <th></th>\n      <th></th>\n      <th></th>\n    </tr>\n  </thead>\n  <tbody>\n    <tr>\n      <th>2010-01-01</th>\n      <td>4905</td>\n      <td>Faisalabad</td>\n      <td>Pakistan</td>\n      <td>11.810</td>\n    </tr>\n    <tr>\n      <th>2010-01-01</th>\n      <td>10185</td>\n      <td>Melbourne</td>\n      <td>Australia</td>\n      <td>20.016</td>\n    </tr>\n    <tr>\n      <th>2010-01-01</th>\n      <td>3750</td>\n      <td>Chongqing</td>\n      <td>China</td>\n      <td>7.921</td>\n    </tr>\n    <tr>\n      <th>2010-01-01</th>\n      <td>13155</td>\n      <td>São Paulo</td>\n      <td>Brazil</td>\n      <td>23.738</td>\n    </tr>\n    <tr>\n      <th>2010-01-01</th>\n      <td>5400</td>\n      <td>Guangzhou</td>\n      <td>China</td>\n      <td>14.136</td>\n    </tr>\n    <tr>\n      <th>...</th>\n      <td>...</td>\n      <td>...</td>\n      <td>...</td>\n      <td>...</td>\n    </tr>\n    <tr>\n      <th>2010-12-01</th>\n      <td>6896</td>\n      <td>Jakarta</td>\n      <td>Indonesia</td>\n      <td>26.602</td>\n    </tr>\n    <tr>\n      <th>2010-12-01</th>\n      <td>5246</td>\n      <td>Gizeh</td>\n      <td>Egypt</td>\n      <td>16.530</td>\n    </tr>\n    <tr>\n      <th>2010-12-01</th>\n      <td>11186</td>\n      <td>Nagpur</td>\n      <td>India</td>\n      <td>19.120</td>\n    </tr>\n    <tr>\n      <th>2010-12-01</th>\n      <td>14981</td>\n      <td>Sydney</td>\n      <td>Australia</td>\n      <td>19.559</td>\n    </tr>\n    <tr>\n      <th>2010-12-01</th>\n      <td>13496</td>\n      <td>Salvador</td>\n      <td>Brazil</td>\n      <td>26.265</td>\n    </tr>\n  </tbody>\n</table>\n<p>1200 rows × 4 columns</p>\n</div>"
     },
     "execution_count": 6,
     "metadata": {},
     "output_type": "execute_result"
    }
   ],
   "source": [
    "# Use .loc[] to subset temperatures_ind for rows in 2010 and 2011\n",
    "temperatures_ind.loc[\"2010\":\"2011\"]"
   ],
   "metadata": {
    "collapsed": false,
    "pycharm": {
     "name": "#%%\n"
    }
   }
  },
  {
   "cell_type": "code",
   "execution_count": 7,
   "outputs": [
    {
     "data": {
      "text/plain": "            Unnamed: 0           city        country  avg_temp_c\ndate                                                            \n2010-08-01        2602       Calcutta          India      30.226\n2010-08-01       12337           Pune          India      24.941\n2010-08-01        6562          Izmir         Turkey      28.352\n2010-08-01       15637        Tianjin          China      25.543\n2010-08-01        9862         Manila    Philippines      27.101\n...                ...            ...            ...         ...\n2011-01-01        4257  Dar Es Salaam       Tanzania      28.541\n2011-01-01       11352        Nairobi          Kenya      17.768\n2011-01-01         297    Addis Abeba       Ethiopia      17.708\n2011-01-01       11517        Nanjing          China       0.144\n2011-01-01       11847       New York  United States      -4.463\n\n[600 rows x 4 columns]",
      "text/html": "<div>\n<style scoped>\n    .dataframe tbody tr th:only-of-type {\n        vertical-align: middle;\n    }\n\n    .dataframe tbody tr th {\n        vertical-align: top;\n    }\n\n    .dataframe thead th {\n        text-align: right;\n    }\n</style>\n<table border=\"1\" class=\"dataframe\">\n  <thead>\n    <tr style=\"text-align: right;\">\n      <th></th>\n      <th>Unnamed: 0</th>\n      <th>city</th>\n      <th>country</th>\n      <th>avg_temp_c</th>\n    </tr>\n    <tr>\n      <th>date</th>\n      <th></th>\n      <th></th>\n      <th></th>\n      <th></th>\n    </tr>\n  </thead>\n  <tbody>\n    <tr>\n      <th>2010-08-01</th>\n      <td>2602</td>\n      <td>Calcutta</td>\n      <td>India</td>\n      <td>30.226</td>\n    </tr>\n    <tr>\n      <th>2010-08-01</th>\n      <td>12337</td>\n      <td>Pune</td>\n      <td>India</td>\n      <td>24.941</td>\n    </tr>\n    <tr>\n      <th>2010-08-01</th>\n      <td>6562</td>\n      <td>Izmir</td>\n      <td>Turkey</td>\n      <td>28.352</td>\n    </tr>\n    <tr>\n      <th>2010-08-01</th>\n      <td>15637</td>\n      <td>Tianjin</td>\n      <td>China</td>\n      <td>25.543</td>\n    </tr>\n    <tr>\n      <th>2010-08-01</th>\n      <td>9862</td>\n      <td>Manila</td>\n      <td>Philippines</td>\n      <td>27.101</td>\n    </tr>\n    <tr>\n      <th>...</th>\n      <td>...</td>\n      <td>...</td>\n      <td>...</td>\n      <td>...</td>\n    </tr>\n    <tr>\n      <th>2011-01-01</th>\n      <td>4257</td>\n      <td>Dar Es Salaam</td>\n      <td>Tanzania</td>\n      <td>28.541</td>\n    </tr>\n    <tr>\n      <th>2011-01-01</th>\n      <td>11352</td>\n      <td>Nairobi</td>\n      <td>Kenya</td>\n      <td>17.768</td>\n    </tr>\n    <tr>\n      <th>2011-01-01</th>\n      <td>297</td>\n      <td>Addis Abeba</td>\n      <td>Ethiopia</td>\n      <td>17.708</td>\n    </tr>\n    <tr>\n      <th>2011-01-01</th>\n      <td>11517</td>\n      <td>Nanjing</td>\n      <td>China</td>\n      <td>0.144</td>\n    </tr>\n    <tr>\n      <th>2011-01-01</th>\n      <td>11847</td>\n      <td>New York</td>\n      <td>United States</td>\n      <td>-4.463</td>\n    </tr>\n  </tbody>\n</table>\n<p>600 rows × 4 columns</p>\n</div>"
     },
     "execution_count": 7,
     "metadata": {},
     "output_type": "execute_result"
    }
   ],
   "source": [
    "# Use .loc[] to subset temperatures_ind for rows from Aug 2010 to Feb 2011\n",
    "temperatures_ind.loc[\"2010-08\":\"2011-02\"]"
   ],
   "metadata": {
    "collapsed": false,
    "pycharm": {
     "name": "#%%\n"
    }
   }
  },
  {
   "cell_type": "code",
   "execution_count": null,
   "outputs": [],
   "source": [],
   "metadata": {
    "collapsed": false,
    "pycharm": {
     "name": "#%%\n"
    }
   }
  }
 ],
 "metadata": {
  "kernelspec": {
   "display_name": "Python 3",
   "language": "python",
   "name": "python3"
  },
  "language_info": {
   "codemirror_mode": {
    "name": "ipython",
    "version": 2
   },
   "file_extension": ".py",
   "mimetype": "text/x-python",
   "name": "python",
   "nbconvert_exporter": "python",
   "pygments_lexer": "ipython2",
   "version": "2.7.6"
  }
 },
 "nbformat": 4,
 "nbformat_minor": 0
}