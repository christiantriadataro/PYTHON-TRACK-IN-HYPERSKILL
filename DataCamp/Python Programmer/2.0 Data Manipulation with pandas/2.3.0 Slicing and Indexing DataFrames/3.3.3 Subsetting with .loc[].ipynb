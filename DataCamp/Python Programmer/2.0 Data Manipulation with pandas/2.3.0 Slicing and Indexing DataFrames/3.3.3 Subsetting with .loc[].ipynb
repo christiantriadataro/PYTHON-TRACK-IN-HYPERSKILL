{
 "cells": [
  {
   "cell_type": "markdown",
   "source": [
    "## Slicing and Indexing DataFrames"
   ],
   "metadata": {
    "collapsed": false,
    "pycharm": {
     "name": "#%% md\n"
    }
   }
  },
  {
   "cell_type": "markdown",
   "source": [
    "#### Subsetting with .loc[]"
   ],
   "metadata": {
    "collapsed": false,
    "pycharm": {
     "name": "#%% md\n"
    }
   }
  },
  {
   "cell_type": "markdown",
   "source": [
    "The killer features for indexes is `.loc[]`: a subsetting method that accepts index values. When you pass it a single argument, it will take a subset of rows. The code for subsetting using `.loc[]` can be easier to read than standard square bracket subsetting, which can make your code less burdersome to maintain.\n",
    "`pandas` is loaded as `pd`. `temperatures` and `temperatures_ind` are available; the latter is indexed by `city`."
   ],
   "metadata": {
    "collapsed": false,
    "pycharm": {
     "name": "#%% md\n"
    }
   }
  },
  {
   "cell_type": "code",
   "execution_count": 2,
   "outputs": [
    {
     "data": {
      "text/plain": "         Unnamed: 0        date        country  avg_temp_c\ncity                                                      \nAbidjan           0  2000-01-01  Côte D'Ivoire      27.293\nAbidjan           1  2000-02-01  Côte D'Ivoire      27.685\nAbidjan           2  2000-03-01  Côte D'Ivoire      29.061\nAbidjan           3  2000-04-01  Côte D'Ivoire      28.162\nAbidjan           4  2000-05-01  Côte D'Ivoire      27.547",
      "text/html": "<div>\n<style scoped>\n    .dataframe tbody tr th:only-of-type {\n        vertical-align: middle;\n    }\n\n    .dataframe tbody tr th {\n        vertical-align: top;\n    }\n\n    .dataframe thead th {\n        text-align: right;\n    }\n</style>\n<table border=\"1\" class=\"dataframe\">\n  <thead>\n    <tr style=\"text-align: right;\">\n      <th></th>\n      <th>Unnamed: 0</th>\n      <th>date</th>\n      <th>country</th>\n      <th>avg_temp_c</th>\n    </tr>\n    <tr>\n      <th>city</th>\n      <th></th>\n      <th></th>\n      <th></th>\n      <th></th>\n    </tr>\n  </thead>\n  <tbody>\n    <tr>\n      <th>Abidjan</th>\n      <td>0</td>\n      <td>2000-01-01</td>\n      <td>Côte D'Ivoire</td>\n      <td>27.293</td>\n    </tr>\n    <tr>\n      <th>Abidjan</th>\n      <td>1</td>\n      <td>2000-02-01</td>\n      <td>Côte D'Ivoire</td>\n      <td>27.685</td>\n    </tr>\n    <tr>\n      <th>Abidjan</th>\n      <td>2</td>\n      <td>2000-03-01</td>\n      <td>Côte D'Ivoire</td>\n      <td>29.061</td>\n    </tr>\n    <tr>\n      <th>Abidjan</th>\n      <td>3</td>\n      <td>2000-04-01</td>\n      <td>Côte D'Ivoire</td>\n      <td>28.162</td>\n    </tr>\n    <tr>\n      <th>Abidjan</th>\n      <td>4</td>\n      <td>2000-05-01</td>\n      <td>Côte D'Ivoire</td>\n      <td>27.547</td>\n    </tr>\n  </tbody>\n</table>\n</div>"
     },
     "execution_count": 2,
     "metadata": {},
     "output_type": "execute_result"
    }
   ],
   "source": [
    "# importing pandas\n",
    "import pandas as pd\n",
    "\n",
    "# importing sales dataset\n",
    "temperatures = pd.read_csv(\"../datasets/temperatures.csv\")\n",
    "temperatures_ind = temperatures.set_index(\"city\")\n",
    "temperatures_ind.head()"
   ],
   "metadata": {
    "collapsed": false,
    "pycharm": {
     "name": "#%%\n"
    }
   }
  },
  {
   "cell_type": "markdown",
   "source": [
    "### Instructions"
   ],
   "metadata": {
    "collapsed": false,
    "pycharm": {
     "name": "#%% md\n"
    }
   }
  },
  {
   "cell_type": "markdown",
   "source": [
    "* Create a list called `cities` that contains \"Moscow\" and \"Saint Petersburg\"\n",
    "* Use `[]` subsetting to filter `temperatures` for rows where the `city` column takes a value in the `cities` list.\n",
    "* Use `.loc[]` subsetting to filter `temperatures_ind` for rows where the city is in the `cities` list."
   ],
   "metadata": {
    "collapsed": false,
    "pycharm": {
     "name": "#%% md\n"
    }
   }
  },
  {
   "cell_type": "code",
   "execution_count": 3,
   "outputs": [],
   "source": [
    "# Make a list of cities to subset on\n",
    "cities = [\"Moscow\", \"Saint Petersburg\"]"
   ],
   "metadata": {
    "collapsed": false,
    "pycharm": {
     "name": "#%%\n"
    }
   }
  },
  {
   "cell_type": "code",
   "execution_count": 5,
   "outputs": [
    {
     "data": {
      "text/plain": "       Unnamed: 0        date              city country  avg_temp_c\n10725       10725  2000-01-01            Moscow  Russia      -7.313\n10726       10726  2000-02-01            Moscow  Russia      -3.551\n10727       10727  2000-03-01            Moscow  Russia      -1.661\n10728       10728  2000-04-01            Moscow  Russia      10.096\n10729       10729  2000-05-01            Moscow  Russia      10.357\n...           ...         ...               ...     ...         ...\n13360       13360  2013-05-01  Saint Petersburg  Russia      12.355\n13361       13361  2013-06-01  Saint Petersburg  Russia      17.185\n13362       13362  2013-07-01  Saint Petersburg  Russia      17.234\n13363       13363  2013-08-01  Saint Petersburg  Russia      17.153\n13364       13364  2013-09-01  Saint Petersburg  Russia         NaN\n\n[330 rows x 5 columns]",
      "text/html": "<div>\n<style scoped>\n    .dataframe tbody tr th:only-of-type {\n        vertical-align: middle;\n    }\n\n    .dataframe tbody tr th {\n        vertical-align: top;\n    }\n\n    .dataframe thead th {\n        text-align: right;\n    }\n</style>\n<table border=\"1\" class=\"dataframe\">\n  <thead>\n    <tr style=\"text-align: right;\">\n      <th></th>\n      <th>Unnamed: 0</th>\n      <th>date</th>\n      <th>city</th>\n      <th>country</th>\n      <th>avg_temp_c</th>\n    </tr>\n  </thead>\n  <tbody>\n    <tr>\n      <th>10725</th>\n      <td>10725</td>\n      <td>2000-01-01</td>\n      <td>Moscow</td>\n      <td>Russia</td>\n      <td>-7.313</td>\n    </tr>\n    <tr>\n      <th>10726</th>\n      <td>10726</td>\n      <td>2000-02-01</td>\n      <td>Moscow</td>\n      <td>Russia</td>\n      <td>-3.551</td>\n    </tr>\n    <tr>\n      <th>10727</th>\n      <td>10727</td>\n      <td>2000-03-01</td>\n      <td>Moscow</td>\n      <td>Russia</td>\n      <td>-1.661</td>\n    </tr>\n    <tr>\n      <th>10728</th>\n      <td>10728</td>\n      <td>2000-04-01</td>\n      <td>Moscow</td>\n      <td>Russia</td>\n      <td>10.096</td>\n    </tr>\n    <tr>\n      <th>10729</th>\n      <td>10729</td>\n      <td>2000-05-01</td>\n      <td>Moscow</td>\n      <td>Russia</td>\n      <td>10.357</td>\n    </tr>\n    <tr>\n      <th>...</th>\n      <td>...</td>\n      <td>...</td>\n      <td>...</td>\n      <td>...</td>\n      <td>...</td>\n    </tr>\n    <tr>\n      <th>13360</th>\n      <td>13360</td>\n      <td>2013-05-01</td>\n      <td>Saint Petersburg</td>\n      <td>Russia</td>\n      <td>12.355</td>\n    </tr>\n    <tr>\n      <th>13361</th>\n      <td>13361</td>\n      <td>2013-06-01</td>\n      <td>Saint Petersburg</td>\n      <td>Russia</td>\n      <td>17.185</td>\n    </tr>\n    <tr>\n      <th>13362</th>\n      <td>13362</td>\n      <td>2013-07-01</td>\n      <td>Saint Petersburg</td>\n      <td>Russia</td>\n      <td>17.234</td>\n    </tr>\n    <tr>\n      <th>13363</th>\n      <td>13363</td>\n      <td>2013-08-01</td>\n      <td>Saint Petersburg</td>\n      <td>Russia</td>\n      <td>17.153</td>\n    </tr>\n    <tr>\n      <th>13364</th>\n      <td>13364</td>\n      <td>2013-09-01</td>\n      <td>Saint Petersburg</td>\n      <td>Russia</td>\n      <td>NaN</td>\n    </tr>\n  </tbody>\n</table>\n<p>330 rows × 5 columns</p>\n</div>"
     },
     "execution_count": 5,
     "metadata": {},
     "output_type": "execute_result"
    }
   ],
   "source": [
    "# Subset temperatures using square brackets\n",
    "temperatures[temperatures[\"city\"].isin(cities)]"
   ],
   "metadata": {
    "collapsed": false,
    "pycharm": {
     "name": "#%%\n"
    }
   }
  },
  {
   "cell_type": "code",
   "execution_count": 6,
   "outputs": [
    {
     "data": {
      "text/plain": "                  Unnamed: 0        date country  avg_temp_c\ncity                                                        \nMoscow                 10725  2000-01-01  Russia      -7.313\nMoscow                 10726  2000-02-01  Russia      -3.551\nMoscow                 10727  2000-03-01  Russia      -1.661\nMoscow                 10728  2000-04-01  Russia      10.096\nMoscow                 10729  2000-05-01  Russia      10.357\n...                      ...         ...     ...         ...\nSaint Petersburg       13360  2013-05-01  Russia      12.355\nSaint Petersburg       13361  2013-06-01  Russia      17.185\nSaint Petersburg       13362  2013-07-01  Russia      17.234\nSaint Petersburg       13363  2013-08-01  Russia      17.153\nSaint Petersburg       13364  2013-09-01  Russia         NaN\n\n[330 rows x 4 columns]",
      "text/html": "<div>\n<style scoped>\n    .dataframe tbody tr th:only-of-type {\n        vertical-align: middle;\n    }\n\n    .dataframe tbody tr th {\n        vertical-align: top;\n    }\n\n    .dataframe thead th {\n        text-align: right;\n    }\n</style>\n<table border=\"1\" class=\"dataframe\">\n  <thead>\n    <tr style=\"text-align: right;\">\n      <th></th>\n      <th>Unnamed: 0</th>\n      <th>date</th>\n      <th>country</th>\n      <th>avg_temp_c</th>\n    </tr>\n    <tr>\n      <th>city</th>\n      <th></th>\n      <th></th>\n      <th></th>\n      <th></th>\n    </tr>\n  </thead>\n  <tbody>\n    <tr>\n      <th>Moscow</th>\n      <td>10725</td>\n      <td>2000-01-01</td>\n      <td>Russia</td>\n      <td>-7.313</td>\n    </tr>\n    <tr>\n      <th>Moscow</th>\n      <td>10726</td>\n      <td>2000-02-01</td>\n      <td>Russia</td>\n      <td>-3.551</td>\n    </tr>\n    <tr>\n      <th>Moscow</th>\n      <td>10727</td>\n      <td>2000-03-01</td>\n      <td>Russia</td>\n      <td>-1.661</td>\n    </tr>\n    <tr>\n      <th>Moscow</th>\n      <td>10728</td>\n      <td>2000-04-01</td>\n      <td>Russia</td>\n      <td>10.096</td>\n    </tr>\n    <tr>\n      <th>Moscow</th>\n      <td>10729</td>\n      <td>2000-05-01</td>\n      <td>Russia</td>\n      <td>10.357</td>\n    </tr>\n    <tr>\n      <th>...</th>\n      <td>...</td>\n      <td>...</td>\n      <td>...</td>\n      <td>...</td>\n    </tr>\n    <tr>\n      <th>Saint Petersburg</th>\n      <td>13360</td>\n      <td>2013-05-01</td>\n      <td>Russia</td>\n      <td>12.355</td>\n    </tr>\n    <tr>\n      <th>Saint Petersburg</th>\n      <td>13361</td>\n      <td>2013-06-01</td>\n      <td>Russia</td>\n      <td>17.185</td>\n    </tr>\n    <tr>\n      <th>Saint Petersburg</th>\n      <td>13362</td>\n      <td>2013-07-01</td>\n      <td>Russia</td>\n      <td>17.234</td>\n    </tr>\n    <tr>\n      <th>Saint Petersburg</th>\n      <td>13363</td>\n      <td>2013-08-01</td>\n      <td>Russia</td>\n      <td>17.153</td>\n    </tr>\n    <tr>\n      <th>Saint Petersburg</th>\n      <td>13364</td>\n      <td>2013-09-01</td>\n      <td>Russia</td>\n      <td>NaN</td>\n    </tr>\n  </tbody>\n</table>\n<p>330 rows × 4 columns</p>\n</div>"
     },
     "execution_count": 6,
     "metadata": {},
     "output_type": "execute_result"
    }
   ],
   "source": [
    "# Subset temperatures_ind using .loc[]\n",
    "temperatures_ind.loc[cities]"
   ],
   "metadata": {
    "collapsed": false,
    "pycharm": {
     "name": "#%%\n"
    }
   }
  },
  {
   "cell_type": "code",
   "execution_count": null,
   "outputs": [],
   "source": [],
   "metadata": {
    "collapsed": false,
    "pycharm": {
     "name": "#%%\n"
    }
   }
  }
 ],
 "metadata": {
  "kernelspec": {
   "display_name": "Python 3",
   "language": "python",
   "name": "python3"
  },
  "language_info": {
   "codemirror_mode": {
    "name": "ipython",
    "version": 2
   },
   "file_extension": ".py",
   "mimetype": "text/x-python",
   "name": "python",
   "nbconvert_exporter": "python",
   "pygments_lexer": "ipython2",
   "version": "2.7.6"
  }
 },
 "nbformat": 4,
 "nbformat_minor": 0
}