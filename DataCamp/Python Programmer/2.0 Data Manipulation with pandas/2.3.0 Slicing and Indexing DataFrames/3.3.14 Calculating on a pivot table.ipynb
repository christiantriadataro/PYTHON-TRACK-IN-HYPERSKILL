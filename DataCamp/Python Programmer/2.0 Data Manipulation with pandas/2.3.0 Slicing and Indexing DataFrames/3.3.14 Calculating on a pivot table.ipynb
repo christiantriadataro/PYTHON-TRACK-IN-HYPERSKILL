{
 "cells": [
  {
   "cell_type": "markdown",
   "source": [
    "## Slicing and Indexing DataFrames"
   ],
   "metadata": {
    "collapsed": false,
    "pycharm": {
     "name": "#%% md\n"
    }
   }
  },
  {
   "cell_type": "markdown",
   "source": [
    "#### Calculating on a pivot table"
   ],
   "metadata": {
    "collapsed": false,
    "pycharm": {
     "name": "#%% md\n"
    }
   }
  },
  {
   "cell_type": "markdown",
   "source": [
    "Pivot tables are filled with summary statistics, but they are only a first step to finding something insightful. Often you'll need to perform further calculations on them. A common thing to do is to find the rows or columns where the highest or lowest value occurs. Recall from Chapter 1 that you can easily subset a Series or DataFrame to find rows of interest using a logical conditions inside of square brackets. For example: `series[series > value]`. `pandas` is loaded as `pd` and the DataFrame `temp_by_country_vs_year` is available."
   ],
   "metadata": {
    "collapsed": false,
    "pycharm": {
     "name": "#%% md\n"
    }
   }
  },
  {
   "cell_type": "code",
   "execution_count": 2,
   "outputs": [
    {
     "data": {
      "text/plain": "       Unnamed: 0        date     city        country  avg_temp_c\n0               0  2000-01-01  Abidjan  Côte D'Ivoire      27.293\n1               1  2000-02-01  Abidjan  Côte D'Ivoire      27.685\n2               2  2000-03-01  Abidjan  Côte D'Ivoire      29.061\n3               3  2000-04-01  Abidjan  Côte D'Ivoire      28.162\n4               4  2000-05-01  Abidjan  Côte D'Ivoire      27.547\n...           ...         ...      ...            ...         ...\n16495       16495  2013-05-01     Xian          China      18.979\n16496       16496  2013-06-01     Xian          China      23.522\n16497       16497  2013-07-01     Xian          China      25.251\n16498       16498  2013-08-01     Xian          China      24.528\n16499       16499  2013-09-01     Xian          China         NaN\n\n[16500 rows x 5 columns]",
      "text/html": "<div>\n<style scoped>\n    .dataframe tbody tr th:only-of-type {\n        vertical-align: middle;\n    }\n\n    .dataframe tbody tr th {\n        vertical-align: top;\n    }\n\n    .dataframe thead th {\n        text-align: right;\n    }\n</style>\n<table border=\"1\" class=\"dataframe\">\n  <thead>\n    <tr style=\"text-align: right;\">\n      <th></th>\n      <th>Unnamed: 0</th>\n      <th>date</th>\n      <th>city</th>\n      <th>country</th>\n      <th>avg_temp_c</th>\n    </tr>\n  </thead>\n  <tbody>\n    <tr>\n      <th>0</th>\n      <td>0</td>\n      <td>2000-01-01</td>\n      <td>Abidjan</td>\n      <td>Côte D'Ivoire</td>\n      <td>27.293</td>\n    </tr>\n    <tr>\n      <th>1</th>\n      <td>1</td>\n      <td>2000-02-01</td>\n      <td>Abidjan</td>\n      <td>Côte D'Ivoire</td>\n      <td>27.685</td>\n    </tr>\n    <tr>\n      <th>2</th>\n      <td>2</td>\n      <td>2000-03-01</td>\n      <td>Abidjan</td>\n      <td>Côte D'Ivoire</td>\n      <td>29.061</td>\n    </tr>\n    <tr>\n      <th>3</th>\n      <td>3</td>\n      <td>2000-04-01</td>\n      <td>Abidjan</td>\n      <td>Côte D'Ivoire</td>\n      <td>28.162</td>\n    </tr>\n    <tr>\n      <th>4</th>\n      <td>4</td>\n      <td>2000-05-01</td>\n      <td>Abidjan</td>\n      <td>Côte D'Ivoire</td>\n      <td>27.547</td>\n    </tr>\n    <tr>\n      <th>...</th>\n      <td>...</td>\n      <td>...</td>\n      <td>...</td>\n      <td>...</td>\n      <td>...</td>\n    </tr>\n    <tr>\n      <th>16495</th>\n      <td>16495</td>\n      <td>2013-05-01</td>\n      <td>Xian</td>\n      <td>China</td>\n      <td>18.979</td>\n    </tr>\n    <tr>\n      <th>16496</th>\n      <td>16496</td>\n      <td>2013-06-01</td>\n      <td>Xian</td>\n      <td>China</td>\n      <td>23.522</td>\n    </tr>\n    <tr>\n      <th>16497</th>\n      <td>16497</td>\n      <td>2013-07-01</td>\n      <td>Xian</td>\n      <td>China</td>\n      <td>25.251</td>\n    </tr>\n    <tr>\n      <th>16498</th>\n      <td>16498</td>\n      <td>2013-08-01</td>\n      <td>Xian</td>\n      <td>China</td>\n      <td>24.528</td>\n    </tr>\n    <tr>\n      <th>16499</th>\n      <td>16499</td>\n      <td>2013-09-01</td>\n      <td>Xian</td>\n      <td>China</td>\n      <td>NaN</td>\n    </tr>\n  </tbody>\n</table>\n<p>16500 rows × 5 columns</p>\n</div>"
     },
     "execution_count": 2,
     "metadata": {},
     "output_type": "execute_result"
    }
   ],
   "source": [
    "# importing pandas\n",
    "import pandas as pd\n",
    "\n",
    "# importing sales dataset\n",
    "temperatures = pd.read_csv(\"../datasets/temperatures.csv\")\n",
    "temperatures"
   ],
   "metadata": {
    "collapsed": false,
    "pycharm": {
     "name": "#%%\n"
    }
   }
  },
  {
   "cell_type": "code",
   "execution_count": 10,
   "outputs": [
    {
     "data": {
      "text/plain": "                               avg_temp_c                                   \\\nyear                                 2000       2001       2002       2003   \ncountry       city                                                           \nAfghanistan   Kabul             15.822667  15.847917  15.714583  15.132583   \nAngola        Luanda            24.410333  24.427083  24.790917  24.867167   \nAustralia     Melbourne         14.320083  14.180000  14.075833  13.985583   \n              Sydney            17.567417  17.854500  17.733833  17.592333   \nBangladesh    Dhaka             25.905250  25.931250  26.095000  25.927417   \n...                                   ...        ...        ...        ...   \nUnited States Chicago           11.089667  11.703083  11.532083  10.481583   \n              Los Angeles       16.643333  16.466250  16.430250  16.944667   \n              New York           9.969083  10.931000  11.252167   9.836000   \nVietnam       Ho Chi Minh City  27.588917  27.831750  28.064750  27.827667   \nZimbabwe      Harare            20.283667  20.861000  21.079333  20.889167   \n\n                                                                            \\\nyear                                 2004       2005       2006       2007   \ncountry       city                                                           \nAfghanistan   Kabul             16.128417  14.847500  15.798500  15.518000   \nAngola        Luanda            24.216167  24.414583  24.138417  24.241583   \nAustralia     Melbourne         13.742083  14.378500  13.991083  14.991833   \n              Sydney            17.869667  18.028083  17.749500  18.020833   \nBangladesh    Dhaka             26.136083  26.193333  26.440417  25.951333   \n...                                   ...        ...        ...        ...   \nUnited States Chicago           10.943417  11.583833  11.870500  11.448333   \n              Los Angeles       16.552833  16.431417  16.623083  16.699917   \n              New York          10.389500  10.681417  11.519250  10.627333   \nVietnam       Ho Chi Minh City  27.686583  27.884000  28.044000  27.866667   \nZimbabwe      Harare            20.307667  21.487417  20.699750  20.746250   \n\n                                                                            \\\nyear                                 2008       2009       2010       2011   \ncountry       city                                                           \nAfghanistan   Kabul             15.479250  15.093333  15.676000  15.812167   \nAngola        Luanda            24.266333  24.325083  24.440250  24.150750   \nAustralia     Melbourne         14.110583  14.647417  14.231667  14.190917   \n              Sydney            17.321083  18.175833  17.999000  17.713333   \nBangladesh    Dhaka             26.004500  26.535583  26.648167  25.803250   \n...                                   ...        ...        ...        ...   \nUnited States Chicago           10.242417  10.298333  11.815917  11.214250   \n              Los Angeles       17.014750  16.677000  15.887000  15.874833   \n              New York          10.641667  10.141833  11.357583  11.272250   \nVietnam       Ho Chi Minh City  27.611417  27.853333  28.281750  27.675417   \nZimbabwe      Harare            20.680500  20.523833  21.165833  20.781750   \n\n                                                      \nyear                                 2012       2013  \ncountry       city                                    \nAfghanistan   Kabul             14.510333  16.206125  \nAngola        Luanda            24.240083  24.553875  \nAustralia     Melbourne         14.268667  14.741500  \n              Sydney            17.474333  18.089750  \nBangladesh    Dhaka             26.283583  26.587000  \n...                                   ...        ...  \nUnited States Chicago           12.821250  11.586889  \n              Los Angeles       17.089583  18.120667  \n              New York          11.971500  12.163889  \nVietnam       Ho Chi Minh City  28.248750  28.455000  \nZimbabwe      Harare            20.523333  19.756500  \n\n[100 rows x 14 columns]",
      "text/html": "<div>\n<style scoped>\n    .dataframe tbody tr th:only-of-type {\n        vertical-align: middle;\n    }\n\n    .dataframe tbody tr th {\n        vertical-align: top;\n    }\n\n    .dataframe thead tr th {\n        text-align: left;\n    }\n\n    .dataframe thead tr:last-of-type th {\n        text-align: right;\n    }\n</style>\n<table border=\"1\" class=\"dataframe\">\n  <thead>\n    <tr>\n      <th></th>\n      <th></th>\n      <th colspan=\"14\" halign=\"left\">avg_temp_c</th>\n    </tr>\n    <tr>\n      <th></th>\n      <th>year</th>\n      <th>2000</th>\n      <th>2001</th>\n      <th>2002</th>\n      <th>2003</th>\n      <th>2004</th>\n      <th>2005</th>\n      <th>2006</th>\n      <th>2007</th>\n      <th>2008</th>\n      <th>2009</th>\n      <th>2010</th>\n      <th>2011</th>\n      <th>2012</th>\n      <th>2013</th>\n    </tr>\n    <tr>\n      <th>country</th>\n      <th>city</th>\n      <th></th>\n      <th></th>\n      <th></th>\n      <th></th>\n      <th></th>\n      <th></th>\n      <th></th>\n      <th></th>\n      <th></th>\n      <th></th>\n      <th></th>\n      <th></th>\n      <th></th>\n      <th></th>\n    </tr>\n  </thead>\n  <tbody>\n    <tr>\n      <th>Afghanistan</th>\n      <th>Kabul</th>\n      <td>15.822667</td>\n      <td>15.847917</td>\n      <td>15.714583</td>\n      <td>15.132583</td>\n      <td>16.128417</td>\n      <td>14.847500</td>\n      <td>15.798500</td>\n      <td>15.518000</td>\n      <td>15.479250</td>\n      <td>15.093333</td>\n      <td>15.676000</td>\n      <td>15.812167</td>\n      <td>14.510333</td>\n      <td>16.206125</td>\n    </tr>\n    <tr>\n      <th>Angola</th>\n      <th>Luanda</th>\n      <td>24.410333</td>\n      <td>24.427083</td>\n      <td>24.790917</td>\n      <td>24.867167</td>\n      <td>24.216167</td>\n      <td>24.414583</td>\n      <td>24.138417</td>\n      <td>24.241583</td>\n      <td>24.266333</td>\n      <td>24.325083</td>\n      <td>24.440250</td>\n      <td>24.150750</td>\n      <td>24.240083</td>\n      <td>24.553875</td>\n    </tr>\n    <tr>\n      <th rowspan=\"2\" valign=\"top\">Australia</th>\n      <th>Melbourne</th>\n      <td>14.320083</td>\n      <td>14.180000</td>\n      <td>14.075833</td>\n      <td>13.985583</td>\n      <td>13.742083</td>\n      <td>14.378500</td>\n      <td>13.991083</td>\n      <td>14.991833</td>\n      <td>14.110583</td>\n      <td>14.647417</td>\n      <td>14.231667</td>\n      <td>14.190917</td>\n      <td>14.268667</td>\n      <td>14.741500</td>\n    </tr>\n    <tr>\n      <th>Sydney</th>\n      <td>17.567417</td>\n      <td>17.854500</td>\n      <td>17.733833</td>\n      <td>17.592333</td>\n      <td>17.869667</td>\n      <td>18.028083</td>\n      <td>17.749500</td>\n      <td>18.020833</td>\n      <td>17.321083</td>\n      <td>18.175833</td>\n      <td>17.999000</td>\n      <td>17.713333</td>\n      <td>17.474333</td>\n      <td>18.089750</td>\n    </tr>\n    <tr>\n      <th>Bangladesh</th>\n      <th>Dhaka</th>\n      <td>25.905250</td>\n      <td>25.931250</td>\n      <td>26.095000</td>\n      <td>25.927417</td>\n      <td>26.136083</td>\n      <td>26.193333</td>\n      <td>26.440417</td>\n      <td>25.951333</td>\n      <td>26.004500</td>\n      <td>26.535583</td>\n      <td>26.648167</td>\n      <td>25.803250</td>\n      <td>26.283583</td>\n      <td>26.587000</td>\n    </tr>\n    <tr>\n      <th>...</th>\n      <th>...</th>\n      <td>...</td>\n      <td>...</td>\n      <td>...</td>\n      <td>...</td>\n      <td>...</td>\n      <td>...</td>\n      <td>...</td>\n      <td>...</td>\n      <td>...</td>\n      <td>...</td>\n      <td>...</td>\n      <td>...</td>\n      <td>...</td>\n      <td>...</td>\n    </tr>\n    <tr>\n      <th rowspan=\"3\" valign=\"top\">United States</th>\n      <th>Chicago</th>\n      <td>11.089667</td>\n      <td>11.703083</td>\n      <td>11.532083</td>\n      <td>10.481583</td>\n      <td>10.943417</td>\n      <td>11.583833</td>\n      <td>11.870500</td>\n      <td>11.448333</td>\n      <td>10.242417</td>\n      <td>10.298333</td>\n      <td>11.815917</td>\n      <td>11.214250</td>\n      <td>12.821250</td>\n      <td>11.586889</td>\n    </tr>\n    <tr>\n      <th>Los Angeles</th>\n      <td>16.643333</td>\n      <td>16.466250</td>\n      <td>16.430250</td>\n      <td>16.944667</td>\n      <td>16.552833</td>\n      <td>16.431417</td>\n      <td>16.623083</td>\n      <td>16.699917</td>\n      <td>17.014750</td>\n      <td>16.677000</td>\n      <td>15.887000</td>\n      <td>15.874833</td>\n      <td>17.089583</td>\n      <td>18.120667</td>\n    </tr>\n    <tr>\n      <th>New York</th>\n      <td>9.969083</td>\n      <td>10.931000</td>\n      <td>11.252167</td>\n      <td>9.836000</td>\n      <td>10.389500</td>\n      <td>10.681417</td>\n      <td>11.519250</td>\n      <td>10.627333</td>\n      <td>10.641667</td>\n      <td>10.141833</td>\n      <td>11.357583</td>\n      <td>11.272250</td>\n      <td>11.971500</td>\n      <td>12.163889</td>\n    </tr>\n    <tr>\n      <th>Vietnam</th>\n      <th>Ho Chi Minh City</th>\n      <td>27.588917</td>\n      <td>27.831750</td>\n      <td>28.064750</td>\n      <td>27.827667</td>\n      <td>27.686583</td>\n      <td>27.884000</td>\n      <td>28.044000</td>\n      <td>27.866667</td>\n      <td>27.611417</td>\n      <td>27.853333</td>\n      <td>28.281750</td>\n      <td>27.675417</td>\n      <td>28.248750</td>\n      <td>28.455000</td>\n    </tr>\n    <tr>\n      <th>Zimbabwe</th>\n      <th>Harare</th>\n      <td>20.283667</td>\n      <td>20.861000</td>\n      <td>21.079333</td>\n      <td>20.889167</td>\n      <td>20.307667</td>\n      <td>21.487417</td>\n      <td>20.699750</td>\n      <td>20.746250</td>\n      <td>20.680500</td>\n      <td>20.523833</td>\n      <td>21.165833</td>\n      <td>20.781750</td>\n      <td>20.523333</td>\n      <td>19.756500</td>\n    </tr>\n  </tbody>\n</table>\n<p>100 rows × 14 columns</p>\n</div>"
     },
     "execution_count": 10,
     "metadata": {},
     "output_type": "execute_result"
    }
   ],
   "source": [
    "\n",
    "temperatures = temperatures.loc[:, \"date\": \"avg_temp_c\"]\n",
    "temperatures[\"date\"] = pd.to_datetime(temperatures[\"date\"], format=\"%Y-%m-%d\")\n",
    "temperatures[\"year\"] = temperatures[\"date\"].dt.year\n",
    "temp_by_country_city_vs_year = temperatures.pivot_table(index=[\"country\", \"city\"], columns=\"year\")\n",
    "temp_by_country_city_vs_year"
   ],
   "metadata": {
    "collapsed": false,
    "pycharm": {
     "name": "#%%\n"
    }
   }
  },
  {
   "cell_type": "markdown",
   "source": [
    "### Instructions"
   ],
   "metadata": {
    "collapsed": false,
    "pycharm": {
     "name": "#%% md\n"
    }
   }
  },
  {
   "cell_type": "markdown",
   "source": [
    "* Calculate the mean temperature for each year, assigning to `mean_temp_by_year`.\n",
    "* Filter `mean_temp_by_year` for the year that had the highest mean temperature.\n",
    "* Calculate the mean temperature for each city (across columns), assigning to `mean_temp_by_city`.\n",
    "* Filter `mean_temp_by_city` for the city that had the lowest mean temperature."
   ],
   "metadata": {
    "collapsed": false,
    "pycharm": {
     "name": "#%% md\n"
    }
   }
  },
  {
   "cell_type": "code",
   "execution_count": 11,
   "outputs": [
    {
     "data": {
      "text/plain": "            year\navg_temp_c  2000    19.506243\n            2001    19.679352\n            2002    19.855685\n            2003    19.630197\n            2004    19.672204\n            2005    19.607239\n            2006    19.793993\n            2007    19.854270\n            2008    19.608778\n            2009    19.833752\n            2010    19.911734\n            2011    19.549197\n            2012    19.668239\n            2013    20.312285\ndtype: float64"
     },
     "execution_count": 11,
     "metadata": {},
     "output_type": "execute_result"
    }
   ],
   "source": [
    "# Get the worldwide mean temp by year\n",
    "mean_temp_by_year = temp_by_country_city_vs_year.mean()\n",
    "mean_temp_by_year"
   ],
   "metadata": {
    "collapsed": false,
    "pycharm": {
     "name": "#%%\n"
    }
   }
  },
  {
   "cell_type": "code",
   "execution_count": 22,
   "outputs": [
    {
     "ename": "AttributeError",
     "evalue": "'Series' object has no attribute 'columns'",
     "output_type": "error",
     "traceback": [
      "\u001B[1;31m---------------------------------------------------------------------------\u001B[0m",
      "\u001B[1;31mAttributeError\u001B[0m                            Traceback (most recent call last)",
      "Input \u001B[1;32mIn [22]\u001B[0m, in \u001B[0;36m<cell line: 1>\u001B[1;34m()\u001B[0m\n\u001B[1;32m----> 1\u001B[0m \u001B[43mmean_temp_by_year\u001B[49m\u001B[38;5;241;43m.\u001B[39;49m\u001B[43mcolumns\u001B[49m\n",
      "File \u001B[1;32mc:\\users\\admin\\documents\\github\\crash course on python\\venv\\lib\\site-packages\\pandas\\core\\generic.py:5575\u001B[0m, in \u001B[0;36mNDFrame.__getattr__\u001B[1;34m(self, name)\u001B[0m\n\u001B[0;32m   5568\u001B[0m \u001B[38;5;28;01mif\u001B[39;00m (\n\u001B[0;32m   5569\u001B[0m     name \u001B[38;5;129;01mnot\u001B[39;00m \u001B[38;5;129;01min\u001B[39;00m \u001B[38;5;28mself\u001B[39m\u001B[38;5;241m.\u001B[39m_internal_names_set\n\u001B[0;32m   5570\u001B[0m     \u001B[38;5;129;01mand\u001B[39;00m name \u001B[38;5;129;01mnot\u001B[39;00m \u001B[38;5;129;01min\u001B[39;00m \u001B[38;5;28mself\u001B[39m\u001B[38;5;241m.\u001B[39m_metadata\n\u001B[0;32m   5571\u001B[0m     \u001B[38;5;129;01mand\u001B[39;00m name \u001B[38;5;129;01mnot\u001B[39;00m \u001B[38;5;129;01min\u001B[39;00m \u001B[38;5;28mself\u001B[39m\u001B[38;5;241m.\u001B[39m_accessors\n\u001B[0;32m   5572\u001B[0m     \u001B[38;5;129;01mand\u001B[39;00m \u001B[38;5;28mself\u001B[39m\u001B[38;5;241m.\u001B[39m_info_axis\u001B[38;5;241m.\u001B[39m_can_hold_identifiers_and_holds_name(name)\n\u001B[0;32m   5573\u001B[0m ):\n\u001B[0;32m   5574\u001B[0m     \u001B[38;5;28;01mreturn\u001B[39;00m \u001B[38;5;28mself\u001B[39m[name]\n\u001B[1;32m-> 5575\u001B[0m \u001B[38;5;28;01mreturn\u001B[39;00m \u001B[38;5;28;43mobject\u001B[39;49m\u001B[38;5;241;43m.\u001B[39;49m\u001B[38;5;21;43m__getattribute__\u001B[39;49m\u001B[43m(\u001B[49m\u001B[38;5;28;43mself\u001B[39;49m\u001B[43m,\u001B[49m\u001B[43m \u001B[49m\u001B[43mname\u001B[49m\u001B[43m)\u001B[49m\n",
      "\u001B[1;31mAttributeError\u001B[0m: 'Series' object has no attribute 'columns'"
     ]
    }
   ],
   "source": [
    "mean_temp_by_year.columns"
   ],
   "metadata": {
    "collapsed": false,
    "pycharm": {
     "name": "#%%\n"
    }
   }
  },
  {
   "cell_type": "code",
   "execution_count": 23,
   "outputs": [
    {
     "data": {
      "text/plain": "            year\navg_temp_c  2013    20.312285\ndtype: float64"
     },
     "execution_count": 23,
     "metadata": {},
     "output_type": "execute_result"
    }
   ],
   "source": [
    "# Filter for the year that had the highest mean temp\n",
    "mean_temp_by_year[mean_temp_by_year == mean_temp_by_year.max()]"
   ],
   "metadata": {
    "collapsed": false,
    "pycharm": {
     "name": "#%%\n"
    }
   }
  },
  {
   "cell_type": "code",
   "execution_count": 18,
   "outputs": [
    {
     "data": {
      "text/plain": "country        city            \nAfghanistan    Kabul               15.541955\nAngola         Luanda              24.391616\nAustralia      Melbourne           14.275411\n               Sydney              17.799250\nBangladesh     Dhaka               26.174440\n                                     ...    \nUnited States  Chicago             11.330825\n               Los Angeles         16.675399\n               New York            10.911034\nVietnam        Ho Chi Minh City    27.922857\nZimbabwe       Harare              20.699000\nLength: 100, dtype: float64"
     },
     "execution_count": 18,
     "metadata": {},
     "output_type": "execute_result"
    }
   ],
   "source": [
    "# Get the mean temp by city\n",
    "mean_temp_by_city = temp_by_country_city_vs_year.mean(axis=\"columns\")\n",
    "mean_temp_by_city"
   ],
   "metadata": {
    "collapsed": false,
    "pycharm": {
     "name": "#%%\n"
    }
   }
  },
  {
   "cell_type": "code",
   "execution_count": 25,
   "outputs": [
    {
     "data": {
      "text/plain": "country  city  \nChina    Harbin    4.876551\ndtype: float64"
     },
     "execution_count": 25,
     "metadata": {},
     "output_type": "execute_result"
    }
   ],
   "source": [
    "# Filter for the city that had the lowest mean temp\n",
    "mean_temp_by_city[mean_temp_by_city == mean_temp_by_city.min()]"
   ],
   "metadata": {
    "collapsed": false,
    "pycharm": {
     "name": "#%%\n"
    }
   }
  },
  {
   "cell_type": "code",
   "execution_count": null,
   "outputs": [],
   "source": [],
   "metadata": {
    "collapsed": false,
    "pycharm": {
     "name": "#%%\n"
    }
   }
  }
 ],
 "metadata": {
  "kernelspec": {
   "display_name": "Python 3",
   "language": "python",
   "name": "python3"
  },
  "language_info": {
   "codemirror_mode": {
    "name": "ipython",
    "version": 2
   },
   "file_extension": ".py",
   "mimetype": "text/x-python",
   "name": "python",
   "nbconvert_exporter": "python",
   "pygments_lexer": "ipython2",
   "version": "2.7.6"
  }
 },
 "nbformat": 4,
 "nbformat_minor": 0
}