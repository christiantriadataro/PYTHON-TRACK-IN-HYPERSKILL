{
 "cells": [
  {
   "cell_type": "markdown",
   "source": [
    "# Aggregating DataFrames"
   ],
   "metadata": {
    "collapsed": false,
    "pycharm": {
     "name": "#%% md\n"
    }
   }
  },
  {
   "cell_type": "markdown",
   "source": [
    "### Summary statistics"
   ],
   "metadata": {
    "collapsed": false,
    "pycharm": {
     "name": "#%% md\n"
    }
   }
  },
  {
   "cell_type": "markdown",
   "source": [
    "#### Summarizing numerical data"
   ],
   "metadata": {
    "collapsed": false,
    "pycharm": {
     "name": "#%% md\n"
    }
   }
  },
  {
   "cell_type": "code",
   "execution_count": 11,
   "outputs": [
    {
     "data": {
      "text/plain": "    Unnamed: 0              region                 state  individuals  \\\n0            0  East South Central               Alabama       2570.0   \n1            1             Pacific                Alaska       1434.0   \n2            2            Mountain               Arizona       7259.0   \n3            3  West South Central              Arkansas       2280.0   \n4            4             Pacific            California     109008.0   \n5            5            Mountain              Colorado       7607.0   \n6            6         New England           Connecticut       2280.0   \n7            7      South Atlantic              Delaware        708.0   \n8            8      South Atlantic  District of Columbia       3770.0   \n9            9      South Atlantic               Florida      21443.0   \n10          10      South Atlantic               Georgia       6943.0   \n11          11             Pacific                Hawaii       4131.0   \n12          12            Mountain                 Idaho       1297.0   \n13          13  East North Central              Illinois       6752.0   \n14          14  East North Central               Indiana       3776.0   \n15          15  West North Central                  Iowa       1711.0   \n16          16  West North Central                Kansas       1443.0   \n17          17  East South Central              Kentucky       2735.0   \n18          18  West South Central             Louisiana       2540.0   \n19          19         New England                 Maine       1450.0   \n20          20      South Atlantic              Maryland       4914.0   \n21          21         New England         Massachusetts       6811.0   \n22          22  East North Central              Michigan       5209.0   \n23          23  West North Central             Minnesota       3993.0   \n24          24  East South Central           Mississippi       1024.0   \n25          25  West North Central              Missouri       3776.0   \n26          26            Mountain               Montana        983.0   \n27          27  West North Central              Nebraska       1745.0   \n28          28            Mountain                Nevada       7058.0   \n29          29         New England         New Hampshire        835.0   \n30          30        Mid-Atlantic            New Jersey       6048.0   \n31          31            Mountain            New Mexico       1949.0   \n32          32        Mid-Atlantic              New York      39827.0   \n33          33      South Atlantic        North Carolina       6451.0   \n34          34  West North Central          North Dakota        467.0   \n35          35  East North Central                  Ohio       6929.0   \n36          36  West South Central              Oklahoma       2823.0   \n37          37             Pacific                Oregon      11139.0   \n38          38        Mid-Atlantic          Pennsylvania       8163.0   \n39          39         New England          Rhode Island        747.0   \n40          40      South Atlantic        South Carolina       3082.0   \n41          41  West North Central          South Dakota        836.0   \n42          42  East South Central             Tennessee       6139.0   \n43          43  West South Central                 Texas      19199.0   \n44          44            Mountain                  Utah       1904.0   \n45          45         New England               Vermont        780.0   \n46          46      South Atlantic              Virginia       3928.0   \n47          47             Pacific            Washington      16424.0   \n48          48      South Atlantic         West Virginia       1021.0   \n49          49  East North Central             Wisconsin       2740.0   \n50          50            Mountain               Wyoming        434.0   \n\n    family_members  state_pop  \n0            864.0    4887681  \n1            582.0     735139  \n2           2606.0    7158024  \n3            432.0    3009733  \n4          20964.0   39461588  \n5           3250.0    5691287  \n6           1696.0    3571520  \n7            374.0     965479  \n8           3134.0     701547  \n9           9587.0   21244317  \n10          2556.0   10511131  \n11          2399.0    1420593  \n12           715.0    1750536  \n13          3891.0   12723071  \n14          1482.0    6695497  \n15          1038.0    3148618  \n16           773.0    2911359  \n17           953.0    4461153  \n18           519.0    4659690  \n19          1066.0    1339057  \n20          2230.0    6035802  \n21         13257.0    6882635  \n22          3142.0    9984072  \n23          3250.0    5606249  \n24           328.0    2981020  \n25          2107.0    6121623  \n26           422.0    1060665  \n27           676.0    1925614  \n28           486.0    3027341  \n29           615.0    1353465  \n30          3350.0    8886025  \n31           602.0    2092741  \n32         52070.0   19530351  \n33          2817.0   10381615  \n34            75.0     758080  \n35          3320.0   11676341  \n36          1048.0    3940235  \n37          3337.0    4181886  \n38          5349.0   12800922  \n39           354.0    1058287  \n40           851.0    5084156  \n41           323.0     878698  \n42          1744.0    6771631  \n43          6111.0   28628666  \n44           972.0    3153550  \n45           511.0     624358  \n46          2047.0    8501286  \n47          5880.0    7523869  \n48           222.0    1804291  \n49          2167.0    5807406  \n50           205.0     577601  ",
      "text/html": "<div>\n<style scoped>\n    .dataframe tbody tr th:only-of-type {\n        vertical-align: middle;\n    }\n\n    .dataframe tbody tr th {\n        vertical-align: top;\n    }\n\n    .dataframe thead th {\n        text-align: right;\n    }\n</style>\n<table border=\"1\" class=\"dataframe\">\n  <thead>\n    <tr style=\"text-align: right;\">\n      <th></th>\n      <th>Unnamed: 0</th>\n      <th>region</th>\n      <th>state</th>\n      <th>individuals</th>\n      <th>family_members</th>\n      <th>state_pop</th>\n    </tr>\n  </thead>\n  <tbody>\n    <tr>\n      <th>0</th>\n      <td>0</td>\n      <td>East South Central</td>\n      <td>Alabama</td>\n      <td>2570.0</td>\n      <td>864.0</td>\n      <td>4887681</td>\n    </tr>\n    <tr>\n      <th>1</th>\n      <td>1</td>\n      <td>Pacific</td>\n      <td>Alaska</td>\n      <td>1434.0</td>\n      <td>582.0</td>\n      <td>735139</td>\n    </tr>\n    <tr>\n      <th>2</th>\n      <td>2</td>\n      <td>Mountain</td>\n      <td>Arizona</td>\n      <td>7259.0</td>\n      <td>2606.0</td>\n      <td>7158024</td>\n    </tr>\n    <tr>\n      <th>3</th>\n      <td>3</td>\n      <td>West South Central</td>\n      <td>Arkansas</td>\n      <td>2280.0</td>\n      <td>432.0</td>\n      <td>3009733</td>\n    </tr>\n    <tr>\n      <th>4</th>\n      <td>4</td>\n      <td>Pacific</td>\n      <td>California</td>\n      <td>109008.0</td>\n      <td>20964.0</td>\n      <td>39461588</td>\n    </tr>\n    <tr>\n      <th>5</th>\n      <td>5</td>\n      <td>Mountain</td>\n      <td>Colorado</td>\n      <td>7607.0</td>\n      <td>3250.0</td>\n      <td>5691287</td>\n    </tr>\n    <tr>\n      <th>6</th>\n      <td>6</td>\n      <td>New England</td>\n      <td>Connecticut</td>\n      <td>2280.0</td>\n      <td>1696.0</td>\n      <td>3571520</td>\n    </tr>\n    <tr>\n      <th>7</th>\n      <td>7</td>\n      <td>South Atlantic</td>\n      <td>Delaware</td>\n      <td>708.0</td>\n      <td>374.0</td>\n      <td>965479</td>\n    </tr>\n    <tr>\n      <th>8</th>\n      <td>8</td>\n      <td>South Atlantic</td>\n      <td>District of Columbia</td>\n      <td>3770.0</td>\n      <td>3134.0</td>\n      <td>701547</td>\n    </tr>\n    <tr>\n      <th>9</th>\n      <td>9</td>\n      <td>South Atlantic</td>\n      <td>Florida</td>\n      <td>21443.0</td>\n      <td>9587.0</td>\n      <td>21244317</td>\n    </tr>\n    <tr>\n      <th>10</th>\n      <td>10</td>\n      <td>South Atlantic</td>\n      <td>Georgia</td>\n      <td>6943.0</td>\n      <td>2556.0</td>\n      <td>10511131</td>\n    </tr>\n    <tr>\n      <th>11</th>\n      <td>11</td>\n      <td>Pacific</td>\n      <td>Hawaii</td>\n      <td>4131.0</td>\n      <td>2399.0</td>\n      <td>1420593</td>\n    </tr>\n    <tr>\n      <th>12</th>\n      <td>12</td>\n      <td>Mountain</td>\n      <td>Idaho</td>\n      <td>1297.0</td>\n      <td>715.0</td>\n      <td>1750536</td>\n    </tr>\n    <tr>\n      <th>13</th>\n      <td>13</td>\n      <td>East North Central</td>\n      <td>Illinois</td>\n      <td>6752.0</td>\n      <td>3891.0</td>\n      <td>12723071</td>\n    </tr>\n    <tr>\n      <th>14</th>\n      <td>14</td>\n      <td>East North Central</td>\n      <td>Indiana</td>\n      <td>3776.0</td>\n      <td>1482.0</td>\n      <td>6695497</td>\n    </tr>\n    <tr>\n      <th>15</th>\n      <td>15</td>\n      <td>West North Central</td>\n      <td>Iowa</td>\n      <td>1711.0</td>\n      <td>1038.0</td>\n      <td>3148618</td>\n    </tr>\n    <tr>\n      <th>16</th>\n      <td>16</td>\n      <td>West North Central</td>\n      <td>Kansas</td>\n      <td>1443.0</td>\n      <td>773.0</td>\n      <td>2911359</td>\n    </tr>\n    <tr>\n      <th>17</th>\n      <td>17</td>\n      <td>East South Central</td>\n      <td>Kentucky</td>\n      <td>2735.0</td>\n      <td>953.0</td>\n      <td>4461153</td>\n    </tr>\n    <tr>\n      <th>18</th>\n      <td>18</td>\n      <td>West South Central</td>\n      <td>Louisiana</td>\n      <td>2540.0</td>\n      <td>519.0</td>\n      <td>4659690</td>\n    </tr>\n    <tr>\n      <th>19</th>\n      <td>19</td>\n      <td>New England</td>\n      <td>Maine</td>\n      <td>1450.0</td>\n      <td>1066.0</td>\n      <td>1339057</td>\n    </tr>\n    <tr>\n      <th>20</th>\n      <td>20</td>\n      <td>South Atlantic</td>\n      <td>Maryland</td>\n      <td>4914.0</td>\n      <td>2230.0</td>\n      <td>6035802</td>\n    </tr>\n    <tr>\n      <th>21</th>\n      <td>21</td>\n      <td>New England</td>\n      <td>Massachusetts</td>\n      <td>6811.0</td>\n      <td>13257.0</td>\n      <td>6882635</td>\n    </tr>\n    <tr>\n      <th>22</th>\n      <td>22</td>\n      <td>East North Central</td>\n      <td>Michigan</td>\n      <td>5209.0</td>\n      <td>3142.0</td>\n      <td>9984072</td>\n    </tr>\n    <tr>\n      <th>23</th>\n      <td>23</td>\n      <td>West North Central</td>\n      <td>Minnesota</td>\n      <td>3993.0</td>\n      <td>3250.0</td>\n      <td>5606249</td>\n    </tr>\n    <tr>\n      <th>24</th>\n      <td>24</td>\n      <td>East South Central</td>\n      <td>Mississippi</td>\n      <td>1024.0</td>\n      <td>328.0</td>\n      <td>2981020</td>\n    </tr>\n    <tr>\n      <th>25</th>\n      <td>25</td>\n      <td>West North Central</td>\n      <td>Missouri</td>\n      <td>3776.0</td>\n      <td>2107.0</td>\n      <td>6121623</td>\n    </tr>\n    <tr>\n      <th>26</th>\n      <td>26</td>\n      <td>Mountain</td>\n      <td>Montana</td>\n      <td>983.0</td>\n      <td>422.0</td>\n      <td>1060665</td>\n    </tr>\n    <tr>\n      <th>27</th>\n      <td>27</td>\n      <td>West North Central</td>\n      <td>Nebraska</td>\n      <td>1745.0</td>\n      <td>676.0</td>\n      <td>1925614</td>\n    </tr>\n    <tr>\n      <th>28</th>\n      <td>28</td>\n      <td>Mountain</td>\n      <td>Nevada</td>\n      <td>7058.0</td>\n      <td>486.0</td>\n      <td>3027341</td>\n    </tr>\n    <tr>\n      <th>29</th>\n      <td>29</td>\n      <td>New England</td>\n      <td>New Hampshire</td>\n      <td>835.0</td>\n      <td>615.0</td>\n      <td>1353465</td>\n    </tr>\n    <tr>\n      <th>30</th>\n      <td>30</td>\n      <td>Mid-Atlantic</td>\n      <td>New Jersey</td>\n      <td>6048.0</td>\n      <td>3350.0</td>\n      <td>8886025</td>\n    </tr>\n    <tr>\n      <th>31</th>\n      <td>31</td>\n      <td>Mountain</td>\n      <td>New Mexico</td>\n      <td>1949.0</td>\n      <td>602.0</td>\n      <td>2092741</td>\n    </tr>\n    <tr>\n      <th>32</th>\n      <td>32</td>\n      <td>Mid-Atlantic</td>\n      <td>New York</td>\n      <td>39827.0</td>\n      <td>52070.0</td>\n      <td>19530351</td>\n    </tr>\n    <tr>\n      <th>33</th>\n      <td>33</td>\n      <td>South Atlantic</td>\n      <td>North Carolina</td>\n      <td>6451.0</td>\n      <td>2817.0</td>\n      <td>10381615</td>\n    </tr>\n    <tr>\n      <th>34</th>\n      <td>34</td>\n      <td>West North Central</td>\n      <td>North Dakota</td>\n      <td>467.0</td>\n      <td>75.0</td>\n      <td>758080</td>\n    </tr>\n    <tr>\n      <th>35</th>\n      <td>35</td>\n      <td>East North Central</td>\n      <td>Ohio</td>\n      <td>6929.0</td>\n      <td>3320.0</td>\n      <td>11676341</td>\n    </tr>\n    <tr>\n      <th>36</th>\n      <td>36</td>\n      <td>West South Central</td>\n      <td>Oklahoma</td>\n      <td>2823.0</td>\n      <td>1048.0</td>\n      <td>3940235</td>\n    </tr>\n    <tr>\n      <th>37</th>\n      <td>37</td>\n      <td>Pacific</td>\n      <td>Oregon</td>\n      <td>11139.0</td>\n      <td>3337.0</td>\n      <td>4181886</td>\n    </tr>\n    <tr>\n      <th>38</th>\n      <td>38</td>\n      <td>Mid-Atlantic</td>\n      <td>Pennsylvania</td>\n      <td>8163.0</td>\n      <td>5349.0</td>\n      <td>12800922</td>\n    </tr>\n    <tr>\n      <th>39</th>\n      <td>39</td>\n      <td>New England</td>\n      <td>Rhode Island</td>\n      <td>747.0</td>\n      <td>354.0</td>\n      <td>1058287</td>\n    </tr>\n    <tr>\n      <th>40</th>\n      <td>40</td>\n      <td>South Atlantic</td>\n      <td>South Carolina</td>\n      <td>3082.0</td>\n      <td>851.0</td>\n      <td>5084156</td>\n    </tr>\n    <tr>\n      <th>41</th>\n      <td>41</td>\n      <td>West North Central</td>\n      <td>South Dakota</td>\n      <td>836.0</td>\n      <td>323.0</td>\n      <td>878698</td>\n    </tr>\n    <tr>\n      <th>42</th>\n      <td>42</td>\n      <td>East South Central</td>\n      <td>Tennessee</td>\n      <td>6139.0</td>\n      <td>1744.0</td>\n      <td>6771631</td>\n    </tr>\n    <tr>\n      <th>43</th>\n      <td>43</td>\n      <td>West South Central</td>\n      <td>Texas</td>\n      <td>19199.0</td>\n      <td>6111.0</td>\n      <td>28628666</td>\n    </tr>\n    <tr>\n      <th>44</th>\n      <td>44</td>\n      <td>Mountain</td>\n      <td>Utah</td>\n      <td>1904.0</td>\n      <td>972.0</td>\n      <td>3153550</td>\n    </tr>\n    <tr>\n      <th>45</th>\n      <td>45</td>\n      <td>New England</td>\n      <td>Vermont</td>\n      <td>780.0</td>\n      <td>511.0</td>\n      <td>624358</td>\n    </tr>\n    <tr>\n      <th>46</th>\n      <td>46</td>\n      <td>South Atlantic</td>\n      <td>Virginia</td>\n      <td>3928.0</td>\n      <td>2047.0</td>\n      <td>8501286</td>\n    </tr>\n    <tr>\n      <th>47</th>\n      <td>47</td>\n      <td>Pacific</td>\n      <td>Washington</td>\n      <td>16424.0</td>\n      <td>5880.0</td>\n      <td>7523869</td>\n    </tr>\n    <tr>\n      <th>48</th>\n      <td>48</td>\n      <td>South Atlantic</td>\n      <td>West Virginia</td>\n      <td>1021.0</td>\n      <td>222.0</td>\n      <td>1804291</td>\n    </tr>\n    <tr>\n      <th>49</th>\n      <td>49</td>\n      <td>East North Central</td>\n      <td>Wisconsin</td>\n      <td>2740.0</td>\n      <td>2167.0</td>\n      <td>5807406</td>\n    </tr>\n    <tr>\n      <th>50</th>\n      <td>50</td>\n      <td>Mountain</td>\n      <td>Wyoming</td>\n      <td>434.0</td>\n      <td>205.0</td>\n      <td>577601</td>\n    </tr>\n  </tbody>\n</table>\n</div>"
     },
     "execution_count": 11,
     "metadata": {},
     "output_type": "execute_result"
    }
   ],
   "source": [
    "import pandas as pd\n",
    "df = pd.read_csv(\"../datasets/homelessness.csv\")\n",
    "d2 = pd.read_pickle(\"../datasets/avoplotto.pkl\")\n",
    "df"
   ],
   "metadata": {
    "collapsed": false,
    "pycharm": {
     "name": "#%%\n"
    }
   }
  },
  {
   "cell_type": "code",
   "execution_count": 6,
   "metadata": {
    "collapsed": true,
    "pycharm": {
     "name": "#%%\n"
    }
   },
   "outputs": [
    {
     "data": {
      "text/plain": "1.3190236686390533"
     },
     "execution_count": 6,
     "metadata": {},
     "output_type": "execute_result"
    }
   ],
   "source": [
    "d2[\"avg_price\"].mean()"
   ]
  },
  {
   "cell_type": "markdown",
   "source": [
    "* `median()`\n",
    "* `mode()`\n",
    "* `min()`\n",
    "* `max()`\n",
    "* `var()`\n",
    "* `std()`\n",
    "* `sum()`\n",
    "* `quantile()`"
   ],
   "metadata": {
    "collapsed": false,
    "pycharm": {
     "name": "#%% md\n"
    }
   }
  },
  {
   "cell_type": "markdown",
   "source": [],
   "metadata": {
    "collapsed": false,
    "pycharm": {
     "name": "#%% md\n"
    }
   }
  },
  {
   "cell_type": "markdown",
   "source": [
    "#### Summarizing dates\n",
    "Oldest dog:"
   ],
   "metadata": {
    "collapsed": false,
    "pycharm": {
     "name": "#%% md\n"
    }
   }
  },
  {
   "cell_type": "code",
   "execution_count": 7,
   "outputs": [
    {
     "data": {
      "text/plain": "'2015-01-04'"
     },
     "execution_count": 7,
     "metadata": {},
     "output_type": "execute_result"
    }
   ],
   "source": [
    "d2['date'].min()"
   ],
   "metadata": {
    "collapsed": false,
    "pycharm": {
     "name": "#%%\n"
    }
   }
  },
  {
   "cell_type": "code",
   "execution_count": 8,
   "outputs": [
    {
     "data": {
      "text/plain": "'2018-03-25'"
     },
     "execution_count": 8,
     "metadata": {},
     "output_type": "execute_result"
    }
   ],
   "source": [
    "d2['date'].max()"
   ],
   "metadata": {
    "collapsed": false,
    "pycharm": {
     "name": "#%%\n"
    }
   }
  },
  {
   "cell_type": "markdown",
   "source": [],
   "metadata": {
    "collapsed": false,
    "pycharm": {
     "name": "#%% md\n"
    }
   }
  },
  {
   "cell_type": "markdown",
   "source": [
    "#### The .agg() method"
   ],
   "metadata": {
    "collapsed": false,
    "pycharm": {
     "name": "#%% md\n"
    }
   }
  },
  {
   "cell_type": "code",
   "execution_count": 9,
   "outputs": [],
   "source": [
    "def pct30(column):\n",
    "    return column.quantile(0.3)"
   ],
   "metadata": {
    "collapsed": false,
    "pycharm": {
     "name": "#%%\n"
    }
   }
  },
  {
   "cell_type": "code",
   "execution_count": 10,
   "outputs": [
    {
     "data": {
      "text/plain": "1.07"
     },
     "execution_count": 10,
     "metadata": {},
     "output_type": "execute_result"
    }
   ],
   "source": [
    "d2['avg_price'].agg(pct30)"
   ],
   "metadata": {
    "collapsed": false,
    "pycharm": {
     "name": "#%%\n"
    }
   }
  },
  {
   "cell_type": "markdown",
   "source": [
    "#### Summaries on multiple columns"
   ],
   "metadata": {
    "collapsed": false,
    "pycharm": {
     "name": "#%% md\n"
    }
   }
  },
  {
   "cell_type": "code",
   "execution_count": 12,
   "outputs": [
    {
     "data": {
      "text/plain": "individuals       1745.0\nfamily_members     676.0\ndtype: float64"
     },
     "execution_count": 12,
     "metadata": {},
     "output_type": "execute_result"
    }
   ],
   "source": [
    "df[['individuals', 'family_members']].agg(pct30)"
   ],
   "metadata": {
    "collapsed": false,
    "pycharm": {
     "name": "#%%\n"
    }
   }
  },
  {
   "cell_type": "markdown",
   "source": [],
   "metadata": {
    "collapsed": false,
    "pycharm": {
     "name": "#%% md\n"
    }
   }
  },
  {
   "cell_type": "markdown",
   "source": [
    "#### Multiple summaries"
   ],
   "metadata": {
    "collapsed": false,
    "pycharm": {
     "name": "#%% md\n"
    }
   }
  },
  {
   "cell_type": "code",
   "execution_count": 13,
   "outputs": [],
   "source": [
    "def pct40(column):\n",
    "    return column.quantile(0.4)"
   ],
   "metadata": {
    "collapsed": false,
    "pycharm": {
     "name": "#%%\n"
    }
   }
  },
  {
   "cell_type": "code",
   "execution_count": 14,
   "outputs": [
    {
     "data": {
      "text/plain": "pct30    1745.0\npct40    2540.0\nName: individuals, dtype: float64"
     },
     "execution_count": 14,
     "metadata": {},
     "output_type": "execute_result"
    }
   ],
   "source": [
    "df['individuals'].agg([pct30, pct40])"
   ],
   "metadata": {
    "collapsed": false,
    "pycharm": {
     "name": "#%%\n"
    }
   }
  },
  {
   "cell_type": "markdown",
   "source": [],
   "metadata": {
    "collapsed": false,
    "pycharm": {
     "name": "#%% md\n"
    }
   }
  },
  {
   "cell_type": "markdown",
   "source": [
    "#### Cumulative sum"
   ],
   "metadata": {
    "collapsed": false,
    "pycharm": {
     "name": "#%% md\n"
    }
   }
  },
  {
   "cell_type": "code",
   "execution_count": 15,
   "outputs": [
    {
     "data": {
      "text/plain": "0       2570.0\n1       4004.0\n2      11263.0\n3      13543.0\n4     122551.0\n5     130158.0\n6     132438.0\n7     133146.0\n8     136916.0\n9     158359.0\n10    165302.0\n11    169433.0\n12    170730.0\n13    177482.0\n14    181258.0\n15    182969.0\n16    184412.0\n17    187147.0\n18    189687.0\n19    191137.0\n20    196051.0\n21    202862.0\n22    208071.0\n23    212064.0\n24    213088.0\n25    216864.0\n26    217847.0\n27    219592.0\n28    226650.0\n29    227485.0\n30    233533.0\n31    235482.0\n32    275309.0\n33    281760.0\n34    282227.0\n35    289156.0\n36    291979.0\n37    303118.0\n38    311281.0\n39    312028.0\n40    315110.0\n41    315946.0\n42    322085.0\n43    341284.0\n44    343188.0\n45    343968.0\n46    347896.0\n47    364320.0\n48    365341.0\n49    368081.0\n50    368515.0\nName: individuals, dtype: float64"
     },
     "execution_count": 15,
     "metadata": {},
     "output_type": "execute_result"
    }
   ],
   "source": [
    "df['individuals'].cumsum()"
   ],
   "metadata": {
    "collapsed": false,
    "pycharm": {
     "name": "#%%\n"
    }
   }
  },
  {
   "cell_type": "markdown",
   "source": [
    "#### Cumulative statistics"
   ],
   "metadata": {
    "collapsed": false,
    "pycharm": {
     "name": "#%% md\n"
    }
   }
  },
  {
   "cell_type": "markdown",
   "source": [
    "* `.cummax()`\n",
    "* `.cummin()`\n",
    "* `.cumprod()`"
   ],
   "metadata": {
    "collapsed": false,
    "pycharm": {
     "name": "#%% md\n"
    }
   }
  },
  {
   "cell_type": "code",
   "execution_count": null,
   "outputs": [],
   "source": [],
   "metadata": {
    "collapsed": false,
    "pycharm": {
     "name": "#%%\n"
    }
   }
  }
 ],
 "metadata": {
  "kernelspec": {
   "display_name": "Python 3",
   "language": "python",
   "name": "python3"
  },
  "language_info": {
   "codemirror_mode": {
    "name": "ipython",
    "version": 2
   },
   "file_extension": ".py",
   "mimetype": "text/x-python",
   "name": "python",
   "nbconvert_exporter": "python",
   "pygments_lexer": "ipython2",
   "version": "2.7.6"
  }
 },
 "nbformat": 4,
 "nbformat_minor": 0
}