{
 "cells": [
  {
   "cell_type": "markdown",
   "source": [
    "## Aggregating DataFrames"
   ],
   "metadata": {
    "collapsed": false,
    "pycharm": {
     "name": "#%% md\n"
    }
   }
  },
  {
   "cell_type": "markdown",
   "source": [
    "#### Grouped summary statistics"
   ],
   "metadata": {
    "collapsed": false,
    "pycharm": {
     "name": "#%% md\n"
    }
   }
  },
  {
   "cell_type": "markdown",
   "source": [
    "#### Grouped summaries"
   ],
   "metadata": {
    "collapsed": false,
    "pycharm": {
     "name": "#%% md\n"
    }
   }
  },
  {
   "cell_type": "code",
   "execution_count": 7,
   "outputs": [
    {
     "data": {
      "text/plain": "       Unnamed: 0        date              city  \\\n0               0  2000-01-01           Abidjan   \n165           165  2000-01-01       Addis Abeba   \n330           330  2000-01-01         Ahmadabad   \n495           495  2000-01-01            Aleppo   \n660           660  2000-01-01        Alexandria   \n825           825  2000-01-01            Ankara   \n990           990  2000-01-01           Baghdad   \n1320         1320  2000-01-01           Bangkok   \n1485         1485  2000-01-01    Belo Horizonte   \n1650         1650  2000-01-01            Berlin   \n1815         1815  2000-01-01            Bogotá   \n2805         2805  2000-01-01         Cape Town   \n2970         2970  2000-01-01        Casablanca   \n3135         3135  2000-01-01         Changchun   \n3465         3465  2000-01-01           Chicago   \n3795         3795  2000-01-01             Dakar   \n4125         4125  2000-01-01     Dar Es Salaam   \n4455         4455  2000-01-01             Dhaka   \n4785         4785  2000-01-01        Faisalabad   \n5445         5445  2000-01-01            Harare   \n5775         5775  2000-01-01  Ho Chi Minh City   \n6105         6105  2000-01-01            Ibadan   \n6765         6765  2000-01-01           Jakarta   \n6930         6930  2000-01-01            Jiddah   \n7260         7260  2000-01-01             Kabul   \n7920         7920  2000-01-01              Kiev   \n8085         8085  2000-01-01          Kinshasa   \n8745         8745  2000-01-01              Lima   \n8910         8910  2000-01-01            London   \n9240         9240  2000-01-01            Luanda   \n9570         9570  2000-01-01            Madrid   \n9735         9735  2000-01-01            Manila   \n9900         9900  2000-01-01           Mashhad   \n10065       10065  2000-01-01         Melbourne   \n10230       10230  2000-01-01            Mexico   \n10395       10395  2000-01-01         Mogadishu   \n10560       10560  2000-01-01          Montreal   \n10725       10725  2000-01-01            Moscow   \n10890       10890  2000-01-01            Nagoya   \n11220       11220  2000-01-01           Nairobi   \n11880       11880  2000-01-01             Paris   \n12375       12375  2000-01-01           Rangoon   \n12870       12870  2000-01-01              Rome   \n13530       13530  2000-01-01          Santiago   \n13695       13695  2000-01-01     Santo Domingo   \n13860       13860  2000-01-01             Seoul   \n14355       14355  2000-01-01         Singapore   \n15015       15015  2000-01-01            Taipei   \n16005       16005  2000-01-01        Umm Durman   \n\n                                  country  avg_temp_c  \n0                           Côte D'Ivoire      27.293  \n165                              Ethiopia      17.391  \n330                                 India      20.781  \n495                                 Syria       5.205  \n660                                 Egypt      13.579  \n825                                Turkey      -4.621  \n990                                  Iraq      10.024  \n1320                             Thailand      25.980  \n1485                               Brazil      23.369  \n1650                              Germany       1.324  \n1815                             Colombia      19.763  \n2805                         South Africa      21.512  \n2970                              Morocco       8.894  \n3135                                China     -18.759  \n3465                        United States       0.137  \n3795                              Senegal      22.192  \n4125                             Tanzania      28.068  \n4455                           Bangladesh      18.829  \n4785                             Pakistan      12.792  \n5445                             Zimbabwe      22.119  \n5775                              Vietnam      26.647  \n6105                              Nigeria      27.352  \n6765                            Indonesia      26.607  \n6930                         Saudi Arabia      23.262  \n7260                          Afghanistan       3.326  \n7920                              Ukraine      -5.483  \n8085   Congo (Democratic Republic Of The)      24.543  \n8745                                 Peru      19.455  \n8910                       United Kingdom       4.693  \n9240                               Angola      25.077  \n9570                                Spain       1.912  \n9735                          Philippines      25.700  \n9900                                 Iran       1.960  \n10065                           Australia      18.527  \n10230                              Mexico      12.694  \n10395                             Somalia      26.680  \n10560                              Canada     -11.684  \n10725                              Russia      -7.313  \n10890                               Japan       5.907  \n11220                               Kenya      16.631  \n11880                              France       3.845  \n12375                               Burma      24.992  \n12870                               Italy       2.434  \n13530                               Chile      12.444  \n13695                  Dominican Republic      23.930  \n13860                         South Korea      -3.216  \n14355                           Singapore      26.016  \n15015                              Taiwan      18.086  \n16005                               Sudan      23.375  ",
      "text/html": "<div>\n<style scoped>\n    .dataframe tbody tr th:only-of-type {\n        vertical-align: middle;\n    }\n\n    .dataframe tbody tr th {\n        vertical-align: top;\n    }\n\n    .dataframe thead th {\n        text-align: right;\n    }\n</style>\n<table border=\"1\" class=\"dataframe\">\n  <thead>\n    <tr style=\"text-align: right;\">\n      <th></th>\n      <th>Unnamed: 0</th>\n      <th>date</th>\n      <th>city</th>\n      <th>country</th>\n      <th>avg_temp_c</th>\n    </tr>\n  </thead>\n  <tbody>\n    <tr>\n      <th>0</th>\n      <td>0</td>\n      <td>2000-01-01</td>\n      <td>Abidjan</td>\n      <td>Côte D'Ivoire</td>\n      <td>27.293</td>\n    </tr>\n    <tr>\n      <th>165</th>\n      <td>165</td>\n      <td>2000-01-01</td>\n      <td>Addis Abeba</td>\n      <td>Ethiopia</td>\n      <td>17.391</td>\n    </tr>\n    <tr>\n      <th>330</th>\n      <td>330</td>\n      <td>2000-01-01</td>\n      <td>Ahmadabad</td>\n      <td>India</td>\n      <td>20.781</td>\n    </tr>\n    <tr>\n      <th>495</th>\n      <td>495</td>\n      <td>2000-01-01</td>\n      <td>Aleppo</td>\n      <td>Syria</td>\n      <td>5.205</td>\n    </tr>\n    <tr>\n      <th>660</th>\n      <td>660</td>\n      <td>2000-01-01</td>\n      <td>Alexandria</td>\n      <td>Egypt</td>\n      <td>13.579</td>\n    </tr>\n    <tr>\n      <th>825</th>\n      <td>825</td>\n      <td>2000-01-01</td>\n      <td>Ankara</td>\n      <td>Turkey</td>\n      <td>-4.621</td>\n    </tr>\n    <tr>\n      <th>990</th>\n      <td>990</td>\n      <td>2000-01-01</td>\n      <td>Baghdad</td>\n      <td>Iraq</td>\n      <td>10.024</td>\n    </tr>\n    <tr>\n      <th>1320</th>\n      <td>1320</td>\n      <td>2000-01-01</td>\n      <td>Bangkok</td>\n      <td>Thailand</td>\n      <td>25.980</td>\n    </tr>\n    <tr>\n      <th>1485</th>\n      <td>1485</td>\n      <td>2000-01-01</td>\n      <td>Belo Horizonte</td>\n      <td>Brazil</td>\n      <td>23.369</td>\n    </tr>\n    <tr>\n      <th>1650</th>\n      <td>1650</td>\n      <td>2000-01-01</td>\n      <td>Berlin</td>\n      <td>Germany</td>\n      <td>1.324</td>\n    </tr>\n    <tr>\n      <th>1815</th>\n      <td>1815</td>\n      <td>2000-01-01</td>\n      <td>Bogotá</td>\n      <td>Colombia</td>\n      <td>19.763</td>\n    </tr>\n    <tr>\n      <th>2805</th>\n      <td>2805</td>\n      <td>2000-01-01</td>\n      <td>Cape Town</td>\n      <td>South Africa</td>\n      <td>21.512</td>\n    </tr>\n    <tr>\n      <th>2970</th>\n      <td>2970</td>\n      <td>2000-01-01</td>\n      <td>Casablanca</td>\n      <td>Morocco</td>\n      <td>8.894</td>\n    </tr>\n    <tr>\n      <th>3135</th>\n      <td>3135</td>\n      <td>2000-01-01</td>\n      <td>Changchun</td>\n      <td>China</td>\n      <td>-18.759</td>\n    </tr>\n    <tr>\n      <th>3465</th>\n      <td>3465</td>\n      <td>2000-01-01</td>\n      <td>Chicago</td>\n      <td>United States</td>\n      <td>0.137</td>\n    </tr>\n    <tr>\n      <th>3795</th>\n      <td>3795</td>\n      <td>2000-01-01</td>\n      <td>Dakar</td>\n      <td>Senegal</td>\n      <td>22.192</td>\n    </tr>\n    <tr>\n      <th>4125</th>\n      <td>4125</td>\n      <td>2000-01-01</td>\n      <td>Dar Es Salaam</td>\n      <td>Tanzania</td>\n      <td>28.068</td>\n    </tr>\n    <tr>\n      <th>4455</th>\n      <td>4455</td>\n      <td>2000-01-01</td>\n      <td>Dhaka</td>\n      <td>Bangladesh</td>\n      <td>18.829</td>\n    </tr>\n    <tr>\n      <th>4785</th>\n      <td>4785</td>\n      <td>2000-01-01</td>\n      <td>Faisalabad</td>\n      <td>Pakistan</td>\n      <td>12.792</td>\n    </tr>\n    <tr>\n      <th>5445</th>\n      <td>5445</td>\n      <td>2000-01-01</td>\n      <td>Harare</td>\n      <td>Zimbabwe</td>\n      <td>22.119</td>\n    </tr>\n    <tr>\n      <th>5775</th>\n      <td>5775</td>\n      <td>2000-01-01</td>\n      <td>Ho Chi Minh City</td>\n      <td>Vietnam</td>\n      <td>26.647</td>\n    </tr>\n    <tr>\n      <th>6105</th>\n      <td>6105</td>\n      <td>2000-01-01</td>\n      <td>Ibadan</td>\n      <td>Nigeria</td>\n      <td>27.352</td>\n    </tr>\n    <tr>\n      <th>6765</th>\n      <td>6765</td>\n      <td>2000-01-01</td>\n      <td>Jakarta</td>\n      <td>Indonesia</td>\n      <td>26.607</td>\n    </tr>\n    <tr>\n      <th>6930</th>\n      <td>6930</td>\n      <td>2000-01-01</td>\n      <td>Jiddah</td>\n      <td>Saudi Arabia</td>\n      <td>23.262</td>\n    </tr>\n    <tr>\n      <th>7260</th>\n      <td>7260</td>\n      <td>2000-01-01</td>\n      <td>Kabul</td>\n      <td>Afghanistan</td>\n      <td>3.326</td>\n    </tr>\n    <tr>\n      <th>7920</th>\n      <td>7920</td>\n      <td>2000-01-01</td>\n      <td>Kiev</td>\n      <td>Ukraine</td>\n      <td>-5.483</td>\n    </tr>\n    <tr>\n      <th>8085</th>\n      <td>8085</td>\n      <td>2000-01-01</td>\n      <td>Kinshasa</td>\n      <td>Congo (Democratic Republic Of The)</td>\n      <td>24.543</td>\n    </tr>\n    <tr>\n      <th>8745</th>\n      <td>8745</td>\n      <td>2000-01-01</td>\n      <td>Lima</td>\n      <td>Peru</td>\n      <td>19.455</td>\n    </tr>\n    <tr>\n      <th>8910</th>\n      <td>8910</td>\n      <td>2000-01-01</td>\n      <td>London</td>\n      <td>United Kingdom</td>\n      <td>4.693</td>\n    </tr>\n    <tr>\n      <th>9240</th>\n      <td>9240</td>\n      <td>2000-01-01</td>\n      <td>Luanda</td>\n      <td>Angola</td>\n      <td>25.077</td>\n    </tr>\n    <tr>\n      <th>9570</th>\n      <td>9570</td>\n      <td>2000-01-01</td>\n      <td>Madrid</td>\n      <td>Spain</td>\n      <td>1.912</td>\n    </tr>\n    <tr>\n      <th>9735</th>\n      <td>9735</td>\n      <td>2000-01-01</td>\n      <td>Manila</td>\n      <td>Philippines</td>\n      <td>25.700</td>\n    </tr>\n    <tr>\n      <th>9900</th>\n      <td>9900</td>\n      <td>2000-01-01</td>\n      <td>Mashhad</td>\n      <td>Iran</td>\n      <td>1.960</td>\n    </tr>\n    <tr>\n      <th>10065</th>\n      <td>10065</td>\n      <td>2000-01-01</td>\n      <td>Melbourne</td>\n      <td>Australia</td>\n      <td>18.527</td>\n    </tr>\n    <tr>\n      <th>10230</th>\n      <td>10230</td>\n      <td>2000-01-01</td>\n      <td>Mexico</td>\n      <td>Mexico</td>\n      <td>12.694</td>\n    </tr>\n    <tr>\n      <th>10395</th>\n      <td>10395</td>\n      <td>2000-01-01</td>\n      <td>Mogadishu</td>\n      <td>Somalia</td>\n      <td>26.680</td>\n    </tr>\n    <tr>\n      <th>10560</th>\n      <td>10560</td>\n      <td>2000-01-01</td>\n      <td>Montreal</td>\n      <td>Canada</td>\n      <td>-11.684</td>\n    </tr>\n    <tr>\n      <th>10725</th>\n      <td>10725</td>\n      <td>2000-01-01</td>\n      <td>Moscow</td>\n      <td>Russia</td>\n      <td>-7.313</td>\n    </tr>\n    <tr>\n      <th>10890</th>\n      <td>10890</td>\n      <td>2000-01-01</td>\n      <td>Nagoya</td>\n      <td>Japan</td>\n      <td>5.907</td>\n    </tr>\n    <tr>\n      <th>11220</th>\n      <td>11220</td>\n      <td>2000-01-01</td>\n      <td>Nairobi</td>\n      <td>Kenya</td>\n      <td>16.631</td>\n    </tr>\n    <tr>\n      <th>11880</th>\n      <td>11880</td>\n      <td>2000-01-01</td>\n      <td>Paris</td>\n      <td>France</td>\n      <td>3.845</td>\n    </tr>\n    <tr>\n      <th>12375</th>\n      <td>12375</td>\n      <td>2000-01-01</td>\n      <td>Rangoon</td>\n      <td>Burma</td>\n      <td>24.992</td>\n    </tr>\n    <tr>\n      <th>12870</th>\n      <td>12870</td>\n      <td>2000-01-01</td>\n      <td>Rome</td>\n      <td>Italy</td>\n      <td>2.434</td>\n    </tr>\n    <tr>\n      <th>13530</th>\n      <td>13530</td>\n      <td>2000-01-01</td>\n      <td>Santiago</td>\n      <td>Chile</td>\n      <td>12.444</td>\n    </tr>\n    <tr>\n      <th>13695</th>\n      <td>13695</td>\n      <td>2000-01-01</td>\n      <td>Santo Domingo</td>\n      <td>Dominican Republic</td>\n      <td>23.930</td>\n    </tr>\n    <tr>\n      <th>13860</th>\n      <td>13860</td>\n      <td>2000-01-01</td>\n      <td>Seoul</td>\n      <td>South Korea</td>\n      <td>-3.216</td>\n    </tr>\n    <tr>\n      <th>14355</th>\n      <td>14355</td>\n      <td>2000-01-01</td>\n      <td>Singapore</td>\n      <td>Singapore</td>\n      <td>26.016</td>\n    </tr>\n    <tr>\n      <th>15015</th>\n      <td>15015</td>\n      <td>2000-01-01</td>\n      <td>Taipei</td>\n      <td>Taiwan</td>\n      <td>18.086</td>\n    </tr>\n    <tr>\n      <th>16005</th>\n      <td>16005</td>\n      <td>2000-01-01</td>\n      <td>Umm Durman</td>\n      <td>Sudan</td>\n      <td>23.375</td>\n    </tr>\n  </tbody>\n</table>\n</div>"
     },
     "execution_count": 7,
     "metadata": {},
     "output_type": "execute_result"
    }
   ],
   "source": [
    "# importing pandas\n",
    "import pandas as pd\n",
    "\n",
    "# importing sales dataset\n",
    "temp = pd.read_csv(\"../datasets/temperatures.csv\")\n",
    "temp.drop_duplicates(\"country\")"
   ],
   "metadata": {
    "collapsed": false,
    "pycharm": {
     "name": "#%%\n"
    }
   }
  },
  {
   "cell_type": "markdown",
   "source": [
    "#### Summaries by group"
   ],
   "metadata": {
    "collapsed": false,
    "pycharm": {
     "name": "#%% md\n"
    }
   }
  },
  {
   "cell_type": "code",
   "execution_count": 13,
   "metadata": {
    "collapsed": true,
    "pycharm": {
     "name": "#%%\n"
    }
   },
   "outputs": [
    {
     "data": {
      "text/plain": "26.633254790940768"
     },
     "metadata": {},
     "output_type": "display_data"
    },
    {
     "data": {
      "text/plain": "22.044806910569108"
     },
     "metadata": {},
     "output_type": "display_data"
    },
    {
     "data": {
      "text/plain": "14.79979268292683"
     },
     "metadata": {},
     "output_type": "display_data"
    },
    {
     "data": {
      "text/plain": "24.074841463414636"
     },
     "metadata": {},
     "output_type": "display_data"
    },
    {
     "data": {
      "text/plain": "23.906030487804877"
     },
     "metadata": {},
     "output_type": "display_data"
    }
   ],
   "source": [
    "display(temp[temp[\"country\"] == \"India\"][\"avg_temp_c\"].mean())\n",
    "display(temp[temp[\"country\"] == \"Egypt\"][\"avg_temp_c\"].mean())\n",
    "display(temp[temp[\"country\"] == \"Turkey\"][\"avg_temp_c\"].mean())\n",
    "display(temp[temp[\"country\"] == \"Iraq\"][\"avg_temp_c\"].mean())\n",
    "display(temp[temp[\"country\"] == \"Brazil\"][\"avg_temp_c\"].mean())"
   ]
  },
  {
   "cell_type": "markdown",
   "source": [],
   "metadata": {
    "collapsed": false,
    "pycharm": {
     "name": "#%% md\n"
    }
   }
  },
  {
   "cell_type": "markdown",
   "source": [
    "#### Grouped summaries"
   ],
   "metadata": {
    "collapsed": false,
    "pycharm": {
     "name": "#%% md\n"
    }
   }
  },
  {
   "cell_type": "code",
   "execution_count": 14,
   "outputs": [
    {
     "data": {
      "text/plain": "country\nAfghanistan                           15.525756\nAngola                                24.387659\nAustralia                             16.028104\nBangladesh                            26.164378\nBrazil                                23.906030\nBurma                                 27.514213\nCanada                                 6.637158\nChile                                  6.345768\nChina                                 12.983107\nColombia                              21.649607\nCongo (Democratic Republic Of The)    24.504963\nCôte D'Ivoire                         26.971024\nDominican Republic                    26.852800\nEgypt                                 22.044807\nEthiopia                              18.425378\nFrance                                11.514274\nGermany                               10.152421\nIndia                                 26.633255\nIndonesia                             27.408634\nIran                                  14.228701\nIraq                                  24.074841\nItaly                                 13.127646\nJapan                                 14.526165\nKenya                                 16.817134\nMexico                                16.406630\nMorocco                               18.336195\nNigeria                               27.176191\nPakistan                              25.824654\nPeru                                  17.203762\nPhilippines                           27.153518\nRussia                                 5.557576\nSaudi Arabia                          27.635610\nSenegal                               25.425994\nSingapore                             27.323165\nSomalia                               27.963183\nSouth Africa                          18.913680\nSouth Korea                           11.693262\nSpain                                 12.460860\nSudan                                 29.981780\nSyria                                 18.501244\nTaiwan                                23.078829\nTanzania                              26.481774\nThailand                              27.929518\nTurkey                                14.799793\nUkraine                                8.701683\nUnited Kingdom                        10.523585\nUnited States                         12.954515\nVietnam                               27.909878\nZimbabwe                              20.721988\nName: avg_temp_c, dtype: float64"
     },
     "execution_count": 14,
     "metadata": {},
     "output_type": "execute_result"
    }
   ],
   "source": [
    "temp.groupby(\"country\")[\"avg_temp_c\"].mean()"
   ],
   "metadata": {
    "collapsed": false,
    "pycharm": {
     "name": "#%%\n"
    }
   }
  },
  {
   "cell_type": "markdown",
   "source": [
    "#### Multiple grouped summaries"
   ],
   "metadata": {
    "collapsed": false,
    "pycharm": {
     "name": "#%% md\n"
    }
   }
  },
  {
   "cell_type": "code",
   "execution_count": 15,
   "outputs": [
    {
     "data": {
      "text/plain": "                                       min     max        sum\ncountry                                                      \nAfghanistan                         -0.906  27.583   2546.224\nAngola                              20.302  27.018   3999.576\nAustralia                            8.023  22.224   5257.218\nBangladesh                          17.116  30.517   4290.958\nBrazil                              15.649  29.986  23523.534\nBurma                               23.959  31.960   4512.331\nCanada                             -16.513  21.956   2190.262\nChile                               -2.411  13.918   1040.706\nChina                              -23.495  31.171  34067.674\nColombia                            19.461  24.273   7101.071\nCongo (Democratic Republic Of The)  21.753  26.426   4018.814\nCôte D'Ivoire                       24.280  29.596   4423.248\nDominican Republic                  23.930  29.012   4430.712\nEgypt                               12.031  30.767  10846.045\nEthiopia                            16.620  21.223   3021.762\nFrance                               0.182  23.264   1888.341\nGermany                             -4.702  23.795   1664.997\nIndia                               13.147  36.477  61149.953\nIndonesia                           26.292  29.608   8990.032\nIran                                -8.384  26.771   2333.507\nIraq                                 6.766  38.283   3948.274\nItaly                                1.802  25.951   2152.934\nJapan                                0.573  28.454   4764.582\nKenya                               14.456  19.431   2758.010\nMexico                              11.375  20.928   2707.094\nMorocco                              8.295  28.249   3007.136\nNigeria                             19.848  33.068  13370.686\nPakistan                            11.285  35.649  12705.730\nPeru                                13.186  22.245   2821.417\nPhilippines                         24.824  30.201   4453.177\nRussia                             -15.846  24.580   1822.885\nSaudi Arabia                        12.071  37.859   9064.480\nSenegal                             20.575  29.228   4169.863\nSingapore                           25.957  28.822   4480.999\nSomalia                             25.654  30.256   4585.962\nSouth Africa                        11.473  24.865   6203.687\nSouth Korea                         -7.279  26.791   1917.695\nSpain                                1.746  24.524   2043.581\nSudan                               20.712  35.700   4917.012\nSyria                                3.063  32.629   3034.204\nTaiwan                              14.873  29.506   3784.928\nTanzania                            24.088  29.131   4343.011\nThailand                            23.707  31.115   4580.441\nTurkey                              -5.373  28.952   7281.498\nUkraine                            -10.942  24.593   1427.076\nUnited Kingdom                      -0.024  20.743   1725.868\nUnited States                       -6.325  27.336   6412.485\nVietnam                             25.059  30.702   4577.220\nZimbabwe                            14.623  25.224   3398.406",
      "text/html": "<div>\n<style scoped>\n    .dataframe tbody tr th:only-of-type {\n        vertical-align: middle;\n    }\n\n    .dataframe tbody tr th {\n        vertical-align: top;\n    }\n\n    .dataframe thead th {\n        text-align: right;\n    }\n</style>\n<table border=\"1\" class=\"dataframe\">\n  <thead>\n    <tr style=\"text-align: right;\">\n      <th></th>\n      <th>min</th>\n      <th>max</th>\n      <th>sum</th>\n    </tr>\n    <tr>\n      <th>country</th>\n      <th></th>\n      <th></th>\n      <th></th>\n    </tr>\n  </thead>\n  <tbody>\n    <tr>\n      <th>Afghanistan</th>\n      <td>-0.906</td>\n      <td>27.583</td>\n      <td>2546.224</td>\n    </tr>\n    <tr>\n      <th>Angola</th>\n      <td>20.302</td>\n      <td>27.018</td>\n      <td>3999.576</td>\n    </tr>\n    <tr>\n      <th>Australia</th>\n      <td>8.023</td>\n      <td>22.224</td>\n      <td>5257.218</td>\n    </tr>\n    <tr>\n      <th>Bangladesh</th>\n      <td>17.116</td>\n      <td>30.517</td>\n      <td>4290.958</td>\n    </tr>\n    <tr>\n      <th>Brazil</th>\n      <td>15.649</td>\n      <td>29.986</td>\n      <td>23523.534</td>\n    </tr>\n    <tr>\n      <th>Burma</th>\n      <td>23.959</td>\n      <td>31.960</td>\n      <td>4512.331</td>\n    </tr>\n    <tr>\n      <th>Canada</th>\n      <td>-16.513</td>\n      <td>21.956</td>\n      <td>2190.262</td>\n    </tr>\n    <tr>\n      <th>Chile</th>\n      <td>-2.411</td>\n      <td>13.918</td>\n      <td>1040.706</td>\n    </tr>\n    <tr>\n      <th>China</th>\n      <td>-23.495</td>\n      <td>31.171</td>\n      <td>34067.674</td>\n    </tr>\n    <tr>\n      <th>Colombia</th>\n      <td>19.461</td>\n      <td>24.273</td>\n      <td>7101.071</td>\n    </tr>\n    <tr>\n      <th>Congo (Democratic Republic Of The)</th>\n      <td>21.753</td>\n      <td>26.426</td>\n      <td>4018.814</td>\n    </tr>\n    <tr>\n      <th>Côte D'Ivoire</th>\n      <td>24.280</td>\n      <td>29.596</td>\n      <td>4423.248</td>\n    </tr>\n    <tr>\n      <th>Dominican Republic</th>\n      <td>23.930</td>\n      <td>29.012</td>\n      <td>4430.712</td>\n    </tr>\n    <tr>\n      <th>Egypt</th>\n      <td>12.031</td>\n      <td>30.767</td>\n      <td>10846.045</td>\n    </tr>\n    <tr>\n      <th>Ethiopia</th>\n      <td>16.620</td>\n      <td>21.223</td>\n      <td>3021.762</td>\n    </tr>\n    <tr>\n      <th>France</th>\n      <td>0.182</td>\n      <td>23.264</td>\n      <td>1888.341</td>\n    </tr>\n    <tr>\n      <th>Germany</th>\n      <td>-4.702</td>\n      <td>23.795</td>\n      <td>1664.997</td>\n    </tr>\n    <tr>\n      <th>India</th>\n      <td>13.147</td>\n      <td>36.477</td>\n      <td>61149.953</td>\n    </tr>\n    <tr>\n      <th>Indonesia</th>\n      <td>26.292</td>\n      <td>29.608</td>\n      <td>8990.032</td>\n    </tr>\n    <tr>\n      <th>Iran</th>\n      <td>-8.384</td>\n      <td>26.771</td>\n      <td>2333.507</td>\n    </tr>\n    <tr>\n      <th>Iraq</th>\n      <td>6.766</td>\n      <td>38.283</td>\n      <td>3948.274</td>\n    </tr>\n    <tr>\n      <th>Italy</th>\n      <td>1.802</td>\n      <td>25.951</td>\n      <td>2152.934</td>\n    </tr>\n    <tr>\n      <th>Japan</th>\n      <td>0.573</td>\n      <td>28.454</td>\n      <td>4764.582</td>\n    </tr>\n    <tr>\n      <th>Kenya</th>\n      <td>14.456</td>\n      <td>19.431</td>\n      <td>2758.010</td>\n    </tr>\n    <tr>\n      <th>Mexico</th>\n      <td>11.375</td>\n      <td>20.928</td>\n      <td>2707.094</td>\n    </tr>\n    <tr>\n      <th>Morocco</th>\n      <td>8.295</td>\n      <td>28.249</td>\n      <td>3007.136</td>\n    </tr>\n    <tr>\n      <th>Nigeria</th>\n      <td>19.848</td>\n      <td>33.068</td>\n      <td>13370.686</td>\n    </tr>\n    <tr>\n      <th>Pakistan</th>\n      <td>11.285</td>\n      <td>35.649</td>\n      <td>12705.730</td>\n    </tr>\n    <tr>\n      <th>Peru</th>\n      <td>13.186</td>\n      <td>22.245</td>\n      <td>2821.417</td>\n    </tr>\n    <tr>\n      <th>Philippines</th>\n      <td>24.824</td>\n      <td>30.201</td>\n      <td>4453.177</td>\n    </tr>\n    <tr>\n      <th>Russia</th>\n      <td>-15.846</td>\n      <td>24.580</td>\n      <td>1822.885</td>\n    </tr>\n    <tr>\n      <th>Saudi Arabia</th>\n      <td>12.071</td>\n      <td>37.859</td>\n      <td>9064.480</td>\n    </tr>\n    <tr>\n      <th>Senegal</th>\n      <td>20.575</td>\n      <td>29.228</td>\n      <td>4169.863</td>\n    </tr>\n    <tr>\n      <th>Singapore</th>\n      <td>25.957</td>\n      <td>28.822</td>\n      <td>4480.999</td>\n    </tr>\n    <tr>\n      <th>Somalia</th>\n      <td>25.654</td>\n      <td>30.256</td>\n      <td>4585.962</td>\n    </tr>\n    <tr>\n      <th>South Africa</th>\n      <td>11.473</td>\n      <td>24.865</td>\n      <td>6203.687</td>\n    </tr>\n    <tr>\n      <th>South Korea</th>\n      <td>-7.279</td>\n      <td>26.791</td>\n      <td>1917.695</td>\n    </tr>\n    <tr>\n      <th>Spain</th>\n      <td>1.746</td>\n      <td>24.524</td>\n      <td>2043.581</td>\n    </tr>\n    <tr>\n      <th>Sudan</th>\n      <td>20.712</td>\n      <td>35.700</td>\n      <td>4917.012</td>\n    </tr>\n    <tr>\n      <th>Syria</th>\n      <td>3.063</td>\n      <td>32.629</td>\n      <td>3034.204</td>\n    </tr>\n    <tr>\n      <th>Taiwan</th>\n      <td>14.873</td>\n      <td>29.506</td>\n      <td>3784.928</td>\n    </tr>\n    <tr>\n      <th>Tanzania</th>\n      <td>24.088</td>\n      <td>29.131</td>\n      <td>4343.011</td>\n    </tr>\n    <tr>\n      <th>Thailand</th>\n      <td>23.707</td>\n      <td>31.115</td>\n      <td>4580.441</td>\n    </tr>\n    <tr>\n      <th>Turkey</th>\n      <td>-5.373</td>\n      <td>28.952</td>\n      <td>7281.498</td>\n    </tr>\n    <tr>\n      <th>Ukraine</th>\n      <td>-10.942</td>\n      <td>24.593</td>\n      <td>1427.076</td>\n    </tr>\n    <tr>\n      <th>United Kingdom</th>\n      <td>-0.024</td>\n      <td>20.743</td>\n      <td>1725.868</td>\n    </tr>\n    <tr>\n      <th>United States</th>\n      <td>-6.325</td>\n      <td>27.336</td>\n      <td>6412.485</td>\n    </tr>\n    <tr>\n      <th>Vietnam</th>\n      <td>25.059</td>\n      <td>30.702</td>\n      <td>4577.220</td>\n    </tr>\n    <tr>\n      <th>Zimbabwe</th>\n      <td>14.623</td>\n      <td>25.224</td>\n      <td>3398.406</td>\n    </tr>\n  </tbody>\n</table>\n</div>"
     },
     "execution_count": 15,
     "metadata": {},
     "output_type": "execute_result"
    }
   ],
   "source": [
    "temp.groupby(\"country\")[\"avg_temp_c\"].agg([min, max, sum])"
   ],
   "metadata": {
    "collapsed": false,
    "pycharm": {
     "name": "#%%\n"
    }
   }
  },
  {
   "cell_type": "markdown",
   "source": [],
   "metadata": {
    "collapsed": false,
    "pycharm": {
     "name": "#%% md\n"
    }
   }
  },
  {
   "cell_type": "markdown",
   "source": [],
   "metadata": {
    "collapsed": false,
    "pycharm": {
     "name": "#%% md\n"
    }
   }
  },
  {
   "cell_type": "markdown",
   "source": [
    "#### Grouping by multiple variables"
   ],
   "metadata": {
    "collapsed": false,
    "pycharm": {
     "name": "#%% md\n"
    }
   }
  },
  {
   "cell_type": "code",
   "execution_count": 16,
   "outputs": [
    {
     "data": {
      "text/plain": "country        city            \nAfghanistan    Kabul               15.525756\nAngola         Luanda              24.387659\nAustralia      Melbourne           14.264043\n               Sydney              17.792165\nBangladesh     Dhaka               26.164378\n                                     ...    \nUnited States  Chicago             11.326170\n               Los Angeles         16.649121\n               New York            10.888255\nVietnam        Ho Chi Minh City    27.909878\nZimbabwe       Harare              20.721988\nName: avg_temp_c, Length: 100, dtype: float64"
     },
     "execution_count": 16,
     "metadata": {},
     "output_type": "execute_result"
    }
   ],
   "source": [
    "temp.groupby([\"country\", \"city\"])[\"avg_temp_c\"].mean()"
   ],
   "metadata": {
    "collapsed": false,
    "pycharm": {
     "name": "#%%\n"
    }
   }
  },
  {
   "cell_type": "markdown",
   "source": [],
   "metadata": {
    "collapsed": false,
    "pycharm": {
     "name": "#%% md\n"
    }
   }
  },
  {
   "cell_type": "markdown",
   "source": [
    "#### Many groups, many summaries"
   ],
   "metadata": {
    "collapsed": false,
    "pycharm": {
     "name": "#%% md\n"
    }
   }
  },
  {
   "cell_type": "code",
   "execution_count": 20,
   "outputs": [
    {
     "data": {
      "text/plain": "date        country        city            \n2000-01-01  Afghanistan    Kabul                3.326\n            Angola         Luanda              25.077\n            Australia      Melbourne           18.527\n                           Sydney              18.470\n            Bangladesh     Dhaka               18.829\n                                                ...  \n2013-09-01  United States  Chicago             19.977\n                           Los Angeles         23.301\n                           New York            17.408\n            Vietnam        Ho Chi Minh City       NaN\n            Zimbabwe       Harare                 NaN\nName: avg_temp_c, Length: 16500, dtype: float64"
     },
     "execution_count": 20,
     "metadata": {},
     "output_type": "execute_result"
    }
   ],
   "source": [
    "temp.groupby([\"date\", \"country\", \"city\"])[\"avg_temp_c\"].mean()"
   ],
   "metadata": {
    "collapsed": false,
    "pycharm": {
     "name": "#%%\n"
    }
   }
  },
  {
   "cell_type": "code",
   "execution_count": null,
   "outputs": [],
   "source": [],
   "metadata": {
    "collapsed": false,
    "pycharm": {
     "name": "#%%\n"
    }
   }
  }
 ],
 "metadata": {
  "kernelspec": {
   "display_name": "Python 3",
   "language": "python",
   "name": "python3"
  },
  "language_info": {
   "codemirror_mode": {
    "name": "ipython",
    "version": 2
   },
   "file_extension": ".py",
   "mimetype": "text/x-python",
   "name": "python",
   "nbconvert_exporter": "python",
   "pygments_lexer": "ipython2",
   "version": "2.7.6"
  }
 },
 "nbformat": 4,
 "nbformat_minor": 0
}