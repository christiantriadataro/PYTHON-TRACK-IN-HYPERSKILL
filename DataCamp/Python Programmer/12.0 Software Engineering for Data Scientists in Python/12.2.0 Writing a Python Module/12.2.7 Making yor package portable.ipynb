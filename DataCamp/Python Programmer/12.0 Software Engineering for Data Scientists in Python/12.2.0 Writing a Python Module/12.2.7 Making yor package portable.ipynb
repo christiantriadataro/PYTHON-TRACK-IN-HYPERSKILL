{
 "cells": [
  {
   "cell_type": "markdown",
   "source": [
    "# Software Engineering for Data Scientists in Python"
   ],
   "metadata": {
    "collapsed": false,
    "pycharm": {
     "name": "#%% md\n"
    }
   }
  },
  {
   "cell_type": "markdown",
   "source": [
    "## Writing a Python Module"
   ],
   "metadata": {
    "collapsed": false,
    "pycharm": {
     "name": "#%% md\n"
    }
   }
  },
  {
   "cell_type": "markdown",
   "source": [
    "### Making your package portable"
   ],
   "metadata": {
    "collapsed": false,
    "pycharm": {
     "name": "#%% md\n"
    }
   }
  },
  {
   "cell_type": "markdown",
   "source": [
    "#### Steps to portability\n",
    "Requirements:\n",
    "- setup.py\n",
    "- requirements.txt"
   ],
   "metadata": {
    "collapsed": false,
    "pycharm": {
     "name": "#%% md\n"
    }
   }
  },
  {
   "cell_type": "markdown",
   "source": [
    "#### Portable package structure\n",
    "work_dir\n",
    "- setup.py\n",
    "- requirements.txt\n",
    "- my_package\n",
    "  - __init__.py\n",
    "  - utils.py"
   ],
   "metadata": {
    "collapsed": false,
    "pycharm": {
     "name": "#%% md\n"
    }
   }
  },
  {
   "cell_type": "markdown",
   "source": [
    "#### Contents of requirements.txt\n",
    "working in `work_dir/requirements.txt`\n",
    "\n",
    "Needed packages/versions\n",
    "matplotlib\n",
    "numpy==1.15.4\n",
    "pycodestyle>=2.4.0"
   ],
   "metadata": {
    "collapsed": false,
    "pycharm": {
     "name": "#%% md\n"
    }
   }
  },
  {
   "cell_type": "markdown",
   "source": [
    "working with `terminal`"
   ],
   "metadata": {
    "collapsed": false,
    "pycharm": {
     "name": "#%% md\n"
    }
   }
  },
  {
   "cell_type": "code",
   "execution_count": null,
   "outputs": [],
   "source": [
    "# datacamp@server:~$ pip install -r requirements.txt"
   ],
   "metadata": {
    "collapsed": false,
    "pycharm": {
     "name": "#%%\n"
    }
   }
  },
  {
   "cell_type": "markdown",
   "source": [
    "#### Contents of setup.py"
   ],
   "metadata": {
    "collapsed": false,
    "pycharm": {
     "name": "#%% md\n"
    }
   }
  },
  {
   "cell_type": "code",
   "execution_count": null,
   "outputs": [],
   "source": [
    "from setuptools import setup\n",
    "\n",
    "setup(name='my_package',\n",
    "      version='0.0.1',\n",
    "      description='An example package for DataCamp.',\n",
    "      author='Adam Spannbauer',\n",
    "      author_email='spannbaueradam@gmail.com',\n",
    "      packages=['my_packages'],\n",
    "      install_requires=['matplotlib',\n",
    "                        'numpy==1.15.4',\n",
    "                        'pycodestyle>=2.4.0'])"
   ],
   "metadata": {
    "collapsed": false,
    "pycharm": {
     "name": "#%%\n"
    }
   }
  },
  {
   "cell_type": "markdown",
   "source": [
    "#### install_requires vs requirements.txt\n",
    "working in `work_dir/requirements.txt`\n",
    "\n",
    "# Specify where to install requirements from --index-url https://pypi.python.org/simple\n",
    "\n",
    "# Needed packages/versions\n",
    "matplotlib\n",
    "numpy==1.15.4\n",
    "pycodestyle>=2.4.0"
   ],
   "metadata": {
    "collapsed": false,
    "pycharm": {
     "name": "#%% md\n"
    }
   }
  },
  {
   "cell_type": "markdown",
   "source": [
    "#### pip installing your package\n",
    "datacamp@server:~/work_dir $ pip install ."
   ],
   "metadata": {
    "collapsed": false,
    "pycharm": {
     "name": "#%% md\n"
    }
   }
  }
 ],
 "metadata": {
  "kernelspec": {
   "display_name": "Python 3",
   "language": "python",
   "name": "python3"
  },
  "language_info": {
   "codemirror_mode": {
    "name": "ipython",
    "version": 2
   },
   "file_extension": ".py",
   "mimetype": "text/x-python",
   "name": "python",
   "nbconvert_exporter": "python",
   "pygments_lexer": "ipython2",
   "version": "2.7.6"
  }
 },
 "nbformat": 4,
 "nbformat_minor": 0
}