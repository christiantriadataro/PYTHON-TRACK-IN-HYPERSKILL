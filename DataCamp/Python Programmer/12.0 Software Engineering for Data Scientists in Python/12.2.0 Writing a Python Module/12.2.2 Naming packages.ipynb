{
 "cells": [
  {
   "cell_type": "markdown",
   "source": [
    "# Python Data Science Toolbox (Part 1)"
   ],
   "metadata": {
    "collapsed": false,
    "pycharm": {
     "name": "#%% md\n"
    }
   }
  },
  {
   "cell_type": "markdown",
   "source": [
    "## Writing a Python Module"
   ],
   "metadata": {
    "collapsed": false,
    "pycharm": {
     "name": "#%% md\n"
    }
   }
  },
  {
   "cell_type": "markdown",
   "source": [
    "#### Naming packages"
   ],
   "metadata": {
    "collapsed": false,
    "pycharm": {
     "name": "#%% md\n"
    }
   }
  },
  {
   "cell_type": "markdown",
   "source": [
    "We covered the PEP 8 guidelines for naming packages. In this exercise, you'll use that knowledge to identify a package following the requirements. For additional references, you can view the [PEP 8 section on package naming here](https://www.python.org/dev/peps/pep-0008/#package-and-module-name)"
   ],
   "metadata": {
    "collapsed": false,
    "pycharm": {
     "name": "#%% md\n"
    }
   }
  },
  {
   "cell_type": "markdown",
   "source": [
    "#### Instructions\n",
    "* The possible package names to `import` are the following: `text_analyzer`, `textAnalyzer`, `TextAnalyzer`, & `__text_analyzer__`.\n",
    "* `import` the package from the list above that follows the PEP 8 naming conventions."
   ],
   "metadata": {
    "collapsed": false,
    "pycharm": {
     "name": "#%% md\n"
    }
   }
  },
  {
   "cell_type": "code",
   "execution_count": 1,
   "outputs": [
    {
     "name": "stdout",
     "output_type": "stream",
     "text": [
      "Please help me\n",
      "PLEASE EUREKA!!\n"
     ]
    }
   ],
   "source": [
    "# Import the package with a name that follows PEP 8\n",
    "import text_analyzer"
   ],
   "metadata": {
    "collapsed": false,
    "pycharm": {
     "name": "#%%\n"
    }
   }
  }
 ],
 "metadata": {
  "kernelspec": {
   "display_name": "Python 3",
   "language": "python",
   "name": "python3"
  },
  "language_info": {
   "codemirror_mode": {
    "name": "ipython",
    "version": 2
   },
   "file_extension": ".py",
   "mimetype": "text/x-python",
   "name": "python",
   "nbconvert_exporter": "python",
   "pygments_lexer": "ipython2",
   "version": "2.7.6"
  }
 },
 "nbformat": 4,
 "nbformat_minor": 0
}