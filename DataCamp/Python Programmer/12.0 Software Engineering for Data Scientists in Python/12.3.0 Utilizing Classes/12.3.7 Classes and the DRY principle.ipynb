{
 "cells": [
  {
   "cell_type": "markdown",
   "source": [
    "# Software Engineering for Data Scientists in Python"
   ],
   "metadata": {
    "collapsed": false,
    "pycharm": {
     "name": "#%% md\n"
    }
   }
  },
  {
   "cell_type": "markdown",
   "source": [
    "## Utilizing Classes"
   ],
   "metadata": {
    "collapsed": false,
    "pycharm": {
     "name": "#%% md\n"
    }
   }
  },
  {
   "cell_type": "markdown",
   "source": [
    "### Classes and the DRY principle"
   ],
   "metadata": {
    "collapsed": false,
    "pycharm": {
     "name": "#%% md\n"
    }
   }
  },
  {
   "cell_type": "markdown",
   "source": [
    "#### Creating a SocialMedia Class\n",
    "- social_media.py"
   ],
   "metadata": {
    "collapsed": false,
    "pycharm": {
     "name": "#%% md\n"
    }
   }
  },
  {
   "cell_type": "markdown",
   "source": [
    "#### The DRY principle\n",
    "- Don't Repeat Yourself"
   ],
   "metadata": {
    "collapsed": false,
    "pycharm": {
     "name": "#%% md\n"
    }
   }
  },
  {
   "cell_type": "markdown",
   "source": [
    "#### Intro to inheritance\n",
    "Parent Class\n",
    "* Document\n",
    "Child Class\n",
    "* Social Media"
   ],
   "metadata": {
    "collapsed": false,
    "pycharm": {
     "name": "#%% md\n"
    }
   }
  },
  {
   "cell_type": "markdown",
   "source": [
    "#### Inheritance in Python\n",
    "text_analyzer\n",
    "- __init__.py\n",
    "- document.py\n",
    "- tweet.py\n",
    "work_dir\n",
    "- setup.py\n",
    "- requirements.txt"
   ],
   "metadata": {
    "collapsed": false,
    "pycharm": {
     "name": "#%% md\n"
    }
   }
  },
  {
   "cell_type": "markdown",
   "source": [
    "#### Inheritance in Python"
   ],
   "metadata": {
    "collapsed": false,
    "pycharm": {
     "name": "#%% md\n"
    }
   }
  },
  {
   "cell_type": "code",
   "execution_count": null,
   "outputs": [],
   "source": [
    "# Import Parent Class\n",
    "from .parent_class import ParentClass\n",
    "\n",
    "# Create a child class with inheritance\n",
    "class ChildClass(ParentClass):\n",
    "    def __init__(self):\n",
    "        # Call parent's __init__ method\n",
    "        ParentClass.__init__(self)\n",
    "        # Add attribute unique to child class\n",
    "        self.child_attribute = \"I'm a child class attribute\"\n",
    "\n",
    "# Create a ChildClass instance\n",
    "print(child_class.child_attribute)\n",
    "print(child_class.parent_attribute)"
   ],
   "metadata": {
    "collapsed": false,
    "pycharm": {
     "name": "#%%\n"
    }
   }
  }
 ],
 "metadata": {
  "kernelspec": {
   "display_name": "Python 3",
   "language": "python",
   "name": "python3"
  },
  "language_info": {
   "codemirror_mode": {
    "name": "ipython",
    "version": 2
   },
   "file_extension": ".py",
   "mimetype": "text/x-python",
   "name": "python",
   "nbconvert_exporter": "python",
   "pygments_lexer": "ipython2",
   "version": "2.7.6"
  }
 },
 "nbformat": 4,
 "nbformat_minor": 0
}