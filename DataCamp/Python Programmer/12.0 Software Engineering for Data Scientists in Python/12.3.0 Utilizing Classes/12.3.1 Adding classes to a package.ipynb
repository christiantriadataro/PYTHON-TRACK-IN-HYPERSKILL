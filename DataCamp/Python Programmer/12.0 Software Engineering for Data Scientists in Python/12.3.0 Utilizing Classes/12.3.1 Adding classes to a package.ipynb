{
 "cells": [
  {
   "cell_type": "markdown",
   "source": [
    "# Software Engineering for Data Scientists in Python"
   ],
   "metadata": {
    "collapsed": false,
    "pycharm": {
     "name": "#%% md\n"
    }
   }
  },
  {
   "cell_type": "markdown",
   "source": [
    "## Utilizing Classes"
   ],
   "metadata": {
    "collapsed": false,
    "pycharm": {
     "name": "#%% md\n"
    }
   }
  },
  {
   "cell_type": "markdown",
   "source": [
    "### Adding classes to a package"
   ],
   "metadata": {
    "collapsed": false,
    "pycharm": {
     "name": "#%% md\n"
    }
   }
  },
  {
   "cell_type": "markdown",
   "source": [
    "#### Anatomy of a class\n",
    "working in `work_dir/my_package/my_class.py`"
   ],
   "metadata": {
    "collapsed": false,
    "pycharm": {
     "name": "#%% md\n"
    }
   }
  },
  {
   "cell_type": "code",
   "execution_count": null,
   "outputs": [],
   "source": [
    "# Define a minimal class with an attribute\n",
    "class MyClass:\n",
    "    \"\"\"A minimal example class\n",
    "\n",
    "    :param value: value to set as the ``attribute`` attribute\n",
    "    :ivar attribute: contains the contents of ``value`` passed in init\n",
    "    \"\"\"\n",
    "\n",
    "    # Method to create a new instance of MyClass\n",
    "    def __init__(self, value):\n",
    "        # Define attribute with the contents of the value param\n",
    "        self.attribute = value"
   ],
   "metadata": {
    "collapsed": false,
    "pycharm": {
     "name": "#%%\n"
    }
   }
  },
  {
   "cell_type": "markdown",
   "source": [
    "#### Using a class in a package\n",
    "working in `work_dir/my_package/__init__.py`"
   ],
   "metadata": {
    "collapsed": false,
    "pycharm": {
     "name": "#%% md\n"
    }
   }
  },
  {
   "cell_type": "code",
   "execution_count": null,
   "outputs": [],
   "source": [
    "from .my_class import MyClass"
   ],
   "metadata": {
    "collapsed": false,
    "pycharm": {
     "name": "#%%\n"
    }
   }
  },
  {
   "cell_type": "markdown",
   "source": [
    "working in `work_dir/my_script.py`"
   ],
   "metadata": {
    "collapsed": false,
    "pycharm": {
     "name": "#%% md\n"
    }
   }
  },
  {
   "cell_type": "code",
   "execution_count": null,
   "outputs": [],
   "source": [
    "# Import utils submodule\n",
    "import my_package\n",
    "\n",
    "# Decide to start seeing other people\n",
    "my_instance = my_package.MyClass(value='class attribute value')\n",
    "\n",
    "# Print out class attribute value\n",
    "print(my_instance.attribute)"
   ],
   "metadata": {
    "collapsed": false,
    "pycharm": {
     "name": "#%%\n"
    }
   }
  },
  {
   "cell_type": "markdown",
   "source": [
    "#### The self convention\n",
    "working in `work_dir/my_package/my_class.py`"
   ],
   "metadata": {
    "collapsed": false,
    "pycharm": {
     "name": "#%% md\n"
    }
   }
  },
  {
   "cell_type": "code",
   "execution_count": null,
   "outputs": [],
   "source": [
    "# Define a minimal class with an attribute\n",
    "class MyClass:\n",
    "    \"\"\"A minimal example class\n",
    "\n",
    "    :param value: value to set as the ``attribute`` attribute\n",
    "    :ivar attribute: contains the contents of ``value`` passed in init\n",
    "    \"\"\"\n",
    "\n",
    "    # Method to create a new instance of MyClass\n",
    "    def __init__(self, value):\n",
    "        # Define attribute with the contents of the vlue param\n",
    "        self.attribute = value"
   ],
   "metadata": {
    "collapsed": false,
    "pycharm": {
     "name": "#%%\n"
    }
   }
  }
 ],
 "metadata": {
  "kernelspec": {
   "display_name": "Python 3",
   "language": "python",
   "name": "python3"
  },
  "language_info": {
   "codemirror_mode": {
    "name": "ipython",
    "version": 2
   },
   "file_extension": ".py",
   "mimetype": "text/x-python",
   "name": "python",
   "nbconvert_exporter": "python",
   "pygments_lexer": "ipython2",
   "version": "2.7.6"
  }
 },
 "nbformat": 4,
 "nbformat_minor": 0
}