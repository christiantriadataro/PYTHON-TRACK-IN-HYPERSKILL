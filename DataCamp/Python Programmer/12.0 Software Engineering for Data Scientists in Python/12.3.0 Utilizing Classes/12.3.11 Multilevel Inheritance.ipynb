{
 "cells": [
  {
   "cell_type": "markdown",
   "source": [
    "# Software Engineering for Data Scientists in Python"
   ],
   "metadata": {
    "collapsed": false,
    "pycharm": {
     "name": "#%% md\n"
    }
   }
  },
  {
   "cell_type": "markdown",
   "source": [
    "## Utilizing Classes"
   ],
   "metadata": {
    "collapsed": false,
    "pycharm": {
     "name": "#%% md\n"
    }
   }
  },
  {
   "cell_type": "markdown",
   "source": [
    "### Multilevel inheritance"
   ],
   "metadata": {
    "collapsed": false,
    "pycharm": {
     "name": "#%% md\n"
    }
   }
  },
  {
   "cell_type": "markdown",
   "source": [
    "#### Creating a Tweet class\n"
   ],
   "metadata": {
    "collapsed": false,
    "pycharm": {
     "name": "#%% md\n"
    }
   }
  },
  {
   "cell_type": "markdown",
   "source": [
    "#### Multilevel inheritance\n",
    "- Parent class\n",
    "- Child class\n",
    "- Grandchild class"
   ],
   "metadata": {
    "collapsed": false,
    "pycharm": {
     "name": "#%% md\n"
    }
   }
  },
  {
   "cell_type": "markdown",
   "source": [
    "#### Multiple inheritance\n",
    "- Parent class\n",
    "- Parent class\n",
    "  - child class"
   ],
   "metadata": {
    "collapsed": false,
    "pycharm": {
     "name": "#%% md\n"
    }
   }
  },
  {
   "cell_type": "markdown",
   "source": [
    "#### Multilevel inheritance and super"
   ],
   "metadata": {
    "collapsed": false,
    "pycharm": {
     "name": "#%% md\n"
    }
   }
  },
  {
   "cell_type": "code",
   "execution_count": 1,
   "outputs": [
    {
     "name": "stdout",
     "output_type": "stream",
     "text": [
      "I'm a parent!\n",
      "I'm a super child!\n",
      "I'm a grandchild!\n"
     ]
    }
   ],
   "source": [
    "class Parent:\n",
    "    def __init__(self):\n",
    "        print(\"I'm a parent!\")\n",
    "\n",
    "class Child(Parent):\n",
    "    def __init__(self):\n",
    "        Parent.__init__()\n",
    "        print(\"I'm a child!\")\n",
    "# or we can use this to generalize the child class\n",
    "class SuperChild(Parent):\n",
    "    def __init__(self):\n",
    "        super().__init__()\n",
    "        print(\"I'm a super child!\")\n",
    "\n",
    "class GrandChild(SuperChild):\n",
    "    def __init__(self):\n",
    "        super().__init__()\n",
    "        print(\"I'm a grandchild!\")\n",
    "\n",
    "grandchild = GrandChild()"
   ],
   "metadata": {
    "collapsed": false,
    "pycharm": {
     "name": "#%%\n"
    }
   }
  },
  {
   "cell_type": "markdown",
   "source": [
    "#### Keeping track of inherited attributes"
   ],
   "metadata": {
    "collapsed": false,
    "pycharm": {
     "name": "#%% md\n"
    }
   }
  },
  {
   "cell_type": "code",
   "execution_count": 2,
   "outputs": [
    {
     "ename": "NameError",
     "evalue": "name 'SocialMedia' is not defined",
     "output_type": "error",
     "traceback": [
      "\u001B[1;31m---------------------------------------------------------------------------\u001B[0m",
      "\u001B[1;31mNameError\u001B[0m                                 Traceback (most recent call last)",
      "Input \u001B[1;32mIn [2]\u001B[0m, in \u001B[0;36m<cell line: 2>\u001B[1;34m()\u001B[0m\n\u001B[0;32m      1\u001B[0m \u001B[38;5;66;03m# Create an instance of SocialMedia\u001B[39;00m\n\u001B[1;32m----> 2\u001B[0m sm \u001B[38;5;241m=\u001B[39m  \u001B[43mSocialMedia\u001B[49m(\u001B[38;5;124m'\u001B[39m\u001B[38;5;124m@DataCamp #DataScienee #Python #sklearn\u001B[39m\u001B[38;5;124m'\u001B[39m)\n\u001B[0;32m      3\u001B[0m \u001B[38;5;66;03m# What methods does sm have? `\\_(?)_/`\u001B[39;00m\n\u001B[0;32m      4\u001B[0m \u001B[38;5;28mdir\u001B[39m(sm)\n",
      "\u001B[1;31mNameError\u001B[0m: name 'SocialMedia' is not defined"
     ]
    }
   ],
   "source": [
    "# Create an instance of SocialMedia\n",
    "sm =  SocialMedia('@DataCamp #DataScienee #Python #sklearn')\n",
    "# What methods does sm have? `\\_(?)_/`\n",
    "dir(sm)"
   ],
   "metadata": {
    "collapsed": false,
    "pycharm": {
     "name": "#%%\n"
    }
   }
  },
  {
   "cell_type": "markdown",
   "source": [
    "working in `work_dir/my_script.py`"
   ],
   "metadata": {
    "collapsed": false,
    "pycharm": {
     "name": "#%% md\n"
    }
   }
  }
 ],
 "metadata": {
  "kernelspec": {
   "display_name": "Python 3",
   "language": "python",
   "name": "python3"
  },
  "language_info": {
   "codemirror_mode": {
    "name": "ipython",
    "version": 2
   },
   "file_extension": ".py",
   "mimetype": "text/x-python",
   "name": "python",
   "nbconvert_exporter": "python",
   "pygments_lexer": "ipython2",
   "version": "2.7.6"
  }
 },
 "nbformat": 4,
 "nbformat_minor": 0
}