{
 "cells": [
  {
   "cell_type": "markdown",
   "source": [
    "# Python Data Science Toolbox (Part 1)"
   ],
   "metadata": {
    "collapsed": false,
    "pycharm": {
     "name": "#%% md\n"
    }
   }
  },
  {
   "cell_type": "markdown",
   "source": [
    "## Default arguments, variable-length arguments and scope"
   ],
   "metadata": {
    "collapsed": false,
    "pycharm": {
     "name": "#%% md\n"
    }
   }
  },
  {
   "cell_type": "markdown",
   "source": [
    "#### Using pycodestyle"
   ],
   "metadata": {
    "collapsed": false,
    "pycharm": {
     "name": "#%% md\n"
    }
   }
  },
  {
   "cell_type": "markdown",
   "source": [
    "We saw earlier that pycodestyle can be run from the command line to check a file for PEP 8 compliance. Sometimes it's useful to run this kind of check from a Python script.\n",
    "\n",
    "In this exercise, you'll use `pycodestyle`'s `StyleGuide` class to check multiple files for PEP 8 compliance. Both files accomplish the same task, but they differ greatly in formatting and readability. You can view the contents of the files by following their links below."
   ],
   "metadata": {
    "collapsed": false,
    "pycharm": {
     "name": "#%% md\n"
    }
   }
  },
  {
   "cell_type": "markdown",
   "source": [
    "#### Instructions\n",
    "* Import the `pycodestyle` package.\n",
    "* Create an instance of `StyleGuide` named `style_checker`.\n",
    "* There are two files that we'll be checking; they're named `'nay_pep8.py'` and `'yay_pep8.py'`. Pass a list containing these file names to our `style_checker`'s `check_files` method.\n",
    "* `print()` the results of our style check to the console. Make sure to read the output!"
   ],
   "metadata": {
    "collapsed": false,
    "pycharm": {
     "name": "#%% md\n"
    }
   }
  },
  {
   "cell_type": "code",
   "execution_count": 1,
   "outputs": [
    {
     "name": "stdout",
     "output_type": "stream",
     "text": [
      "nay_pep8.py:1:1: E902 FileNotFoundError: [Errno 2] No such file or directory: 'nay_pep8.py'\n",
      "yay_pep8.py:1:1: E902 FileNotFoundError: [Errno 2] No such file or directory: 'yay_pep8.py'\n",
      "{'E902': \"FileNotFoundError: [Errno 2] No such file or directory: 'nay_pep8.py'\"}\n"
     ]
    }
   ],
   "source": [
    "# Import needed package\n",
    "import pycodestyle\n",
    "\n",
    "# Create a StyleGuide instance\n",
    "style_checker = pycodestyle.StyleGuide()\n",
    "\n",
    "# Run PEP 8 check on multiple files\n",
    "result = style_checker.check_files(['nay_pep8.py', 'yay_pep8.py'])\n",
    "\n",
    "# Print result of PEP style check\n",
    "print(result.messages)"
   ],
   "metadata": {
    "collapsed": false,
    "pycharm": {
     "name": "#%%\n"
    }
   }
  },
  {
   "cell_type": "code",
   "execution_count": 7,
   "outputs": [
    {
     "data": {
      "text/plain": "[('to', 37), ('@DataCamp', 33), ('the', 27), ('I', 21), ('RT', 15)]"
     },
     "execution_count": 7,
     "metadata": {},
     "output_type": "execute_result"
    }
   ],
   "source": [
    "# use Counter to find the top 5 most common words\n",
    "top_5_words = Counter(words).most_common(5)\n",
    "top_5_words"
   ],
   "metadata": {
    "collapsed": false,
    "pycharm": {
     "name": "#%%\n"
    }
   }
  },
  {
   "cell_type": "code",
   "execution_count": null,
   "outputs": [],
   "source": [],
   "metadata": {
    "collapsed": false,
    "pycharm": {
     "name": "#%%\n"
    }
   }
  }
 ],
 "metadata": {
  "kernelspec": {
   "display_name": "Python 3",
   "language": "python",
   "name": "python3"
  },
  "language_info": {
   "codemirror_mode": {
    "name": "ipython",
    "version": 2
   },
   "file_extension": ".py",
   "mimetype": "text/x-python",
   "name": "python",
   "nbconvert_exporter": "python",
   "pygments_lexer": "ipython2",
   "version": "2.7.6"
  }
 },
 "nbformat": 4,
 "nbformat_minor": 0
}