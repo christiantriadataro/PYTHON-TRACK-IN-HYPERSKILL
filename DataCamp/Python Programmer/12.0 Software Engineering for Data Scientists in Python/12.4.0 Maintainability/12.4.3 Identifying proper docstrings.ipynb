{
 "cells": [
  {
   "cell_type": "markdown",
   "source": [
    "# Software Engineering for Data Scientist in Python"
   ],
   "metadata": {
    "collapsed": false,
    "pycharm": {
     "name": "#%% md\n"
    }
   }
  },
  {
   "cell_type": "markdown",
   "source": [
    "## Maintainability"
   ],
   "metadata": {
    "collapsed": false,
    "pycharm": {
     "name": "#%% md\n"
    }
   }
  },
  {
   "cell_type": "markdown",
   "source": [
    "#### Identifying proper docstring\n",
    "We covered how to write fully-fledged docstrings. Before writing one of your own this exercise will help you practice by having you identifying a properly formatting a properly formatted docstring.\n",
    "\n",
    "In this exercise, you'll be using the functions `goldilocks()`, `rapunzel()`, `mary()`, and `sleeping_beauty()` which have been loaded in your environment."
   ],
   "metadata": {
    "collapsed": false,
    "pycharm": {
     "name": "#%% md\n"
    }
   }
  },
  {
   "cell_type": "markdown",
   "source": [
    "#### Instructions\n",
    "* Run `help()` on each of the 4 functions to view their docstrings.\n"
   ],
   "metadata": {
    "collapsed": false,
    "pycharm": {
     "name": "#%% md\n"
    }
   }
  },
  {
   "cell_type": "code",
   "execution_count": 1,
   "outputs": [
    {
     "name": "stdout",
     "output_type": "stream",
     "text": [
      "Our competitor pricing is $10.50 an inch. Our price is $125.00 a foot.\n",
      "['$10.50', '$125.00']\n"
     ]
    }
   ],
   "source": [
    "# Run the help on all 4 functions\n",
    "help(goldilocks)\n",
    "help(rapunzel)\n",
    "help(mary)\n",
    "help(sleeping_beauty)"
   ],
   "metadata": {
    "collapsed": false,
    "pycharm": {
     "name": "#%%\n"
    }
   }
  },
  {
   "cell_type": "markdown",
   "source": [
    "* Define `result` using the function that has the most complete docstring; only 1 of the 4 contains all the sections we covered. Call the function without any parameters.\n",
    "* `print` the `result` of the most well documented function."
   ],
   "metadata": {
    "collapsed": false,
    "pycharm": {
     "name": "#%% md\n"
    }
   }
  },
  {
   "cell_type": "code",
   "execution_count": null,
   "outputs": [],
   "source": [
    "# Execute the function with most complete docstring\n",
    "result = rapunzel()\n",
    "\n",
    "# Print the result\n",
    "print(result)"
   ],
   "metadata": {
    "collapsed": false,
    "pycharm": {
     "name": "#%%\n"
    }
   }
  }
 ],
 "metadata": {
  "kernelspec": {
   "display_name": "Python 3",
   "language": "python",
   "name": "python3"
  },
  "language_info": {
   "codemirror_mode": {
    "name": "ipython",
    "version": 2
   },
   "file_extension": ".py",
   "mimetype": "text/x-python",
   "name": "python",
   "nbconvert_exporter": "python",
   "pygments_lexer": "ipython2",
   "version": "2.7.6"
  }
 },
 "nbformat": 4,
 "nbformat_minor": 0
}