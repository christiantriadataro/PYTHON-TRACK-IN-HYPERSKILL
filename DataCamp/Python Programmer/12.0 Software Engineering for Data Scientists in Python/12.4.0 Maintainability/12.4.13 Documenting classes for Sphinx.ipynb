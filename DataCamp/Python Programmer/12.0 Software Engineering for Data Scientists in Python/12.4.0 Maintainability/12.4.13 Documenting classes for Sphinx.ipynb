{
 "cells": [
  {
   "cell_type": "markdown",
   "source": [
    "# Software Engineering for Data Scientists in Python"
   ],
   "metadata": {
    "collapsed": false,
    "pycharm": {
     "name": "#%% md\n"
    }
   }
  },
  {
   "cell_type": "markdown",
   "source": [
    "## Maintainability"
   ],
   "metadata": {
    "collapsed": false,
    "pycharm": {
     "name": "#%% md\n"
    }
   }
  },
  {
   "cell_type": "markdown",
   "source": [
    "### Documenting classes for Sphinx\n",
    "`sphinx` is a great tool for rendering documentation as HTML. In this exercise, you'll write a docstring for a class that can be taken advantage of by `sphinx`. Note that your docstring submission must match the solution `exactly`. If you find yourself getting it wrong several times, it may be a good idea to refresh the sample code and start over."
   ],
   "metadata": {
    "collapsed": false,
    "pycharm": {
     "name": "#%% md\n"
    }
   }
  },
  {
   "cell_type": "markdown",
   "source": [
    "#### Instructions\n",
    "* `import` the `Document` class `from` the `text_analyzer` package for use in the class definition.\n",
    "* Complete the line of the docstring dealing with the parameters of the `__init__` method.\n",
    "* Complete the docstring by filling out the documentation for the attributes or `instance variables` of the `SocialMedia` class."
   ],
   "metadata": {
    "collapsed": false,
    "pycharm": {
     "name": "#%% md\n"
    }
   }
  },
  {
   "cell_type": "code",
   "execution_count": null,
   "outputs": [],
   "source": [
    "from text_analyzer import Document\n",
    "\n",
    "class SocialMedia(Document):\n",
    "    \"\"\"Analyze text data from social media\n",
    "\n",
    "    :param text: social media text to analyze\n",
    "\n",
    "    :ivar hashtag_counts: Counter object containing counts of hashtags used in text\n",
    "    :ivar mention_counts: Counter object containing counts of @mentions used in text\n",
    "    \"\"\"\n",
    "    def __init__(self, text):\n",
    "        Document.__init__(self, text)\n",
    "        self.hashtag_counts = self._count_hashtags()\n",
    "        self.mention_counts = self._count_mentions()\n"
   ],
   "metadata": {
    "collapsed": false,
    "pycharm": {
     "name": "#%%\n"
    }
   }
  }
 ],
 "metadata": {
  "kernelspec": {
   "display_name": "Python 3",
   "language": "python",
   "name": "python3"
  },
  "language_info": {
   "codemirror_mode": {
    "name": "ipython",
    "version": 2
   },
   "file_extension": ".py",
   "mimetype": "text/x-python",
   "name": "python",
   "nbconvert_exporter": "python",
   "pygments_lexer": "ipython2",
   "version": "2.7.6"
  }
 },
 "nbformat": 4,
 "nbformat_minor": 0
}