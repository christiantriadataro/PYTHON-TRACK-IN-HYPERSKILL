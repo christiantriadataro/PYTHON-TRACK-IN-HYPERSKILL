{
 "cells": [
  {
   "cell_type": "markdown",
   "source": [
    "# Software Engineering for Data Scientists in Python"
   ],
   "metadata": {
    "collapsed": false,
    "pycharm": {
     "name": "#%% md\n"
    }
   }
  },
  {
   "cell_type": "markdown",
   "source": [
    "## Maintainability"
   ],
   "metadata": {
    "collapsed": false,
    "pycharm": {
     "name": "#%% md\n"
    }
   }
  },
  {
   "cell_type": "markdown",
   "source": [
    "### Unit testing"
   ],
   "metadata": {
    "collapsed": false,
    "pycharm": {
     "name": "#%% md\n"
    }
   }
  },
  {
   "cell_type": "markdown",
   "source": [
    "#### Why testing?\n",
    "* Confirm code is working as intended\n",
    "* Ensure changes in one function don't break another\n",
    "* Protect against changes in a dependency"
   ],
   "metadata": {
    "collapsed": false,
    "pycharm": {
     "name": "#%% md\n"
    }
   }
  },
  {
   "cell_type": "markdown",
   "source": [
    "#### Testing in Python\n",
    "* doctest\n",
    "* pytest"
   ],
   "metadata": {
    "collapsed": false,
    "pycharm": {
     "name": "#%% md\n"
    }
   }
  },
  {
   "cell_type": "markdown",
   "source": [
    "#### Using doctest"
   ],
   "metadata": {
    "collapsed": false,
    "pycharm": {
     "name": "#%% md\n"
    }
   }
  },
  {
   "cell_type": "code",
   "execution_count": 2,
   "outputs": [
    {
     "data": {
      "text/plain": "TestResults(failed=0, attempted=1)"
     },
     "execution_count": 2,
     "metadata": {},
     "output_type": "execute_result"
    }
   ],
   "source": [
    "def square(x):\n",
    "    \"\"\"Square the number x\n",
    "\n",
    "    :param x: number to square\n",
    "    :return: x squared\n",
    "\n",
    "    >>> square(3)\n",
    "    27\n",
    "    \"\"\"\n",
    "    return x ** x\n",
    "\n",
    "import doctest\n",
    "doctest.testmod()"
   ],
   "metadata": {
    "collapsed": false,
    "pycharm": {
     "name": "#%%\n"
    }
   }
  },
  {
   "cell_type": "markdown",
   "source": [
    "#### pytest structure\n",
    "work_dir\n",
    "- setup.py\n",
    "- requirements.txt\n",
    "text_analyzer\n",
    "- __init__.py\n",
    "test\n",
    "- test_unit.py\n",
    "subpackage_tests\n",
    "- test_x.py\n",
    "subpackage2_tests\n",
    "- test_y.py"
   ],
   "metadata": {
    "collapsed": false,
    "pycharm": {
     "name": "#%% md\n"
    }
   }
  },
  {
   "cell_type": "markdown",
   "source": [
    "#### Writing unit tests\n",
    "working in `workdir/tests/test_document.py"
   ],
   "metadata": {
    "collapsed": false,
    "pycharm": {
     "name": "#%% md\n"
    }
   }
  },
  {
   "cell_type": "code",
   "execution_count": null,
   "outputs": [],
   "source": [
    "from text_analyzer import Document\n",
    "\n",
    "# Test tokens attribute on Document object\n",
    "def test_document_tokens():\n",
    "    doc = Document('a e i o u')\n",
    "\n",
    "    assert doc.tokens == ['a', 'e', 'i', 'o', 'u']\n",
    "\n",
    "# Test edge case of blank document\n",
    "def test_document_empty():\n",
    "    doc = Document('')\n",
    "\n",
    "    assert doc.tokens == []\n",
    "    assert doc.word_counts == Counter()"
   ],
   "metadata": {
    "collapsed": false,
    "pycharm": {
     "name": "#%%\n"
    }
   }
  },
  {
   "cell_type": "markdown",
   "source": [
    "#### Writing unit tests"
   ],
   "metadata": {
    "collapsed": false,
    "pycharm": {
     "name": "#%% md\n"
    }
   }
  },
  {
   "cell_type": "code",
   "execution_count": 3,
   "outputs": [
    {
     "ename": "NameError",
     "evalue": "name 'Document' is not defined",
     "output_type": "error",
     "traceback": [
      "\u001B[1;31m---------------------------------------------------------------------------\u001B[0m",
      "\u001B[1;31mNameError\u001B[0m                                 Traceback (most recent call last)",
      "Input \u001B[1;32mIn [3]\u001B[0m, in \u001B[0;36m<cell line: 2>\u001B[1;34m()\u001B[0m\n\u001B[0;32m      1\u001B[0m \u001B[38;5;66;03m# Create 2 identical Document objects\u001B[39;00m\n\u001B[1;32m----> 2\u001B[0m doc_a \u001B[38;5;241m=\u001B[39m \u001B[43mDocument\u001B[49m(\u001B[38;5;124m'\u001B[39m\u001B[38;5;124ma e i o u\u001B[39m\u001B[38;5;124m'\u001B[39m)\n\u001B[0;32m      3\u001B[0m doc_b \u001B[38;5;241m=\u001B[39m Document(\u001B[38;5;124m'\u001B[39m\u001B[38;5;124ma e i o u\u001B[39m\u001B[38;5;124m'\u001B[39m)\n\u001B[0;32m      5\u001B[0m \u001B[38;5;66;03m# Check if objects are == \u001B[39;00m\n",
      "\u001B[1;31mNameError\u001B[0m: name 'Document' is not defined"
     ]
    }
   ],
   "source": [
    "# Create 2 identical Document objects\n",
    "doc_a = Document('a e i o u')\n",
    "doc_b = Document('a e i o u')\n",
    "\n",
    "# Check if objects are ==\n",
    "print(doc_a == doc_b)"
   ],
   "metadata": {
    "collapsed": false,
    "pycharm": {
     "name": "#%%\n"
    }
   }
  },
  {
   "cell_type": "markdown",
   "source": [
    "#### Running pytest\n",
    "working with `terminal`"
   ],
   "metadata": {
    "collapsed": false,
    "pycharm": {
     "name": "#%% md\n"
    }
   }
  },
  {
   "cell_type": "code",
   "execution_count": null,
   "outputs": [],
   "source": [
    "# datacamp@server:~/work_dir $ pytest"
   ],
   "metadata": {
    "collapsed": false,
    "pycharm": {
     "name": "#%%\n"
    }
   }
  },
  {
   "cell_type": "markdown",
   "source": [
    "#### Running pytest\n",
    "working with `terminal`"
   ],
   "metadata": {
    "collapsed": false,
    "pycharm": {
     "name": "#%% md\n"
    }
   }
  },
  {
   "cell_type": "code",
   "execution_count": null,
   "outputs": [],
   "source": [
    "# datacamp@server:~/work_dir $ pytest tests/test_document.py"
   ],
   "metadata": {
    "collapsed": false,
    "pycharm": {
     "name": "#%%\n"
    }
   }
  },
  {
   "cell_type": "markdown",
   "source": [
    "#### Failing tests\n",
    "working with `terminal`"
   ],
   "metadata": {
    "collapsed": false,
    "pycharm": {
     "name": "#%% md\n"
    }
   }
  },
  {
   "cell_type": "code",
   "execution_count": null,
   "outputs": [],
   "source": [
    "datacamp@server:~/work_dir $ pytest"
   ],
   "metadata": {
    "collapsed": false,
    "pycharm": {
     "name": "#%%\n"
    }
   }
  }
 ],
 "metadata": {
  "kernelspec": {
   "display_name": "Python 3",
   "language": "python",
   "name": "python3"
  },
  "language_info": {
   "codemirror_mode": {
    "name": "ipython",
    "version": 2
   },
   "file_extension": ".py",
   "mimetype": "text/x-python",
   "name": "python",
   "nbconvert_exporter": "python",
   "pygments_lexer": "ipython2",
   "version": "2.7.6"
  }
 },
 "nbformat": 4,
 "nbformat_minor": 0
}