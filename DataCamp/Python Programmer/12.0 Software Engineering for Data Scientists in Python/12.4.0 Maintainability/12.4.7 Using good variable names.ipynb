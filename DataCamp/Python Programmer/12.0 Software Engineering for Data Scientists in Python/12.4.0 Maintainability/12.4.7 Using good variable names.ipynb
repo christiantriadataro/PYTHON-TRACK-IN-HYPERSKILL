{
 "cells": [
  {
   "cell_type": "markdown",
   "source": [
    "# Software Engineering for Data Scientists in Python"
   ],
   "metadata": {
    "collapsed": false,
    "pycharm": {
     "name": "#%% md\n"
    }
   }
  },
  {
   "cell_type": "markdown",
   "source": [
    "## Maintainability"
   ],
   "metadata": {
    "collapsed": false,
    "pycharm": {
     "name": "#%% md\n"
    }
   }
  },
  {
   "cell_type": "markdown",
   "source": [
    "### Using good varible names\n",
    "Just like functions, descriptive variable names can make your code much more readable. In this exercise, you'll write some code using good variable naming practices.\n",
    "There's not always a clear best name for a variable. The exercise has been written to try and make a clear *best* choice from the provided options."
   ],
   "metadata": {
    "collapsed": false,
    "pycharm": {
     "name": "#%% md\n"
    }
   }
  },
  {
   "cell_type": "markdown",
   "source": [
    "#### Instructions\n",
    "* Choose the best variable name to hold the sample of pupil diameter measurements in millimeters from the following choices: `d`, `diameter`, `pupil_diameter`, or `pupil_diameter_in_millimeters`.\n",
    "* Take the `mean` of the measurements and assign it to a variable. Choose the best variable name to hold this mean from the following options: `m`, `mean`, `mean_diameter` or `mean_pupil_diameter_in_millimeters`.\n",
    "* Print the resulting average pupil diameter."
   ],
   "metadata": {
    "collapsed": false,
    "pycharm": {
     "name": "#%% md\n"
    }
   }
  },
  {
   "cell_type": "code",
   "execution_count": 2,
   "outputs": [
    {
     "name": "stdout",
     "output_type": "stream",
     "text": [
      "5.04\n"
     ]
    }
   ],
   "source": [
    "from statistics import mean\n",
    "\n",
    "# Sample measurements of pupil diameter in mm\n",
    "pupil_diameter = [3.3, 6.8, 7.0, 5.4, 2.7]\n",
    "\n",
    "# Average pupil diameter from sample\n",
    "mean_diameter = mean(pupil_diameter)\n",
    "\n",
    "print(mean_diameter)"
   ],
   "metadata": {
    "collapsed": false,
    "pycharm": {
     "name": "#%%\n"
    }
   }
  },
  {
   "cell_type": "code",
   "execution_count": null,
   "outputs": [],
   "source": [],
   "metadata": {
    "collapsed": false,
    "pycharm": {
     "name": "#%%\n"
    }
   }
  }
 ],
 "metadata": {
  "kernelspec": {
   "display_name": "Python 3",
   "language": "python",
   "name": "python3"
  },
  "language_info": {
   "codemirror_mode": {
    "name": "ipython",
    "version": 2
   },
   "file_extension": ".py",
   "mimetype": "text/x-python",
   "name": "python",
   "nbconvert_exporter": "python",
   "pygments_lexer": "ipython2",
   "version": "2.7.6"
  }
 },
 "nbformat": 4,
 "nbformat_minor": 0
}