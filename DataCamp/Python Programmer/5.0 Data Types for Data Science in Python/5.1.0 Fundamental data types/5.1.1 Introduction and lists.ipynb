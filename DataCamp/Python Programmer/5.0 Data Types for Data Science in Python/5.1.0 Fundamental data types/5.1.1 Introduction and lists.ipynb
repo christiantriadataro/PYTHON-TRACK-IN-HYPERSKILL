{
 "cells": [
  {
   "cell_type": "markdown",
   "source": [
    "# Introduction and lists"
   ],
   "metadata": {
    "collapsed": false
   }
  },
  {
   "cell_type": "markdown",
   "source": [
    "#### Data types\n",
    "* Data type system sets the stage for the capabilities of the langauge\n",
    "* Understanding data types empowers you as a data scientist"
   ],
   "metadata": {
    "collapsed": false
   }
  },
  {
   "cell_type": "markdown",
   "source": [
    "#### Container sequences\n",
    "* Hold other types of data\n",
    "* Used for aggregation, sorting, and more\n",
    "* Can be mutable (list, set) or immutable (tuple)\n",
    "* Iterable"
   ],
   "metadata": {
    "collapsed": false
   }
  },
  {
   "cell_type": "markdown",
   "source": [
    "#### Lists\n",
    "* Hold data in order it was added\n",
    "* Mutable\n",
    "* Index"
   ],
   "metadata": {
    "collapsed": false
   }
  },
  {
   "cell_type": "markdown",
   "source": [
    "#### Accessing single items in list"
   ],
   "metadata": {
    "collapsed": false
   }
  },
  {
   "cell_type": "code",
   "execution_count": 1,
   "metadata": {
    "collapsed": true,
    "ExecuteTime": {
     "start_time": "2023-05-01T15:18:43.806495Z",
     "end_time": "2023-05-01T15:18:43.827738Z"
    }
   },
   "outputs": [
    {
     "name": "stdout",
     "output_type": "stream",
     "text": [
      "['chocolate chip', 'peanut butter', 'sugar', 'Tirggel']\n"
     ]
    }
   ],
   "source": [
    "cookies = ['chocolate chip', 'peanut butter', 'sugar']\n",
    "cookies.append('Tirggel')\n",
    "print(cookies)"
   ]
  },
  {
   "cell_type": "code",
   "execution_count": 2,
   "outputs": [
    {
     "name": "stdout",
     "output_type": "stream",
     "text": [
      "sugar\n"
     ]
    }
   ],
   "source": [
    "print(cookies[2])"
   ],
   "metadata": {
    "collapsed": false,
    "ExecuteTime": {
     "start_time": "2023-05-01T15:18:52.709874Z",
     "end_time": "2023-05-01T15:18:52.733444Z"
    }
   }
  },
  {
   "cell_type": "markdown",
   "source": [
    "#### Combining Lists\n",
    "* Using operators, you can combine two lists into a new one"
   ],
   "metadata": {
    "collapsed": false
   }
  },
  {
   "cell_type": "code",
   "execution_count": 3,
   "outputs": [
    {
     "name": "stdout",
     "output_type": "stream",
     "text": [
      "['chocolate chip', 'peanut butter', 'sugar', 'Tirggel', 'strawberry', 'vanilla']\n"
     ]
    }
   ],
   "source": [
    "cakes = ['strawberry', 'vanilla']\n",
    "desserts = cookies + cakes\n",
    "print(desserts)"
   ],
   "metadata": {
    "collapsed": false,
    "ExecuteTime": {
     "start_time": "2023-05-01T15:19:50.151457Z",
     "end_time": "2023-05-01T15:19:50.169400Z"
    }
   }
  },
  {
   "cell_type": "markdown",
   "source": [
    "* `.extend()` method merges a list into another list at the end"
   ],
   "metadata": {
    "collapsed": false
   }
  },
  {
   "cell_type": "markdown",
   "source": [
    "#### Finding Elements in a List\n",
    "* `.index()` method locates the position of a data element in a list"
   ],
   "metadata": {
    "collapsed": false
   }
  },
  {
   "cell_type": "code",
   "execution_count": 4,
   "outputs": [
    {
     "name": "stdout",
     "output_type": "stream",
     "text": [
      "2\n"
     ]
    }
   ],
   "source": [
    "position = cookies.index('sugar')\n",
    "print(position)"
   ],
   "metadata": {
    "collapsed": false,
    "ExecuteTime": {
     "start_time": "2023-05-01T15:21:05.843322Z",
     "end_time": "2023-05-01T15:21:05.890465Z"
    }
   }
  },
  {
   "cell_type": "code",
   "execution_count": 5,
   "outputs": [
    {
     "data": {
      "text/plain": "'Tirggel'"
     },
     "execution_count": 5,
     "metadata": {},
     "output_type": "execute_result"
    }
   ],
   "source": [
    "cookies[3]"
   ],
   "metadata": {
    "collapsed": false,
    "ExecuteTime": {
     "start_time": "2023-05-01T15:21:11.736806Z",
     "end_time": "2023-05-01T15:21:11.760867Z"
    }
   }
  },
  {
   "cell_type": "markdown",
   "source": [
    "#### Removing Elements in a List\n",
    "* `.pop()` method removes an item from a list and allows you to save it"
   ],
   "metadata": {
    "collapsed": false
   }
  },
  {
   "cell_type": "code",
   "execution_count": 6,
   "outputs": [
    {
     "name": "stdout",
     "output_type": "stream",
     "text": [
      "sugar\n"
     ]
    }
   ],
   "source": [
    "name = cookies.pop(position)\n",
    "\n",
    "print(name)"
   ],
   "metadata": {
    "collapsed": false,
    "ExecuteTime": {
     "start_time": "2023-05-01T15:21:55.727303Z",
     "end_time": "2023-05-01T15:21:55.753016Z"
    }
   }
  },
  {
   "cell_type": "code",
   "execution_count": 7,
   "outputs": [
    {
     "name": "stdout",
     "output_type": "stream",
     "text": [
      "['chocolate chip', 'peanut butter', 'Tirggel']\n"
     ]
    }
   ],
   "source": [
    "print(cookies)"
   ],
   "metadata": {
    "collapsed": false,
    "ExecuteTime": {
     "start_time": "2023-05-01T15:22:07.419801Z",
     "end_time": "2023-05-01T15:22:07.447269Z"
    }
   }
  },
  {
   "cell_type": "markdown",
   "source": [
    "#### Iterating over lists\n",
    "* `for` loops are the most common way of iterating over a list"
   ],
   "metadata": {
    "collapsed": false
   }
  },
  {
   "cell_type": "code",
   "execution_count": 8,
   "outputs": [
    {
     "name": "stdout",
     "output_type": "stream",
     "text": [
      "chocolate chip\n",
      "peanut butter\n",
      "Tirggel\n"
     ]
    }
   ],
   "source": [
    "for cookie in cookies:\n",
    "    print(cookie)"
   ],
   "metadata": {
    "collapsed": false,
    "ExecuteTime": {
     "start_time": "2023-05-01T15:22:46.686825Z",
     "end_time": "2023-05-01T15:22:46.712431Z"
    }
   }
  },
  {
   "cell_type": "markdown",
   "source": [
    "#### Sorting lists\n",
    "* `sorted()` function sorts data in numerical or alphabetical order and returns a new list"
   ],
   "metadata": {
    "collapsed": false
   }
  },
  {
   "cell_type": "code",
   "execution_count": 9,
   "outputs": [
    {
     "name": "stdout",
     "output_type": "stream",
     "text": [
      "['chocolate chip', 'peanut butter', 'Tirggel']\n"
     ]
    }
   ],
   "source": [
    "print(cookies)"
   ],
   "metadata": {
    "collapsed": false,
    "ExecuteTime": {
     "start_time": "2023-05-01T15:23:29.992046Z",
     "end_time": "2023-05-01T15:23:30.018401Z"
    }
   }
  },
  {
   "cell_type": "code",
   "execution_count": 10,
   "outputs": [
    {
     "name": "stdout",
     "output_type": "stream",
     "text": [
      "['Tirggel', 'chocolate chip', 'peanut butter']\n"
     ]
    }
   ],
   "source": [
    "sorted_cookies = sorted(cookies)\n",
    "\n",
    "print(sorted_cookies)"
   ],
   "metadata": {
    "collapsed": false,
    "ExecuteTime": {
     "start_time": "2023-05-01T15:23:42.482571Z",
     "end_time": "2023-05-01T15:23:42.500944Z"
    }
   }
  },
  {
   "cell_type": "code",
   "execution_count": null,
   "outputs": [],
   "source": [],
   "metadata": {
    "collapsed": false
   }
  }
 ],
 "metadata": {
  "kernelspec": {
   "display_name": "Python 3",
   "language": "python",
   "name": "python3"
  },
  "language_info": {
   "codemirror_mode": {
    "name": "ipython",
    "version": 2
   },
   "file_extension": ".py",
   "mimetype": "text/x-python",
   "name": "python",
   "nbconvert_exporter": "python",
   "pygments_lexer": "ipython2",
   "version": "2.7.6"
  }
 },
 "nbformat": 4,
 "nbformat_minor": 0
}
