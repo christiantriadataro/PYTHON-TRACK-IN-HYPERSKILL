{
 "cells": [
  {
   "cell_type": "markdown",
   "source": [
    "# Meet the Tuples"
   ],
   "metadata": {
    "collapsed": false
   }
  },
  {
   "cell_type": "markdown",
   "source": [
    "#### Tuple, Tuple\n",
    "* Hold data in oder\n",
    "* Index\n",
    "* Immutable\n",
    "* Pairing\n",
    "* Unpackable"
   ],
   "metadata": {
    "collapsed": false
   }
  },
  {
   "cell_type": "markdown",
   "source": [
    "#### Zipping tuples\n",
    "* Tuples are commonly created by lists together with `zip()`\n",
    "* Two lists: `us_cookies`, `in_cookies`"
   ],
   "metadata": {
    "collapsed": false
   }
  },
  {
   "cell_type": "code",
   "execution_count": 1,
   "outputs": [
    {
     "name": "stdout",
     "output_type": "stream",
     "text": [
      "[('Chocolate Chip', 'Punjabi'), ('Brownies', 'Fruit Cake Rusk'), ('Peanut Butter', 'Marble Cookies'), ('Oreos', 'Kaju Pista Cookies'), ('Oatmeal Raisin', 'Almond Cookies')]\n"
     ]
    }
   ],
   "source": [
    "us_cookies = ['Chocolate Chip', 'Brownies', 'Peanut Butter', 'Oreos', 'Oatmeal Raisin']\n",
    "in_cookies = ['Punjabi', 'Fruit Cake Rusk', 'Marble Cookies', 'Kaju Pista Cookies', 'Almond Cookies']\n",
    "top_pairs = list(zip(us_cookies, in_cookies))\n",
    "print(top_pairs)"
   ],
   "metadata": {
    "collapsed": false,
    "ExecuteTime": {
     "start_time": "2023-05-01T15:32:20.097093Z",
     "end_time": "2023-05-01T15:32:20.103102Z"
    }
   }
  },
  {
   "cell_type": "markdown",
   "source": [
    "#### Unpacking tuples\n",
    "* Unpacking tuples is a very expressive way for working with data"
   ],
   "metadata": {
    "collapsed": false
   }
  },
  {
   "cell_type": "code",
   "execution_count": 2,
   "outputs": [
    {
     "name": "stdout",
     "output_type": "stream",
     "text": [
      "Chocolate Chip\n"
     ]
    }
   ],
   "source": [
    "us_num1, in_num_1 = top_pairs[0]\n",
    "print(us_num1)"
   ],
   "metadata": {
    "collapsed": false,
    "ExecuteTime": {
     "start_time": "2023-05-01T15:33:25.574759Z",
     "end_time": "2023-05-01T15:33:25.597569Z"
    }
   }
  },
  {
   "cell_type": "code",
   "execution_count": 3,
   "outputs": [
    {
     "name": "stdout",
     "output_type": "stream",
     "text": [
      "Punjabi\n"
     ]
    }
   ],
   "source": [
    "print(in_num_1)"
   ],
   "metadata": {
    "collapsed": false,
    "ExecuteTime": {
     "start_time": "2023-05-01T15:33:35.802457Z",
     "end_time": "2023-05-01T15:33:35.819459Z"
    }
   }
  },
  {
   "cell_type": "markdown",
   "source": [
    "#### More unpacking in Loops\n",
    "* Unpacking is especially powerful in loops"
   ],
   "metadata": {
    "collapsed": false
   }
  },
  {
   "cell_type": "code",
   "execution_count": 4,
   "metadata": {
    "collapsed": true,
    "ExecuteTime": {
     "start_time": "2023-05-01T15:34:33.886816Z",
     "end_time": "2023-05-01T15:34:33.903532Z"
    }
   },
   "outputs": [
    {
     "name": "stdout",
     "output_type": "stream",
     "text": [
      "Punjabi\n",
      "Chocolate Chip\n",
      "Fruit Cake Rusk\n",
      "Brownies\n",
      "Marble Cookies\n",
      "Peanut Butter\n",
      "Kaju Pista Cookies\n",
      "Oreos\n",
      "Almond Cookies\n",
      "Oatmeal Raisin\n"
     ]
    }
   ],
   "source": [
    "for us_cookies, in_cookies in top_pairs:\n",
    "    print(in_cookies)\n",
    "    print(us_cookies)"
   ]
  },
  {
   "cell_type": "markdown",
   "source": [
    "#### Enumerating positions\n",
    "* Another useful tuple creation method is the `enumerate()` function\n",
    "* Enumeration is used in loops to return the position and the data in that position while looping"
   ],
   "metadata": {
    "collapsed": false
   }
  },
  {
   "cell_type": "code",
   "execution_count": 5,
   "outputs": [
    {
     "name": "stdout",
     "output_type": "stream",
     "text": [
      "0 Chocolate Chip Punjabi\n",
      "1 Brownies Fruit Cake Rusk\n",
      "2 Peanut Butter Marble Cookies\n",
      "3 Oreos Kaju Pista Cookies\n",
      "4 Oatmeal Raisin Almond Cookies\n"
     ]
    }
   ],
   "source": [
    "for idx, item in enumerate(top_pairs):\n",
    "    us_cookies, in_cookies = item\n",
    "    print(idx, us_cookies, in_cookies)"
   ],
   "metadata": {
    "collapsed": false,
    "ExecuteTime": {
     "start_time": "2023-05-01T15:35:55.077828Z",
     "end_time": "2023-05-01T15:35:55.093822Z"
    }
   }
  },
  {
   "cell_type": "markdown",
   "source": [
    "#### Be careful when making tuples\n",
    "* Use `zip()`, `enumerate()`, or `()` to make tuples"
   ],
   "metadata": {
    "collapsed": false
   }
  },
  {
   "cell_type": "code",
   "execution_count": 6,
   "outputs": [
    {
     "name": "stdout",
     "output_type": "stream",
     "text": [
      "('vanilla', 'chocolate')\n"
     ]
    }
   ],
   "source": [
    "item = ('vanilla', 'chocolate')\n",
    "print(item)"
   ],
   "metadata": {
    "collapsed": false,
    "ExecuteTime": {
     "start_time": "2023-05-01T15:37:22.242180Z",
     "end_time": "2023-05-01T15:37:22.265186Z"
    }
   }
  },
  {
   "cell_type": "markdown",
   "source": [
    "* Beware of tailing commas!"
   ],
   "metadata": {
    "collapsed": false
   }
  },
  {
   "cell_type": "code",
   "execution_count": 8,
   "outputs": [
    {
     "name": "stdout",
     "output_type": "stream",
     "text": [
      "('butter',)\n"
     ]
    }
   ],
   "source": [
    "item2 = 'butter',\n",
    "print(item2)"
   ],
   "metadata": {
    "collapsed": false,
    "ExecuteTime": {
     "start_time": "2023-05-01T15:37:41.590142Z",
     "end_time": "2023-05-01T15:37:41.604145Z"
    }
   }
  },
  {
   "cell_type": "markdown",
   "source": [
    "#### Removing Elements in a List\n",
    "* `.pop()` method removes an item from a list and allows you to save it"
   ],
   "metadata": {
    "collapsed": false
   }
  },
  {
   "cell_type": "code",
   "execution_count": 6,
   "outputs": [
    {
     "name": "stdout",
     "output_type": "stream",
     "text": [
      "sugar\n"
     ]
    }
   ],
   "source": [
    "name = cookies.pop(position)\n",
    "\n",
    "print(name)"
   ],
   "metadata": {
    "collapsed": false,
    "ExecuteTime": {
     "start_time": "2023-05-01T15:21:55.727303Z",
     "end_time": "2023-05-01T15:21:55.753016Z"
    }
   }
  },
  {
   "cell_type": "code",
   "execution_count": 7,
   "outputs": [
    {
     "name": "stdout",
     "output_type": "stream",
     "text": [
      "['chocolate chip', 'peanut butter', 'Tirggel']\n"
     ]
    }
   ],
   "source": [
    "print(cookies)"
   ],
   "metadata": {
    "collapsed": false,
    "ExecuteTime": {
     "start_time": "2023-05-01T15:22:07.419801Z",
     "end_time": "2023-05-01T15:22:07.447269Z"
    }
   }
  },
  {
   "cell_type": "markdown",
   "source": [
    "#### Iterating over lists\n",
    "* `for` loops are the most common way of iterating over a list"
   ],
   "metadata": {
    "collapsed": false
   }
  },
  {
   "cell_type": "code",
   "execution_count": 8,
   "outputs": [
    {
     "name": "stdout",
     "output_type": "stream",
     "text": [
      "chocolate chip\n",
      "peanut butter\n",
      "Tirggel\n"
     ]
    }
   ],
   "source": [
    "for cookie in cookies:\n",
    "    print(cookie)"
   ],
   "metadata": {
    "collapsed": false,
    "ExecuteTime": {
     "start_time": "2023-05-01T15:22:46.686825Z",
     "end_time": "2023-05-01T15:22:46.712431Z"
    }
   }
  },
  {
   "cell_type": "markdown",
   "source": [
    "#### Sorting lists\n",
    "* `sorted()` function sorts data in numerical or alphabetical order and returns a new list"
   ],
   "metadata": {
    "collapsed": false
   }
  },
  {
   "cell_type": "code",
   "execution_count": 9,
   "outputs": [
    {
     "name": "stdout",
     "output_type": "stream",
     "text": [
      "['chocolate chip', 'peanut butter', 'Tirggel']\n"
     ]
    }
   ],
   "source": [
    "print(cookies)"
   ],
   "metadata": {
    "collapsed": false,
    "ExecuteTime": {
     "start_time": "2023-05-01T15:23:29.992046Z",
     "end_time": "2023-05-01T15:23:30.018401Z"
    }
   }
  },
  {
   "cell_type": "code",
   "execution_count": 10,
   "outputs": [
    {
     "name": "stdout",
     "output_type": "stream",
     "text": [
      "['Tirggel', 'chocolate chip', 'peanut butter']\n"
     ]
    }
   ],
   "source": [
    "sorted_cookies = sorted(cookies)\n",
    "\n",
    "print(sorted_cookies)"
   ],
   "metadata": {
    "collapsed": false,
    "ExecuteTime": {
     "start_time": "2023-05-01T15:23:42.482571Z",
     "end_time": "2023-05-01T15:23:42.500944Z"
    }
   }
  },
  {
   "cell_type": "code",
   "execution_count": null,
   "outputs": [],
   "source": [],
   "metadata": {
    "collapsed": false
   }
  }
 ],
 "metadata": {
  "kernelspec": {
   "display_name": "Python 3",
   "language": "python",
   "name": "python3"
  },
  "language_info": {
   "codemirror_mode": {
    "name": "ipython",
    "version": 2
   },
   "file_extension": ".py",
   "mimetype": "text/x-python",
   "name": "python",
   "nbconvert_exporter": "python",
   "pygments_lexer": "ipython2",
   "version": "2.7.6"
  }
 },
 "nbformat": 4,
 "nbformat_minor": 0
}
