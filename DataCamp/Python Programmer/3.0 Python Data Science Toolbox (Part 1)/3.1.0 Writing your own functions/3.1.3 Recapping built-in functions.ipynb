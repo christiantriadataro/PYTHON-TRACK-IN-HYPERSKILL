{
 "cells": [
  {
   "cell_type": "markdown",
   "source": [
    "# Python Data Science Toolbox (Part 1)"
   ],
   "metadata": {
    "collapsed": false,
    "pycharm": {
     "name": "#%% md\n"
    }
   }
  },
  {
   "cell_type": "markdown",
   "source": [
    "## Writing your own functions"
   ],
   "metadata": {
    "collapsed": false,
    "pycharm": {
     "name": "#%% md\n"
    }
   }
  },
  {
   "cell_type": "markdown",
   "source": [
    "### Recapping built-in functions"
   ],
   "metadata": {
    "collapsed": false,
    "pycharm": {
     "name": "#%% md\n"
    }
   }
  },
  {
   "cell_type": "markdown",
   "source": [
    "#### Recapping built-in functions"
   ],
   "metadata": {
    "collapsed": false,
    "pycharm": {
     "name": "#%% md\n"
    }
   }
  },
  {
   "cell_type": "markdown",
   "source": [
    "In the video, Hugo briefly examined the return behavior of the built-in functions `print()` and `str()`. Here, you will use both functions and examine their return values. A variable `x` has been preloaded for this exercise. Run the code below in the console. Pay close attention to the results to answer the question that follows.\n",
    "Assign `str(x)` to a variable `y1`: `y1 = str(x)`\n",
    "Assign `print(x)` to a variable `y2`: `y2 = print(x)` Check the types of the variables `x`, `y1`, and `y2`. What are the types of `x`, `y1`, and `y2`?\n"
   ],
   "metadata": {
    "collapsed": false,
    "pycharm": {
     "name": "#%% md\n"
    }
   }
  },
  {
   "cell_type": "markdown",
   "source": [
    "You've also learned to use the operations `+` and `*` with strings. Unlike with numeric types such as ints and floats, the `+` operator *concatenates* string together. In this exercise, you will use the `+` and `*` operations on strings to answer the question below. Execute the following code in the shell:"
   ],
   "metadata": {
    "collapsed": false,
    "pycharm": {
     "name": "#%% md\n"
    }
   }
  },
  {
   "cell_type": "code",
   "execution_count": 1,
   "outputs": [],
   "source": [
    "# object1 = \"data\" + \"analysis\" + \"visualization\"\n",
    "# object2 = 1 * 3\n",
    "# object3 = \"1\" * 3"
   ],
   "metadata": {
    "collapsed": false,
    "pycharm": {
     "name": "#%%\n"
    }
   }
  },
  {
   "cell_type": "markdown",
   "source": [
    "What are the values in `object1`, `object2`, and `object3`, respectively?"
   ],
   "metadata": {
    "collapsed": false,
    "pycharm": {
     "name": "#%% md\n"
    }
   }
  },
  {
   "cell_type": "markdown",
   "source": [
    "#### Instructions\n",
    "* `object1` contains"
   ],
   "metadata": {
    "collapsed": false,
    "pycharm": {
     "name": "#%% md\n"
    }
   }
  },
  {
   "cell_type": "code",
   "execution_count": 3,
   "outputs": [
    {
     "data": {
      "text/plain": "                     nb_bumped  total_passengers\nairline                                         \nALASKA AIRLINES           1392        36543121.0\nAMERICAN AIRLINES     98023730        99348093.0\nDELTA AIR LINES           1591       197033215.0\nEXPRESSJET AIRLINES       3326        27858678.0\nFRONTIER AIRLINES         1228        22954995.0\nHAWAIIAN AIRLINES          122        16577572.0\nJETBLUE AIRWAYS           3615        53245866.0\nSKYWEST AIRLINES          3094        47091737.0\nSOUTHWEST AIRLINES       18585       228142036.0\nSPIRIT AIRLINES           2920        32304571.0\nUNITED AIRLINES           4941       134468897.0\nVIRGIN AMERICA             242        12017967.0",
      "text/html": "<div>\n<style scoped>\n    .dataframe tbody tr th:only-of-type {\n        vertical-align: middle;\n    }\n\n    .dataframe tbody tr th {\n        vertical-align: top;\n    }\n\n    .dataframe thead th {\n        text-align: right;\n    }\n</style>\n<table border=\"1\" class=\"dataframe\">\n  <thead>\n    <tr style=\"text-align: right;\">\n      <th></th>\n      <th>nb_bumped</th>\n      <th>total_passengers</th>\n    </tr>\n    <tr>\n      <th>airline</th>\n      <th></th>\n      <th></th>\n    </tr>\n  </thead>\n  <tbody>\n    <tr>\n      <th>ALASKA AIRLINES</th>\n      <td>1392</td>\n      <td>36543121.0</td>\n    </tr>\n    <tr>\n      <th>AMERICAN AIRLINES</th>\n      <td>98023730</td>\n      <td>99348093.0</td>\n    </tr>\n    <tr>\n      <th>DELTA AIR LINES</th>\n      <td>1591</td>\n      <td>197033215.0</td>\n    </tr>\n    <tr>\n      <th>EXPRESSJET AIRLINES</th>\n      <td>3326</td>\n      <td>27858678.0</td>\n    </tr>\n    <tr>\n      <th>FRONTIER AIRLINES</th>\n      <td>1228</td>\n      <td>22954995.0</td>\n    </tr>\n    <tr>\n      <th>HAWAIIAN AIRLINES</th>\n      <td>122</td>\n      <td>16577572.0</td>\n    </tr>\n    <tr>\n      <th>JETBLUE AIRWAYS</th>\n      <td>3615</td>\n      <td>53245866.0</td>\n    </tr>\n    <tr>\n      <th>SKYWEST AIRLINES</th>\n      <td>3094</td>\n      <td>47091737.0</td>\n    </tr>\n    <tr>\n      <th>SOUTHWEST AIRLINES</th>\n      <td>18585</td>\n      <td>228142036.0</td>\n    </tr>\n    <tr>\n      <th>SPIRIT AIRLINES</th>\n      <td>2920</td>\n      <td>32304571.0</td>\n    </tr>\n    <tr>\n      <th>UNITED AIRLINES</th>\n      <td>4941</td>\n      <td>134468897.0</td>\n    </tr>\n    <tr>\n      <th>VIRGIN AMERICA</th>\n      <td>242</td>\n      <td>12017967.0</td>\n    </tr>\n  </tbody>\n</table>\n</div>"
     },
     "execution_count": 3,
     "metadata": {},
     "output_type": "execute_result"
    }
   ],
   "source": [
    "# For each airline, select nb_bumped and total_passengers and sum\n",
    "airline_totals = airline_bumping.groupby(\"airline\")[[\"nb_bumped\",\"total_passengers\"]].sum()\n",
    "airline_totals"
   ],
   "metadata": {
    "collapsed": false,
    "pycharm": {
     "name": "#%%\n"
    }
   }
  },
  {
   "cell_type": "code",
   "execution_count": 4,
   "outputs": [
    {
     "data": {
      "text/plain": "                     nb_bumped  total_passengers  bumps_per_10k\nairline                                                        \nALASKA AIRLINES           1392        36543121.0       0.380920\nAMERICAN AIRLINES     98023730        99348093.0    9866.694673\nDELTA AIR LINES           1591       197033215.0       0.080748\nEXPRESSJET AIRLINES       3326        27858678.0       1.193883\nFRONTIER AIRLINES         1228        22954995.0       0.534960\nHAWAIIAN AIRLINES          122        16577572.0       0.073593\nJETBLUE AIRWAYS           3615        53245866.0       0.678926\nSKYWEST AIRLINES          3094        47091737.0       0.657015\nSOUTHWEST AIRLINES       18585       228142036.0       0.814624\nSPIRIT AIRLINES           2920        32304571.0       0.903897\nUNITED AIRLINES           4941       134468897.0       0.367446\nVIRGIN AMERICA             242        12017967.0       0.201365",
      "text/html": "<div>\n<style scoped>\n    .dataframe tbody tr th:only-of-type {\n        vertical-align: middle;\n    }\n\n    .dataframe tbody tr th {\n        vertical-align: top;\n    }\n\n    .dataframe thead th {\n        text-align: right;\n    }\n</style>\n<table border=\"1\" class=\"dataframe\">\n  <thead>\n    <tr style=\"text-align: right;\">\n      <th></th>\n      <th>nb_bumped</th>\n      <th>total_passengers</th>\n      <th>bumps_per_10k</th>\n    </tr>\n    <tr>\n      <th>airline</th>\n      <th></th>\n      <th></th>\n      <th></th>\n    </tr>\n  </thead>\n  <tbody>\n    <tr>\n      <th>ALASKA AIRLINES</th>\n      <td>1392</td>\n      <td>36543121.0</td>\n      <td>0.380920</td>\n    </tr>\n    <tr>\n      <th>AMERICAN AIRLINES</th>\n      <td>98023730</td>\n      <td>99348093.0</td>\n      <td>9866.694673</td>\n    </tr>\n    <tr>\n      <th>DELTA AIR LINES</th>\n      <td>1591</td>\n      <td>197033215.0</td>\n      <td>0.080748</td>\n    </tr>\n    <tr>\n      <th>EXPRESSJET AIRLINES</th>\n      <td>3326</td>\n      <td>27858678.0</td>\n      <td>1.193883</td>\n    </tr>\n    <tr>\n      <th>FRONTIER AIRLINES</th>\n      <td>1228</td>\n      <td>22954995.0</td>\n      <td>0.534960</td>\n    </tr>\n    <tr>\n      <th>HAWAIIAN AIRLINES</th>\n      <td>122</td>\n      <td>16577572.0</td>\n      <td>0.073593</td>\n    </tr>\n    <tr>\n      <th>JETBLUE AIRWAYS</th>\n      <td>3615</td>\n      <td>53245866.0</td>\n      <td>0.678926</td>\n    </tr>\n    <tr>\n      <th>SKYWEST AIRLINES</th>\n      <td>3094</td>\n      <td>47091737.0</td>\n      <td>0.657015</td>\n    </tr>\n    <tr>\n      <th>SOUTHWEST AIRLINES</th>\n      <td>18585</td>\n      <td>228142036.0</td>\n      <td>0.814624</td>\n    </tr>\n    <tr>\n      <th>SPIRIT AIRLINES</th>\n      <td>2920</td>\n      <td>32304571.0</td>\n      <td>0.903897</td>\n    </tr>\n    <tr>\n      <th>UNITED AIRLINES</th>\n      <td>4941</td>\n      <td>134468897.0</td>\n      <td>0.367446</td>\n    </tr>\n    <tr>\n      <th>VIRGIN AMERICA</th>\n      <td>242</td>\n      <td>12017967.0</td>\n      <td>0.201365</td>\n    </tr>\n  </tbody>\n</table>\n</div>"
     },
     "execution_count": 4,
     "metadata": {},
     "output_type": "execute_result"
    }
   ],
   "source": [
    "# Create a new col, bumps_per_10k: no. of bumps per 10k passengers for each airline\n",
    "airline_totals[\"bumps_per_10k\"] = airline_totals[\"nb_bumped\"] / airline_totals[\"total_passengers\"] * 10000\n",
    "airline_totals"
   ],
   "metadata": {
    "collapsed": false,
    "pycharm": {
     "name": "#%%\n"
    }
   }
  },
  {
   "cell_type": "code",
   "execution_count": 9,
   "outputs": [
    {
     "data": {
      "text/plain": "                     nb_bumped  total_passengers  bumps_per_10k\nairline                                                        \nHAWAIIAN AIRLINES          122        16577572.0       0.073593\nDELTA AIR LINES           1591       197033215.0       0.080748\nVIRGIN AMERICA             242        12017967.0       0.201365\nUNITED AIRLINES           4941       134468897.0       0.367446\nALASKA AIRLINES           1392        36543121.0       0.380920\nFRONTIER AIRLINES         1228        22954995.0       0.534960\nSKYWEST AIRLINES          3094        47091737.0       0.657015\nJETBLUE AIRWAYS           3615        53245866.0       0.678926\nSOUTHWEST AIRLINES       18585       228142036.0       0.814624\nSPIRIT AIRLINES           2920        32304571.0       0.903897\nEXPRESSJET AIRLINES       3326        27858678.0       1.193883\nAMERICAN AIRLINES     98023730        99348093.0    9866.694673",
      "text/html": "<div>\n<style scoped>\n    .dataframe tbody tr th:only-of-type {\n        vertical-align: middle;\n    }\n\n    .dataframe tbody tr th {\n        vertical-align: top;\n    }\n\n    .dataframe thead th {\n        text-align: right;\n    }\n</style>\n<table border=\"1\" class=\"dataframe\">\n  <thead>\n    <tr style=\"text-align: right;\">\n      <th></th>\n      <th>nb_bumped</th>\n      <th>total_passengers</th>\n      <th>bumps_per_10k</th>\n    </tr>\n    <tr>\n      <th>airline</th>\n      <th></th>\n      <th></th>\n      <th></th>\n    </tr>\n  </thead>\n  <tbody>\n    <tr>\n      <th>HAWAIIAN AIRLINES</th>\n      <td>122</td>\n      <td>16577572.0</td>\n      <td>0.073593</td>\n    </tr>\n    <tr>\n      <th>DELTA AIR LINES</th>\n      <td>1591</td>\n      <td>197033215.0</td>\n      <td>0.080748</td>\n    </tr>\n    <tr>\n      <th>VIRGIN AMERICA</th>\n      <td>242</td>\n      <td>12017967.0</td>\n      <td>0.201365</td>\n    </tr>\n    <tr>\n      <th>UNITED AIRLINES</th>\n      <td>4941</td>\n      <td>134468897.0</td>\n      <td>0.367446</td>\n    </tr>\n    <tr>\n      <th>ALASKA AIRLINES</th>\n      <td>1392</td>\n      <td>36543121.0</td>\n      <td>0.380920</td>\n    </tr>\n    <tr>\n      <th>FRONTIER AIRLINES</th>\n      <td>1228</td>\n      <td>22954995.0</td>\n      <td>0.534960</td>\n    </tr>\n    <tr>\n      <th>SKYWEST AIRLINES</th>\n      <td>3094</td>\n      <td>47091737.0</td>\n      <td>0.657015</td>\n    </tr>\n    <tr>\n      <th>JETBLUE AIRWAYS</th>\n      <td>3615</td>\n      <td>53245866.0</td>\n      <td>0.678926</td>\n    </tr>\n    <tr>\n      <th>SOUTHWEST AIRLINES</th>\n      <td>18585</td>\n      <td>228142036.0</td>\n      <td>0.814624</td>\n    </tr>\n    <tr>\n      <th>SPIRIT AIRLINES</th>\n      <td>2920</td>\n      <td>32304571.0</td>\n      <td>0.903897</td>\n    </tr>\n    <tr>\n      <th>EXPRESSJET AIRLINES</th>\n      <td>3326</td>\n      <td>27858678.0</td>\n      <td>1.193883</td>\n    </tr>\n    <tr>\n      <th>AMERICAN AIRLINES</th>\n      <td>98023730</td>\n      <td>99348093.0</td>\n      <td>9866.694673</td>\n    </tr>\n  </tbody>\n</table>\n</div>"
     },
     "execution_count": 9,
     "metadata": {},
     "output_type": "execute_result"
    }
   ],
   "source": [
    "# Create airline_totals_sorted\n",
    "airline_totals_sorted = airline_totals.sort_values(by=\"bumps_per_10k\", ascending=False)\n",
    "airline_totals_sorted"
   ],
   "metadata": {
    "collapsed": false,
    "pycharm": {
     "name": "#%%\n"
    }
   }
  },
  {
   "cell_type": "code",
   "execution_count": null,
   "outputs": [],
   "source": [
    "# Print airline_totals_sorted\n",
    "print(airline_totals_sorted)"
   ],
   "metadata": {
    "collapsed": false,
    "pycharm": {
     "name": "#%%\n"
    }
   }
  },
  {
   "cell_type": "code",
   "execution_count": null,
   "outputs": [],
   "source": [
    "# Save as airline_totals_sorted.csv\n",
    "airline_totals_sorted.to_csv(\"airline_totals_sorted.csv\")"
   ],
   "metadata": {
    "collapsed": false,
    "pycharm": {
     "name": "#%%\n"
    }
   }
  }
 ],
 "metadata": {
  "kernelspec": {
   "display_name": "Python 3",
   "language": "python",
   "name": "python3"
  },
  "language_info": {
   "codemirror_mode": {
    "name": "ipython",
    "version": 2
   },
   "file_extension": ".py",
   "mimetype": "text/x-python",
   "name": "python",
   "nbconvert_exporter": "python",
   "pygments_lexer": "ipython2",
   "version": "2.7.6"
  }
 },
 "nbformat": 4,
 "nbformat_minor": 0
}