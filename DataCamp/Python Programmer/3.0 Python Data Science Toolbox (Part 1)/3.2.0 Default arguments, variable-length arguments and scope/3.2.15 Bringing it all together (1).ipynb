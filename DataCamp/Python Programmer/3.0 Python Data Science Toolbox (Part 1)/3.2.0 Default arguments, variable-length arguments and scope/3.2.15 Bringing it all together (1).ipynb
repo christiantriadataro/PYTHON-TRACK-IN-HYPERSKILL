{
 "cells": [
  {
   "cell_type": "markdown",
   "source": [
    "# Python Data Science Toolbox (Part 1)"
   ],
   "metadata": {
    "collapsed": false,
    "pycharm": {
     "name": "#%% md\n"
    }
   }
  },
  {
   "cell_type": "markdown",
   "source": [
    "## Default arguments, variable-length arguments and scope"
   ],
   "metadata": {
    "collapsed": false,
    "pycharm": {
     "name": "#%% md\n"
    }
   }
  },
  {
   "cell_type": "markdown",
   "source": [
    "#### Bringing it all together (1)"
   ],
   "metadata": {
    "collapsed": false,
    "pycharm": {
     "name": "#%% md\n"
    }
   }
  },
  {
   "cell_type": "markdown",
   "source": [
    "Recall the *Bringing it all together* exercise in the previous chapter where you did a simple Twitter analysis by developing a functions that counts how many tweets are in certain languages. The output of your function was a dictionary that had the language as the keys and the counts of tweets in that language as the value.\n",
    "In this exercise,  we will generalize the Twitter language analysis that you did in the previous chapter. You will do that by including a **default argument** that takes a column name.\n",
    "\n",
    "For your convenience, `pandas` has been imported as `pd` and the `tweets.csv` file has been  imported into the DataFrame `tweets_df`. Parts of the code from your previous work are also provided."
   ],
   "metadata": {
    "collapsed": false,
    "pycharm": {
     "name": "#%% md\n"
    }
   }
  },
  {
   "cell_type": "markdown",
   "source": [
    "#### Instructions\n",
    "* Complete the function header by supplying the parameter for a DataFrame `df` and the parameter `col_name` with a default value of `lang` for the DataFrame column name.\n",
    "* Call `count_entries()` by passing the `tweets_df` DataFrame and the column name 'lang'. Assign the result to `result1`. Note that since `lang` is the default value of the `col_name` parameter, you don't have to specify it here.\n",
    "* Call `count_entries()` by passing the `tweets_df` DataFrame and the column name `'source'`. Assign the result to `result2`."
   ],
   "metadata": {
    "collapsed": false,
    "pycharm": {
     "name": "#%% md\n"
    }
   }
  },
  {
   "cell_type": "code",
   "execution_count": 2,
   "outputs": [
    {
     "data": {
      "text/plain": "   contributors  coordinates                      created_at  \\\n0           NaN          NaN  Tue Mar 29 23:40:17 +0000 2016   \n1           NaN          NaN  Tue Mar 29 23:40:17 +0000 2016   \n2           NaN          NaN  Tue Mar 29 23:40:17 +0000 2016   \n3           NaN          NaN  Tue Mar 29 23:40:17 +0000 2016   \n4           NaN          NaN  Tue Mar 29 23:40:17 +0000 2016   \n\n                                            entities  \\\n0  {'hashtags': [], 'user_mentions': [{'screen_na...   \n1  {'hashtags': [{'text': 'cruzsexscandal', 'indi...   \n2  {'hashtags': [], 'user_mentions': [], 'symbols...   \n3  {'hashtags': [], 'user_mentions': [], 'symbols...   \n4  {'hashtags': [], 'user_mentions': [{'screen_na...   \n\n                                   extended_entities  favorite_count  \\\n0  {'media': [{'sizes': {'large': {'w': 1024, 'h'...               0   \n1  {'media': [{'sizes': {'large': {'w': 500, 'h':...               0   \n2                                                NaN               0   \n3                                                NaN               0   \n4                                                NaN               0   \n\n   favorited filter_level  geo                  id  ...  quoted_status_id  \\\n0      False          low  NaN  714960401759387648  ...               NaN   \n1      False          low  NaN  714960401977319424  ...               NaN   \n2      False          low  NaN  714960402426236928  ...               NaN   \n3      False          low  NaN  714960402367561730  ...      7.149239e+17   \n4      False          low  NaN  714960402149416960  ...               NaN   \n\n  quoted_status_id_str  retweet_count  retweeted  \\\n0                  NaN              0      False   \n1                  NaN              0      False   \n2                  NaN              0      False   \n3         7.149239e+17              0      False   \n4                  NaN              0      False   \n\n                                    retweeted_status  \\\n0  {'retweeted': False, 'text': \".@krollbondratin...   \n1  {'retweeted': False, 'text': '@dmartosko Cruz ...   \n2                                                NaN   \n3                                                NaN   \n4  {'retweeted': False, 'text': 'The anti-America...   \n\n                                              source  \\\n0  <a href=\"http://twitter.com\" rel=\"nofollow\">Tw...   \n1  <a href=\"http://twitter.com\" rel=\"nofollow\">Tw...   \n2  <a href=\"http://www.facebook.com/twitter\" rel=...   \n3  <a href=\"http://twitter.com/download/android\" ...   \n4  <a href=\"http://twitter.com/download/iphone\" r...   \n\n                                                text   timestamp_ms truncated  \\\n0  RT @bpolitics: .@krollbondrating's Christopher...  1459294817758     False   \n1  RT @HeidiAlpine: @dmartosko Cruz video found.....  1459294817810     False   \n2  Njihuni me ZonjÃ«n Trump !!! | Ekskluzive http...  1459294817917     False   \n3  Your an idiot she shouldn't have tried to grab...  1459294817903     False   \n4  RT @AlanLohner: The anti-American D.C. elites ...  1459294817851     False   \n\n                                                user  \n0  {'utc_offset': 3600, 'profile_image_url_https'...  \n1  {'utc_offset': None, 'profile_image_url_https'...  \n2  {'utc_offset': 7200, 'profile_image_url_https'...  \n3  {'utc_offset': None, 'profile_image_url_https'...  \n4  {'utc_offset': -18000, 'profile_image_url_http...  \n\n[5 rows x 31 columns]",
      "text/html": "<div>\n<style scoped>\n    .dataframe tbody tr th:only-of-type {\n        vertical-align: middle;\n    }\n\n    .dataframe tbody tr th {\n        vertical-align: top;\n    }\n\n    .dataframe thead th {\n        text-align: right;\n    }\n</style>\n<table border=\"1\" class=\"dataframe\">\n  <thead>\n    <tr style=\"text-align: right;\">\n      <th></th>\n      <th>contributors</th>\n      <th>coordinates</th>\n      <th>created_at</th>\n      <th>entities</th>\n      <th>extended_entities</th>\n      <th>favorite_count</th>\n      <th>favorited</th>\n      <th>filter_level</th>\n      <th>geo</th>\n      <th>id</th>\n      <th>...</th>\n      <th>quoted_status_id</th>\n      <th>quoted_status_id_str</th>\n      <th>retweet_count</th>\n      <th>retweeted</th>\n      <th>retweeted_status</th>\n      <th>source</th>\n      <th>text</th>\n      <th>timestamp_ms</th>\n      <th>truncated</th>\n      <th>user</th>\n    </tr>\n  </thead>\n  <tbody>\n    <tr>\n      <th>0</th>\n      <td>NaN</td>\n      <td>NaN</td>\n      <td>Tue Mar 29 23:40:17 +0000 2016</td>\n      <td>{'hashtags': [], 'user_mentions': [{'screen_na...</td>\n      <td>{'media': [{'sizes': {'large': {'w': 1024, 'h'...</td>\n      <td>0</td>\n      <td>False</td>\n      <td>low</td>\n      <td>NaN</td>\n      <td>714960401759387648</td>\n      <td>...</td>\n      <td>NaN</td>\n      <td>NaN</td>\n      <td>0</td>\n      <td>False</td>\n      <td>{'retweeted': False, 'text': \".@krollbondratin...</td>\n      <td>&lt;a href=\"http://twitter.com\" rel=\"nofollow\"&gt;Tw...</td>\n      <td>RT @bpolitics: .@krollbondrating's Christopher...</td>\n      <td>1459294817758</td>\n      <td>False</td>\n      <td>{'utc_offset': 3600, 'profile_image_url_https'...</td>\n    </tr>\n    <tr>\n      <th>1</th>\n      <td>NaN</td>\n      <td>NaN</td>\n      <td>Tue Mar 29 23:40:17 +0000 2016</td>\n      <td>{'hashtags': [{'text': 'cruzsexscandal', 'indi...</td>\n      <td>{'media': [{'sizes': {'large': {'w': 500, 'h':...</td>\n      <td>0</td>\n      <td>False</td>\n      <td>low</td>\n      <td>NaN</td>\n      <td>714960401977319424</td>\n      <td>...</td>\n      <td>NaN</td>\n      <td>NaN</td>\n      <td>0</td>\n      <td>False</td>\n      <td>{'retweeted': False, 'text': '@dmartosko Cruz ...</td>\n      <td>&lt;a href=\"http://twitter.com\" rel=\"nofollow\"&gt;Tw...</td>\n      <td>RT @HeidiAlpine: @dmartosko Cruz video found.....</td>\n      <td>1459294817810</td>\n      <td>False</td>\n      <td>{'utc_offset': None, 'profile_image_url_https'...</td>\n    </tr>\n    <tr>\n      <th>2</th>\n      <td>NaN</td>\n      <td>NaN</td>\n      <td>Tue Mar 29 23:40:17 +0000 2016</td>\n      <td>{'hashtags': [], 'user_mentions': [], 'symbols...</td>\n      <td>NaN</td>\n      <td>0</td>\n      <td>False</td>\n      <td>low</td>\n      <td>NaN</td>\n      <td>714960402426236928</td>\n      <td>...</td>\n      <td>NaN</td>\n      <td>NaN</td>\n      <td>0</td>\n      <td>False</td>\n      <td>NaN</td>\n      <td>&lt;a href=\"http://www.facebook.com/twitter\" rel=...</td>\n      <td>Njihuni me ZonjÃ«n Trump !!! | Ekskluzive http...</td>\n      <td>1459294817917</td>\n      <td>False</td>\n      <td>{'utc_offset': 7200, 'profile_image_url_https'...</td>\n    </tr>\n    <tr>\n      <th>3</th>\n      <td>NaN</td>\n      <td>NaN</td>\n      <td>Tue Mar 29 23:40:17 +0000 2016</td>\n      <td>{'hashtags': [], 'user_mentions': [], 'symbols...</td>\n      <td>NaN</td>\n      <td>0</td>\n      <td>False</td>\n      <td>low</td>\n      <td>NaN</td>\n      <td>714960402367561730</td>\n      <td>...</td>\n      <td>7.149239e+17</td>\n      <td>7.149239e+17</td>\n      <td>0</td>\n      <td>False</td>\n      <td>NaN</td>\n      <td>&lt;a href=\"http://twitter.com/download/android\" ...</td>\n      <td>Your an idiot she shouldn't have tried to grab...</td>\n      <td>1459294817903</td>\n      <td>False</td>\n      <td>{'utc_offset': None, 'profile_image_url_https'...</td>\n    </tr>\n    <tr>\n      <th>4</th>\n      <td>NaN</td>\n      <td>NaN</td>\n      <td>Tue Mar 29 23:40:17 +0000 2016</td>\n      <td>{'hashtags': [], 'user_mentions': [{'screen_na...</td>\n      <td>NaN</td>\n      <td>0</td>\n      <td>False</td>\n      <td>low</td>\n      <td>NaN</td>\n      <td>714960402149416960</td>\n      <td>...</td>\n      <td>NaN</td>\n      <td>NaN</td>\n      <td>0</td>\n      <td>False</td>\n      <td>{'retweeted': False, 'text': 'The anti-America...</td>\n      <td>&lt;a href=\"http://twitter.com/download/iphone\" r...</td>\n      <td>RT @AlanLohner: The anti-American D.C. elites ...</td>\n      <td>1459294817851</td>\n      <td>False</td>\n      <td>{'utc_offset': -18000, 'profile_image_url_http...</td>\n    </tr>\n  </tbody>\n</table>\n<p>5 rows × 31 columns</p>\n</div>"
     },
     "execution_count": 2,
     "metadata": {},
     "output_type": "execute_result"
    }
   ],
   "source": [
    "import pandas as pd\n",
    "tweets_df = pd.read_csv(\"../datasets/tweets.csv\")\n",
    "tweets_df.head()"
   ],
   "metadata": {
    "collapsed": false,
    "pycharm": {
     "name": "#%%\n"
    }
   }
  },
  {
   "cell_type": "code",
   "execution_count": 4,
   "outputs": [
    {
     "data": {
      "text/plain": "{'en': 97, 'et': 1, 'und': 2}"
     },
     "metadata": {},
     "output_type": "display_data"
    },
    {
     "data": {
      "text/plain": "{'<a href=\"http://twitter.com\" rel=\"nofollow\">Twitter Web Client</a>': 24,\n '<a href=\"http://www.facebook.com/twitter\" rel=\"nofollow\">Facebook</a>': 1,\n '<a href=\"http://twitter.com/download/android\" rel=\"nofollow\">Twitter for Android</a>': 26,\n '<a href=\"http://twitter.com/download/iphone\" rel=\"nofollow\">Twitter for iPhone</a>': 33,\n '<a href=\"http://www.twitter.com\" rel=\"nofollow\">Twitter for BlackBerry</a>': 2,\n '<a href=\"http://www.google.com/\" rel=\"nofollow\">Google</a>': 2,\n '<a href=\"http://twitter.com/#!/download/ipad\" rel=\"nofollow\">Twitter for iPad</a>': 6,\n '<a href=\"http://linkis.com\" rel=\"nofollow\">Linkis.com</a>': 2,\n '<a href=\"http://rutracker.org/forum/viewforum.php?f=93\" rel=\"nofollow\">newzlasz</a>': 2,\n '<a href=\"http://ifttt.com\" rel=\"nofollow\">IFTTT</a>': 1,\n '<a href=\"http://www.myplume.com/\" rel=\"nofollow\">PlumeÂ forÂ Android</a>': 1}"
     },
     "metadata": {},
     "output_type": "display_data"
    }
   ],
   "source": [
    "# Define count_entries()\n",
    "def count_entries(df, col_name=\"lang\"):\n",
    "    \"\"\"Return a dictionary with counts of occurrences as value for each key.\"\"\"\n",
    "\n",
    "    # Initialize an empty dictionary: cols_count\n",
    "    cols_count = {}\n",
    "\n",
    "    # Extract column from DataFrame: col\n",
    "    col = df[col_name]\n",
    "\n",
    "    # Iterate over the column in DataFrame\n",
    "    for entry in col:\n",
    "\n",
    "        # If entry is in cols_count, add 1\n",
    "        if entry in cols_count.keys():\n",
    "            cols_count[entry] += 1\n",
    "        # Else add the entry to cols_count, set the value to 1\n",
    "        else:\n",
    "            cols_count[entry] = 1\n",
    "\n",
    "    # Return the cols_count dictionary\n",
    "    return cols_count\n",
    "\n",
    "# Call count_entries(): result1\n",
    "result1 = count_entries(tweets_df)\n",
    "\n",
    "# Call count_entries(): result2\n",
    "result2 = count_entries(tweets_df, 'source')\n",
    "\n",
    "# Print result1 and result2\n",
    "display(result1)\n",
    "display(result2)"
   ],
   "metadata": {
    "collapsed": false,
    "pycharm": {
     "name": "#%%\n"
    }
   }
  },
  {
   "cell_type": "code",
   "execution_count": null,
   "outputs": [],
   "source": [],
   "metadata": {
    "collapsed": false,
    "pycharm": {
     "name": "#%%\n"
    }
   }
  }
 ],
 "metadata": {
  "kernelspec": {
   "display_name": "Python 3",
   "language": "python",
   "name": "python3"
  },
  "language_info": {
   "codemirror_mode": {
    "name": "ipython",
    "version": 2
   },
   "file_extension": ".py",
   "mimetype": "text/x-python",
   "name": "python",
   "nbconvert_exporter": "python",
   "pygments_lexer": "ipython2",
   "version": "2.7.6"
  }
 },
 "nbformat": 4,
 "nbformat_minor": 0
}