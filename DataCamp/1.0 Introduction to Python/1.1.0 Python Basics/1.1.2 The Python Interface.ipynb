{
 "cells": [
  {
   "cell_type": "markdown",
   "source": [
    "# The Python Interface"
   ],
   "metadata": {
    "collapsed": false,
    "pycharm": {
     "name": "#%% md\n"
    }
   }
  },
  {
   "cell_type": "markdown",
   "source": [
    "In the Python script on the right, you can type Python code to solve the exercises. If you hit *Run Code* or *Submit Answer*, your python script (`script.py`) is executed and the output is shown in the IPython Shell. *Submit Answer* checks whether your submission is correct and gives you feedback."
   ],
   "metadata": {
    "collapsed": false,
    "pycharm": {
     "name": "#%% md\n"
    }
   }
  },
  {
   "cell_type": "markdown",
   "source": [
    "You can hit *Run Code* and *Submit Answer* as often as you want. If you're stuck, you can get *Get Hint*, and ultimately *Get Solution*."
   ],
   "metadata": {
    "collapsed": false,
    "pycharm": {
     "name": "#%% md\n"
    }
   }
  },
  {
   "cell_type": "markdown",
   "source": [
    "You can also use the IPython Shell Interactively by simply typing commands and hitting Enter. When you work in the shell directly, your code will not be checked for correctness so it is a great way to experiment."
   ],
   "metadata": {
    "collapsed": false,
    "pycharm": {
     "name": "#%% md\n"
    }
   }
  }
 ],
 "metadata": {
  "kernelspec": {
   "display_name": "Python 3",
   "language": "python",
   "name": "python3"
  },
  "language_info": {
   "codemirror_mode": {
    "name": "ipython",
    "version": 2
   },
   "file_extension": ".py",
   "mimetype": "text/x-python",
   "name": "python",
   "nbconvert_exporter": "python",
   "pygments_lexer": "ipython2",
   "version": "2.7.6"
  }
 },
 "nbformat": 4,
 "nbformat_minor": 0
}