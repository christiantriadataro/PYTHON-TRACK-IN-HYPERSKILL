{
 "cells": [
  {
   "cell_type": "markdown",
   "source": [
    "## Introduction to Python"
   ],
   "metadata": {
    "collapsed": false,
    "pycharm": {
     "name": "#%% md\n"
    }
   }
  },
  {
   "cell_type": "markdown",
   "source": [
    "#### Explore the baseball data"
   ],
   "metadata": {
    "collapsed": false,
    "pycharm": {
     "name": "#%% md\n"
    }
   }
  },
  {
   "cell_type": "code",
   "execution_count": 3,
   "outputs": [
    {
     "data": {
      "text/plain": "      Height  Weight    Age\n0         74     180  22.99\n1         74     215  34.69\n2         72     210  30.78\n3         72     210  35.43\n4         73     188  35.71\n...      ...     ...    ...\n1010      73     190  25.08\n1011      74     180  25.73\n1012      75     205  25.19\n1013      75     190  31.01\n1014      73     195  27.92\n\n[1015 rows x 3 columns]",
      "text/html": "<div>\n<style scoped>\n    .dataframe tbody tr th:only-of-type {\n        vertical-align: middle;\n    }\n\n    .dataframe tbody tr th {\n        vertical-align: top;\n    }\n\n    .dataframe thead th {\n        text-align: right;\n    }\n</style>\n<table border=\"1\" class=\"dataframe\">\n  <thead>\n    <tr style=\"text-align: right;\">\n      <th></th>\n      <th>Height</th>\n      <th>Weight</th>\n      <th>Age</th>\n    </tr>\n  </thead>\n  <tbody>\n    <tr>\n      <th>0</th>\n      <td>74</td>\n      <td>180</td>\n      <td>22.99</td>\n    </tr>\n    <tr>\n      <th>1</th>\n      <td>74</td>\n      <td>215</td>\n      <td>34.69</td>\n    </tr>\n    <tr>\n      <th>2</th>\n      <td>72</td>\n      <td>210</td>\n      <td>30.78</td>\n    </tr>\n    <tr>\n      <th>3</th>\n      <td>72</td>\n      <td>210</td>\n      <td>35.43</td>\n    </tr>\n    <tr>\n      <th>4</th>\n      <td>73</td>\n      <td>188</td>\n      <td>35.71</td>\n    </tr>\n    <tr>\n      <th>...</th>\n      <td>...</td>\n      <td>...</td>\n      <td>...</td>\n    </tr>\n    <tr>\n      <th>1010</th>\n      <td>73</td>\n      <td>190</td>\n      <td>25.08</td>\n    </tr>\n    <tr>\n      <th>1011</th>\n      <td>74</td>\n      <td>180</td>\n      <td>25.73</td>\n    </tr>\n    <tr>\n      <th>1012</th>\n      <td>75</td>\n      <td>205</td>\n      <td>25.19</td>\n    </tr>\n    <tr>\n      <th>1013</th>\n      <td>75</td>\n      <td>190</td>\n      <td>31.01</td>\n    </tr>\n    <tr>\n      <th>1014</th>\n      <td>73</td>\n      <td>195</td>\n      <td>27.92</td>\n    </tr>\n  </tbody>\n</table>\n<p>1015 rows × 3 columns</p>\n</div>"
     },
     "execution_count": 3,
     "metadata": {},
     "output_type": "execute_result"
    }
   ],
   "source": [
    "import pandas as pd\n",
    "import numpy as np\n",
    "\n",
    "df = pd.read_csv(\"mlb.csv\")\n",
    "df = df[['Height', 'Weight','Age']]\n",
    "baseball = df.values.tolist()\n",
    "df"
   ],
   "metadata": {
    "collapsed": false,
    "pycharm": {
     "name": "#%%\n"
    }
   }
  },
  {
   "cell_type": "code",
   "execution_count": 4,
   "outputs": [
    {
     "data": {
      "text/plain": "array([[ 74.  , 180.  ,  22.99],\n       [ 74.  , 215.  ,  34.69],\n       [ 72.  , 210.  ,  30.78],\n       ...,\n       [ 75.  , 205.  ,  25.19],\n       [ 75.  , 190.  ,  31.01],\n       [ 73.  , 195.  ,  27.92]])"
     },
     "execution_count": 4,
     "metadata": {},
     "output_type": "execute_result"
    }
   ],
   "source": [
    "# np_baseball is available\n",
    "np_baseball = np.array(baseball)\n",
    "np_baseball"
   ],
   "metadata": {
    "collapsed": false,
    "pycharm": {
     "name": "#%%\n"
    }
   }
  },
  {
   "cell_type": "markdown",
   "source": [
    "Print mean height (first column)"
   ],
   "metadata": {
    "collapsed": false,
    "pycharm": {
     "name": "#%% md\n"
    }
   }
  },
  {
   "cell_type": "code",
   "execution_count": 5,
   "outputs": [
    {
     "name": "stdout",
     "output_type": "stream",
     "text": [
      "Average: 73.6896551724138\n"
     ]
    }
   ],
   "source": [
    "avg = np.mean(np_baseball[:,0])\n",
    "print(\"Average: \" + str(avg))"
   ],
   "metadata": {
    "collapsed": false,
    "pycharm": {
     "name": "#%%\n"
    }
   }
  },
  {
   "cell_type": "markdown",
   "source": [
    "Print median height. Replace 'None'"
   ],
   "metadata": {
    "collapsed": false,
    "pycharm": {
     "name": "#%% md\n"
    }
   }
  },
  {
   "cell_type": "code",
   "execution_count": 6,
   "outputs": [
    {
     "name": "stdout",
     "output_type": "stream",
     "text": [
      "Median: 74.0\n"
     ]
    }
   ],
   "source": [
    "med = np.median(np_baseball[:,0])\n",
    "print(\"Median: \" + str(med))"
   ],
   "metadata": {
    "collapsed": false,
    "pycharm": {
     "name": "#%%\n"
    }
   }
  },
  {
   "cell_type": "markdown",
   "source": [
    "Print out the standard deviation on height. Replace 'None'"
   ],
   "metadata": {
    "collapsed": false,
    "pycharm": {
     "name": "#%% md\n"
    }
   }
  },
  {
   "cell_type": "code",
   "execution_count": 7,
   "outputs": [
    {
     "name": "stdout",
     "output_type": "stream",
     "text": [
      "Standard Deviation: 2.312791881046546\n"
     ]
    }
   ],
   "source": [
    "stddev = np.std(np_baseball[:, 0])\n",
    "print(\"Standard Deviation: \" + str(stddev))"
   ],
   "metadata": {
    "collapsed": false,
    "pycharm": {
     "name": "#%%\n"
    }
   }
  },
  {
   "cell_type": "markdown",
   "source": [
    "Print out correlation between first and second column. Replace 'None'"
   ],
   "metadata": {
    "collapsed": false,
    "pycharm": {
     "name": "#%% md\n"
    }
   }
  },
  {
   "cell_type": "code",
   "execution_count": 8,
   "outputs": [
    {
     "name": "stdout",
     "output_type": "stream",
     "text": [
      "Correlation: [[1.         0.53153932]\n",
      " [0.53153932 1.        ]]\n"
     ]
    }
   ],
   "source": [
    "corr = np.corrcoef(np_baseball[:, 0], np_baseball[:, 1])\n",
    "print(\"Correlation: \" + str(corr))"
   ],
   "metadata": {
    "collapsed": false,
    "pycharm": {
     "name": "#%%\n"
    }
   }
  }
 ],
 "metadata": {
  "kernelspec": {
   "display_name": "Python 3",
   "language": "python",
   "name": "python3"
  },
  "language_info": {
   "codemirror_mode": {
    "name": "ipython",
    "version": 2
   },
   "file_extension": ".py",
   "mimetype": "text/x-python",
   "name": "python",
   "nbconvert_exporter": "python",
   "pygments_lexer": "ipython2",
   "version": "2.7.6"
  }
 },
 "nbformat": 4,
 "nbformat_minor": 0
}