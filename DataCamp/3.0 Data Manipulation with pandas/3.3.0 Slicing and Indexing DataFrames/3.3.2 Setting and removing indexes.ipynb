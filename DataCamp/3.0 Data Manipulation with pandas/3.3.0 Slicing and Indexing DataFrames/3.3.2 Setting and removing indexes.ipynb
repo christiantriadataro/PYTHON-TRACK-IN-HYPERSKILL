{
 "cells": [
  {
   "cell_type": "markdown",
   "source": [
    "## Slicing and Indexing DataFrames"
   ],
   "metadata": {
    "collapsed": false,
    "pycharm": {
     "name": "#%% md\n"
    }
   }
  },
  {
   "cell_type": "markdown",
   "source": [
    "#### Setting and removing indexes"
   ],
   "metadata": {
    "collapsed": false,
    "pycharm": {
     "name": "#%% md\n"
    }
   }
  },
  {
   "cell_type": "markdown",
   "source": [
    "pandas allows you to designate columns as an *index*. This enables cleaner code when taking subsets (as well as providing more efficient lookup under some circumstances).\n",
    "In this chapter, you'll be exploring `temperatures`, a Dataframe of average temperatures in cities around the world. `pandas` is loaded as `pd`."
   ],
   "metadata": {
    "collapsed": false,
    "pycharm": {
     "name": "#%% md\n"
    }
   }
  },
  {
   "cell_type": "code",
   "execution_count": 2,
   "outputs": [
    {
     "data": {
      "text/plain": "   Unnamed: 0        date     city        country  avg_temp_c\n0           0  2000-01-01  Abidjan  Côte D'Ivoire      27.293\n1           1  2000-02-01  Abidjan  Côte D'Ivoire      27.685\n2           2  2000-03-01  Abidjan  Côte D'Ivoire      29.061\n3           3  2000-04-01  Abidjan  Côte D'Ivoire      28.162\n4           4  2000-05-01  Abidjan  Côte D'Ivoire      27.547",
      "text/html": "<div>\n<style scoped>\n    .dataframe tbody tr th:only-of-type {\n        vertical-align: middle;\n    }\n\n    .dataframe tbody tr th {\n        vertical-align: top;\n    }\n\n    .dataframe thead th {\n        text-align: right;\n    }\n</style>\n<table border=\"1\" class=\"dataframe\">\n  <thead>\n    <tr style=\"text-align: right;\">\n      <th></th>\n      <th>Unnamed: 0</th>\n      <th>date</th>\n      <th>city</th>\n      <th>country</th>\n      <th>avg_temp_c</th>\n    </tr>\n  </thead>\n  <tbody>\n    <tr>\n      <th>0</th>\n      <td>0</td>\n      <td>2000-01-01</td>\n      <td>Abidjan</td>\n      <td>Côte D'Ivoire</td>\n      <td>27.293</td>\n    </tr>\n    <tr>\n      <th>1</th>\n      <td>1</td>\n      <td>2000-02-01</td>\n      <td>Abidjan</td>\n      <td>Côte D'Ivoire</td>\n      <td>27.685</td>\n    </tr>\n    <tr>\n      <th>2</th>\n      <td>2</td>\n      <td>2000-03-01</td>\n      <td>Abidjan</td>\n      <td>Côte D'Ivoire</td>\n      <td>29.061</td>\n    </tr>\n    <tr>\n      <th>3</th>\n      <td>3</td>\n      <td>2000-04-01</td>\n      <td>Abidjan</td>\n      <td>Côte D'Ivoire</td>\n      <td>28.162</td>\n    </tr>\n    <tr>\n      <th>4</th>\n      <td>4</td>\n      <td>2000-05-01</td>\n      <td>Abidjan</td>\n      <td>Côte D'Ivoire</td>\n      <td>27.547</td>\n    </tr>\n  </tbody>\n</table>\n</div>"
     },
     "execution_count": 2,
     "metadata": {},
     "output_type": "execute_result"
    }
   ],
   "source": [
    "# importing pandas\n",
    "import pandas as pd\n",
    "\n",
    "# importing sales dataset\n",
    "temperatures = pd.read_csv(\"../datasets/temperatures.csv\")\n",
    "temperatures.head()"
   ],
   "metadata": {
    "collapsed": false,
    "pycharm": {
     "name": "#%%\n"
    }
   }
  },
  {
   "cell_type": "markdown",
   "source": [
    "### Instructions"
   ],
   "metadata": {
    "collapsed": false,
    "pycharm": {
     "name": "#%% md\n"
    }
   }
  },
  {
   "cell_type": "markdown",
   "source": [
    "* Look at `temperatures`.\n",
    "* Set the index of `temperatures` to `\"city\"`, assigning to `temperatures_ind`.\n",
    "* Look at `temperatures_ind`. How is it different from `temperatures`?\n",
    "* Reset the index of `temperatures_ind`, keeping its contents.\n",
    "* Reset the index of `temperatures_ind`, dropping its contents."
   ],
   "metadata": {
    "collapsed": false,
    "pycharm": {
     "name": "#%% md\n"
    }
   }
  },
  {
   "cell_type": "code",
   "execution_count": 3,
   "outputs": [
    {
     "data": {
      "text/plain": "       Unnamed: 0        date     city        country  avg_temp_c\n0               0  2000-01-01  Abidjan  Côte D'Ivoire      27.293\n1               1  2000-02-01  Abidjan  Côte D'Ivoire      27.685\n2               2  2000-03-01  Abidjan  Côte D'Ivoire      29.061\n3               3  2000-04-01  Abidjan  Côte D'Ivoire      28.162\n4               4  2000-05-01  Abidjan  Côte D'Ivoire      27.547\n...           ...         ...      ...            ...         ...\n16495       16495  2013-05-01     Xian          China      18.979\n16496       16496  2013-06-01     Xian          China      23.522\n16497       16497  2013-07-01     Xian          China      25.251\n16498       16498  2013-08-01     Xian          China      24.528\n16499       16499  2013-09-01     Xian          China         NaN\n\n[16500 rows x 5 columns]",
      "text/html": "<div>\n<style scoped>\n    .dataframe tbody tr th:only-of-type {\n        vertical-align: middle;\n    }\n\n    .dataframe tbody tr th {\n        vertical-align: top;\n    }\n\n    .dataframe thead th {\n        text-align: right;\n    }\n</style>\n<table border=\"1\" class=\"dataframe\">\n  <thead>\n    <tr style=\"text-align: right;\">\n      <th></th>\n      <th>Unnamed: 0</th>\n      <th>date</th>\n      <th>city</th>\n      <th>country</th>\n      <th>avg_temp_c</th>\n    </tr>\n  </thead>\n  <tbody>\n    <tr>\n      <th>0</th>\n      <td>0</td>\n      <td>2000-01-01</td>\n      <td>Abidjan</td>\n      <td>Côte D'Ivoire</td>\n      <td>27.293</td>\n    </tr>\n    <tr>\n      <th>1</th>\n      <td>1</td>\n      <td>2000-02-01</td>\n      <td>Abidjan</td>\n      <td>Côte D'Ivoire</td>\n      <td>27.685</td>\n    </tr>\n    <tr>\n      <th>2</th>\n      <td>2</td>\n      <td>2000-03-01</td>\n      <td>Abidjan</td>\n      <td>Côte D'Ivoire</td>\n      <td>29.061</td>\n    </tr>\n    <tr>\n      <th>3</th>\n      <td>3</td>\n      <td>2000-04-01</td>\n      <td>Abidjan</td>\n      <td>Côte D'Ivoire</td>\n      <td>28.162</td>\n    </tr>\n    <tr>\n      <th>4</th>\n      <td>4</td>\n      <td>2000-05-01</td>\n      <td>Abidjan</td>\n      <td>Côte D'Ivoire</td>\n      <td>27.547</td>\n    </tr>\n    <tr>\n      <th>...</th>\n      <td>...</td>\n      <td>...</td>\n      <td>...</td>\n      <td>...</td>\n      <td>...</td>\n    </tr>\n    <tr>\n      <th>16495</th>\n      <td>16495</td>\n      <td>2013-05-01</td>\n      <td>Xian</td>\n      <td>China</td>\n      <td>18.979</td>\n    </tr>\n    <tr>\n      <th>16496</th>\n      <td>16496</td>\n      <td>2013-06-01</td>\n      <td>Xian</td>\n      <td>China</td>\n      <td>23.522</td>\n    </tr>\n    <tr>\n      <th>16497</th>\n      <td>16497</td>\n      <td>2013-07-01</td>\n      <td>Xian</td>\n      <td>China</td>\n      <td>25.251</td>\n    </tr>\n    <tr>\n      <th>16498</th>\n      <td>16498</td>\n      <td>2013-08-01</td>\n      <td>Xian</td>\n      <td>China</td>\n      <td>24.528</td>\n    </tr>\n    <tr>\n      <th>16499</th>\n      <td>16499</td>\n      <td>2013-09-01</td>\n      <td>Xian</td>\n      <td>China</td>\n      <td>NaN</td>\n    </tr>\n  </tbody>\n</table>\n<p>16500 rows × 5 columns</p>\n</div>"
     },
     "execution_count": 3,
     "metadata": {},
     "output_type": "execute_result"
    }
   ],
   "source": [
    "# Look at temperatures\n",
    "temperatures"
   ],
   "metadata": {
    "collapsed": false,
    "pycharm": {
     "name": "#%%\n"
    }
   }
  },
  {
   "cell_type": "code",
   "execution_count": 4,
   "outputs": [
    {
     "data": {
      "text/plain": "         Unnamed: 0        date        country  avg_temp_c\ncity                                                      \nAbidjan           0  2000-01-01  Côte D'Ivoire      27.293\nAbidjan           1  2000-02-01  Côte D'Ivoire      27.685\nAbidjan           2  2000-03-01  Côte D'Ivoire      29.061\nAbidjan           3  2000-04-01  Côte D'Ivoire      28.162\nAbidjan           4  2000-05-01  Côte D'Ivoire      27.547\n...             ...         ...            ...         ...\nXian          16495  2013-05-01          China      18.979\nXian          16496  2013-06-01          China      23.522\nXian          16497  2013-07-01          China      25.251\nXian          16498  2013-08-01          China      24.528\nXian          16499  2013-09-01          China         NaN\n\n[16500 rows x 4 columns]",
      "text/html": "<div>\n<style scoped>\n    .dataframe tbody tr th:only-of-type {\n        vertical-align: middle;\n    }\n\n    .dataframe tbody tr th {\n        vertical-align: top;\n    }\n\n    .dataframe thead th {\n        text-align: right;\n    }\n</style>\n<table border=\"1\" class=\"dataframe\">\n  <thead>\n    <tr style=\"text-align: right;\">\n      <th></th>\n      <th>Unnamed: 0</th>\n      <th>date</th>\n      <th>country</th>\n      <th>avg_temp_c</th>\n    </tr>\n    <tr>\n      <th>city</th>\n      <th></th>\n      <th></th>\n      <th></th>\n      <th></th>\n    </tr>\n  </thead>\n  <tbody>\n    <tr>\n      <th>Abidjan</th>\n      <td>0</td>\n      <td>2000-01-01</td>\n      <td>Côte D'Ivoire</td>\n      <td>27.293</td>\n    </tr>\n    <tr>\n      <th>Abidjan</th>\n      <td>1</td>\n      <td>2000-02-01</td>\n      <td>Côte D'Ivoire</td>\n      <td>27.685</td>\n    </tr>\n    <tr>\n      <th>Abidjan</th>\n      <td>2</td>\n      <td>2000-03-01</td>\n      <td>Côte D'Ivoire</td>\n      <td>29.061</td>\n    </tr>\n    <tr>\n      <th>Abidjan</th>\n      <td>3</td>\n      <td>2000-04-01</td>\n      <td>Côte D'Ivoire</td>\n      <td>28.162</td>\n    </tr>\n    <tr>\n      <th>Abidjan</th>\n      <td>4</td>\n      <td>2000-05-01</td>\n      <td>Côte D'Ivoire</td>\n      <td>27.547</td>\n    </tr>\n    <tr>\n      <th>...</th>\n      <td>...</td>\n      <td>...</td>\n      <td>...</td>\n      <td>...</td>\n    </tr>\n    <tr>\n      <th>Xian</th>\n      <td>16495</td>\n      <td>2013-05-01</td>\n      <td>China</td>\n      <td>18.979</td>\n    </tr>\n    <tr>\n      <th>Xian</th>\n      <td>16496</td>\n      <td>2013-06-01</td>\n      <td>China</td>\n      <td>23.522</td>\n    </tr>\n    <tr>\n      <th>Xian</th>\n      <td>16497</td>\n      <td>2013-07-01</td>\n      <td>China</td>\n      <td>25.251</td>\n    </tr>\n    <tr>\n      <th>Xian</th>\n      <td>16498</td>\n      <td>2013-08-01</td>\n      <td>China</td>\n      <td>24.528</td>\n    </tr>\n    <tr>\n      <th>Xian</th>\n      <td>16499</td>\n      <td>2013-09-01</td>\n      <td>China</td>\n      <td>NaN</td>\n    </tr>\n  </tbody>\n</table>\n<p>16500 rows × 4 columns</p>\n</div>"
     },
     "execution_count": 4,
     "metadata": {},
     "output_type": "execute_result"
    }
   ],
   "source": [
    "# Set the index of temperatures to city\n",
    "temperatures_ind = temperatures.set_index(\"city\")\n",
    "temperatures_ind"
   ],
   "metadata": {
    "collapsed": false,
    "pycharm": {
     "name": "#%%\n"
    }
   }
  },
  {
   "cell_type": "code",
   "execution_count": 5,
   "outputs": [
    {
     "data": {
      "text/plain": "         Unnamed: 0        date        country  avg_temp_c\ncity                                                      \nAbidjan           0  2000-01-01  Côte D'Ivoire      27.293\nAbidjan           1  2000-02-01  Côte D'Ivoire      27.685\nAbidjan           2  2000-03-01  Côte D'Ivoire      29.061\nAbidjan           3  2000-04-01  Côte D'Ivoire      28.162\nAbidjan           4  2000-05-01  Côte D'Ivoire      27.547\n...             ...         ...            ...         ...\nXian          16495  2013-05-01          China      18.979\nXian          16496  2013-06-01          China      23.522\nXian          16497  2013-07-01          China      25.251\nXian          16498  2013-08-01          China      24.528\nXian          16499  2013-09-01          China         NaN\n\n[16500 rows x 4 columns]",
      "text/html": "<div>\n<style scoped>\n    .dataframe tbody tr th:only-of-type {\n        vertical-align: middle;\n    }\n\n    .dataframe tbody tr th {\n        vertical-align: top;\n    }\n\n    .dataframe thead th {\n        text-align: right;\n    }\n</style>\n<table border=\"1\" class=\"dataframe\">\n  <thead>\n    <tr style=\"text-align: right;\">\n      <th></th>\n      <th>Unnamed: 0</th>\n      <th>date</th>\n      <th>country</th>\n      <th>avg_temp_c</th>\n    </tr>\n    <tr>\n      <th>city</th>\n      <th></th>\n      <th></th>\n      <th></th>\n      <th></th>\n    </tr>\n  </thead>\n  <tbody>\n    <tr>\n      <th>Abidjan</th>\n      <td>0</td>\n      <td>2000-01-01</td>\n      <td>Côte D'Ivoire</td>\n      <td>27.293</td>\n    </tr>\n    <tr>\n      <th>Abidjan</th>\n      <td>1</td>\n      <td>2000-02-01</td>\n      <td>Côte D'Ivoire</td>\n      <td>27.685</td>\n    </tr>\n    <tr>\n      <th>Abidjan</th>\n      <td>2</td>\n      <td>2000-03-01</td>\n      <td>Côte D'Ivoire</td>\n      <td>29.061</td>\n    </tr>\n    <tr>\n      <th>Abidjan</th>\n      <td>3</td>\n      <td>2000-04-01</td>\n      <td>Côte D'Ivoire</td>\n      <td>28.162</td>\n    </tr>\n    <tr>\n      <th>Abidjan</th>\n      <td>4</td>\n      <td>2000-05-01</td>\n      <td>Côte D'Ivoire</td>\n      <td>27.547</td>\n    </tr>\n    <tr>\n      <th>...</th>\n      <td>...</td>\n      <td>...</td>\n      <td>...</td>\n      <td>...</td>\n    </tr>\n    <tr>\n      <th>Xian</th>\n      <td>16495</td>\n      <td>2013-05-01</td>\n      <td>China</td>\n      <td>18.979</td>\n    </tr>\n    <tr>\n      <th>Xian</th>\n      <td>16496</td>\n      <td>2013-06-01</td>\n      <td>China</td>\n      <td>23.522</td>\n    </tr>\n    <tr>\n      <th>Xian</th>\n      <td>16497</td>\n      <td>2013-07-01</td>\n      <td>China</td>\n      <td>25.251</td>\n    </tr>\n    <tr>\n      <th>Xian</th>\n      <td>16498</td>\n      <td>2013-08-01</td>\n      <td>China</td>\n      <td>24.528</td>\n    </tr>\n    <tr>\n      <th>Xian</th>\n      <td>16499</td>\n      <td>2013-09-01</td>\n      <td>China</td>\n      <td>NaN</td>\n    </tr>\n  </tbody>\n</table>\n<p>16500 rows × 4 columns</p>\n</div>"
     },
     "execution_count": 5,
     "metadata": {},
     "output_type": "execute_result"
    }
   ],
   "source": [
    "# Look at temperatures_ind\n",
    "temperatures_ind"
   ],
   "metadata": {
    "collapsed": false,
    "pycharm": {
     "name": "#%%\n"
    }
   }
  },
  {
   "cell_type": "code",
   "execution_count": 6,
   "outputs": [
    {
     "data": {
      "text/plain": "          city  Unnamed: 0        date        country  avg_temp_c\n0      Abidjan           0  2000-01-01  Côte D'Ivoire      27.293\n1      Abidjan           1  2000-02-01  Côte D'Ivoire      27.685\n2      Abidjan           2  2000-03-01  Côte D'Ivoire      29.061\n3      Abidjan           3  2000-04-01  Côte D'Ivoire      28.162\n4      Abidjan           4  2000-05-01  Côte D'Ivoire      27.547\n...        ...         ...         ...            ...         ...\n16495     Xian       16495  2013-05-01          China      18.979\n16496     Xian       16496  2013-06-01          China      23.522\n16497     Xian       16497  2013-07-01          China      25.251\n16498     Xian       16498  2013-08-01          China      24.528\n16499     Xian       16499  2013-09-01          China         NaN\n\n[16500 rows x 5 columns]",
      "text/html": "<div>\n<style scoped>\n    .dataframe tbody tr th:only-of-type {\n        vertical-align: middle;\n    }\n\n    .dataframe tbody tr th {\n        vertical-align: top;\n    }\n\n    .dataframe thead th {\n        text-align: right;\n    }\n</style>\n<table border=\"1\" class=\"dataframe\">\n  <thead>\n    <tr style=\"text-align: right;\">\n      <th></th>\n      <th>city</th>\n      <th>Unnamed: 0</th>\n      <th>date</th>\n      <th>country</th>\n      <th>avg_temp_c</th>\n    </tr>\n  </thead>\n  <tbody>\n    <tr>\n      <th>0</th>\n      <td>Abidjan</td>\n      <td>0</td>\n      <td>2000-01-01</td>\n      <td>Côte D'Ivoire</td>\n      <td>27.293</td>\n    </tr>\n    <tr>\n      <th>1</th>\n      <td>Abidjan</td>\n      <td>1</td>\n      <td>2000-02-01</td>\n      <td>Côte D'Ivoire</td>\n      <td>27.685</td>\n    </tr>\n    <tr>\n      <th>2</th>\n      <td>Abidjan</td>\n      <td>2</td>\n      <td>2000-03-01</td>\n      <td>Côte D'Ivoire</td>\n      <td>29.061</td>\n    </tr>\n    <tr>\n      <th>3</th>\n      <td>Abidjan</td>\n      <td>3</td>\n      <td>2000-04-01</td>\n      <td>Côte D'Ivoire</td>\n      <td>28.162</td>\n    </tr>\n    <tr>\n      <th>4</th>\n      <td>Abidjan</td>\n      <td>4</td>\n      <td>2000-05-01</td>\n      <td>Côte D'Ivoire</td>\n      <td>27.547</td>\n    </tr>\n    <tr>\n      <th>...</th>\n      <td>...</td>\n      <td>...</td>\n      <td>...</td>\n      <td>...</td>\n      <td>...</td>\n    </tr>\n    <tr>\n      <th>16495</th>\n      <td>Xian</td>\n      <td>16495</td>\n      <td>2013-05-01</td>\n      <td>China</td>\n      <td>18.979</td>\n    </tr>\n    <tr>\n      <th>16496</th>\n      <td>Xian</td>\n      <td>16496</td>\n      <td>2013-06-01</td>\n      <td>China</td>\n      <td>23.522</td>\n    </tr>\n    <tr>\n      <th>16497</th>\n      <td>Xian</td>\n      <td>16497</td>\n      <td>2013-07-01</td>\n      <td>China</td>\n      <td>25.251</td>\n    </tr>\n    <tr>\n      <th>16498</th>\n      <td>Xian</td>\n      <td>16498</td>\n      <td>2013-08-01</td>\n      <td>China</td>\n      <td>24.528</td>\n    </tr>\n    <tr>\n      <th>16499</th>\n      <td>Xian</td>\n      <td>16499</td>\n      <td>2013-09-01</td>\n      <td>China</td>\n      <td>NaN</td>\n    </tr>\n  </tbody>\n</table>\n<p>16500 rows × 5 columns</p>\n</div>"
     },
     "execution_count": 6,
     "metadata": {},
     "output_type": "execute_result"
    }
   ],
   "source": [
    "# Reset the temperatures_ind index, keeping its contents\n",
    "temperatures_ind.reset_index()"
   ],
   "metadata": {
    "collapsed": false,
    "pycharm": {
     "name": "#%%\n"
    }
   }
  },
  {
   "cell_type": "code",
   "execution_count": 7,
   "outputs": [
    {
     "data": {
      "text/plain": "       Unnamed: 0        date        country  avg_temp_c\n0               0  2000-01-01  Côte D'Ivoire      27.293\n1               1  2000-02-01  Côte D'Ivoire      27.685\n2               2  2000-03-01  Côte D'Ivoire      29.061\n3               3  2000-04-01  Côte D'Ivoire      28.162\n4               4  2000-05-01  Côte D'Ivoire      27.547\n...           ...         ...            ...         ...\n16495       16495  2013-05-01          China      18.979\n16496       16496  2013-06-01          China      23.522\n16497       16497  2013-07-01          China      25.251\n16498       16498  2013-08-01          China      24.528\n16499       16499  2013-09-01          China         NaN\n\n[16500 rows x 4 columns]",
      "text/html": "<div>\n<style scoped>\n    .dataframe tbody tr th:only-of-type {\n        vertical-align: middle;\n    }\n\n    .dataframe tbody tr th {\n        vertical-align: top;\n    }\n\n    .dataframe thead th {\n        text-align: right;\n    }\n</style>\n<table border=\"1\" class=\"dataframe\">\n  <thead>\n    <tr style=\"text-align: right;\">\n      <th></th>\n      <th>Unnamed: 0</th>\n      <th>date</th>\n      <th>country</th>\n      <th>avg_temp_c</th>\n    </tr>\n  </thead>\n  <tbody>\n    <tr>\n      <th>0</th>\n      <td>0</td>\n      <td>2000-01-01</td>\n      <td>Côte D'Ivoire</td>\n      <td>27.293</td>\n    </tr>\n    <tr>\n      <th>1</th>\n      <td>1</td>\n      <td>2000-02-01</td>\n      <td>Côte D'Ivoire</td>\n      <td>27.685</td>\n    </tr>\n    <tr>\n      <th>2</th>\n      <td>2</td>\n      <td>2000-03-01</td>\n      <td>Côte D'Ivoire</td>\n      <td>29.061</td>\n    </tr>\n    <tr>\n      <th>3</th>\n      <td>3</td>\n      <td>2000-04-01</td>\n      <td>Côte D'Ivoire</td>\n      <td>28.162</td>\n    </tr>\n    <tr>\n      <th>4</th>\n      <td>4</td>\n      <td>2000-05-01</td>\n      <td>Côte D'Ivoire</td>\n      <td>27.547</td>\n    </tr>\n    <tr>\n      <th>...</th>\n      <td>...</td>\n      <td>...</td>\n      <td>...</td>\n      <td>...</td>\n    </tr>\n    <tr>\n      <th>16495</th>\n      <td>16495</td>\n      <td>2013-05-01</td>\n      <td>China</td>\n      <td>18.979</td>\n    </tr>\n    <tr>\n      <th>16496</th>\n      <td>16496</td>\n      <td>2013-06-01</td>\n      <td>China</td>\n      <td>23.522</td>\n    </tr>\n    <tr>\n      <th>16497</th>\n      <td>16497</td>\n      <td>2013-07-01</td>\n      <td>China</td>\n      <td>25.251</td>\n    </tr>\n    <tr>\n      <th>16498</th>\n      <td>16498</td>\n      <td>2013-08-01</td>\n      <td>China</td>\n      <td>24.528</td>\n    </tr>\n    <tr>\n      <th>16499</th>\n      <td>16499</td>\n      <td>2013-09-01</td>\n      <td>China</td>\n      <td>NaN</td>\n    </tr>\n  </tbody>\n</table>\n<p>16500 rows × 4 columns</p>\n</div>"
     },
     "execution_count": 7,
     "metadata": {},
     "output_type": "execute_result"
    }
   ],
   "source": [
    "# Reset the temperatures_ind index, dropping its contents\n",
    "temperatures_ind.reset_index(drop=True)"
   ],
   "metadata": {
    "collapsed": false,
    "pycharm": {
     "name": "#%%\n"
    }
   }
  },
  {
   "cell_type": "code",
   "execution_count": null,
   "outputs": [],
   "source": [],
   "metadata": {
    "collapsed": false,
    "pycharm": {
     "name": "#%%\n"
    }
   }
  }
 ],
 "metadata": {
  "kernelspec": {
   "display_name": "Python 3",
   "language": "python",
   "name": "python3"
  },
  "language_info": {
   "codemirror_mode": {
    "name": "ipython",
    "version": 2
   },
   "file_extension": ".py",
   "mimetype": "text/x-python",
   "name": "python",
   "nbconvert_exporter": "python",
   "pygments_lexer": "ipython2",
   "version": "2.7.6"
  }
 },
 "nbformat": 4,
 "nbformat_minor": 0
}