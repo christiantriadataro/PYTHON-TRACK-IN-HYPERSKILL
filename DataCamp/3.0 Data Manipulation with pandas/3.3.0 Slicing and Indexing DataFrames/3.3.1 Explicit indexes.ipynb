{
 "cells": [
  {
   "cell_type": "markdown",
   "source": [
    "## Slicing and Indexing DataFrames"
   ],
   "metadata": {
    "collapsed": false,
    "pycharm": {
     "name": "#%% md\n"
    }
   }
  },
  {
   "cell_type": "markdown",
   "source": [
    "#### Explicit indexes"
   ],
   "metadata": {
    "collapsed": false,
    "pycharm": {
     "name": "#%% md\n"
    }
   }
  },
  {
   "cell_type": "code",
   "execution_count": 21,
   "outputs": [
    {
     "data": {
      "text/plain": "   Unnamed: 0        date     city        country  avg_temp_c\n0           0  2000-01-01  Abidjan  Côte D'Ivoire      27.293\n1           1  2000-02-01  Abidjan  Côte D'Ivoire      27.685\n2           2  2000-03-01  Abidjan  Côte D'Ivoire      29.061\n3           3  2000-04-01  Abidjan  Côte D'Ivoire      28.162\n4           4  2000-05-01  Abidjan  Côte D'Ivoire      27.547",
      "text/html": "<div>\n<style scoped>\n    .dataframe tbody tr th:only-of-type {\n        vertical-align: middle;\n    }\n\n    .dataframe tbody tr th {\n        vertical-align: top;\n    }\n\n    .dataframe thead th {\n        text-align: right;\n    }\n</style>\n<table border=\"1\" class=\"dataframe\">\n  <thead>\n    <tr style=\"text-align: right;\">\n      <th></th>\n      <th>Unnamed: 0</th>\n      <th>date</th>\n      <th>city</th>\n      <th>country</th>\n      <th>avg_temp_c</th>\n    </tr>\n  </thead>\n  <tbody>\n    <tr>\n      <th>0</th>\n      <td>0</td>\n      <td>2000-01-01</td>\n      <td>Abidjan</td>\n      <td>Côte D'Ivoire</td>\n      <td>27.293</td>\n    </tr>\n    <tr>\n      <th>1</th>\n      <td>1</td>\n      <td>2000-02-01</td>\n      <td>Abidjan</td>\n      <td>Côte D'Ivoire</td>\n      <td>27.685</td>\n    </tr>\n    <tr>\n      <th>2</th>\n      <td>2</td>\n      <td>2000-03-01</td>\n      <td>Abidjan</td>\n      <td>Côte D'Ivoire</td>\n      <td>29.061</td>\n    </tr>\n    <tr>\n      <th>3</th>\n      <td>3</td>\n      <td>2000-04-01</td>\n      <td>Abidjan</td>\n      <td>Côte D'Ivoire</td>\n      <td>28.162</td>\n    </tr>\n    <tr>\n      <th>4</th>\n      <td>4</td>\n      <td>2000-05-01</td>\n      <td>Abidjan</td>\n      <td>Côte D'Ivoire</td>\n      <td>27.547</td>\n    </tr>\n  </tbody>\n</table>\n</div>"
     },
     "execution_count": 21,
     "metadata": {},
     "output_type": "execute_result"
    }
   ],
   "source": [
    "# importing pandas\n",
    "import pandas as pd\n",
    "\n",
    "# importing sales dataset\n",
    "temp = pd.read_csv(\"../datasets/temperatures.csv\")\n",
    "temp.head()"
   ],
   "metadata": {
    "collapsed": false,
    "pycharm": {
     "name": "#%%\n"
    }
   }
  },
  {
   "cell_type": "markdown",
   "source": [
    "#### .columns and .index"
   ],
   "metadata": {
    "collapsed": false,
    "pycharm": {
     "name": "#%% md\n"
    }
   }
  },
  {
   "cell_type": "code",
   "execution_count": 22,
   "metadata": {
    "collapsed": true,
    "pycharm": {
     "name": "#%%\n"
    }
   },
   "outputs": [
    {
     "data": {
      "text/plain": "Index(['Unnamed: 0', 'date', 'city', 'country', 'avg_temp_c'], dtype='object')"
     },
     "execution_count": 22,
     "metadata": {},
     "output_type": "execute_result"
    }
   ],
   "source": [
    "temp.columns"
   ]
  },
  {
   "cell_type": "code",
   "execution_count": 23,
   "outputs": [
    {
     "data": {
      "text/plain": "RangeIndex(start=0, stop=16500, step=1)"
     },
     "execution_count": 23,
     "metadata": {},
     "output_type": "execute_result"
    }
   ],
   "source": [
    "temp.index"
   ],
   "metadata": {
    "collapsed": false,
    "pycharm": {
     "name": "#%%\n"
    }
   }
  },
  {
   "cell_type": "markdown",
   "source": [],
   "metadata": {
    "collapsed": false,
    "pycharm": {
     "name": "#%% md\n"
    }
   }
  },
  {
   "cell_type": "markdown",
   "source": [
    "#### Setting a column as the index"
   ],
   "metadata": {
    "collapsed": false,
    "pycharm": {
     "name": "#%% md\n"
    }
   }
  },
  {
   "cell_type": "code",
   "execution_count": 14,
   "outputs": [
    {
     "data": {
      "text/plain": "               Unnamed: 0        date     city  avg_temp_c\ncountry                                                   \nCôte D'Ivoire           0  2000-01-01  Abidjan      27.293\nCôte D'Ivoire           1  2000-02-01  Abidjan      27.685\nCôte D'Ivoire           2  2000-03-01  Abidjan      29.061\nCôte D'Ivoire           3  2000-04-01  Abidjan      28.162\nCôte D'Ivoire           4  2000-05-01  Abidjan      27.547\n...                   ...         ...      ...         ...\nChina               16495  2013-05-01     Xian      18.979\nChina               16496  2013-06-01     Xian      23.522\nChina               16497  2013-07-01     Xian      25.251\nChina               16498  2013-08-01     Xian      24.528\nChina               16499  2013-09-01     Xian         NaN\n\n[16500 rows x 4 columns]",
      "text/html": "<div>\n<style scoped>\n    .dataframe tbody tr th:only-of-type {\n        vertical-align: middle;\n    }\n\n    .dataframe tbody tr th {\n        vertical-align: top;\n    }\n\n    .dataframe thead th {\n        text-align: right;\n    }\n</style>\n<table border=\"1\" class=\"dataframe\">\n  <thead>\n    <tr style=\"text-align: right;\">\n      <th></th>\n      <th>Unnamed: 0</th>\n      <th>date</th>\n      <th>city</th>\n      <th>avg_temp_c</th>\n    </tr>\n    <tr>\n      <th>country</th>\n      <th></th>\n      <th></th>\n      <th></th>\n      <th></th>\n    </tr>\n  </thead>\n  <tbody>\n    <tr>\n      <th>Côte D'Ivoire</th>\n      <td>0</td>\n      <td>2000-01-01</td>\n      <td>Abidjan</td>\n      <td>27.293</td>\n    </tr>\n    <tr>\n      <th>Côte D'Ivoire</th>\n      <td>1</td>\n      <td>2000-02-01</td>\n      <td>Abidjan</td>\n      <td>27.685</td>\n    </tr>\n    <tr>\n      <th>Côte D'Ivoire</th>\n      <td>2</td>\n      <td>2000-03-01</td>\n      <td>Abidjan</td>\n      <td>29.061</td>\n    </tr>\n    <tr>\n      <th>Côte D'Ivoire</th>\n      <td>3</td>\n      <td>2000-04-01</td>\n      <td>Abidjan</td>\n      <td>28.162</td>\n    </tr>\n    <tr>\n      <th>Côte D'Ivoire</th>\n      <td>4</td>\n      <td>2000-05-01</td>\n      <td>Abidjan</td>\n      <td>27.547</td>\n    </tr>\n    <tr>\n      <th>...</th>\n      <td>...</td>\n      <td>...</td>\n      <td>...</td>\n      <td>...</td>\n    </tr>\n    <tr>\n      <th>China</th>\n      <td>16495</td>\n      <td>2013-05-01</td>\n      <td>Xian</td>\n      <td>18.979</td>\n    </tr>\n    <tr>\n      <th>China</th>\n      <td>16496</td>\n      <td>2013-06-01</td>\n      <td>Xian</td>\n      <td>23.522</td>\n    </tr>\n    <tr>\n      <th>China</th>\n      <td>16497</td>\n      <td>2013-07-01</td>\n      <td>Xian</td>\n      <td>25.251</td>\n    </tr>\n    <tr>\n      <th>China</th>\n      <td>16498</td>\n      <td>2013-08-01</td>\n      <td>Xian</td>\n      <td>24.528</td>\n    </tr>\n    <tr>\n      <th>China</th>\n      <td>16499</td>\n      <td>2013-09-01</td>\n      <td>Xian</td>\n      <td>NaN</td>\n    </tr>\n  </tbody>\n</table>\n<p>16500 rows × 4 columns</p>\n</div>"
     },
     "execution_count": 14,
     "metadata": {},
     "output_type": "execute_result"
    }
   ],
   "source": [
    "temp_ind = temp.set_index(\"country\")\n",
    "temp_ind"
   ],
   "metadata": {
    "collapsed": false,
    "pycharm": {
     "name": "#%%\n"
    }
   }
  },
  {
   "cell_type": "markdown",
   "source": [],
   "metadata": {
    "collapsed": false,
    "pycharm": {
     "name": "#%% md\n"
    }
   }
  },
  {
   "cell_type": "markdown",
   "source": [
    "#### Removing an index"
   ],
   "metadata": {
    "collapsed": false,
    "pycharm": {
     "name": "#%% md\n"
    }
   }
  },
  {
   "cell_type": "code",
   "execution_count": 12,
   "outputs": [
    {
     "data": {
      "text/plain": "             country  Unnamed: 0        date     city  avg_temp_c\n0      Côte D'Ivoire           0  2000-01-01  Abidjan      27.293\n1      Côte D'Ivoire           1  2000-02-01  Abidjan      27.685\n2      Côte D'Ivoire           2  2000-03-01  Abidjan      29.061\n3      Côte D'Ivoire           3  2000-04-01  Abidjan      28.162\n4      Côte D'Ivoire           4  2000-05-01  Abidjan      27.547\n...              ...         ...         ...      ...         ...\n16495          China       16495  2013-05-01     Xian      18.979\n16496          China       16496  2013-06-01     Xian      23.522\n16497          China       16497  2013-07-01     Xian      25.251\n16498          China       16498  2013-08-01     Xian      24.528\n16499          China       16499  2013-09-01     Xian         NaN\n\n[16500 rows x 5 columns]",
      "text/html": "<div>\n<style scoped>\n    .dataframe tbody tr th:only-of-type {\n        vertical-align: middle;\n    }\n\n    .dataframe tbody tr th {\n        vertical-align: top;\n    }\n\n    .dataframe thead th {\n        text-align: right;\n    }\n</style>\n<table border=\"1\" class=\"dataframe\">\n  <thead>\n    <tr style=\"text-align: right;\">\n      <th></th>\n      <th>country</th>\n      <th>Unnamed: 0</th>\n      <th>date</th>\n      <th>city</th>\n      <th>avg_temp_c</th>\n    </tr>\n  </thead>\n  <tbody>\n    <tr>\n      <th>0</th>\n      <td>Côte D'Ivoire</td>\n      <td>0</td>\n      <td>2000-01-01</td>\n      <td>Abidjan</td>\n      <td>27.293</td>\n    </tr>\n    <tr>\n      <th>1</th>\n      <td>Côte D'Ivoire</td>\n      <td>1</td>\n      <td>2000-02-01</td>\n      <td>Abidjan</td>\n      <td>27.685</td>\n    </tr>\n    <tr>\n      <th>2</th>\n      <td>Côte D'Ivoire</td>\n      <td>2</td>\n      <td>2000-03-01</td>\n      <td>Abidjan</td>\n      <td>29.061</td>\n    </tr>\n    <tr>\n      <th>3</th>\n      <td>Côte D'Ivoire</td>\n      <td>3</td>\n      <td>2000-04-01</td>\n      <td>Abidjan</td>\n      <td>28.162</td>\n    </tr>\n    <tr>\n      <th>4</th>\n      <td>Côte D'Ivoire</td>\n      <td>4</td>\n      <td>2000-05-01</td>\n      <td>Abidjan</td>\n      <td>27.547</td>\n    </tr>\n    <tr>\n      <th>...</th>\n      <td>...</td>\n      <td>...</td>\n      <td>...</td>\n      <td>...</td>\n      <td>...</td>\n    </tr>\n    <tr>\n      <th>16495</th>\n      <td>China</td>\n      <td>16495</td>\n      <td>2013-05-01</td>\n      <td>Xian</td>\n      <td>18.979</td>\n    </tr>\n    <tr>\n      <th>16496</th>\n      <td>China</td>\n      <td>16496</td>\n      <td>2013-06-01</td>\n      <td>Xian</td>\n      <td>23.522</td>\n    </tr>\n    <tr>\n      <th>16497</th>\n      <td>China</td>\n      <td>16497</td>\n      <td>2013-07-01</td>\n      <td>Xian</td>\n      <td>25.251</td>\n    </tr>\n    <tr>\n      <th>16498</th>\n      <td>China</td>\n      <td>16498</td>\n      <td>2013-08-01</td>\n      <td>Xian</td>\n      <td>24.528</td>\n    </tr>\n    <tr>\n      <th>16499</th>\n      <td>China</td>\n      <td>16499</td>\n      <td>2013-09-01</td>\n      <td>Xian</td>\n      <td>NaN</td>\n    </tr>\n  </tbody>\n</table>\n<p>16500 rows × 5 columns</p>\n</div>"
     },
     "execution_count": 12,
     "metadata": {},
     "output_type": "execute_result"
    }
   ],
   "source": [
    "temp_ind.reset_index()"
   ],
   "metadata": {
    "collapsed": false,
    "pycharm": {
     "name": "#%%\n"
    }
   }
  },
  {
   "cell_type": "markdown",
   "source": [
    "#### Dropping an index"
   ],
   "metadata": {
    "collapsed": false,
    "pycharm": {
     "name": "#%% md\n"
    }
   }
  },
  {
   "cell_type": "code",
   "execution_count": 7,
   "outputs": [
    {
     "data": {
      "text/plain": "       Unnamed: 0     city        country  avg_temp_c\n0               0  Abidjan  Côte D'Ivoire      27.293\n1               1  Abidjan  Côte D'Ivoire      27.685\n2               2  Abidjan  Côte D'Ivoire      29.061\n3               3  Abidjan  Côte D'Ivoire      28.162\n4               4  Abidjan  Côte D'Ivoire      27.547\n...           ...      ...            ...         ...\n16495       16495     Xian          China      18.979\n16496       16496     Xian          China      23.522\n16497       16497     Xian          China      25.251\n16498       16498     Xian          China      24.528\n16499       16499     Xian          China         NaN\n\n[16500 rows x 4 columns]",
      "text/html": "<div>\n<style scoped>\n    .dataframe tbody tr th:only-of-type {\n        vertical-align: middle;\n    }\n\n    .dataframe tbody tr th {\n        vertical-align: top;\n    }\n\n    .dataframe thead th {\n        text-align: right;\n    }\n</style>\n<table border=\"1\" class=\"dataframe\">\n  <thead>\n    <tr style=\"text-align: right;\">\n      <th></th>\n      <th>Unnamed: 0</th>\n      <th>city</th>\n      <th>country</th>\n      <th>avg_temp_c</th>\n    </tr>\n  </thead>\n  <tbody>\n    <tr>\n      <th>0</th>\n      <td>0</td>\n      <td>Abidjan</td>\n      <td>Côte D'Ivoire</td>\n      <td>27.293</td>\n    </tr>\n    <tr>\n      <th>1</th>\n      <td>1</td>\n      <td>Abidjan</td>\n      <td>Côte D'Ivoire</td>\n      <td>27.685</td>\n    </tr>\n    <tr>\n      <th>2</th>\n      <td>2</td>\n      <td>Abidjan</td>\n      <td>Côte D'Ivoire</td>\n      <td>29.061</td>\n    </tr>\n    <tr>\n      <th>3</th>\n      <td>3</td>\n      <td>Abidjan</td>\n      <td>Côte D'Ivoire</td>\n      <td>28.162</td>\n    </tr>\n    <tr>\n      <th>4</th>\n      <td>4</td>\n      <td>Abidjan</td>\n      <td>Côte D'Ivoire</td>\n      <td>27.547</td>\n    </tr>\n    <tr>\n      <th>...</th>\n      <td>...</td>\n      <td>...</td>\n      <td>...</td>\n      <td>...</td>\n    </tr>\n    <tr>\n      <th>16495</th>\n      <td>16495</td>\n      <td>Xian</td>\n      <td>China</td>\n      <td>18.979</td>\n    </tr>\n    <tr>\n      <th>16496</th>\n      <td>16496</td>\n      <td>Xian</td>\n      <td>China</td>\n      <td>23.522</td>\n    </tr>\n    <tr>\n      <th>16497</th>\n      <td>16497</td>\n      <td>Xian</td>\n      <td>China</td>\n      <td>25.251</td>\n    </tr>\n    <tr>\n      <th>16498</th>\n      <td>16498</td>\n      <td>Xian</td>\n      <td>China</td>\n      <td>24.528</td>\n    </tr>\n    <tr>\n      <th>16499</th>\n      <td>16499</td>\n      <td>Xian</td>\n      <td>China</td>\n      <td>NaN</td>\n    </tr>\n  </tbody>\n</table>\n<p>16500 rows × 4 columns</p>\n</div>"
     },
     "execution_count": 7,
     "metadata": {},
     "output_type": "execute_result"
    }
   ],
   "source": [
    "temp_ind.reset_index(drop=True)"
   ],
   "metadata": {
    "collapsed": false,
    "pycharm": {
     "name": "#%%\n"
    }
   }
  },
  {
   "cell_type": "markdown",
   "source": [],
   "metadata": {
    "collapsed": false,
    "pycharm": {
     "name": "#%% md\n"
    }
   }
  },
  {
   "cell_type": "markdown",
   "source": [
    "#### Indexes make subsetting simpler"
   ],
   "metadata": {
    "collapsed": false,
    "pycharm": {
     "name": "#%% md\n"
    }
   }
  },
  {
   "cell_type": "code",
   "execution_count": 9,
   "outputs": [
    {
     "data": {
      "text/plain": "       Unnamed: 0        date       city country  avg_temp_c\n3135         3135  2000-01-01  Changchun   China     -18.759\n3136         3136  2000-02-01  Changchun   China     -13.105\n3137         3137  2000-03-01  Changchun   China      -1.089\n3138         3138  2000-04-01  Changchun   China       7.297\n3139         3139  2000-05-01  Changchun   China      16.970\n...           ...         ...        ...     ...         ...\n16495       16495  2013-05-01       Xian   China      18.979\n16496       16496  2013-06-01       Xian   China      23.522\n16497       16497  2013-07-01       Xian   China      25.251\n16498       16498  2013-08-01       Xian   China      24.528\n16499       16499  2013-09-01       Xian   China         NaN\n\n[2970 rows x 5 columns]",
      "text/html": "<div>\n<style scoped>\n    .dataframe tbody tr th:only-of-type {\n        vertical-align: middle;\n    }\n\n    .dataframe tbody tr th {\n        vertical-align: top;\n    }\n\n    .dataframe thead th {\n        text-align: right;\n    }\n</style>\n<table border=\"1\" class=\"dataframe\">\n  <thead>\n    <tr style=\"text-align: right;\">\n      <th></th>\n      <th>Unnamed: 0</th>\n      <th>date</th>\n      <th>city</th>\n      <th>country</th>\n      <th>avg_temp_c</th>\n    </tr>\n  </thead>\n  <tbody>\n    <tr>\n      <th>3135</th>\n      <td>3135</td>\n      <td>2000-01-01</td>\n      <td>Changchun</td>\n      <td>China</td>\n      <td>-18.759</td>\n    </tr>\n    <tr>\n      <th>3136</th>\n      <td>3136</td>\n      <td>2000-02-01</td>\n      <td>Changchun</td>\n      <td>China</td>\n      <td>-13.105</td>\n    </tr>\n    <tr>\n      <th>3137</th>\n      <td>3137</td>\n      <td>2000-03-01</td>\n      <td>Changchun</td>\n      <td>China</td>\n      <td>-1.089</td>\n    </tr>\n    <tr>\n      <th>3138</th>\n      <td>3138</td>\n      <td>2000-04-01</td>\n      <td>Changchun</td>\n      <td>China</td>\n      <td>7.297</td>\n    </tr>\n    <tr>\n      <th>3139</th>\n      <td>3139</td>\n      <td>2000-05-01</td>\n      <td>Changchun</td>\n      <td>China</td>\n      <td>16.970</td>\n    </tr>\n    <tr>\n      <th>...</th>\n      <td>...</td>\n      <td>...</td>\n      <td>...</td>\n      <td>...</td>\n      <td>...</td>\n    </tr>\n    <tr>\n      <th>16495</th>\n      <td>16495</td>\n      <td>2013-05-01</td>\n      <td>Xian</td>\n      <td>China</td>\n      <td>18.979</td>\n    </tr>\n    <tr>\n      <th>16496</th>\n      <td>16496</td>\n      <td>2013-06-01</td>\n      <td>Xian</td>\n      <td>China</td>\n      <td>23.522</td>\n    </tr>\n    <tr>\n      <th>16497</th>\n      <td>16497</td>\n      <td>2013-07-01</td>\n      <td>Xian</td>\n      <td>China</td>\n      <td>25.251</td>\n    </tr>\n    <tr>\n      <th>16498</th>\n      <td>16498</td>\n      <td>2013-08-01</td>\n      <td>Xian</td>\n      <td>China</td>\n      <td>24.528</td>\n    </tr>\n    <tr>\n      <th>16499</th>\n      <td>16499</td>\n      <td>2013-09-01</td>\n      <td>Xian</td>\n      <td>China</td>\n      <td>NaN</td>\n    </tr>\n  </tbody>\n</table>\n<p>2970 rows × 5 columns</p>\n</div>"
     },
     "execution_count": 9,
     "metadata": {},
     "output_type": "execute_result"
    }
   ],
   "source": [
    "temp[temp[\"country\"].isin([\"China\", \"Australia\"])]"
   ],
   "metadata": {
    "collapsed": false,
    "pycharm": {
     "name": "#%%\n"
    }
   }
  },
  {
   "cell_type": "code",
   "execution_count": 15,
   "outputs": [
    {
     "data": {
      "text/plain": "           Unnamed: 0        date       city  avg_temp_c\ncountry                                                 \nChina            3135  2000-01-01  Changchun     -18.759\nChina            3136  2000-02-01  Changchun     -13.105\nChina            3137  2000-03-01  Changchun      -1.089\nChina            3138  2000-04-01  Changchun       7.297\nChina            3139  2000-05-01  Changchun      16.970\n...               ...         ...        ...         ...\nAustralia       15010  2013-05-01     Sydney      16.947\nAustralia       15011  2013-06-01     Sydney      15.911\nAustralia       15012  2013-07-01     Sydney      15.518\nAustralia       15013  2013-08-01     Sydney      16.126\nAustralia       15014  2013-09-01     Sydney         NaN\n\n[2970 rows x 4 columns]",
      "text/html": "<div>\n<style scoped>\n    .dataframe tbody tr th:only-of-type {\n        vertical-align: middle;\n    }\n\n    .dataframe tbody tr th {\n        vertical-align: top;\n    }\n\n    .dataframe thead th {\n        text-align: right;\n    }\n</style>\n<table border=\"1\" class=\"dataframe\">\n  <thead>\n    <tr style=\"text-align: right;\">\n      <th></th>\n      <th>Unnamed: 0</th>\n      <th>date</th>\n      <th>city</th>\n      <th>avg_temp_c</th>\n    </tr>\n    <tr>\n      <th>country</th>\n      <th></th>\n      <th></th>\n      <th></th>\n      <th></th>\n    </tr>\n  </thead>\n  <tbody>\n    <tr>\n      <th>China</th>\n      <td>3135</td>\n      <td>2000-01-01</td>\n      <td>Changchun</td>\n      <td>-18.759</td>\n    </tr>\n    <tr>\n      <th>China</th>\n      <td>3136</td>\n      <td>2000-02-01</td>\n      <td>Changchun</td>\n      <td>-13.105</td>\n    </tr>\n    <tr>\n      <th>China</th>\n      <td>3137</td>\n      <td>2000-03-01</td>\n      <td>Changchun</td>\n      <td>-1.089</td>\n    </tr>\n    <tr>\n      <th>China</th>\n      <td>3138</td>\n      <td>2000-04-01</td>\n      <td>Changchun</td>\n      <td>7.297</td>\n    </tr>\n    <tr>\n      <th>China</th>\n      <td>3139</td>\n      <td>2000-05-01</td>\n      <td>Changchun</td>\n      <td>16.970</td>\n    </tr>\n    <tr>\n      <th>...</th>\n      <td>...</td>\n      <td>...</td>\n      <td>...</td>\n      <td>...</td>\n    </tr>\n    <tr>\n      <th>Australia</th>\n      <td>15010</td>\n      <td>2013-05-01</td>\n      <td>Sydney</td>\n      <td>16.947</td>\n    </tr>\n    <tr>\n      <th>Australia</th>\n      <td>15011</td>\n      <td>2013-06-01</td>\n      <td>Sydney</td>\n      <td>15.911</td>\n    </tr>\n    <tr>\n      <th>Australia</th>\n      <td>15012</td>\n      <td>2013-07-01</td>\n      <td>Sydney</td>\n      <td>15.518</td>\n    </tr>\n    <tr>\n      <th>Australia</th>\n      <td>15013</td>\n      <td>2013-08-01</td>\n      <td>Sydney</td>\n      <td>16.126</td>\n    </tr>\n    <tr>\n      <th>Australia</th>\n      <td>15014</td>\n      <td>2013-09-01</td>\n      <td>Sydney</td>\n      <td>NaN</td>\n    </tr>\n  </tbody>\n</table>\n<p>2970 rows × 4 columns</p>\n</div>"
     },
     "execution_count": 15,
     "metadata": {},
     "output_type": "execute_result"
    }
   ],
   "source": [
    "temp_ind.loc[[\"China\", \"Australia\"]]"
   ],
   "metadata": {
    "collapsed": false,
    "pycharm": {
     "name": "#%%\n"
    }
   }
  },
  {
   "cell_type": "markdown",
   "source": [],
   "metadata": {
    "collapsed": false,
    "pycharm": {
     "name": "#%% md\n"
    }
   }
  },
  {
   "cell_type": "markdown",
   "source": [
    "#### Index values don't need to be unique"
   ],
   "metadata": {
    "collapsed": false,
    "pycharm": {
     "name": "#%% md\n"
    }
   }
  },
  {
   "cell_type": "code",
   "execution_count": 16,
   "outputs": [
    {
     "data": {
      "text/plain": "         Unnamed: 0        date        country  avg_temp_c\ncity                                                      \nAbidjan           0  2000-01-01  Côte D'Ivoire      27.293\nAbidjan           1  2000-02-01  Côte D'Ivoire      27.685\nAbidjan           2  2000-03-01  Côte D'Ivoire      29.061\nAbidjan           3  2000-04-01  Côte D'Ivoire      28.162\nAbidjan           4  2000-05-01  Côte D'Ivoire      27.547\n...             ...         ...            ...         ...\nXian          16495  2013-05-01          China      18.979\nXian          16496  2013-06-01          China      23.522\nXian          16497  2013-07-01          China      25.251\nXian          16498  2013-08-01          China      24.528\nXian          16499  2013-09-01          China         NaN\n\n[16500 rows x 4 columns]",
      "text/html": "<div>\n<style scoped>\n    .dataframe tbody tr th:only-of-type {\n        vertical-align: middle;\n    }\n\n    .dataframe tbody tr th {\n        vertical-align: top;\n    }\n\n    .dataframe thead th {\n        text-align: right;\n    }\n</style>\n<table border=\"1\" class=\"dataframe\">\n  <thead>\n    <tr style=\"text-align: right;\">\n      <th></th>\n      <th>Unnamed: 0</th>\n      <th>date</th>\n      <th>country</th>\n      <th>avg_temp_c</th>\n    </tr>\n    <tr>\n      <th>city</th>\n      <th></th>\n      <th></th>\n      <th></th>\n      <th></th>\n    </tr>\n  </thead>\n  <tbody>\n    <tr>\n      <th>Abidjan</th>\n      <td>0</td>\n      <td>2000-01-01</td>\n      <td>Côte D'Ivoire</td>\n      <td>27.293</td>\n    </tr>\n    <tr>\n      <th>Abidjan</th>\n      <td>1</td>\n      <td>2000-02-01</td>\n      <td>Côte D'Ivoire</td>\n      <td>27.685</td>\n    </tr>\n    <tr>\n      <th>Abidjan</th>\n      <td>2</td>\n      <td>2000-03-01</td>\n      <td>Côte D'Ivoire</td>\n      <td>29.061</td>\n    </tr>\n    <tr>\n      <th>Abidjan</th>\n      <td>3</td>\n      <td>2000-04-01</td>\n      <td>Côte D'Ivoire</td>\n      <td>28.162</td>\n    </tr>\n    <tr>\n      <th>Abidjan</th>\n      <td>4</td>\n      <td>2000-05-01</td>\n      <td>Côte D'Ivoire</td>\n      <td>27.547</td>\n    </tr>\n    <tr>\n      <th>...</th>\n      <td>...</td>\n      <td>...</td>\n      <td>...</td>\n      <td>...</td>\n    </tr>\n    <tr>\n      <th>Xian</th>\n      <td>16495</td>\n      <td>2013-05-01</td>\n      <td>China</td>\n      <td>18.979</td>\n    </tr>\n    <tr>\n      <th>Xian</th>\n      <td>16496</td>\n      <td>2013-06-01</td>\n      <td>China</td>\n      <td>23.522</td>\n    </tr>\n    <tr>\n      <th>Xian</th>\n      <td>16497</td>\n      <td>2013-07-01</td>\n      <td>China</td>\n      <td>25.251</td>\n    </tr>\n    <tr>\n      <th>Xian</th>\n      <td>16498</td>\n      <td>2013-08-01</td>\n      <td>China</td>\n      <td>24.528</td>\n    </tr>\n    <tr>\n      <th>Xian</th>\n      <td>16499</td>\n      <td>2013-09-01</td>\n      <td>China</td>\n      <td>NaN</td>\n    </tr>\n  </tbody>\n</table>\n<p>16500 rows × 4 columns</p>\n</div>"
     },
     "execution_count": 16,
     "metadata": {},
     "output_type": "execute_result"
    }
   ],
   "source": [
    "temp_ind2 = temp.set_index(\"city\")\n",
    "temp_ind2"
   ],
   "metadata": {
    "collapsed": false,
    "pycharm": {
     "name": "#%%\n"
    }
   }
  },
  {
   "cell_type": "markdown",
   "source": [],
   "metadata": {
    "collapsed": false,
    "pycharm": {
     "name": "#%% md\n"
    }
   }
  },
  {
   "cell_type": "markdown",
   "source": [
    "#### Subsetting on duplicated index values"
   ],
   "metadata": {
    "collapsed": false,
    "pycharm": {
     "name": "#%% md\n"
    }
   }
  },
  {
   "cell_type": "code",
   "execution_count": 17,
   "outputs": [
    {
     "data": {
      "text/plain": "         Unnamed: 0        date   country  avg_temp_c\ncity                                                 \nBangkok        1320  2000-01-01  Thailand      25.980\nBangkok        1321  2000-02-01  Thailand      26.564\nBangkok        1322  2000-03-01  Thailand      28.626\nBangkok        1323  2000-04-01  Thailand      28.881\nBangkok        1324  2000-05-01  Thailand      28.978\n...             ...         ...       ...         ...\nBangkok        1480  2013-05-01  Thailand      30.927\nBangkok        1481  2013-06-01  Thailand      28.771\nBangkok        1482  2013-07-01  Thailand      28.155\nBangkok        1483  2013-08-01  Thailand      28.351\nBangkok        1484  2013-09-01  Thailand         NaN\n\n[165 rows x 4 columns]",
      "text/html": "<div>\n<style scoped>\n    .dataframe tbody tr th:only-of-type {\n        vertical-align: middle;\n    }\n\n    .dataframe tbody tr th {\n        vertical-align: top;\n    }\n\n    .dataframe thead th {\n        text-align: right;\n    }\n</style>\n<table border=\"1\" class=\"dataframe\">\n  <thead>\n    <tr style=\"text-align: right;\">\n      <th></th>\n      <th>Unnamed: 0</th>\n      <th>date</th>\n      <th>country</th>\n      <th>avg_temp_c</th>\n    </tr>\n    <tr>\n      <th>city</th>\n      <th></th>\n      <th></th>\n      <th></th>\n      <th></th>\n    </tr>\n  </thead>\n  <tbody>\n    <tr>\n      <th>Bangkok</th>\n      <td>1320</td>\n      <td>2000-01-01</td>\n      <td>Thailand</td>\n      <td>25.980</td>\n    </tr>\n    <tr>\n      <th>Bangkok</th>\n      <td>1321</td>\n      <td>2000-02-01</td>\n      <td>Thailand</td>\n      <td>26.564</td>\n    </tr>\n    <tr>\n      <th>Bangkok</th>\n      <td>1322</td>\n      <td>2000-03-01</td>\n      <td>Thailand</td>\n      <td>28.626</td>\n    </tr>\n    <tr>\n      <th>Bangkok</th>\n      <td>1323</td>\n      <td>2000-04-01</td>\n      <td>Thailand</td>\n      <td>28.881</td>\n    </tr>\n    <tr>\n      <th>Bangkok</th>\n      <td>1324</td>\n      <td>2000-05-01</td>\n      <td>Thailand</td>\n      <td>28.978</td>\n    </tr>\n    <tr>\n      <th>...</th>\n      <td>...</td>\n      <td>...</td>\n      <td>...</td>\n      <td>...</td>\n    </tr>\n    <tr>\n      <th>Bangkok</th>\n      <td>1480</td>\n      <td>2013-05-01</td>\n      <td>Thailand</td>\n      <td>30.927</td>\n    </tr>\n    <tr>\n      <th>Bangkok</th>\n      <td>1481</td>\n      <td>2013-06-01</td>\n      <td>Thailand</td>\n      <td>28.771</td>\n    </tr>\n    <tr>\n      <th>Bangkok</th>\n      <td>1482</td>\n      <td>2013-07-01</td>\n      <td>Thailand</td>\n      <td>28.155</td>\n    </tr>\n    <tr>\n      <th>Bangkok</th>\n      <td>1483</td>\n      <td>2013-08-01</td>\n      <td>Thailand</td>\n      <td>28.351</td>\n    </tr>\n    <tr>\n      <th>Bangkok</th>\n      <td>1484</td>\n      <td>2013-09-01</td>\n      <td>Thailand</td>\n      <td>NaN</td>\n    </tr>\n  </tbody>\n</table>\n<p>165 rows × 4 columns</p>\n</div>"
     },
     "execution_count": 17,
     "metadata": {},
     "output_type": "execute_result"
    }
   ],
   "source": [
    "temp_ind2.loc[\"Bangkok\"]"
   ],
   "metadata": {
    "collapsed": false,
    "pycharm": {
     "name": "#%%\n"
    }
   }
  },
  {
   "cell_type": "markdown",
   "source": [],
   "metadata": {
    "collapsed": false,
    "pycharm": {
     "name": "#%% md\n"
    }
   }
  },
  {
   "cell_type": "markdown",
   "source": [
    "#### Multi-level indexes a.k.a hierarchical indexes"
   ],
   "metadata": {
    "collapsed": false,
    "pycharm": {
     "name": "#%% md\n"
    }
   }
  },
  {
   "cell_type": "code",
   "execution_count": 27,
   "outputs": [
    {
     "data": {
      "text/plain": "                       Unnamed: 0        date  avg_temp_c\ncountry       city                                       \nCôte D'Ivoire Abidjan           0  2000-01-01      27.293\n              Abidjan           1  2000-02-01      27.685\n              Abidjan           2  2000-03-01      29.061\n              Abidjan           3  2000-04-01      28.162\n              Abidjan           4  2000-05-01      27.547\n...                           ...         ...         ...\nChina         Xian          16495  2013-05-01      18.979\n              Xian          16496  2013-06-01      23.522\n              Xian          16497  2013-07-01      25.251\n              Xian          16498  2013-08-01      24.528\n              Xian          16499  2013-09-01         NaN\n\n[16500 rows x 3 columns]",
      "text/html": "<div>\n<style scoped>\n    .dataframe tbody tr th:only-of-type {\n        vertical-align: middle;\n    }\n\n    .dataframe tbody tr th {\n        vertical-align: top;\n    }\n\n    .dataframe thead th {\n        text-align: right;\n    }\n</style>\n<table border=\"1\" class=\"dataframe\">\n  <thead>\n    <tr style=\"text-align: right;\">\n      <th></th>\n      <th></th>\n      <th>Unnamed: 0</th>\n      <th>date</th>\n      <th>avg_temp_c</th>\n    </tr>\n    <tr>\n      <th>country</th>\n      <th>city</th>\n      <th></th>\n      <th></th>\n      <th></th>\n    </tr>\n  </thead>\n  <tbody>\n    <tr>\n      <th rowspan=\"5\" valign=\"top\">Côte D'Ivoire</th>\n      <th>Abidjan</th>\n      <td>0</td>\n      <td>2000-01-01</td>\n      <td>27.293</td>\n    </tr>\n    <tr>\n      <th>Abidjan</th>\n      <td>1</td>\n      <td>2000-02-01</td>\n      <td>27.685</td>\n    </tr>\n    <tr>\n      <th>Abidjan</th>\n      <td>2</td>\n      <td>2000-03-01</td>\n      <td>29.061</td>\n    </tr>\n    <tr>\n      <th>Abidjan</th>\n      <td>3</td>\n      <td>2000-04-01</td>\n      <td>28.162</td>\n    </tr>\n    <tr>\n      <th>Abidjan</th>\n      <td>4</td>\n      <td>2000-05-01</td>\n      <td>27.547</td>\n    </tr>\n    <tr>\n      <th>...</th>\n      <th>...</th>\n      <td>...</td>\n      <td>...</td>\n      <td>...</td>\n    </tr>\n    <tr>\n      <th rowspan=\"5\" valign=\"top\">China</th>\n      <th>Xian</th>\n      <td>16495</td>\n      <td>2013-05-01</td>\n      <td>18.979</td>\n    </tr>\n    <tr>\n      <th>Xian</th>\n      <td>16496</td>\n      <td>2013-06-01</td>\n      <td>23.522</td>\n    </tr>\n    <tr>\n      <th>Xian</th>\n      <td>16497</td>\n      <td>2013-07-01</td>\n      <td>25.251</td>\n    </tr>\n    <tr>\n      <th>Xian</th>\n      <td>16498</td>\n      <td>2013-08-01</td>\n      <td>24.528</td>\n    </tr>\n    <tr>\n      <th>Xian</th>\n      <td>16499</td>\n      <td>2013-09-01</td>\n      <td>NaN</td>\n    </tr>\n  </tbody>\n</table>\n<p>16500 rows × 3 columns</p>\n</div>"
     },
     "execution_count": 27,
     "metadata": {},
     "output_type": "execute_result"
    }
   ],
   "source": [
    "temp_ind3 = temp.set_index([\"country\", \"city\"])\n",
    "temp_ind3"
   ],
   "metadata": {
    "collapsed": false,
    "pycharm": {
     "name": "#%%\n"
    }
   }
  },
  {
   "cell_type": "code",
   "execution_count": 28,
   "outputs": [
    {
     "data": {
      "text/plain": "                Unnamed: 0        date  avg_temp_c\ncountry city                                      \nGermany Berlin        1650  2000-01-01       1.324\n        Berlin        1651  2000-02-01       4.718\n        Berlin        1652  2000-03-01       5.806\n        Berlin        1653  2000-04-01      11.805\n        Berlin        1654  2000-05-01      16.376\n...                    ...         ...         ...\nChina   Xian         16495  2013-05-01      18.979\n        Xian         16496  2013-06-01      23.522\n        Xian         16497  2013-07-01      25.251\n        Xian         16498  2013-08-01      24.528\n        Xian         16499  2013-09-01         NaN\n\n[2805 rows x 3 columns]",
      "text/html": "<div>\n<style scoped>\n    .dataframe tbody tr th:only-of-type {\n        vertical-align: middle;\n    }\n\n    .dataframe tbody tr th {\n        vertical-align: top;\n    }\n\n    .dataframe thead th {\n        text-align: right;\n    }\n</style>\n<table border=\"1\" class=\"dataframe\">\n  <thead>\n    <tr style=\"text-align: right;\">\n      <th></th>\n      <th></th>\n      <th>Unnamed: 0</th>\n      <th>date</th>\n      <th>avg_temp_c</th>\n    </tr>\n    <tr>\n      <th>country</th>\n      <th>city</th>\n      <th></th>\n      <th></th>\n      <th></th>\n    </tr>\n  </thead>\n  <tbody>\n    <tr>\n      <th rowspan=\"5\" valign=\"top\">Germany</th>\n      <th>Berlin</th>\n      <td>1650</td>\n      <td>2000-01-01</td>\n      <td>1.324</td>\n    </tr>\n    <tr>\n      <th>Berlin</th>\n      <td>1651</td>\n      <td>2000-02-01</td>\n      <td>4.718</td>\n    </tr>\n    <tr>\n      <th>Berlin</th>\n      <td>1652</td>\n      <td>2000-03-01</td>\n      <td>5.806</td>\n    </tr>\n    <tr>\n      <th>Berlin</th>\n      <td>1653</td>\n      <td>2000-04-01</td>\n      <td>11.805</td>\n    </tr>\n    <tr>\n      <th>Berlin</th>\n      <td>1654</td>\n      <td>2000-05-01</td>\n      <td>16.376</td>\n    </tr>\n    <tr>\n      <th>...</th>\n      <th>...</th>\n      <td>...</td>\n      <td>...</td>\n      <td>...</td>\n    </tr>\n    <tr>\n      <th rowspan=\"5\" valign=\"top\">China</th>\n      <th>Xian</th>\n      <td>16495</td>\n      <td>2013-05-01</td>\n      <td>18.979</td>\n    </tr>\n    <tr>\n      <th>Xian</th>\n      <td>16496</td>\n      <td>2013-06-01</td>\n      <td>23.522</td>\n    </tr>\n    <tr>\n      <th>Xian</th>\n      <td>16497</td>\n      <td>2013-07-01</td>\n      <td>25.251</td>\n    </tr>\n    <tr>\n      <th>Xian</th>\n      <td>16498</td>\n      <td>2013-08-01</td>\n      <td>24.528</td>\n    </tr>\n    <tr>\n      <th>Xian</th>\n      <td>16499</td>\n      <td>2013-09-01</td>\n      <td>NaN</td>\n    </tr>\n  </tbody>\n</table>\n<p>2805 rows × 3 columns</p>\n</div>"
     },
     "execution_count": 28,
     "metadata": {},
     "output_type": "execute_result"
    }
   ],
   "source": [
    "temp_ind3.loc[[\"Germany\", \"China\"]]"
   ],
   "metadata": {
    "collapsed": false,
    "pycharm": {
     "name": "#%%\n"
    }
   }
  },
  {
   "cell_type": "markdown",
   "source": [],
   "metadata": {
    "collapsed": false,
    "pycharm": {
     "name": "#%% md\n"
    }
   }
  },
  {
   "cell_type": "markdown",
   "source": [
    "#### Subset inner levels with a list of tuples"
   ],
   "metadata": {
    "collapsed": false,
    "pycharm": {
     "name": "#%% md\n"
    }
   }
  },
  {
   "cell_type": "code",
   "execution_count": 29,
   "outputs": [
    {
     "data": {
      "text/plain": "                Unnamed: 0        date  avg_temp_c\ncountry city                                      \nGermany Berlin        1650  2000-01-01       1.324\n        Berlin        1651  2000-02-01       4.718\n        Berlin        1652  2000-03-01       5.806\n        Berlin        1653  2000-04-01      11.805\n        Berlin        1654  2000-05-01      16.376\n...                    ...         ...         ...\nChina   Xian         16495  2013-05-01      18.979\n        Xian         16496  2013-06-01      23.522\n        Xian         16497  2013-07-01      25.251\n        Xian         16498  2013-08-01      24.528\n        Xian         16499  2013-09-01         NaN\n\n[330 rows x 3 columns]",
      "text/html": "<div>\n<style scoped>\n    .dataframe tbody tr th:only-of-type {\n        vertical-align: middle;\n    }\n\n    .dataframe tbody tr th {\n        vertical-align: top;\n    }\n\n    .dataframe thead th {\n        text-align: right;\n    }\n</style>\n<table border=\"1\" class=\"dataframe\">\n  <thead>\n    <tr style=\"text-align: right;\">\n      <th></th>\n      <th></th>\n      <th>Unnamed: 0</th>\n      <th>date</th>\n      <th>avg_temp_c</th>\n    </tr>\n    <tr>\n      <th>country</th>\n      <th>city</th>\n      <th></th>\n      <th></th>\n      <th></th>\n    </tr>\n  </thead>\n  <tbody>\n    <tr>\n      <th rowspan=\"5\" valign=\"top\">Germany</th>\n      <th>Berlin</th>\n      <td>1650</td>\n      <td>2000-01-01</td>\n      <td>1.324</td>\n    </tr>\n    <tr>\n      <th>Berlin</th>\n      <td>1651</td>\n      <td>2000-02-01</td>\n      <td>4.718</td>\n    </tr>\n    <tr>\n      <th>Berlin</th>\n      <td>1652</td>\n      <td>2000-03-01</td>\n      <td>5.806</td>\n    </tr>\n    <tr>\n      <th>Berlin</th>\n      <td>1653</td>\n      <td>2000-04-01</td>\n      <td>11.805</td>\n    </tr>\n    <tr>\n      <th>Berlin</th>\n      <td>1654</td>\n      <td>2000-05-01</td>\n      <td>16.376</td>\n    </tr>\n    <tr>\n      <th>...</th>\n      <th>...</th>\n      <td>...</td>\n      <td>...</td>\n      <td>...</td>\n    </tr>\n    <tr>\n      <th rowspan=\"5\" valign=\"top\">China</th>\n      <th>Xian</th>\n      <td>16495</td>\n      <td>2013-05-01</td>\n      <td>18.979</td>\n    </tr>\n    <tr>\n      <th>Xian</th>\n      <td>16496</td>\n      <td>2013-06-01</td>\n      <td>23.522</td>\n    </tr>\n    <tr>\n      <th>Xian</th>\n      <td>16497</td>\n      <td>2013-07-01</td>\n      <td>25.251</td>\n    </tr>\n    <tr>\n      <th>Xian</th>\n      <td>16498</td>\n      <td>2013-08-01</td>\n      <td>24.528</td>\n    </tr>\n    <tr>\n      <th>Xian</th>\n      <td>16499</td>\n      <td>2013-09-01</td>\n      <td>NaN</td>\n    </tr>\n  </tbody>\n</table>\n<p>330 rows × 3 columns</p>\n</div>"
     },
     "execution_count": 29,
     "metadata": {},
     "output_type": "execute_result"
    }
   ],
   "source": [
    "temp_ind3.loc[[(\"Germany\", \"Berlin\"), (\"China\", \"Xian\")]]"
   ],
   "metadata": {
    "collapsed": false,
    "pycharm": {
     "name": "#%%\n"
    }
   }
  },
  {
   "cell_type": "markdown",
   "source": [],
   "metadata": {
    "collapsed": false,
    "pycharm": {
     "name": "#%% md\n"
    }
   }
  },
  {
   "cell_type": "markdown",
   "source": [
    "#### Sorting by index values"
   ],
   "metadata": {
    "collapsed": false,
    "pycharm": {
     "name": "#%% md\n"
    }
   }
  },
  {
   "cell_type": "code",
   "execution_count": 30,
   "outputs": [
    {
     "data": {
      "text/plain": "                    Unnamed: 0        date  avg_temp_c\ncountry     city                                      \nAfghanistan Kabul         7260  2000-01-01       3.326\n            Kabul         7261  2000-02-01       3.454\n            Kabul         7262  2000-03-01       9.612\n            Kabul         7263  2000-04-01      17.925\n            Kabul         7264  2000-05-01      24.658\n...                        ...         ...         ...\nZimbabwe    Harare        5605  2013-05-01      18.298\n            Harare        5606  2013-06-01      17.020\n            Harare        5607  2013-07-01      16.299\n            Harare        5608  2013-08-01      19.232\n            Harare        5609  2013-09-01         NaN\n\n[16500 rows x 3 columns]",
      "text/html": "<div>\n<style scoped>\n    .dataframe tbody tr th:only-of-type {\n        vertical-align: middle;\n    }\n\n    .dataframe tbody tr th {\n        vertical-align: top;\n    }\n\n    .dataframe thead th {\n        text-align: right;\n    }\n</style>\n<table border=\"1\" class=\"dataframe\">\n  <thead>\n    <tr style=\"text-align: right;\">\n      <th></th>\n      <th></th>\n      <th>Unnamed: 0</th>\n      <th>date</th>\n      <th>avg_temp_c</th>\n    </tr>\n    <tr>\n      <th>country</th>\n      <th>city</th>\n      <th></th>\n      <th></th>\n      <th></th>\n    </tr>\n  </thead>\n  <tbody>\n    <tr>\n      <th rowspan=\"5\" valign=\"top\">Afghanistan</th>\n      <th>Kabul</th>\n      <td>7260</td>\n      <td>2000-01-01</td>\n      <td>3.326</td>\n    </tr>\n    <tr>\n      <th>Kabul</th>\n      <td>7261</td>\n      <td>2000-02-01</td>\n      <td>3.454</td>\n    </tr>\n    <tr>\n      <th>Kabul</th>\n      <td>7262</td>\n      <td>2000-03-01</td>\n      <td>9.612</td>\n    </tr>\n    <tr>\n      <th>Kabul</th>\n      <td>7263</td>\n      <td>2000-04-01</td>\n      <td>17.925</td>\n    </tr>\n    <tr>\n      <th>Kabul</th>\n      <td>7264</td>\n      <td>2000-05-01</td>\n      <td>24.658</td>\n    </tr>\n    <tr>\n      <th>...</th>\n      <th>...</th>\n      <td>...</td>\n      <td>...</td>\n      <td>...</td>\n    </tr>\n    <tr>\n      <th rowspan=\"5\" valign=\"top\">Zimbabwe</th>\n      <th>Harare</th>\n      <td>5605</td>\n      <td>2013-05-01</td>\n      <td>18.298</td>\n    </tr>\n    <tr>\n      <th>Harare</th>\n      <td>5606</td>\n      <td>2013-06-01</td>\n      <td>17.020</td>\n    </tr>\n    <tr>\n      <th>Harare</th>\n      <td>5607</td>\n      <td>2013-07-01</td>\n      <td>16.299</td>\n    </tr>\n    <tr>\n      <th>Harare</th>\n      <td>5608</td>\n      <td>2013-08-01</td>\n      <td>19.232</td>\n    </tr>\n    <tr>\n      <th>Harare</th>\n      <td>5609</td>\n      <td>2013-09-01</td>\n      <td>NaN</td>\n    </tr>\n  </tbody>\n</table>\n<p>16500 rows × 3 columns</p>\n</div>"
     },
     "execution_count": 30,
     "metadata": {},
     "output_type": "execute_result"
    }
   ],
   "source": [
    "temp_ind3.sort_index()"
   ],
   "metadata": {
    "collapsed": false,
    "pycharm": {
     "name": "#%%\n"
    }
   }
  },
  {
   "cell_type": "markdown",
   "source": [],
   "metadata": {
    "collapsed": false,
    "pycharm": {
     "name": "#%% md\n"
    }
   }
  },
  {
   "cell_type": "markdown",
   "source": [
    "#### Controlling sort_index"
   ],
   "metadata": {
    "collapsed": false,
    "pycharm": {
     "name": "#%% md\n"
    }
   }
  },
  {
   "cell_type": "code",
   "execution_count": 32,
   "outputs": [
    {
     "data": {
      "text/plain": "                    Unnamed: 0        date  avg_temp_c\ncountry     city                                      \nAfghanistan Kabul         7260  2000-01-01       3.326\n            Kabul         7261  2000-02-01       3.454\n            Kabul         7262  2000-03-01       9.612\n            Kabul         7263  2000-04-01      17.925\n            Kabul         7264  2000-05-01      24.658\n...                        ...         ...         ...\nZimbabwe    Harare        5605  2013-05-01      18.298\n            Harare        5606  2013-06-01      17.020\n            Harare        5607  2013-07-01      16.299\n            Harare        5608  2013-08-01      19.232\n            Harare        5609  2013-09-01         NaN\n\n[16500 rows x 3 columns]",
      "text/html": "<div>\n<style scoped>\n    .dataframe tbody tr th:only-of-type {\n        vertical-align: middle;\n    }\n\n    .dataframe tbody tr th {\n        vertical-align: top;\n    }\n\n    .dataframe thead th {\n        text-align: right;\n    }\n</style>\n<table border=\"1\" class=\"dataframe\">\n  <thead>\n    <tr style=\"text-align: right;\">\n      <th></th>\n      <th></th>\n      <th>Unnamed: 0</th>\n      <th>date</th>\n      <th>avg_temp_c</th>\n    </tr>\n    <tr>\n      <th>country</th>\n      <th>city</th>\n      <th></th>\n      <th></th>\n      <th></th>\n    </tr>\n  </thead>\n  <tbody>\n    <tr>\n      <th rowspan=\"5\" valign=\"top\">Afghanistan</th>\n      <th>Kabul</th>\n      <td>7260</td>\n      <td>2000-01-01</td>\n      <td>3.326</td>\n    </tr>\n    <tr>\n      <th>Kabul</th>\n      <td>7261</td>\n      <td>2000-02-01</td>\n      <td>3.454</td>\n    </tr>\n    <tr>\n      <th>Kabul</th>\n      <td>7262</td>\n      <td>2000-03-01</td>\n      <td>9.612</td>\n    </tr>\n    <tr>\n      <th>Kabul</th>\n      <td>7263</td>\n      <td>2000-04-01</td>\n      <td>17.925</td>\n    </tr>\n    <tr>\n      <th>Kabul</th>\n      <td>7264</td>\n      <td>2000-05-01</td>\n      <td>24.658</td>\n    </tr>\n    <tr>\n      <th>...</th>\n      <th>...</th>\n      <td>...</td>\n      <td>...</td>\n      <td>...</td>\n    </tr>\n    <tr>\n      <th rowspan=\"5\" valign=\"top\">Zimbabwe</th>\n      <th>Harare</th>\n      <td>5605</td>\n      <td>2013-05-01</td>\n      <td>18.298</td>\n    </tr>\n    <tr>\n      <th>Harare</th>\n      <td>5606</td>\n      <td>2013-06-01</td>\n      <td>17.020</td>\n    </tr>\n    <tr>\n      <th>Harare</th>\n      <td>5607</td>\n      <td>2013-07-01</td>\n      <td>16.299</td>\n    </tr>\n    <tr>\n      <th>Harare</th>\n      <td>5608</td>\n      <td>2013-08-01</td>\n      <td>19.232</td>\n    </tr>\n    <tr>\n      <th>Harare</th>\n      <td>5609</td>\n      <td>2013-09-01</td>\n      <td>NaN</td>\n    </tr>\n  </tbody>\n</table>\n<p>16500 rows × 3 columns</p>\n</div>"
     },
     "execution_count": 32,
     "metadata": {},
     "output_type": "execute_result"
    }
   ],
   "source": [
    "temp_ind3.sort_index(level=[\"country\", \"city\"], ascending=[True, False])"
   ],
   "metadata": {
    "collapsed": false,
    "pycharm": {
     "name": "#%%\n"
    }
   }
  },
  {
   "cell_type": "markdown",
   "source": [],
   "metadata": {
    "collapsed": false,
    "pycharm": {
     "name": "#%% md\n"
    }
   }
  },
  {
   "cell_type": "markdown",
   "source": [
    "#### Now you have two problems\n",
    "* Index values are just data\n",
    "* Indexes violate \"tidy data\" principles\n",
    "* You need to learn two syntaxes"
   ],
   "metadata": {
    "collapsed": false,
    "pycharm": {
     "name": "#%% md\n"
    }
   }
  },
  {
   "cell_type": "code",
   "execution_count": null,
   "outputs": [],
   "source": [],
   "metadata": {
    "collapsed": false,
    "pycharm": {
     "name": "#%%\n"
    }
   }
  }
 ],
 "metadata": {
  "kernelspec": {
   "display_name": "Python 3",
   "language": "python",
   "name": "python3"
  },
  "language_info": {
   "codemirror_mode": {
    "name": "ipython",
    "version": 2
   },
   "file_extension": ".py",
   "mimetype": "text/x-python",
   "name": "python",
   "nbconvert_exporter": "python",
   "pygments_lexer": "ipython2",
   "version": "2.7.6"
  }
 },
 "nbformat": 4,
 "nbformat_minor": 0
}