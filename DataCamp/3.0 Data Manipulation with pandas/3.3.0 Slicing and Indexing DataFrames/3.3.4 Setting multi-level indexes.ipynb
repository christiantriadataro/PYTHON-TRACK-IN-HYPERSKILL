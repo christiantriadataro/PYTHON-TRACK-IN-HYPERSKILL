{
 "cells": [
  {
   "cell_type": "markdown",
   "source": [
    "## Slicing and Indexing DataFrames"
   ],
   "metadata": {
    "collapsed": false,
    "pycharm": {
     "name": "#%% md\n"
    }
   }
  },
  {
   "cell_type": "markdown",
   "source": [
    "#### Setting multi-level indexes"
   ],
   "metadata": {
    "collapsed": false,
    "pycharm": {
     "name": "#%% md\n"
    }
   }
  },
  {
   "cell_type": "markdown",
   "source": [
    "Indexes can be also made out of multiple columns, forming a *multi-level index* (sometimes called a *hierarchical index*). There is a trade-off to using these. The benefit is that multi-level indexes make it more natural to reason about nested categorical variables. For example, in a clinical trial, you might have control and treatment groups. Then each test subject belongs to one or another group, and we can say that a test subject is nested inside the treatment group. Similarly, in the temperature dataset, the city is located in the country, so we can say a city is nested inside the country. The main downside is that the code for manipulating indexes is different from the code for manipulating columns, so you have to learn two syntaxes and keep track of how your data is represented. `pandas` is loaded as `pd`. `temperatures` is available."
   ],
   "metadata": {
    "collapsed": false,
    "pycharm": {
     "name": "#%% md\n"
    }
   }
  },
  {
   "cell_type": "code",
   "execution_count": 2,
   "outputs": [
    {
     "data": {
      "text/plain": "   Unnamed: 0        date     city        country  avg_temp_c\n0           0  2000-01-01  Abidjan  Côte D'Ivoire      27.293\n1           1  2000-02-01  Abidjan  Côte D'Ivoire      27.685\n2           2  2000-03-01  Abidjan  Côte D'Ivoire      29.061\n3           3  2000-04-01  Abidjan  Côte D'Ivoire      28.162\n4           4  2000-05-01  Abidjan  Côte D'Ivoire      27.547",
      "text/html": "<div>\n<style scoped>\n    .dataframe tbody tr th:only-of-type {\n        vertical-align: middle;\n    }\n\n    .dataframe tbody tr th {\n        vertical-align: top;\n    }\n\n    .dataframe thead th {\n        text-align: right;\n    }\n</style>\n<table border=\"1\" class=\"dataframe\">\n  <thead>\n    <tr style=\"text-align: right;\">\n      <th></th>\n      <th>Unnamed: 0</th>\n      <th>date</th>\n      <th>city</th>\n      <th>country</th>\n      <th>avg_temp_c</th>\n    </tr>\n  </thead>\n  <tbody>\n    <tr>\n      <th>0</th>\n      <td>0</td>\n      <td>2000-01-01</td>\n      <td>Abidjan</td>\n      <td>Côte D'Ivoire</td>\n      <td>27.293</td>\n    </tr>\n    <tr>\n      <th>1</th>\n      <td>1</td>\n      <td>2000-02-01</td>\n      <td>Abidjan</td>\n      <td>Côte D'Ivoire</td>\n      <td>27.685</td>\n    </tr>\n    <tr>\n      <th>2</th>\n      <td>2</td>\n      <td>2000-03-01</td>\n      <td>Abidjan</td>\n      <td>Côte D'Ivoire</td>\n      <td>29.061</td>\n    </tr>\n    <tr>\n      <th>3</th>\n      <td>3</td>\n      <td>2000-04-01</td>\n      <td>Abidjan</td>\n      <td>Côte D'Ivoire</td>\n      <td>28.162</td>\n    </tr>\n    <tr>\n      <th>4</th>\n      <td>4</td>\n      <td>2000-05-01</td>\n      <td>Abidjan</td>\n      <td>Côte D'Ivoire</td>\n      <td>27.547</td>\n    </tr>\n  </tbody>\n</table>\n</div>"
     },
     "execution_count": 2,
     "metadata": {},
     "output_type": "execute_result"
    }
   ],
   "source": [
    "# importing pandas\n",
    "import pandas as pd\n",
    "\n",
    "# importing sales dataset\n",
    "temperatures = pd.read_csv(\"../datasets/temperatures.csv\")\n",
    "temperatures.head()"
   ],
   "metadata": {
    "collapsed": false,
    "pycharm": {
     "name": "#%%\n"
    }
   }
  },
  {
   "cell_type": "markdown",
   "source": [
    "### Instructions"
   ],
   "metadata": {
    "collapsed": false,
    "pycharm": {
     "name": "#%% md\n"
    }
   }
  },
  {
   "cell_type": "markdown",
   "source": [
    "* Set the index of `temperatures` to the `\"country\"` and `\"city\"` columns, and assign this to `temperatures_ind`.\n",
    "* Specify two country/city pairs to keep: `\"Brazil\"`/`\"Rio De Janeiro\"` and `\"Pakistan\"`/`\"Lahore\"`, assigning to `rows_to_keep`.\n",
    "* Print and subset `temperatures_ind` for `rows_to_keep` using `.loc[]`."
   ],
   "metadata": {
    "collapsed": false,
    "pycharm": {
     "name": "#%% md\n"
    }
   }
  },
  {
   "cell_type": "code",
   "execution_count": 3,
   "outputs": [
    {
     "data": {
      "text/plain": "                       Unnamed: 0        date  avg_temp_c\ncountry       city                                       \nCôte D'Ivoire Abidjan           0  2000-01-01      27.293\n              Abidjan           1  2000-02-01      27.685\n              Abidjan           2  2000-03-01      29.061\n              Abidjan           3  2000-04-01      28.162\n              Abidjan           4  2000-05-01      27.547\n...                           ...         ...         ...\nChina         Xian          16495  2013-05-01      18.979\n              Xian          16496  2013-06-01      23.522\n              Xian          16497  2013-07-01      25.251\n              Xian          16498  2013-08-01      24.528\n              Xian          16499  2013-09-01         NaN\n\n[16500 rows x 3 columns]",
      "text/html": "<div>\n<style scoped>\n    .dataframe tbody tr th:only-of-type {\n        vertical-align: middle;\n    }\n\n    .dataframe tbody tr th {\n        vertical-align: top;\n    }\n\n    .dataframe thead th {\n        text-align: right;\n    }\n</style>\n<table border=\"1\" class=\"dataframe\">\n  <thead>\n    <tr style=\"text-align: right;\">\n      <th></th>\n      <th></th>\n      <th>Unnamed: 0</th>\n      <th>date</th>\n      <th>avg_temp_c</th>\n    </tr>\n    <tr>\n      <th>country</th>\n      <th>city</th>\n      <th></th>\n      <th></th>\n      <th></th>\n    </tr>\n  </thead>\n  <tbody>\n    <tr>\n      <th rowspan=\"5\" valign=\"top\">Côte D'Ivoire</th>\n      <th>Abidjan</th>\n      <td>0</td>\n      <td>2000-01-01</td>\n      <td>27.293</td>\n    </tr>\n    <tr>\n      <th>Abidjan</th>\n      <td>1</td>\n      <td>2000-02-01</td>\n      <td>27.685</td>\n    </tr>\n    <tr>\n      <th>Abidjan</th>\n      <td>2</td>\n      <td>2000-03-01</td>\n      <td>29.061</td>\n    </tr>\n    <tr>\n      <th>Abidjan</th>\n      <td>3</td>\n      <td>2000-04-01</td>\n      <td>28.162</td>\n    </tr>\n    <tr>\n      <th>Abidjan</th>\n      <td>4</td>\n      <td>2000-05-01</td>\n      <td>27.547</td>\n    </tr>\n    <tr>\n      <th>...</th>\n      <th>...</th>\n      <td>...</td>\n      <td>...</td>\n      <td>...</td>\n    </tr>\n    <tr>\n      <th rowspan=\"5\" valign=\"top\">China</th>\n      <th>Xian</th>\n      <td>16495</td>\n      <td>2013-05-01</td>\n      <td>18.979</td>\n    </tr>\n    <tr>\n      <th>Xian</th>\n      <td>16496</td>\n      <td>2013-06-01</td>\n      <td>23.522</td>\n    </tr>\n    <tr>\n      <th>Xian</th>\n      <td>16497</td>\n      <td>2013-07-01</td>\n      <td>25.251</td>\n    </tr>\n    <tr>\n      <th>Xian</th>\n      <td>16498</td>\n      <td>2013-08-01</td>\n      <td>24.528</td>\n    </tr>\n    <tr>\n      <th>Xian</th>\n      <td>16499</td>\n      <td>2013-09-01</td>\n      <td>NaN</td>\n    </tr>\n  </tbody>\n</table>\n<p>16500 rows × 3 columns</p>\n</div>"
     },
     "execution_count": 3,
     "metadata": {},
     "output_type": "execute_result"
    }
   ],
   "source": [
    "# Index temperatures by country & city\n",
    "temperatures_ind = temperatures.set_index([\"country\", \"city\"])\n",
    "temperatures_ind"
   ],
   "metadata": {
    "collapsed": false,
    "pycharm": {
     "name": "#%%\n"
    }
   }
  },
  {
   "cell_type": "code",
   "execution_count": 7,
   "outputs": [
    {
     "data": {
      "text/plain": "[('Brazil', 'Rio De Janeiro'), ('Pakistan', 'Lahore')]"
     },
     "execution_count": 7,
     "metadata": {},
     "output_type": "execute_result"
    }
   ],
   "source": [
    "# List of tuples: Brazil, Rio De Janeiro & Pakistan, Lahore\n",
    "rows_to_keep = [(\"Brazil\", \"Rio De Janeiro\"), (\"Pakistan\", \"Lahore\")]\n",
    "rows_to_keep"
   ],
   "metadata": {
    "collapsed": false,
    "pycharm": {
     "name": "#%%\n"
    }
   }
  },
  {
   "cell_type": "code",
   "execution_count": 8,
   "outputs": [
    {
     "data": {
      "text/plain": "                         Unnamed: 0        date  avg_temp_c\ncountry  city                                              \nBrazil   Rio De Janeiro       12540  2000-01-01      25.974\n         Rio De Janeiro       12541  2000-02-01      26.699\n         Rio De Janeiro       12542  2000-03-01      26.270\n         Rio De Janeiro       12543  2000-04-01      25.750\n         Rio De Janeiro       12544  2000-05-01      24.356\n...                             ...         ...         ...\nPakistan Lahore                8575  2013-05-01      33.457\n         Lahore                8576  2013-06-01      34.456\n         Lahore                8577  2013-07-01      33.279\n         Lahore                8578  2013-08-01      31.511\n         Lahore                8579  2013-09-01         NaN\n\n[330 rows x 3 columns]",
      "text/html": "<div>\n<style scoped>\n    .dataframe tbody tr th:only-of-type {\n        vertical-align: middle;\n    }\n\n    .dataframe tbody tr th {\n        vertical-align: top;\n    }\n\n    .dataframe thead th {\n        text-align: right;\n    }\n</style>\n<table border=\"1\" class=\"dataframe\">\n  <thead>\n    <tr style=\"text-align: right;\">\n      <th></th>\n      <th></th>\n      <th>Unnamed: 0</th>\n      <th>date</th>\n      <th>avg_temp_c</th>\n    </tr>\n    <tr>\n      <th>country</th>\n      <th>city</th>\n      <th></th>\n      <th></th>\n      <th></th>\n    </tr>\n  </thead>\n  <tbody>\n    <tr>\n      <th rowspan=\"5\" valign=\"top\">Brazil</th>\n      <th>Rio De Janeiro</th>\n      <td>12540</td>\n      <td>2000-01-01</td>\n      <td>25.974</td>\n    </tr>\n    <tr>\n      <th>Rio De Janeiro</th>\n      <td>12541</td>\n      <td>2000-02-01</td>\n      <td>26.699</td>\n    </tr>\n    <tr>\n      <th>Rio De Janeiro</th>\n      <td>12542</td>\n      <td>2000-03-01</td>\n      <td>26.270</td>\n    </tr>\n    <tr>\n      <th>Rio De Janeiro</th>\n      <td>12543</td>\n      <td>2000-04-01</td>\n      <td>25.750</td>\n    </tr>\n    <tr>\n      <th>Rio De Janeiro</th>\n      <td>12544</td>\n      <td>2000-05-01</td>\n      <td>24.356</td>\n    </tr>\n    <tr>\n      <th>...</th>\n      <th>...</th>\n      <td>...</td>\n      <td>...</td>\n      <td>...</td>\n    </tr>\n    <tr>\n      <th rowspan=\"5\" valign=\"top\">Pakistan</th>\n      <th>Lahore</th>\n      <td>8575</td>\n      <td>2013-05-01</td>\n      <td>33.457</td>\n    </tr>\n    <tr>\n      <th>Lahore</th>\n      <td>8576</td>\n      <td>2013-06-01</td>\n      <td>34.456</td>\n    </tr>\n    <tr>\n      <th>Lahore</th>\n      <td>8577</td>\n      <td>2013-07-01</td>\n      <td>33.279</td>\n    </tr>\n    <tr>\n      <th>Lahore</th>\n      <td>8578</td>\n      <td>2013-08-01</td>\n      <td>31.511</td>\n    </tr>\n    <tr>\n      <th>Lahore</th>\n      <td>8579</td>\n      <td>2013-09-01</td>\n      <td>NaN</td>\n    </tr>\n  </tbody>\n</table>\n<p>330 rows × 3 columns</p>\n</div>"
     },
     "execution_count": 8,
     "metadata": {},
     "output_type": "execute_result"
    }
   ],
   "source": [
    "# Subset for rows to keep\n",
    "temperatures_ind.loc[rows_to_keep]"
   ],
   "metadata": {
    "collapsed": false,
    "pycharm": {
     "name": "#%%\n"
    }
   }
  },
  {
   "cell_type": "code",
   "execution_count": null,
   "outputs": [],
   "source": [],
   "metadata": {
    "collapsed": false,
    "pycharm": {
     "name": "#%%\n"
    }
   }
  }
 ],
 "metadata": {
  "kernelspec": {
   "display_name": "Python 3",
   "language": "python",
   "name": "python3"
  },
  "language_info": {
   "codemirror_mode": {
    "name": "ipython",
    "version": 2
   },
   "file_extension": ".py",
   "mimetype": "text/x-python",
   "name": "python",
   "nbconvert_exporter": "python",
   "pygments_lexer": "ipython2",
   "version": "2.7.6"
  }
 },
 "nbformat": 4,
 "nbformat_minor": 0
}