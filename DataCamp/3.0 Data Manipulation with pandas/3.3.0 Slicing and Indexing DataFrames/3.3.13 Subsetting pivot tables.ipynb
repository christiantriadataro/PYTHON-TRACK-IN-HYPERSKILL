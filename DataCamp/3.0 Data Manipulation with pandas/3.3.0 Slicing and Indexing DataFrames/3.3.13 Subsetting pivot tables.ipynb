{
 "cells": [
  {
   "cell_type": "markdown",
   "source": [
    "## Slicing and Indexing DataFrames"
   ],
   "metadata": {
    "collapsed": false,
    "pycharm": {
     "name": "#%% md\n"
    }
   }
  },
  {
   "cell_type": "markdown",
   "source": [
    "#### Subsetting pivot tables"
   ],
   "metadata": {
    "collapsed": false,
    "pycharm": {
     "name": "#%% md\n"
    }
   }
  },
  {
   "cell_type": "markdown",
   "source": [
    "A pivot table is just a DataFrame with sorted indexes, so the techniques you have learned already can be used to subset them. In particular, the `.loc[]` + slicing combination is often helpful.\n",
    "`pandas` is loaded as `pd`. `temp_by_country_city_vs_year` is available."
   ],
   "metadata": {
    "collapsed": false,
    "pycharm": {
     "name": "#%% md\n"
    }
   }
  },
  {
   "cell_type": "code",
   "execution_count": 2,
   "outputs": [
    {
     "data": {
      "text/plain": "                               Unnamed: 0                                      \\\nyear                                 2000     2001     2002     2003     2004   \ncountry       city                                                              \nAfghanistan   Kabul                7265.5   7277.5   7289.5   7301.5   7313.5   \nAngola        Luanda               9245.5   9257.5   9269.5   9281.5   9293.5   \nAustralia     Melbourne           10070.5  10082.5  10094.5  10106.5  10118.5   \n              Sydney              14855.5  14867.5  14879.5  14891.5  14903.5   \nBangladesh    Dhaka                4460.5   4472.5   4484.5   4496.5   4508.5   \n...                                   ...      ...      ...      ...      ...   \nUnited States Chicago              3470.5   3482.5   3494.5   3506.5   3518.5   \n              Los Angeles          9080.5   9092.5   9104.5   9116.5   9128.5   \n              New York            11720.5  11732.5  11744.5  11756.5  11768.5   \nVietnam       Ho Chi Minh City     5780.5   5792.5   5804.5   5816.5   5828.5   \nZimbabwe      Harare               5450.5   5462.5   5474.5   5486.5   5498.5   \n\n                                                                             \\\nyear                               2005     2006     2007     2008     2009   \ncountry       city                                                            \nAfghanistan   Kabul              7325.5   7337.5   7349.5   7361.5   7373.5   \nAngola        Luanda             9305.5   9317.5   9329.5   9341.5   9353.5   \nAustralia     Melbourne         10130.5  10142.5  10154.5  10166.5  10178.5   \n              Sydney            14915.5  14927.5  14939.5  14951.5  14963.5   \nBangladesh    Dhaka              4520.5   4532.5   4544.5   4556.5   4568.5   \n...                                 ...      ...      ...      ...      ...   \nUnited States Chicago            3530.5   3542.5   3554.5   3566.5   3578.5   \n              Los Angeles        9140.5   9152.5   9164.5   9176.5   9188.5   \n              New York          11780.5  11792.5  11804.5  11816.5  11828.5   \nVietnam       Ho Chi Minh City   5840.5   5852.5   5864.5   5876.5   5888.5   \nZimbabwe      Harare             5510.5   5522.5   5534.5   5546.5   5558.5   \n\n                                ... avg_temp_c                        \\\nyear                            ...       2004       2005       2006   \ncountry       city              ...                                    \nAfghanistan   Kabul             ...  16.128417  14.847500  15.798500   \nAngola        Luanda            ...  24.216167  24.414583  24.138417   \nAustralia     Melbourne         ...  13.742083  14.378500  13.991083   \n              Sydney            ...  17.869667  18.028083  17.749500   \nBangladesh    Dhaka             ...  26.136083  26.193333  26.440417   \n...                             ...        ...        ...        ...   \nUnited States Chicago           ...  10.943417  11.583833  11.870500   \n              Los Angeles       ...  16.552833  16.431417  16.623083   \n              New York          ...  10.389500  10.681417  11.519250   \nVietnam       Ho Chi Minh City  ...  27.686583  27.884000  28.044000   \nZimbabwe      Harare            ...  20.307667  21.487417  20.699750   \n\n                                                                            \\\nyear                                 2007       2008       2009       2010   \ncountry       city                                                           \nAfghanistan   Kabul             15.518000  15.479250  15.093333  15.676000   \nAngola        Luanda            24.241583  24.266333  24.325083  24.440250   \nAustralia     Melbourne         14.991833  14.110583  14.647417  14.231667   \n              Sydney            18.020833  17.321083  18.175833  17.999000   \nBangladesh    Dhaka             25.951333  26.004500  26.535583  26.648167   \n...                                   ...        ...        ...        ...   \nUnited States Chicago           11.448333  10.242417  10.298333  11.815917   \n              Los Angeles       16.699917  17.014750  16.677000  15.887000   \n              New York          10.627333  10.641667  10.141833  11.357583   \nVietnam       Ho Chi Minh City  27.866667  27.611417  27.853333  28.281750   \nZimbabwe      Harare            20.746250  20.680500  20.523833  21.165833   \n\n                                                                 \nyear                                 2011       2012       2013  \ncountry       city                                               \nAfghanistan   Kabul             15.812167  14.510333  16.206125  \nAngola        Luanda            24.150750  24.240083  24.553875  \nAustralia     Melbourne         14.190917  14.268667  14.741500  \n              Sydney            17.713333  17.474333  18.089750  \nBangladesh    Dhaka             25.803250  26.283583  26.587000  \n...                                   ...        ...        ...  \nUnited States Chicago           11.214250  12.821250  11.586889  \n              Los Angeles       15.874833  17.089583  18.120667  \n              New York          11.272250  11.971500  12.163889  \nVietnam       Ho Chi Minh City  27.675417  28.248750  28.455000  \nZimbabwe      Harare            20.781750  20.523333  19.756500  \n\n[100 rows x 28 columns]",
      "text/html": "<div>\n<style scoped>\n    .dataframe tbody tr th:only-of-type {\n        vertical-align: middle;\n    }\n\n    .dataframe tbody tr th {\n        vertical-align: top;\n    }\n\n    .dataframe thead tr th {\n        text-align: left;\n    }\n\n    .dataframe thead tr:last-of-type th {\n        text-align: right;\n    }\n</style>\n<table border=\"1\" class=\"dataframe\">\n  <thead>\n    <tr>\n      <th></th>\n      <th></th>\n      <th colspan=\"10\" halign=\"left\">Unnamed: 0</th>\n      <th>...</th>\n      <th colspan=\"10\" halign=\"left\">avg_temp_c</th>\n    </tr>\n    <tr>\n      <th></th>\n      <th>year</th>\n      <th>2000</th>\n      <th>2001</th>\n      <th>2002</th>\n      <th>2003</th>\n      <th>2004</th>\n      <th>2005</th>\n      <th>2006</th>\n      <th>2007</th>\n      <th>2008</th>\n      <th>2009</th>\n      <th>...</th>\n      <th>2004</th>\n      <th>2005</th>\n      <th>2006</th>\n      <th>2007</th>\n      <th>2008</th>\n      <th>2009</th>\n      <th>2010</th>\n      <th>2011</th>\n      <th>2012</th>\n      <th>2013</th>\n    </tr>\n    <tr>\n      <th>country</th>\n      <th>city</th>\n      <th></th>\n      <th></th>\n      <th></th>\n      <th></th>\n      <th></th>\n      <th></th>\n      <th></th>\n      <th></th>\n      <th></th>\n      <th></th>\n      <th></th>\n      <th></th>\n      <th></th>\n      <th></th>\n      <th></th>\n      <th></th>\n      <th></th>\n      <th></th>\n      <th></th>\n      <th></th>\n      <th></th>\n    </tr>\n  </thead>\n  <tbody>\n    <tr>\n      <th>Afghanistan</th>\n      <th>Kabul</th>\n      <td>7265.5</td>\n      <td>7277.5</td>\n      <td>7289.5</td>\n      <td>7301.5</td>\n      <td>7313.5</td>\n      <td>7325.5</td>\n      <td>7337.5</td>\n      <td>7349.5</td>\n      <td>7361.5</td>\n      <td>7373.5</td>\n      <td>...</td>\n      <td>16.128417</td>\n      <td>14.847500</td>\n      <td>15.798500</td>\n      <td>15.518000</td>\n      <td>15.479250</td>\n      <td>15.093333</td>\n      <td>15.676000</td>\n      <td>15.812167</td>\n      <td>14.510333</td>\n      <td>16.206125</td>\n    </tr>\n    <tr>\n      <th>Angola</th>\n      <th>Luanda</th>\n      <td>9245.5</td>\n      <td>9257.5</td>\n      <td>9269.5</td>\n      <td>9281.5</td>\n      <td>9293.5</td>\n      <td>9305.5</td>\n      <td>9317.5</td>\n      <td>9329.5</td>\n      <td>9341.5</td>\n      <td>9353.5</td>\n      <td>...</td>\n      <td>24.216167</td>\n      <td>24.414583</td>\n      <td>24.138417</td>\n      <td>24.241583</td>\n      <td>24.266333</td>\n      <td>24.325083</td>\n      <td>24.440250</td>\n      <td>24.150750</td>\n      <td>24.240083</td>\n      <td>24.553875</td>\n    </tr>\n    <tr>\n      <th rowspan=\"2\" valign=\"top\">Australia</th>\n      <th>Melbourne</th>\n      <td>10070.5</td>\n      <td>10082.5</td>\n      <td>10094.5</td>\n      <td>10106.5</td>\n      <td>10118.5</td>\n      <td>10130.5</td>\n      <td>10142.5</td>\n      <td>10154.5</td>\n      <td>10166.5</td>\n      <td>10178.5</td>\n      <td>...</td>\n      <td>13.742083</td>\n      <td>14.378500</td>\n      <td>13.991083</td>\n      <td>14.991833</td>\n      <td>14.110583</td>\n      <td>14.647417</td>\n      <td>14.231667</td>\n      <td>14.190917</td>\n      <td>14.268667</td>\n      <td>14.741500</td>\n    </tr>\n    <tr>\n      <th>Sydney</th>\n      <td>14855.5</td>\n      <td>14867.5</td>\n      <td>14879.5</td>\n      <td>14891.5</td>\n      <td>14903.5</td>\n      <td>14915.5</td>\n      <td>14927.5</td>\n      <td>14939.5</td>\n      <td>14951.5</td>\n      <td>14963.5</td>\n      <td>...</td>\n      <td>17.869667</td>\n      <td>18.028083</td>\n      <td>17.749500</td>\n      <td>18.020833</td>\n      <td>17.321083</td>\n      <td>18.175833</td>\n      <td>17.999000</td>\n      <td>17.713333</td>\n      <td>17.474333</td>\n      <td>18.089750</td>\n    </tr>\n    <tr>\n      <th>Bangladesh</th>\n      <th>Dhaka</th>\n      <td>4460.5</td>\n      <td>4472.5</td>\n      <td>4484.5</td>\n      <td>4496.5</td>\n      <td>4508.5</td>\n      <td>4520.5</td>\n      <td>4532.5</td>\n      <td>4544.5</td>\n      <td>4556.5</td>\n      <td>4568.5</td>\n      <td>...</td>\n      <td>26.136083</td>\n      <td>26.193333</td>\n      <td>26.440417</td>\n      <td>25.951333</td>\n      <td>26.004500</td>\n      <td>26.535583</td>\n      <td>26.648167</td>\n      <td>25.803250</td>\n      <td>26.283583</td>\n      <td>26.587000</td>\n    </tr>\n    <tr>\n      <th>...</th>\n      <th>...</th>\n      <td>...</td>\n      <td>...</td>\n      <td>...</td>\n      <td>...</td>\n      <td>...</td>\n      <td>...</td>\n      <td>...</td>\n      <td>...</td>\n      <td>...</td>\n      <td>...</td>\n      <td>...</td>\n      <td>...</td>\n      <td>...</td>\n      <td>...</td>\n      <td>...</td>\n      <td>...</td>\n      <td>...</td>\n      <td>...</td>\n      <td>...</td>\n      <td>...</td>\n      <td>...</td>\n    </tr>\n    <tr>\n      <th rowspan=\"3\" valign=\"top\">United States</th>\n      <th>Chicago</th>\n      <td>3470.5</td>\n      <td>3482.5</td>\n      <td>3494.5</td>\n      <td>3506.5</td>\n      <td>3518.5</td>\n      <td>3530.5</td>\n      <td>3542.5</td>\n      <td>3554.5</td>\n      <td>3566.5</td>\n      <td>3578.5</td>\n      <td>...</td>\n      <td>10.943417</td>\n      <td>11.583833</td>\n      <td>11.870500</td>\n      <td>11.448333</td>\n      <td>10.242417</td>\n      <td>10.298333</td>\n      <td>11.815917</td>\n      <td>11.214250</td>\n      <td>12.821250</td>\n      <td>11.586889</td>\n    </tr>\n    <tr>\n      <th>Los Angeles</th>\n      <td>9080.5</td>\n      <td>9092.5</td>\n      <td>9104.5</td>\n      <td>9116.5</td>\n      <td>9128.5</td>\n      <td>9140.5</td>\n      <td>9152.5</td>\n      <td>9164.5</td>\n      <td>9176.5</td>\n      <td>9188.5</td>\n      <td>...</td>\n      <td>16.552833</td>\n      <td>16.431417</td>\n      <td>16.623083</td>\n      <td>16.699917</td>\n      <td>17.014750</td>\n      <td>16.677000</td>\n      <td>15.887000</td>\n      <td>15.874833</td>\n      <td>17.089583</td>\n      <td>18.120667</td>\n    </tr>\n    <tr>\n      <th>New York</th>\n      <td>11720.5</td>\n      <td>11732.5</td>\n      <td>11744.5</td>\n      <td>11756.5</td>\n      <td>11768.5</td>\n      <td>11780.5</td>\n      <td>11792.5</td>\n      <td>11804.5</td>\n      <td>11816.5</td>\n      <td>11828.5</td>\n      <td>...</td>\n      <td>10.389500</td>\n      <td>10.681417</td>\n      <td>11.519250</td>\n      <td>10.627333</td>\n      <td>10.641667</td>\n      <td>10.141833</td>\n      <td>11.357583</td>\n      <td>11.272250</td>\n      <td>11.971500</td>\n      <td>12.163889</td>\n    </tr>\n    <tr>\n      <th>Vietnam</th>\n      <th>Ho Chi Minh City</th>\n      <td>5780.5</td>\n      <td>5792.5</td>\n      <td>5804.5</td>\n      <td>5816.5</td>\n      <td>5828.5</td>\n      <td>5840.5</td>\n      <td>5852.5</td>\n      <td>5864.5</td>\n      <td>5876.5</td>\n      <td>5888.5</td>\n      <td>...</td>\n      <td>27.686583</td>\n      <td>27.884000</td>\n      <td>28.044000</td>\n      <td>27.866667</td>\n      <td>27.611417</td>\n      <td>27.853333</td>\n      <td>28.281750</td>\n      <td>27.675417</td>\n      <td>28.248750</td>\n      <td>28.455000</td>\n    </tr>\n    <tr>\n      <th>Zimbabwe</th>\n      <th>Harare</th>\n      <td>5450.5</td>\n      <td>5462.5</td>\n      <td>5474.5</td>\n      <td>5486.5</td>\n      <td>5498.5</td>\n      <td>5510.5</td>\n      <td>5522.5</td>\n      <td>5534.5</td>\n      <td>5546.5</td>\n      <td>5558.5</td>\n      <td>...</td>\n      <td>20.307667</td>\n      <td>21.487417</td>\n      <td>20.699750</td>\n      <td>20.746250</td>\n      <td>20.680500</td>\n      <td>20.523833</td>\n      <td>21.165833</td>\n      <td>20.781750</td>\n      <td>20.523333</td>\n      <td>19.756500</td>\n    </tr>\n  </tbody>\n</table>\n<p>100 rows × 28 columns</p>\n</div>"
     },
     "execution_count": 2,
     "metadata": {},
     "output_type": "execute_result"
    }
   ],
   "source": [
    "# importing pandas\n",
    "import pandas as pd\n",
    "\n",
    "# importing sales dataset\n",
    "temperatures = pd.read_csv(\"../datasets/temperatures.csv\")\n",
    "temperatures.head()\n",
    "temperatures[\"date\"] = pd.to_datetime(temperatures[\"date\"], format=\"%Y-%m-%d\")\n",
    "temperatures[\"year\"] = temperatures[\"date\"].dt.year\n",
    "temp_by_country_city_vs_year = temperatures.pivot_table(index=[\"country\", \"city\"], columns=\"year\")\n",
    "temp_by_country_city_vs_year"
   ],
   "metadata": {
    "collapsed": false,
    "pycharm": {
     "name": "#%%\n"
    }
   }
  },
  {
   "cell_type": "code",
   "execution_count": 8,
   "outputs": [
    {
     "name": "stdout",
     "output_type": "stream",
     "text": [
      "0        2000\n",
      "1        2000\n",
      "2        2000\n",
      "3        2000\n",
      "4        2000\n",
      "         ... \n",
      "16495    2013\n",
      "16496    2013\n",
      "16497    2013\n",
      "16498    2013\n",
      "16499    2013\n",
      "Name: year, Length: 16500, dtype: int64\n"
     ]
    }
   ],
   "source": [
    "print(temperatures[\"year\"])"
   ],
   "metadata": {
    "collapsed": false,
    "pycharm": {
     "name": "#%%\n"
    }
   }
  },
  {
   "cell_type": "markdown",
   "source": [
    "### Instructions"
   ],
   "metadata": {
    "collapsed": false,
    "pycharm": {
     "name": "#%% md\n"
    }
   }
  },
  {
   "cell_type": "markdown",
   "source": [
    "Use `.loc[]` on `temp_by_country_city_vs_year` to take subsets.\n",
    "* From Egypt to India.\n",
    "* From Egypt, Cairo to India, Delhi.\n",
    "* From Egypt, Cairo to India, Delhi, and 2005 to 2010."
   ],
   "metadata": {
    "collapsed": false,
    "pycharm": {
     "name": "#%% md\n"
    }
   }
  },
  {
   "cell_type": "code",
   "execution_count": 3,
   "outputs": [
    {
     "data": {
      "text/plain": "                     Unnamed: 0                                               \\\nyear                       2000     2001     2002     2003     2004     2005   \ncountry  city                                                                  \nEgypt    Alexandria       665.5    677.5    689.5    701.5    713.5    725.5   \n         Cairo           2315.5   2327.5   2339.5   2351.5   2363.5   2375.5   \n         Gizeh           5120.5   5132.5   5144.5   5156.5   5168.5   5180.5   \nEthiopia Addis Abeba      170.5    182.5    194.5    206.5    218.5    230.5   \nFrance   Paris          11885.5  11897.5  11909.5  11921.5  11933.5  11945.5   \nGermany  Berlin          1655.5   1667.5   1679.5   1691.5   1703.5   1715.5   \nIndia    Ahmadabad        335.5    347.5    359.5    371.5    383.5    395.5   \n         Bangalore       1160.5   1172.5   1184.5   1196.5   1208.5   1220.5   \n         Bombay          1985.5   1997.5   2009.5   2021.5   2033.5   2045.5   \n         Calcutta        2480.5   2492.5   2504.5   2516.5   2528.5   2540.5   \n         Delhi           4295.5   4307.5   4319.5   4331.5   4343.5   4355.5   \n         Hyderabad       5945.5   5957.5   5969.5   5981.5   5993.5   6005.5   \n         Jaipur          6605.5   6617.5   6629.5   6641.5   6653.5   6665.5   \n         Kanpur          7595.5   7607.5   7619.5   7631.5   7643.5   7655.5   \n         Lakhnau         8585.5   8597.5   8609.5   8621.5   8633.5   8645.5   \n         Madras          9410.5   9422.5   9434.5   9446.5   9458.5   9470.5   \n         Nagpur         11060.5  11072.5  11084.5  11096.5  11108.5  11120.5   \n         New Delhi      11555.5  11567.5  11579.5  11591.5  11603.5  11615.5   \n         Pune           12215.5  12227.5  12239.5  12251.5  12263.5  12275.5   \n         Surat          14690.5  14702.5  14714.5  14726.5  14738.5  14750.5   \n\n                                                          ... avg_temp_c  \\\nyear                     2006     2007     2008     2009  ...       2004   \ncountry  city                                             ...              \nEgypt    Alexandria     737.5    749.5    761.5    773.5  ...  21.064167   \n         Cairo         2387.5   2399.5   2411.5   2423.5  ...  22.081917   \n         Gizeh         5192.5   5204.5   5216.5   5228.5  ...  22.081917   \nEthiopia Addis Abeba    242.5    254.5    266.5    278.5  ...  18.292750   \nFrance   Paris        11957.5  11969.5  11981.5  11993.5  ...  11.338833   \nGermany  Berlin        1727.5   1739.5   1751.5   1763.5  ...   9.822583   \nIndia    Ahmadabad      407.5    419.5    431.5    443.5  ...  27.628333   \n         Bangalore     1232.5   1244.5   1256.5   1268.5  ...  25.252083   \n         Bombay        2057.5   2069.5   2081.5   2093.5  ...  27.318750   \n         Calcutta      2552.5   2564.5   2576.5   2588.5  ...  26.634333   \n         Delhi         4367.5   4379.5   4391.5   4403.5  ...  26.239917   \n         Hyderabad     6017.5   6029.5   6041.5   6053.5  ...  27.228500   \n         Jaipur        6677.5   6689.5   6701.5   6713.5  ...  26.642167   \n         Kanpur        7667.5   7679.5   7691.5   7703.5  ...  25.586500   \n         Lakhnau       8657.5   8669.5   8681.5   8693.5  ...  25.586500   \n         Madras        9482.5   9494.5   9506.5   9518.5  ...  28.810917   \n         Nagpur       11132.5  11144.5  11156.5  11168.5  ...  26.406333   \n         New Delhi    11627.5  11639.5  11651.5  11663.5  ...  26.239917   \n         Pune         12287.5  12299.5  12311.5  12323.5  ...  25.316167   \n         Surat        14762.5  14774.5  14786.5  14798.5  ...  27.290583   \n\n                                                                             \\\nyear                       2005       2006       2007       2008       2009   \ncountry  city                                                                 \nEgypt    Alexandria   21.082333  21.148167  21.507750  21.739000  21.670500   \n         Cairo        22.006500  22.050000  22.361000  22.644500  22.625000   \n         Gizeh        22.006500  22.050000  22.361000  22.644500  22.625000   \nEthiopia Addis Abeba  18.312833  18.427083  18.142583  18.165000  18.765333   \nFrance   Paris        11.552917  11.788500  11.750833  11.278250  11.464083   \nGermany  Berlin        9.919083  10.545333  10.883167  10.657750  10.062500   \nIndia    Ahmadabad    26.828083  27.282833  27.511167  27.048500  28.095833   \n         Bangalore    25.476500  25.418250  25.464333  25.352583  25.725750   \n         Bombay       27.035750  27.381500  27.634667  27.177750  27.844500   \n         Calcutta     26.729167  26.986250  26.584583  26.522333  27.153250   \n         Delhi        25.716083  26.365917  26.145667  25.675000  26.554250   \n         Hyderabad    27.488833  27.471000  27.545333  27.446667  28.026500   \n         Jaipur       25.772250  26.429833  26.267000  25.877583  26.919500   \n         Kanpur       25.621500  25.848833  25.436083  25.109750  25.987083   \n         Lakhnau      25.621500  25.848833  25.436083  25.109750  25.987083   \n         Madras       29.099417  29.073250  28.970167  29.024083  29.417417   \n         Nagpur       26.229167  26.374833  26.393667  26.188000  27.138917   \n         New Delhi    25.716083  26.365917  26.145667  25.675000  26.554250   \n         Pune         25.085583  25.310167  25.584833  25.230250  25.868250   \n         Surat        26.724500  27.149417  27.311750  26.828750  27.819833   \n\n                                                                  \nyear                       2010       2011       2012       2013  \ncountry  city                                                     \nEgypt    Alexandria   22.459583  21.181500  21.552583  21.438500  \n         Cairo        23.718250  21.986917  22.484250  22.907000  \n         Gizeh        23.718250  21.986917  22.484250  22.907000  \nEthiopia Addis Abeba  18.298250  18.606750  18.448583  19.539000  \nFrance   Paris        10.409833  12.325750  11.219917  11.011625  \nGermany  Berlin        8.606833  10.556417   9.964333  10.121500  \nIndia    Ahmadabad    28.017833  27.290417  27.027250  27.608625  \n         Bangalore    25.705250  25.362083  26.042333  26.610500  \n         Bombay       27.765417  27.384917  27.192500  26.713000  \n         Calcutta     27.288833  26.406917  26.935083  27.369250  \n         Delhi        26.520250  25.629500  25.889417  26.709250  \n         Hyderabad    27.693417  27.408833  28.018583  28.851250  \n         Jaipur       26.818417  25.916500  25.884500  26.844125  \n         Kanpur       26.021750  25.062083  25.445417  26.121250  \n         Lakhnau      26.021750  25.062083  25.445417  26.121250  \n         Madras       29.047333  29.063167  29.778417  30.411750  \n         Nagpur       26.927000  26.004667  26.327917  27.112375  \n         New Delhi    26.520250  25.629500  25.889417  26.709250  \n         Pune         25.749167  25.161417  25.296833  25.847625  \n         Surat        27.681667  27.016583  26.889250  27.437750  \n\n[20 rows x 28 columns]",
      "text/html": "<div>\n<style scoped>\n    .dataframe tbody tr th:only-of-type {\n        vertical-align: middle;\n    }\n\n    .dataframe tbody tr th {\n        vertical-align: top;\n    }\n\n    .dataframe thead tr th {\n        text-align: left;\n    }\n\n    .dataframe thead tr:last-of-type th {\n        text-align: right;\n    }\n</style>\n<table border=\"1\" class=\"dataframe\">\n  <thead>\n    <tr>\n      <th></th>\n      <th></th>\n      <th colspan=\"10\" halign=\"left\">Unnamed: 0</th>\n      <th>...</th>\n      <th colspan=\"10\" halign=\"left\">avg_temp_c</th>\n    </tr>\n    <tr>\n      <th></th>\n      <th>year</th>\n      <th>2000</th>\n      <th>2001</th>\n      <th>2002</th>\n      <th>2003</th>\n      <th>2004</th>\n      <th>2005</th>\n      <th>2006</th>\n      <th>2007</th>\n      <th>2008</th>\n      <th>2009</th>\n      <th>...</th>\n      <th>2004</th>\n      <th>2005</th>\n      <th>2006</th>\n      <th>2007</th>\n      <th>2008</th>\n      <th>2009</th>\n      <th>2010</th>\n      <th>2011</th>\n      <th>2012</th>\n      <th>2013</th>\n    </tr>\n    <tr>\n      <th>country</th>\n      <th>city</th>\n      <th></th>\n      <th></th>\n      <th></th>\n      <th></th>\n      <th></th>\n      <th></th>\n      <th></th>\n      <th></th>\n      <th></th>\n      <th></th>\n      <th></th>\n      <th></th>\n      <th></th>\n      <th></th>\n      <th></th>\n      <th></th>\n      <th></th>\n      <th></th>\n      <th></th>\n      <th></th>\n      <th></th>\n    </tr>\n  </thead>\n  <tbody>\n    <tr>\n      <th rowspan=\"3\" valign=\"top\">Egypt</th>\n      <th>Alexandria</th>\n      <td>665.5</td>\n      <td>677.5</td>\n      <td>689.5</td>\n      <td>701.5</td>\n      <td>713.5</td>\n      <td>725.5</td>\n      <td>737.5</td>\n      <td>749.5</td>\n      <td>761.5</td>\n      <td>773.5</td>\n      <td>...</td>\n      <td>21.064167</td>\n      <td>21.082333</td>\n      <td>21.148167</td>\n      <td>21.507750</td>\n      <td>21.739000</td>\n      <td>21.670500</td>\n      <td>22.459583</td>\n      <td>21.181500</td>\n      <td>21.552583</td>\n      <td>21.438500</td>\n    </tr>\n    <tr>\n      <th>Cairo</th>\n      <td>2315.5</td>\n      <td>2327.5</td>\n      <td>2339.5</td>\n      <td>2351.5</td>\n      <td>2363.5</td>\n      <td>2375.5</td>\n      <td>2387.5</td>\n      <td>2399.5</td>\n      <td>2411.5</td>\n      <td>2423.5</td>\n      <td>...</td>\n      <td>22.081917</td>\n      <td>22.006500</td>\n      <td>22.050000</td>\n      <td>22.361000</td>\n      <td>22.644500</td>\n      <td>22.625000</td>\n      <td>23.718250</td>\n      <td>21.986917</td>\n      <td>22.484250</td>\n      <td>22.907000</td>\n    </tr>\n    <tr>\n      <th>Gizeh</th>\n      <td>5120.5</td>\n      <td>5132.5</td>\n      <td>5144.5</td>\n      <td>5156.5</td>\n      <td>5168.5</td>\n      <td>5180.5</td>\n      <td>5192.5</td>\n      <td>5204.5</td>\n      <td>5216.5</td>\n      <td>5228.5</td>\n      <td>...</td>\n      <td>22.081917</td>\n      <td>22.006500</td>\n      <td>22.050000</td>\n      <td>22.361000</td>\n      <td>22.644500</td>\n      <td>22.625000</td>\n      <td>23.718250</td>\n      <td>21.986917</td>\n      <td>22.484250</td>\n      <td>22.907000</td>\n    </tr>\n    <tr>\n      <th>Ethiopia</th>\n      <th>Addis Abeba</th>\n      <td>170.5</td>\n      <td>182.5</td>\n      <td>194.5</td>\n      <td>206.5</td>\n      <td>218.5</td>\n      <td>230.5</td>\n      <td>242.5</td>\n      <td>254.5</td>\n      <td>266.5</td>\n      <td>278.5</td>\n      <td>...</td>\n      <td>18.292750</td>\n      <td>18.312833</td>\n      <td>18.427083</td>\n      <td>18.142583</td>\n      <td>18.165000</td>\n      <td>18.765333</td>\n      <td>18.298250</td>\n      <td>18.606750</td>\n      <td>18.448583</td>\n      <td>19.539000</td>\n    </tr>\n    <tr>\n      <th>France</th>\n      <th>Paris</th>\n      <td>11885.5</td>\n      <td>11897.5</td>\n      <td>11909.5</td>\n      <td>11921.5</td>\n      <td>11933.5</td>\n      <td>11945.5</td>\n      <td>11957.5</td>\n      <td>11969.5</td>\n      <td>11981.5</td>\n      <td>11993.5</td>\n      <td>...</td>\n      <td>11.338833</td>\n      <td>11.552917</td>\n      <td>11.788500</td>\n      <td>11.750833</td>\n      <td>11.278250</td>\n      <td>11.464083</td>\n      <td>10.409833</td>\n      <td>12.325750</td>\n      <td>11.219917</td>\n      <td>11.011625</td>\n    </tr>\n    <tr>\n      <th>Germany</th>\n      <th>Berlin</th>\n      <td>1655.5</td>\n      <td>1667.5</td>\n      <td>1679.5</td>\n      <td>1691.5</td>\n      <td>1703.5</td>\n      <td>1715.5</td>\n      <td>1727.5</td>\n      <td>1739.5</td>\n      <td>1751.5</td>\n      <td>1763.5</td>\n      <td>...</td>\n      <td>9.822583</td>\n      <td>9.919083</td>\n      <td>10.545333</td>\n      <td>10.883167</td>\n      <td>10.657750</td>\n      <td>10.062500</td>\n      <td>8.606833</td>\n      <td>10.556417</td>\n      <td>9.964333</td>\n      <td>10.121500</td>\n    </tr>\n    <tr>\n      <th rowspan=\"14\" valign=\"top\">India</th>\n      <th>Ahmadabad</th>\n      <td>335.5</td>\n      <td>347.5</td>\n      <td>359.5</td>\n      <td>371.5</td>\n      <td>383.5</td>\n      <td>395.5</td>\n      <td>407.5</td>\n      <td>419.5</td>\n      <td>431.5</td>\n      <td>443.5</td>\n      <td>...</td>\n      <td>27.628333</td>\n      <td>26.828083</td>\n      <td>27.282833</td>\n      <td>27.511167</td>\n      <td>27.048500</td>\n      <td>28.095833</td>\n      <td>28.017833</td>\n      <td>27.290417</td>\n      <td>27.027250</td>\n      <td>27.608625</td>\n    </tr>\n    <tr>\n      <th>Bangalore</th>\n      <td>1160.5</td>\n      <td>1172.5</td>\n      <td>1184.5</td>\n      <td>1196.5</td>\n      <td>1208.5</td>\n      <td>1220.5</td>\n      <td>1232.5</td>\n      <td>1244.5</td>\n      <td>1256.5</td>\n      <td>1268.5</td>\n      <td>...</td>\n      <td>25.252083</td>\n      <td>25.476500</td>\n      <td>25.418250</td>\n      <td>25.464333</td>\n      <td>25.352583</td>\n      <td>25.725750</td>\n      <td>25.705250</td>\n      <td>25.362083</td>\n      <td>26.042333</td>\n      <td>26.610500</td>\n    </tr>\n    <tr>\n      <th>Bombay</th>\n      <td>1985.5</td>\n      <td>1997.5</td>\n      <td>2009.5</td>\n      <td>2021.5</td>\n      <td>2033.5</td>\n      <td>2045.5</td>\n      <td>2057.5</td>\n      <td>2069.5</td>\n      <td>2081.5</td>\n      <td>2093.5</td>\n      <td>...</td>\n      <td>27.318750</td>\n      <td>27.035750</td>\n      <td>27.381500</td>\n      <td>27.634667</td>\n      <td>27.177750</td>\n      <td>27.844500</td>\n      <td>27.765417</td>\n      <td>27.384917</td>\n      <td>27.192500</td>\n      <td>26.713000</td>\n    </tr>\n    <tr>\n      <th>Calcutta</th>\n      <td>2480.5</td>\n      <td>2492.5</td>\n      <td>2504.5</td>\n      <td>2516.5</td>\n      <td>2528.5</td>\n      <td>2540.5</td>\n      <td>2552.5</td>\n      <td>2564.5</td>\n      <td>2576.5</td>\n      <td>2588.5</td>\n      <td>...</td>\n      <td>26.634333</td>\n      <td>26.729167</td>\n      <td>26.986250</td>\n      <td>26.584583</td>\n      <td>26.522333</td>\n      <td>27.153250</td>\n      <td>27.288833</td>\n      <td>26.406917</td>\n      <td>26.935083</td>\n      <td>27.369250</td>\n    </tr>\n    <tr>\n      <th>Delhi</th>\n      <td>4295.5</td>\n      <td>4307.5</td>\n      <td>4319.5</td>\n      <td>4331.5</td>\n      <td>4343.5</td>\n      <td>4355.5</td>\n      <td>4367.5</td>\n      <td>4379.5</td>\n      <td>4391.5</td>\n      <td>4403.5</td>\n      <td>...</td>\n      <td>26.239917</td>\n      <td>25.716083</td>\n      <td>26.365917</td>\n      <td>26.145667</td>\n      <td>25.675000</td>\n      <td>26.554250</td>\n      <td>26.520250</td>\n      <td>25.629500</td>\n      <td>25.889417</td>\n      <td>26.709250</td>\n    </tr>\n    <tr>\n      <th>Hyderabad</th>\n      <td>5945.5</td>\n      <td>5957.5</td>\n      <td>5969.5</td>\n      <td>5981.5</td>\n      <td>5993.5</td>\n      <td>6005.5</td>\n      <td>6017.5</td>\n      <td>6029.5</td>\n      <td>6041.5</td>\n      <td>6053.5</td>\n      <td>...</td>\n      <td>27.228500</td>\n      <td>27.488833</td>\n      <td>27.471000</td>\n      <td>27.545333</td>\n      <td>27.446667</td>\n      <td>28.026500</td>\n      <td>27.693417</td>\n      <td>27.408833</td>\n      <td>28.018583</td>\n      <td>28.851250</td>\n    </tr>\n    <tr>\n      <th>Jaipur</th>\n      <td>6605.5</td>\n      <td>6617.5</td>\n      <td>6629.5</td>\n      <td>6641.5</td>\n      <td>6653.5</td>\n      <td>6665.5</td>\n      <td>6677.5</td>\n      <td>6689.5</td>\n      <td>6701.5</td>\n      <td>6713.5</td>\n      <td>...</td>\n      <td>26.642167</td>\n      <td>25.772250</td>\n      <td>26.429833</td>\n      <td>26.267000</td>\n      <td>25.877583</td>\n      <td>26.919500</td>\n      <td>26.818417</td>\n      <td>25.916500</td>\n      <td>25.884500</td>\n      <td>26.844125</td>\n    </tr>\n    <tr>\n      <th>Kanpur</th>\n      <td>7595.5</td>\n      <td>7607.5</td>\n      <td>7619.5</td>\n      <td>7631.5</td>\n      <td>7643.5</td>\n      <td>7655.5</td>\n      <td>7667.5</td>\n      <td>7679.5</td>\n      <td>7691.5</td>\n      <td>7703.5</td>\n      <td>...</td>\n      <td>25.586500</td>\n      <td>25.621500</td>\n      <td>25.848833</td>\n      <td>25.436083</td>\n      <td>25.109750</td>\n      <td>25.987083</td>\n      <td>26.021750</td>\n      <td>25.062083</td>\n      <td>25.445417</td>\n      <td>26.121250</td>\n    </tr>\n    <tr>\n      <th>Lakhnau</th>\n      <td>8585.5</td>\n      <td>8597.5</td>\n      <td>8609.5</td>\n      <td>8621.5</td>\n      <td>8633.5</td>\n      <td>8645.5</td>\n      <td>8657.5</td>\n      <td>8669.5</td>\n      <td>8681.5</td>\n      <td>8693.5</td>\n      <td>...</td>\n      <td>25.586500</td>\n      <td>25.621500</td>\n      <td>25.848833</td>\n      <td>25.436083</td>\n      <td>25.109750</td>\n      <td>25.987083</td>\n      <td>26.021750</td>\n      <td>25.062083</td>\n      <td>25.445417</td>\n      <td>26.121250</td>\n    </tr>\n    <tr>\n      <th>Madras</th>\n      <td>9410.5</td>\n      <td>9422.5</td>\n      <td>9434.5</td>\n      <td>9446.5</td>\n      <td>9458.5</td>\n      <td>9470.5</td>\n      <td>9482.5</td>\n      <td>9494.5</td>\n      <td>9506.5</td>\n      <td>9518.5</td>\n      <td>...</td>\n      <td>28.810917</td>\n      <td>29.099417</td>\n      <td>29.073250</td>\n      <td>28.970167</td>\n      <td>29.024083</td>\n      <td>29.417417</td>\n      <td>29.047333</td>\n      <td>29.063167</td>\n      <td>29.778417</td>\n      <td>30.411750</td>\n    </tr>\n    <tr>\n      <th>Nagpur</th>\n      <td>11060.5</td>\n      <td>11072.5</td>\n      <td>11084.5</td>\n      <td>11096.5</td>\n      <td>11108.5</td>\n      <td>11120.5</td>\n      <td>11132.5</td>\n      <td>11144.5</td>\n      <td>11156.5</td>\n      <td>11168.5</td>\n      <td>...</td>\n      <td>26.406333</td>\n      <td>26.229167</td>\n      <td>26.374833</td>\n      <td>26.393667</td>\n      <td>26.188000</td>\n      <td>27.138917</td>\n      <td>26.927000</td>\n      <td>26.004667</td>\n      <td>26.327917</td>\n      <td>27.112375</td>\n    </tr>\n    <tr>\n      <th>New Delhi</th>\n      <td>11555.5</td>\n      <td>11567.5</td>\n      <td>11579.5</td>\n      <td>11591.5</td>\n      <td>11603.5</td>\n      <td>11615.5</td>\n      <td>11627.5</td>\n      <td>11639.5</td>\n      <td>11651.5</td>\n      <td>11663.5</td>\n      <td>...</td>\n      <td>26.239917</td>\n      <td>25.716083</td>\n      <td>26.365917</td>\n      <td>26.145667</td>\n      <td>25.675000</td>\n      <td>26.554250</td>\n      <td>26.520250</td>\n      <td>25.629500</td>\n      <td>25.889417</td>\n      <td>26.709250</td>\n    </tr>\n    <tr>\n      <th>Pune</th>\n      <td>12215.5</td>\n      <td>12227.5</td>\n      <td>12239.5</td>\n      <td>12251.5</td>\n      <td>12263.5</td>\n      <td>12275.5</td>\n      <td>12287.5</td>\n      <td>12299.5</td>\n      <td>12311.5</td>\n      <td>12323.5</td>\n      <td>...</td>\n      <td>25.316167</td>\n      <td>25.085583</td>\n      <td>25.310167</td>\n      <td>25.584833</td>\n      <td>25.230250</td>\n      <td>25.868250</td>\n      <td>25.749167</td>\n      <td>25.161417</td>\n      <td>25.296833</td>\n      <td>25.847625</td>\n    </tr>\n    <tr>\n      <th>Surat</th>\n      <td>14690.5</td>\n      <td>14702.5</td>\n      <td>14714.5</td>\n      <td>14726.5</td>\n      <td>14738.5</td>\n      <td>14750.5</td>\n      <td>14762.5</td>\n      <td>14774.5</td>\n      <td>14786.5</td>\n      <td>14798.5</td>\n      <td>...</td>\n      <td>27.290583</td>\n      <td>26.724500</td>\n      <td>27.149417</td>\n      <td>27.311750</td>\n      <td>26.828750</td>\n      <td>27.819833</td>\n      <td>27.681667</td>\n      <td>27.016583</td>\n      <td>26.889250</td>\n      <td>27.437750</td>\n    </tr>\n  </tbody>\n</table>\n<p>20 rows × 28 columns</p>\n</div>"
     },
     "execution_count": 3,
     "metadata": {},
     "output_type": "execute_result"
    }
   ],
   "source": [
    "# Subset for Egypt to India\n",
    "temp_by_country_city_vs_year.loc[\"Egypt\":\"India\"]"
   ],
   "metadata": {
    "collapsed": false,
    "pycharm": {
     "name": "#%%\n"
    }
   }
  },
  {
   "cell_type": "code",
   "execution_count": 4,
   "outputs": [
    {
     "data": {
      "text/plain": "                     Unnamed: 0                                               \\\nyear                       2000     2001     2002     2003     2004     2005   \ncountry  city                                                                  \nEgypt    Cairo           2315.5   2327.5   2339.5   2351.5   2363.5   2375.5   \n         Gizeh           5120.5   5132.5   5144.5   5156.5   5168.5   5180.5   \nEthiopia Addis Abeba      170.5    182.5    194.5    206.5    218.5    230.5   \nFrance   Paris          11885.5  11897.5  11909.5  11921.5  11933.5  11945.5   \nGermany  Berlin          1655.5   1667.5   1679.5   1691.5   1703.5   1715.5   \nIndia    Ahmadabad        335.5    347.5    359.5    371.5    383.5    395.5   \n         Bangalore       1160.5   1172.5   1184.5   1196.5   1208.5   1220.5   \n         Bombay          1985.5   1997.5   2009.5   2021.5   2033.5   2045.5   \n         Calcutta        2480.5   2492.5   2504.5   2516.5   2528.5   2540.5   \n         Delhi           4295.5   4307.5   4319.5   4331.5   4343.5   4355.5   \n\n                                                          ... avg_temp_c  \\\nyear                     2006     2007     2008     2009  ...       2004   \ncountry  city                                             ...              \nEgypt    Cairo         2387.5   2399.5   2411.5   2423.5  ...  22.081917   \n         Gizeh         5192.5   5204.5   5216.5   5228.5  ...  22.081917   \nEthiopia Addis Abeba    242.5    254.5    266.5    278.5  ...  18.292750   \nFrance   Paris        11957.5  11969.5  11981.5  11993.5  ...  11.338833   \nGermany  Berlin        1727.5   1739.5   1751.5   1763.5  ...   9.822583   \nIndia    Ahmadabad      407.5    419.5    431.5    443.5  ...  27.628333   \n         Bangalore     1232.5   1244.5   1256.5   1268.5  ...  25.252083   \n         Bombay        2057.5   2069.5   2081.5   2093.5  ...  27.318750   \n         Calcutta      2552.5   2564.5   2576.5   2588.5  ...  26.634333   \n         Delhi         4367.5   4379.5   4391.5   4403.5  ...  26.239917   \n\n                                                                             \\\nyear                       2005       2006       2007       2008       2009   \ncountry  city                                                                 \nEgypt    Cairo        22.006500  22.050000  22.361000  22.644500  22.625000   \n         Gizeh        22.006500  22.050000  22.361000  22.644500  22.625000   \nEthiopia Addis Abeba  18.312833  18.427083  18.142583  18.165000  18.765333   \nFrance   Paris        11.552917  11.788500  11.750833  11.278250  11.464083   \nGermany  Berlin        9.919083  10.545333  10.883167  10.657750  10.062500   \nIndia    Ahmadabad    26.828083  27.282833  27.511167  27.048500  28.095833   \n         Bangalore    25.476500  25.418250  25.464333  25.352583  25.725750   \n         Bombay       27.035750  27.381500  27.634667  27.177750  27.844500   \n         Calcutta     26.729167  26.986250  26.584583  26.522333  27.153250   \n         Delhi        25.716083  26.365917  26.145667  25.675000  26.554250   \n\n                                                                  \nyear                       2010       2011       2012       2013  \ncountry  city                                                     \nEgypt    Cairo        23.718250  21.986917  22.484250  22.907000  \n         Gizeh        23.718250  21.986917  22.484250  22.907000  \nEthiopia Addis Abeba  18.298250  18.606750  18.448583  19.539000  \nFrance   Paris        10.409833  12.325750  11.219917  11.011625  \nGermany  Berlin        8.606833  10.556417   9.964333  10.121500  \nIndia    Ahmadabad    28.017833  27.290417  27.027250  27.608625  \n         Bangalore    25.705250  25.362083  26.042333  26.610500  \n         Bombay       27.765417  27.384917  27.192500  26.713000  \n         Calcutta     27.288833  26.406917  26.935083  27.369250  \n         Delhi        26.520250  25.629500  25.889417  26.709250  \n\n[10 rows x 28 columns]",
      "text/html": "<div>\n<style scoped>\n    .dataframe tbody tr th:only-of-type {\n        vertical-align: middle;\n    }\n\n    .dataframe tbody tr th {\n        vertical-align: top;\n    }\n\n    .dataframe thead tr th {\n        text-align: left;\n    }\n\n    .dataframe thead tr:last-of-type th {\n        text-align: right;\n    }\n</style>\n<table border=\"1\" class=\"dataframe\">\n  <thead>\n    <tr>\n      <th></th>\n      <th></th>\n      <th colspan=\"10\" halign=\"left\">Unnamed: 0</th>\n      <th>...</th>\n      <th colspan=\"10\" halign=\"left\">avg_temp_c</th>\n    </tr>\n    <tr>\n      <th></th>\n      <th>year</th>\n      <th>2000</th>\n      <th>2001</th>\n      <th>2002</th>\n      <th>2003</th>\n      <th>2004</th>\n      <th>2005</th>\n      <th>2006</th>\n      <th>2007</th>\n      <th>2008</th>\n      <th>2009</th>\n      <th>...</th>\n      <th>2004</th>\n      <th>2005</th>\n      <th>2006</th>\n      <th>2007</th>\n      <th>2008</th>\n      <th>2009</th>\n      <th>2010</th>\n      <th>2011</th>\n      <th>2012</th>\n      <th>2013</th>\n    </tr>\n    <tr>\n      <th>country</th>\n      <th>city</th>\n      <th></th>\n      <th></th>\n      <th></th>\n      <th></th>\n      <th></th>\n      <th></th>\n      <th></th>\n      <th></th>\n      <th></th>\n      <th></th>\n      <th></th>\n      <th></th>\n      <th></th>\n      <th></th>\n      <th></th>\n      <th></th>\n      <th></th>\n      <th></th>\n      <th></th>\n      <th></th>\n      <th></th>\n    </tr>\n  </thead>\n  <tbody>\n    <tr>\n      <th rowspan=\"2\" valign=\"top\">Egypt</th>\n      <th>Cairo</th>\n      <td>2315.5</td>\n      <td>2327.5</td>\n      <td>2339.5</td>\n      <td>2351.5</td>\n      <td>2363.5</td>\n      <td>2375.5</td>\n      <td>2387.5</td>\n      <td>2399.5</td>\n      <td>2411.5</td>\n      <td>2423.5</td>\n      <td>...</td>\n      <td>22.081917</td>\n      <td>22.006500</td>\n      <td>22.050000</td>\n      <td>22.361000</td>\n      <td>22.644500</td>\n      <td>22.625000</td>\n      <td>23.718250</td>\n      <td>21.986917</td>\n      <td>22.484250</td>\n      <td>22.907000</td>\n    </tr>\n    <tr>\n      <th>Gizeh</th>\n      <td>5120.5</td>\n      <td>5132.5</td>\n      <td>5144.5</td>\n      <td>5156.5</td>\n      <td>5168.5</td>\n      <td>5180.5</td>\n      <td>5192.5</td>\n      <td>5204.5</td>\n      <td>5216.5</td>\n      <td>5228.5</td>\n      <td>...</td>\n      <td>22.081917</td>\n      <td>22.006500</td>\n      <td>22.050000</td>\n      <td>22.361000</td>\n      <td>22.644500</td>\n      <td>22.625000</td>\n      <td>23.718250</td>\n      <td>21.986917</td>\n      <td>22.484250</td>\n      <td>22.907000</td>\n    </tr>\n    <tr>\n      <th>Ethiopia</th>\n      <th>Addis Abeba</th>\n      <td>170.5</td>\n      <td>182.5</td>\n      <td>194.5</td>\n      <td>206.5</td>\n      <td>218.5</td>\n      <td>230.5</td>\n      <td>242.5</td>\n      <td>254.5</td>\n      <td>266.5</td>\n      <td>278.5</td>\n      <td>...</td>\n      <td>18.292750</td>\n      <td>18.312833</td>\n      <td>18.427083</td>\n      <td>18.142583</td>\n      <td>18.165000</td>\n      <td>18.765333</td>\n      <td>18.298250</td>\n      <td>18.606750</td>\n      <td>18.448583</td>\n      <td>19.539000</td>\n    </tr>\n    <tr>\n      <th>France</th>\n      <th>Paris</th>\n      <td>11885.5</td>\n      <td>11897.5</td>\n      <td>11909.5</td>\n      <td>11921.5</td>\n      <td>11933.5</td>\n      <td>11945.5</td>\n      <td>11957.5</td>\n      <td>11969.5</td>\n      <td>11981.5</td>\n      <td>11993.5</td>\n      <td>...</td>\n      <td>11.338833</td>\n      <td>11.552917</td>\n      <td>11.788500</td>\n      <td>11.750833</td>\n      <td>11.278250</td>\n      <td>11.464083</td>\n      <td>10.409833</td>\n      <td>12.325750</td>\n      <td>11.219917</td>\n      <td>11.011625</td>\n    </tr>\n    <tr>\n      <th>Germany</th>\n      <th>Berlin</th>\n      <td>1655.5</td>\n      <td>1667.5</td>\n      <td>1679.5</td>\n      <td>1691.5</td>\n      <td>1703.5</td>\n      <td>1715.5</td>\n      <td>1727.5</td>\n      <td>1739.5</td>\n      <td>1751.5</td>\n      <td>1763.5</td>\n      <td>...</td>\n      <td>9.822583</td>\n      <td>9.919083</td>\n      <td>10.545333</td>\n      <td>10.883167</td>\n      <td>10.657750</td>\n      <td>10.062500</td>\n      <td>8.606833</td>\n      <td>10.556417</td>\n      <td>9.964333</td>\n      <td>10.121500</td>\n    </tr>\n    <tr>\n      <th rowspan=\"5\" valign=\"top\">India</th>\n      <th>Ahmadabad</th>\n      <td>335.5</td>\n      <td>347.5</td>\n      <td>359.5</td>\n      <td>371.5</td>\n      <td>383.5</td>\n      <td>395.5</td>\n      <td>407.5</td>\n      <td>419.5</td>\n      <td>431.5</td>\n      <td>443.5</td>\n      <td>...</td>\n      <td>27.628333</td>\n      <td>26.828083</td>\n      <td>27.282833</td>\n      <td>27.511167</td>\n      <td>27.048500</td>\n      <td>28.095833</td>\n      <td>28.017833</td>\n      <td>27.290417</td>\n      <td>27.027250</td>\n      <td>27.608625</td>\n    </tr>\n    <tr>\n      <th>Bangalore</th>\n      <td>1160.5</td>\n      <td>1172.5</td>\n      <td>1184.5</td>\n      <td>1196.5</td>\n      <td>1208.5</td>\n      <td>1220.5</td>\n      <td>1232.5</td>\n      <td>1244.5</td>\n      <td>1256.5</td>\n      <td>1268.5</td>\n      <td>...</td>\n      <td>25.252083</td>\n      <td>25.476500</td>\n      <td>25.418250</td>\n      <td>25.464333</td>\n      <td>25.352583</td>\n      <td>25.725750</td>\n      <td>25.705250</td>\n      <td>25.362083</td>\n      <td>26.042333</td>\n      <td>26.610500</td>\n    </tr>\n    <tr>\n      <th>Bombay</th>\n      <td>1985.5</td>\n      <td>1997.5</td>\n      <td>2009.5</td>\n      <td>2021.5</td>\n      <td>2033.5</td>\n      <td>2045.5</td>\n      <td>2057.5</td>\n      <td>2069.5</td>\n      <td>2081.5</td>\n      <td>2093.5</td>\n      <td>...</td>\n      <td>27.318750</td>\n      <td>27.035750</td>\n      <td>27.381500</td>\n      <td>27.634667</td>\n      <td>27.177750</td>\n      <td>27.844500</td>\n      <td>27.765417</td>\n      <td>27.384917</td>\n      <td>27.192500</td>\n      <td>26.713000</td>\n    </tr>\n    <tr>\n      <th>Calcutta</th>\n      <td>2480.5</td>\n      <td>2492.5</td>\n      <td>2504.5</td>\n      <td>2516.5</td>\n      <td>2528.5</td>\n      <td>2540.5</td>\n      <td>2552.5</td>\n      <td>2564.5</td>\n      <td>2576.5</td>\n      <td>2588.5</td>\n      <td>...</td>\n      <td>26.634333</td>\n      <td>26.729167</td>\n      <td>26.986250</td>\n      <td>26.584583</td>\n      <td>26.522333</td>\n      <td>27.153250</td>\n      <td>27.288833</td>\n      <td>26.406917</td>\n      <td>26.935083</td>\n      <td>27.369250</td>\n    </tr>\n    <tr>\n      <th>Delhi</th>\n      <td>4295.5</td>\n      <td>4307.5</td>\n      <td>4319.5</td>\n      <td>4331.5</td>\n      <td>4343.5</td>\n      <td>4355.5</td>\n      <td>4367.5</td>\n      <td>4379.5</td>\n      <td>4391.5</td>\n      <td>4403.5</td>\n      <td>...</td>\n      <td>26.239917</td>\n      <td>25.716083</td>\n      <td>26.365917</td>\n      <td>26.145667</td>\n      <td>25.675000</td>\n      <td>26.554250</td>\n      <td>26.520250</td>\n      <td>25.629500</td>\n      <td>25.889417</td>\n      <td>26.709250</td>\n    </tr>\n  </tbody>\n</table>\n<p>10 rows × 28 columns</p>\n</div>"
     },
     "execution_count": 4,
     "metadata": {},
     "output_type": "execute_result"
    }
   ],
   "source": [
    "# Subset for Egypt, Cairo to India, Delhi\n",
    "temp_by_country_city_vs_year.loc[(\"Egypt\", \"Cairo\"):(\"India\", \"Delhi\")]"
   ],
   "metadata": {
    "collapsed": false,
    "pycharm": {
     "name": "#%%\n"
    }
   }
  },
  {
   "cell_type": "code",
   "execution_count": 6,
   "outputs": [
    {
     "data": {
      "text/plain": "MultiIndex([('Unnamed: 0', 2000),\n            ('Unnamed: 0', 2001),\n            ('Unnamed: 0', 2002),\n            ('Unnamed: 0', 2003),\n            ('Unnamed: 0', 2004),\n            ('Unnamed: 0', 2005),\n            ('Unnamed: 0', 2006),\n            ('Unnamed: 0', 2007),\n            ('Unnamed: 0', 2008),\n            ('Unnamed: 0', 2009),\n            ('Unnamed: 0', 2010),\n            ('Unnamed: 0', 2011),\n            ('Unnamed: 0', 2012),\n            ('Unnamed: 0', 2013),\n            ('avg_temp_c', 2000),\n            ('avg_temp_c', 2001),\n            ('avg_temp_c', 2002),\n            ('avg_temp_c', 2003),\n            ('avg_temp_c', 2004),\n            ('avg_temp_c', 2005),\n            ('avg_temp_c', 2006),\n            ('avg_temp_c', 2007),\n            ('avg_temp_c', 2008),\n            ('avg_temp_c', 2009),\n            ('avg_temp_c', 2010),\n            ('avg_temp_c', 2011),\n            ('avg_temp_c', 2012),\n            ('avg_temp_c', 2013)],\n           names=[None, 'year'])"
     },
     "execution_count": 6,
     "metadata": {},
     "output_type": "execute_result"
    }
   ],
   "source": [
    "temp_by_country_city_vs_year.columns"
   ],
   "metadata": {
    "collapsed": false,
    "pycharm": {
     "name": "#%%\n"
    }
   }
  },
  {
   "cell_type": "code",
   "execution_count": 5,
   "outputs": [
    {
     "data": {
      "text/plain": "Empty DataFrame\nColumns: []\nIndex: [(Egypt, Cairo), (Egypt, Gizeh), (Ethiopia, Addis Abeba), (France, Paris), (Germany, Berlin), (India, Ahmadabad), (India, Bangalore), (India, Bombay), (India, Calcutta), (India, Delhi)]",
      "text/html": "<div>\n<style scoped>\n    .dataframe tbody tr th:only-of-type {\n        vertical-align: middle;\n    }\n\n    .dataframe tbody tr th {\n        vertical-align: top;\n    }\n\n    .dataframe thead tr th {\n        text-align: left;\n    }\n\n    .dataframe thead tr:last-of-type th {\n        text-align: right;\n    }\n</style>\n<table border=\"1\" class=\"dataframe\">\n  <thead>\n    <tr>\n      <th>country</th>\n      <th>city</th>\n    </tr>\n  </thead>\n  <tbody>\n    <tr>\n      <th rowspan=\"2\" valign=\"top\">Egypt</th>\n      <th>Cairo</th>\n    </tr>\n    <tr>\n      <th>Gizeh</th>\n    </tr>\n    <tr>\n      <th>Ethiopia</th>\n      <th>Addis Abeba</th>\n    </tr>\n    <tr>\n      <th>France</th>\n      <th>Paris</th>\n    </tr>\n    <tr>\n      <th>Germany</th>\n      <th>Berlin</th>\n    </tr>\n    <tr>\n      <th rowspan=\"5\" valign=\"top\">India</th>\n      <th>Ahmadabad</th>\n    </tr>\n    <tr>\n      <th>Bangalore</th>\n    </tr>\n    <tr>\n      <th>Bombay</th>\n    </tr>\n    <tr>\n      <th>Calcutta</th>\n    </tr>\n    <tr>\n      <th>Delhi</th>\n    </tr>\n  </tbody>\n</table>\n</div>"
     },
     "execution_count": 5,
     "metadata": {},
     "output_type": "execute_result"
    }
   ],
   "source": [
    "# Subset for Egypt, Cairo to India, Delhi, and 2005 to 2010\n",
    "temp_by_country_city_vs_year.loc[(\"Egypt\", \"Cairo\"):(\"India\", \"Delhi\"), \"2005\":\"2010\"]"
   ],
   "metadata": {
    "collapsed": false,
    "pycharm": {
     "name": "#%%\n"
    }
   }
  },
  {
   "cell_type": "code",
   "execution_count": null,
   "outputs": [],
   "source": [],
   "metadata": {
    "collapsed": false,
    "pycharm": {
     "name": "#%%\n"
    }
   }
  }
 ],
 "metadata": {
  "kernelspec": {
   "display_name": "Python 3",
   "language": "python",
   "name": "python3"
  },
  "language_info": {
   "codemirror_mode": {
    "name": "ipython",
    "version": 2
   },
   "file_extension": ".py",
   "mimetype": "text/x-python",
   "name": "python",
   "nbconvert_exporter": "python",
   "pygments_lexer": "ipython2",
   "version": "2.7.6"
  }
 },
 "nbformat": 4,
 "nbformat_minor": 0
}