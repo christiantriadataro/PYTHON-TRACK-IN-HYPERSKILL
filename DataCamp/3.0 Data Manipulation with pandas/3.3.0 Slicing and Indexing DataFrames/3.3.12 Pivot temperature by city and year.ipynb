{
 "cells": [
  {
   "cell_type": "markdown",
   "source": [
    "## Slicing and Indexing DataFrames"
   ],
   "metadata": {
    "collapsed": false,
    "pycharm": {
     "name": "#%% md\n"
    }
   }
  },
  {
   "cell_type": "markdown",
   "source": [
    "#### Pivot temperature by city and year"
   ],
   "metadata": {
    "collapsed": false,
    "pycharm": {
     "name": "#%% md\n"
    }
   }
  },
  {
   "cell_type": "markdown",
   "source": [
    "It's interesting to see how temperatures for each city change over time - looking at every month results in a big table, which can be tricky to reason about. Instead, let's look at how temperatures of a date (year, month, and day) using code of the form `dataframe[\"column\"].dt.component`. For example, the month component is `dataframe[\"column\"].dt.year`. Once you have the year column, you can create a pivot table with the data aggregated by city and year, which you'll explore in the coming exercises. `pandas` is loaded as `pd`. `temperatures` is available."
   ],
   "metadata": {
    "collapsed": false,
    "pycharm": {
     "name": "#%% md\n"
    }
   }
  },
  {
   "cell_type": "code",
   "execution_count": 11,
   "outputs": [
    {
     "data": {
      "text/plain": "0       2000-01-01\n1       2000-02-01\n2       2000-03-01\n3       2000-04-01\n4       2000-05-01\n           ...    \n16495   2013-05-01\n16496   2013-06-01\n16497   2013-07-01\n16498   2013-08-01\n16499   2013-09-01\nName: date, Length: 16500, dtype: datetime64[ns]"
     },
     "execution_count": 11,
     "metadata": {},
     "output_type": "execute_result"
    }
   ],
   "source": [
    "# importing pandas\n",
    "import pandas as pd\n",
    "\n",
    "# importing sales dataset\n",
    "temperatures = pd.read_csv(\"../datasets/temperatures.csv\")\n",
    "temperatures.head()\n",
    "temperatures[\"date\"] = pd.to_datetime(temperatures[\"date\"], format=\"%Y-%m-%d\")\n",
    "temperatures[\"date\"]"
   ],
   "metadata": {
    "collapsed": false,
    "pycharm": {
     "name": "#%%\n"
    }
   }
  },
  {
   "cell_type": "markdown",
   "source": [
    "### Instructions"
   ],
   "metadata": {
    "collapsed": false,
    "pycharm": {
     "name": "#%% md\n"
    }
   }
  },
  {
   "cell_type": "markdown",
   "source": [
    "* Add a `year` column to `temperatures` from the `year` component of the `date` column.\n",
    "* Make a pivot table of the `avg_temp_c` column, with `country` and `city` as rows, and `year` as columns. Assign to `temp_by_country_city_vs_year, and *look at the result*."
   ],
   "metadata": {
    "collapsed": false,
    "pycharm": {
     "name": "#%% md\n"
    }
   }
  },
  {
   "cell_type": "code",
   "execution_count": 13,
   "outputs": [
    {
     "data": {
      "text/plain": "0        2000\n1        2000\n2        2000\n3        2000\n4        2000\n         ... \n16495    2013\n16496    2013\n16497    2013\n16498    2013\n16499    2013\nName: year, Length: 16500, dtype: int64"
     },
     "execution_count": 13,
     "metadata": {},
     "output_type": "execute_result"
    }
   ],
   "source": [
    "# Add a year column to temperature\n",
    "temperatures[\"year\"] = temperatures[\"date\"].dt.year\n",
    "temperatures[\"year\"]"
   ],
   "metadata": {
    "collapsed": false,
    "pycharm": {
     "name": "#%%\n"
    }
   }
  },
  {
   "cell_type": "code",
   "execution_count": 15,
   "outputs": [
    {
     "data": {
      "text/plain": "                               Unnamed: 0                                      \\\nyear                                 2000     2001     2002     2003     2004   \ncountry       city                                                              \nAfghanistan   Kabul                7265.5   7277.5   7289.5   7301.5   7313.5   \nAngola        Luanda               9245.5   9257.5   9269.5   9281.5   9293.5   \nAustralia     Melbourne           10070.5  10082.5  10094.5  10106.5  10118.5   \n              Sydney              14855.5  14867.5  14879.5  14891.5  14903.5   \nBangladesh    Dhaka                4460.5   4472.5   4484.5   4496.5   4508.5   \n...                                   ...      ...      ...      ...      ...   \nUnited States Chicago              3470.5   3482.5   3494.5   3506.5   3518.5   \n              Los Angeles          9080.5   9092.5   9104.5   9116.5   9128.5   \n              New York            11720.5  11732.5  11744.5  11756.5  11768.5   \nVietnam       Ho Chi Minh City     5780.5   5792.5   5804.5   5816.5   5828.5   \nZimbabwe      Harare               5450.5   5462.5   5474.5   5486.5   5498.5   \n\n                                                                             \\\nyear                               2005     2006     2007     2008     2009   \ncountry       city                                                            \nAfghanistan   Kabul              7325.5   7337.5   7349.5   7361.5   7373.5   \nAngola        Luanda             9305.5   9317.5   9329.5   9341.5   9353.5   \nAustralia     Melbourne         10130.5  10142.5  10154.5  10166.5  10178.5   \n              Sydney            14915.5  14927.5  14939.5  14951.5  14963.5   \nBangladesh    Dhaka              4520.5   4532.5   4544.5   4556.5   4568.5   \n...                                 ...      ...      ...      ...      ...   \nUnited States Chicago            3530.5   3542.5   3554.5   3566.5   3578.5   \n              Los Angeles        9140.5   9152.5   9164.5   9176.5   9188.5   \n              New York          11780.5  11792.5  11804.5  11816.5  11828.5   \nVietnam       Ho Chi Minh City   5840.5   5852.5   5864.5   5876.5   5888.5   \nZimbabwe      Harare             5510.5   5522.5   5534.5   5546.5   5558.5   \n\n                                ... avg_temp_c                        \\\nyear                            ...       2004       2005       2006   \ncountry       city              ...                                    \nAfghanistan   Kabul             ...  16.128417  14.847500  15.798500   \nAngola        Luanda            ...  24.216167  24.414583  24.138417   \nAustralia     Melbourne         ...  13.742083  14.378500  13.991083   \n              Sydney            ...  17.869667  18.028083  17.749500   \nBangladesh    Dhaka             ...  26.136083  26.193333  26.440417   \n...                             ...        ...        ...        ...   \nUnited States Chicago           ...  10.943417  11.583833  11.870500   \n              Los Angeles       ...  16.552833  16.431417  16.623083   \n              New York          ...  10.389500  10.681417  11.519250   \nVietnam       Ho Chi Minh City  ...  27.686583  27.884000  28.044000   \nZimbabwe      Harare            ...  20.307667  21.487417  20.699750   \n\n                                                                            \\\nyear                                 2007       2008       2009       2010   \ncountry       city                                                           \nAfghanistan   Kabul             15.518000  15.479250  15.093333  15.676000   \nAngola        Luanda            24.241583  24.266333  24.325083  24.440250   \nAustralia     Melbourne         14.991833  14.110583  14.647417  14.231667   \n              Sydney            18.020833  17.321083  18.175833  17.999000   \nBangladesh    Dhaka             25.951333  26.004500  26.535583  26.648167   \n...                                   ...        ...        ...        ...   \nUnited States Chicago           11.448333  10.242417  10.298333  11.815917   \n              Los Angeles       16.699917  17.014750  16.677000  15.887000   \n              New York          10.627333  10.641667  10.141833  11.357583   \nVietnam       Ho Chi Minh City  27.866667  27.611417  27.853333  28.281750   \nZimbabwe      Harare            20.746250  20.680500  20.523833  21.165833   \n\n                                                                 \nyear                                 2011       2012       2013  \ncountry       city                                               \nAfghanistan   Kabul             15.812167  14.510333  16.206125  \nAngola        Luanda            24.150750  24.240083  24.553875  \nAustralia     Melbourne         14.190917  14.268667  14.741500  \n              Sydney            17.713333  17.474333  18.089750  \nBangladesh    Dhaka             25.803250  26.283583  26.587000  \n...                                   ...        ...        ...  \nUnited States Chicago           11.214250  12.821250  11.586889  \n              Los Angeles       15.874833  17.089583  18.120667  \n              New York          11.272250  11.971500  12.163889  \nVietnam       Ho Chi Minh City  27.675417  28.248750  28.455000  \nZimbabwe      Harare            20.781750  20.523333  19.756500  \n\n[100 rows x 28 columns]",
      "text/html": "<div>\n<style scoped>\n    .dataframe tbody tr th:only-of-type {\n        vertical-align: middle;\n    }\n\n    .dataframe tbody tr th {\n        vertical-align: top;\n    }\n\n    .dataframe thead tr th {\n        text-align: left;\n    }\n\n    .dataframe thead tr:last-of-type th {\n        text-align: right;\n    }\n</style>\n<table border=\"1\" class=\"dataframe\">\n  <thead>\n    <tr>\n      <th></th>\n      <th></th>\n      <th colspan=\"10\" halign=\"left\">Unnamed: 0</th>\n      <th>...</th>\n      <th colspan=\"10\" halign=\"left\">avg_temp_c</th>\n    </tr>\n    <tr>\n      <th></th>\n      <th>year</th>\n      <th>2000</th>\n      <th>2001</th>\n      <th>2002</th>\n      <th>2003</th>\n      <th>2004</th>\n      <th>2005</th>\n      <th>2006</th>\n      <th>2007</th>\n      <th>2008</th>\n      <th>2009</th>\n      <th>...</th>\n      <th>2004</th>\n      <th>2005</th>\n      <th>2006</th>\n      <th>2007</th>\n      <th>2008</th>\n      <th>2009</th>\n      <th>2010</th>\n      <th>2011</th>\n      <th>2012</th>\n      <th>2013</th>\n    </tr>\n    <tr>\n      <th>country</th>\n      <th>city</th>\n      <th></th>\n      <th></th>\n      <th></th>\n      <th></th>\n      <th></th>\n      <th></th>\n      <th></th>\n      <th></th>\n      <th></th>\n      <th></th>\n      <th></th>\n      <th></th>\n      <th></th>\n      <th></th>\n      <th></th>\n      <th></th>\n      <th></th>\n      <th></th>\n      <th></th>\n      <th></th>\n      <th></th>\n    </tr>\n  </thead>\n  <tbody>\n    <tr>\n      <th>Afghanistan</th>\n      <th>Kabul</th>\n      <td>7265.5</td>\n      <td>7277.5</td>\n      <td>7289.5</td>\n      <td>7301.5</td>\n      <td>7313.5</td>\n      <td>7325.5</td>\n      <td>7337.5</td>\n      <td>7349.5</td>\n      <td>7361.5</td>\n      <td>7373.5</td>\n      <td>...</td>\n      <td>16.128417</td>\n      <td>14.847500</td>\n      <td>15.798500</td>\n      <td>15.518000</td>\n      <td>15.479250</td>\n      <td>15.093333</td>\n      <td>15.676000</td>\n      <td>15.812167</td>\n      <td>14.510333</td>\n      <td>16.206125</td>\n    </tr>\n    <tr>\n      <th>Angola</th>\n      <th>Luanda</th>\n      <td>9245.5</td>\n      <td>9257.5</td>\n      <td>9269.5</td>\n      <td>9281.5</td>\n      <td>9293.5</td>\n      <td>9305.5</td>\n      <td>9317.5</td>\n      <td>9329.5</td>\n      <td>9341.5</td>\n      <td>9353.5</td>\n      <td>...</td>\n      <td>24.216167</td>\n      <td>24.414583</td>\n      <td>24.138417</td>\n      <td>24.241583</td>\n      <td>24.266333</td>\n      <td>24.325083</td>\n      <td>24.440250</td>\n      <td>24.150750</td>\n      <td>24.240083</td>\n      <td>24.553875</td>\n    </tr>\n    <tr>\n      <th rowspan=\"2\" valign=\"top\">Australia</th>\n      <th>Melbourne</th>\n      <td>10070.5</td>\n      <td>10082.5</td>\n      <td>10094.5</td>\n      <td>10106.5</td>\n      <td>10118.5</td>\n      <td>10130.5</td>\n      <td>10142.5</td>\n      <td>10154.5</td>\n      <td>10166.5</td>\n      <td>10178.5</td>\n      <td>...</td>\n      <td>13.742083</td>\n      <td>14.378500</td>\n      <td>13.991083</td>\n      <td>14.991833</td>\n      <td>14.110583</td>\n      <td>14.647417</td>\n      <td>14.231667</td>\n      <td>14.190917</td>\n      <td>14.268667</td>\n      <td>14.741500</td>\n    </tr>\n    <tr>\n      <th>Sydney</th>\n      <td>14855.5</td>\n      <td>14867.5</td>\n      <td>14879.5</td>\n      <td>14891.5</td>\n      <td>14903.5</td>\n      <td>14915.5</td>\n      <td>14927.5</td>\n      <td>14939.5</td>\n      <td>14951.5</td>\n      <td>14963.5</td>\n      <td>...</td>\n      <td>17.869667</td>\n      <td>18.028083</td>\n      <td>17.749500</td>\n      <td>18.020833</td>\n      <td>17.321083</td>\n      <td>18.175833</td>\n      <td>17.999000</td>\n      <td>17.713333</td>\n      <td>17.474333</td>\n      <td>18.089750</td>\n    </tr>\n    <tr>\n      <th>Bangladesh</th>\n      <th>Dhaka</th>\n      <td>4460.5</td>\n      <td>4472.5</td>\n      <td>4484.5</td>\n      <td>4496.5</td>\n      <td>4508.5</td>\n      <td>4520.5</td>\n      <td>4532.5</td>\n      <td>4544.5</td>\n      <td>4556.5</td>\n      <td>4568.5</td>\n      <td>...</td>\n      <td>26.136083</td>\n      <td>26.193333</td>\n      <td>26.440417</td>\n      <td>25.951333</td>\n      <td>26.004500</td>\n      <td>26.535583</td>\n      <td>26.648167</td>\n      <td>25.803250</td>\n      <td>26.283583</td>\n      <td>26.587000</td>\n    </tr>\n    <tr>\n      <th>...</th>\n      <th>...</th>\n      <td>...</td>\n      <td>...</td>\n      <td>...</td>\n      <td>...</td>\n      <td>...</td>\n      <td>...</td>\n      <td>...</td>\n      <td>...</td>\n      <td>...</td>\n      <td>...</td>\n      <td>...</td>\n      <td>...</td>\n      <td>...</td>\n      <td>...</td>\n      <td>...</td>\n      <td>...</td>\n      <td>...</td>\n      <td>...</td>\n      <td>...</td>\n      <td>...</td>\n      <td>...</td>\n    </tr>\n    <tr>\n      <th rowspan=\"3\" valign=\"top\">United States</th>\n      <th>Chicago</th>\n      <td>3470.5</td>\n      <td>3482.5</td>\n      <td>3494.5</td>\n      <td>3506.5</td>\n      <td>3518.5</td>\n      <td>3530.5</td>\n      <td>3542.5</td>\n      <td>3554.5</td>\n      <td>3566.5</td>\n      <td>3578.5</td>\n      <td>...</td>\n      <td>10.943417</td>\n      <td>11.583833</td>\n      <td>11.870500</td>\n      <td>11.448333</td>\n      <td>10.242417</td>\n      <td>10.298333</td>\n      <td>11.815917</td>\n      <td>11.214250</td>\n      <td>12.821250</td>\n      <td>11.586889</td>\n    </tr>\n    <tr>\n      <th>Los Angeles</th>\n      <td>9080.5</td>\n      <td>9092.5</td>\n      <td>9104.5</td>\n      <td>9116.5</td>\n      <td>9128.5</td>\n      <td>9140.5</td>\n      <td>9152.5</td>\n      <td>9164.5</td>\n      <td>9176.5</td>\n      <td>9188.5</td>\n      <td>...</td>\n      <td>16.552833</td>\n      <td>16.431417</td>\n      <td>16.623083</td>\n      <td>16.699917</td>\n      <td>17.014750</td>\n      <td>16.677000</td>\n      <td>15.887000</td>\n      <td>15.874833</td>\n      <td>17.089583</td>\n      <td>18.120667</td>\n    </tr>\n    <tr>\n      <th>New York</th>\n      <td>11720.5</td>\n      <td>11732.5</td>\n      <td>11744.5</td>\n      <td>11756.5</td>\n      <td>11768.5</td>\n      <td>11780.5</td>\n      <td>11792.5</td>\n      <td>11804.5</td>\n      <td>11816.5</td>\n      <td>11828.5</td>\n      <td>...</td>\n      <td>10.389500</td>\n      <td>10.681417</td>\n      <td>11.519250</td>\n      <td>10.627333</td>\n      <td>10.641667</td>\n      <td>10.141833</td>\n      <td>11.357583</td>\n      <td>11.272250</td>\n      <td>11.971500</td>\n      <td>12.163889</td>\n    </tr>\n    <tr>\n      <th>Vietnam</th>\n      <th>Ho Chi Minh City</th>\n      <td>5780.5</td>\n      <td>5792.5</td>\n      <td>5804.5</td>\n      <td>5816.5</td>\n      <td>5828.5</td>\n      <td>5840.5</td>\n      <td>5852.5</td>\n      <td>5864.5</td>\n      <td>5876.5</td>\n      <td>5888.5</td>\n      <td>...</td>\n      <td>27.686583</td>\n      <td>27.884000</td>\n      <td>28.044000</td>\n      <td>27.866667</td>\n      <td>27.611417</td>\n      <td>27.853333</td>\n      <td>28.281750</td>\n      <td>27.675417</td>\n      <td>28.248750</td>\n      <td>28.455000</td>\n    </tr>\n    <tr>\n      <th>Zimbabwe</th>\n      <th>Harare</th>\n      <td>5450.5</td>\n      <td>5462.5</td>\n      <td>5474.5</td>\n      <td>5486.5</td>\n      <td>5498.5</td>\n      <td>5510.5</td>\n      <td>5522.5</td>\n      <td>5534.5</td>\n      <td>5546.5</td>\n      <td>5558.5</td>\n      <td>...</td>\n      <td>20.307667</td>\n      <td>21.487417</td>\n      <td>20.699750</td>\n      <td>20.746250</td>\n      <td>20.680500</td>\n      <td>20.523833</td>\n      <td>21.165833</td>\n      <td>20.781750</td>\n      <td>20.523333</td>\n      <td>19.756500</td>\n    </tr>\n  </tbody>\n</table>\n<p>100 rows × 28 columns</p>\n</div>"
     },
     "execution_count": 15,
     "metadata": {},
     "output_type": "execute_result"
    }
   ],
   "source": [
    "# Pivot avg_temp_c by country and city vs year\n",
    "temp_by_country_city_vs_year = temperatures.pivot_table(index=[\"country\", \"city\"], columns=\"year\")\n",
    "temp_by_country_city_vs_year"
   ],
   "metadata": {
    "collapsed": false,
    "pycharm": {
     "name": "#%%\n"
    }
   }
  }
 ],
 "metadata": {
  "kernelspec": {
   "display_name": "Python 3",
   "language": "python",
   "name": "python3"
  },
  "language_info": {
   "codemirror_mode": {
    "name": "ipython",
    "version": 2
   },
   "file_extension": ".py",
   "mimetype": "text/x-python",
   "name": "python",
   "nbconvert_exporter": "python",
   "pygments_lexer": "ipython2",
   "version": "2.7.6"
  }
 },
 "nbformat": 4,
 "nbformat_minor": 0
}