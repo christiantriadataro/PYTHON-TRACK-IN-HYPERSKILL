{
 "cells": [
  {
   "cell_type": "markdown",
   "source": [
    "## Slicing and Indexing DataFrames"
   ],
   "metadata": {
    "collapsed": false,
    "pycharm": {
     "name": "#%% md\n"
    }
   }
  },
  {
   "cell_type": "markdown",
   "source": [
    "#### Slicing index values"
   ],
   "metadata": {
    "collapsed": false,
    "pycharm": {
     "name": "#%% md\n"
    }
   }
  },
  {
   "cell_type": "markdown",
   "source": [
    "Slicing lets you select consecutive elements of an object using `first:last` syntax. DataFrames can be sliced by index values or by row/column number; we'll start with the first case. This involves slicing inside the `.loc[]` method. Compared to slicing lists, there are a few things to remember. You can only slice an index if the index is sorted (using `.sort_index()`).\n",
    "To slice at the outer level, `first` and `last` can be strings.\n",
    "To slice at inner levels, `first` and `last` should be tuples.\n",
    "If you pass a single slice to `.loc[]`, it will slice the rows.\n",
    "`pandas` is loaded as `pd`.\n",
    "`temperatures_ind` has country and city in the index, and is available."
   ],
   "metadata": {
    "collapsed": false,
    "pycharm": {
     "name": "#%% md\n"
    }
   }
  },
  {
   "cell_type": "code",
   "execution_count": 1,
   "outputs": [
    {
     "data": {
      "text/plain": "                       Unnamed: 0        date  avg_temp_c\ncountry       city                                       \nCôte D'Ivoire Abidjan           0  2000-01-01      27.293\n              Abidjan           1  2000-02-01      27.685\n              Abidjan           2  2000-03-01      29.061\n              Abidjan           3  2000-04-01      28.162\n              Abidjan           4  2000-05-01      27.547",
      "text/html": "<div>\n<style scoped>\n    .dataframe tbody tr th:only-of-type {\n        vertical-align: middle;\n    }\n\n    .dataframe tbody tr th {\n        vertical-align: top;\n    }\n\n    .dataframe thead th {\n        text-align: right;\n    }\n</style>\n<table border=\"1\" class=\"dataframe\">\n  <thead>\n    <tr style=\"text-align: right;\">\n      <th></th>\n      <th></th>\n      <th>Unnamed: 0</th>\n      <th>date</th>\n      <th>avg_temp_c</th>\n    </tr>\n    <tr>\n      <th>country</th>\n      <th>city</th>\n      <th></th>\n      <th></th>\n      <th></th>\n    </tr>\n  </thead>\n  <tbody>\n    <tr>\n      <th rowspan=\"5\" valign=\"top\">Côte D'Ivoire</th>\n      <th>Abidjan</th>\n      <td>0</td>\n      <td>2000-01-01</td>\n      <td>27.293</td>\n    </tr>\n    <tr>\n      <th>Abidjan</th>\n      <td>1</td>\n      <td>2000-02-01</td>\n      <td>27.685</td>\n    </tr>\n    <tr>\n      <th>Abidjan</th>\n      <td>2</td>\n      <td>2000-03-01</td>\n      <td>29.061</td>\n    </tr>\n    <tr>\n      <th>Abidjan</th>\n      <td>3</td>\n      <td>2000-04-01</td>\n      <td>28.162</td>\n    </tr>\n    <tr>\n      <th>Abidjan</th>\n      <td>4</td>\n      <td>2000-05-01</td>\n      <td>27.547</td>\n    </tr>\n  </tbody>\n</table>\n</div>"
     },
     "execution_count": 1,
     "metadata": {},
     "output_type": "execute_result"
    }
   ],
   "source": [
    "# importing pandas\n",
    "import pandas as pd\n",
    "\n",
    "# importing sales dataset\n",
    "temperatures = pd.read_csv(\"../datasets/temperatures.csv\")\n",
    "temperatures_ind = temperatures.set_index([\"country\", \"city\"])\n",
    "temperatures_ind.head()"
   ],
   "metadata": {
    "collapsed": false,
    "pycharm": {
     "name": "#%%\n"
    }
   }
  },
  {
   "cell_type": "markdown",
   "source": [
    "### Instructions"
   ],
   "metadata": {
    "collapsed": false,
    "pycharm": {
     "name": "#%% md\n"
    }
   }
  },
  {
   "cell_type": "markdown",
   "source": [
    "* Sort the index of `temperatures_ind`.\n",
    "* Using slicing with `.loc[]` to get these subsets:\n",
    "  * from Pakistan to Russia.\n",
    "  * from Lahore to Moscow. (This will return nonsense).\n",
    "  * from Pakistan, Lahore to Russia, Moscow."
   ],
   "metadata": {
    "collapsed": false,
    "pycharm": {
     "name": "#%% md\n"
    }
   }
  },
  {
   "cell_type": "code",
   "execution_count": 3,
   "outputs": [
    {
     "data": {
      "text/plain": "                    Unnamed: 0        date  avg_temp_c\ncountry     city                                      \nAfghanistan Kabul         7260  2000-01-01       3.326\n            Kabul         7261  2000-02-01       3.454\n            Kabul         7262  2000-03-01       9.612\n            Kabul         7263  2000-04-01      17.925\n            Kabul         7264  2000-05-01      24.658\n...                        ...         ...         ...\nZimbabwe    Harare        5605  2013-05-01      18.298\n            Harare        5606  2013-06-01      17.020\n            Harare        5607  2013-07-01      16.299\n            Harare        5608  2013-08-01      19.232\n            Harare        5609  2013-09-01         NaN\n\n[16500 rows x 3 columns]",
      "text/html": "<div>\n<style scoped>\n    .dataframe tbody tr th:only-of-type {\n        vertical-align: middle;\n    }\n\n    .dataframe tbody tr th {\n        vertical-align: top;\n    }\n\n    .dataframe thead th {\n        text-align: right;\n    }\n</style>\n<table border=\"1\" class=\"dataframe\">\n  <thead>\n    <tr style=\"text-align: right;\">\n      <th></th>\n      <th></th>\n      <th>Unnamed: 0</th>\n      <th>date</th>\n      <th>avg_temp_c</th>\n    </tr>\n    <tr>\n      <th>country</th>\n      <th>city</th>\n      <th></th>\n      <th></th>\n      <th></th>\n    </tr>\n  </thead>\n  <tbody>\n    <tr>\n      <th rowspan=\"5\" valign=\"top\">Afghanistan</th>\n      <th>Kabul</th>\n      <td>7260</td>\n      <td>2000-01-01</td>\n      <td>3.326</td>\n    </tr>\n    <tr>\n      <th>Kabul</th>\n      <td>7261</td>\n      <td>2000-02-01</td>\n      <td>3.454</td>\n    </tr>\n    <tr>\n      <th>Kabul</th>\n      <td>7262</td>\n      <td>2000-03-01</td>\n      <td>9.612</td>\n    </tr>\n    <tr>\n      <th>Kabul</th>\n      <td>7263</td>\n      <td>2000-04-01</td>\n      <td>17.925</td>\n    </tr>\n    <tr>\n      <th>Kabul</th>\n      <td>7264</td>\n      <td>2000-05-01</td>\n      <td>24.658</td>\n    </tr>\n    <tr>\n      <th>...</th>\n      <th>...</th>\n      <td>...</td>\n      <td>...</td>\n      <td>...</td>\n    </tr>\n    <tr>\n      <th rowspan=\"5\" valign=\"top\">Zimbabwe</th>\n      <th>Harare</th>\n      <td>5605</td>\n      <td>2013-05-01</td>\n      <td>18.298</td>\n    </tr>\n    <tr>\n      <th>Harare</th>\n      <td>5606</td>\n      <td>2013-06-01</td>\n      <td>17.020</td>\n    </tr>\n    <tr>\n      <th>Harare</th>\n      <td>5607</td>\n      <td>2013-07-01</td>\n      <td>16.299</td>\n    </tr>\n    <tr>\n      <th>Harare</th>\n      <td>5608</td>\n      <td>2013-08-01</td>\n      <td>19.232</td>\n    </tr>\n    <tr>\n      <th>Harare</th>\n      <td>5609</td>\n      <td>2013-09-01</td>\n      <td>NaN</td>\n    </tr>\n  </tbody>\n</table>\n<p>16500 rows × 3 columns</p>\n</div>"
     },
     "execution_count": 3,
     "metadata": {},
     "output_type": "execute_result"
    }
   ],
   "source": [
    "# Sort the index of temperatures_ind\n",
    "temperatures_srt = temperatures_ind.sort_index()\n",
    "temperatures_srt"
   ],
   "metadata": {
    "collapsed": false,
    "pycharm": {
     "name": "#%%\n"
    }
   }
  },
  {
   "cell_type": "code",
   "execution_count": 4,
   "outputs": [
    {
     "data": {
      "text/plain": "                           Unnamed: 0        date  avg_temp_c\ncountry  city                                                \nPakistan Faisalabad              4785  2000-01-01      12.792\n         Faisalabad              4786  2000-02-01      14.339\n         Faisalabad              4787  2000-03-01      20.309\n         Faisalabad              4788  2000-04-01      29.072\n         Faisalabad              4789  2000-05-01      34.845\n...                               ...         ...         ...\nRussia   Saint Petersburg       13360  2013-05-01      12.355\n         Saint Petersburg       13361  2013-06-01      17.185\n         Saint Petersburg       13362  2013-07-01      17.234\n         Saint Petersburg       13363  2013-08-01      17.153\n         Saint Petersburg       13364  2013-09-01         NaN\n\n[1155 rows x 3 columns]",
      "text/html": "<div>\n<style scoped>\n    .dataframe tbody tr th:only-of-type {\n        vertical-align: middle;\n    }\n\n    .dataframe tbody tr th {\n        vertical-align: top;\n    }\n\n    .dataframe thead th {\n        text-align: right;\n    }\n</style>\n<table border=\"1\" class=\"dataframe\">\n  <thead>\n    <tr style=\"text-align: right;\">\n      <th></th>\n      <th></th>\n      <th>Unnamed: 0</th>\n      <th>date</th>\n      <th>avg_temp_c</th>\n    </tr>\n    <tr>\n      <th>country</th>\n      <th>city</th>\n      <th></th>\n      <th></th>\n      <th></th>\n    </tr>\n  </thead>\n  <tbody>\n    <tr>\n      <th rowspan=\"5\" valign=\"top\">Pakistan</th>\n      <th>Faisalabad</th>\n      <td>4785</td>\n      <td>2000-01-01</td>\n      <td>12.792</td>\n    </tr>\n    <tr>\n      <th>Faisalabad</th>\n      <td>4786</td>\n      <td>2000-02-01</td>\n      <td>14.339</td>\n    </tr>\n    <tr>\n      <th>Faisalabad</th>\n      <td>4787</td>\n      <td>2000-03-01</td>\n      <td>20.309</td>\n    </tr>\n    <tr>\n      <th>Faisalabad</th>\n      <td>4788</td>\n      <td>2000-04-01</td>\n      <td>29.072</td>\n    </tr>\n    <tr>\n      <th>Faisalabad</th>\n      <td>4789</td>\n      <td>2000-05-01</td>\n      <td>34.845</td>\n    </tr>\n    <tr>\n      <th>...</th>\n      <th>...</th>\n      <td>...</td>\n      <td>...</td>\n      <td>...</td>\n    </tr>\n    <tr>\n      <th rowspan=\"5\" valign=\"top\">Russia</th>\n      <th>Saint Petersburg</th>\n      <td>13360</td>\n      <td>2013-05-01</td>\n      <td>12.355</td>\n    </tr>\n    <tr>\n      <th>Saint Petersburg</th>\n      <td>13361</td>\n      <td>2013-06-01</td>\n      <td>17.185</td>\n    </tr>\n    <tr>\n      <th>Saint Petersburg</th>\n      <td>13362</td>\n      <td>2013-07-01</td>\n      <td>17.234</td>\n    </tr>\n    <tr>\n      <th>Saint Petersburg</th>\n      <td>13363</td>\n      <td>2013-08-01</td>\n      <td>17.153</td>\n    </tr>\n    <tr>\n      <th>Saint Petersburg</th>\n      <td>13364</td>\n      <td>2013-09-01</td>\n      <td>NaN</td>\n    </tr>\n  </tbody>\n</table>\n<p>1155 rows × 3 columns</p>\n</div>"
     },
     "execution_count": 4,
     "metadata": {},
     "output_type": "execute_result"
    }
   ],
   "source": [
    "# Subset rows from Pakistan to Russia\n",
    "temperatures_srt.loc[\"Pakistan\":\"Russia\"]"
   ],
   "metadata": {
    "collapsed": false,
    "pycharm": {
     "name": "#%%\n"
    }
   }
  },
  {
   "cell_type": "code",
   "execution_count": 5,
   "outputs": [
    {
     "data": {
      "text/plain": "                    Unnamed: 0        date  avg_temp_c\ncountry city                                          \nMexico  Mexico           10230  2000-01-01      12.694\n        Mexico           10231  2000-02-01      14.677\n        Mexico           10232  2000-03-01      17.376\n        Mexico           10233  2000-04-01      18.294\n        Mexico           10234  2000-05-01      18.562\n...                        ...         ...         ...\nMorocco Casablanca        3130  2013-05-01      19.217\n        Casablanca        3131  2013-06-01      23.649\n        Casablanca        3132  2013-07-01      27.488\n        Casablanca        3133  2013-08-01      27.952\n        Casablanca        3134  2013-09-01         NaN\n\n[330 rows x 3 columns]",
      "text/html": "<div>\n<style scoped>\n    .dataframe tbody tr th:only-of-type {\n        vertical-align: middle;\n    }\n\n    .dataframe tbody tr th {\n        vertical-align: top;\n    }\n\n    .dataframe thead th {\n        text-align: right;\n    }\n</style>\n<table border=\"1\" class=\"dataframe\">\n  <thead>\n    <tr style=\"text-align: right;\">\n      <th></th>\n      <th></th>\n      <th>Unnamed: 0</th>\n      <th>date</th>\n      <th>avg_temp_c</th>\n    </tr>\n    <tr>\n      <th>country</th>\n      <th>city</th>\n      <th></th>\n      <th></th>\n      <th></th>\n    </tr>\n  </thead>\n  <tbody>\n    <tr>\n      <th rowspan=\"5\" valign=\"top\">Mexico</th>\n      <th>Mexico</th>\n      <td>10230</td>\n      <td>2000-01-01</td>\n      <td>12.694</td>\n    </tr>\n    <tr>\n      <th>Mexico</th>\n      <td>10231</td>\n      <td>2000-02-01</td>\n      <td>14.677</td>\n    </tr>\n    <tr>\n      <th>Mexico</th>\n      <td>10232</td>\n      <td>2000-03-01</td>\n      <td>17.376</td>\n    </tr>\n    <tr>\n      <th>Mexico</th>\n      <td>10233</td>\n      <td>2000-04-01</td>\n      <td>18.294</td>\n    </tr>\n    <tr>\n      <th>Mexico</th>\n      <td>10234</td>\n      <td>2000-05-01</td>\n      <td>18.562</td>\n    </tr>\n    <tr>\n      <th>...</th>\n      <th>...</th>\n      <td>...</td>\n      <td>...</td>\n      <td>...</td>\n    </tr>\n    <tr>\n      <th rowspan=\"5\" valign=\"top\">Morocco</th>\n      <th>Casablanca</th>\n      <td>3130</td>\n      <td>2013-05-01</td>\n      <td>19.217</td>\n    </tr>\n    <tr>\n      <th>Casablanca</th>\n      <td>3131</td>\n      <td>2013-06-01</td>\n      <td>23.649</td>\n    </tr>\n    <tr>\n      <th>Casablanca</th>\n      <td>3132</td>\n      <td>2013-07-01</td>\n      <td>27.488</td>\n    </tr>\n    <tr>\n      <th>Casablanca</th>\n      <td>3133</td>\n      <td>2013-08-01</td>\n      <td>27.952</td>\n    </tr>\n    <tr>\n      <th>Casablanca</th>\n      <td>3134</td>\n      <td>2013-09-01</td>\n      <td>NaN</td>\n    </tr>\n  </tbody>\n</table>\n<p>330 rows × 3 columns</p>\n</div>"
     },
     "execution_count": 5,
     "metadata": {},
     "output_type": "execute_result"
    }
   ],
   "source": [
    "# Try to subset rows from Lahore to Moscow\n",
    "temperatures_srt.loc[\"Lahore\":\"Moscow\"]"
   ],
   "metadata": {
    "collapsed": false,
    "pycharm": {
     "name": "#%%\n"
    }
   }
  },
  {
   "cell_type": "code",
   "execution_count": 6,
   "outputs": [
    {
     "data": {
      "text/plain": "                 Unnamed: 0        date  avg_temp_c\ncountry  city                                      \nPakistan Lahore        8415  2000-01-01      12.792\n         Lahore        8416  2000-02-01      14.339\n         Lahore        8417  2000-03-01      20.309\n         Lahore        8418  2000-04-01      29.072\n         Lahore        8419  2000-05-01      34.845\n...                     ...         ...         ...\nRussia   Moscow       10885  2013-05-01      16.152\n         Moscow       10886  2013-06-01      18.718\n         Moscow       10887  2013-07-01      18.136\n         Moscow       10888  2013-08-01      17.485\n         Moscow       10889  2013-09-01         NaN\n\n[660 rows x 3 columns]",
      "text/html": "<div>\n<style scoped>\n    .dataframe tbody tr th:only-of-type {\n        vertical-align: middle;\n    }\n\n    .dataframe tbody tr th {\n        vertical-align: top;\n    }\n\n    .dataframe thead th {\n        text-align: right;\n    }\n</style>\n<table border=\"1\" class=\"dataframe\">\n  <thead>\n    <tr style=\"text-align: right;\">\n      <th></th>\n      <th></th>\n      <th>Unnamed: 0</th>\n      <th>date</th>\n      <th>avg_temp_c</th>\n    </tr>\n    <tr>\n      <th>country</th>\n      <th>city</th>\n      <th></th>\n      <th></th>\n      <th></th>\n    </tr>\n  </thead>\n  <tbody>\n    <tr>\n      <th rowspan=\"5\" valign=\"top\">Pakistan</th>\n      <th>Lahore</th>\n      <td>8415</td>\n      <td>2000-01-01</td>\n      <td>12.792</td>\n    </tr>\n    <tr>\n      <th>Lahore</th>\n      <td>8416</td>\n      <td>2000-02-01</td>\n      <td>14.339</td>\n    </tr>\n    <tr>\n      <th>Lahore</th>\n      <td>8417</td>\n      <td>2000-03-01</td>\n      <td>20.309</td>\n    </tr>\n    <tr>\n      <th>Lahore</th>\n      <td>8418</td>\n      <td>2000-04-01</td>\n      <td>29.072</td>\n    </tr>\n    <tr>\n      <th>Lahore</th>\n      <td>8419</td>\n      <td>2000-05-01</td>\n      <td>34.845</td>\n    </tr>\n    <tr>\n      <th>...</th>\n      <th>...</th>\n      <td>...</td>\n      <td>...</td>\n      <td>...</td>\n    </tr>\n    <tr>\n      <th rowspan=\"5\" valign=\"top\">Russia</th>\n      <th>Moscow</th>\n      <td>10885</td>\n      <td>2013-05-01</td>\n      <td>16.152</td>\n    </tr>\n    <tr>\n      <th>Moscow</th>\n      <td>10886</td>\n      <td>2013-06-01</td>\n      <td>18.718</td>\n    </tr>\n    <tr>\n      <th>Moscow</th>\n      <td>10887</td>\n      <td>2013-07-01</td>\n      <td>18.136</td>\n    </tr>\n    <tr>\n      <th>Moscow</th>\n      <td>10888</td>\n      <td>2013-08-01</td>\n      <td>17.485</td>\n    </tr>\n    <tr>\n      <th>Moscow</th>\n      <td>10889</td>\n      <td>2013-09-01</td>\n      <td>NaN</td>\n    </tr>\n  </tbody>\n</table>\n<p>660 rows × 3 columns</p>\n</div>"
     },
     "execution_count": 6,
     "metadata": {},
     "output_type": "execute_result"
    }
   ],
   "source": [
    "# Subset rows from Pakistan, Lahore to Russia, Moscow\n",
    "temperatures_srt.loc[(\"Pakistan\", \"Lahore\"):(\"Russia\", \"Moscow\")]"
   ],
   "metadata": {
    "collapsed": false,
    "pycharm": {
     "name": "#%%\n"
    }
   }
  },
  {
   "cell_type": "code",
   "execution_count": null,
   "outputs": [],
   "source": [],
   "metadata": {
    "collapsed": false,
    "pycharm": {
     "name": "#%%\n"
    }
   }
  }
 ],
 "metadata": {
  "kernelspec": {
   "display_name": "Python 3",
   "language": "python",
   "name": "python3"
  },
  "language_info": {
   "codemirror_mode": {
    "name": "ipython",
    "version": 2
   },
   "file_extension": ".py",
   "mimetype": "text/x-python",
   "name": "python",
   "nbconvert_exporter": "python",
   "pygments_lexer": "ipython2",
   "version": "2.7.6"
  }
 },
 "nbformat": 4,
 "nbformat_minor": 0
}