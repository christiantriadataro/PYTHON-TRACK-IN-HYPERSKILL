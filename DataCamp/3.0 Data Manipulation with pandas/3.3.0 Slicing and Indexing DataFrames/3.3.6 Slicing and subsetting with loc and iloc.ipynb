{
 "cells": [
  {
   "cell_type": "markdown",
   "source": [
    "## Slicing and Indexing DataFrames"
   ],
   "metadata": {
    "collapsed": false,
    "pycharm": {
     "name": "#%% md\n"
    }
   }
  },
  {
   "cell_type": "code",
   "execution_count": 30,
   "outputs": [
    {
     "data": {
      "text/plain": "   Unnamed: 0        date     city        country  avg_temp_c\n0           0  2000-01-01  Abidjan  Côte D'Ivoire      27.293\n1           1  2000-02-01  Abidjan  Côte D'Ivoire      27.685\n2           2  2000-03-01  Abidjan  Côte D'Ivoire      29.061\n3           3  2000-04-01  Abidjan  Côte D'Ivoire      28.162\n4           4  2000-05-01  Abidjan  Côte D'Ivoire      27.547",
      "text/html": "<div>\n<style scoped>\n    .dataframe tbody tr th:only-of-type {\n        vertical-align: middle;\n    }\n\n    .dataframe tbody tr th {\n        vertical-align: top;\n    }\n\n    .dataframe thead th {\n        text-align: right;\n    }\n</style>\n<table border=\"1\" class=\"dataframe\">\n  <thead>\n    <tr style=\"text-align: right;\">\n      <th></th>\n      <th>Unnamed: 0</th>\n      <th>date</th>\n      <th>city</th>\n      <th>country</th>\n      <th>avg_temp_c</th>\n    </tr>\n  </thead>\n  <tbody>\n    <tr>\n      <th>0</th>\n      <td>0</td>\n      <td>2000-01-01</td>\n      <td>Abidjan</td>\n      <td>Côte D'Ivoire</td>\n      <td>27.293</td>\n    </tr>\n    <tr>\n      <th>1</th>\n      <td>1</td>\n      <td>2000-02-01</td>\n      <td>Abidjan</td>\n      <td>Côte D'Ivoire</td>\n      <td>27.685</td>\n    </tr>\n    <tr>\n      <th>2</th>\n      <td>2</td>\n      <td>2000-03-01</td>\n      <td>Abidjan</td>\n      <td>Côte D'Ivoire</td>\n      <td>29.061</td>\n    </tr>\n    <tr>\n      <th>3</th>\n      <td>3</td>\n      <td>2000-04-01</td>\n      <td>Abidjan</td>\n      <td>Côte D'Ivoire</td>\n      <td>28.162</td>\n    </tr>\n    <tr>\n      <th>4</th>\n      <td>4</td>\n      <td>2000-05-01</td>\n      <td>Abidjan</td>\n      <td>Côte D'Ivoire</td>\n      <td>27.547</td>\n    </tr>\n  </tbody>\n</table>\n</div>"
     },
     "execution_count": 30,
     "metadata": {},
     "output_type": "execute_result"
    }
   ],
   "source": [
    "# importing pandas\n",
    "import pandas as pd\n",
    "\n",
    "# importing sales dataset\n",
    "temperatures = pd.read_csv(\"../datasets/temperatures.csv\")\n",
    "temperatures.head()"
   ],
   "metadata": {
    "collapsed": false,
    "pycharm": {
     "name": "#%%\n"
    }
   }
  },
  {
   "cell_type": "code",
   "execution_count": 13,
   "outputs": [
    {
     "data": {
      "text/plain": "0            Abidjan\n165      Addis Abeba\n330        Ahmadabad\n495           Aleppo\n660       Alexandria\n            ...     \n15675          Tokyo\n15840        Toronto\n16005     Umm Durman\n16170          Wuhan\n16335           Xian\nName: city, Length: 100, dtype: object"
     },
     "execution_count": 13,
     "metadata": {},
     "output_type": "execute_result"
    }
   ],
   "source": [
    "temp_cities = temperatures[\"city\"]\n",
    "temp_cities.drop_duplicates()"
   ],
   "metadata": {
    "collapsed": false,
    "pycharm": {
     "name": "#%%\n"
    }
   }
  },
  {
   "cell_type": "markdown",
   "source": [
    "#### Slicing lists"
   ],
   "metadata": {
    "collapsed": false,
    "pycharm": {
     "name": "#%% md\n"
    }
   }
  },
  {
   "cell_type": "code",
   "execution_count": 14,
   "metadata": {
    "collapsed": true,
    "pycharm": {
     "name": "#%%\n"
    }
   },
   "outputs": [],
   "source": [
    "cities = [\"Tokyo\", \"Xian\", \"Taipei\", \"Sydney\", \"Seoul\", \"Rome\", \"Paris\", \"New York\"]"
   ]
  },
  {
   "cell_type": "code",
   "execution_count": 8,
   "outputs": [
    {
     "data": {
      "text/plain": "['Taipei', 'Sydney', 'Seoul']"
     },
     "execution_count": 8,
     "metadata": {},
     "output_type": "execute_result"
    }
   ],
   "source": [
    "cities[2:5]"
   ],
   "metadata": {
    "collapsed": false,
    "pycharm": {
     "name": "#%%\n"
    }
   }
  },
  {
   "cell_type": "code",
   "execution_count": 9,
   "outputs": [
    {
     "data": {
      "text/plain": "['Tokyo', 'Xian', 'Taipei']"
     },
     "execution_count": 9,
     "metadata": {},
     "output_type": "execute_result"
    }
   ],
   "source": [
    "cities[:3]"
   ],
   "metadata": {
    "collapsed": false,
    "pycharm": {
     "name": "#%%\n"
    }
   }
  },
  {
   "cell_type": "code",
   "execution_count": 10,
   "outputs": [
    {
     "data": {
      "text/plain": "['Tokyo', 'Xian', 'Taipei', 'Sydney', 'Seoul', 'Rome', 'Paris', 'New York']"
     },
     "execution_count": 10,
     "metadata": {},
     "output_type": "execute_result"
    }
   ],
   "source": [
    "cities[:]"
   ],
   "metadata": {
    "collapsed": false,
    "pycharm": {
     "name": "#%%\n"
    }
   }
  },
  {
   "cell_type": "markdown",
   "source": [],
   "metadata": {
    "collapsed": false,
    "pycharm": {
     "name": "#%% md\n"
    }
   }
  },
  {
   "cell_type": "markdown",
   "source": [
    "#### Sort the index before you slice"
   ],
   "metadata": {
    "collapsed": false,
    "pycharm": {
     "name": "#%% md\n"
    }
   }
  },
  {
   "cell_type": "code",
   "execution_count": 24,
   "outputs": [
    {
     "data": {
      "text/plain": "                       Unnamed: 0        date  avg_temp_c\ncity    country                                          \nAbidjan Côte D'Ivoire           0  2000-01-01      27.293\n        Côte D'Ivoire           1  2000-02-01      27.685\n        Côte D'Ivoire           2  2000-03-01      29.061\n        Côte D'Ivoire           3  2000-04-01      28.162\n        Côte D'Ivoire           4  2000-05-01      27.547\n...                           ...         ...         ...\nXian    China               16495  2013-05-01      18.979\n        China               16496  2013-06-01      23.522\n        China               16497  2013-07-01      25.251\n        China               16498  2013-08-01      24.528\n        China               16499  2013-09-01         NaN\n\n[16500 rows x 3 columns]",
      "text/html": "<div>\n<style scoped>\n    .dataframe tbody tr th:only-of-type {\n        vertical-align: middle;\n    }\n\n    .dataframe tbody tr th {\n        vertical-align: top;\n    }\n\n    .dataframe thead th {\n        text-align: right;\n    }\n</style>\n<table border=\"1\" class=\"dataframe\">\n  <thead>\n    <tr style=\"text-align: right;\">\n      <th></th>\n      <th></th>\n      <th>Unnamed: 0</th>\n      <th>date</th>\n      <th>avg_temp_c</th>\n    </tr>\n    <tr>\n      <th>city</th>\n      <th>country</th>\n      <th></th>\n      <th></th>\n      <th></th>\n    </tr>\n  </thead>\n  <tbody>\n    <tr>\n      <th rowspan=\"5\" valign=\"top\">Abidjan</th>\n      <th>Côte D'Ivoire</th>\n      <td>0</td>\n      <td>2000-01-01</td>\n      <td>27.293</td>\n    </tr>\n    <tr>\n      <th>Côte D'Ivoire</th>\n      <td>1</td>\n      <td>2000-02-01</td>\n      <td>27.685</td>\n    </tr>\n    <tr>\n      <th>Côte D'Ivoire</th>\n      <td>2</td>\n      <td>2000-03-01</td>\n      <td>29.061</td>\n    </tr>\n    <tr>\n      <th>Côte D'Ivoire</th>\n      <td>3</td>\n      <td>2000-04-01</td>\n      <td>28.162</td>\n    </tr>\n    <tr>\n      <th>Côte D'Ivoire</th>\n      <td>4</td>\n      <td>2000-05-01</td>\n      <td>27.547</td>\n    </tr>\n    <tr>\n      <th>...</th>\n      <th>...</th>\n      <td>...</td>\n      <td>...</td>\n      <td>...</td>\n    </tr>\n    <tr>\n      <th rowspan=\"5\" valign=\"top\">Xian</th>\n      <th>China</th>\n      <td>16495</td>\n      <td>2013-05-01</td>\n      <td>18.979</td>\n    </tr>\n    <tr>\n      <th>China</th>\n      <td>16496</td>\n      <td>2013-06-01</td>\n      <td>23.522</td>\n    </tr>\n    <tr>\n      <th>China</th>\n      <td>16497</td>\n      <td>2013-07-01</td>\n      <td>25.251</td>\n    </tr>\n    <tr>\n      <th>China</th>\n      <td>16498</td>\n      <td>2013-08-01</td>\n      <td>24.528</td>\n    </tr>\n    <tr>\n      <th>China</th>\n      <td>16499</td>\n      <td>2013-09-01</td>\n      <td>NaN</td>\n    </tr>\n  </tbody>\n</table>\n<p>16500 rows × 3 columns</p>\n</div>"
     },
     "execution_count": 24,
     "metadata": {},
     "output_type": "execute_result"
    }
   ],
   "source": [
    "temp_srt = temperatures.set_index([\"city\", \"country\"]).sort_index()\n",
    "temp_srt"
   ],
   "metadata": {
    "collapsed": false,
    "pycharm": {
     "name": "#%%\n"
    }
   }
  },
  {
   "cell_type": "markdown",
   "source": [],
   "metadata": {
    "collapsed": false,
    "pycharm": {
     "name": "#%% md\n"
    }
   }
  },
  {
   "cell_type": "markdown",
   "source": [
    "#### Slicing the outer index level"
   ],
   "metadata": {
    "collapsed": false,
    "pycharm": {
     "name": "#%% md\n"
    }
   }
  },
  {
   "cell_type": "code",
   "execution_count": 17,
   "outputs": [
    {
     "data": {
      "text/plain": "                Unnamed: 0        date  avg_temp_c\ncity   country                                    \nTaipei Taiwan        15015  2000-01-01      18.086\n       Taiwan        15016  2000-02-01      16.874\n       Taiwan        15017  2000-03-01      19.186\n       Taiwan        15018  2000-04-01      21.147\n       Taiwan        15019  2000-05-01      24.224\n...                    ...         ...         ...\nXian   China         16495  2013-05-01      18.979\n       China         16496  2013-06-01      23.522\n       China         16497  2013-07-01      25.251\n       China         16498  2013-08-01      24.528\n       China         16499  2013-09-01         NaN\n\n[1485 rows x 3 columns]",
      "text/html": "<div>\n<style scoped>\n    .dataframe tbody tr th:only-of-type {\n        vertical-align: middle;\n    }\n\n    .dataframe tbody tr th {\n        vertical-align: top;\n    }\n\n    .dataframe thead th {\n        text-align: right;\n    }\n</style>\n<table border=\"1\" class=\"dataframe\">\n  <thead>\n    <tr style=\"text-align: right;\">\n      <th></th>\n      <th></th>\n      <th>Unnamed: 0</th>\n      <th>date</th>\n      <th>avg_temp_c</th>\n    </tr>\n    <tr>\n      <th>city</th>\n      <th>country</th>\n      <th></th>\n      <th></th>\n      <th></th>\n    </tr>\n  </thead>\n  <tbody>\n    <tr>\n      <th rowspan=\"5\" valign=\"top\">Taipei</th>\n      <th>Taiwan</th>\n      <td>15015</td>\n      <td>2000-01-01</td>\n      <td>18.086</td>\n    </tr>\n    <tr>\n      <th>Taiwan</th>\n      <td>15016</td>\n      <td>2000-02-01</td>\n      <td>16.874</td>\n    </tr>\n    <tr>\n      <th>Taiwan</th>\n      <td>15017</td>\n      <td>2000-03-01</td>\n      <td>19.186</td>\n    </tr>\n    <tr>\n      <th>Taiwan</th>\n      <td>15018</td>\n      <td>2000-04-01</td>\n      <td>21.147</td>\n    </tr>\n    <tr>\n      <th>Taiwan</th>\n      <td>15019</td>\n      <td>2000-05-01</td>\n      <td>24.224</td>\n    </tr>\n    <tr>\n      <th>...</th>\n      <th>...</th>\n      <td>...</td>\n      <td>...</td>\n      <td>...</td>\n    </tr>\n    <tr>\n      <th rowspan=\"5\" valign=\"top\">Xian</th>\n      <th>China</th>\n      <td>16495</td>\n      <td>2013-05-01</td>\n      <td>18.979</td>\n    </tr>\n    <tr>\n      <th>China</th>\n      <td>16496</td>\n      <td>2013-06-01</td>\n      <td>23.522</td>\n    </tr>\n    <tr>\n      <th>China</th>\n      <td>16497</td>\n      <td>2013-07-01</td>\n      <td>25.251</td>\n    </tr>\n    <tr>\n      <th>China</th>\n      <td>16498</td>\n      <td>2013-08-01</td>\n      <td>24.528</td>\n    </tr>\n    <tr>\n      <th>China</th>\n      <td>16499</td>\n      <td>2013-09-01</td>\n      <td>NaN</td>\n    </tr>\n  </tbody>\n</table>\n<p>1485 rows × 3 columns</p>\n</div>"
     },
     "execution_count": 17,
     "metadata": {},
     "output_type": "execute_result"
    }
   ],
   "source": [
    "temp_srt.loc[\"Taipei\": \"Xian\"]"
   ],
   "metadata": {
    "collapsed": false,
    "pycharm": {
     "name": "#%%\n"
    }
   }
  },
  {
   "cell_type": "markdown",
   "source": [
    "#### Slicing the inner index levels badly"
   ],
   "metadata": {
    "collapsed": false,
    "pycharm": {
     "name": "#%% md\n"
    }
   }
  },
  {
   "cell_type": "code",
   "execution_count": 20,
   "outputs": [
    {
     "data": {
      "text/plain": "Empty DataFrame\nColumns: [Unnamed: 0, date, avg_temp_c]\nIndex: []",
      "text/html": "<div>\n<style scoped>\n    .dataframe tbody tr th:only-of-type {\n        vertical-align: middle;\n    }\n\n    .dataframe tbody tr th {\n        vertical-align: top;\n    }\n\n    .dataframe thead th {\n        text-align: right;\n    }\n</style>\n<table border=\"1\" class=\"dataframe\">\n  <thead>\n    <tr style=\"text-align: right;\">\n      <th></th>\n      <th></th>\n      <th>Unnamed: 0</th>\n      <th>date</th>\n      <th>avg_temp_c</th>\n    </tr>\n    <tr>\n      <th>city</th>\n      <th>country</th>\n      <th></th>\n      <th></th>\n      <th></th>\n    </tr>\n  </thead>\n  <tbody>\n  </tbody>\n</table>\n</div>"
     },
     "execution_count": 20,
     "metadata": {},
     "output_type": "execute_result"
    }
   ],
   "source": [
    "temp_srt.loc[\"Taiwan\": \"China\"]"
   ],
   "metadata": {
    "collapsed": false,
    "pycharm": {
     "name": "#%%\n"
    }
   }
  },
  {
   "cell_type": "markdown",
   "source": [],
   "metadata": {
    "collapsed": false,
    "pycharm": {
     "name": "#%% md\n"
    }
   }
  },
  {
   "cell_type": "markdown",
   "source": [
    "#### Slicing the inner index levels correctly"
   ],
   "metadata": {
    "collapsed": false,
    "pycharm": {
     "name": "#%% md\n"
    }
   }
  },
  {
   "cell_type": "code",
   "execution_count": 26,
   "outputs": [
    {
     "data": {
      "text/plain": "                Unnamed: 0        date  avg_temp_c\ncity   country                                    \nTaipei Taiwan        15015  2000-01-01      18.086\n       Taiwan        15016  2000-02-01      16.874\n       Taiwan        15017  2000-03-01      19.186\n       Taiwan        15018  2000-04-01      21.147\n       Taiwan        15019  2000-05-01      24.224\n...                    ...         ...         ...\nXian   China         16495  2013-05-01      18.979\n       China         16496  2013-06-01      23.522\n       China         16497  2013-07-01      25.251\n       China         16498  2013-08-01      24.528\n       China         16499  2013-09-01         NaN\n\n[1485 rows x 3 columns]",
      "text/html": "<div>\n<style scoped>\n    .dataframe tbody tr th:only-of-type {\n        vertical-align: middle;\n    }\n\n    .dataframe tbody tr th {\n        vertical-align: top;\n    }\n\n    .dataframe thead th {\n        text-align: right;\n    }\n</style>\n<table border=\"1\" class=\"dataframe\">\n  <thead>\n    <tr style=\"text-align: right;\">\n      <th></th>\n      <th></th>\n      <th>Unnamed: 0</th>\n      <th>date</th>\n      <th>avg_temp_c</th>\n    </tr>\n    <tr>\n      <th>city</th>\n      <th>country</th>\n      <th></th>\n      <th></th>\n      <th></th>\n    </tr>\n  </thead>\n  <tbody>\n    <tr>\n      <th rowspan=\"5\" valign=\"top\">Taipei</th>\n      <th>Taiwan</th>\n      <td>15015</td>\n      <td>2000-01-01</td>\n      <td>18.086</td>\n    </tr>\n    <tr>\n      <th>Taiwan</th>\n      <td>15016</td>\n      <td>2000-02-01</td>\n      <td>16.874</td>\n    </tr>\n    <tr>\n      <th>Taiwan</th>\n      <td>15017</td>\n      <td>2000-03-01</td>\n      <td>19.186</td>\n    </tr>\n    <tr>\n      <th>Taiwan</th>\n      <td>15018</td>\n      <td>2000-04-01</td>\n      <td>21.147</td>\n    </tr>\n    <tr>\n      <th>Taiwan</th>\n      <td>15019</td>\n      <td>2000-05-01</td>\n      <td>24.224</td>\n    </tr>\n    <tr>\n      <th>...</th>\n      <th>...</th>\n      <td>...</td>\n      <td>...</td>\n      <td>...</td>\n    </tr>\n    <tr>\n      <th rowspan=\"5\" valign=\"top\">Xian</th>\n      <th>China</th>\n      <td>16495</td>\n      <td>2013-05-01</td>\n      <td>18.979</td>\n    </tr>\n    <tr>\n      <th>China</th>\n      <td>16496</td>\n      <td>2013-06-01</td>\n      <td>23.522</td>\n    </tr>\n    <tr>\n      <th>China</th>\n      <td>16497</td>\n      <td>2013-07-01</td>\n      <td>25.251</td>\n    </tr>\n    <tr>\n      <th>China</th>\n      <td>16498</td>\n      <td>2013-08-01</td>\n      <td>24.528</td>\n    </tr>\n    <tr>\n      <th>China</th>\n      <td>16499</td>\n      <td>2013-09-01</td>\n      <td>NaN</td>\n    </tr>\n  </tbody>\n</table>\n<p>1485 rows × 3 columns</p>\n</div>"
     },
     "execution_count": 26,
     "metadata": {},
     "output_type": "execute_result"
    }
   ],
   "source": [
    "temp_srt.loc[(\"Taipei\", \"Taiwan\"): (\"Xian\", \"China\")]"
   ],
   "metadata": {
    "collapsed": false,
    "pycharm": {
     "name": "#%%\n"
    }
   }
  },
  {
   "cell_type": "markdown",
   "source": [
    "#### Slicing columns"
   ],
   "metadata": {
    "collapsed": false,
    "pycharm": {
     "name": "#%% md\n"
    }
   }
  },
  {
   "cell_type": "code",
   "execution_count": 28,
   "outputs": [
    {
     "data": {
      "text/plain": "                             date  avg_temp_c\ncity    country                              \nAbidjan Côte D'Ivoire  2000-01-01      27.293\n        Côte D'Ivoire  2000-02-01      27.685\n        Côte D'Ivoire  2000-03-01      29.061\n        Côte D'Ivoire  2000-04-01      28.162\n        Côte D'Ivoire  2000-05-01      27.547\n...                           ...         ...\nXian    China          2013-05-01      18.979\n        China          2013-06-01      23.522\n        China          2013-07-01      25.251\n        China          2013-08-01      24.528\n        China          2013-09-01         NaN\n\n[16500 rows x 2 columns]",
      "text/html": "<div>\n<style scoped>\n    .dataframe tbody tr th:only-of-type {\n        vertical-align: middle;\n    }\n\n    .dataframe tbody tr th {\n        vertical-align: top;\n    }\n\n    .dataframe thead th {\n        text-align: right;\n    }\n</style>\n<table border=\"1\" class=\"dataframe\">\n  <thead>\n    <tr style=\"text-align: right;\">\n      <th></th>\n      <th></th>\n      <th>date</th>\n      <th>avg_temp_c</th>\n    </tr>\n    <tr>\n      <th>city</th>\n      <th>country</th>\n      <th></th>\n      <th></th>\n    </tr>\n  </thead>\n  <tbody>\n    <tr>\n      <th rowspan=\"5\" valign=\"top\">Abidjan</th>\n      <th>Côte D'Ivoire</th>\n      <td>2000-01-01</td>\n      <td>27.293</td>\n    </tr>\n    <tr>\n      <th>Côte D'Ivoire</th>\n      <td>2000-02-01</td>\n      <td>27.685</td>\n    </tr>\n    <tr>\n      <th>Côte D'Ivoire</th>\n      <td>2000-03-01</td>\n      <td>29.061</td>\n    </tr>\n    <tr>\n      <th>Côte D'Ivoire</th>\n      <td>2000-04-01</td>\n      <td>28.162</td>\n    </tr>\n    <tr>\n      <th>Côte D'Ivoire</th>\n      <td>2000-05-01</td>\n      <td>27.547</td>\n    </tr>\n    <tr>\n      <th>...</th>\n      <th>...</th>\n      <td>...</td>\n      <td>...</td>\n    </tr>\n    <tr>\n      <th rowspan=\"5\" valign=\"top\">Xian</th>\n      <th>China</th>\n      <td>2013-05-01</td>\n      <td>18.979</td>\n    </tr>\n    <tr>\n      <th>China</th>\n      <td>2013-06-01</td>\n      <td>23.522</td>\n    </tr>\n    <tr>\n      <th>China</th>\n      <td>2013-07-01</td>\n      <td>25.251</td>\n    </tr>\n    <tr>\n      <th>China</th>\n      <td>2013-08-01</td>\n      <td>24.528</td>\n    </tr>\n    <tr>\n      <th>China</th>\n      <td>2013-09-01</td>\n      <td>NaN</td>\n    </tr>\n  </tbody>\n</table>\n<p>16500 rows × 2 columns</p>\n</div>"
     },
     "execution_count": 28,
     "metadata": {},
     "output_type": "execute_result"
    }
   ],
   "source": [
    "temp_srt.loc[:, \"date\":\"avg_temp_c\"]"
   ],
   "metadata": {
    "collapsed": false,
    "pycharm": {
     "name": "#%%\n"
    }
   }
  },
  {
   "cell_type": "markdown",
   "source": [],
   "metadata": {
    "collapsed": false,
    "pycharm": {
     "name": "#%% md\n"
    }
   }
  },
  {
   "cell_type": "markdown",
   "source": [
    "#### Slice twice"
   ],
   "metadata": {
    "collapsed": false,
    "pycharm": {
     "name": "#%% md\n"
    }
   }
  },
  {
   "cell_type": "code",
   "execution_count": 29,
   "outputs": [
    {
     "data": {
      "text/plain": "                      date  avg_temp_c\ncity   country                        \nTaipei Taiwan   2000-01-01      18.086\n       Taiwan   2000-02-01      16.874\n       Taiwan   2000-03-01      19.186\n       Taiwan   2000-04-01      21.147\n       Taiwan   2000-05-01      24.224\n...                    ...         ...\nXian   China    2013-05-01      18.979\n       China    2013-06-01      23.522\n       China    2013-07-01      25.251\n       China    2013-08-01      24.528\n       China    2013-09-01         NaN\n\n[1485 rows x 2 columns]",
      "text/html": "<div>\n<style scoped>\n    .dataframe tbody tr th:only-of-type {\n        vertical-align: middle;\n    }\n\n    .dataframe tbody tr th {\n        vertical-align: top;\n    }\n\n    .dataframe thead th {\n        text-align: right;\n    }\n</style>\n<table border=\"1\" class=\"dataframe\">\n  <thead>\n    <tr style=\"text-align: right;\">\n      <th></th>\n      <th></th>\n      <th>date</th>\n      <th>avg_temp_c</th>\n    </tr>\n    <tr>\n      <th>city</th>\n      <th>country</th>\n      <th></th>\n      <th></th>\n    </tr>\n  </thead>\n  <tbody>\n    <tr>\n      <th rowspan=\"5\" valign=\"top\">Taipei</th>\n      <th>Taiwan</th>\n      <td>2000-01-01</td>\n      <td>18.086</td>\n    </tr>\n    <tr>\n      <th>Taiwan</th>\n      <td>2000-02-01</td>\n      <td>16.874</td>\n    </tr>\n    <tr>\n      <th>Taiwan</th>\n      <td>2000-03-01</td>\n      <td>19.186</td>\n    </tr>\n    <tr>\n      <th>Taiwan</th>\n      <td>2000-04-01</td>\n      <td>21.147</td>\n    </tr>\n    <tr>\n      <th>Taiwan</th>\n      <td>2000-05-01</td>\n      <td>24.224</td>\n    </tr>\n    <tr>\n      <th>...</th>\n      <th>...</th>\n      <td>...</td>\n      <td>...</td>\n    </tr>\n    <tr>\n      <th rowspan=\"5\" valign=\"top\">Xian</th>\n      <th>China</th>\n      <td>2013-05-01</td>\n      <td>18.979</td>\n    </tr>\n    <tr>\n      <th>China</th>\n      <td>2013-06-01</td>\n      <td>23.522</td>\n    </tr>\n    <tr>\n      <th>China</th>\n      <td>2013-07-01</td>\n      <td>25.251</td>\n    </tr>\n    <tr>\n      <th>China</th>\n      <td>2013-08-01</td>\n      <td>24.528</td>\n    </tr>\n    <tr>\n      <th>China</th>\n      <td>2013-09-01</td>\n      <td>NaN</td>\n    </tr>\n  </tbody>\n</table>\n<p>1485 rows × 2 columns</p>\n</div>"
     },
     "execution_count": 29,
     "metadata": {},
     "output_type": "execute_result"
    }
   ],
   "source": [
    "temp_srt.loc[(\"Taipei\", \"Taiwan\") : (\"Xian\", \"China\"), \"date\": \"avg_temp_c\"]"
   ],
   "metadata": {
    "collapsed": false,
    "pycharm": {
     "name": "#%%\n"
    }
   }
  },
  {
   "cell_type": "markdown",
   "source": [],
   "metadata": {
    "collapsed": false,
    "pycharm": {
     "name": "#%% md\n"
    }
   }
  },
  {
   "cell_type": "markdown",
   "source": [
    "#### temp days"
   ],
   "metadata": {
    "collapsed": false,
    "pycharm": {
     "name": "#%% md\n"
    }
   }
  },
  {
   "cell_type": "code",
   "execution_count": 31,
   "outputs": [
    {
     "data": {
      "text/plain": "            Unnamed: 0       city        country  avg_temp_c\ndate                                                        \n2000-01-01           0    Abidjan  Côte D'Ivoire      27.293\n2000-01-01        8415     Lahore       Pakistan      12.792\n2000-01-01       15345   Tangshan          China      -5.406\n2000-01-01        5115      Gizeh          Egypt      12.669\n2000-01-01        8580    Lakhnau          India      15.152\n...                ...        ...            ...         ...\n2013-09-01       11549    Nanjing          China         NaN\n2013-09-01       11714  New Delhi          India         NaN\n2013-09-01       11879   New York  United States      17.408\n2013-09-01       12209     Peking          China         NaN\n2013-09-01       16499       Xian          China         NaN\n\n[16500 rows x 4 columns]",
      "text/html": "<div>\n<style scoped>\n    .dataframe tbody tr th:only-of-type {\n        vertical-align: middle;\n    }\n\n    .dataframe tbody tr th {\n        vertical-align: top;\n    }\n\n    .dataframe thead th {\n        text-align: right;\n    }\n</style>\n<table border=\"1\" class=\"dataframe\">\n  <thead>\n    <tr style=\"text-align: right;\">\n      <th></th>\n      <th>Unnamed: 0</th>\n      <th>city</th>\n      <th>country</th>\n      <th>avg_temp_c</th>\n    </tr>\n    <tr>\n      <th>date</th>\n      <th></th>\n      <th></th>\n      <th></th>\n      <th></th>\n    </tr>\n  </thead>\n  <tbody>\n    <tr>\n      <th>2000-01-01</th>\n      <td>0</td>\n      <td>Abidjan</td>\n      <td>Côte D'Ivoire</td>\n      <td>27.293</td>\n    </tr>\n    <tr>\n      <th>2000-01-01</th>\n      <td>8415</td>\n      <td>Lahore</td>\n      <td>Pakistan</td>\n      <td>12.792</td>\n    </tr>\n    <tr>\n      <th>2000-01-01</th>\n      <td>15345</td>\n      <td>Tangshan</td>\n      <td>China</td>\n      <td>-5.406</td>\n    </tr>\n    <tr>\n      <th>2000-01-01</th>\n      <td>5115</td>\n      <td>Gizeh</td>\n      <td>Egypt</td>\n      <td>12.669</td>\n    </tr>\n    <tr>\n      <th>2000-01-01</th>\n      <td>8580</td>\n      <td>Lakhnau</td>\n      <td>India</td>\n      <td>15.152</td>\n    </tr>\n    <tr>\n      <th>...</th>\n      <td>...</td>\n      <td>...</td>\n      <td>...</td>\n      <td>...</td>\n    </tr>\n    <tr>\n      <th>2013-09-01</th>\n      <td>11549</td>\n      <td>Nanjing</td>\n      <td>China</td>\n      <td>NaN</td>\n    </tr>\n    <tr>\n      <th>2013-09-01</th>\n      <td>11714</td>\n      <td>New Delhi</td>\n      <td>India</td>\n      <td>NaN</td>\n    </tr>\n    <tr>\n      <th>2013-09-01</th>\n      <td>11879</td>\n      <td>New York</td>\n      <td>United States</td>\n      <td>17.408</td>\n    </tr>\n    <tr>\n      <th>2013-09-01</th>\n      <td>12209</td>\n      <td>Peking</td>\n      <td>China</td>\n      <td>NaN</td>\n    </tr>\n    <tr>\n      <th>2013-09-01</th>\n      <td>16499</td>\n      <td>Xian</td>\n      <td>China</td>\n      <td>NaN</td>\n    </tr>\n  </tbody>\n</table>\n<p>16500 rows × 4 columns</p>\n</div>"
     },
     "execution_count": 31,
     "metadata": {},
     "output_type": "execute_result"
    }
   ],
   "source": [
    "temperatures = temperatures.set_index(\"date\").sort_index()\n",
    "temperatures"
   ],
   "metadata": {
    "collapsed": false,
    "pycharm": {
     "name": "#%%\n"
    }
   }
  },
  {
   "cell_type": "markdown",
   "source": [],
   "metadata": {
    "collapsed": false,
    "pycharm": {
     "name": "#%% md\n"
    }
   }
  },
  {
   "cell_type": "markdown",
   "source": [
    "#### Slicing by dates"
   ],
   "metadata": {
    "collapsed": false,
    "pycharm": {
     "name": "#%% md\n"
    }
   }
  },
  {
   "cell_type": "code",
   "execution_count": 27,
   "outputs": [
    {
     "data": {
      "text/plain": "                       Unnamed: 0        date  avg_temp_c\ncountry       city                                       \nCôte D'Ivoire Abidjan           0  2000-01-01      27.293\n              Abidjan           1  2000-02-01      27.685\n              Abidjan           2  2000-03-01      29.061\n              Abidjan           3  2000-04-01      28.162\n              Abidjan           4  2000-05-01      27.547\n...                           ...         ...         ...\nChina         Xian          16495  2013-05-01      18.979\n              Xian          16496  2013-06-01      23.522\n              Xian          16497  2013-07-01      25.251\n              Xian          16498  2013-08-01      24.528\n              Xian          16499  2013-09-01         NaN\n\n[16500 rows x 3 columns]",
      "text/html": "<div>\n<style scoped>\n    .dataframe tbody tr th:only-of-type {\n        vertical-align: middle;\n    }\n\n    .dataframe tbody tr th {\n        vertical-align: top;\n    }\n\n    .dataframe thead th {\n        text-align: right;\n    }\n</style>\n<table border=\"1\" class=\"dataframe\">\n  <thead>\n    <tr style=\"text-align: right;\">\n      <th></th>\n      <th></th>\n      <th>Unnamed: 0</th>\n      <th>date</th>\n      <th>avg_temp_c</th>\n    </tr>\n    <tr>\n      <th>country</th>\n      <th>city</th>\n      <th></th>\n      <th></th>\n      <th></th>\n    </tr>\n  </thead>\n  <tbody>\n    <tr>\n      <th rowspan=\"5\" valign=\"top\">Côte D'Ivoire</th>\n      <th>Abidjan</th>\n      <td>0</td>\n      <td>2000-01-01</td>\n      <td>27.293</td>\n    </tr>\n    <tr>\n      <th>Abidjan</th>\n      <td>1</td>\n      <td>2000-02-01</td>\n      <td>27.685</td>\n    </tr>\n    <tr>\n      <th>Abidjan</th>\n      <td>2</td>\n      <td>2000-03-01</td>\n      <td>29.061</td>\n    </tr>\n    <tr>\n      <th>Abidjan</th>\n      <td>3</td>\n      <td>2000-04-01</td>\n      <td>28.162</td>\n    </tr>\n    <tr>\n      <th>Abidjan</th>\n      <td>4</td>\n      <td>2000-05-01</td>\n      <td>27.547</td>\n    </tr>\n    <tr>\n      <th>...</th>\n      <th>...</th>\n      <td>...</td>\n      <td>...</td>\n      <td>...</td>\n    </tr>\n    <tr>\n      <th rowspan=\"5\" valign=\"top\">China</th>\n      <th>Xian</th>\n      <td>16495</td>\n      <td>2013-05-01</td>\n      <td>18.979</td>\n    </tr>\n    <tr>\n      <th>Xian</th>\n      <td>16496</td>\n      <td>2013-06-01</td>\n      <td>23.522</td>\n    </tr>\n    <tr>\n      <th>Xian</th>\n      <td>16497</td>\n      <td>2013-07-01</td>\n      <td>25.251</td>\n    </tr>\n    <tr>\n      <th>Xian</th>\n      <td>16498</td>\n      <td>2013-08-01</td>\n      <td>24.528</td>\n    </tr>\n    <tr>\n      <th>Xian</th>\n      <td>16499</td>\n      <td>2013-09-01</td>\n      <td>NaN</td>\n    </tr>\n  </tbody>\n</table>\n<p>16500 rows × 3 columns</p>\n</div>"
     },
     "execution_count": 27,
     "metadata": {},
     "output_type": "execute_result"
    }
   ],
   "source": [
    "temperatures.loc[\"2000-01-01\": \"2013-05-01\"]"
   ],
   "metadata": {
    "collapsed": false,
    "pycharm": {
     "name": "#%%\n"
    }
   }
  },
  {
   "cell_type": "markdown",
   "source": [],
   "metadata": {
    "collapsed": false,
    "pycharm": {
     "name": "#%% md\n"
    }
   }
  },
  {
   "cell_type": "markdown",
   "source": [
    "#### Slicing by partial dates"
   ],
   "metadata": {
    "collapsed": false,
    "pycharm": {
     "name": "#%% md\n"
    }
   }
  },
  {
   "cell_type": "code",
   "execution_count": 34,
   "outputs": [
    {
     "data": {
      "text/plain": "            Unnamed: 0       city        country  avg_temp_c\ndate                                                        \n2000-01-01           0    Abidjan  Côte D'Ivoire      27.293\n2000-01-01        8415     Lahore       Pakistan      12.792\n2000-01-01       15345   Tangshan          China      -5.406\n2000-01-01        5115      Gizeh          Egypt      12.669\n2000-01-01        8580    Lakhnau          India      15.152\n...                ...        ...            ...         ...\n2000-12-01        8261      Lagos        Nigeria      27.173\n2000-12-01        5621     Harbin          China     -19.429\n2000-12-01        1001    Baghdad           Iraq      12.108\n2000-12-01        5951  Hyderabad          India      21.949\n2000-12-01        5456     Harare       Zimbabwe      22.156\n\n[1200 rows x 4 columns]",
      "text/html": "<div>\n<style scoped>\n    .dataframe tbody tr th:only-of-type {\n        vertical-align: middle;\n    }\n\n    .dataframe tbody tr th {\n        vertical-align: top;\n    }\n\n    .dataframe thead th {\n        text-align: right;\n    }\n</style>\n<table border=\"1\" class=\"dataframe\">\n  <thead>\n    <tr style=\"text-align: right;\">\n      <th></th>\n      <th>Unnamed: 0</th>\n      <th>city</th>\n      <th>country</th>\n      <th>avg_temp_c</th>\n    </tr>\n    <tr>\n      <th>date</th>\n      <th></th>\n      <th></th>\n      <th></th>\n      <th></th>\n    </tr>\n  </thead>\n  <tbody>\n    <tr>\n      <th>2000-01-01</th>\n      <td>0</td>\n      <td>Abidjan</td>\n      <td>Côte D'Ivoire</td>\n      <td>27.293</td>\n    </tr>\n    <tr>\n      <th>2000-01-01</th>\n      <td>8415</td>\n      <td>Lahore</td>\n      <td>Pakistan</td>\n      <td>12.792</td>\n    </tr>\n    <tr>\n      <th>2000-01-01</th>\n      <td>15345</td>\n      <td>Tangshan</td>\n      <td>China</td>\n      <td>-5.406</td>\n    </tr>\n    <tr>\n      <th>2000-01-01</th>\n      <td>5115</td>\n      <td>Gizeh</td>\n      <td>Egypt</td>\n      <td>12.669</td>\n    </tr>\n    <tr>\n      <th>2000-01-01</th>\n      <td>8580</td>\n      <td>Lakhnau</td>\n      <td>India</td>\n      <td>15.152</td>\n    </tr>\n    <tr>\n      <th>...</th>\n      <td>...</td>\n      <td>...</td>\n      <td>...</td>\n      <td>...</td>\n    </tr>\n    <tr>\n      <th>2000-12-01</th>\n      <td>8261</td>\n      <td>Lagos</td>\n      <td>Nigeria</td>\n      <td>27.173</td>\n    </tr>\n    <tr>\n      <th>2000-12-01</th>\n      <td>5621</td>\n      <td>Harbin</td>\n      <td>China</td>\n      <td>-19.429</td>\n    </tr>\n    <tr>\n      <th>2000-12-01</th>\n      <td>1001</td>\n      <td>Baghdad</td>\n      <td>Iraq</td>\n      <td>12.108</td>\n    </tr>\n    <tr>\n      <th>2000-12-01</th>\n      <td>5951</td>\n      <td>Hyderabad</td>\n      <td>India</td>\n      <td>21.949</td>\n    </tr>\n    <tr>\n      <th>2000-12-01</th>\n      <td>5456</td>\n      <td>Harare</td>\n      <td>Zimbabwe</td>\n      <td>22.156</td>\n    </tr>\n  </tbody>\n</table>\n<p>1200 rows × 4 columns</p>\n</div>"
     },
     "execution_count": 34,
     "metadata": {},
     "output_type": "execute_result"
    }
   ],
   "source": [
    "temperatures.loc[\"2000\": \"2001\"]"
   ],
   "metadata": {
    "collapsed": false,
    "pycharm": {
     "name": "#%%\n"
    }
   }
  },
  {
   "cell_type": "markdown",
   "source": [],
   "metadata": {
    "collapsed": false,
    "pycharm": {
     "name": "#%% md\n"
    }
   }
  },
  {
   "cell_type": "markdown",
   "source": [
    "#### Subsetting by row/column number"
   ],
   "metadata": {
    "collapsed": false,
    "pycharm": {
     "name": "#%% md\n"
    }
   }
  },
  {
   "cell_type": "code",
   "execution_count": 35,
   "outputs": [
    {
     "data": {
      "text/plain": "                city country  avg_temp_c\ndate                                    \n2000-01-01  Tangshan   China      -5.406\n2000-01-01     Gizeh   Egypt      12.669\n2000-01-01   Lakhnau   India      15.152",
      "text/html": "<div>\n<style scoped>\n    .dataframe tbody tr th:only-of-type {\n        vertical-align: middle;\n    }\n\n    .dataframe tbody tr th {\n        vertical-align: top;\n    }\n\n    .dataframe thead th {\n        text-align: right;\n    }\n</style>\n<table border=\"1\" class=\"dataframe\">\n  <thead>\n    <tr style=\"text-align: right;\">\n      <th></th>\n      <th>city</th>\n      <th>country</th>\n      <th>avg_temp_c</th>\n    </tr>\n    <tr>\n      <th>date</th>\n      <th></th>\n      <th></th>\n      <th></th>\n    </tr>\n  </thead>\n  <tbody>\n    <tr>\n      <th>2000-01-01</th>\n      <td>Tangshan</td>\n      <td>China</td>\n      <td>-5.406</td>\n    </tr>\n    <tr>\n      <th>2000-01-01</th>\n      <td>Gizeh</td>\n      <td>Egypt</td>\n      <td>12.669</td>\n    </tr>\n    <tr>\n      <th>2000-01-01</th>\n      <td>Lakhnau</td>\n      <td>India</td>\n      <td>15.152</td>\n    </tr>\n  </tbody>\n</table>\n</div>"
     },
     "execution_count": 35,
     "metadata": {},
     "output_type": "execute_result"
    }
   ],
   "source": [
    "temperatures.iloc[2:5, 1:4]"
   ],
   "metadata": {
    "collapsed": false,
    "pycharm": {
     "name": "#%%\n"
    }
   }
  }
 ],
 "metadata": {
  "kernelspec": {
   "display_name": "Python 3",
   "language": "python",
   "name": "python3"
  },
  "language_info": {
   "codemirror_mode": {
    "name": "ipython",
    "version": 2
   },
   "file_extension": ".py",
   "mimetype": "text/x-python",
   "name": "python",
   "nbconvert_exporter": "python",
   "pygments_lexer": "ipython2",
   "version": "2.7.6"
  }
 },
 "nbformat": 4,
 "nbformat_minor": 0
}