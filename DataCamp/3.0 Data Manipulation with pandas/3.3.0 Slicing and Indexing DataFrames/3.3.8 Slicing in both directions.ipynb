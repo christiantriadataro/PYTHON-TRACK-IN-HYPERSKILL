{
 "cells": [
  {
   "cell_type": "markdown",
   "source": [
    "## Slicing and Indexing DataFrames"
   ],
   "metadata": {
    "collapsed": false,
    "pycharm": {
     "name": "#%% md\n"
    }
   }
  },
  {
   "cell_type": "markdown",
   "source": [
    "#### Slicing in both directions"
   ],
   "metadata": {
    "collapsed": false,
    "pycharm": {
     "name": "#%% md\n"
    }
   }
  },
  {
   "cell_type": "markdown",
   "source": [
    "You've seen slicing DataFrames by rows and by columns, but since DataFrames are two-dimensional objects, it is often natural to slice both dimensions at once. That is, by passing two arguments to `.loc[]`, you can subset by rows and columns in one go.\n",
    "`pandas` is loaded as `pd`.\n",
    "`temperatures_srt` is indexed by country and city, has a sorted index, and is available."
   ],
   "metadata": {
    "collapsed": false,
    "pycharm": {
     "name": "#%% md\n"
    }
   }
  },
  {
   "cell_type": "code",
   "execution_count": 1,
   "outputs": [
    {
     "data": {
      "text/plain": "                   Unnamed: 0        date  avg_temp_c\ncountry     city                                     \nAfghanistan Kabul        7260  2000-01-01       3.326\n            Kabul        7261  2000-02-01       3.454\n            Kabul        7262  2000-03-01       9.612\n            Kabul        7263  2000-04-01      17.925\n            Kabul        7264  2000-05-01      24.658",
      "text/html": "<div>\n<style scoped>\n    .dataframe tbody tr th:only-of-type {\n        vertical-align: middle;\n    }\n\n    .dataframe tbody tr th {\n        vertical-align: top;\n    }\n\n    .dataframe thead th {\n        text-align: right;\n    }\n</style>\n<table border=\"1\" class=\"dataframe\">\n  <thead>\n    <tr style=\"text-align: right;\">\n      <th></th>\n      <th></th>\n      <th>Unnamed: 0</th>\n      <th>date</th>\n      <th>avg_temp_c</th>\n    </tr>\n    <tr>\n      <th>country</th>\n      <th>city</th>\n      <th></th>\n      <th></th>\n      <th></th>\n    </tr>\n  </thead>\n  <tbody>\n    <tr>\n      <th rowspan=\"5\" valign=\"top\">Afghanistan</th>\n      <th>Kabul</th>\n      <td>7260</td>\n      <td>2000-01-01</td>\n      <td>3.326</td>\n    </tr>\n    <tr>\n      <th>Kabul</th>\n      <td>7261</td>\n      <td>2000-02-01</td>\n      <td>3.454</td>\n    </tr>\n    <tr>\n      <th>Kabul</th>\n      <td>7262</td>\n      <td>2000-03-01</td>\n      <td>9.612</td>\n    </tr>\n    <tr>\n      <th>Kabul</th>\n      <td>7263</td>\n      <td>2000-04-01</td>\n      <td>17.925</td>\n    </tr>\n    <tr>\n      <th>Kabul</th>\n      <td>7264</td>\n      <td>2000-05-01</td>\n      <td>24.658</td>\n    </tr>\n  </tbody>\n</table>\n</div>"
     },
     "execution_count": 1,
     "metadata": {},
     "output_type": "execute_result"
    }
   ],
   "source": [
    "# importing pandas\n",
    "import pandas as pd\n",
    "\n",
    "# importing sales dataset\n",
    "temperatures = pd.read_csv(\"../datasets/temperatures.csv\")\n",
    "temperatures_srt = temperatures.set_index([\"country\", \"city\"]).sort_index()\n",
    "temperatures_srt.head()"
   ],
   "metadata": {
    "collapsed": false,
    "pycharm": {
     "name": "#%%\n"
    }
   }
  },
  {
   "cell_type": "markdown",
   "source": [
    "### Instructions"
   ],
   "metadata": {
    "collapsed": false,
    "pycharm": {
     "name": "#%% md\n"
    }
   }
  },
  {
   "cell_type": "markdown",
   "source": [
    "* Use `.loc[]` slicing to subset rows from India, Hyderabad to Irag, Baghdad.\n",
    "* Use `.loc[]` slicing to subset columns from `date` to `avg_temp_c`.\n",
    "* Slice in both directions at once from Hyderabad to Baghdad, and `date` to `avg_temp_c`"
   ],
   "metadata": {
    "collapsed": false,
    "pycharm": {
     "name": "#%% md\n"
    }
   }
  },
  {
   "cell_type": "code",
   "execution_count": 2,
   "outputs": [
    {
     "data": {
      "text/plain": "                   Unnamed: 0        date  avg_temp_c\ncountry city                                         \nIndia   Hyderabad        5940  2000-01-01      23.779\n        Hyderabad        5941  2000-02-01      25.826\n        Hyderabad        5942  2000-03-01      28.821\n        Hyderabad        5943  2000-04-01      32.698\n        Hyderabad        5944  2000-05-01      32.438\n...                       ...         ...         ...\nIraq    Baghdad          1150  2013-05-01      28.673\n        Baghdad          1151  2013-06-01      33.803\n        Baghdad          1152  2013-07-01      36.392\n        Baghdad          1153  2013-08-01      35.463\n        Baghdad          1154  2013-09-01         NaN\n\n[2145 rows x 3 columns]",
      "text/html": "<div>\n<style scoped>\n    .dataframe tbody tr th:only-of-type {\n        vertical-align: middle;\n    }\n\n    .dataframe tbody tr th {\n        vertical-align: top;\n    }\n\n    .dataframe thead th {\n        text-align: right;\n    }\n</style>\n<table border=\"1\" class=\"dataframe\">\n  <thead>\n    <tr style=\"text-align: right;\">\n      <th></th>\n      <th></th>\n      <th>Unnamed: 0</th>\n      <th>date</th>\n      <th>avg_temp_c</th>\n    </tr>\n    <tr>\n      <th>country</th>\n      <th>city</th>\n      <th></th>\n      <th></th>\n      <th></th>\n    </tr>\n  </thead>\n  <tbody>\n    <tr>\n      <th rowspan=\"5\" valign=\"top\">India</th>\n      <th>Hyderabad</th>\n      <td>5940</td>\n      <td>2000-01-01</td>\n      <td>23.779</td>\n    </tr>\n    <tr>\n      <th>Hyderabad</th>\n      <td>5941</td>\n      <td>2000-02-01</td>\n      <td>25.826</td>\n    </tr>\n    <tr>\n      <th>Hyderabad</th>\n      <td>5942</td>\n      <td>2000-03-01</td>\n      <td>28.821</td>\n    </tr>\n    <tr>\n      <th>Hyderabad</th>\n      <td>5943</td>\n      <td>2000-04-01</td>\n      <td>32.698</td>\n    </tr>\n    <tr>\n      <th>Hyderabad</th>\n      <td>5944</td>\n      <td>2000-05-01</td>\n      <td>32.438</td>\n    </tr>\n    <tr>\n      <th>...</th>\n      <th>...</th>\n      <td>...</td>\n      <td>...</td>\n      <td>...</td>\n    </tr>\n    <tr>\n      <th rowspan=\"5\" valign=\"top\">Iraq</th>\n      <th>Baghdad</th>\n      <td>1150</td>\n      <td>2013-05-01</td>\n      <td>28.673</td>\n    </tr>\n    <tr>\n      <th>Baghdad</th>\n      <td>1151</td>\n      <td>2013-06-01</td>\n      <td>33.803</td>\n    </tr>\n    <tr>\n      <th>Baghdad</th>\n      <td>1152</td>\n      <td>2013-07-01</td>\n      <td>36.392</td>\n    </tr>\n    <tr>\n      <th>Baghdad</th>\n      <td>1153</td>\n      <td>2013-08-01</td>\n      <td>35.463</td>\n    </tr>\n    <tr>\n      <th>Baghdad</th>\n      <td>1154</td>\n      <td>2013-09-01</td>\n      <td>NaN</td>\n    </tr>\n  </tbody>\n</table>\n<p>2145 rows × 3 columns</p>\n</div>"
     },
     "execution_count": 2,
     "metadata": {},
     "output_type": "execute_result"
    }
   ],
   "source": [
    "# Subset rows from India, Hyderabad to Iraq, Baghdad\n",
    "temperatures_srt.loc[(\"India\", \"Hyderabad\"):(\"Iraq\", \"Baghdad\")]"
   ],
   "metadata": {
    "collapsed": false,
    "pycharm": {
     "name": "#%%\n"
    }
   }
  },
  {
   "cell_type": "code",
   "execution_count": 3,
   "outputs": [
    {
     "data": {
      "text/plain": "                          date  avg_temp_c\ncountry     city                          \nAfghanistan Kabul   2000-01-01       3.326\n            Kabul   2000-02-01       3.454\n            Kabul   2000-03-01       9.612\n            Kabul   2000-04-01      17.925\n            Kabul   2000-05-01      24.658\n...                        ...         ...\nZimbabwe    Harare  2013-05-01      18.298\n            Harare  2013-06-01      17.020\n            Harare  2013-07-01      16.299\n            Harare  2013-08-01      19.232\n            Harare  2013-09-01         NaN\n\n[16500 rows x 2 columns]",
      "text/html": "<div>\n<style scoped>\n    .dataframe tbody tr th:only-of-type {\n        vertical-align: middle;\n    }\n\n    .dataframe tbody tr th {\n        vertical-align: top;\n    }\n\n    .dataframe thead th {\n        text-align: right;\n    }\n</style>\n<table border=\"1\" class=\"dataframe\">\n  <thead>\n    <tr style=\"text-align: right;\">\n      <th></th>\n      <th></th>\n      <th>date</th>\n      <th>avg_temp_c</th>\n    </tr>\n    <tr>\n      <th>country</th>\n      <th>city</th>\n      <th></th>\n      <th></th>\n    </tr>\n  </thead>\n  <tbody>\n    <tr>\n      <th rowspan=\"5\" valign=\"top\">Afghanistan</th>\n      <th>Kabul</th>\n      <td>2000-01-01</td>\n      <td>3.326</td>\n    </tr>\n    <tr>\n      <th>Kabul</th>\n      <td>2000-02-01</td>\n      <td>3.454</td>\n    </tr>\n    <tr>\n      <th>Kabul</th>\n      <td>2000-03-01</td>\n      <td>9.612</td>\n    </tr>\n    <tr>\n      <th>Kabul</th>\n      <td>2000-04-01</td>\n      <td>17.925</td>\n    </tr>\n    <tr>\n      <th>Kabul</th>\n      <td>2000-05-01</td>\n      <td>24.658</td>\n    </tr>\n    <tr>\n      <th>...</th>\n      <th>...</th>\n      <td>...</td>\n      <td>...</td>\n    </tr>\n    <tr>\n      <th rowspan=\"5\" valign=\"top\">Zimbabwe</th>\n      <th>Harare</th>\n      <td>2013-05-01</td>\n      <td>18.298</td>\n    </tr>\n    <tr>\n      <th>Harare</th>\n      <td>2013-06-01</td>\n      <td>17.020</td>\n    </tr>\n    <tr>\n      <th>Harare</th>\n      <td>2013-07-01</td>\n      <td>16.299</td>\n    </tr>\n    <tr>\n      <th>Harare</th>\n      <td>2013-08-01</td>\n      <td>19.232</td>\n    </tr>\n    <tr>\n      <th>Harare</th>\n      <td>2013-09-01</td>\n      <td>NaN</td>\n    </tr>\n  </tbody>\n</table>\n<p>16500 rows × 2 columns</p>\n</div>"
     },
     "execution_count": 3,
     "metadata": {},
     "output_type": "execute_result"
    }
   ],
   "source": [
    "# Subset columns from date to avg_temp_c\n",
    "temperatures_srt.loc[:, \"date\":\"avg_temp_c\"]"
   ],
   "metadata": {
    "collapsed": false,
    "pycharm": {
     "name": "#%%\n"
    }
   }
  },
  {
   "cell_type": "code",
   "execution_count": 4,
   "outputs": [
    {
     "data": {
      "text/plain": "                       date  avg_temp_c\ncountry city                           \nIndia   Jaipur   2000-01-01      16.837\n        Jaipur   2000-02-01      17.592\n        Jaipur   2000-03-01      23.932\n        Jaipur   2000-04-01      32.219\n        Jaipur   2000-05-01      34.423\n...                     ...         ...\nIraq    Baghdad  2013-05-01      28.673\n        Baghdad  2013-06-01      33.803\n        Baghdad  2013-07-01      36.392\n        Baghdad  2013-08-01      35.463\n        Baghdad  2013-09-01         NaN\n\n[1980 rows x 2 columns]",
      "text/html": "<div>\n<style scoped>\n    .dataframe tbody tr th:only-of-type {\n        vertical-align: middle;\n    }\n\n    .dataframe tbody tr th {\n        vertical-align: top;\n    }\n\n    .dataframe thead th {\n        text-align: right;\n    }\n</style>\n<table border=\"1\" class=\"dataframe\">\n  <thead>\n    <tr style=\"text-align: right;\">\n      <th></th>\n      <th></th>\n      <th>date</th>\n      <th>avg_temp_c</th>\n    </tr>\n    <tr>\n      <th>country</th>\n      <th>city</th>\n      <th></th>\n      <th></th>\n    </tr>\n  </thead>\n  <tbody>\n    <tr>\n      <th rowspan=\"5\" valign=\"top\">India</th>\n      <th>Jaipur</th>\n      <td>2000-01-01</td>\n      <td>16.837</td>\n    </tr>\n    <tr>\n      <th>Jaipur</th>\n      <td>2000-02-01</td>\n      <td>17.592</td>\n    </tr>\n    <tr>\n      <th>Jaipur</th>\n      <td>2000-03-01</td>\n      <td>23.932</td>\n    </tr>\n    <tr>\n      <th>Jaipur</th>\n      <td>2000-04-01</td>\n      <td>32.219</td>\n    </tr>\n    <tr>\n      <th>Jaipur</th>\n      <td>2000-05-01</td>\n      <td>34.423</td>\n    </tr>\n    <tr>\n      <th>...</th>\n      <th>...</th>\n      <td>...</td>\n      <td>...</td>\n    </tr>\n    <tr>\n      <th rowspan=\"5\" valign=\"top\">Iraq</th>\n      <th>Baghdad</th>\n      <td>2013-05-01</td>\n      <td>28.673</td>\n    </tr>\n    <tr>\n      <th>Baghdad</th>\n      <td>2013-06-01</td>\n      <td>33.803</td>\n    </tr>\n    <tr>\n      <th>Baghdad</th>\n      <td>2013-07-01</td>\n      <td>36.392</td>\n    </tr>\n    <tr>\n      <th>Baghdad</th>\n      <td>2013-08-01</td>\n      <td>35.463</td>\n    </tr>\n    <tr>\n      <th>Baghdad</th>\n      <td>2013-09-01</td>\n      <td>NaN</td>\n    </tr>\n  </tbody>\n</table>\n<p>1980 rows × 2 columns</p>\n</div>"
     },
     "execution_count": 4,
     "metadata": {},
     "output_type": "execute_result"
    }
   ],
   "source": [
    "# Subset in both directions at once\n",
    "temperatures_srt.loc[(\"India\", \"Hyderabad\"):(\"Iraq\", \"Baghdad\"), \"date\":\"avg_temp_c\"]"
   ],
   "metadata": {
    "collapsed": false,
    "pycharm": {
     "name": "#%%\n"
    }
   }
  },
  {
   "cell_type": "code",
   "execution_count": 6,
   "outputs": [
    {
     "data": {
      "text/plain": "                 Unnamed: 0        date  avg_temp_c\ncountry  city                                      \nPakistan Lahore        8415  2000-01-01      12.792\n         Lahore        8416  2000-02-01      14.339\n         Lahore        8417  2000-03-01      20.309\n         Lahore        8418  2000-04-01      29.072\n         Lahore        8419  2000-05-01      34.845\n...                     ...         ...         ...\nRussia   Moscow       10885  2013-05-01      16.152\n         Moscow       10886  2013-06-01      18.718\n         Moscow       10887  2013-07-01      18.136\n         Moscow       10888  2013-08-01      17.485\n         Moscow       10889  2013-09-01         NaN\n\n[660 rows x 3 columns]",
      "text/html": "<div>\n<style scoped>\n    .dataframe tbody tr th:only-of-type {\n        vertical-align: middle;\n    }\n\n    .dataframe tbody tr th {\n        vertical-align: top;\n    }\n\n    .dataframe thead th {\n        text-align: right;\n    }\n</style>\n<table border=\"1\" class=\"dataframe\">\n  <thead>\n    <tr style=\"text-align: right;\">\n      <th></th>\n      <th></th>\n      <th>Unnamed: 0</th>\n      <th>date</th>\n      <th>avg_temp_c</th>\n    </tr>\n    <tr>\n      <th>country</th>\n      <th>city</th>\n      <th></th>\n      <th></th>\n      <th></th>\n    </tr>\n  </thead>\n  <tbody>\n    <tr>\n      <th rowspan=\"5\" valign=\"top\">Pakistan</th>\n      <th>Lahore</th>\n      <td>8415</td>\n      <td>2000-01-01</td>\n      <td>12.792</td>\n    </tr>\n    <tr>\n      <th>Lahore</th>\n      <td>8416</td>\n      <td>2000-02-01</td>\n      <td>14.339</td>\n    </tr>\n    <tr>\n      <th>Lahore</th>\n      <td>8417</td>\n      <td>2000-03-01</td>\n      <td>20.309</td>\n    </tr>\n    <tr>\n      <th>Lahore</th>\n      <td>8418</td>\n      <td>2000-04-01</td>\n      <td>29.072</td>\n    </tr>\n    <tr>\n      <th>Lahore</th>\n      <td>8419</td>\n      <td>2000-05-01</td>\n      <td>34.845</td>\n    </tr>\n    <tr>\n      <th>...</th>\n      <th>...</th>\n      <td>...</td>\n      <td>...</td>\n      <td>...</td>\n    </tr>\n    <tr>\n      <th rowspan=\"5\" valign=\"top\">Russia</th>\n      <th>Moscow</th>\n      <td>10885</td>\n      <td>2013-05-01</td>\n      <td>16.152</td>\n    </tr>\n    <tr>\n      <th>Moscow</th>\n      <td>10886</td>\n      <td>2013-06-01</td>\n      <td>18.718</td>\n    </tr>\n    <tr>\n      <th>Moscow</th>\n      <td>10887</td>\n      <td>2013-07-01</td>\n      <td>18.136</td>\n    </tr>\n    <tr>\n      <th>Moscow</th>\n      <td>10888</td>\n      <td>2013-08-01</td>\n      <td>17.485</td>\n    </tr>\n    <tr>\n      <th>Moscow</th>\n      <td>10889</td>\n      <td>2013-09-01</td>\n      <td>NaN</td>\n    </tr>\n  </tbody>\n</table>\n<p>660 rows × 3 columns</p>\n</div>"
     },
     "execution_count": 6,
     "metadata": {},
     "output_type": "execute_result"
    }
   ],
   "source": [
    "# Subset rows from Pakistan, Lahore to Russia, Moscow\n",
    "temperatures_srt.loc[(\"Pakistan\", \"Lahore\"):(\"Russia\", \"Moscow\")]"
   ],
   "metadata": {
    "collapsed": false,
    "pycharm": {
     "name": "#%%\n"
    }
   }
  },
  {
   "cell_type": "code",
   "execution_count": null,
   "outputs": [],
   "source": [],
   "metadata": {
    "collapsed": false,
    "pycharm": {
     "name": "#%%\n"
    }
   }
  }
 ],
 "metadata": {
  "kernelspec": {
   "display_name": "Python 3",
   "language": "python",
   "name": "python3"
  },
  "language_info": {
   "codemirror_mode": {
    "name": "ipython",
    "version": 2
   },
   "file_extension": ".py",
   "mimetype": "text/x-python",
   "name": "python",
   "nbconvert_exporter": "python",
   "pygments_lexer": "ipython2",
   "version": "2.7.6"
  }
 },
 "nbformat": 4,
 "nbformat_minor": 0
}