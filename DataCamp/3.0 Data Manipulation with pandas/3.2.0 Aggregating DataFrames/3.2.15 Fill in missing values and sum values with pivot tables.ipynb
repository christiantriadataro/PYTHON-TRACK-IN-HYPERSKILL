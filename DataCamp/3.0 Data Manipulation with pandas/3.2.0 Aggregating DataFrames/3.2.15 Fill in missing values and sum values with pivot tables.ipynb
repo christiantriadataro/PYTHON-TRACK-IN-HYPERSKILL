{
 "cells": [
  {
   "cell_type": "markdown",
   "source": [
    "## Aggregating DataFrames"
   ],
   "metadata": {
    "collapsed": false,
    "pycharm": {
     "name": "#%% md\n"
    }
   }
  },
  {
   "cell_type": "markdown",
   "source": [
    "#### Fill in missing values and sum values with pivot tables"
   ],
   "metadata": {
    "collapsed": false,
    "pycharm": {
     "name": "#%% md\n"
    }
   }
  },
  {
   "cell_type": "markdown",
   "source": [
    "The `.pivot table()` method has several useful arguments, including `fill_value` and `margins`.\n",
    "`fill_value` replace missing values with a real value (known as *imputation*). What to replace missing values with is a topic big enough to have its own course ([Dealing with Missing Data in Python](https://www.datacamp.com/courses/dealing-with-missing-data-in-python)). but the simplest thing to do is to substitute a dummy value. `margins` is a shortcut for when you pivoted by two variables, but also wanted to pivot by each of those variables separately: it gives the row and column totals of the pivot table contents. In this exercise, you'll practice using these arguments to up your pivot table skills, which will help you crunch numbers more efficiently!\n",
    "`sales` is available and `pandas` is imported as `pd`."
   ],
   "metadata": {
    "collapsed": false,
    "pycharm": {
     "name": "#%% md\n"
    }
   }
  },
  {
   "cell_type": "code",
   "execution_count": 1,
   "outputs": [
    {
     "data": {
      "text/plain": "   Unnamed: 0  store type  department        date  weekly_sales  is_holiday  \\\n0           0      1    A           1  2010-02-05      24924.50       False   \n1           1      1    A           1  2010-03-05      21827.90       False   \n2           2      1    A           1  2010-04-02      57258.43       False   \n3           3      1    A           1  2010-05-07      17413.94       False   \n4           4      1    A           1  2010-06-04      17558.09       False   \n\n   temperature_c  fuel_price_usd_per_l  unemployment  \n0       5.727778              0.679451         8.106  \n1       8.055556              0.693452         8.106  \n2      16.816667              0.718284         7.808  \n3      22.527778              0.748928         7.808  \n4      27.050000              0.714586         7.808  ",
      "text/html": "<div>\n<style scoped>\n    .dataframe tbody tr th:only-of-type {\n        vertical-align: middle;\n    }\n\n    .dataframe tbody tr th {\n        vertical-align: top;\n    }\n\n    .dataframe thead th {\n        text-align: right;\n    }\n</style>\n<table border=\"1\" class=\"dataframe\">\n  <thead>\n    <tr style=\"text-align: right;\">\n      <th></th>\n      <th>Unnamed: 0</th>\n      <th>store</th>\n      <th>type</th>\n      <th>department</th>\n      <th>date</th>\n      <th>weekly_sales</th>\n      <th>is_holiday</th>\n      <th>temperature_c</th>\n      <th>fuel_price_usd_per_l</th>\n      <th>unemployment</th>\n    </tr>\n  </thead>\n  <tbody>\n    <tr>\n      <th>0</th>\n      <td>0</td>\n      <td>1</td>\n      <td>A</td>\n      <td>1</td>\n      <td>2010-02-05</td>\n      <td>24924.50</td>\n      <td>False</td>\n      <td>5.727778</td>\n      <td>0.679451</td>\n      <td>8.106</td>\n    </tr>\n    <tr>\n      <th>1</th>\n      <td>1</td>\n      <td>1</td>\n      <td>A</td>\n      <td>1</td>\n      <td>2010-03-05</td>\n      <td>21827.90</td>\n      <td>False</td>\n      <td>8.055556</td>\n      <td>0.693452</td>\n      <td>8.106</td>\n    </tr>\n    <tr>\n      <th>2</th>\n      <td>2</td>\n      <td>1</td>\n      <td>A</td>\n      <td>1</td>\n      <td>2010-04-02</td>\n      <td>57258.43</td>\n      <td>False</td>\n      <td>16.816667</td>\n      <td>0.718284</td>\n      <td>7.808</td>\n    </tr>\n    <tr>\n      <th>3</th>\n      <td>3</td>\n      <td>1</td>\n      <td>A</td>\n      <td>1</td>\n      <td>2010-05-07</td>\n      <td>17413.94</td>\n      <td>False</td>\n      <td>22.527778</td>\n      <td>0.748928</td>\n      <td>7.808</td>\n    </tr>\n    <tr>\n      <th>4</th>\n      <td>4</td>\n      <td>1</td>\n      <td>A</td>\n      <td>1</td>\n      <td>2010-06-04</td>\n      <td>17558.09</td>\n      <td>False</td>\n      <td>27.050000</td>\n      <td>0.714586</td>\n      <td>7.808</td>\n    </tr>\n  </tbody>\n</table>\n</div>"
     },
     "execution_count": 1,
     "metadata": {},
     "output_type": "execute_result"
    }
   ],
   "source": [
    "# importing pandas\n",
    "import pandas as pd\n",
    "\n",
    "# importing sales dataset\n",
    "sales = pd.read_csv(\"../datasets/sales_subset.csv\")\n",
    "sales.head()"
   ],
   "metadata": {
    "collapsed": false,
    "pycharm": {
     "name": "#%%\n"
    }
   }
  },
  {
   "cell_type": "markdown",
   "source": [
    "### Instructions"
   ],
   "metadata": {
    "collapsed": false,
    "pycharm": {
     "name": "#%% md\n"
    }
   }
  },
  {
   "cell_type": "markdown",
   "source": [
    "* Print the mean `weekly_sales` by `department` and `type`, filling in any missing values with `0`.\n",
    "* Print the mean `weekly_sales` by `department` and `type`, filling in any missing values with `0`"
   ],
   "metadata": {
    "collapsed": false,
    "pycharm": {
     "name": "#%% md\n"
    }
   }
  },
  {
   "cell_type": "code",
   "execution_count": 5,
   "outputs": [
    {
     "data": {
      "text/plain": "department            1              2             3             4   \\\ntype                                                                  \nA           30961.725379   67600.158788  17160.002955  44285.399091   \nB           44050.626667  112958.526667  30580.655000  51219.654167   \n\ndepartment            5             6             7             8   \\\ntype                                                                 \nA           34821.011364   7136.292652  38454.336818  48583.475303   \nB           63236.875000  10717.297500  52909.653333  90733.753333   \n\ndepartment            9             10  ...            90            91  \\\ntype                                    ...                               \nA           30120.449924  30930.456364  ...  85776.905909  70423.165227   \nB           66679.301667  48595.126667  ...  14780.210000  13199.602500   \n\ndepartment             92            93            94             95  \\\ntype                                                                   \nA           139722.204773  53413.633939  60081.155303  123933.787121   \nB            50859.278333   1466.274167    161.445833   77082.102500   \n\ndepartment            96            97            98          99  \ntype                                                              \nA           21367.042857  28471.266970  12875.423182  379.123659  \nB            9528.538333   5828.873333    217.428333    0.000000  \n\n[2 rows x 80 columns]",
      "text/html": "<div>\n<style scoped>\n    .dataframe tbody tr th:only-of-type {\n        vertical-align: middle;\n    }\n\n    .dataframe tbody tr th {\n        vertical-align: top;\n    }\n\n    .dataframe thead th {\n        text-align: right;\n    }\n</style>\n<table border=\"1\" class=\"dataframe\">\n  <thead>\n    <tr style=\"text-align: right;\">\n      <th>department</th>\n      <th>1</th>\n      <th>2</th>\n      <th>3</th>\n      <th>4</th>\n      <th>5</th>\n      <th>6</th>\n      <th>7</th>\n      <th>8</th>\n      <th>9</th>\n      <th>10</th>\n      <th>...</th>\n      <th>90</th>\n      <th>91</th>\n      <th>92</th>\n      <th>93</th>\n      <th>94</th>\n      <th>95</th>\n      <th>96</th>\n      <th>97</th>\n      <th>98</th>\n      <th>99</th>\n    </tr>\n    <tr>\n      <th>type</th>\n      <th></th>\n      <th></th>\n      <th></th>\n      <th></th>\n      <th></th>\n      <th></th>\n      <th></th>\n      <th></th>\n      <th></th>\n      <th></th>\n      <th></th>\n      <th></th>\n      <th></th>\n      <th></th>\n      <th></th>\n      <th></th>\n      <th></th>\n      <th></th>\n      <th></th>\n      <th></th>\n      <th></th>\n    </tr>\n  </thead>\n  <tbody>\n    <tr>\n      <th>A</th>\n      <td>30961.725379</td>\n      <td>67600.158788</td>\n      <td>17160.002955</td>\n      <td>44285.399091</td>\n      <td>34821.011364</td>\n      <td>7136.292652</td>\n      <td>38454.336818</td>\n      <td>48583.475303</td>\n      <td>30120.449924</td>\n      <td>30930.456364</td>\n      <td>...</td>\n      <td>85776.905909</td>\n      <td>70423.165227</td>\n      <td>139722.204773</td>\n      <td>53413.633939</td>\n      <td>60081.155303</td>\n      <td>123933.787121</td>\n      <td>21367.042857</td>\n      <td>28471.266970</td>\n      <td>12875.423182</td>\n      <td>379.123659</td>\n    </tr>\n    <tr>\n      <th>B</th>\n      <td>44050.626667</td>\n      <td>112958.526667</td>\n      <td>30580.655000</td>\n      <td>51219.654167</td>\n      <td>63236.875000</td>\n      <td>10717.297500</td>\n      <td>52909.653333</td>\n      <td>90733.753333</td>\n      <td>66679.301667</td>\n      <td>48595.126667</td>\n      <td>...</td>\n      <td>14780.210000</td>\n      <td>13199.602500</td>\n      <td>50859.278333</td>\n      <td>1466.274167</td>\n      <td>161.445833</td>\n      <td>77082.102500</td>\n      <td>9528.538333</td>\n      <td>5828.873333</td>\n      <td>217.428333</td>\n      <td>0.000000</td>\n    </tr>\n  </tbody>\n</table>\n<p>2 rows × 80 columns</p>\n</div>"
     },
     "execution_count": 5,
     "metadata": {},
     "output_type": "execute_result"
    }
   ],
   "source": [
    "# Print hte mean weekly_sales by department and type; fill missing values with 0\n",
    "sales.pivot_table(fill_value=0, values=\"weekly_sales\", index=\"type\", columns=\"department\")"
   ],
   "metadata": {
    "collapsed": false,
    "pycharm": {
     "name": "#%%\n"
    }
   }
  },
  {
   "cell_type": "code",
   "execution_count": 6,
   "outputs": [
    {
     "data": {
      "text/plain": "type                   A              B           All\ndepartment                                           \n1           30961.725379   44050.626667  32052.467153\n2           67600.158788  112958.526667  71380.022778\n3           17160.002955   30580.655000  18278.390625\n4           44285.399091   51219.654167  44863.253681\n5           34821.011364   63236.875000  37189.000000\n...                  ...            ...           ...\n96          21367.042857    9528.538333  20337.607681\n97          28471.266970    5828.873333  26584.400833\n98          12875.423182     217.428333  11820.590278\n99            379.123659       0.000000    379.123659\nAll         23674.667242   25696.678370  23843.950149\n\n[81 rows x 3 columns]",
      "text/html": "<div>\n<style scoped>\n    .dataframe tbody tr th:only-of-type {\n        vertical-align: middle;\n    }\n\n    .dataframe tbody tr th {\n        vertical-align: top;\n    }\n\n    .dataframe thead th {\n        text-align: right;\n    }\n</style>\n<table border=\"1\" class=\"dataframe\">\n  <thead>\n    <tr style=\"text-align: right;\">\n      <th>type</th>\n      <th>A</th>\n      <th>B</th>\n      <th>All</th>\n    </tr>\n    <tr>\n      <th>department</th>\n      <th></th>\n      <th></th>\n      <th></th>\n    </tr>\n  </thead>\n  <tbody>\n    <tr>\n      <th>1</th>\n      <td>30961.725379</td>\n      <td>44050.626667</td>\n      <td>32052.467153</td>\n    </tr>\n    <tr>\n      <th>2</th>\n      <td>67600.158788</td>\n      <td>112958.526667</td>\n      <td>71380.022778</td>\n    </tr>\n    <tr>\n      <th>3</th>\n      <td>17160.002955</td>\n      <td>30580.655000</td>\n      <td>18278.390625</td>\n    </tr>\n    <tr>\n      <th>4</th>\n      <td>44285.399091</td>\n      <td>51219.654167</td>\n      <td>44863.253681</td>\n    </tr>\n    <tr>\n      <th>5</th>\n      <td>34821.011364</td>\n      <td>63236.875000</td>\n      <td>37189.000000</td>\n    </tr>\n    <tr>\n      <th>...</th>\n      <td>...</td>\n      <td>...</td>\n      <td>...</td>\n    </tr>\n    <tr>\n      <th>96</th>\n      <td>21367.042857</td>\n      <td>9528.538333</td>\n      <td>20337.607681</td>\n    </tr>\n    <tr>\n      <th>97</th>\n      <td>28471.266970</td>\n      <td>5828.873333</td>\n      <td>26584.400833</td>\n    </tr>\n    <tr>\n      <th>98</th>\n      <td>12875.423182</td>\n      <td>217.428333</td>\n      <td>11820.590278</td>\n    </tr>\n    <tr>\n      <th>99</th>\n      <td>379.123659</td>\n      <td>0.000000</td>\n      <td>379.123659</td>\n    </tr>\n    <tr>\n      <th>All</th>\n      <td>23674.667242</td>\n      <td>25696.678370</td>\n      <td>23843.950149</td>\n    </tr>\n  </tbody>\n</table>\n<p>81 rows × 3 columns</p>\n</div>"
     },
     "execution_count": 6,
     "metadata": {},
     "output_type": "execute_result"
    }
   ],
   "source": [
    "# Print the mean weekly_sales by department and type; fill missing values with 0s; sum all rows and cols\n",
    "sales.pivot_table(values=\"weekly_sales\", index=\"department\", columns=\"type\", fill_value=0, margins=True)"
   ],
   "metadata": {
    "collapsed": false,
    "pycharm": {
     "name": "#%%\n"
    }
   }
  },
  {
   "cell_type": "code",
   "execution_count": 9,
   "outputs": [
    {
     "data": {
      "text/plain": "is_holiday         False       True\ntype                               \nA           23768.583523  590.04525\nB           25751.980533  810.70500",
      "text/html": "<div>\n<style scoped>\n    .dataframe tbody tr th:only-of-type {\n        vertical-align: middle;\n    }\n\n    .dataframe tbody tr th {\n        vertical-align: top;\n    }\n\n    .dataframe thead th {\n        text-align: right;\n    }\n</style>\n<table border=\"1\" class=\"dataframe\">\n  <thead>\n    <tr style=\"text-align: right;\">\n      <th>is_holiday</th>\n      <th>False</th>\n      <th>True</th>\n    </tr>\n    <tr>\n      <th>type</th>\n      <th></th>\n      <th></th>\n    </tr>\n  </thead>\n  <tbody>\n    <tr>\n      <th>A</th>\n      <td>23768.583523</td>\n      <td>590.04525</td>\n    </tr>\n    <tr>\n      <th>B</th>\n      <td>25751.980533</td>\n      <td>810.70500</td>\n    </tr>\n  </tbody>\n</table>\n</div>"
     },
     "execution_count": 9,
     "metadata": {},
     "output_type": "execute_result"
    }
   ],
   "source": [
    "# Pivot for mean weekly_sales by store type and holiday\n",
    "mean_sales_by_type_holiday = sales.pivot_table(values=\"weekly_sales\", index=\"type\", columns=\"is_holiday\")\n",
    "mean_sales_by_type_holiday"
   ],
   "metadata": {
    "collapsed": false,
    "pycharm": {
     "name": "#%%\n"
    }
   }
  },
  {
   "cell_type": "code",
   "execution_count": null,
   "outputs": [],
   "source": [],
   "metadata": {
    "collapsed": false,
    "pycharm": {
     "name": "#%%\n"
    }
   }
  }
 ],
 "metadata": {
  "kernelspec": {
   "display_name": "Python 3",
   "language": "python",
   "name": "python3"
  },
  "language_info": {
   "codemirror_mode": {
    "name": "ipython",
    "version": 2
   },
   "file_extension": ".py",
   "mimetype": "text/x-python",
   "name": "python",
   "nbconvert_exporter": "python",
   "pygments_lexer": "ipython2",
   "version": "2.7.6"
  }
 },
 "nbformat": 4,
 "nbformat_minor": 0
}