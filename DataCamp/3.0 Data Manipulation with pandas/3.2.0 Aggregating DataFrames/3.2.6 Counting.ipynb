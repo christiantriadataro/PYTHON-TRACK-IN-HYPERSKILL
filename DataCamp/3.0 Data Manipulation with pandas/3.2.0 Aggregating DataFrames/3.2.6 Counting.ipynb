{
 "cells": [
  {
   "cell_type": "markdown",
   "source": [
    "## Aggregating DataFrames"
   ],
   "metadata": {
    "collapsed": false,
    "pycharm": {
     "name": "#%% md\n"
    }
   }
  },
  {
   "cell_type": "markdown",
   "source": [
    "#### Counting"
   ],
   "metadata": {
    "collapsed": false,
    "pycharm": {
     "name": "#%% md\n"
    }
   }
  },
  {
   "cell_type": "markdown",
   "source": [
    "#### Avoiding double counting"
   ],
   "metadata": {
    "collapsed": false,
    "pycharm": {
     "name": "#%% md\n"
    }
   }
  },
  {
   "cell_type": "markdown",
   "source": [
    "#### Vet visits"
   ],
   "metadata": {
    "collapsed": false,
    "pycharm": {
     "name": "#%% md\n"
    }
   }
  },
  {
   "cell_type": "code",
   "execution_count": 6,
   "outputs": [
    {
     "data": {
      "text/plain": "   Unnamed: 0        date     city        country  avg_temp_c\n0           0  2000-01-01  Abidjan  Côte D'Ivoire      27.293\n1           1  2000-02-01  Abidjan  Côte D'Ivoire      27.685\n2           2  2000-03-01  Abidjan  Côte D'Ivoire      29.061\n3           3  2000-04-01  Abidjan  Côte D'Ivoire      28.162\n4           4  2000-05-01  Abidjan  Côte D'Ivoire      27.547",
      "text/html": "<div>\n<style scoped>\n    .dataframe tbody tr th:only-of-type {\n        vertical-align: middle;\n    }\n\n    .dataframe tbody tr th {\n        vertical-align: top;\n    }\n\n    .dataframe thead th {\n        text-align: right;\n    }\n</style>\n<table border=\"1\" class=\"dataframe\">\n  <thead>\n    <tr style=\"text-align: right;\">\n      <th></th>\n      <th>Unnamed: 0</th>\n      <th>date</th>\n      <th>city</th>\n      <th>country</th>\n      <th>avg_temp_c</th>\n    </tr>\n  </thead>\n  <tbody>\n    <tr>\n      <th>0</th>\n      <td>0</td>\n      <td>2000-01-01</td>\n      <td>Abidjan</td>\n      <td>Côte D'Ivoire</td>\n      <td>27.293</td>\n    </tr>\n    <tr>\n      <th>1</th>\n      <td>1</td>\n      <td>2000-02-01</td>\n      <td>Abidjan</td>\n      <td>Côte D'Ivoire</td>\n      <td>27.685</td>\n    </tr>\n    <tr>\n      <th>2</th>\n      <td>2</td>\n      <td>2000-03-01</td>\n      <td>Abidjan</td>\n      <td>Côte D'Ivoire</td>\n      <td>29.061</td>\n    </tr>\n    <tr>\n      <th>3</th>\n      <td>3</td>\n      <td>2000-04-01</td>\n      <td>Abidjan</td>\n      <td>Côte D'Ivoire</td>\n      <td>28.162</td>\n    </tr>\n    <tr>\n      <th>4</th>\n      <td>4</td>\n      <td>2000-05-01</td>\n      <td>Abidjan</td>\n      <td>Côte D'Ivoire</td>\n      <td>27.547</td>\n    </tr>\n  </tbody>\n</table>\n</div>"
     },
     "execution_count": 6,
     "metadata": {},
     "output_type": "execute_result"
    }
   ],
   "source": [
    "# importing pandas\n",
    "import pandas as pd\n",
    "\n",
    "# importing sales dataset\n",
    "temp = pd.read_csv(\"../datasets/temperatures.csv\")\n",
    "temp.head()"
   ],
   "metadata": {
    "collapsed": false,
    "pycharm": {
     "name": "#%%\n"
    }
   }
  },
  {
   "cell_type": "markdown",
   "source": [
    "#### Dropping duplicate names"
   ],
   "metadata": {
    "collapsed": false,
    "pycharm": {
     "name": "#%% md\n"
    }
   }
  },
  {
   "cell_type": "code",
   "execution_count": 7,
   "metadata": {
    "collapsed": true,
    "pycharm": {
     "name": "#%%\n"
    }
   },
   "outputs": [
    {
     "data": {
      "text/plain": "       Unnamed: 0        date         city        country  avg_temp_c\n0               0  2000-01-01      Abidjan  Côte D'Ivoire      27.293\n165           165  2000-01-01  Addis Abeba       Ethiopia      17.391\n330           330  2000-01-01    Ahmadabad          India      20.781\n495           495  2000-01-01       Aleppo          Syria       5.205\n660           660  2000-01-01   Alexandria          Egypt      13.579\n...           ...         ...          ...            ...         ...\n15675       15675  2000-01-01        Tokyo          Japan       3.660\n15840       15840  2000-01-01      Toronto         Canada      -7.373\n16005       16005  2000-01-01   Umm Durman          Sudan      23.375\n16170       16170  2000-01-01        Wuhan          China       3.329\n16335       16335  2000-01-01         Xian          China      -2.819\n\n[100 rows x 5 columns]",
      "text/html": "<div>\n<style scoped>\n    .dataframe tbody tr th:only-of-type {\n        vertical-align: middle;\n    }\n\n    .dataframe tbody tr th {\n        vertical-align: top;\n    }\n\n    .dataframe thead th {\n        text-align: right;\n    }\n</style>\n<table border=\"1\" class=\"dataframe\">\n  <thead>\n    <tr style=\"text-align: right;\">\n      <th></th>\n      <th>Unnamed: 0</th>\n      <th>date</th>\n      <th>city</th>\n      <th>country</th>\n      <th>avg_temp_c</th>\n    </tr>\n  </thead>\n  <tbody>\n    <tr>\n      <th>0</th>\n      <td>0</td>\n      <td>2000-01-01</td>\n      <td>Abidjan</td>\n      <td>Côte D'Ivoire</td>\n      <td>27.293</td>\n    </tr>\n    <tr>\n      <th>165</th>\n      <td>165</td>\n      <td>2000-01-01</td>\n      <td>Addis Abeba</td>\n      <td>Ethiopia</td>\n      <td>17.391</td>\n    </tr>\n    <tr>\n      <th>330</th>\n      <td>330</td>\n      <td>2000-01-01</td>\n      <td>Ahmadabad</td>\n      <td>India</td>\n      <td>20.781</td>\n    </tr>\n    <tr>\n      <th>495</th>\n      <td>495</td>\n      <td>2000-01-01</td>\n      <td>Aleppo</td>\n      <td>Syria</td>\n      <td>5.205</td>\n    </tr>\n    <tr>\n      <th>660</th>\n      <td>660</td>\n      <td>2000-01-01</td>\n      <td>Alexandria</td>\n      <td>Egypt</td>\n      <td>13.579</td>\n    </tr>\n    <tr>\n      <th>...</th>\n      <td>...</td>\n      <td>...</td>\n      <td>...</td>\n      <td>...</td>\n      <td>...</td>\n    </tr>\n    <tr>\n      <th>15675</th>\n      <td>15675</td>\n      <td>2000-01-01</td>\n      <td>Tokyo</td>\n      <td>Japan</td>\n      <td>3.660</td>\n    </tr>\n    <tr>\n      <th>15840</th>\n      <td>15840</td>\n      <td>2000-01-01</td>\n      <td>Toronto</td>\n      <td>Canada</td>\n      <td>-7.373</td>\n    </tr>\n    <tr>\n      <th>16005</th>\n      <td>16005</td>\n      <td>2000-01-01</td>\n      <td>Umm Durman</td>\n      <td>Sudan</td>\n      <td>23.375</td>\n    </tr>\n    <tr>\n      <th>16170</th>\n      <td>16170</td>\n      <td>2000-01-01</td>\n      <td>Wuhan</td>\n      <td>China</td>\n      <td>3.329</td>\n    </tr>\n    <tr>\n      <th>16335</th>\n      <td>16335</td>\n      <td>2000-01-01</td>\n      <td>Xian</td>\n      <td>China</td>\n      <td>-2.819</td>\n    </tr>\n  </tbody>\n</table>\n<p>100 rows × 5 columns</p>\n</div>"
     },
     "execution_count": 7,
     "metadata": {},
     "output_type": "execute_result"
    }
   ],
   "source": [
    "temp.drop_duplicates(subset=\"city\")"
   ]
  },
  {
   "cell_type": "code",
   "execution_count": 8,
   "outputs": [
    {
     "data": {
      "text/plain": "       Unnamed: 0        date         city        country  avg_temp_c\n0               0  2000-01-01      Abidjan  Côte D'Ivoire      27.293\n165           165  2000-01-01  Addis Abeba       Ethiopia      17.391\n330           330  2000-01-01    Ahmadabad          India      20.781\n495           495  2000-01-01       Aleppo          Syria       5.205\n660           660  2000-01-01   Alexandria          Egypt      13.579\n...           ...         ...          ...            ...         ...\n15675       15675  2000-01-01        Tokyo          Japan       3.660\n15840       15840  2000-01-01      Toronto         Canada      -7.373\n16005       16005  2000-01-01   Umm Durman          Sudan      23.375\n16170       16170  2000-01-01        Wuhan          China       3.329\n16335       16335  2000-01-01         Xian          China      -2.819\n\n[100 rows x 5 columns]",
      "text/html": "<div>\n<style scoped>\n    .dataframe tbody tr th:only-of-type {\n        vertical-align: middle;\n    }\n\n    .dataframe tbody tr th {\n        vertical-align: top;\n    }\n\n    .dataframe thead th {\n        text-align: right;\n    }\n</style>\n<table border=\"1\" class=\"dataframe\">\n  <thead>\n    <tr style=\"text-align: right;\">\n      <th></th>\n      <th>Unnamed: 0</th>\n      <th>date</th>\n      <th>city</th>\n      <th>country</th>\n      <th>avg_temp_c</th>\n    </tr>\n  </thead>\n  <tbody>\n    <tr>\n      <th>0</th>\n      <td>0</td>\n      <td>2000-01-01</td>\n      <td>Abidjan</td>\n      <td>Côte D'Ivoire</td>\n      <td>27.293</td>\n    </tr>\n    <tr>\n      <th>165</th>\n      <td>165</td>\n      <td>2000-01-01</td>\n      <td>Addis Abeba</td>\n      <td>Ethiopia</td>\n      <td>17.391</td>\n    </tr>\n    <tr>\n      <th>330</th>\n      <td>330</td>\n      <td>2000-01-01</td>\n      <td>Ahmadabad</td>\n      <td>India</td>\n      <td>20.781</td>\n    </tr>\n    <tr>\n      <th>495</th>\n      <td>495</td>\n      <td>2000-01-01</td>\n      <td>Aleppo</td>\n      <td>Syria</td>\n      <td>5.205</td>\n    </tr>\n    <tr>\n      <th>660</th>\n      <td>660</td>\n      <td>2000-01-01</td>\n      <td>Alexandria</td>\n      <td>Egypt</td>\n      <td>13.579</td>\n    </tr>\n    <tr>\n      <th>...</th>\n      <td>...</td>\n      <td>...</td>\n      <td>...</td>\n      <td>...</td>\n      <td>...</td>\n    </tr>\n    <tr>\n      <th>15675</th>\n      <td>15675</td>\n      <td>2000-01-01</td>\n      <td>Tokyo</td>\n      <td>Japan</td>\n      <td>3.660</td>\n    </tr>\n    <tr>\n      <th>15840</th>\n      <td>15840</td>\n      <td>2000-01-01</td>\n      <td>Toronto</td>\n      <td>Canada</td>\n      <td>-7.373</td>\n    </tr>\n    <tr>\n      <th>16005</th>\n      <td>16005</td>\n      <td>2000-01-01</td>\n      <td>Umm Durman</td>\n      <td>Sudan</td>\n      <td>23.375</td>\n    </tr>\n    <tr>\n      <th>16170</th>\n      <td>16170</td>\n      <td>2000-01-01</td>\n      <td>Wuhan</td>\n      <td>China</td>\n      <td>3.329</td>\n    </tr>\n    <tr>\n      <th>16335</th>\n      <td>16335</td>\n      <td>2000-01-01</td>\n      <td>Xian</td>\n      <td>China</td>\n      <td>-2.819</td>\n    </tr>\n  </tbody>\n</table>\n<p>100 rows × 5 columns</p>\n</div>"
     },
     "execution_count": 8,
     "metadata": {},
     "output_type": "execute_result"
    }
   ],
   "source": [
    "#### Dropping duplicate pairs\n",
    "unique_city = temp.drop_duplicates(subset=[\"city\", \"country\"])\n",
    "unique_city"
   ],
   "metadata": {
    "collapsed": false,
    "pycharm": {
     "name": "#%%\n"
    }
   }
  },
  {
   "cell_type": "markdown",
   "source": [
    "#### Easy 1, 2, 3"
   ],
   "metadata": {
    "collapsed": false,
    "pycharm": {
     "name": "#%% md\n"
    }
   }
  },
  {
   "cell_type": "code",
   "execution_count": 11,
   "outputs": [
    {
     "data": {
      "text/plain": "China                                 16\nIndia                                 14\nBrazil                                 6\nPakistan                               3\nNigeria                                3\nEgypt                                  3\nTurkey                                 3\nUnited States                          3\nRussia                                 2\nIndonesia                              2\nSaudi Arabia                           2\nCanada                                 2\nSouth Africa                           2\nColombia                               2\nJapan                                  2\nAustralia                              2\nSomalia                                1\nMexico                                 1\nCôte D'Ivoire                          1\nItaly                                  1\nKenya                                  1\nFrance                                 1\nBurma                                  1\nPhilippines                            1\nChile                                  1\nDominican Republic                     1\nSouth Korea                            1\nSingapore                              1\nTaiwan                                 1\nIran                                   1\nAfghanistan                            1\nSpain                                  1\nAngola                                 1\nSyria                                  1\nIraq                                   1\nThailand                               1\nGermany                                1\nMorocco                                1\nSenegal                                1\nTanzania                               1\nBangladesh                             1\nZimbabwe                               1\nVietnam                                1\nEthiopia                               1\nUkraine                                1\nCongo (Democratic Republic Of The)     1\nPeru                                   1\nUnited Kingdom                         1\nSudan                                  1\nName: country, dtype: int64"
     },
     "execution_count": 11,
     "metadata": {},
     "output_type": "execute_result"
    }
   ],
   "source": [
    "unique_city[\"country\"].value_counts()"
   ],
   "metadata": {
    "collapsed": false,
    "pycharm": {
     "name": "#%%\n"
    }
   }
  },
  {
   "cell_type": "code",
   "execution_count": 12,
   "outputs": [
    {
     "data": {
      "text/plain": "China                                 16\nIndia                                 14\nBrazil                                 6\nPakistan                               3\nNigeria                                3\nEgypt                                  3\nTurkey                                 3\nUnited States                          3\nRussia                                 2\nIndonesia                              2\nSaudi Arabia                           2\nCanada                                 2\nSouth Africa                           2\nColombia                               2\nJapan                                  2\nAustralia                              2\nSomalia                                1\nMexico                                 1\nCôte D'Ivoire                          1\nItaly                                  1\nKenya                                  1\nFrance                                 1\nBurma                                  1\nPhilippines                            1\nChile                                  1\nDominican Republic                     1\nSouth Korea                            1\nSingapore                              1\nTaiwan                                 1\nIran                                   1\nAfghanistan                            1\nSpain                                  1\nAngola                                 1\nSyria                                  1\nIraq                                   1\nThailand                               1\nGermany                                1\nMorocco                                1\nSenegal                                1\nTanzania                               1\nBangladesh                             1\nZimbabwe                               1\nVietnam                                1\nEthiopia                               1\nUkraine                                1\nCongo (Democratic Republic Of The)     1\nPeru                                   1\nUnited Kingdom                         1\nSudan                                  1\nName: country, dtype: int64"
     },
     "execution_count": 12,
     "metadata": {},
     "output_type": "execute_result"
    }
   ],
   "source": [
    "unique_city[\"country\"].value_counts(sort=True)"
   ],
   "metadata": {
    "collapsed": false,
    "pycharm": {
     "name": "#%%\n"
    }
   }
  },
  {
   "cell_type": "code",
   "execution_count": 13,
   "outputs": [
    {
     "data": {
      "text/plain": "China                                 0.16\nIndia                                 0.14\nBrazil                                0.06\nPakistan                              0.03\nNigeria                               0.03\nEgypt                                 0.03\nTurkey                                0.03\nUnited States                         0.03\nRussia                                0.02\nIndonesia                             0.02\nSaudi Arabia                          0.02\nCanada                                0.02\nSouth Africa                          0.02\nColombia                              0.02\nJapan                                 0.02\nAustralia                             0.02\nSomalia                               0.01\nMexico                                0.01\nCôte D'Ivoire                         0.01\nItaly                                 0.01\nKenya                                 0.01\nFrance                                0.01\nBurma                                 0.01\nPhilippines                           0.01\nChile                                 0.01\nDominican Republic                    0.01\nSouth Korea                           0.01\nSingapore                             0.01\nTaiwan                                0.01\nIran                                  0.01\nAfghanistan                           0.01\nSpain                                 0.01\nAngola                                0.01\nSyria                                 0.01\nIraq                                  0.01\nThailand                              0.01\nGermany                               0.01\nMorocco                               0.01\nSenegal                               0.01\nTanzania                              0.01\nBangladesh                            0.01\nZimbabwe                              0.01\nVietnam                               0.01\nEthiopia                              0.01\nUkraine                               0.01\nCongo (Democratic Republic Of The)    0.01\nPeru                                  0.01\nUnited Kingdom                        0.01\nSudan                                 0.01\nName: country, dtype: float64"
     },
     "execution_count": 13,
     "metadata": {},
     "output_type": "execute_result"
    }
   ],
   "source": [
    "unique_city[\"country\"].value_counts(normalize=True)"
   ],
   "metadata": {
    "collapsed": false,
    "pycharm": {
     "name": "#%%\n"
    }
   }
  },
  {
   "cell_type": "code",
   "execution_count": null,
   "outputs": [],
   "source": [],
   "metadata": {
    "collapsed": false,
    "pycharm": {
     "name": "#%%\n"
    }
   }
  }
 ],
 "metadata": {
  "kernelspec": {
   "display_name": "Python 3",
   "language": "python",
   "name": "python3"
  },
  "language_info": {
   "codemirror_mode": {
    "name": "ipython",
    "version": 2
   },
   "file_extension": ".py",
   "mimetype": "text/x-python",
   "name": "python",
   "nbconvert_exporter": "python",
   "pygments_lexer": "ipython2",
   "version": "2.7.6"
  }
 },
 "nbformat": 4,
 "nbformat_minor": 0
}