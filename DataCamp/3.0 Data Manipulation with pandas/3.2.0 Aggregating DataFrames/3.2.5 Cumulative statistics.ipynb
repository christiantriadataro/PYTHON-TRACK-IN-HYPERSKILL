{
 "cells": [
  {
   "cell_type": "markdown",
   "source": [
    "## Aggregating DataFrames"
   ],
   "metadata": {
    "collapsed": false,
    "pycharm": {
     "name": "#%% md\n"
    }
   }
  },
  {
   "cell_type": "markdown",
   "source": [
    "#### Efficient summaries"
   ],
   "metadata": {
    "collapsed": false,
    "pycharm": {
     "name": "#%% md\n"
    }
   }
  },
  {
   "cell_type": "markdown",
   "source": [
    "Cumulative statistics can also be helpful in tracking summary statistics over time. In this exercise, you'll calculate the cumulative sum and cumulative max of a department's weekly sales, which will allow you to identify what the total sales were so far as well as what the highest weekly sales were so far.\n",
    "\n",
    "A DataFrame called `sales_1_1` has been created for you, which contains the sales data for department 1 of store 1. `pandas` is loaded as `pd`."
   ],
   "metadata": {
    "collapsed": false,
    "pycharm": {
     "name": "#%% md\n"
    }
   }
  },
  {
   "cell_type": "markdown",
   "source": [
    "### Instructions"
   ],
   "metadata": {
    "collapsed": false,
    "pycharm": {
     "name": "#%% md\n"
    }
   }
  },
  {
   "cell_type": "markdown",
   "source": [
    "* Sort of rows of `sales_1_1` by the `date` column in ascending order.\n",
    "* Get the cumulative sum of `weekly_sales` and add it as a new column of `sales_1_1` called `cum_weekly_sales.\n",
    "* Get the cumulative maximum of `weekly_sales`, and add it as a column called `cum_max_sales`.\n",
    "* Print the `date`, `weekly_sales`, `cum_weekly_sales`, and `cum_max_sales` columns."
   ],
   "metadata": {
    "collapsed": false,
    "pycharm": {
     "name": "#%% md\n"
    }
   }
  },
  {
   "cell_type": "code",
   "execution_count": 1,
   "outputs": [
    {
     "data": {
      "text/plain": "   Unnamed: 0  store type  department        date  weekly_sales  is_holiday  \\\n0           0      1    A           1  2010-02-05      24924.50       False   \n1           1      1    A           1  2010-03-05      21827.90       False   \n2           2      1    A           1  2010-04-02      57258.43       False   \n3           3      1    A           1  2010-05-07      17413.94       False   \n4           4      1    A           1  2010-06-04      17558.09       False   \n\n   temperature_c  fuel_price_usd_per_l  unemployment  \n0       5.727778              0.679451         8.106  \n1       8.055556              0.693452         8.106  \n2      16.816667              0.718284         7.808  \n3      22.527778              0.748928         7.808  \n4      27.050000              0.714586         7.808  ",
      "text/html": "<div>\n<style scoped>\n    .dataframe tbody tr th:only-of-type {\n        vertical-align: middle;\n    }\n\n    .dataframe tbody tr th {\n        vertical-align: top;\n    }\n\n    .dataframe thead th {\n        text-align: right;\n    }\n</style>\n<table border=\"1\" class=\"dataframe\">\n  <thead>\n    <tr style=\"text-align: right;\">\n      <th></th>\n      <th>Unnamed: 0</th>\n      <th>store</th>\n      <th>type</th>\n      <th>department</th>\n      <th>date</th>\n      <th>weekly_sales</th>\n      <th>is_holiday</th>\n      <th>temperature_c</th>\n      <th>fuel_price_usd_per_l</th>\n      <th>unemployment</th>\n    </tr>\n  </thead>\n  <tbody>\n    <tr>\n      <th>0</th>\n      <td>0</td>\n      <td>1</td>\n      <td>A</td>\n      <td>1</td>\n      <td>2010-02-05</td>\n      <td>24924.50</td>\n      <td>False</td>\n      <td>5.727778</td>\n      <td>0.679451</td>\n      <td>8.106</td>\n    </tr>\n    <tr>\n      <th>1</th>\n      <td>1</td>\n      <td>1</td>\n      <td>A</td>\n      <td>1</td>\n      <td>2010-03-05</td>\n      <td>21827.90</td>\n      <td>False</td>\n      <td>8.055556</td>\n      <td>0.693452</td>\n      <td>8.106</td>\n    </tr>\n    <tr>\n      <th>2</th>\n      <td>2</td>\n      <td>1</td>\n      <td>A</td>\n      <td>1</td>\n      <td>2010-04-02</td>\n      <td>57258.43</td>\n      <td>False</td>\n      <td>16.816667</td>\n      <td>0.718284</td>\n      <td>7.808</td>\n    </tr>\n    <tr>\n      <th>3</th>\n      <td>3</td>\n      <td>1</td>\n      <td>A</td>\n      <td>1</td>\n      <td>2010-05-07</td>\n      <td>17413.94</td>\n      <td>False</td>\n      <td>22.527778</td>\n      <td>0.748928</td>\n      <td>7.808</td>\n    </tr>\n    <tr>\n      <th>4</th>\n      <td>4</td>\n      <td>1</td>\n      <td>A</td>\n      <td>1</td>\n      <td>2010-06-04</td>\n      <td>17558.09</td>\n      <td>False</td>\n      <td>27.050000</td>\n      <td>0.714586</td>\n      <td>7.808</td>\n    </tr>\n  </tbody>\n</table>\n</div>"
     },
     "execution_count": 1,
     "metadata": {},
     "output_type": "execute_result"
    }
   ],
   "source": [
    "# importing pandas\n",
    "import pandas as pd\n",
    "\n",
    "# importing sales dataset\n",
    "sales = pd.read_csv(\"../datasets/sales_subset.csv\")\n",
    "sales.head()"
   ],
   "metadata": {
    "collapsed": false,
    "pycharm": {
     "name": "#%%\n"
    }
   }
  },
  {
   "cell_type": "code",
   "execution_count": 3,
   "metadata": {
    "collapsed": true,
    "pycharm": {
     "name": "#%%\n"
    }
   },
   "outputs": [
    {
     "data": {
      "text/plain": "       Unnamed: 0  store type  department        date  weekly_sales  \\\n0               0      1    A           1  2010-02-05      24924.50   \n6437         6437     19    A          13  2010-02-05      38597.52   \n1249         1249      2    A          31  2010-02-05       3840.21   \n6449         6449     19    A          14  2010-02-05      17590.59   \n6461         6461     19    A          16  2010-02-05       4929.87   \n...           ...    ...  ...         ...         ...           ...   \n3592         3592      6    A          99  2012-10-05        440.00   \n8108         8108     20    A          99  2012-10-05        660.00   \n10773       10773     39    A          99  2012-10-05        915.00   \n6257         6257     14    A          96  2012-10-12          3.00   \n3384         3384      6    A          77  2012-10-26        -21.63   \n\n       is_holiday  temperature_c  fuel_price_usd_per_l  unemployment  \n0           False       5.727778              0.679451         8.106  \n6437        False      -6.133333              0.780365         8.350  \n1249        False       4.550000              0.679451         8.324  \n6449        False      -6.133333              0.780365         8.350  \n6461        False      -6.133333              0.780365         8.350  \n...           ...            ...                   ...           ...  \n3592        False      21.577778              0.955511         5.329  \n8108        False      15.983333              1.052726         7.293  \n10773       False      22.250000              0.955511         6.228  \n6257        False      12.483333              1.056689         8.667  \n3384        False      22.411111              0.926188         5.329  \n\n[10774 rows x 10 columns]",
      "text/html": "<div>\n<style scoped>\n    .dataframe tbody tr th:only-of-type {\n        vertical-align: middle;\n    }\n\n    .dataframe tbody tr th {\n        vertical-align: top;\n    }\n\n    .dataframe thead th {\n        text-align: right;\n    }\n</style>\n<table border=\"1\" class=\"dataframe\">\n  <thead>\n    <tr style=\"text-align: right;\">\n      <th></th>\n      <th>Unnamed: 0</th>\n      <th>store</th>\n      <th>type</th>\n      <th>department</th>\n      <th>date</th>\n      <th>weekly_sales</th>\n      <th>is_holiday</th>\n      <th>temperature_c</th>\n      <th>fuel_price_usd_per_l</th>\n      <th>unemployment</th>\n    </tr>\n  </thead>\n  <tbody>\n    <tr>\n      <th>0</th>\n      <td>0</td>\n      <td>1</td>\n      <td>A</td>\n      <td>1</td>\n      <td>2010-02-05</td>\n      <td>24924.50</td>\n      <td>False</td>\n      <td>5.727778</td>\n      <td>0.679451</td>\n      <td>8.106</td>\n    </tr>\n    <tr>\n      <th>6437</th>\n      <td>6437</td>\n      <td>19</td>\n      <td>A</td>\n      <td>13</td>\n      <td>2010-02-05</td>\n      <td>38597.52</td>\n      <td>False</td>\n      <td>-6.133333</td>\n      <td>0.780365</td>\n      <td>8.350</td>\n    </tr>\n    <tr>\n      <th>1249</th>\n      <td>1249</td>\n      <td>2</td>\n      <td>A</td>\n      <td>31</td>\n      <td>2010-02-05</td>\n      <td>3840.21</td>\n      <td>False</td>\n      <td>4.550000</td>\n      <td>0.679451</td>\n      <td>8.324</td>\n    </tr>\n    <tr>\n      <th>6449</th>\n      <td>6449</td>\n      <td>19</td>\n      <td>A</td>\n      <td>14</td>\n      <td>2010-02-05</td>\n      <td>17590.59</td>\n      <td>False</td>\n      <td>-6.133333</td>\n      <td>0.780365</td>\n      <td>8.350</td>\n    </tr>\n    <tr>\n      <th>6461</th>\n      <td>6461</td>\n      <td>19</td>\n      <td>A</td>\n      <td>16</td>\n      <td>2010-02-05</td>\n      <td>4929.87</td>\n      <td>False</td>\n      <td>-6.133333</td>\n      <td>0.780365</td>\n      <td>8.350</td>\n    </tr>\n    <tr>\n      <th>...</th>\n      <td>...</td>\n      <td>...</td>\n      <td>...</td>\n      <td>...</td>\n      <td>...</td>\n      <td>...</td>\n      <td>...</td>\n      <td>...</td>\n      <td>...</td>\n      <td>...</td>\n    </tr>\n    <tr>\n      <th>3592</th>\n      <td>3592</td>\n      <td>6</td>\n      <td>A</td>\n      <td>99</td>\n      <td>2012-10-05</td>\n      <td>440.00</td>\n      <td>False</td>\n      <td>21.577778</td>\n      <td>0.955511</td>\n      <td>5.329</td>\n    </tr>\n    <tr>\n      <th>8108</th>\n      <td>8108</td>\n      <td>20</td>\n      <td>A</td>\n      <td>99</td>\n      <td>2012-10-05</td>\n      <td>660.00</td>\n      <td>False</td>\n      <td>15.983333</td>\n      <td>1.052726</td>\n      <td>7.293</td>\n    </tr>\n    <tr>\n      <th>10773</th>\n      <td>10773</td>\n      <td>39</td>\n      <td>A</td>\n      <td>99</td>\n      <td>2012-10-05</td>\n      <td>915.00</td>\n      <td>False</td>\n      <td>22.250000</td>\n      <td>0.955511</td>\n      <td>6.228</td>\n    </tr>\n    <tr>\n      <th>6257</th>\n      <td>6257</td>\n      <td>14</td>\n      <td>A</td>\n      <td>96</td>\n      <td>2012-10-12</td>\n      <td>3.00</td>\n      <td>False</td>\n      <td>12.483333</td>\n      <td>1.056689</td>\n      <td>8.667</td>\n    </tr>\n    <tr>\n      <th>3384</th>\n      <td>3384</td>\n      <td>6</td>\n      <td>A</td>\n      <td>77</td>\n      <td>2012-10-26</td>\n      <td>-21.63</td>\n      <td>False</td>\n      <td>22.411111</td>\n      <td>0.926188</td>\n      <td>5.329</td>\n    </tr>\n  </tbody>\n</table>\n<p>10774 rows × 10 columns</p>\n</div>"
     },
     "execution_count": 3,
     "metadata": {},
     "output_type": "execute_result"
    }
   ],
   "source": [
    "# Sort sales_1_1 by date\n",
    "sales_1_1 = sales.sort_values(\"date\")\n",
    "sales_1_1"
   ]
  },
  {
   "cell_type": "code",
   "execution_count": 4,
   "outputs": [
    {
     "data": {
      "text/plain": "0        2.492450e+04\n6437     1.629610e+08\n1249     2.668539e+07\n6449     1.633879e+08\n6461     1.635954e+08\n             ...     \n3592     8.543040e+07\n8108     2.028157e+08\n10773    2.568947e+08\n6257     1.583335e+08\n3384     7.879133e+07\nName: cum_weekly_sales, Length: 10774, dtype: float64"
     },
     "execution_count": 4,
     "metadata": {},
     "output_type": "execute_result"
    }
   ],
   "source": [
    "# Get the cumulative sum of weekly_sales, add as cum_weekly_sales col\n",
    "sales_1_1[\"cum_weekly_sales\"] = sales['weekly_sales'].cumsum()\n",
    "sales_1_1[\"cum_weekly_sales\"]"
   ],
   "metadata": {
    "collapsed": false,
    "pycharm": {
     "name": "#%%\n"
    }
   }
  },
  {
   "cell_type": "code",
   "execution_count": 5,
   "outputs": [
    {
     "data": {
      "text/plain": "0         24924.50\n6437      38597.52\n1249      38597.52\n6449      38597.52\n6461      38597.52\n           ...    \n3592     293966.05\n8108     293966.05\n10773    293966.05\n6257     293966.05\n3384     293966.05\nName: cum_max_sales, Length: 10774, dtype: float64"
     },
     "execution_count": 5,
     "metadata": {},
     "output_type": "execute_result"
    }
   ],
   "source": [
    "# Get the cumulative max of weekly_sales, add as cum_max_sales col\n",
    "sales_1_1[\"cum_max_sales\"] = sales_1_1[\"weekly_sales\"].cummax()\n",
    "sales_1_1[\"cum_max_sales\"]"
   ],
   "metadata": {
    "collapsed": false,
    "pycharm": {
     "name": "#%%\n"
    }
   }
  },
  {
   "cell_type": "code",
   "execution_count": 6,
   "outputs": [
    {
     "name": "stdout",
     "output_type": "stream",
     "text": [
      "             date  weekly_sales  cum_weekly_sales  cum_max_sales\n",
      "0      2010-02-05      24924.50      2.492450e+04       24924.50\n",
      "6437   2010-02-05      38597.52      1.629610e+08       38597.52\n",
      "1249   2010-02-05       3840.21      2.668539e+07       38597.52\n",
      "6449   2010-02-05      17590.59      1.633879e+08       38597.52\n",
      "6461   2010-02-05       4929.87      1.635954e+08       38597.52\n",
      "...           ...           ...               ...            ...\n",
      "3592   2012-10-05        440.00      8.543040e+07      293966.05\n",
      "8108   2012-10-05        660.00      2.028157e+08      293966.05\n",
      "10773  2012-10-05        915.00      2.568947e+08      293966.05\n",
      "6257   2012-10-12          3.00      1.583335e+08      293966.05\n",
      "3384   2012-10-26        -21.63      7.879133e+07      293966.05\n",
      "\n",
      "[10774 rows x 4 columns]\n"
     ]
    }
   ],
   "source": [
    "# See the columns you calculated\n",
    "print(sales_1_1[[\"date\", \"weekly_sales\", \"cum_weekly_sales\", \"cum_max_sales\"]])"
   ],
   "metadata": {
    "collapsed": false,
    "pycharm": {
     "name": "#%%\n"
    }
   }
  },
  {
   "cell_type": "code",
   "execution_count": null,
   "outputs": [],
   "source": [],
   "metadata": {
    "collapsed": false,
    "pycharm": {
     "name": "#%%\n"
    }
   }
  }
 ],
 "metadata": {
  "kernelspec": {
   "display_name": "Python 3",
   "language": "python",
   "name": "python3"
  },
  "language_info": {
   "codemirror_mode": {
    "name": "ipython",
    "version": 2
   },
   "file_extension": ".py",
   "mimetype": "text/x-python",
   "name": "python",
   "nbconvert_exporter": "python",
   "pygments_lexer": "ipython2",
   "version": "2.7.6"
  }
 },
 "nbformat": 4,
 "nbformat_minor": 0
}