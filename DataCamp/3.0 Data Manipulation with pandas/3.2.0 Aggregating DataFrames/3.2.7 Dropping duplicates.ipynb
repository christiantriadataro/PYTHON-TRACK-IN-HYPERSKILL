{
 "cells": [
  {
   "cell_type": "markdown",
   "source": [
    "## Aggregating DataFrames"
   ],
   "metadata": {
    "collapsed": false,
    "pycharm": {
     "name": "#%% md\n"
    }
   }
  },
  {
   "cell_type": "markdown",
   "source": [
    "#### Dropping duplicates"
   ],
   "metadata": {
    "collapsed": false,
    "pycharm": {
     "name": "#%% md\n"
    }
   }
  },
  {
   "cell_type": "markdown",
   "source": [
    "Removing duplicates is an essential skill to get accurate counts because often, you don't want to count the same thing multiple times. In this exercise, you'll create some new DataFrames using unique values from `sales`.\n",
    "`sales` is available and `pandas` is imported as `pd`."
   ],
   "metadata": {
    "collapsed": false,
    "pycharm": {
     "name": "#%% md\n"
    }
   }
  },
  {
   "cell_type": "markdown",
   "source": [
    "### Instructions"
   ],
   "metadata": {
    "collapsed": false,
    "pycharm": {
     "name": "#%% md\n"
    }
   }
  },
  {
   "cell_type": "markdown",
   "source": [
    "* Remove rows of `sales` with duplicate pairs of `store` and `type` and save as `store_types` and print the head.\n",
    "* Remove rows of `sales` with duplicate pairs of `store` and `department` and save as `store_depts` and print the heead.\n",
    "* Subset the rows that are holiday weeks using the `is_holiday` column, and drop the duplicate `date`s, saving as `holiday_dates`.\n",
    "* Select the `date` column of `holiday_dates`, and print."
   ],
   "metadata": {
    "collapsed": false,
    "pycharm": {
     "name": "#%% md\n"
    }
   }
  },
  {
   "cell_type": "code",
   "execution_count": 1,
   "outputs": [
    {
     "data": {
      "text/plain": "   Unnamed: 0  store type  department        date  weekly_sales  is_holiday  \\\n0           0      1    A           1  2010-02-05      24924.50       False   \n1           1      1    A           1  2010-03-05      21827.90       False   \n2           2      1    A           1  2010-04-02      57258.43       False   \n3           3      1    A           1  2010-05-07      17413.94       False   \n4           4      1    A           1  2010-06-04      17558.09       False   \n\n   temperature_c  fuel_price_usd_per_l  unemployment  \n0       5.727778              0.679451         8.106  \n1       8.055556              0.693452         8.106  \n2      16.816667              0.718284         7.808  \n3      22.527778              0.748928         7.808  \n4      27.050000              0.714586         7.808  ",
      "text/html": "<div>\n<style scoped>\n    .dataframe tbody tr th:only-of-type {\n        vertical-align: middle;\n    }\n\n    .dataframe tbody tr th {\n        vertical-align: top;\n    }\n\n    .dataframe thead th {\n        text-align: right;\n    }\n</style>\n<table border=\"1\" class=\"dataframe\">\n  <thead>\n    <tr style=\"text-align: right;\">\n      <th></th>\n      <th>Unnamed: 0</th>\n      <th>store</th>\n      <th>type</th>\n      <th>department</th>\n      <th>date</th>\n      <th>weekly_sales</th>\n      <th>is_holiday</th>\n      <th>temperature_c</th>\n      <th>fuel_price_usd_per_l</th>\n      <th>unemployment</th>\n    </tr>\n  </thead>\n  <tbody>\n    <tr>\n      <th>0</th>\n      <td>0</td>\n      <td>1</td>\n      <td>A</td>\n      <td>1</td>\n      <td>2010-02-05</td>\n      <td>24924.50</td>\n      <td>False</td>\n      <td>5.727778</td>\n      <td>0.679451</td>\n      <td>8.106</td>\n    </tr>\n    <tr>\n      <th>1</th>\n      <td>1</td>\n      <td>1</td>\n      <td>A</td>\n      <td>1</td>\n      <td>2010-03-05</td>\n      <td>21827.90</td>\n      <td>False</td>\n      <td>8.055556</td>\n      <td>0.693452</td>\n      <td>8.106</td>\n    </tr>\n    <tr>\n      <th>2</th>\n      <td>2</td>\n      <td>1</td>\n      <td>A</td>\n      <td>1</td>\n      <td>2010-04-02</td>\n      <td>57258.43</td>\n      <td>False</td>\n      <td>16.816667</td>\n      <td>0.718284</td>\n      <td>7.808</td>\n    </tr>\n    <tr>\n      <th>3</th>\n      <td>3</td>\n      <td>1</td>\n      <td>A</td>\n      <td>1</td>\n      <td>2010-05-07</td>\n      <td>17413.94</td>\n      <td>False</td>\n      <td>22.527778</td>\n      <td>0.748928</td>\n      <td>7.808</td>\n    </tr>\n    <tr>\n      <th>4</th>\n      <td>4</td>\n      <td>1</td>\n      <td>A</td>\n      <td>1</td>\n      <td>2010-06-04</td>\n      <td>17558.09</td>\n      <td>False</td>\n      <td>27.050000</td>\n      <td>0.714586</td>\n      <td>7.808</td>\n    </tr>\n  </tbody>\n</table>\n</div>"
     },
     "execution_count": 1,
     "metadata": {},
     "output_type": "execute_result"
    }
   ],
   "source": [
    "# importing pandas\n",
    "import pandas as pd\n",
    "\n",
    "# importing sales dataset\n",
    "sales = pd.read_csv(\"../datasets/sales_subset.csv\")\n",
    "sales.head()"
   ],
   "metadata": {
    "collapsed": false,
    "pycharm": {
     "name": "#%%\n"
    }
   }
  },
  {
   "cell_type": "code",
   "execution_count": 3,
   "metadata": {
    "collapsed": true,
    "pycharm": {
     "name": "#%%\n"
    }
   },
   "outputs": [
    {
     "data": {
      "text/plain": "      Unnamed: 0  store type  department        date  weekly_sales  \\\n0              0      1    A           1  2010-02-05      24924.50   \n901          901      2    A           1  2010-02-05      35034.06   \n1798        1798      4    A           1  2010-02-05      38724.42   \n2699        2699      6    A           1  2010-02-05      25619.00   \n3593        3593     10    B           1  2010-02-05      40212.84   \n4495        4495     13    A           1  2010-02-05      46761.90   \n5408        5408     14    A           1  2010-02-05      32842.31   \n6293        6293     19    A           1  2010-02-05      21500.58   \n7199        7199     20    A           1  2010-02-05      46021.21   \n8109        8109     27    A           1  2010-02-05      32313.79   \n9009        9009     31    A           1  2010-02-05      18187.71   \n9899        9899     39    A           1  2010-02-05      21244.50   \n\n      is_holiday  temperature_c  fuel_price_usd_per_l  unemployment  \n0          False       5.727778              0.679451         8.106  \n901        False       4.550000              0.679451         8.324  \n1798       False       6.533333              0.686319         8.623  \n2699       False       4.683333              0.679451         7.259  \n3593       False      12.411111              0.782478         9.765  \n4495       False      -0.261111              0.704283         8.316  \n5408       False      -2.605556              0.735455         8.992  \n6293       False      -6.133333              0.780365         8.350  \n7199       False      -3.377778              0.735455         8.187  \n8109       False      -2.672222              0.780365         8.237  \n9009       False       3.916667              0.679451         8.324  \n9899       False       6.833333              0.679451         8.554  ",
      "text/html": "<div>\n<style scoped>\n    .dataframe tbody tr th:only-of-type {\n        vertical-align: middle;\n    }\n\n    .dataframe tbody tr th {\n        vertical-align: top;\n    }\n\n    .dataframe thead th {\n        text-align: right;\n    }\n</style>\n<table border=\"1\" class=\"dataframe\">\n  <thead>\n    <tr style=\"text-align: right;\">\n      <th></th>\n      <th>Unnamed: 0</th>\n      <th>store</th>\n      <th>type</th>\n      <th>department</th>\n      <th>date</th>\n      <th>weekly_sales</th>\n      <th>is_holiday</th>\n      <th>temperature_c</th>\n      <th>fuel_price_usd_per_l</th>\n      <th>unemployment</th>\n    </tr>\n  </thead>\n  <tbody>\n    <tr>\n      <th>0</th>\n      <td>0</td>\n      <td>1</td>\n      <td>A</td>\n      <td>1</td>\n      <td>2010-02-05</td>\n      <td>24924.50</td>\n      <td>False</td>\n      <td>5.727778</td>\n      <td>0.679451</td>\n      <td>8.106</td>\n    </tr>\n    <tr>\n      <th>901</th>\n      <td>901</td>\n      <td>2</td>\n      <td>A</td>\n      <td>1</td>\n      <td>2010-02-05</td>\n      <td>35034.06</td>\n      <td>False</td>\n      <td>4.550000</td>\n      <td>0.679451</td>\n      <td>8.324</td>\n    </tr>\n    <tr>\n      <th>1798</th>\n      <td>1798</td>\n      <td>4</td>\n      <td>A</td>\n      <td>1</td>\n      <td>2010-02-05</td>\n      <td>38724.42</td>\n      <td>False</td>\n      <td>6.533333</td>\n      <td>0.686319</td>\n      <td>8.623</td>\n    </tr>\n    <tr>\n      <th>2699</th>\n      <td>2699</td>\n      <td>6</td>\n      <td>A</td>\n      <td>1</td>\n      <td>2010-02-05</td>\n      <td>25619.00</td>\n      <td>False</td>\n      <td>4.683333</td>\n      <td>0.679451</td>\n      <td>7.259</td>\n    </tr>\n    <tr>\n      <th>3593</th>\n      <td>3593</td>\n      <td>10</td>\n      <td>B</td>\n      <td>1</td>\n      <td>2010-02-05</td>\n      <td>40212.84</td>\n      <td>False</td>\n      <td>12.411111</td>\n      <td>0.782478</td>\n      <td>9.765</td>\n    </tr>\n    <tr>\n      <th>4495</th>\n      <td>4495</td>\n      <td>13</td>\n      <td>A</td>\n      <td>1</td>\n      <td>2010-02-05</td>\n      <td>46761.90</td>\n      <td>False</td>\n      <td>-0.261111</td>\n      <td>0.704283</td>\n      <td>8.316</td>\n    </tr>\n    <tr>\n      <th>5408</th>\n      <td>5408</td>\n      <td>14</td>\n      <td>A</td>\n      <td>1</td>\n      <td>2010-02-05</td>\n      <td>32842.31</td>\n      <td>False</td>\n      <td>-2.605556</td>\n      <td>0.735455</td>\n      <td>8.992</td>\n    </tr>\n    <tr>\n      <th>6293</th>\n      <td>6293</td>\n      <td>19</td>\n      <td>A</td>\n      <td>1</td>\n      <td>2010-02-05</td>\n      <td>21500.58</td>\n      <td>False</td>\n      <td>-6.133333</td>\n      <td>0.780365</td>\n      <td>8.350</td>\n    </tr>\n    <tr>\n      <th>7199</th>\n      <td>7199</td>\n      <td>20</td>\n      <td>A</td>\n      <td>1</td>\n      <td>2010-02-05</td>\n      <td>46021.21</td>\n      <td>False</td>\n      <td>-3.377778</td>\n      <td>0.735455</td>\n      <td>8.187</td>\n    </tr>\n    <tr>\n      <th>8109</th>\n      <td>8109</td>\n      <td>27</td>\n      <td>A</td>\n      <td>1</td>\n      <td>2010-02-05</td>\n      <td>32313.79</td>\n      <td>False</td>\n      <td>-2.672222</td>\n      <td>0.780365</td>\n      <td>8.237</td>\n    </tr>\n    <tr>\n      <th>9009</th>\n      <td>9009</td>\n      <td>31</td>\n      <td>A</td>\n      <td>1</td>\n      <td>2010-02-05</td>\n      <td>18187.71</td>\n      <td>False</td>\n      <td>3.916667</td>\n      <td>0.679451</td>\n      <td>8.324</td>\n    </tr>\n    <tr>\n      <th>9899</th>\n      <td>9899</td>\n      <td>39</td>\n      <td>A</td>\n      <td>1</td>\n      <td>2010-02-05</td>\n      <td>21244.50</td>\n      <td>False</td>\n      <td>6.833333</td>\n      <td>0.679451</td>\n      <td>8.554</td>\n    </tr>\n  </tbody>\n</table>\n</div>"
     },
     "execution_count": 3,
     "metadata": {},
     "output_type": "execute_result"
    }
   ],
   "source": [
    "# Drop duplicate store/type combinations\n",
    "store_types = sales.drop_duplicates([\"store\", \"type\"])\n",
    "store_types"
   ]
  },
  {
   "cell_type": "code",
   "execution_count": 4,
   "outputs": [
    {
     "data": {
      "text/plain": "       Unnamed: 0  store type  department        date  weekly_sales  \\\n0               0      1    A           1  2010-02-05      24924.50   \n12             12      1    A           2  2010-02-05      50605.27   \n24             24      1    A           3  2010-02-05      13740.12   \n36             36      1    A           4  2010-02-05      39954.04   \n48             48      1    A           5  2010-02-05      32229.38   \n...           ...    ...  ...         ...         ...           ...   \n10715       10715     39    A          95  2010-02-05      88385.24   \n10727       10727     39    A          96  2010-02-05      21450.05   \n10739       10739     39    A          97  2010-02-05      21162.05   \n10751       10751     39    A          98  2010-02-05       9023.09   \n10763       10763     39    A          99  2010-03-05          0.01   \n\n       is_holiday  temperature_c  fuel_price_usd_per_l  unemployment  \n0           False       5.727778              0.679451         8.106  \n12          False       5.727778              0.679451         8.106  \n24          False       5.727778              0.679451         8.106  \n36          False       5.727778              0.679451         8.106  \n48          False       5.727778              0.679451         8.106  \n...           ...            ...                   ...           ...  \n10715       False       6.833333              0.679451         8.554  \n10727       False       6.833333              0.679451         8.554  \n10739       False       6.833333              0.679451         8.554  \n10751       False       6.833333              0.679451         8.554  \n10763       False      10.516667              0.693452         8.554  \n\n[929 rows x 10 columns]",
      "text/html": "<div>\n<style scoped>\n    .dataframe tbody tr th:only-of-type {\n        vertical-align: middle;\n    }\n\n    .dataframe tbody tr th {\n        vertical-align: top;\n    }\n\n    .dataframe thead th {\n        text-align: right;\n    }\n</style>\n<table border=\"1\" class=\"dataframe\">\n  <thead>\n    <tr style=\"text-align: right;\">\n      <th></th>\n      <th>Unnamed: 0</th>\n      <th>store</th>\n      <th>type</th>\n      <th>department</th>\n      <th>date</th>\n      <th>weekly_sales</th>\n      <th>is_holiday</th>\n      <th>temperature_c</th>\n      <th>fuel_price_usd_per_l</th>\n      <th>unemployment</th>\n    </tr>\n  </thead>\n  <tbody>\n    <tr>\n      <th>0</th>\n      <td>0</td>\n      <td>1</td>\n      <td>A</td>\n      <td>1</td>\n      <td>2010-02-05</td>\n      <td>24924.50</td>\n      <td>False</td>\n      <td>5.727778</td>\n      <td>0.679451</td>\n      <td>8.106</td>\n    </tr>\n    <tr>\n      <th>12</th>\n      <td>12</td>\n      <td>1</td>\n      <td>A</td>\n      <td>2</td>\n      <td>2010-02-05</td>\n      <td>50605.27</td>\n      <td>False</td>\n      <td>5.727778</td>\n      <td>0.679451</td>\n      <td>8.106</td>\n    </tr>\n    <tr>\n      <th>24</th>\n      <td>24</td>\n      <td>1</td>\n      <td>A</td>\n      <td>3</td>\n      <td>2010-02-05</td>\n      <td>13740.12</td>\n      <td>False</td>\n      <td>5.727778</td>\n      <td>0.679451</td>\n      <td>8.106</td>\n    </tr>\n    <tr>\n      <th>36</th>\n      <td>36</td>\n      <td>1</td>\n      <td>A</td>\n      <td>4</td>\n      <td>2010-02-05</td>\n      <td>39954.04</td>\n      <td>False</td>\n      <td>5.727778</td>\n      <td>0.679451</td>\n      <td>8.106</td>\n    </tr>\n    <tr>\n      <th>48</th>\n      <td>48</td>\n      <td>1</td>\n      <td>A</td>\n      <td>5</td>\n      <td>2010-02-05</td>\n      <td>32229.38</td>\n      <td>False</td>\n      <td>5.727778</td>\n      <td>0.679451</td>\n      <td>8.106</td>\n    </tr>\n    <tr>\n      <th>...</th>\n      <td>...</td>\n      <td>...</td>\n      <td>...</td>\n      <td>...</td>\n      <td>...</td>\n      <td>...</td>\n      <td>...</td>\n      <td>...</td>\n      <td>...</td>\n      <td>...</td>\n    </tr>\n    <tr>\n      <th>10715</th>\n      <td>10715</td>\n      <td>39</td>\n      <td>A</td>\n      <td>95</td>\n      <td>2010-02-05</td>\n      <td>88385.24</td>\n      <td>False</td>\n      <td>6.833333</td>\n      <td>0.679451</td>\n      <td>8.554</td>\n    </tr>\n    <tr>\n      <th>10727</th>\n      <td>10727</td>\n      <td>39</td>\n      <td>A</td>\n      <td>96</td>\n      <td>2010-02-05</td>\n      <td>21450.05</td>\n      <td>False</td>\n      <td>6.833333</td>\n      <td>0.679451</td>\n      <td>8.554</td>\n    </tr>\n    <tr>\n      <th>10739</th>\n      <td>10739</td>\n      <td>39</td>\n      <td>A</td>\n      <td>97</td>\n      <td>2010-02-05</td>\n      <td>21162.05</td>\n      <td>False</td>\n      <td>6.833333</td>\n      <td>0.679451</td>\n      <td>8.554</td>\n    </tr>\n    <tr>\n      <th>10751</th>\n      <td>10751</td>\n      <td>39</td>\n      <td>A</td>\n      <td>98</td>\n      <td>2010-02-05</td>\n      <td>9023.09</td>\n      <td>False</td>\n      <td>6.833333</td>\n      <td>0.679451</td>\n      <td>8.554</td>\n    </tr>\n    <tr>\n      <th>10763</th>\n      <td>10763</td>\n      <td>39</td>\n      <td>A</td>\n      <td>99</td>\n      <td>2010-03-05</td>\n      <td>0.01</td>\n      <td>False</td>\n      <td>10.516667</td>\n      <td>0.693452</td>\n      <td>8.554</td>\n    </tr>\n  </tbody>\n</table>\n<p>929 rows × 10 columns</p>\n</div>"
     },
     "execution_count": 4,
     "metadata": {},
     "output_type": "execute_result"
    }
   ],
   "source": [
    "# Drop duplicate store/department combinations\n",
    "store_depts = sales.drop_duplicates([\"store\", \"department\"])\n",
    "store_depts"
   ],
   "metadata": {
    "collapsed": false,
    "pycharm": {
     "name": "#%%\n"
    }
   }
  },
  {
   "cell_type": "code",
   "execution_count": 6,
   "outputs": [
    {
     "data": {
      "text/plain": "      Unnamed: 0  store type  department        date  weekly_sales  \\\n498          498      1    A          45  2010-09-10         11.47   \n691          691      1    A          77  2011-11-25       1431.00   \n2315        2315      4    A          47  2010-02-12        498.00   \n6735        6735     19    A          39  2012-09-07         13.41   \n6810        6810     19    A          47  2010-12-31       -449.00   \n6815        6815     19    A          47  2012-02-10         15.00   \n6820        6820     19    A          48  2011-09-09        197.00   \n\n      is_holiday  temperature_c  fuel_price_usd_per_l  unemployment  \n498         True      25.938889              0.677602         7.787  \n691         True      15.633333              0.854861         7.866  \n2315        True      -1.755556              0.679715         8.623  \n6735        True      22.333333              1.076766         8.193  \n6810        True      -1.861111              0.881278         8.067  \n6815        True       0.338889              1.010723         7.943  \n6820        True      20.155556              1.038197         7.806  ",
      "text/html": "<div>\n<style scoped>\n    .dataframe tbody tr th:only-of-type {\n        vertical-align: middle;\n    }\n\n    .dataframe tbody tr th {\n        vertical-align: top;\n    }\n\n    .dataframe thead th {\n        text-align: right;\n    }\n</style>\n<table border=\"1\" class=\"dataframe\">\n  <thead>\n    <tr style=\"text-align: right;\">\n      <th></th>\n      <th>Unnamed: 0</th>\n      <th>store</th>\n      <th>type</th>\n      <th>department</th>\n      <th>date</th>\n      <th>weekly_sales</th>\n      <th>is_holiday</th>\n      <th>temperature_c</th>\n      <th>fuel_price_usd_per_l</th>\n      <th>unemployment</th>\n    </tr>\n  </thead>\n  <tbody>\n    <tr>\n      <th>498</th>\n      <td>498</td>\n      <td>1</td>\n      <td>A</td>\n      <td>45</td>\n      <td>2010-09-10</td>\n      <td>11.47</td>\n      <td>True</td>\n      <td>25.938889</td>\n      <td>0.677602</td>\n      <td>7.787</td>\n    </tr>\n    <tr>\n      <th>691</th>\n      <td>691</td>\n      <td>1</td>\n      <td>A</td>\n      <td>77</td>\n      <td>2011-11-25</td>\n      <td>1431.00</td>\n      <td>True</td>\n      <td>15.633333</td>\n      <td>0.854861</td>\n      <td>7.866</td>\n    </tr>\n    <tr>\n      <th>2315</th>\n      <td>2315</td>\n      <td>4</td>\n      <td>A</td>\n      <td>47</td>\n      <td>2010-02-12</td>\n      <td>498.00</td>\n      <td>True</td>\n      <td>-1.755556</td>\n      <td>0.679715</td>\n      <td>8.623</td>\n    </tr>\n    <tr>\n      <th>6735</th>\n      <td>6735</td>\n      <td>19</td>\n      <td>A</td>\n      <td>39</td>\n      <td>2012-09-07</td>\n      <td>13.41</td>\n      <td>True</td>\n      <td>22.333333</td>\n      <td>1.076766</td>\n      <td>8.193</td>\n    </tr>\n    <tr>\n      <th>6810</th>\n      <td>6810</td>\n      <td>19</td>\n      <td>A</td>\n      <td>47</td>\n      <td>2010-12-31</td>\n      <td>-449.00</td>\n      <td>True</td>\n      <td>-1.861111</td>\n      <td>0.881278</td>\n      <td>8.067</td>\n    </tr>\n    <tr>\n      <th>6815</th>\n      <td>6815</td>\n      <td>19</td>\n      <td>A</td>\n      <td>47</td>\n      <td>2012-02-10</td>\n      <td>15.00</td>\n      <td>True</td>\n      <td>0.338889</td>\n      <td>1.010723</td>\n      <td>7.943</td>\n    </tr>\n    <tr>\n      <th>6820</th>\n      <td>6820</td>\n      <td>19</td>\n      <td>A</td>\n      <td>48</td>\n      <td>2011-09-09</td>\n      <td>197.00</td>\n      <td>True</td>\n      <td>20.155556</td>\n      <td>1.038197</td>\n      <td>7.806</td>\n    </tr>\n  </tbody>\n</table>\n</div>"
     },
     "execution_count": 6,
     "metadata": {},
     "output_type": "execute_result"
    }
   ],
   "source": [
    "# Subset the rows where is_holiday is True and drop duplicates dates\n",
    "holiday_dates = sales[sales[\"is_holiday\"]].drop_duplicates(\"date\")\n",
    "holiday_dates"
   ],
   "metadata": {
    "collapsed": false,
    "pycharm": {
     "name": "#%%\n"
    }
   }
  },
  {
   "cell_type": "code",
   "execution_count": 6,
   "outputs": [
    {
     "name": "stdout",
     "output_type": "stream",
     "text": [
      "             date  weekly_sales  cum_weekly_sales  cum_max_sales\n",
      "0      2010-02-05      24924.50      2.492450e+04       24924.50\n",
      "6437   2010-02-05      38597.52      1.629610e+08       38597.52\n",
      "1249   2010-02-05       3840.21      2.668539e+07       38597.52\n",
      "6449   2010-02-05      17590.59      1.633879e+08       38597.52\n",
      "6461   2010-02-05       4929.87      1.635954e+08       38597.52\n",
      "...           ...           ...               ...            ...\n",
      "3592   2012-10-05        440.00      8.543040e+07      293966.05\n",
      "8108   2012-10-05        660.00      2.028157e+08      293966.05\n",
      "10773  2012-10-05        915.00      2.568947e+08      293966.05\n",
      "6257   2012-10-12          3.00      1.583335e+08      293966.05\n",
      "3384   2012-10-26        -21.63      7.879133e+07      293966.05\n",
      "\n",
      "[10774 rows x 4 columns]\n"
     ]
    }
   ],
   "source": [
    "# See the columns you calculated\n",
    "print(sales_1_1[[\"date\", \"weekly_sales\", \"cum_weekly_sales\", \"cum_max_sales\"]])"
   ],
   "metadata": {
    "collapsed": false,
    "pycharm": {
     "name": "#%%\n"
    }
   }
  },
  {
   "cell_type": "code",
   "execution_count": null,
   "outputs": [],
   "source": [],
   "metadata": {
    "collapsed": false,
    "pycharm": {
     "name": "#%%\n"
    }
   }
  }
 ],
 "metadata": {
  "kernelspec": {
   "display_name": "Python 3",
   "language": "python",
   "name": "python3"
  },
  "language_info": {
   "codemirror_mode": {
    "name": "ipython",
    "version": 2
   },
   "file_extension": ".py",
   "mimetype": "text/x-python",
   "name": "python",
   "nbconvert_exporter": "python",
   "pygments_lexer": "ipython2",
   "version": "2.7.6"
  }
 },
 "nbformat": 4,
 "nbformat_minor": 0
}