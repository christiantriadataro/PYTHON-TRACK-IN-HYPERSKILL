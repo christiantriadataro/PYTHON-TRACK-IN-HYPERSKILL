{
 "cells": [
  {
   "cell_type": "markdown",
   "source": [
    "# Supervised Learning with scikit-learn"
   ],
   "metadata": {
    "collapsed": false
   }
  },
  {
   "cell_type": "markdown",
   "source": [
    "## Regression"
   ],
   "metadata": {
    "collapsed": false
   }
  },
  {
   "cell_type": "markdown",
   "source": [
    "#### Regression mechanics\n",
    "* y = ax + b\n",
    "  + Simple linear regression uses one feature\n",
    "  - y = target\n",
    "  - x = single feature\n",
    "  - a, b = parameters/coefficients of the model - slope, intercept\n",
    "* How do we choose a and b?\n",
    "  + Define an error function for any given line\n",
    "  + Choose the line that minimizes the error function\n",
    "* Error function = loss function = cost function"
   ],
   "metadata": {
    "collapsed": false
   }
  },
  {
   "cell_type": "code",
   "execution_count": 6,
   "outputs": [
    {
     "data": {
      "text/plain": "   pregnancies  glucose  diastolic  triceps  insulin   bmi    dpf  age  \\\n0            6      148         72       35        0  33.6  0.627   50   \n1            1       85         66       29        0  26.6  0.351   31   \n2            8      183         64        0        0  23.3  0.672   32   \n3            1       89         66       23       94  28.1  0.167   21   \n4            0      137         40       35      168  43.1  2.288   33   \n\n   diabetes  \n0         1  \n1         0  \n2         1  \n3         0  \n4         1  ",
      "text/html": "<div>\n<style scoped>\n    .dataframe tbody tr th:only-of-type {\n        vertical-align: middle;\n    }\n\n    .dataframe tbody tr th {\n        vertical-align: top;\n    }\n\n    .dataframe thead th {\n        text-align: right;\n    }\n</style>\n<table border=\"1\" class=\"dataframe\">\n  <thead>\n    <tr style=\"text-align: right;\">\n      <th></th>\n      <th>pregnancies</th>\n      <th>glucose</th>\n      <th>diastolic</th>\n      <th>triceps</th>\n      <th>insulin</th>\n      <th>bmi</th>\n      <th>dpf</th>\n      <th>age</th>\n      <th>diabetes</th>\n    </tr>\n  </thead>\n  <tbody>\n    <tr>\n      <th>0</th>\n      <td>6</td>\n      <td>148</td>\n      <td>72</td>\n      <td>35</td>\n      <td>0</td>\n      <td>33.6</td>\n      <td>0.627</td>\n      <td>50</td>\n      <td>1</td>\n    </tr>\n    <tr>\n      <th>1</th>\n      <td>1</td>\n      <td>85</td>\n      <td>66</td>\n      <td>29</td>\n      <td>0</td>\n      <td>26.6</td>\n      <td>0.351</td>\n      <td>31</td>\n      <td>0</td>\n    </tr>\n    <tr>\n      <th>2</th>\n      <td>8</td>\n      <td>183</td>\n      <td>64</td>\n      <td>0</td>\n      <td>0</td>\n      <td>23.3</td>\n      <td>0.672</td>\n      <td>32</td>\n      <td>1</td>\n    </tr>\n    <tr>\n      <th>3</th>\n      <td>1</td>\n      <td>89</td>\n      <td>66</td>\n      <td>23</td>\n      <td>94</td>\n      <td>28.1</td>\n      <td>0.167</td>\n      <td>21</td>\n      <td>0</td>\n    </tr>\n    <tr>\n      <th>4</th>\n      <td>0</td>\n      <td>137</td>\n      <td>40</td>\n      <td>35</td>\n      <td>168</td>\n      <td>43.1</td>\n      <td>2.288</td>\n      <td>33</td>\n      <td>1</td>\n    </tr>\n  </tbody>\n</table>\n</div>"
     },
     "metadata": {},
     "output_type": "display_data"
    }
   ],
   "source": [
    "import pandas as pd\n",
    "diabetes_df = pd.read_csv(\"../datasets/diabetes_clean.csv\")\n",
    "display(diabetes_df.head())\n",
    "X = diabetes_df.drop(\"glucose\", axis=1).values\n",
    "y = diabetes_df[\"glucose\"].values"
   ],
   "metadata": {
    "collapsed": false
   }
  },
  {
   "cell_type": "markdown",
   "source": [
    "#### The loss function"
   ],
   "metadata": {
    "collapsed": false
   }
  },
  {
   "cell_type": "markdown",
   "source": [
    "#### Ordinary Least Sqaures\n",
    "Residual Sum of Squares (RSS) =\n",
    "Ordinary Least Squares (OLS) = minimize RSS"
   ],
   "metadata": {
    "collapsed": false
   }
  },
  {
   "cell_type": "markdown",
   "source": [
    "#### Linear regression in higher dimensions\n",
    "y = a1x1 + a2x2 + b\n",
    "* to fit a linear regression model here:\n",
    "  + Need to specify 3 variables: a1, a2, b\n",
    "* In higher dimensions:\n",
    "  + Known as multiple regression\n",
    "  + Must specify coefficients for each features and the variable b\n",
    "    - y = a1x1 + a2x2 + a3x3 + ... + anxn + b\n",
    "* scikit-learn works exactly the same way:\n",
    "  + Pass two arrays: features and target"
   ],
   "metadata": {
    "collapsed": false
   }
  },
  {
   "cell_type": "markdown",
   "source": [
    "#### Linear regression using all features"
   ],
   "metadata": {
    "collapsed": false
   }
  },
  {
   "cell_type": "code",
   "execution_count": 9,
   "outputs": [
    {
     "data": {
      "text/plain": "array([119.91303675,  95.70325357, 104.63962314, 114.05040231,\n       118.58321727, 127.12240463, 101.32326148, 109.68914522,\n       114.03971568, 123.60324707, 124.99713549, 112.30131897,\n       151.83921306, 120.08016862,  99.38245855, 137.26590828,\n        98.92170524, 103.54780373, 124.48277405, 138.98291632,\n       114.94730968, 108.01568548,  94.81640369, 104.61880645,\n       115.5808436 , 129.44870188,  94.22207529, 105.35660341,\n       135.62224377, 116.96796741, 132.2906766 , 152.69963123,\n       149.45755335, 128.2848374 , 129.10818568, 144.78293146,\n       112.09337022, 133.52916199, 113.45464867, 126.11093124,\n       102.62046077, 120.53135451, 114.54168207, 137.65315875,\n       107.95068535, 148.70812727, 155.6870585 ,  98.79913503,\n       121.11416209, 145.42843867,  94.44116407, 150.979827  ,\n       164.44641014, 133.12283053, 116.16435787, 100.29525093,\n       120.43548843,  86.16602491, 110.89528052, 136.71958446,\n       129.92989495, 100.63738165, 150.5625166 , 162.71481898,\n       111.44659132,  93.97800499,  97.23726423, 147.29609874,\n       108.16823291, 177.09990371, 134.07657778, 105.99534102,\n       116.13294836, 130.57323796, 106.06582896, 116.53796651,\n       118.47311881, 111.76490739, 114.31707902, 114.15104137,\n       135.94796582, 125.54250814, 106.41970459, 111.72386663,\n       112.83226823, 149.96038559, 128.27184179, 148.03773674,\n        99.44593079, 104.789798  , 106.07879003, 113.63169101,\n        85.79085254, 124.98655686, 113.70442546, 101.25281059,\n       111.2065448 , 106.75328439, 171.51992298, 115.5419103 ,\n       110.18864475, 105.22781715, 146.25258471, 118.25278096,\n       139.9754167 , 113.0118953 , 106.5231132 , 144.68168421,\n       138.13648932, 135.76787401,  96.73638915, 107.49676902,\n        87.30515945, 150.03068179, 116.71866918,  96.09926054,\n       119.5876649 , 110.08337803, 106.20410747,  97.95583123,\n       102.1347272 ,  99.44404576, 120.95065639, 110.82831989,\n       103.27619301, 120.71279066, 113.55351619, 153.89480605,\n       134.63811075, 108.51985782, 133.98064489, 153.55772368,\n       122.50628004, 138.28341749, 154.73695825, 109.38518168,\n       132.36004146, 148.05761408, 149.08501227,  99.16506349,\n        97.11275203, 103.5571977 , 107.74431951, 140.74018381,\n       107.77388446, 104.60756789, 133.12715254,  97.2083769 ,\n       100.77052522, 143.20278488, 107.06460747, 122.18306096,\n       153.96296733, 106.16557612,  86.82558036, 139.7887879 ,\n       106.04818258, 116.72330355, 167.15923314, 111.98545255,\n       121.7234999 , 142.09614569, 108.26845728, 100.63760652,\n       102.1710203 , 138.15995583, 104.46184363, 108.91612334,\n       117.70752304, 139.00020826, 110.84410623, 138.90228298,\n       134.72954809, 133.10633572, 153.4156024 , 117.40196966,\n       114.00695015, 115.28467798, 149.54140661, 141.55515732,\n       120.58748803, 125.24727027, 115.88212152, 127.72738771,\n       149.81807118, 103.89949684, 110.60856046, 113.68875842,\n       142.43909774, 120.11438927, 126.08974185, 106.77569583,\n       120.89103618, 128.68964601, 107.4707317 , 111.47351361,\n        91.74286871, 103.66490164, 132.49739134, 142.7376776 ,\n       110.90414169, 103.41058897, 134.89255568, 131.66004729,\n       119.35468416, 110.42170788,  97.42853202,  99.14539627,\n       153.91587951, 133.17631127, 121.26759311, 110.64375858,\n        98.07728346, 110.30367026, 147.75411101, 108.26654742,\n       170.72688785, 139.33363725, 111.46925871, 111.92138507,\n       133.19858826, 112.44202503, 102.87949625, 108.31929048,\n       105.26632715, 105.39889117, 121.31579719, 130.32467534,\n       120.4489214 , 105.15301598, 102.21903273])"
     },
     "metadata": {},
     "output_type": "display_data"
    }
   ],
   "source": [
    "from sklearn.model_selection import train_test_split\n",
    "from sklearn.linear_model import LinearRegression\n",
    "X_train, X_test, y_train, y_test = train_test_split(X, y, test_size=0.3, random_state=42)\n",
    "reg_all = LinearRegression() # performs OLS under the hood\n",
    "reg_all.fit(X_train, y_train)\n",
    "y_pred = reg_all.predict(X_test)\n",
    "display(y_pred)"
   ],
   "metadata": {
    "collapsed": false
   }
  },
  {
   "cell_type": "markdown",
   "source": [
    "#### R-squared\n",
    "* R^2: quantifies the variance in target values explained by the features\n",
    "  + Values range from 0 to 1\n",
    "* High R^2 to Low R^2"
   ],
   "metadata": {
    "collapsed": false
   }
  },
  {
   "cell_type": "markdown",
   "source": [
    "#### R-squared in scikit-learn"
   ],
   "metadata": {
    "collapsed": false
   }
  },
  {
   "cell_type": "code",
   "execution_count": 10,
   "outputs": [
    {
     "data": {
      "text/plain": "0.28280468810375115"
     },
     "metadata": {},
     "output_type": "display_data"
    }
   ],
   "source": [
    "display(reg_all.score(X_test, y_test))\n"
   ],
   "metadata": {
    "collapsed": false
   }
  },
  {
   "cell_type": "markdown",
   "source": [
    "#### Mean squared error and root mean squared error"
   ],
   "metadata": {
    "collapsed": false
   }
  },
  {
   "cell_type": "markdown",
   "source": [
    "MSE = 1/n sum of i = 1 in (Yi - Yi)^2\n",
    "* MSE is measured in target units, squared\n",
    "RMSE = sqrt(MSE)\n",
    "* Measure RMSE in the same units at the target variable"
   ],
   "metadata": {
    "collapsed": false
   }
  },
  {
   "cell_type": "markdown",
   "source": [
    "#### RMSE in scikit-learn"
   ],
   "metadata": {
    "collapsed": false
   }
  },
  {
   "cell_type": "code",
   "execution_count": 11,
   "outputs": [
    {
     "data": {
      "text/plain": "26.341459582232265"
     },
     "metadata": {},
     "output_type": "display_data"
    }
   ],
   "source": [
    "from sklearn.metrics import mean_squared_error\n",
    "display(mean_squared_error(y_test, y_pred, squared=False))"
   ],
   "metadata": {
    "collapsed": false
   }
  },
  {
   "cell_type": "code",
   "execution_count": 29,
   "outputs": [
    {
     "data": {
      "text/plain": "array([8.25])"
     },
     "metadata": {},
     "output_type": "display_data"
    }
   ],
   "source": [
    "import numpy as np\n",
    "\n",
    "numpy1 = np.array([17.2, 20.0, 8.25, 9.50])\n",
    "numpy2 = np.array([13.0, 24.0, 8.25, 9.0])\n",
    "\n",
    "display(numpy1[numpy1 == numpy2])"
   ],
   "metadata": {
    "collapsed": false
   }
  },
  {
   "cell_type": "code",
   "execution_count": 53,
   "outputs": [
    {
     "data": {
      "text/plain": "     MONTH  day  year  session_id month\n0  a   JAN    7  2015       17357   jan\n1  b   FEB    8  2015       10011   feb",
      "text/html": "<div>\n<style scoped>\n    .dataframe tbody tr th:only-of-type {\n        vertical-align: middle;\n    }\n\n    .dataframe tbody tr th {\n        vertical-align: top;\n    }\n\n    .dataframe thead th {\n        text-align: right;\n    }\n</style>\n<table border=\"1\" class=\"dataframe\">\n  <thead>\n    <tr style=\"text-align: right;\">\n      <th></th>\n      <th></th>\n      <th>MONTH</th>\n      <th>day</th>\n      <th>year</th>\n      <th>session_id</th>\n      <th>month</th>\n    </tr>\n  </thead>\n  <tbody>\n    <tr>\n      <th>0</th>\n      <td>a</td>\n      <td>JAN</td>\n      <td>7</td>\n      <td>2015</td>\n      <td>17357</td>\n      <td>jan</td>\n    </tr>\n    <tr>\n      <th>1</th>\n      <td>b</td>\n      <td>FEB</td>\n      <td>8</td>\n      <td>2015</td>\n      <td>10011</td>\n      <td>feb</td>\n    </tr>\n  </tbody>\n</table>\n</div>"
     },
     "metadata": {},
     "output_type": "display_data"
    }
   ],
   "source": [
    "logins = pd.DataFrame([['a', 'JAN', 7, 2015, 17357],['b', 'FEB', 8, 2015, 10011]])\n",
    "logins.columns = [\"\", \"MONTH\", \"day\", 'year', 'session_id']\n",
    "logins.set_index('')\n",
    "for j, q in logins. iterrows():\n",
    "    logins.loc[j, 'month'] = q['MONTH'].lower()\n",
    "display(logins)"
   ],
   "metadata": {
    "collapsed": false
   }
  },
  {
   "cell_type": "code",
   "execution_count": null,
   "outputs": [],
   "source": [],
   "metadata": {
    "collapsed": false
   }
  }
 ],
 "metadata": {
  "kernelspec": {
   "display_name": "Python 3",
   "language": "python",
   "name": "python3"
  },
  "language_info": {
   "codemirror_mode": {
    "name": "ipython",
    "version": 2
   },
   "file_extension": ".py",
   "mimetype": "text/x-python",
   "name": "python",
   "nbconvert_exporter": "python",
   "pygments_lexer": "ipython2",
   "version": "2.7.6"
  }
 },
 "nbformat": 4,
 "nbformat_minor": 0
}
