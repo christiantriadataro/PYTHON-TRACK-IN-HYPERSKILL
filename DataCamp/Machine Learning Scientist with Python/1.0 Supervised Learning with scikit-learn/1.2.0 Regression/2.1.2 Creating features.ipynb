{
 "cells": [
  {
   "cell_type": "markdown",
   "source": [
    "# Supervised Learning with scikit-learn"
   ],
   "metadata": {
    "collapsed": false
   }
  },
  {
   "cell_type": "markdown",
   "source": [
    "## Regression"
   ],
   "metadata": {
    "collapsed": false
   }
  },
  {
   "cell_type": "markdown",
   "source": [
    "#### Creating features"
   ],
   "metadata": {
    "collapsed": false
   }
  },
  {
   "cell_type": "markdown",
   "source": [
    "In this chapter, you will work with a dataset called `sales_df`, which contains information on advertising campaign expenditure across different media types, and the number of dollars generated in sales for the respective campaign. The dataset has been preloaded for you. Here are the first two rows:"
   ],
   "metadata": {
    "collapsed": false
   }
  },
  {
   "cell_type": "code",
   "execution_count": 3,
   "outputs": [
    {
     "data": {
      "text/plain": "        tv     radio  social_media influencer      sales\n0  16000.0   6566.23       2907.98       Mega   54732.76\n1  13000.0   9237.76       2409.57       Mega   46677.90\n2  41000.0  15886.45       2913.41       Mega  150177.83\n3  83000.0  30020.03       6922.30       Mega  298246.34\n4  15000.0   8437.41       1406.00      Micro   56594.18",
      "text/html": "<div>\n<style scoped>\n    .dataframe tbody tr th:only-of-type {\n        vertical-align: middle;\n    }\n\n    .dataframe tbody tr th {\n        vertical-align: top;\n    }\n\n    .dataframe thead th {\n        text-align: right;\n    }\n</style>\n<table border=\"1\" class=\"dataframe\">\n  <thead>\n    <tr style=\"text-align: right;\">\n      <th></th>\n      <th>tv</th>\n      <th>radio</th>\n      <th>social_media</th>\n      <th>influencer</th>\n      <th>sales</th>\n    </tr>\n  </thead>\n  <tbody>\n    <tr>\n      <th>0</th>\n      <td>16000.0</td>\n      <td>6566.23</td>\n      <td>2907.98</td>\n      <td>Mega</td>\n      <td>54732.76</td>\n    </tr>\n    <tr>\n      <th>1</th>\n      <td>13000.0</td>\n      <td>9237.76</td>\n      <td>2409.57</td>\n      <td>Mega</td>\n      <td>46677.90</td>\n    </tr>\n    <tr>\n      <th>2</th>\n      <td>41000.0</td>\n      <td>15886.45</td>\n      <td>2913.41</td>\n      <td>Mega</td>\n      <td>150177.83</td>\n    </tr>\n    <tr>\n      <th>3</th>\n      <td>83000.0</td>\n      <td>30020.03</td>\n      <td>6922.30</td>\n      <td>Mega</td>\n      <td>298246.34</td>\n    </tr>\n    <tr>\n      <th>4</th>\n      <td>15000.0</td>\n      <td>8437.41</td>\n      <td>1406.00</td>\n      <td>Micro</td>\n      <td>56594.18</td>\n    </tr>\n  </tbody>\n</table>\n</div>"
     },
     "execution_count": 3,
     "metadata": {},
     "output_type": "execute_result"
    }
   ],
   "source": [
    "# importing pandas\n",
    "import pandas as pd\n",
    "\n",
    "# importing sales dataset\n",
    "sales_df = pd.read_csv(\"../datasets/advertising_and_sales_clean.csv\")\n",
    "sales_df.head()"
   ],
   "metadata": {
    "collapsed": false
   }
  },
  {
   "cell_type": "markdown",
   "source": [
    "You will use the advertising expenditure as features to predict sales values, initially working with the \"radio\" column. However, before you make any predictions you will need to create the feature and target arrays, reshaping them to the correct format for scikit-learn."
   ],
   "metadata": {
    "collapsed": false
   }
  },
  {
   "cell_type": "markdown",
   "source": [
    "#### Instructions\n",
    "* Create X, an array of the values from the sales_df DataFrame's \"radio\" column.\n",
    "* Create y, an array of the values from the sales_df DataFrame's \"sales\" column.\n",
    "* Reshape X into a two-dimensional NumPy array.\n",
    "* Print the shape of X and y."
   ],
   "metadata": {
    "collapsed": false
   }
  },
  {
   "cell_type": "code",
   "execution_count": 5,
   "outputs": [
    {
     "name": "stdout",
     "output_type": "stream",
     "text": [
      "(4546, 1) (4546,)\n"
     ]
    }
   ],
   "source": [
    "import numpy as np\n",
    "\n",
    "# Create X from the radio column's values\n",
    "X = sales_df[\"radio\"].values\n",
    "\n",
    "# Create y from the sales column's values\n",
    "y = sales_df[\"sales\"].values\n",
    "\n",
    "# Reshape X\n",
    "X = X.reshape(-1, 1)\n",
    "\n",
    "# Check the shape of the features and targets\n",
    "print(X.shape, y.shape)"
   ],
   "metadata": {
    "collapsed": false
   }
  }
 ],
 "metadata": {
  "kernelspec": {
   "display_name": "Python 3",
   "language": "python",
   "name": "python3"
  },
  "language_info": {
   "codemirror_mode": {
    "name": "ipython",
    "version": 2
   },
   "file_extension": ".py",
   "mimetype": "text/x-python",
   "name": "python",
   "nbconvert_exporter": "python",
   "pygments_lexer": "ipython2",
   "version": "2.7.6"
  }
 },
 "nbformat": 4,
 "nbformat_minor": 0
}
