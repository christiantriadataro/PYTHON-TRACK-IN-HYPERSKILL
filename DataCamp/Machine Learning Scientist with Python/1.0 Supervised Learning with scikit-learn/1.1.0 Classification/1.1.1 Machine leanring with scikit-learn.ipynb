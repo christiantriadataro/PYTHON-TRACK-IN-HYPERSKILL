{
 "cells": [
  {
   "cell_type": "markdown",
   "source": [
    "# Supervised Learning with scikit-learn"
   ],
   "metadata": {
    "collapsed": false
   }
  },
  {
   "cell_type": "markdown",
   "source": [
    "## Classification"
   ],
   "metadata": {
    "collapsed": false
   }
  },
  {
   "cell_type": "markdown",
   "source": [
    "### Machine learning with scikit-learn"
   ],
   "metadata": {
    "collapsed": false
   }
  },
  {
   "cell_type": "markdown",
   "source": [
    "#### What is machine learning?\n",
    "* Machine learning is the process whereby:\n",
    "    * Computers are given the ability to learn to make decision from data\n",
    "    * without explicitly programmed."
   ],
   "metadata": {
    "collapsed": false
   }
  },
  {
   "cell_type": "markdown",
   "source": [
    "#### Examples of machine learning\n",
    "- predicting whether an email is spam or not spam given its content and sender.\n",
    "- learn to cluster books into different categories based on the words they contain, then assign a new book to existing clusters."
   ],
   "metadata": {
    "collapsed": false
   }
  },
  {
   "cell_type": "markdown",
   "source": [
    "#### Unsupervised learning\n",
    "* Uncovering hidden patterns from unlabeled data\n",
    "* Example:\n",
    "  * Grouping customers into distinct categories (Clustering)\n",
    "    - based on their purchasing behavior without knowing in advance what these categories are."
   ],
   "metadata": {
    "collapsed": false
   }
  },
  {
   "cell_type": "markdown",
   "source": [
    "#### Supervised learning\n",
    "* The predicted values are known\n",
    "* Aim: Predict the target values of unseen data, given the features.\n"
   ],
   "metadata": {
    "collapsed": false
   }
  },
  {
   "cell_type": "markdown",
   "source": [
    "#### Types of supervised learning\n",
    "* Classification: Target variable consists of categories\n",
    "  - we can predict a bank transaction is fraud or not. There are two classifications here fraud or not. It's called binary classification\n",
    "* Regression: Target variable is continuous\n",
    "  - a model can have features such as number of bedrooms and the size of a property, to predict the target variable, price of the property."
   ],
   "metadata": {
    "collapsed": false
   }
  },
  {
   "cell_type": "markdown",
   "source": [
    "#### Naming conventions\n",
    "* Feature = predictor variable = independent variable\n",
    "* Target variable = dependent variable = response variable"
   ],
   "metadata": {
    "collapsed": false
   }
  },
  {
   "cell_type": "markdown",
   "source": [
    "#### Before you use supervised learning\n",
    "* Requirements:\n",
    "- No missing values\n",
    "- Data in numeric format\n",
    "- Data stored in pandas DataFrame or NumPy\n",
    "\n",
    "* Perform Exploratory Data Analysis (EDA) first"
   ],
   "metadata": {
    "collapsed": false
   }
  },
  {
   "cell_type": "markdown",
   "source": [
    "#### scikit-learn syntax"
   ],
   "metadata": {
    "collapsed": false
   }
  },
  {
   "cell_type": "code",
   "execution_count": 1,
   "outputs": [
    {
     "ename": "ModuleNotFoundError",
     "evalue": "No module named 'sklearn.module'",
     "output_type": "error",
     "traceback": [
      "\u001B[1;31m---------------------------------------------------------------------------\u001B[0m",
      "\u001B[1;31mModuleNotFoundError\u001B[0m                       Traceback (most recent call last)",
      "Input \u001B[1;32mIn [1]\u001B[0m, in \u001B[0;36m<cell line: 1>\u001B[1;34m()\u001B[0m\n\u001B[1;32m----> 1\u001B[0m \u001B[38;5;28;01mfrom\u001B[39;00m \u001B[38;5;21;01msklearn\u001B[39;00m\u001B[38;5;21;01m.\u001B[39;00m\u001B[38;5;21;01mmodule\u001B[39;00m \u001B[38;5;28;01mimport\u001B[39;00m Model\n",
      "\u001B[1;31mModuleNotFoundError\u001B[0m: No module named 'sklearn.module'"
     ]
    }
   ],
   "source": [
    "from sklearn.module import Model\n",
    "\n",
    "model = Model()\n",
    "model.fit(X, y)\n",
    "predictions = model.predict(X_new)\n",
    "print(predictions)"
   ],
   "metadata": {
    "collapsed": false
   }
  },
  {
   "cell_type": "code",
   "execution_count": null,
   "outputs": [],
   "source": [],
   "metadata": {
    "collapsed": false
   }
  }
 ],
 "metadata": {
  "kernelspec": {
   "display_name": "Python 3",
   "language": "python",
   "name": "python3"
  },
  "language_info": {
   "codemirror_mode": {
    "name": "ipython",
    "version": 2
   },
   "file_extension": ".py",
   "mimetype": "text/x-python",
   "name": "python",
   "nbconvert_exporter": "python",
   "pygments_lexer": "ipython2",
   "version": "2.7.6"
  }
 },
 "nbformat": 4,
 "nbformat_minor": 0
}
