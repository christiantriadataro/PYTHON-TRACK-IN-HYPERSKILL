{
 "cells": [
  {
   "cell_type": "markdown",
   "source": [
    "# Introduction to SQL"
   ],
   "metadata": {
    "collapsed": false
   }
  },
  {
   "cell_type": "markdown",
   "source": [
    "## Tables"
   ],
   "metadata": {
    "collapsed": false
   }
  },
  {
   "cell_type": "markdown",
   "source": [
    "#### A seat at the table\n",
    "* Table rows and columns are referrred to as records and fields\n",
    "* Fields are set at database creation; there is no limit to the number of records"
   ],
   "metadata": {
    "collapsed": false
   }
  },
  {
   "cell_type": "markdown",
   "source": [
    "#### Good table manners\n",
    "Table names should...\n",
    "* be lowercase\n",
    "* have no spaces - use underscores instead\n",
    "* refers to a collective group or be plural"
   ],
   "metadata": {
    "collapsed": false
   }
  },
  {
   "cell_type": "markdown",
   "source": [
    "#### Laying the table: records (row)\n",
    "A record is a row that holds data on an individual observation"
   ],
   "metadata": {
    "collapsed": false
   }
  },
  {
   "cell_type": "markdown",
   "source": [
    "#### Laying the table: fields (column)\n",
    "A field is a column that holds one piece of information about all records"
   ],
   "metadata": {
    "collapsed": false
   }
  },
  {
   "cell_type": "markdown",
   "source": [
    "#### More table manners\n",
    "Field names should...\n",
    "* be lowercase\n",
    "* have no spaces\n",
    "* be singular\n",
    "* be different from other field names\n",
    "* be different from the table name"
   ],
   "metadata": {
    "collapsed": false
   }
  },
  {
   "cell_type": "markdown",
   "source": [
    "#### Assigned seats\n",
    "* Unique identifiers (key) are used to identify records in a table\n",
    "* They are unique and often numbers"
   ],
   "metadata": {
    "collapsed": false
   }
  },
  {
   "cell_type": "markdown",
   "source": [],
   "metadata": {
    "collapsed": false
   }
  },
  {
   "cell_type": "markdown",
   "source": [
    "patrons\n",
    "* card_num, name, member_year, total_fine\n",
    "- 54378, izzy, 2012, 9.86\n",
    "- 94722, Maham, 2020, 0\n",
    "- 45783, Jasmin, 2022, 2.05\n",
    "- 90123, James, 1989, 0\n",
    "\n",
    "books\n",
    "* id, title, author, genre, pub_year\n",
    "- 638, Being Mortal, Atul Gawande, Non-Fiction, 2015\n",
    "- 912, Educated, Tara Westover, Non-fiction, 2018\n",
    "- 322, Night, Elle Wiesel, Non-fiction, 1956\n",
    "- 156, Where the wild things are, Maurice Sendak, Children, 1963\n",
    "\n",
    "checkouts\n",
    "* id, start_date, due_date, card_num, book_id\n",
    "- 567, 2022-05-13, 2022-05-27, 54378, 638\n",
    "- 568, 2022-05-13, 2022-05-27, 54378, 322\n",
    "- 569, 2022-05-13, 2022-05-27, 54378, 912\n",
    "- 570, 2022-05-13, 2022-05-27, 54378, 638\n",
    "- 571, 2022-05-13, 2022-05-27, 54378, 638"
   ],
   "metadata": {
    "collapsed": false
   }
  },
  {
   "cell_type": "markdown",
   "source": [
    "#### Relational databases\n",
    "* Define relationships between tables of data inside the database"
   ],
   "metadata": {
    "collapsed": false
   }
  },
  {
   "cell_type": "markdown",
   "source": [
    "#### Database advatanges\n",
    "* More storage than spreadsheet\n",
    "* Storage are more secure\n",
    "* many users can queries the data at the same data"
   ],
   "metadata": {
    "collapsed": false
   }
  },
  {
   "cell_type": "markdown",
   "source": [
    "#### SQL\n",
    "* Short for Structured Query Language\n",
    "* The most widely used programming language for databases"
   ],
   "metadata": {
    "collapsed": false
   }
  },
  {
   "cell_type": "code",
   "execution_count": null,
   "outputs": [],
   "source": [
    "# SELECT *\n",
    "# FROM patrons\n",
    "# LIMIT 30"
   ],
   "metadata": {
    "collapsed": false
   }
  }
 ],
 "metadata": {
  "kernelspec": {
   "display_name": "Python 3",
   "language": "python",
   "name": "python3"
  },
  "language_info": {
   "codemirror_mode": {
    "name": "ipython",
    "version": 2
   },
   "file_extension": ".py",
   "mimetype": "text/x-python",
   "name": "python",
   "nbconvert_exporter": "python",
   "pygments_lexer": "ipython2",
   "version": "2.7.6"
  }
 },
 "nbformat": 4,
 "nbformat_minor": 0
}
