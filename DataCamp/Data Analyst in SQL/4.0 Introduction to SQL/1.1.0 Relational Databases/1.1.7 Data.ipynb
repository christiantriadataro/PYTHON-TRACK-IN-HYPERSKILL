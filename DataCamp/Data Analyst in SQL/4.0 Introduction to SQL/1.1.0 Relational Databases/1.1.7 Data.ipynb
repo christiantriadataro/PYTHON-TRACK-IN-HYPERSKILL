{
 "cells": [
  {
   "cell_type": "markdown",
   "source": [
    "# Introduction to SQL"
   ],
   "metadata": {
    "collapsed": false
   }
  },
  {
   "cell_type": "markdown",
   "source": [
    "#### SQL data types\n",
    "* Different types of data are stored differently and take up different space\n",
    "* Some operations only apply to certain data types"
   ],
   "metadata": {
    "collapsed": false
   }
  },
  {
   "cell_type": "markdown",
   "source": [
    "#### Strings\n",
    "* A string is a sequence of characters such as letters or punctuation\n",
    "* `VARCHAR` is a flexible and popular string data type in SQL"
   ],
   "metadata": {
    "collapsed": false
   }
  },
  {
   "cell_type": "markdown",
   "source": [
    "#### Integers\n",
    "* Integers store whole numbers\n",
    "* `INT` is a flexible and popular integer data type in SQL"
   ],
   "metadata": {
    "collapsed": false
   }
  },
  {
   "cell_type": "markdown",
   "source": [
    "#### Floats\n",
    "* Floats store numbers that include a fractional part\n",
    "* `NUMERIC` is a flexible and popular float data type in SQL"
   ],
   "metadata": {
    "collapsed": false
   }
  },
  {
   "cell_type": "markdown",
   "source": [
    "#### Schemas\n",
    "* patrons\n",
    "- card_num          INT\n",
    "- name              VARCHAR\n",
    "- member_year       INT\n",
    "- total_fine        NUMERIC\n",
    "\n",
    "* books\n",
    "- id                INT\n",
    "- title             VARCHAR\n",
    "- author            VARCHAR\n",
    "- genre             VARCHAR\n",
    "- pub_year          INT\n",
    "\n",
    "* checkouts\n",
    "- id                INT\n",
    "- start_date        DATE\n",
    "- due_date          DATE\n",
    "- card_num          INT\n",
    "- book_id           INT"
   ],
   "metadata": {
    "collapsed": false
   }
  },
  {
   "cell_type": "markdown",
   "source": [
    "#### Database storage"
   ],
   "metadata": {
    "collapsed": false
   }
  }
 ],
 "metadata": {
  "kernelspec": {
   "display_name": "Python 3",
   "language": "python",
   "name": "python3"
  },
  "language_info": {
   "codemirror_mode": {
    "name": "ipython",
    "version": 2
   },
   "file_extension": ".py",
   "mimetype": "text/x-python",
   "name": "python",
   "nbconvert_exporter": "python",
   "pygments_lexer": "ipython2",
   "version": "2.7.6"
  }
 },
 "nbformat": 4,
 "nbformat_minor": 0
}
