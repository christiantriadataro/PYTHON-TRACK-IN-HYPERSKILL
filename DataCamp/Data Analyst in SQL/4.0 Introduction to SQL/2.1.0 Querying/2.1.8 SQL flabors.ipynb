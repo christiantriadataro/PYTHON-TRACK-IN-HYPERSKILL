{
 "cells": [
  {
   "cell_type": "markdown",
   "source": [
    "# SQL flavors"
   ],
   "metadata": {
    "collapsed": false
   }
  },
  {
   "cell_type": "markdown",
   "source": [
    "### SQL flavors\n",
    "* Both free and paid\n",
    "* All used with relational databases\n",
    "* Vast majority of keywords are the same\n",
    "* All must follow universal standards\n",
    "* Only the addition on top of these standards make flavors different"
   ],
   "metadata": {
    "collapsed": false
   }
  },
  {
   "cell_type": "markdown",
   "source": [
    "#### Two popular SQL flavors\n",
    "PostgreSQL\n",
    "* Free and open-source relational database system\n",
    "* Created at the University of California, Berkeley\n",
    "* \"PostgreSQL\" refers to both the PostgreSQL database system and its associated SQL flavor\n",
    "\n",
    "SQL Server\n",
    "* Has free and paid versions\n",
    "* Created by Microsoft\n",
    "* T-SQL is Microsoft's SQL flavor, used with SQL Server databases"
   ],
   "metadata": {
    "collapsed": false
   }
  },
  {
   "cell_type": "markdown",
   "source": [
    "#### Comparing PostgreSQL and SQL Server\n",
    "* Like dialects of the same language\n",
    "\n",
    "PostgreSQL:"
   ],
   "metadata": {
    "collapsed": false
   }
  },
  {
   "cell_type": "code",
   "execution_count": null,
   "outputs": [],
   "source": [
    "# SELECT id, name\n",
    "# FROM employees\n",
    "# LIMIT 2;"
   ],
   "metadata": {
    "collapsed": false
   }
  },
  {
   "cell_type": "markdown",
   "source": [
    "Example: limiting number of results"
   ],
   "metadata": {
    "collapsed": false
   }
  },
  {
   "cell_type": "markdown",
   "source": [
    "* SQL Server:"
   ],
   "metadata": {
    "collapsed": false
   }
  },
  {
   "cell_type": "code",
   "execution_count": null,
   "outputs": [],
   "source": [
    "# SELECT TOP(2) id, name\n",
    "# FROM employees;"
   ],
   "metadata": {
    "collapsed": false
   }
  },
  {
   "cell_type": "markdown",
   "source": [
    "### Selecting distinct records"
   ],
   "metadata": {
    "collapsed": false
   }
  },
  {
   "cell_type": "code",
   "execution_count": null,
   "outputs": [],
   "source": [
    "# SELECT year_hired\n",
    "# FROM employees;"
   ],
   "metadata": {
    "collapsed": false
   }
  },
  {
   "cell_type": "markdown",
   "source": [
    "selecting records with no repeating value"
   ],
   "metadata": {
    "collapsed": false
   }
  },
  {
   "cell_type": "code",
   "execution_count": null,
   "outputs": [],
   "source": [
    "# SELECT DISTINCT year_hired\n",
    "# FROM employees;"
   ],
   "metadata": {
    "collapsed": false
   }
  },
  {
   "cell_type": "markdown",
   "source": [],
   "metadata": {
    "collapsed": false
   }
  },
  {
   "cell_type": "markdown",
   "source": [
    "### DISTINCT with multiple fields"
   ],
   "metadata": {
    "collapsed": false
   }
  },
  {
   "cell_type": "code",
   "execution_count": null,
   "outputs": [],
   "source": [
    "# SELECT dept_id, year_hired\n",
    "# FROM employees;"
   ],
   "metadata": {
    "collapsed": false
   }
  },
  {
   "cell_type": "markdown",
   "source": [
    "### DISTINCT with multiple fields"
   ],
   "metadata": {
    "collapsed": false
   }
  },
  {
   "cell_type": "code",
   "execution_count": null,
   "outputs": [],
   "source": [
    "# SELECT DISTINCT dept_id, year_hired\n",
    "# FROM employees;"
   ],
   "metadata": {
    "collapsed": false
   }
  },
  {
   "cell_type": "markdown",
   "source": [
    "### Views\n",
    "* A _view_ is a virtual table that is the result of a saved SQL `SELECT` statement.\n",
    "* When accessed, views automatically update in response to updates in the underlying data"
   ],
   "metadata": {
    "collapsed": false
   }
  },
  {
   "cell_type": "code",
   "execution_count": null,
   "outputs": [],
   "source": [
    "# CREATE VIEW  employee_hire_years AS\n",
    "# SELECT id, name, year_hired\n",
    "# FROM employees;"
   ],
   "metadata": {
    "collapsed": false
   }
  },
  {
   "cell_type": "markdown",
   "source": [
    "# Using views"
   ],
   "metadata": {
    "collapsed": false
   }
  },
  {
   "cell_type": "code",
   "execution_count": null,
   "outputs": [],
   "source": [
    "# SELECT id, name\n",
    "# FROM employee_hire_years;"
   ],
   "metadata": {
    "collapsed": false
   }
  },
  {
   "cell_type": "markdown",
   "source": [
    "List of Omdena project that I'm applying for:\n",
    "* Quantifying Causes of Back Pain and Providing Individualized Recommendations\n",
    "* Monitoring and Predicting Subway Passenger Demand in São Paulo City Using Machine Learning, Sao Paulo, Brazil\n",
    "* Developing a Digital National ID System in the Philippines using AI Technology"
   ],
   "metadata": {
    "collapsed": false
   }
  },
  {
   "cell_type": "markdown",
   "source": [
    "https://github.com/christiantriadataro"
   ],
   "metadata": {
    "collapsed": false
   }
  },
  {
   "cell_type": "markdown",
   "source": [
    "https://www.linkedin.com/in/christiantriadataro/"
   ],
   "metadata": {
    "collapsed": false
   }
  },
  {
   "cell_type": "markdown",
   "source": [
    "As a student and aspiring machine learning engineer, I believe that joining the local chapter community would be an excellent stepping stone in my career. I am passionate about this industry and am committed to honing my skills and knowledge to become a successful engineer.\n",
    "\n",
    "Joining the local chapter community would provide me with an ideal platform to learn from industry experts, network with professionals, and interact with like-minded individuals. I am confident that the knowledge and experience that I will gain from this community will be invaluable in my career development.\n",
    "\n",
    "In summary, as a student and aspiring machine learning engineer who loves to contribute and collaborate, I believe that I would be an ideal fit for the local chapter community. I am passionate about this industry and committed to achieving my goals, and I am excited about the opportunity to learn from and work with other members of the community."
   ],
   "metadata": {
    "collapsed": false
   }
  }
 ],
 "metadata": {
  "kernelspec": {
   "display_name": "Python 3",
   "language": "python",
   "name": "python3"
  },
  "language_info": {
   "codemirror_mode": {
    "name": "ipython",
    "version": 2
   },
   "file_extension": ".py",
   "mimetype": "text/x-python",
   "name": "python",
   "nbconvert_exporter": "python",
   "pygments_lexer": "ipython2",
   "version": "2.7.6"
  }
 },
 "nbformat": 4,
 "nbformat_minor": 0
}
