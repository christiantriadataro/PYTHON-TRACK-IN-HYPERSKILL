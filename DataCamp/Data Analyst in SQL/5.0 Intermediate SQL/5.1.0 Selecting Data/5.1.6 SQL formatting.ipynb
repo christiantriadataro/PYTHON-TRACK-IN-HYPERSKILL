{
 "cells": [
  {
   "cell_type": "markdown",
   "source": [
    "## Intermediate SQL"
   ],
   "metadata": {
    "collapsed": false
   }
  },
  {
   "cell_type": "code",
   "execution_count": 2,
   "outputs": [
    {
     "data": {
      "text/plain": "     0                                    1       2    3      4        5   6  \\\n0  389                               Sheena  1984.0   UK  117.0  English  PG   \n1  390                               Splash  1984.0  USA  111.0  English  PG   \n2  391  Star Trek III: The Search for Spock  1984.0  USA  105.0  English  PG   \n3  392                           The Bounty  1984.0   UK  132.0  English  PG   \n4  393                      The Cotton Club  1984.0  USA  123.0  English   R   \n\n            7           8  \n0         NaN  25000000.0  \n1  69800000.0   8000000.0  \n2  76400000.0  17000000.0  \n3   8600000.0  25000000.0  \n4  25900000.0  58000000.0  ",
      "text/html": "<div>\n<style scoped>\n    .dataframe tbody tr th:only-of-type {\n        vertical-align: middle;\n    }\n\n    .dataframe tbody tr th {\n        vertical-align: top;\n    }\n\n    .dataframe thead th {\n        text-align: right;\n    }\n</style>\n<table border=\"1\" class=\"dataframe\">\n  <thead>\n    <tr style=\"text-align: right;\">\n      <th></th>\n      <th>0</th>\n      <th>1</th>\n      <th>2</th>\n      <th>3</th>\n      <th>4</th>\n      <th>5</th>\n      <th>6</th>\n      <th>7</th>\n      <th>8</th>\n    </tr>\n  </thead>\n  <tbody>\n    <tr>\n      <th>0</th>\n      <td>389</td>\n      <td>Sheena</td>\n      <td>1984.0</td>\n      <td>UK</td>\n      <td>117.0</td>\n      <td>English</td>\n      <td>PG</td>\n      <td>NaN</td>\n      <td>25000000.0</td>\n    </tr>\n    <tr>\n      <th>1</th>\n      <td>390</td>\n      <td>Splash</td>\n      <td>1984.0</td>\n      <td>USA</td>\n      <td>111.0</td>\n      <td>English</td>\n      <td>PG</td>\n      <td>69800000.0</td>\n      <td>8000000.0</td>\n    </tr>\n    <tr>\n      <th>2</th>\n      <td>391</td>\n      <td>Star Trek III: The Search for Spock</td>\n      <td>1984.0</td>\n      <td>USA</td>\n      <td>105.0</td>\n      <td>English</td>\n      <td>PG</td>\n      <td>76400000.0</td>\n      <td>17000000.0</td>\n    </tr>\n    <tr>\n      <th>3</th>\n      <td>392</td>\n      <td>The Bounty</td>\n      <td>1984.0</td>\n      <td>UK</td>\n      <td>132.0</td>\n      <td>English</td>\n      <td>PG</td>\n      <td>8600000.0</td>\n      <td>25000000.0</td>\n    </tr>\n    <tr>\n      <th>4</th>\n      <td>393</td>\n      <td>The Cotton Club</td>\n      <td>1984.0</td>\n      <td>USA</td>\n      <td>123.0</td>\n      <td>English</td>\n      <td>R</td>\n      <td>25900000.0</td>\n      <td>58000000.0</td>\n    </tr>\n  </tbody>\n</table>\n</div>"
     },
     "metadata": {},
     "output_type": "display_data"
    }
   ],
   "source": [
    "import cx_Oracle\n",
    "import pandas as pd\n",
    "\n",
    "def print_all():\n",
    "    connection = cx_Oracle.connect(user=\"DATASETS_CHAN\", password=\"123\", dsn=\"localhost:1521/xe\")\n",
    "    cursor = connection.cursor()\n",
    "    cursor.execute(\"SELECT * FROM FILMS\")\n",
    "    return pd.DataFrame(cursor)\n",
    "\n",
    "def run_statement(sql):\n",
    "    connection = cx_Oracle.connect(user=\"DATASETS_CHAN\", password=\"123\", dsn=\"localhost:1521/xe\")\n",
    "    cursor = connection.cursor()\n",
    "    cursor.execute(sql)\n",
    "    for row in cursor:\n",
    "        display(row)\n",
    "df = print_all()\n",
    "display(df.head())"
   ],
   "metadata": {
    "collapsed": false
   }
  },
  {
   "cell_type": "markdown",
   "source": [
    "### Selecting Data"
   ],
   "metadata": {
    "collapsed": false
   }
  },
  {
   "cell_type": "markdown",
   "source": [
    "#### SQL style"
   ],
   "metadata": {
    "collapsed": false
   }
  },
  {
   "cell_type": "markdown",
   "source": [
    "#### SQL formatting\n",
    "* Formatting is not required\n",
    "* But lack of formatting can cause issues"
   ],
   "metadata": {
    "collapsed": false
   }
  },
  {
   "cell_type": "code",
   "execution_count": 1,
   "outputs": [],
   "source": [
    "# select title, release_year, country from films limit 3"
   ],
   "metadata": {
    "collapsed": false
   }
  },
  {
   "cell_type": "markdown",
   "source": [
    "#### Best practices"
   ],
   "metadata": {
    "collapsed": false
   }
  },
  {
   "cell_type": "code",
   "execution_count": null,
   "outputs": [],
   "source": [
    "# SELECT title, release_year, country\n",
    "# FROM films\n",
    "# LIMIT 3;"
   ],
   "metadata": {
    "collapsed": false
   }
  },
  {
   "cell_type": "markdown",
   "source": [
    "* Capitalize words\n",
    "* Add new lines"
   ],
   "metadata": {
    "collapsed": false
   }
  },
  {
   "cell_type": "markdown",
   "source": [
    "#### Style guides"
   ],
   "metadata": {
    "collapsed": false
   }
  },
  {
   "cell_type": "code",
   "execution_count": null,
   "outputs": [],
   "source": [
    "# SELECT\n",
    "#     title,\n",
    "#     release_year,\n",
    "#     country\n",
    "# FROM films\n",
    "# LIMIT 3;"
   ],
   "metadata": {
    "collapsed": false
   }
  },
  {
   "cell_type": "markdown",
   "source": [
    "Write clear and readable code"
   ],
   "metadata": {
    "collapsed": false
   }
  },
  {
   "cell_type": "markdown",
   "source": [
    "#### Semicolon"
   ],
   "metadata": {
    "collapsed": false
   }
  },
  {
   "cell_type": "code",
   "execution_count": null,
   "outputs": [],
   "source": [
    "# SELECT title, release_year, country\n",
    "# FROM films\n",
    "# LIMIT 3;"
   ],
   "metadata": {
    "collapsed": false
   }
  },
  {
   "cell_type": "markdown",
   "source": [
    "* Best practice\n",
    "* Easier to translate between SQL flavors\n",
    "* Indicates the end of a query"
   ],
   "metadata": {
    "collapsed": false
   }
  },
  {
   "cell_type": "markdown",
   "source": [
    "#### Dealing with non-standard field names\n",
    "* `release year` instead of `release_year`\n",
    "* Put non-standard field names in double-quotes"
   ],
   "metadata": {
    "collapsed": false
   }
  },
  {
   "cell_type": "code",
   "execution_count": null,
   "outputs": [],
   "source": [
    "# SELECT title, \"release_year\", country\n",
    "# FROM films\n",
    "# LIMIT 3;"
   ],
   "metadata": {
    "collapsed": false
   }
  },
  {
   "cell_type": "markdown",
   "source": [
    "#### Why do we format?\n",
    "* Easier collaboration\n",
    "* Clear and readable\n",
    "* Looks professional\n",
    "* Easier to understand\n",
    "* Easier to debug"
   ],
   "metadata": {
    "collapsed": false
   }
  }
 ],
 "metadata": {
  "kernelspec": {
   "display_name": "Python 3",
   "language": "python",
   "name": "python3"
  },
  "language_info": {
   "codemirror_mode": {
    "name": "ipython",
    "version": 2
   },
   "file_extension": ".py",
   "mimetype": "text/x-python",
   "name": "python",
   "nbconvert_exporter": "python",
   "pygments_lexer": "ipython2",
   "version": "2.7.6"
  }
 },
 "nbformat": 4,
 "nbformat_minor": 0
}
