{
 "cells": [
  {
   "cell_type": "markdown",
   "source": [
    "## Intermediate SQL"
   ],
   "metadata": {
    "collapsed": false
   }
  },
  {
   "cell_type": "code",
   "execution_count": 2,
   "outputs": [
    {
     "data": {
      "text/plain": "     0                                    1       2    3      4        5   6  \\\n0  389                               Sheena  1984.0   UK  117.0  English  PG   \n1  390                               Splash  1984.0  USA  111.0  English  PG   \n2  391  Star Trek III: The Search for Spock  1984.0  USA  105.0  English  PG   \n3  392                           The Bounty  1984.0   UK  132.0  English  PG   \n4  393                      The Cotton Club  1984.0  USA  123.0  English   R   \n\n            7           8  \n0         NaN  25000000.0  \n1  69800000.0   8000000.0  \n2  76400000.0  17000000.0  \n3   8600000.0  25000000.0  \n4  25900000.0  58000000.0  ",
      "text/html": "<div>\n<style scoped>\n    .dataframe tbody tr th:only-of-type {\n        vertical-align: middle;\n    }\n\n    .dataframe tbody tr th {\n        vertical-align: top;\n    }\n\n    .dataframe thead th {\n        text-align: right;\n    }\n</style>\n<table border=\"1\" class=\"dataframe\">\n  <thead>\n    <tr style=\"text-align: right;\">\n      <th></th>\n      <th>0</th>\n      <th>1</th>\n      <th>2</th>\n      <th>3</th>\n      <th>4</th>\n      <th>5</th>\n      <th>6</th>\n      <th>7</th>\n      <th>8</th>\n    </tr>\n  </thead>\n  <tbody>\n    <tr>\n      <th>0</th>\n      <td>389</td>\n      <td>Sheena</td>\n      <td>1984.0</td>\n      <td>UK</td>\n      <td>117.0</td>\n      <td>English</td>\n      <td>PG</td>\n      <td>NaN</td>\n      <td>25000000.0</td>\n    </tr>\n    <tr>\n      <th>1</th>\n      <td>390</td>\n      <td>Splash</td>\n      <td>1984.0</td>\n      <td>USA</td>\n      <td>111.0</td>\n      <td>English</td>\n      <td>PG</td>\n      <td>69800000.0</td>\n      <td>8000000.0</td>\n    </tr>\n    <tr>\n      <th>2</th>\n      <td>391</td>\n      <td>Star Trek III: The Search for Spock</td>\n      <td>1984.0</td>\n      <td>USA</td>\n      <td>105.0</td>\n      <td>English</td>\n      <td>PG</td>\n      <td>76400000.0</td>\n      <td>17000000.0</td>\n    </tr>\n    <tr>\n      <th>3</th>\n      <td>392</td>\n      <td>The Bounty</td>\n      <td>1984.0</td>\n      <td>UK</td>\n      <td>132.0</td>\n      <td>English</td>\n      <td>PG</td>\n      <td>8600000.0</td>\n      <td>25000000.0</td>\n    </tr>\n    <tr>\n      <th>4</th>\n      <td>393</td>\n      <td>The Cotton Club</td>\n      <td>1984.0</td>\n      <td>USA</td>\n      <td>123.0</td>\n      <td>English</td>\n      <td>R</td>\n      <td>25900000.0</td>\n      <td>58000000.0</td>\n    </tr>\n  </tbody>\n</table>\n</div>"
     },
     "metadata": {},
     "output_type": "display_data"
    }
   ],
   "source": [
    "import cx_Oracle\n",
    "import pandas as pd\n",
    "\n",
    "def print_all():\n",
    "    connection = cx_Oracle.connect(user=\"DATASETS_CHAN\", password=\"123\", dsn=\"localhost:1521/xe\")\n",
    "    cursor = connection.cursor()\n",
    "    cursor.execute(\"SELECT * FROM FILMS\")\n",
    "    return pd.DataFrame(cursor)\n",
    "\n",
    "def run_statement(sql):\n",
    "    connection = cx_Oracle.connect(user=\"DATASETS_CHAN\", password=\"123\", dsn=\"localhost:1521/xe\")\n",
    "    cursor = connection.cursor()\n",
    "    cursor.execute(sql)\n",
    "    for row in cursor:\n",
    "        display(row)\n",
    "df = print_all()\n",
    "display(df.head())"
   ],
   "metadata": {
    "collapsed": false
   }
  },
  {
   "cell_type": "markdown",
   "source": [
    "### Selecting Data"
   ],
   "metadata": {
    "collapsed": false
   }
  },
  {
   "cell_type": "markdown",
   "source": [
    "#### Query execution"
   ],
   "metadata": {
    "collapsed": false
   }
  },
  {
   "cell_type": "markdown",
   "source": [
    "#### Order of execution\n",
    "* SQL is not processed in its written order"
   ],
   "metadata": {
    "collapsed": false
   }
  },
  {
   "cell_type": "code",
   "execution_count": 9,
   "outputs": [
    {
     "ename": "DatabaseError",
     "evalue": "ORA-00933: SQL command not properly ended",
     "output_type": "error",
     "traceback": [
      "\u001B[1;31m---------------------------------------------------------------------------\u001B[0m",
      "\u001B[1;31mDatabaseError\u001B[0m                             Traceback (most recent call last)",
      "Input \u001B[1;32mIn [9]\u001B[0m, in \u001B[0;36m<cell line: 3>\u001B[1;34m()\u001B[0m\n\u001B[0;32m      1\u001B[0m \u001B[38;5;66;03m# Order of execution\u001B[39;00m\n\u001B[0;32m      2\u001B[0m sql \u001B[38;5;241m=\u001B[39m \u001B[38;5;124m\"\"\"\u001B[39m\u001B[38;5;124mSELECT name FROM people LIMIT 10\u001B[39m\u001B[38;5;124m\"\"\"\u001B[39m\n\u001B[1;32m----> 3\u001B[0m \u001B[43mrun_statement\u001B[49m\u001B[43m(\u001B[49m\u001B[43msql\u001B[49m\u001B[43m)\u001B[49m\n",
      "Input \u001B[1;32mIn [2]\u001B[0m, in \u001B[0;36mrun_statement\u001B[1;34m(sql)\u001B[0m\n\u001B[0;32m     11\u001B[0m connection \u001B[38;5;241m=\u001B[39m cx_Oracle\u001B[38;5;241m.\u001B[39mconnect(user\u001B[38;5;241m=\u001B[39m\u001B[38;5;124m\"\u001B[39m\u001B[38;5;124mDATASETS_CHAN\u001B[39m\u001B[38;5;124m\"\u001B[39m, password\u001B[38;5;241m=\u001B[39m\u001B[38;5;124m\"\u001B[39m\u001B[38;5;124m123\u001B[39m\u001B[38;5;124m\"\u001B[39m, dsn\u001B[38;5;241m=\u001B[39m\u001B[38;5;124m\"\u001B[39m\u001B[38;5;124mlocalhost:1521/xe\u001B[39m\u001B[38;5;124m\"\u001B[39m)\n\u001B[0;32m     12\u001B[0m cursor \u001B[38;5;241m=\u001B[39m connection\u001B[38;5;241m.\u001B[39mcursor()\n\u001B[1;32m---> 13\u001B[0m \u001B[43mcursor\u001B[49m\u001B[38;5;241;43m.\u001B[39;49m\u001B[43mexecute\u001B[49m\u001B[43m(\u001B[49m\u001B[43msql\u001B[49m\u001B[43m)\u001B[49m\n\u001B[0;32m     14\u001B[0m \u001B[38;5;28;01mfor\u001B[39;00m row \u001B[38;5;129;01min\u001B[39;00m cursor:\n\u001B[0;32m     15\u001B[0m     display(row)\n",
      "\u001B[1;31mDatabaseError\u001B[0m: ORA-00933: SQL command not properly ended"
     ]
    }
   ],
   "source": [
    "# Order of execution\n",
    "sql = \"\"\"SELECT name FROM people LIMIT 10\"\"\"\n",
    "run_statement(sql)"
   ],
   "metadata": {
    "collapsed": false
   }
  },
  {
   "cell_type": "markdown",
   "source": [
    "* `LIMIT` limits how many results we return\n",
    "* Good to know processing order for debugging and aliasing\n",
    "* Aliases are declared in the SELECT statement"
   ],
   "metadata": {
    "collapsed": false
   }
  },
  {
   "cell_type": "markdown",
   "source": [
    "#### Debugging SQL"
   ],
   "metadata": {
    "collapsed": false
   }
  },
  {
   "cell_type": "code",
   "execution_count": 3,
   "outputs": [
    {
     "ename": "DatabaseError",
     "evalue": "ORA-00904: \"NME\": invalid identifier",
     "output_type": "error",
     "traceback": [
      "\u001B[1;31m---------------------------------------------------------------------------\u001B[0m",
      "\u001B[1;31mDatabaseError\u001B[0m                             Traceback (most recent call last)",
      "Input \u001B[1;32mIn [3]\u001B[0m, in \u001B[0;36m<cell line: 2>\u001B[1;34m()\u001B[0m\n\u001B[0;32m      1\u001B[0m sql\u001B[38;5;241m=\u001B[39m \u001B[38;5;124m\"\"\"\u001B[39m\u001B[38;5;124mSELECT nme FROM people\u001B[39m\u001B[38;5;124m\"\"\"\u001B[39m\n\u001B[1;32m----> 2\u001B[0m \u001B[43mrun_statement\u001B[49m\u001B[43m(\u001B[49m\u001B[43msql\u001B[49m\u001B[43m)\u001B[49m\n",
      "Input \u001B[1;32mIn [2]\u001B[0m, in \u001B[0;36mrun_statement\u001B[1;34m(sql)\u001B[0m\n\u001B[0;32m     11\u001B[0m connection \u001B[38;5;241m=\u001B[39m cx_Oracle\u001B[38;5;241m.\u001B[39mconnect(user\u001B[38;5;241m=\u001B[39m\u001B[38;5;124m\"\u001B[39m\u001B[38;5;124mDATASETS_CHAN\u001B[39m\u001B[38;5;124m\"\u001B[39m, password\u001B[38;5;241m=\u001B[39m\u001B[38;5;124m\"\u001B[39m\u001B[38;5;124m123\u001B[39m\u001B[38;5;124m\"\u001B[39m, dsn\u001B[38;5;241m=\u001B[39m\u001B[38;5;124m\"\u001B[39m\u001B[38;5;124mlocalhost:1521/xe\u001B[39m\u001B[38;5;124m\"\u001B[39m)\n\u001B[0;32m     12\u001B[0m cursor \u001B[38;5;241m=\u001B[39m connection\u001B[38;5;241m.\u001B[39mcursor()\n\u001B[1;32m---> 13\u001B[0m \u001B[43mcursor\u001B[49m\u001B[38;5;241;43m.\u001B[39;49m\u001B[43mexecute\u001B[49m\u001B[43m(\u001B[49m\u001B[43msql\u001B[49m\u001B[43m)\u001B[49m\n\u001B[0;32m     14\u001B[0m \u001B[38;5;28;01mfor\u001B[39;00m row \u001B[38;5;129;01min\u001B[39;00m cursor:\n\u001B[0;32m     15\u001B[0m     display(row)\n",
      "\u001B[1;31mDatabaseError\u001B[0m: ORA-00904: \"NME\": invalid identifier"
     ]
    }
   ],
   "source": [
    "sql= \"\"\"SELECT nme FROM people\"\"\"\n",
    "run_statement(sql)"
   ],
   "metadata": {
    "collapsed": false
   }
  },
  {
   "cell_type": "markdown",
   "source": [
    "field \"nme\" does not exist\n",
    "LINE 1: SELECT nme\n",
    "\n",
    "HINT: Perhaps you meant to reference the field \"people.name\"."
   ],
   "metadata": {
    "collapsed": false
   }
  },
  {
   "cell_type": "markdown",
   "source": [
    "* Misspelling\n",
    "* Incorrect capitalization\n",
    "* Incorrect or missing punctuation"
   ],
   "metadata": {
    "collapsed": false
   }
  },
  {
   "cell_type": "markdown",
   "source": [
    "#### Comma errors\n",
    "* Look out for comma errors!"
   ],
   "metadata": {
    "collapsed": false
   }
  },
  {
   "cell_type": "code",
   "execution_count": 10,
   "metadata": {
    "collapsed": true
   },
   "outputs": [],
   "source": [
    "# SELECT title, country duration\n",
    "# FROM films;"
   ]
  },
  {
   "cell_type": "markdown",
   "source": [
    "#### Keyword errors"
   ],
   "metadata": {
    "collapsed": false
   }
  },
  {
   "cell_type": "code",
   "execution_count": 13,
   "outputs": [
    {
     "data": {
      "text/plain": "(8397, 6152)"
     },
     "metadata": {},
     "output_type": "display_data"
    }
   ],
   "source": [
    "# SELCT title, country, duration\n",
    "# FROM films;"
   ],
   "metadata": {
    "collapsed": false
   }
  },
  {
   "cell_type": "markdown",
   "source": [
    "syntax error at or near \"SELCT\"\n",
    "LINE 1: SELCT title, country, duration"
   ],
   "metadata": {
    "collapsed": false
   }
  },
  {
   "cell_type": "markdown",
   "source": [
    "#### Final note on errors\n",
    "Most common errorrs:\n",
    "* Misspelling\n",
    "* Incorrect capitalization\n",
    "* Incorrect or missing punctuation, especially commas\n",
    "\n",
    "\n",
    "Learn from making mistakes"
   ],
   "metadata": {
    "collapsed": false
   }
  },
  {
   "cell_type": "markdown",
   "source": [],
   "metadata": {
    "collapsed": false
   }
  }
 ],
 "metadata": {
  "kernelspec": {
   "display_name": "Python 3",
   "language": "python",
   "name": "python3"
  },
  "language_info": {
   "codemirror_mode": {
    "name": "ipython",
    "version": 2
   },
   "file_extension": ".py",
   "mimetype": "text/x-python",
   "name": "python",
   "nbconvert_exporter": "python",
   "pygments_lexer": "ipython2",
   "version": "2.7.6"
  }
 },
 "nbformat": 4,
 "nbformat_minor": 0
}
