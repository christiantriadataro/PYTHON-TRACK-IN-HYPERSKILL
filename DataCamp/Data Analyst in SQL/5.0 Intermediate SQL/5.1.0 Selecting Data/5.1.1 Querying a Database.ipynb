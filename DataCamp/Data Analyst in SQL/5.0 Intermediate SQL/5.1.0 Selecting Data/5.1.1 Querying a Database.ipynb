{
 "cells": [
  {
   "cell_type": "markdown",
   "source": [
    "## Intermediate SQL"
   ],
   "metadata": {
    "collapsed": false
   }
  },
  {
   "cell_type": "code",
   "execution_count": 1,
   "outputs": [
    {
     "data": {
      "text/plain": "     0                                    1       2    3      4        5   6  \\\n0  389                               Sheena  1984.0   UK  117.0  English  PG   \n1  390                               Splash  1984.0  USA  111.0  English  PG   \n2  391  Star Trek III: The Search for Spock  1984.0  USA  105.0  English  PG   \n3  392                           The Bounty  1984.0   UK  132.0  English  PG   \n4  393                      The Cotton Club  1984.0  USA  123.0  English   R   \n\n            7           8  \n0         NaN  25000000.0  \n1  69800000.0   8000000.0  \n2  76400000.0  17000000.0  \n3   8600000.0  25000000.0  \n4  25900000.0  58000000.0  ",
      "text/html": "<div>\n<style scoped>\n    .dataframe tbody tr th:only-of-type {\n        vertical-align: middle;\n    }\n\n    .dataframe tbody tr th {\n        vertical-align: top;\n    }\n\n    .dataframe thead th {\n        text-align: right;\n    }\n</style>\n<table border=\"1\" class=\"dataframe\">\n  <thead>\n    <tr style=\"text-align: right;\">\n      <th></th>\n      <th>0</th>\n      <th>1</th>\n      <th>2</th>\n      <th>3</th>\n      <th>4</th>\n      <th>5</th>\n      <th>6</th>\n      <th>7</th>\n      <th>8</th>\n    </tr>\n  </thead>\n  <tbody>\n    <tr>\n      <th>0</th>\n      <td>389</td>\n      <td>Sheena</td>\n      <td>1984.0</td>\n      <td>UK</td>\n      <td>117.0</td>\n      <td>English</td>\n      <td>PG</td>\n      <td>NaN</td>\n      <td>25000000.0</td>\n    </tr>\n    <tr>\n      <th>1</th>\n      <td>390</td>\n      <td>Splash</td>\n      <td>1984.0</td>\n      <td>USA</td>\n      <td>111.0</td>\n      <td>English</td>\n      <td>PG</td>\n      <td>69800000.0</td>\n      <td>8000000.0</td>\n    </tr>\n    <tr>\n      <th>2</th>\n      <td>391</td>\n      <td>Star Trek III: The Search for Spock</td>\n      <td>1984.0</td>\n      <td>USA</td>\n      <td>105.0</td>\n      <td>English</td>\n      <td>PG</td>\n      <td>76400000.0</td>\n      <td>17000000.0</td>\n    </tr>\n    <tr>\n      <th>3</th>\n      <td>392</td>\n      <td>The Bounty</td>\n      <td>1984.0</td>\n      <td>UK</td>\n      <td>132.0</td>\n      <td>English</td>\n      <td>PG</td>\n      <td>8600000.0</td>\n      <td>25000000.0</td>\n    </tr>\n    <tr>\n      <th>4</th>\n      <td>393</td>\n      <td>The Cotton Club</td>\n      <td>1984.0</td>\n      <td>USA</td>\n      <td>123.0</td>\n      <td>English</td>\n      <td>R</td>\n      <td>25900000.0</td>\n      <td>58000000.0</td>\n    </tr>\n  </tbody>\n</table>\n</div>"
     },
     "metadata": {},
     "output_type": "display_data"
    }
   ],
   "source": [
    "import cx_Oracle\n",
    "import pandas as pd\n",
    "\n",
    "def print_all():\n",
    "    connection = cx_Oracle.connect(user=\"DATASETS_CHAN\", password=\"123\", dsn=\"localhost:1521/xe\")\n",
    "    cursor = connection.cursor()\n",
    "    cursor.execute(\"SELECT * FROM FILMS\")\n",
    "    return pd.DataFrame(cursor)\n",
    "\n",
    "def run_statement(sql):\n",
    "    connection = cx_Oracle.connect(user=\"DATASETS_CHAN\", password=\"123\", dsn=\"localhost:1521/xe\")\n",
    "    cursor = connection.cursor()\n",
    "    cursor.execute(sql)\n",
    "    for row in cursor:\n",
    "        display(row)\n",
    "df = print_all()\n",
    "display(df.head())"
   ],
   "metadata": {
    "collapsed": false
   }
  },
  {
   "cell_type": "markdown",
   "source": [
    "### Selecting Data"
   ],
   "metadata": {
    "collapsed": false
   }
  },
  {
   "cell_type": "markdown",
   "source": [
    "#### Course road map\n",
    "- Querying databases\n",
    "- Count and view specified records\n",
    "- Understand query execution and style\n",
    "- Filtering\n",
    "- Aggregate functions\n",
    "- Sorting and grouping"
   ],
   "metadata": {
    "collapsed": false
   }
  },
  {
   "cell_type": "markdown",
   "source": [
    "#### Our films database\n",
    "* films\n",
    "- id                INT4\n",
    "- title             VARCHAR\n",
    "- release_year      INT4\n",
    "- country           VARCHAR\n",
    "- duration          INT4\n",
    "- language          VARCHAR\n",
    "- certification     VARCHAR\n",
    "- gross             INT8\n",
    "- budget            INT8\n",
    "\n",
    "* people\n",
    "- id                INT4\n",
    "- name              VARCHAR\n",
    "- birthdate         DATE\n",
    "- deathdate         DATE\n",
    "\n",
    "* reviews\n",
    "- id                INT4\n",
    "- film_id           INT4\n",
    "- num_user          INT4\n",
    "- num_critic        INT4\n",
    "- imdb_score        FLOAT4\n",
    "- num_votes         INT4\n",
    "- facebook_likes    INT4\n",
    "\n",
    "* roles\n",
    "- id                INT4\n",
    "- film_id           INT4\n",
    "- person_id         INT4\n",
    "- role              VARCHAR"
   ],
   "metadata": {
    "collapsed": false
   }
  },
  {
   "cell_type": "markdown",
   "source": [
    "#### COUNT()\n",
    "- `COUNT()`\n",
    "- Counts the number of records with a value in a field"
   ],
   "metadata": {
    "collapsed": false
   }
  },
  {
   "cell_type": "code",
   "execution_count": 12,
   "metadata": {
    "collapsed": true
   },
   "outputs": [
    {
     "data": {
      "text/plain": "(6152,)"
     },
     "metadata": {},
     "output_type": "display_data"
    }
   ],
   "source": [
    "sql = \"\"\"SELECT COUNT(BIRTHDATE) AS count_birthdates\n",
    "FROM PEOPLE\"\"\"\n",
    "run_statement(sql)"
   ]
  },
  {
   "cell_type": "markdown",
   "source": [
    "#### COUNT() multiple fields"
   ],
   "metadata": {
    "collapsed": false
   }
  },
  {
   "cell_type": "code",
   "execution_count": 13,
   "outputs": [
    {
     "data": {
      "text/plain": "(8397, 6152)"
     },
     "metadata": {},
     "output_type": "display_data"
    }
   ],
   "source": [
    "# SELECT COUNT(name) AS count_names, COUNT(birthdate) AS count_birthdates\n",
    "# FROM people;\n",
    "sql = \"\"\"SELECT COUNT(NAME) AS count_names, COUNT(BIRTHDATE) AS count_birthdates FROM PEOPLE\"\"\"\n",
    "run_statement(sql)"
   ],
   "metadata": {
    "collapsed": false
   }
  },
  {
   "cell_type": "markdown",
   "source": [
    "#### Using * with COUNT()\n",
    "- `COUNT(field_name)` counts values in a field\n",
    "- `COUNT(*)` counts records in a table\n",
    "- `*` represents all fields"
   ],
   "metadata": {
    "collapsed": false
   }
  },
  {
   "cell_type": "code",
   "execution_count": 14,
   "outputs": [
    {
     "data": {
      "text/plain": "(8397,)"
     },
     "metadata": {},
     "output_type": "display_data"
    }
   ],
   "source": [
    "# SELECT COUNT(*) AS total_records\n",
    "# FROM people;\n",
    "sql = \"\"\"SELECT COUNT(*) AS total_records FROM PEOPLE\"\"\"\n",
    "run_statement(sql)"
   ],
   "metadata": {
    "collapsed": false
   }
  },
  {
   "cell_type": "markdown",
   "source": [
    "#### DISTINCT\n",
    "* `DISTINCT` removes duplicates to return only unique values"
   ],
   "metadata": {
    "collapsed": false
   }
  },
  {
   "cell_type": "code",
   "execution_count": null,
   "outputs": [],
   "source": [
    "# SELECT language FROM films;\n",
    "sql = \"\"\"SELECT DISTINCT LANGUAGE from  FILMS\"\"\"\n",
    "run_statement(sql)"
   ],
   "metadata": {
    "collapsed": false,
    "pycharm": {
     "is_executing": true
    }
   }
  },
  {
   "cell_type": "markdown",
   "source": [
    "#### COUNT() with DISTINCT\n",
    "* Combine `COUNT()` with DISTINCT to count unique values"
   ],
   "metadata": {
    "collapsed": false
   }
  },
  {
   "cell_type": "code",
   "execution_count": 3,
   "outputs": [
    {
     "data": {
      "text/plain": "(5398,)"
     },
     "metadata": {},
     "output_type": "display_data"
    }
   ],
   "source": [
    "sql = \"\"\"SELECT COUNT(DISTINCT birthdate) AS count_distinct_birthdates FROM people\"\"\"\n",
    "run_statement(sql)"
   ],
   "metadata": {
    "collapsed": false
   }
  },
  {
   "cell_type": "markdown",
   "source": [
    "* `COUNT()` includes duplicates\n",
    "* `DISTINCT` excludes duplicates"
   ],
   "metadata": {
    "collapsed": false
   }
  },
  {
   "cell_type": "markdown",
   "source": [],
   "metadata": {
    "collapsed": false
   }
  }
 ],
 "metadata": {
  "kernelspec": {
   "display_name": "Python 3",
   "language": "python",
   "name": "python3"
  },
  "language_info": {
   "codemirror_mode": {
    "name": "ipython",
    "version": 2
   },
   "file_extension": ".py",
   "mimetype": "text/x-python",
   "name": "python",
   "nbconvert_exporter": "python",
   "pygments_lexer": "ipython2",
   "version": "2.7.6"
  }
 },
 "nbformat": 4,
 "nbformat_minor": 0
}
