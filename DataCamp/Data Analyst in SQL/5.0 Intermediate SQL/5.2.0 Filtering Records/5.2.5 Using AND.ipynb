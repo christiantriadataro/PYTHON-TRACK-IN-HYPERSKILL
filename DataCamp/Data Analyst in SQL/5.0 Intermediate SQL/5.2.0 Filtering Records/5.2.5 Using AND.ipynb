{
 "cells": [
  {
   "cell_type": "markdown",
   "source": [
    "# Intermediate SQL"
   ],
   "metadata": {
    "collapsed": false
   }
  },
  {
   "cell_type": "markdown",
   "source": [
    "## Filtering Records"
   ],
   "metadata": {
    "collapsed": false
   }
  },
  {
   "cell_type": "markdown",
   "source": [
    "#### Using AND"
   ],
   "metadata": {
    "collapsed": false
   }
  },
  {
   "cell_type": "markdown",
   "source": [
    "The following exercise combines `AND` and `OR` with the\n",
    "`WHERE` clause. Using these operators together strengthens your queries and analyses of data.\n",
    "\n",
    "You will apply these new skills now on the `films` database."
   ],
   "metadata": {
    "collapsed": false
   }
  },
  {
   "cell_type": "markdown",
   "source": [],
   "metadata": {
    "collapsed": false
   }
  },
  {
   "cell_type": "code",
   "execution_count": 2,
   "outputs": [],
   "source": [
    "import cx_Oracle\n",
    "import pandas as pd\n",
    "\n",
    "def print_all():\n",
    "    connection = cx_Oracle.connect(user=\"DATASETS_CHAN\", password=\"123\", dsn=\"localhost:1521/xe\")\n",
    "    cursor = connection.cursor()\n",
    "    cursor.execute(\"SELECT * FROM FILMS\")\n",
    "    return pd.DataFrame(cursor)\n",
    "\n",
    "def run_statement(sql):\n",
    "    connection = cx_Oracle.connect(user=\"DATASETS_CHAN\", password=\"123\", dsn=\"localhost:1521/xe\")\n",
    "    cursor = connection.cursor()\n",
    "    cursor.execute(sql)\n",
    "    display(pd.DataFrame(cursor))"
   ],
   "metadata": {
    "collapsed": false
   }
  },
  {
   "cell_type": "markdown",
   "source": [
    "#### Instructions\n",
    "* Select the `title` and `release_year` for all German-language films released before 2000."
   ],
   "metadata": {
    "collapsed": false
   }
  },
  {
   "cell_type": "code",
   "execution_count": 5,
   "outputs": [
    {
     "data": {
      "text/plain": "                                   0     1\n0                         Metropolis  1927\n1                      Pandora's Box  1929\n2  The Torture Chamber of Dr. Sadism  1967\n3                           Das Boot  1981\n4                       Run Lola Run  1998\n5                     Aimee & Jaguar  1999",
      "text/html": "<div>\n<style scoped>\n    .dataframe tbody tr th:only-of-type {\n        vertical-align: middle;\n    }\n\n    .dataframe tbody tr th {\n        vertical-align: top;\n    }\n\n    .dataframe thead th {\n        text-align: right;\n    }\n</style>\n<table border=\"1\" class=\"dataframe\">\n  <thead>\n    <tr style=\"text-align: right;\">\n      <th></th>\n      <th>0</th>\n      <th>1</th>\n    </tr>\n  </thead>\n  <tbody>\n    <tr>\n      <th>0</th>\n      <td>Metropolis</td>\n      <td>1927</td>\n    </tr>\n    <tr>\n      <th>1</th>\n      <td>Pandora's Box</td>\n      <td>1929</td>\n    </tr>\n    <tr>\n      <th>2</th>\n      <td>The Torture Chamber of Dr. Sadism</td>\n      <td>1967</td>\n    </tr>\n    <tr>\n      <th>3</th>\n      <td>Das Boot</td>\n      <td>1981</td>\n    </tr>\n    <tr>\n      <th>4</th>\n      <td>Run Lola Run</td>\n      <td>1998</td>\n    </tr>\n    <tr>\n      <th>5</th>\n      <td>Aimee &amp; Jaguar</td>\n      <td>1999</td>\n    </tr>\n  </tbody>\n</table>\n</div>"
     },
     "metadata": {},
     "output_type": "display_data"
    }
   ],
   "source": [
    "# -- Select the title and release_year for all German-language films released before 2000\n",
    "sql = \"\"\"\n",
    "SELECT title, release_year\n",
    "FROM films\n",
    "WHERE language = 'German'\n",
    "    AND release_year < 2000\n",
    "\"\"\"\n",
    "run_statement(sql)"
   ],
   "metadata": {
    "collapsed": false
   }
  },
  {
   "cell_type": "markdown",
   "source": [
    "* Update the query from the previous step to show German-language films released after 2000 rather than before."
   ],
   "metadata": {
    "collapsed": false
   }
  },
  {
   "cell_type": "code",
   "execution_count": 12,
   "outputs": [
    {
     "ename": "DatabaseError",
     "evalue": "ORA-00933: SQL command not properly ended",
     "output_type": "error",
     "traceback": [
      "\u001B[1;31m---------------------------------------------------------------------------\u001B[0m",
      "\u001B[1;31mDatabaseError\u001B[0m                             Traceback (most recent call last)",
      "Input \u001B[1;32mIn [12]\u001B[0m, in \u001B[0;36m<cell line: 7>\u001B[1;34m()\u001B[0m\n\u001B[0;32m      1\u001B[0m sql \u001B[38;5;241m=\u001B[39m \u001B[38;5;124m\"\"\"\u001B[39m\n\u001B[0;32m      2\u001B[0m \u001B[38;5;124mSELECT film_id, facebook_likes\u001B[39m\n\u001B[0;32m      3\u001B[0m \u001B[38;5;124mFROM reviews\u001B[39m\n\u001B[0;32m      4\u001B[0m \u001B[38;5;124mWHERE facebook_likes < 1000\u001B[39m\n\u001B[0;32m      5\u001B[0m \u001B[38;5;124mLIMIT 10\u001B[39m\n\u001B[0;32m      6\u001B[0m \u001B[38;5;124m\"\"\"\u001B[39m\n\u001B[1;32m----> 7\u001B[0m \u001B[43mrun_statement\u001B[49m\u001B[43m(\u001B[49m\u001B[43msql\u001B[49m\u001B[43m)\u001B[49m\n",
      "Input \u001B[1;32mIn [6]\u001B[0m, in \u001B[0;36mrun_statement\u001B[1;34m(sql)\u001B[0m\n\u001B[0;32m     11\u001B[0m connection \u001B[38;5;241m=\u001B[39m cx_Oracle\u001B[38;5;241m.\u001B[39mconnect(user\u001B[38;5;241m=\u001B[39m\u001B[38;5;124m\"\u001B[39m\u001B[38;5;124mDATASETS_CHAN\u001B[39m\u001B[38;5;124m\"\u001B[39m, password\u001B[38;5;241m=\u001B[39m\u001B[38;5;124m\"\u001B[39m\u001B[38;5;124m123\u001B[39m\u001B[38;5;124m\"\u001B[39m, dsn\u001B[38;5;241m=\u001B[39m\u001B[38;5;124m\"\u001B[39m\u001B[38;5;124mlocalhost:1521/xe\u001B[39m\u001B[38;5;124m\"\u001B[39m)\n\u001B[0;32m     12\u001B[0m cursor \u001B[38;5;241m=\u001B[39m connection\u001B[38;5;241m.\u001B[39mcursor()\n\u001B[1;32m---> 13\u001B[0m \u001B[43mcursor\u001B[49m\u001B[38;5;241;43m.\u001B[39;49m\u001B[43mexecute\u001B[49m\u001B[43m(\u001B[49m\u001B[43msql\u001B[49m\u001B[43m)\u001B[49m\n\u001B[0;32m     14\u001B[0m display(pd\u001B[38;5;241m.\u001B[39mDataFrame(cursor))\n",
      "\u001B[1;31mDatabaseError\u001B[0m: ORA-00933: SQL command not properly ended"
     ]
    }
   ],
   "source": [
    "# -- Update the query to see all German-language films released after 2000\n",
    "sql = \"\"\"\n",
    "SELECT title, release_year\n",
    "FROM films\n",
    "WHERE language = 'German'\n",
    "    AND release_year > 2000\n",
    "\"\"\"\n",
    "run_statement(sql)"
   ],
   "metadata": {
    "collapsed": false
   }
  },
  {
   "cell_type": "markdown",
   "source": [
    "* Select all details for German-language films released after 2000 but before 2010 using **only** `WHERE` and `AND`."
   ],
   "metadata": {
    "collapsed": false
   }
  },
  {
   "cell_type": "code",
   "execution_count": 6,
   "outputs": [
    {
     "data": {
      "text/plain": "                            0     1\n0             Good Bye Lenin!  2003\n1                    Downfall  2004\n2                Summer Storm  2004\n3         The Lives of Others  2006\n4  The Baader Meinhof Complex  2008\n5                    The Wave  2008\n6                       Cargo  2009\n7                Soul Kitchen  2009\n8            The White Ribbon  2009",
      "text/html": "<div>\n<style scoped>\n    .dataframe tbody tr th:only-of-type {\n        vertical-align: middle;\n    }\n\n    .dataframe tbody tr th {\n        vertical-align: top;\n    }\n\n    .dataframe thead th {\n        text-align: right;\n    }\n</style>\n<table border=\"1\" class=\"dataframe\">\n  <thead>\n    <tr style=\"text-align: right;\">\n      <th></th>\n      <th>0</th>\n      <th>1</th>\n    </tr>\n  </thead>\n  <tbody>\n    <tr>\n      <th>0</th>\n      <td>Good Bye Lenin!</td>\n      <td>2003</td>\n    </tr>\n    <tr>\n      <th>1</th>\n      <td>Downfall</td>\n      <td>2004</td>\n    </tr>\n    <tr>\n      <th>2</th>\n      <td>Summer Storm</td>\n      <td>2004</td>\n    </tr>\n    <tr>\n      <th>3</th>\n      <td>The Lives of Others</td>\n      <td>2006</td>\n    </tr>\n    <tr>\n      <th>4</th>\n      <td>The Baader Meinhof Complex</td>\n      <td>2008</td>\n    </tr>\n    <tr>\n      <th>5</th>\n      <td>The Wave</td>\n      <td>2008</td>\n    </tr>\n    <tr>\n      <th>6</th>\n      <td>Cargo</td>\n      <td>2009</td>\n    </tr>\n    <tr>\n      <th>7</th>\n      <td>Soul Kitchen</td>\n      <td>2009</td>\n    </tr>\n    <tr>\n      <th>8</th>\n      <td>The White Ribbon</td>\n      <td>2009</td>\n    </tr>\n  </tbody>\n</table>\n</div>"
     },
     "metadata": {},
     "output_type": "display_data"
    }
   ],
   "source": [
    "# -- Select all records for German-language films released after 2000 and before 2010\n",
    "sql = \"\"\"\n",
    "SELECT *\n",
    "FROM films\n",
    "WHERE language = 'German'\n",
    "    AND (release_year > 2000 AND release_year < 2010)\n",
    "\"\"\"\n",
    "run_statement(sql)"
   ],
   "metadata": {
    "collapsed": false
   }
  },
  {
   "cell_type": "code",
   "execution_count": null,
   "outputs": [],
   "source": [],
   "metadata": {
    "collapsed": false
   }
  }
 ],
 "metadata": {
  "kernelspec": {
   "display_name": "Python 3",
   "language": "python",
   "name": "python3"
  },
  "language_info": {
   "codemirror_mode": {
    "name": "ipython",
    "version": 2
   },
   "file_extension": ".py",
   "mimetype": "text/x-python",
   "name": "python",
   "nbconvert_exporter": "python",
   "pygments_lexer": "ipython2",
   "version": "2.7.6"
  }
 },
 "nbformat": 4,
 "nbformat_minor": 0
}
