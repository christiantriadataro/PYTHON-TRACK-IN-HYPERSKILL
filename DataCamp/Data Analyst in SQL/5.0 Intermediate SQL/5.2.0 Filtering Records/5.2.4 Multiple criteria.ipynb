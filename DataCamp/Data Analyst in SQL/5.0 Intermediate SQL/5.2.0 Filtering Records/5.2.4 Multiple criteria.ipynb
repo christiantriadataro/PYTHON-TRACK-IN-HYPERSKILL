{
 "cells": [
  {
   "cell_type": "markdown",
   "source": [
    "# Intermediate SQL"
   ],
   "metadata": {
    "collapsed": false
   }
  },
  {
   "cell_type": "markdown",
   "source": [
    "## Selecting with data"
   ],
   "metadata": {
    "collapsed": false
   }
  },
  {
   "cell_type": "markdown",
   "source": [
    "#### Multiple criteria"
   ],
   "metadata": {
    "collapsed": false
   }
  },
  {
   "cell_type": "markdown",
   "source": [],
   "metadata": {
    "collapsed": false
   }
  },
  {
   "cell_type": "code",
   "execution_count": 3,
   "outputs": [],
   "source": [
    "import cx_Oracle\n",
    "import pandas as pd\n",
    "\n",
    "def print_all():\n",
    "    connection = cx_Oracle.connect(user=\"DATASETS_CHAN\", password=\"123\", dsn=\"localhost:1521/xe\")\n",
    "    cursor = connection.cursor()\n",
    "    cursor.execute(\"SELECT * FROM FILMS\")\n",
    "    return pd.DataFrame(cursor)\n",
    "\n",
    "def run_statement(sql):\n",
    "    connection = cx_Oracle.connect(user=\"DATASETS_CHAN\", password=\"123\", dsn=\"localhost:1521/xe\")\n",
    "    cursor = connection.cursor()\n",
    "    cursor.execute(sql)\n",
    "    display(pd.DataFrame(cursor))"
   ],
   "metadata": {
    "collapsed": false
   }
  },
  {
   "cell_type": "markdown",
   "source": [
    "#### Multiple criteria\n",
    "* `OR`, `AND`, `BETWEEN`"
   ],
   "metadata": {
    "collapsed": false
   }
  },
  {
   "cell_type": "code",
   "execution_count": 19,
   "outputs": [
    {
     "data": {
      "text/plain": "(8397,)"
     },
     "metadata": {},
     "output_type": "display_data"
    }
   ],
   "source": [
    "# SELECT *\n",
    "# FROM coats\n",
    "# WHERE color = 'yellow' OR length = 'short'\n",
    "sql = \"\"\"SELECT *\n",
    "FROM coats\n",
    "WHERE color = 'yellow' OR length = 'short'\n",
    "\"\"\"\n",
    "run_statement(sql)"
   ],
   "metadata": {
    "collapsed": false
   }
  },
  {
   "cell_type": "code",
   "execution_count": null,
   "outputs": [],
   "source": [
    "# SELECT *\n",
    "# FROM coats\n",
    "# WHERE color = 'yellow' AND length = 'short'\n",
    "sql = \"\"\"\n",
    "SELECT *\n",
    "FROM coats\n",
    "WHERE color = 'yellow' AND length = 'short';\n",
    "\"\"\"\n",
    "run_statement(sql)"
   ],
   "metadata": {
    "collapsed": false
   }
  },
  {
   "cell_type": "code",
   "execution_count": 20,
   "outputs": [
    {
     "data": {
      "text/plain": "(6152,)"
     },
     "metadata": {},
     "output_type": "display_data"
    }
   ],
   "source": [
    "# SELECT *\n",
    "# FROM coats\n",
    "# WHERE buttons BETWEEN 1 AND 5;\n",
    "sql = \"\"\"\n",
    "SELECT *\n",
    "FROM coats\n",
    "WHERE buttons BETWEEN 1 AND 5;\n",
    "\"\"\"\n",
    "run_statement(sql)"
   ],
   "metadata": {
    "collapsed": false
   }
  },
  {
   "cell_type": "markdown",
   "source": [
    "#### OR operator\n",
    "* Use `OR` when you need to satisfy at least one condition"
   ],
   "metadata": {
    "collapsed": false
   }
  },
  {
   "cell_type": "markdown",
   "source": [
    "#### OR operator\n",
    "* Correct:"
   ],
   "metadata": {
    "collapsed": false
   }
  },
  {
   "cell_type": "code",
   "execution_count": 5,
   "outputs": [
    {
     "data": {
      "text/plain": "                              0\n0            3 Ninjas Kick Back\n1        A Low Down Dirty Shame\n2    Ace Ventura: Pet Detective\n3                Baby's Day Out\n4         Beverly Hills Cop III\n..                          ...\n220                     Whipped\n221                Woman on Top\n222                 Wonder Boys\n223                       X-Men\n224         You Can Count on Me\n\n[225 rows x 1 columns]",
      "text/html": "<div>\n<style scoped>\n    .dataframe tbody tr th:only-of-type {\n        vertical-align: middle;\n    }\n\n    .dataframe tbody tr th {\n        vertical-align: top;\n    }\n\n    .dataframe thead th {\n        text-align: right;\n    }\n</style>\n<table border=\"1\" class=\"dataframe\">\n  <thead>\n    <tr style=\"text-align: right;\">\n      <th></th>\n      <th>0</th>\n    </tr>\n  </thead>\n  <tbody>\n    <tr>\n      <th>0</th>\n      <td>3 Ninjas Kick Back</td>\n    </tr>\n    <tr>\n      <th>1</th>\n      <td>A Low Down Dirty Shame</td>\n    </tr>\n    <tr>\n      <th>2</th>\n      <td>Ace Ventura: Pet Detective</td>\n    </tr>\n    <tr>\n      <th>3</th>\n      <td>Baby's Day Out</td>\n    </tr>\n    <tr>\n      <th>4</th>\n      <td>Beverly Hills Cop III</td>\n    </tr>\n    <tr>\n      <th>...</th>\n      <td>...</td>\n    </tr>\n    <tr>\n      <th>220</th>\n      <td>Whipped</td>\n    </tr>\n    <tr>\n      <th>221</th>\n      <td>Woman on Top</td>\n    </tr>\n    <tr>\n      <th>222</th>\n      <td>Wonder Boys</td>\n    </tr>\n    <tr>\n      <th>223</th>\n      <td>X-Men</td>\n    </tr>\n    <tr>\n      <th>224</th>\n      <td>You Can Count on Me</td>\n    </tr>\n  </tbody>\n</table>\n<p>225 rows × 1 columns</p>\n</div>"
     },
     "metadata": {},
     "output_type": "display_data"
    }
   ],
   "source": [
    "sql = \"\"\"\n",
    "SELECT title\n",
    "FROM films\n",
    "WHERE release_year = 1994\n",
    "    OR release_year = 2000\n",
    "\"\"\"\n",
    "run_statement(sql)"
   ],
   "metadata": {
    "collapsed": false
   }
  },
  {
   "cell_type": "markdown",
   "source": [
    "* Invalid:"
   ],
   "metadata": {
    "collapsed": false
   }
  },
  {
   "cell_type": "code",
   "execution_count": 6,
   "outputs": [
    {
     "ename": "DatabaseError",
     "evalue": "ORA-00920: invalid relational operator",
     "output_type": "error",
     "traceback": [
      "\u001B[1;31m---------------------------------------------------------------------------\u001B[0m",
      "\u001B[1;31mDatabaseError\u001B[0m                             Traceback (most recent call last)",
      "Input \u001B[1;32mIn [6]\u001B[0m, in \u001B[0;36m<cell line: 7>\u001B[1;34m()\u001B[0m\n\u001B[0;32m      1\u001B[0m sql \u001B[38;5;241m=\u001B[39m \u001B[38;5;124m\"\"\"\u001B[39m\n\u001B[0;32m      2\u001B[0m \u001B[38;5;124mSELECT title\u001B[39m\n\u001B[0;32m      3\u001B[0m \u001B[38;5;124mFROM films\u001B[39m\n\u001B[0;32m      4\u001B[0m \u001B[38;5;124mWHERE release_year = 1994\u001B[39m\n\u001B[0;32m      5\u001B[0m \u001B[38;5;124m    OR 2000\u001B[39m\n\u001B[0;32m      6\u001B[0m \u001B[38;5;124m\"\"\"\u001B[39m\n\u001B[1;32m----> 7\u001B[0m \u001B[43mrun_statement\u001B[49m\u001B[43m(\u001B[49m\u001B[43msql\u001B[49m\u001B[43m)\u001B[49m\n",
      "Input \u001B[1;32mIn [3]\u001B[0m, in \u001B[0;36mrun_statement\u001B[1;34m(sql)\u001B[0m\n\u001B[0;32m     11\u001B[0m connection \u001B[38;5;241m=\u001B[39m cx_Oracle\u001B[38;5;241m.\u001B[39mconnect(user\u001B[38;5;241m=\u001B[39m\u001B[38;5;124m\"\u001B[39m\u001B[38;5;124mDATASETS_CHAN\u001B[39m\u001B[38;5;124m\"\u001B[39m, password\u001B[38;5;241m=\u001B[39m\u001B[38;5;124m\"\u001B[39m\u001B[38;5;124m123\u001B[39m\u001B[38;5;124m\"\u001B[39m, dsn\u001B[38;5;241m=\u001B[39m\u001B[38;5;124m\"\u001B[39m\u001B[38;5;124mlocalhost:1521/xe\u001B[39m\u001B[38;5;124m\"\u001B[39m)\n\u001B[0;32m     12\u001B[0m cursor \u001B[38;5;241m=\u001B[39m connection\u001B[38;5;241m.\u001B[39mcursor()\n\u001B[1;32m---> 13\u001B[0m \u001B[43mcursor\u001B[49m\u001B[38;5;241;43m.\u001B[39;49m\u001B[43mexecute\u001B[49m\u001B[43m(\u001B[49m\u001B[43msql\u001B[49m\u001B[43m)\u001B[49m\n\u001B[0;32m     14\u001B[0m display(pd\u001B[38;5;241m.\u001B[39mDataFrame(cursor))\n",
      "\u001B[1;31mDatabaseError\u001B[0m: ORA-00920: invalid relational operator"
     ]
    }
   ],
   "source": [
    "sql = \"\"\"\n",
    "SELECT title\n",
    "FROM films\n",
    "WHERE release_year = 1994\n",
    "    OR 2000\n",
    "\"\"\"\n",
    "run_statement(sql)"
   ],
   "metadata": {
    "collapsed": false
   }
  },
  {
   "cell_type": "markdown",
   "source": [
    "### AND operator\n",
    "* Use `AND if we need to satisfy all criteria\n",
    "* Correct:"
   ],
   "metadata": {
    "collapsed": false
   }
  },
  {
   "cell_type": "code",
   "execution_count": 7,
   "outputs": [
    {
     "data": {
      "text/plain": "                                  0\n0    Ace Ventura: When Nature Calls\n1                         Apollo 13\n2                         Assassins\n3                              Babe\n4                          Bad Boys\n..                              ...\n584                Twin Falls Idaho\n585   Universal Soldier: The Return\n586                   Varsity Blues\n587                  Wild Wild West\n588                  Wing Commander\n\n[589 rows x 1 columns]",
      "text/html": "<div>\n<style scoped>\n    .dataframe tbody tr th:only-of-type {\n        vertical-align: middle;\n    }\n\n    .dataframe tbody tr th {\n        vertical-align: top;\n    }\n\n    .dataframe thead th {\n        text-align: right;\n    }\n</style>\n<table border=\"1\" class=\"dataframe\">\n  <thead>\n    <tr style=\"text-align: right;\">\n      <th></th>\n      <th>0</th>\n    </tr>\n  </thead>\n  <tbody>\n    <tr>\n      <th>0</th>\n      <td>Ace Ventura: When Nature Calls</td>\n    </tr>\n    <tr>\n      <th>1</th>\n      <td>Apollo 13</td>\n    </tr>\n    <tr>\n      <th>2</th>\n      <td>Assassins</td>\n    </tr>\n    <tr>\n      <th>3</th>\n      <td>Babe</td>\n    </tr>\n    <tr>\n      <th>4</th>\n      <td>Bad Boys</td>\n    </tr>\n    <tr>\n      <th>...</th>\n      <td>...</td>\n    </tr>\n    <tr>\n      <th>584</th>\n      <td>Twin Falls Idaho</td>\n    </tr>\n    <tr>\n      <th>585</th>\n      <td>Universal Soldier: The Return</td>\n    </tr>\n    <tr>\n      <th>586</th>\n      <td>Varsity Blues</td>\n    </tr>\n    <tr>\n      <th>587</th>\n      <td>Wild Wild West</td>\n    </tr>\n    <tr>\n      <th>588</th>\n      <td>Wing Commander</td>\n    </tr>\n  </tbody>\n</table>\n<p>589 rows × 1 columns</p>\n</div>"
     },
     "metadata": {},
     "output_type": "display_data"
    }
   ],
   "source": [
    "# SELECT title\n",
    "# FROM films\n",
    "# WHERE release_year > 1994\n",
    "#   AND release_year < 2000;\n",
    "sql = \"\"\"\n",
    "SELECT title\n",
    "FROM films\n",
    "WHERE release_year > 1994\n",
    "    AND release_year < 2000\n",
    "\"\"\"\n",
    "run_statement(sql)"
   ],
   "metadata": {
    "collapsed": false
   }
  },
  {
   "cell_type": "markdown",
   "source": [
    "* Invalid:"
   ],
   "metadata": {
    "collapsed": false
   }
  },
  {
   "cell_type": "code",
   "execution_count": 8,
   "outputs": [
    {
     "ename": "DatabaseError",
     "evalue": "ORA-00936: missing expression",
     "output_type": "error",
     "traceback": [
      "\u001B[1;31m---------------------------------------------------------------------------\u001B[0m",
      "\u001B[1;31mDatabaseError\u001B[0m                             Traceback (most recent call last)",
      "Input \u001B[1;32mIn [8]\u001B[0m, in \u001B[0;36m<cell line: 7>\u001B[1;34m()\u001B[0m\n\u001B[0;32m      1\u001B[0m sql \u001B[38;5;241m=\u001B[39m \u001B[38;5;124m\"\"\"\u001B[39m\n\u001B[0;32m      2\u001B[0m \u001B[38;5;124mSELECT title\u001B[39m\n\u001B[0;32m      3\u001B[0m \u001B[38;5;124mFROM films\u001B[39m\n\u001B[0;32m      4\u001B[0m \u001B[38;5;124mWHERE release_year > 1994\u001B[39m\n\u001B[0;32m      5\u001B[0m \u001B[38;5;124m    AND < 2000\u001B[39m\n\u001B[0;32m      6\u001B[0m \u001B[38;5;124m\"\"\"\u001B[39m\n\u001B[1;32m----> 7\u001B[0m \u001B[43mrun_statement\u001B[49m\u001B[43m(\u001B[49m\u001B[43msql\u001B[49m\u001B[43m)\u001B[49m\n",
      "Input \u001B[1;32mIn [3]\u001B[0m, in \u001B[0;36mrun_statement\u001B[1;34m(sql)\u001B[0m\n\u001B[0;32m     11\u001B[0m connection \u001B[38;5;241m=\u001B[39m cx_Oracle\u001B[38;5;241m.\u001B[39mconnect(user\u001B[38;5;241m=\u001B[39m\u001B[38;5;124m\"\u001B[39m\u001B[38;5;124mDATASETS_CHAN\u001B[39m\u001B[38;5;124m\"\u001B[39m, password\u001B[38;5;241m=\u001B[39m\u001B[38;5;124m\"\u001B[39m\u001B[38;5;124m123\u001B[39m\u001B[38;5;124m\"\u001B[39m, dsn\u001B[38;5;241m=\u001B[39m\u001B[38;5;124m\"\u001B[39m\u001B[38;5;124mlocalhost:1521/xe\u001B[39m\u001B[38;5;124m\"\u001B[39m)\n\u001B[0;32m     12\u001B[0m cursor \u001B[38;5;241m=\u001B[39m connection\u001B[38;5;241m.\u001B[39mcursor()\n\u001B[1;32m---> 13\u001B[0m \u001B[43mcursor\u001B[49m\u001B[38;5;241;43m.\u001B[39;49m\u001B[43mexecute\u001B[49m\u001B[43m(\u001B[49m\u001B[43msql\u001B[49m\u001B[43m)\u001B[49m\n\u001B[0;32m     14\u001B[0m display(pd\u001B[38;5;241m.\u001B[39mDataFrame(cursor))\n",
      "\u001B[1;31mDatabaseError\u001B[0m: ORA-00936: missing expression"
     ]
    }
   ],
   "source": [
    "sql = \"\"\"\n",
    "SELECT title\n",
    "FROM films\n",
    "WHERE release_year > 1994\n",
    "    AND < 2000\n",
    "\"\"\"\n",
    "run_statement(sql)"
   ],
   "metadata": {
    "collapsed": false
   }
  },
  {
   "cell_type": "markdown",
   "source": [
    "#### AND, OR\n",
    "* Filter films release in 1994 or 1995, and certified PG or R\n",
    "* Inclose individual clauses in parentheses"
   ],
   "metadata": {
    "collapsed": false
   }
  },
  {
   "cell_type": "code",
   "execution_count": 9,
   "outputs": [
    {
     "data": {
      "text/plain": "                                0\n0              3 Ninjas Kick Back\n1          A Low Down Dirty Shame\n2                  Baby's Day Out\n3           Beverly Hills Cop III\n4           Bullets Over Broadway\n..                            ...\n80                     To Die For\n81  Under Siege 2: Dark Territory\n82            Vampire in Brooklyn\n83                     Virtuosity\n84       Welcome to the Dollhouse\n\n[85 rows x 1 columns]",
      "text/html": "<div>\n<style scoped>\n    .dataframe tbody tr th:only-of-type {\n        vertical-align: middle;\n    }\n\n    .dataframe tbody tr th {\n        vertical-align: top;\n    }\n\n    .dataframe thead th {\n        text-align: right;\n    }\n</style>\n<table border=\"1\" class=\"dataframe\">\n  <thead>\n    <tr style=\"text-align: right;\">\n      <th></th>\n      <th>0</th>\n    </tr>\n  </thead>\n  <tbody>\n    <tr>\n      <th>0</th>\n      <td>3 Ninjas Kick Back</td>\n    </tr>\n    <tr>\n      <th>1</th>\n      <td>A Low Down Dirty Shame</td>\n    </tr>\n    <tr>\n      <th>2</th>\n      <td>Baby's Day Out</td>\n    </tr>\n    <tr>\n      <th>3</th>\n      <td>Beverly Hills Cop III</td>\n    </tr>\n    <tr>\n      <th>4</th>\n      <td>Bullets Over Broadway</td>\n    </tr>\n    <tr>\n      <th>...</th>\n      <td>...</td>\n    </tr>\n    <tr>\n      <th>80</th>\n      <td>To Die For</td>\n    </tr>\n    <tr>\n      <th>81</th>\n      <td>Under Siege 2: Dark Territory</td>\n    </tr>\n    <tr>\n      <th>82</th>\n      <td>Vampire in Brooklyn</td>\n    </tr>\n    <tr>\n      <th>83</th>\n      <td>Virtuosity</td>\n    </tr>\n    <tr>\n      <th>84</th>\n      <td>Welcome to the Dollhouse</td>\n    </tr>\n  </tbody>\n</table>\n<p>85 rows × 1 columns</p>\n</div>"
     },
     "metadata": {},
     "output_type": "display_data"
    }
   ],
   "source": [
    "sql = \"\"\"\n",
    "SELECT title\n",
    "FROM films\n",
    "WHERE (release_year = 1994 OR release_year = 1995)\n",
    "    AND (certification = 'PG' OR certification = 'R')\n",
    "\"\"\"\n",
    "run_statement(sql)"
   ],
   "metadata": {
    "collapsed": false
   }
  },
  {
   "cell_type": "markdown",
   "source": [
    "#### BETWEEN, AND"
   ],
   "metadata": {
    "collapsed": false
   }
  },
  {
   "cell_type": "code",
   "execution_count": 10,
   "outputs": [
    {
     "data": {
      "text/plain": "                              0\n0            3 Ninjas Kick Back\n1        A Low Down Dirty Shame\n2    Ace Ventura: Pet Detective\n3                Baby's Day Out\n4         Beverly Hills Cop III\n..                          ...\n809                     Whipped\n810                Woman on Top\n811                 Wonder Boys\n812                       X-Men\n813         You Can Count on Me\n\n[814 rows x 1 columns]",
      "text/html": "<div>\n<style scoped>\n    .dataframe tbody tr th:only-of-type {\n        vertical-align: middle;\n    }\n\n    .dataframe tbody tr th {\n        vertical-align: top;\n    }\n\n    .dataframe thead th {\n        text-align: right;\n    }\n</style>\n<table border=\"1\" class=\"dataframe\">\n  <thead>\n    <tr style=\"text-align: right;\">\n      <th></th>\n      <th>0</th>\n    </tr>\n  </thead>\n  <tbody>\n    <tr>\n      <th>0</th>\n      <td>3 Ninjas Kick Back</td>\n    </tr>\n    <tr>\n      <th>1</th>\n      <td>A Low Down Dirty Shame</td>\n    </tr>\n    <tr>\n      <th>2</th>\n      <td>Ace Ventura: Pet Detective</td>\n    </tr>\n    <tr>\n      <th>3</th>\n      <td>Baby's Day Out</td>\n    </tr>\n    <tr>\n      <th>4</th>\n      <td>Beverly Hills Cop III</td>\n    </tr>\n    <tr>\n      <th>...</th>\n      <td>...</td>\n    </tr>\n    <tr>\n      <th>809</th>\n      <td>Whipped</td>\n    </tr>\n    <tr>\n      <th>810</th>\n      <td>Woman on Top</td>\n    </tr>\n    <tr>\n      <th>811</th>\n      <td>Wonder Boys</td>\n    </tr>\n    <tr>\n      <th>812</th>\n      <td>X-Men</td>\n    </tr>\n    <tr>\n      <th>813</th>\n      <td>You Can Count on Me</td>\n    </tr>\n  </tbody>\n</table>\n<p>814 rows × 1 columns</p>\n</div>"
     },
     "metadata": {},
     "output_type": "display_data"
    }
   ],
   "source": [
    "sql = \"\"\"\n",
    "SELECT title\n",
    "FROM films\n",
    "WHERE release_year >= 1994\n",
    "    AND release_year <= 2000\n",
    "\"\"\"\n",
    "run_statement(sql)"
   ],
   "metadata": {
    "collapsed": false
   }
  },
  {
   "cell_type": "markdown",
   "source": [
    "* `>=`, `<=` IS EQUAL TO BETWEEN _ AND _ OR _"
   ],
   "metadata": {
    "collapsed": false
   }
  },
  {
   "cell_type": "code",
   "execution_count": 11,
   "outputs": [
    {
     "data": {
      "text/plain": "                              0\n0            3 Ninjas Kick Back\n1        A Low Down Dirty Shame\n2    Ace Ventura: Pet Detective\n3                Baby's Day Out\n4         Beverly Hills Cop III\n..                          ...\n809                     Whipped\n810                Woman on Top\n811                 Wonder Boys\n812                       X-Men\n813         You Can Count on Me\n\n[814 rows x 1 columns]",
      "text/html": "<div>\n<style scoped>\n    .dataframe tbody tr th:only-of-type {\n        vertical-align: middle;\n    }\n\n    .dataframe tbody tr th {\n        vertical-align: top;\n    }\n\n    .dataframe thead th {\n        text-align: right;\n    }\n</style>\n<table border=\"1\" class=\"dataframe\">\n  <thead>\n    <tr style=\"text-align: right;\">\n      <th></th>\n      <th>0</th>\n    </tr>\n  </thead>\n  <tbody>\n    <tr>\n      <th>0</th>\n      <td>3 Ninjas Kick Back</td>\n    </tr>\n    <tr>\n      <th>1</th>\n      <td>A Low Down Dirty Shame</td>\n    </tr>\n    <tr>\n      <th>2</th>\n      <td>Ace Ventura: Pet Detective</td>\n    </tr>\n    <tr>\n      <th>3</th>\n      <td>Baby's Day Out</td>\n    </tr>\n    <tr>\n      <th>4</th>\n      <td>Beverly Hills Cop III</td>\n    </tr>\n    <tr>\n      <th>...</th>\n      <td>...</td>\n    </tr>\n    <tr>\n      <th>809</th>\n      <td>Whipped</td>\n    </tr>\n    <tr>\n      <th>810</th>\n      <td>Woman on Top</td>\n    </tr>\n    <tr>\n      <th>811</th>\n      <td>Wonder Boys</td>\n    </tr>\n    <tr>\n      <th>812</th>\n      <td>X-Men</td>\n    </tr>\n    <tr>\n      <th>813</th>\n      <td>You Can Count on Me</td>\n    </tr>\n  </tbody>\n</table>\n<p>814 rows × 1 columns</p>\n</div>"
     },
     "metadata": {},
     "output_type": "display_data"
    }
   ],
   "source": [
    "sql = \"\"\"\n",
    "SELECT title\n",
    "FROM films\n",
    "WHERE release_year\n",
    "    BETWEEN 1994 AND 2000\n",
    "\"\"\"\n",
    "run_statement(sql)"
   ],
   "metadata": {
    "collapsed": false
   }
  },
  {
   "cell_type": "markdown",
   "source": [
    "#### BETWEEN, AND, OR"
   ],
   "metadata": {
    "collapsed": false
   }
  },
  {
   "cell_type": "code",
   "execution_count": 12,
   "outputs": [
    {
     "data": {
      "text/plain": "                                0\n0     Four Weddings and a Funeral\n1             The Hudsucker Proxy\n2                Dead Man Walking\n3                       GoldenEye\n4                     Richard III\n..                            ...\n59                         Snatch\n60                      The Claim\n61                      The Claim\n62             The House of Mirth\n63  Thomas and the Magic Railroad\n\n[64 rows x 1 columns]",
      "text/html": "<div>\n<style scoped>\n    .dataframe tbody tr th:only-of-type {\n        vertical-align: middle;\n    }\n\n    .dataframe tbody tr th {\n        vertical-align: top;\n    }\n\n    .dataframe thead th {\n        text-align: right;\n    }\n</style>\n<table border=\"1\" class=\"dataframe\">\n  <thead>\n    <tr style=\"text-align: right;\">\n      <th></th>\n      <th>0</th>\n    </tr>\n  </thead>\n  <tbody>\n    <tr>\n      <th>0</th>\n      <td>Four Weddings and a Funeral</td>\n    </tr>\n    <tr>\n      <th>1</th>\n      <td>The Hudsucker Proxy</td>\n    </tr>\n    <tr>\n      <th>2</th>\n      <td>Dead Man Walking</td>\n    </tr>\n    <tr>\n      <th>3</th>\n      <td>GoldenEye</td>\n    </tr>\n    <tr>\n      <th>4</th>\n      <td>Richard III</td>\n    </tr>\n    <tr>\n      <th>...</th>\n      <td>...</td>\n    </tr>\n    <tr>\n      <th>59</th>\n      <td>Snatch</td>\n    </tr>\n    <tr>\n      <th>60</th>\n      <td>The Claim</td>\n    </tr>\n    <tr>\n      <th>61</th>\n      <td>The Claim</td>\n    </tr>\n    <tr>\n      <th>62</th>\n      <td>The House of Mirth</td>\n    </tr>\n    <tr>\n      <th>63</th>\n      <td>Thomas and the Magic Railroad</td>\n    </tr>\n  </tbody>\n</table>\n<p>64 rows × 1 columns</p>\n</div>"
     },
     "metadata": {},
     "output_type": "display_data"
    }
   ],
   "source": [
    "sql = \"\"\"\n",
    "SELECT title\n",
    "FROM films\n",
    "WHERE release_year\n",
    "BETWEEN 1994 AND 2000 AND country = 'UK'\n",
    "\"\"\"\n",
    "run_statement(sql)"
   ],
   "metadata": {
    "collapsed": false
   }
  },
  {
   "cell_type": "code",
   "execution_count": null,
   "outputs": [],
   "source": [],
   "metadata": {
    "collapsed": false
   }
  }
 ],
 "metadata": {
  "kernelspec": {
   "display_name": "Python 3",
   "language": "python",
   "name": "python3"
  },
  "language_info": {
   "codemirror_mode": {
    "name": "ipython",
    "version": 2
   },
   "file_extension": ".py",
   "mimetype": "text/x-python",
   "name": "python",
   "nbconvert_exporter": "python",
   "pygments_lexer": "ipython2",
   "version": "2.7.6"
  }
 },
 "nbformat": 4,
 "nbformat_minor": 0
}
