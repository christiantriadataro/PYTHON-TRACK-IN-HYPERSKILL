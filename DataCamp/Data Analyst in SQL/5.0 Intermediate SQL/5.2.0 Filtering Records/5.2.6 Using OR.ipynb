{
 "cells": [
  {
   "cell_type": "markdown",
   "source": [
    "# Intermediate SQL"
   ],
   "metadata": {
    "collapsed": false
   }
  },
  {
   "cell_type": "markdown",
   "source": [
    "## Filtering Records"
   ],
   "metadata": {
    "collapsed": false
   }
  },
  {
   "cell_type": "markdown",
   "source": [
    "#### Using OR"
   ],
   "metadata": {
    "collapsed": false
   }
  },
  {
   "cell_type": "markdown",
   "source": [
    "This time you'll write a query to get the `title` and `release_year` of films released in 1990 or 1999, which were in English or Spanish and took in more than $2,000,000 `gross`.\n",
    "\n",
    "It looks like a lot, but you can build the query up one step at a time to get comfortable with the underlying concept in each step. Let's go!"
   ],
   "metadata": {
    "collapsed": false
   }
  },
  {
   "cell_type": "markdown",
   "source": [],
   "metadata": {
    "collapsed": false
   }
  },
  {
   "cell_type": "code",
   "execution_count": 1,
   "outputs": [],
   "source": [
    "import cx_Oracle\n",
    "import pandas as pd\n",
    "\n",
    "def print_all():\n",
    "    connection = cx_Oracle.connect(user=\"DATASETS_CHAN\", password=\"123\", dsn=\"localhost:1521/xe\")\n",
    "    cursor = connection.cursor()\n",
    "    cursor.execute(\"SELECT * FROM FILMS\")\n",
    "    return pd.DataFrame(cursor)\n",
    "\n",
    "def run_statement(sql):\n",
    "    connection = cx_Oracle.connect(user=\"DATASETS_CHAN\", password=\"123\", dsn=\"localhost:1521/xe\")\n",
    "    cursor = connection.cursor()\n",
    "    cursor.execute(sql)\n",
    "    display(pd.DataFrame(cursor))"
   ],
   "metadata": {
    "collapsed": false
   }
  },
  {
   "cell_type": "markdown",
   "source": [
    "#### Instructions\n",
    "* Select the `title` and `release_year` for films released in 1990 or 1999 using only `WHERE` and `OR`."
   ],
   "metadata": {
    "collapsed": false
   }
  },
  {
   "cell_type": "code",
   "execution_count": 3,
   "outputs": [
    {
     "data": {
      "text/plain": "                                 0     1\n0                    Arachnophobia  1990\n1      Back to the Future Part III  1990\n2                   Child's Play 2  1990\n3               Dances with Wolves  1990\n4                  Days of Thunder  1990\n..                             ...   ...\n193               Twin Falls Idaho  1999\n194  Universal Soldier: The Return  1999\n195                  Varsity Blues  1999\n196                 Wild Wild West  1999\n197                 Wing Commander  1999\n\n[198 rows x 2 columns]",
      "text/html": "<div>\n<style scoped>\n    .dataframe tbody tr th:only-of-type {\n        vertical-align: middle;\n    }\n\n    .dataframe tbody tr th {\n        vertical-align: top;\n    }\n\n    .dataframe thead th {\n        text-align: right;\n    }\n</style>\n<table border=\"1\" class=\"dataframe\">\n  <thead>\n    <tr style=\"text-align: right;\">\n      <th></th>\n      <th>0</th>\n      <th>1</th>\n    </tr>\n  </thead>\n  <tbody>\n    <tr>\n      <th>0</th>\n      <td>Arachnophobia</td>\n      <td>1990</td>\n    </tr>\n    <tr>\n      <th>1</th>\n      <td>Back to the Future Part III</td>\n      <td>1990</td>\n    </tr>\n    <tr>\n      <th>2</th>\n      <td>Child's Play 2</td>\n      <td>1990</td>\n    </tr>\n    <tr>\n      <th>3</th>\n      <td>Dances with Wolves</td>\n      <td>1990</td>\n    </tr>\n    <tr>\n      <th>4</th>\n      <td>Days of Thunder</td>\n      <td>1990</td>\n    </tr>\n    <tr>\n      <th>...</th>\n      <td>...</td>\n      <td>...</td>\n    </tr>\n    <tr>\n      <th>193</th>\n      <td>Twin Falls Idaho</td>\n      <td>1999</td>\n    </tr>\n    <tr>\n      <th>194</th>\n      <td>Universal Soldier: The Return</td>\n      <td>1999</td>\n    </tr>\n    <tr>\n      <th>195</th>\n      <td>Varsity Blues</td>\n      <td>1999</td>\n    </tr>\n    <tr>\n      <th>196</th>\n      <td>Wild Wild West</td>\n      <td>1999</td>\n    </tr>\n    <tr>\n      <th>197</th>\n      <td>Wing Commander</td>\n      <td>1999</td>\n    </tr>\n  </tbody>\n</table>\n<p>198 rows × 2 columns</p>\n</div>"
     },
     "metadata": {},
     "output_type": "display_data"
    }
   ],
   "source": [
    "# -- Find the title and year of films from the 1990 or 1999\n",
    "sql = \"\"\"\n",
    "SELECT title, release_year\n",
    "FROM films\n",
    "WHERE release_year = 1990\n",
    "    OR release_year = 1999\n",
    "\"\"\"\n",
    "run_statement(sql)"
   ],
   "metadata": {
    "collapsed": false
   }
  },
  {
   "cell_type": "markdown",
   "source": [
    "* Filter the records to only include English or Spanish-language films."
   ],
   "metadata": {
    "collapsed": false
   }
  },
  {
   "cell_type": "code",
   "execution_count": 5,
   "outputs": [
    {
     "data": {
      "text/plain": "                                 0     1\n0                    Arachnophobia  1990\n1      Back to the Future Part III  1990\n2                   Child's Play 2  1990\n3               Dances with Wolves  1990\n4                  Days of Thunder  1990\n..                             ...   ...\n191               Twin Falls Idaho  1999\n192  Universal Soldier: The Return  1999\n193                  Varsity Blues  1999\n194                 Wild Wild West  1999\n195                 Wing Commander  1999\n\n[196 rows x 2 columns]",
      "text/html": "<div>\n<style scoped>\n    .dataframe tbody tr th:only-of-type {\n        vertical-align: middle;\n    }\n\n    .dataframe tbody tr th {\n        vertical-align: top;\n    }\n\n    .dataframe thead th {\n        text-align: right;\n    }\n</style>\n<table border=\"1\" class=\"dataframe\">\n  <thead>\n    <tr style=\"text-align: right;\">\n      <th></th>\n      <th>0</th>\n      <th>1</th>\n    </tr>\n  </thead>\n  <tbody>\n    <tr>\n      <th>0</th>\n      <td>Arachnophobia</td>\n      <td>1990</td>\n    </tr>\n    <tr>\n      <th>1</th>\n      <td>Back to the Future Part III</td>\n      <td>1990</td>\n    </tr>\n    <tr>\n      <th>2</th>\n      <td>Child's Play 2</td>\n      <td>1990</td>\n    </tr>\n    <tr>\n      <th>3</th>\n      <td>Dances with Wolves</td>\n      <td>1990</td>\n    </tr>\n    <tr>\n      <th>4</th>\n      <td>Days of Thunder</td>\n      <td>1990</td>\n    </tr>\n    <tr>\n      <th>...</th>\n      <td>...</td>\n      <td>...</td>\n    </tr>\n    <tr>\n      <th>191</th>\n      <td>Twin Falls Idaho</td>\n      <td>1999</td>\n    </tr>\n    <tr>\n      <th>192</th>\n      <td>Universal Soldier: The Return</td>\n      <td>1999</td>\n    </tr>\n    <tr>\n      <th>193</th>\n      <td>Varsity Blues</td>\n      <td>1999</td>\n    </tr>\n    <tr>\n      <th>194</th>\n      <td>Wild Wild West</td>\n      <td>1999</td>\n    </tr>\n    <tr>\n      <th>195</th>\n      <td>Wing Commander</td>\n      <td>1999</td>\n    </tr>\n  </tbody>\n</table>\n<p>196 rows × 2 columns</p>\n</div>"
     },
     "metadata": {},
     "output_type": "display_data"
    }
   ],
   "source": [
    "# -- Update the query to see all German-language films released after 2000\n",
    "sql = \"\"\"\n",
    "SELECT title, release_year\n",
    "FROM films\n",
    "WHERE (release_year = 1990 OR release_year = 1999)\n",
    "-- Add a filter to see only English or Spanish-language films\n",
    "    AND (language = 'English' OR language = 'Spanish')\n",
    "\"\"\"\n",
    "run_statement(sql)"
   ],
   "metadata": {
    "collapsed": false
   }
  },
  {
   "cell_type": "markdown",
   "source": [
    "* Finally, restrict the query to only return films worth more than $2,000,000 `gross`."
   ],
   "metadata": {
    "collapsed": false
   }
  },
  {
   "cell_type": "code",
   "execution_count": 7,
   "outputs": [
    {
     "data": {
      "text/plain": "                                 0     1\n0                    Arachnophobia  1990\n1      Back to the Future Part III  1990\n2                   Child's Play 2  1990\n3               Dances with Wolves  1990\n4                  Days of Thunder  1990\n..                             ...   ...\n163                       Trippin'  1999\n164  Universal Soldier: The Return  1999\n165                  Varsity Blues  1999\n166                 Wild Wild West  1999\n167                 Wing Commander  1999\n\n[168 rows x 2 columns]",
      "text/html": "<div>\n<style scoped>\n    .dataframe tbody tr th:only-of-type {\n        vertical-align: middle;\n    }\n\n    .dataframe tbody tr th {\n        vertical-align: top;\n    }\n\n    .dataframe thead th {\n        text-align: right;\n    }\n</style>\n<table border=\"1\" class=\"dataframe\">\n  <thead>\n    <tr style=\"text-align: right;\">\n      <th></th>\n      <th>0</th>\n      <th>1</th>\n    </tr>\n  </thead>\n  <tbody>\n    <tr>\n      <th>0</th>\n      <td>Arachnophobia</td>\n      <td>1990</td>\n    </tr>\n    <tr>\n      <th>1</th>\n      <td>Back to the Future Part III</td>\n      <td>1990</td>\n    </tr>\n    <tr>\n      <th>2</th>\n      <td>Child's Play 2</td>\n      <td>1990</td>\n    </tr>\n    <tr>\n      <th>3</th>\n      <td>Dances with Wolves</td>\n      <td>1990</td>\n    </tr>\n    <tr>\n      <th>4</th>\n      <td>Days of Thunder</td>\n      <td>1990</td>\n    </tr>\n    <tr>\n      <th>...</th>\n      <td>...</td>\n      <td>...</td>\n    </tr>\n    <tr>\n      <th>163</th>\n      <td>Trippin'</td>\n      <td>1999</td>\n    </tr>\n    <tr>\n      <th>164</th>\n      <td>Universal Soldier: The Return</td>\n      <td>1999</td>\n    </tr>\n    <tr>\n      <th>165</th>\n      <td>Varsity Blues</td>\n      <td>1999</td>\n    </tr>\n    <tr>\n      <th>166</th>\n      <td>Wild Wild West</td>\n      <td>1999</td>\n    </tr>\n    <tr>\n      <th>167</th>\n      <td>Wing Commander</td>\n      <td>1999</td>\n    </tr>\n  </tbody>\n</table>\n<p>168 rows × 2 columns</p>\n</div>"
     },
     "metadata": {},
     "output_type": "display_data"
    }
   ],
   "source": [
    "# -- Select all records for German-language films released after 2000 and before 2010\n",
    "sql = \"\"\"\n",
    "SELECT title, release_year\n",
    "FROM films\n",
    "WHERE (release_year = 1990 OR release_year = 1999)\n",
    "\tAND (language = 'English' OR language = 'Spanish')\n",
    "-- Filter films with more than $2,000,000 gross\n",
    "\tAND gross > 2000000\n",
    "\"\"\"\n",
    "run_statement(sql)"
   ],
   "metadata": {
    "collapsed": false
   }
  },
  {
   "cell_type": "code",
   "execution_count": null,
   "outputs": [],
   "source": [],
   "metadata": {
    "collapsed": false
   }
  }
 ],
 "metadata": {
  "kernelspec": {
   "display_name": "Python 3",
   "language": "python",
   "name": "python3"
  },
  "language_info": {
   "codemirror_mode": {
    "name": "ipython",
    "version": 2
   },
   "file_extension": ".py",
   "mimetype": "text/x-python",
   "name": "python",
   "nbconvert_exporter": "python",
   "pygments_lexer": "ipython2",
   "version": "2.7.6"
  }
 },
 "nbformat": 4,
 "nbformat_minor": 0
}
