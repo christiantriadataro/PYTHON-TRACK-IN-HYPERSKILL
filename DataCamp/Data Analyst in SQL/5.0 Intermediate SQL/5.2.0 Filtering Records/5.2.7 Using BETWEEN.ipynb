{
 "cells": [
  {
   "cell_type": "markdown",
   "source": [
    "# Intermediate SQL"
   ],
   "metadata": {
    "collapsed": false
   }
  },
  {
   "cell_type": "markdown",
   "source": [
    "## Filtering Records"
   ],
   "metadata": {
    "collapsed": false
   }
  },
  {
   "cell_type": "markdown",
   "source": [
    "#### Using BETWEEN"
   ],
   "metadata": {
    "collapsed": false
   }
  },
  {
   "cell_type": "markdown",
   "source": [
    "This time you'll write a query to get the `title` and `release_year` of films released in 1990 or 1999, which were in English or Spanish and took in more than $2,000,000 `gross`.\n",
    "\n",
    "It looks like a lot, but you can build the query up one step at a time to get comfortable with the underlying concept in each step. Let's go!"
   ],
   "metadata": {
    "collapsed": false
   }
  },
  {
   "cell_type": "markdown",
   "source": [],
   "metadata": {
    "collapsed": false
   }
  },
  {
   "cell_type": "code",
   "execution_count": 1,
   "outputs": [],
   "source": [
    "import cx_Oracle\n",
    "import pandas as pd\n",
    "\n",
    "def print_all():\n",
    "    connection = cx_Oracle.connect(user=\"DATASETS_CHAN\", password=\"123\", dsn=\"localhost:1521/xe\")\n",
    "    cursor = connection.cursor()\n",
    "    cursor.execute(\"SELECT * FROM FILMS\")\n",
    "    return pd.DataFrame(cursor)\n",
    "\n",
    "def run_statement(sql):\n",
    "    connection = cx_Oracle.connect(user=\"DATASETS_CHAN\", password=\"123\", dsn=\"localhost:1521/xe\")\n",
    "    cursor = connection.cursor()\n",
    "    cursor.execute(sql)\n",
    "    display(pd.DataFrame(cursor))"
   ],
   "metadata": {
    "collapsed": false
   }
  },
  {
   "cell_type": "markdown",
   "source": [
    "#### Instructions\n",
    "* Select the `title` and `release_year` of all films released between 1990 and 2000 (inclusive) using `BETWEEN`"
   ],
   "metadata": {
    "collapsed": false
   }
  },
  {
   "cell_type": "code",
   "execution_count": 2,
   "outputs": [
    {
     "data": {
      "text/plain": "                               0     1\n0                  Arachnophobia  1990\n1    Back to the Future Part III  1990\n2                 Child's Play 2  1990\n3             Dances with Wolves  1990\n4                Days of Thunder  1990\n..                           ...   ...\n952                      Whipped  2000\n953                 Woman on Top  2000\n954                  Wonder Boys  2000\n955                        X-Men  2000\n956          You Can Count on Me  2000\n\n[957 rows x 2 columns]",
      "text/html": "<div>\n<style scoped>\n    .dataframe tbody tr th:only-of-type {\n        vertical-align: middle;\n    }\n\n    .dataframe tbody tr th {\n        vertical-align: top;\n    }\n\n    .dataframe thead th {\n        text-align: right;\n    }\n</style>\n<table border=\"1\" class=\"dataframe\">\n  <thead>\n    <tr style=\"text-align: right;\">\n      <th></th>\n      <th>0</th>\n      <th>1</th>\n    </tr>\n  </thead>\n  <tbody>\n    <tr>\n      <th>0</th>\n      <td>Arachnophobia</td>\n      <td>1990</td>\n    </tr>\n    <tr>\n      <th>1</th>\n      <td>Back to the Future Part III</td>\n      <td>1990</td>\n    </tr>\n    <tr>\n      <th>2</th>\n      <td>Child's Play 2</td>\n      <td>1990</td>\n    </tr>\n    <tr>\n      <th>3</th>\n      <td>Dances with Wolves</td>\n      <td>1990</td>\n    </tr>\n    <tr>\n      <th>4</th>\n      <td>Days of Thunder</td>\n      <td>1990</td>\n    </tr>\n    <tr>\n      <th>...</th>\n      <td>...</td>\n      <td>...</td>\n    </tr>\n    <tr>\n      <th>952</th>\n      <td>Whipped</td>\n      <td>2000</td>\n    </tr>\n    <tr>\n      <th>953</th>\n      <td>Woman on Top</td>\n      <td>2000</td>\n    </tr>\n    <tr>\n      <th>954</th>\n      <td>Wonder Boys</td>\n      <td>2000</td>\n    </tr>\n    <tr>\n      <th>955</th>\n      <td>X-Men</td>\n      <td>2000</td>\n    </tr>\n    <tr>\n      <th>956</th>\n      <td>You Can Count on Me</td>\n      <td>2000</td>\n    </tr>\n  </tbody>\n</table>\n<p>957 rows × 2 columns</p>\n</div>"
     },
     "metadata": {},
     "output_type": "display_data"
    }
   ],
   "source": [
    "# -- Find the title and year of films from the 1990 or 1999\n",
    "sql = \"\"\"\n",
    "SELECT title, release_year\n",
    "FROM films\n",
    "WHERE release_year\n",
    "    BETWEEN 1990 AND 2000\n",
    "\"\"\"\n",
    "run_statement(sql)"
   ],
   "metadata": {
    "collapsed": false
   }
  },
  {
   "cell_type": "markdown",
   "source": [
    "* Build on your previous query to select only films with a `budget` over $100 million."
   ],
   "metadata": {
    "collapsed": false
   }
  },
  {
   "cell_type": "code",
   "execution_count": 4,
   "outputs": [
    {
     "data": {
      "text/plain": "                                            0     1\n0                  Terminator 2: Judgment Day  1991\n1                                   True Lies  1994\n2                                  Waterworld  1995\n3                              Batman & Robin  1997\n4                                Dante's Peak  1997\n5                           Princess Mononoke  1997\n6                     Speed 2: Cruise Control  1997\n7                           Starship Troopers  1997\n8                                     Titanic  1997\n9                         Tomorrow Never Dies  1997\n10                               A Bug's Life  1998\n11                                       Antz  1998\n12                                 Armageddon  1998\n13    Les couloirs du temps: Les visiteurs II  1998\n14                            Lethal Weapon 4  1998\n15                                      Tango  1998\n16                              Godzilla 2000  1999\n17  Star Wars: Episode I - The Phantom Menace  1999\n18                              Stuart Little  1999\n19    The Messenger: The Story of Joan of Arc  1999\n20                    The World Is Not Enough  1999\n21                             Wild Wild West  1999\n22                                   Dinosaur  2000\n23                                  Gladiator  2000\n24             How the Grinch Stole Christmas  2000\n25                     Mission: Impossible II  2000\n26                                The Patriot  2000\n27                          The Perfect Storm  2000",
      "text/html": "<div>\n<style scoped>\n    .dataframe tbody tr th:only-of-type {\n        vertical-align: middle;\n    }\n\n    .dataframe tbody tr th {\n        vertical-align: top;\n    }\n\n    .dataframe thead th {\n        text-align: right;\n    }\n</style>\n<table border=\"1\" class=\"dataframe\">\n  <thead>\n    <tr style=\"text-align: right;\">\n      <th></th>\n      <th>0</th>\n      <th>1</th>\n    </tr>\n  </thead>\n  <tbody>\n    <tr>\n      <th>0</th>\n      <td>Terminator 2: Judgment Day</td>\n      <td>1991</td>\n    </tr>\n    <tr>\n      <th>1</th>\n      <td>True Lies</td>\n      <td>1994</td>\n    </tr>\n    <tr>\n      <th>2</th>\n      <td>Waterworld</td>\n      <td>1995</td>\n    </tr>\n    <tr>\n      <th>3</th>\n      <td>Batman &amp; Robin</td>\n      <td>1997</td>\n    </tr>\n    <tr>\n      <th>4</th>\n      <td>Dante's Peak</td>\n      <td>1997</td>\n    </tr>\n    <tr>\n      <th>5</th>\n      <td>Princess Mononoke</td>\n      <td>1997</td>\n    </tr>\n    <tr>\n      <th>6</th>\n      <td>Speed 2: Cruise Control</td>\n      <td>1997</td>\n    </tr>\n    <tr>\n      <th>7</th>\n      <td>Starship Troopers</td>\n      <td>1997</td>\n    </tr>\n    <tr>\n      <th>8</th>\n      <td>Titanic</td>\n      <td>1997</td>\n    </tr>\n    <tr>\n      <th>9</th>\n      <td>Tomorrow Never Dies</td>\n      <td>1997</td>\n    </tr>\n    <tr>\n      <th>10</th>\n      <td>A Bug's Life</td>\n      <td>1998</td>\n    </tr>\n    <tr>\n      <th>11</th>\n      <td>Antz</td>\n      <td>1998</td>\n    </tr>\n    <tr>\n      <th>12</th>\n      <td>Armageddon</td>\n      <td>1998</td>\n    </tr>\n    <tr>\n      <th>13</th>\n      <td>Les couloirs du temps: Les visiteurs II</td>\n      <td>1998</td>\n    </tr>\n    <tr>\n      <th>14</th>\n      <td>Lethal Weapon 4</td>\n      <td>1998</td>\n    </tr>\n    <tr>\n      <th>15</th>\n      <td>Tango</td>\n      <td>1998</td>\n    </tr>\n    <tr>\n      <th>16</th>\n      <td>Godzilla 2000</td>\n      <td>1999</td>\n    </tr>\n    <tr>\n      <th>17</th>\n      <td>Star Wars: Episode I - The Phantom Menace</td>\n      <td>1999</td>\n    </tr>\n    <tr>\n      <th>18</th>\n      <td>Stuart Little</td>\n      <td>1999</td>\n    </tr>\n    <tr>\n      <th>19</th>\n      <td>The Messenger: The Story of Joan of Arc</td>\n      <td>1999</td>\n    </tr>\n    <tr>\n      <th>20</th>\n      <td>The World Is Not Enough</td>\n      <td>1999</td>\n    </tr>\n    <tr>\n      <th>21</th>\n      <td>Wild Wild West</td>\n      <td>1999</td>\n    </tr>\n    <tr>\n      <th>22</th>\n      <td>Dinosaur</td>\n      <td>2000</td>\n    </tr>\n    <tr>\n      <th>23</th>\n      <td>Gladiator</td>\n      <td>2000</td>\n    </tr>\n    <tr>\n      <th>24</th>\n      <td>How the Grinch Stole Christmas</td>\n      <td>2000</td>\n    </tr>\n    <tr>\n      <th>25</th>\n      <td>Mission: Impossible II</td>\n      <td>2000</td>\n    </tr>\n    <tr>\n      <th>26</th>\n      <td>The Patriot</td>\n      <td>2000</td>\n    </tr>\n    <tr>\n      <th>27</th>\n      <td>The Perfect Storm</td>\n      <td>2000</td>\n    </tr>\n  </tbody>\n</table>\n</div>"
     },
     "metadata": {},
     "output_type": "display_data"
    }
   ],
   "source": [
    "# -- Update the query to see all German-language films released after 2000\n",
    "sql = \"\"\"\n",
    "SELECT title, release_year\n",
    "FROM films\n",
    "WHERE release_year\n",
    "    BETWEEN 1990 AND 2000\n",
    "-- Narrow down your query to films with budgets > $100 million\n",
    "    AND budget > 100000000\n",
    "\"\"\"\n",
    "run_statement(sql)"
   ],
   "metadata": {
    "collapsed": false
   }
  },
  {
   "cell_type": "markdown",
   "source": [
    "* Now, restrict the query to only return Spanish-language films."
   ],
   "metadata": {
    "collapsed": false
   }
  },
  {
   "cell_type": "code",
   "execution_count": 7,
   "outputs": [
    {
     "data": {
      "text/plain": "       0     1\n0  Tango  1998",
      "text/html": "<div>\n<style scoped>\n    .dataframe tbody tr th:only-of-type {\n        vertical-align: middle;\n    }\n\n    .dataframe tbody tr th {\n        vertical-align: top;\n    }\n\n    .dataframe thead th {\n        text-align: right;\n    }\n</style>\n<table border=\"1\" class=\"dataframe\">\n  <thead>\n    <tr style=\"text-align: right;\">\n      <th></th>\n      <th>0</th>\n      <th>1</th>\n    </tr>\n  </thead>\n  <tbody>\n    <tr>\n      <th>0</th>\n      <td>Tango</td>\n      <td>1998</td>\n    </tr>\n  </tbody>\n</table>\n</div>"
     },
     "metadata": {},
     "output_type": "display_data"
    }
   ],
   "source": [
    "# -- Select all records for German-language films released after 2000 and before 2010\n",
    "sql = \"\"\"\n",
    "SELECT title, release_year\n",
    "FROM films\n",
    "WHERE release_year BETWEEN 1990 AND 2000\n",
    "    AND budget > 100000000\n",
    "-- Restrict the query to only Spanish-language films\n",
    "    AND language = 'Spanish'\n",
    "\"\"\"\n",
    "run_statement(sql)"
   ],
   "metadata": {
    "collapsed": false
   }
  },
  {
   "cell_type": "markdown",
   "source": [
    "* Finally, amend the query to include all Spanish-language `or` French-language films with the same criteria."
   ],
   "metadata": {
    "collapsed": false
   }
  },
  {
   "cell_type": "code",
   "execution_count": 9,
   "outputs": [
    {
     "data": {
      "text/plain": "                                         0     1\n0  Les couloirs du temps: Les visiteurs II  1998\n1                                    Tango  1998",
      "text/html": "<div>\n<style scoped>\n    .dataframe tbody tr th:only-of-type {\n        vertical-align: middle;\n    }\n\n    .dataframe tbody tr th {\n        vertical-align: top;\n    }\n\n    .dataframe thead th {\n        text-align: right;\n    }\n</style>\n<table border=\"1\" class=\"dataframe\">\n  <thead>\n    <tr style=\"text-align: right;\">\n      <th></th>\n      <th>0</th>\n      <th>1</th>\n    </tr>\n  </thead>\n  <tbody>\n    <tr>\n      <th>0</th>\n      <td>Les couloirs du temps: Les visiteurs II</td>\n      <td>1998</td>\n    </tr>\n    <tr>\n      <th>1</th>\n      <td>Tango</td>\n      <td>1998</td>\n    </tr>\n  </tbody>\n</table>\n</div>"
     },
     "metadata": {},
     "output_type": "display_data"
    }
   ],
   "source": [
    "sql = \"\"\"\n",
    "SELECT title, release_year\n",
    "FROM films\n",
    "WHERE release_year BETWEEN 1990 AND 2000\n",
    "\tAND budget > 100000000\n",
    "-- Amend the query to include Spanish or French-language films\n",
    "\tAND (language = 'Spanish' OR language = 'French')\n",
    "\"\"\"\n",
    "run_statement(sql)"
   ],
   "metadata": {
    "collapsed": false
   }
  },
  {
   "cell_type": "code",
   "execution_count": null,
   "outputs": [],
   "source": [],
   "metadata": {
    "collapsed": false
   }
  }
 ],
 "metadata": {
  "kernelspec": {
   "display_name": "Python 3",
   "language": "python",
   "name": "python3"
  },
  "language_info": {
   "codemirror_mode": {
    "name": "ipython",
    "version": 2
   },
   "file_extension": ".py",
   "mimetype": "text/x-python",
   "name": "python",
   "nbconvert_exporter": "python",
   "pygments_lexer": "ipython2",
   "version": "2.7.6"
  }
 },
 "nbformat": 4,
 "nbformat_minor": 0
}
