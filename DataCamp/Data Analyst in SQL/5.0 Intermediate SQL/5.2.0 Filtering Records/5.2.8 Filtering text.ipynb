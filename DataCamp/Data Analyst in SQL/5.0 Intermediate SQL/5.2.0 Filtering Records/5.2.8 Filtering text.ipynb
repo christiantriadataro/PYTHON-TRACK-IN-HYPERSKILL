{
 "cells": [
  {
   "cell_type": "markdown",
   "source": [
    "# Intermediate SQL"
   ],
   "metadata": {
    "collapsed": false
   }
  },
  {
   "cell_type": "markdown",
   "source": [
    "## Filtering Records"
   ],
   "metadata": {
    "collapsed": false
   }
  },
  {
   "cell_type": "markdown",
   "source": [
    "#### Filtering text"
   ],
   "metadata": {
    "collapsed": false
   }
  },
  {
   "cell_type": "markdown",
   "source": [],
   "metadata": {
    "collapsed": false
   }
  },
  {
   "cell_type": "code",
   "execution_count": 2,
   "outputs": [],
   "source": [
    "import cx_Oracle\n",
    "import pandas as pd\n",
    "\n",
    "def print_all():\n",
    "    connection = cx_Oracle.connect(user=\"DATASETS_CHAN\", password=\"123\", dsn=\"localhost:1521/xe\")\n",
    "    cursor = connection.cursor()\n",
    "    cursor.execute(\"SELECT * FROM FILMS\")\n",
    "    return pd.DataFrame(cursor)\n",
    "\n",
    "def run_statement(sql):\n",
    "    connection = cx_Oracle.connect(user=\"DATASETS_CHAN\", password=\"123\", dsn=\"localhost:1521/xe\")\n",
    "    cursor = connection.cursor()\n",
    "    cursor.execute(sql)\n",
    "    display(pd.DataFrame(cursor))"
   ],
   "metadata": {
    "collapsed": false
   }
  },
  {
   "cell_type": "markdown",
   "source": [
    "#### Filtering text\n",
    "* Filter a pattern rather than specific text\n",
    "* `LIKE`\n",
    "* `NOT LIKE`\n",
    "* `IN`"
   ],
   "metadata": {
    "collapsed": false
   }
  },
  {
   "cell_type": "markdown",
   "source": [
    "#### LIKE\n",
    "* Used to search for a pattern in a field\n",
    "- `%` match zero, one or many characters"
   ],
   "metadata": {
    "collapsed": false
   }
  },
  {
   "cell_type": "code",
   "execution_count": 3,
   "outputs": [
    {
     "data": {
      "text/plain": "               0\n0     Adel Karam\n1  Adelaide Kane\n2     Aden Young",
      "text/html": "<div>\n<style scoped>\n    .dataframe tbody tr th:only-of-type {\n        vertical-align: middle;\n    }\n\n    .dataframe tbody tr th {\n        vertical-align: top;\n    }\n\n    .dataframe thead th {\n        text-align: right;\n    }\n</style>\n<table border=\"1\" class=\"dataframe\">\n  <thead>\n    <tr style=\"text-align: right;\">\n      <th></th>\n      <th>0</th>\n    </tr>\n  </thead>\n  <tbody>\n    <tr>\n      <th>0</th>\n      <td>Adel Karam</td>\n    </tr>\n    <tr>\n      <th>1</th>\n      <td>Adelaide Kane</td>\n    </tr>\n    <tr>\n      <th>2</th>\n      <td>Aden Young</td>\n    </tr>\n  </tbody>\n</table>\n</div>"
     },
     "metadata": {},
     "output_type": "display_data"
    }
   ],
   "source": [
    "sql = \"\"\"\n",
    "SELECT name\n",
    "FROM people\n",
    "WHERE name LIKE 'Ade%'\n",
    "\"\"\"\n",
    "run_statement(sql)"
   ],
   "metadata": {
    "collapsed": false
   }
  },
  {
   "cell_type": "markdown",
   "source": [
    "- `_` match a single character"
   ],
   "metadata": {
    "collapsed": false
   }
  },
  {
   "cell_type": "code",
   "execution_count": 4,
   "outputs": [
    {
     "data": {
      "text/plain": "     0\n0  Eve",
      "text/html": "<div>\n<style scoped>\n    .dataframe tbody tr th:only-of-type {\n        vertical-align: middle;\n    }\n\n    .dataframe tbody tr th {\n        vertical-align: top;\n    }\n\n    .dataframe thead th {\n        text-align: right;\n    }\n</style>\n<table border=\"1\" class=\"dataframe\">\n  <thead>\n    <tr style=\"text-align: right;\">\n      <th></th>\n      <th>0</th>\n    </tr>\n  </thead>\n  <tbody>\n    <tr>\n      <th>0</th>\n      <td>Eve</td>\n    </tr>\n  </tbody>\n</table>\n</div>"
     },
     "metadata": {},
     "output_type": "display_data"
    }
   ],
   "source": [
    "sql = \"\"\"\n",
    "SELECT name\n",
    "FROM people\n",
    "WHERE name LIKE 'Ev_'\n",
    "\"\"\"\n",
    "run_statement(sql)"
   ],
   "metadata": {
    "collapsed": false
   }
  },
  {
   "cell_type": "markdown",
   "source": [
    "#### NOT LIKE"
   ],
   "metadata": {
    "collapsed": false
   }
  },
  {
   "cell_type": "code",
   "execution_count": 6,
   "outputs": [
    {
     "data": {
      "text/plain": "                          0\n0                Anne Heche\n1                Anne Meara\n2            Anne Parillaud\n3           Anne-Marie Duff\n4     Anneliese van der Pol\n...                     ...\n8392          Sharat Saxena\n8393           Shari Albert\n8394  Shari Springer Berman\n8395         Sharlto Copley\n8396         Sharon Greytak\n\n[8397 rows x 1 columns]",
      "text/html": "<div>\n<style scoped>\n    .dataframe tbody tr th:only-of-type {\n        vertical-align: middle;\n    }\n\n    .dataframe tbody tr th {\n        vertical-align: top;\n    }\n\n    .dataframe thead th {\n        text-align: right;\n    }\n</style>\n<table border=\"1\" class=\"dataframe\">\n  <thead>\n    <tr style=\"text-align: right;\">\n      <th></th>\n      <th>0</th>\n    </tr>\n  </thead>\n  <tbody>\n    <tr>\n      <th>0</th>\n      <td>Anne Heche</td>\n    </tr>\n    <tr>\n      <th>1</th>\n      <td>Anne Meara</td>\n    </tr>\n    <tr>\n      <th>2</th>\n      <td>Anne Parillaud</td>\n    </tr>\n    <tr>\n      <th>3</th>\n      <td>Anne-Marie Duff</td>\n    </tr>\n    <tr>\n      <th>4</th>\n      <td>Anneliese van der Pol</td>\n    </tr>\n    <tr>\n      <th>...</th>\n      <td>...</td>\n    </tr>\n    <tr>\n      <th>8392</th>\n      <td>Sharat Saxena</td>\n    </tr>\n    <tr>\n      <th>8393</th>\n      <td>Shari Albert</td>\n    </tr>\n    <tr>\n      <th>8394</th>\n      <td>Shari Springer Berman</td>\n    </tr>\n    <tr>\n      <th>8395</th>\n      <td>Sharlto Copley</td>\n    </tr>\n    <tr>\n      <th>8396</th>\n      <td>Sharon Greytak</td>\n    </tr>\n  </tbody>\n</table>\n<p>8397 rows × 1 columns</p>\n</div>"
     },
     "metadata": {},
     "output_type": "display_data"
    }
   ],
   "source": [
    "sql = \"\"\"\n",
    "SELECT name\n",
    "FROM people\n",
    "\"\"\"\n",
    "\n",
    "run_statement(sql)"
   ],
   "metadata": {
    "collapsed": false
   }
  },
  {
   "cell_type": "code",
   "execution_count": 8,
   "outputs": [
    {
     "data": {
      "text/plain": "                          0\n0                Anne Heche\n1                Anne Meara\n2            Anne Parillaud\n3           Anne-Marie Duff\n4     Anneliese van der Pol\n...                     ...\n8387          Sharat Saxena\n8388           Shari Albert\n8389  Shari Springer Berman\n8390         Sharlto Copley\n8391         Sharon Greytak\n\n[8392 rows x 1 columns]",
      "text/html": "<div>\n<style scoped>\n    .dataframe tbody tr th:only-of-type {\n        vertical-align: middle;\n    }\n\n    .dataframe tbody tr th {\n        vertical-align: top;\n    }\n\n    .dataframe thead th {\n        text-align: right;\n    }\n</style>\n<table border=\"1\" class=\"dataframe\">\n  <thead>\n    <tr style=\"text-align: right;\">\n      <th></th>\n      <th>0</th>\n    </tr>\n  </thead>\n  <tbody>\n    <tr>\n      <th>0</th>\n      <td>Anne Heche</td>\n    </tr>\n    <tr>\n      <th>1</th>\n      <td>Anne Meara</td>\n    </tr>\n    <tr>\n      <th>2</th>\n      <td>Anne Parillaud</td>\n    </tr>\n    <tr>\n      <th>3</th>\n      <td>Anne-Marie Duff</td>\n    </tr>\n    <tr>\n      <th>4</th>\n      <td>Anneliese van der Pol</td>\n    </tr>\n    <tr>\n      <th>...</th>\n      <td>...</td>\n    </tr>\n    <tr>\n      <th>8387</th>\n      <td>Sharat Saxena</td>\n    </tr>\n    <tr>\n      <th>8388</th>\n      <td>Shari Albert</td>\n    </tr>\n    <tr>\n      <th>8389</th>\n      <td>Shari Springer Berman</td>\n    </tr>\n    <tr>\n      <th>8390</th>\n      <td>Sharlto Copley</td>\n    </tr>\n    <tr>\n      <th>8391</th>\n      <td>Sharon Greytak</td>\n    </tr>\n  </tbody>\n</table>\n<p>8392 rows × 1 columns</p>\n</div>"
     },
     "metadata": {},
     "output_type": "display_data"
    }
   ],
   "source": [
    "sql = \"\"\"\n",
    "SELECT name\n",
    "FROM people\n",
    "WHERE name NOT LIKE 'A.%'\n",
    "\"\"\"\n",
    "\n",
    "run_statement(sql)"
   ],
   "metadata": {
    "collapsed": false
   }
  },
  {
   "cell_type": "markdown",
   "source": [
    "#### Wildcard position"
   ],
   "metadata": {
    "collapsed": false
   }
  },
  {
   "cell_type": "markdown",
   "source": [
    "* names that ends with r"
   ],
   "metadata": {
    "collapsed": false
   }
  },
  {
   "cell_type": "code",
   "execution_count": 9,
   "outputs": [
    {
     "data": {
      "text/plain": "                      0\n0          Antony Starr\n1           Anupam Kher\n2           Ari Graynor\n3       Ariane Schluter\n4            Arly Jover\n..                  ...\n836   Sebastian Aguilar\n837  Sebastian Schipper\n838         Serdar Akar\n839       Shakti Kapoor\n840         Shane Acker\n\n[841 rows x 1 columns]",
      "text/html": "<div>\n<style scoped>\n    .dataframe tbody tr th:only-of-type {\n        vertical-align: middle;\n    }\n\n    .dataframe tbody tr th {\n        vertical-align: top;\n    }\n\n    .dataframe thead th {\n        text-align: right;\n    }\n</style>\n<table border=\"1\" class=\"dataframe\">\n  <thead>\n    <tr style=\"text-align: right;\">\n      <th></th>\n      <th>0</th>\n    </tr>\n  </thead>\n  <tbody>\n    <tr>\n      <th>0</th>\n      <td>Antony Starr</td>\n    </tr>\n    <tr>\n      <th>1</th>\n      <td>Anupam Kher</td>\n    </tr>\n    <tr>\n      <th>2</th>\n      <td>Ari Graynor</td>\n    </tr>\n    <tr>\n      <th>3</th>\n      <td>Ariane Schluter</td>\n    </tr>\n    <tr>\n      <th>4</th>\n      <td>Arly Jover</td>\n    </tr>\n    <tr>\n      <th>...</th>\n      <td>...</td>\n    </tr>\n    <tr>\n      <th>836</th>\n      <td>Sebastian Aguilar</td>\n    </tr>\n    <tr>\n      <th>837</th>\n      <td>Sebastian Schipper</td>\n    </tr>\n    <tr>\n      <th>838</th>\n      <td>Serdar Akar</td>\n    </tr>\n    <tr>\n      <th>839</th>\n      <td>Shakti Kapoor</td>\n    </tr>\n    <tr>\n      <th>840</th>\n      <td>Shane Acker</td>\n    </tr>\n  </tbody>\n</table>\n<p>841 rows × 1 columns</p>\n</div>"
     },
     "metadata": {},
     "output_type": "display_data"
    }
   ],
   "source": [
    "sql = \"\"\"\n",
    "SELECT name\n",
    "FROM people\n",
    "WHERE name LIKE '%r'\n",
    "\"\"\"\n",
    "\n",
    "run_statement(sql)"
   ],
   "metadata": {
    "collapsed": false
   }
  },
  {
   "cell_type": "markdown",
   "source": [
    "* names that the third character is t"
   ],
   "metadata": {
    "collapsed": false
   }
  },
  {
   "cell_type": "code",
   "execution_count": 10,
   "outputs": [
    {
     "data": {
      "text/plain": "                           0\n0    Anthony 'Citric' Campos\n1               Anthony Bell\n2            Anthony Burrell\n3     Anthony Chau-Sang Wong\n4            Anthony Daniels\n..                       ...\n451               Seth Gabel\n452             Seth Gilliam\n453              Seth Gordon\n454          Seth MacFarlane\n455              Seth Meyers\n\n[456 rows x 1 columns]",
      "text/html": "<div>\n<style scoped>\n    .dataframe tbody tr th:only-of-type {\n        vertical-align: middle;\n    }\n\n    .dataframe tbody tr th {\n        vertical-align: top;\n    }\n\n    .dataframe thead th {\n        text-align: right;\n    }\n</style>\n<table border=\"1\" class=\"dataframe\">\n  <thead>\n    <tr style=\"text-align: right;\">\n      <th></th>\n      <th>0</th>\n    </tr>\n  </thead>\n  <tbody>\n    <tr>\n      <th>0</th>\n      <td>Anthony 'Citric' Campos</td>\n    </tr>\n    <tr>\n      <th>1</th>\n      <td>Anthony Bell</td>\n    </tr>\n    <tr>\n      <th>2</th>\n      <td>Anthony Burrell</td>\n    </tr>\n    <tr>\n      <th>3</th>\n      <td>Anthony Chau-Sang Wong</td>\n    </tr>\n    <tr>\n      <th>4</th>\n      <td>Anthony Daniels</td>\n    </tr>\n    <tr>\n      <th>...</th>\n      <td>...</td>\n    </tr>\n    <tr>\n      <th>451</th>\n      <td>Seth Gabel</td>\n    </tr>\n    <tr>\n      <th>452</th>\n      <td>Seth Gilliam</td>\n    </tr>\n    <tr>\n      <th>453</th>\n      <td>Seth Gordon</td>\n    </tr>\n    <tr>\n      <th>454</th>\n      <td>Seth MacFarlane</td>\n    </tr>\n    <tr>\n      <th>455</th>\n      <td>Seth Meyers</td>\n    </tr>\n  </tbody>\n</table>\n<p>456 rows × 1 columns</p>\n</div>"
     },
     "metadata": {},
     "output_type": "display_data"
    }
   ],
   "source": [
    "sql = \"\"\"\n",
    "SELECT name\n",
    "FROM people\n",
    "WHERE name LIKE '__t%'\n",
    "\"\"\"\n",
    "\n",
    "run_statement(sql)"
   ],
   "metadata": {
    "collapsed": false
   }
  },
  {
   "cell_type": "markdown",
   "source": [
    "#### WHERE, OR"
   ],
   "metadata": {
    "collapsed": false
   }
  },
  {
   "cell_type": "code",
   "execution_count": 11,
   "outputs": [
    {
     "data": {
      "text/plain": "                                0\n0  Over the Hill to the Poorhouse\n1                   Hell's Angels\n2                       Boom Town\n3                        Fantasia\n4                       Pinocchio\n5                         Rebecca\n6                   The Blue Bird",
      "text/html": "<div>\n<style scoped>\n    .dataframe tbody tr th:only-of-type {\n        vertical-align: middle;\n    }\n\n    .dataframe tbody tr th {\n        vertical-align: top;\n    }\n\n    .dataframe thead th {\n        text-align: right;\n    }\n</style>\n<table border=\"1\" class=\"dataframe\">\n  <thead>\n    <tr style=\"text-align: right;\">\n      <th></th>\n      <th>0</th>\n    </tr>\n  </thead>\n  <tbody>\n    <tr>\n      <th>0</th>\n      <td>Over the Hill to the Poorhouse</td>\n    </tr>\n    <tr>\n      <th>1</th>\n      <td>Hell's Angels</td>\n    </tr>\n    <tr>\n      <th>2</th>\n      <td>Boom Town</td>\n    </tr>\n    <tr>\n      <th>3</th>\n      <td>Fantasia</td>\n    </tr>\n    <tr>\n      <th>4</th>\n      <td>Pinocchio</td>\n    </tr>\n    <tr>\n      <th>5</th>\n      <td>Rebecca</td>\n    </tr>\n    <tr>\n      <th>6</th>\n      <td>The Blue Bird</td>\n    </tr>\n  </tbody>\n</table>\n</div>"
     },
     "metadata": {},
     "output_type": "display_data"
    }
   ],
   "source": [
    "sql = \"\"\"\n",
    "SELECT title\n",
    "FROM films\n",
    "WHERE release_year = 1920\n",
    "    OR release_year = 1930\n",
    "    OR release_year = 1940\n",
    "\"\"\"\n",
    "\n",
    "run_statement(sql)"
   ],
   "metadata": {
    "collapsed": false
   }
  },
  {
   "cell_type": "markdown",
   "source": [
    "#### WHERE, IN"
   ],
   "metadata": {
    "collapsed": false
   }
  },
  {
   "cell_type": "code",
   "execution_count": 14,
   "outputs": [
    {
     "data": {
      "text/plain": "                                0\n0  Over the Hill to the Poorhouse\n1                   Hell's Angels\n2                       Boom Town\n3                        Fantasia\n4                       Pinocchio\n5                         Rebecca\n6                   The Blue Bird",
      "text/html": "<div>\n<style scoped>\n    .dataframe tbody tr th:only-of-type {\n        vertical-align: middle;\n    }\n\n    .dataframe tbody tr th {\n        vertical-align: top;\n    }\n\n    .dataframe thead th {\n        text-align: right;\n    }\n</style>\n<table border=\"1\" class=\"dataframe\">\n  <thead>\n    <tr style=\"text-align: right;\">\n      <th></th>\n      <th>0</th>\n    </tr>\n  </thead>\n  <tbody>\n    <tr>\n      <th>0</th>\n      <td>Over the Hill to the Poorhouse</td>\n    </tr>\n    <tr>\n      <th>1</th>\n      <td>Hell's Angels</td>\n    </tr>\n    <tr>\n      <th>2</th>\n      <td>Boom Town</td>\n    </tr>\n    <tr>\n      <th>3</th>\n      <td>Fantasia</td>\n    </tr>\n    <tr>\n      <th>4</th>\n      <td>Pinocchio</td>\n    </tr>\n    <tr>\n      <th>5</th>\n      <td>Rebecca</td>\n    </tr>\n    <tr>\n      <th>6</th>\n      <td>The Blue Bird</td>\n    </tr>\n  </tbody>\n</table>\n</div>"
     },
     "metadata": {},
     "output_type": "display_data"
    }
   ],
   "source": [
    "sql = \"\"\"\n",
    "SELECT title\n",
    "FROM films\n",
    "WHERE release_year IN (1920, 1930, 1940)\n",
    "\"\"\"\n",
    "\n",
    "run_statement(sql)"
   ],
   "metadata": {
    "collapsed": false
   }
  },
  {
   "cell_type": "code",
   "execution_count": 15,
   "outputs": [
    {
     "data": {
      "text/plain": "                            0\n0                      Subway\n1                         JFK\n2                  Metropolis\n3               Pandora's Box\n4                   The Train\n..                        ...\n245  The Transporter Refueled\n246             Irreplaceable\n247            The Neon Demon\n248  The Purge: Election Year\n249                    Carlos\n\n[250 rows x 1 columns]",
      "text/html": "<div>\n<style scoped>\n    .dataframe tbody tr th:only-of-type {\n        vertical-align: middle;\n    }\n\n    .dataframe tbody tr th {\n        vertical-align: top;\n    }\n\n    .dataframe thead th {\n        text-align: right;\n    }\n</style>\n<table border=\"1\" class=\"dataframe\">\n  <thead>\n    <tr style=\"text-align: right;\">\n      <th></th>\n      <th>0</th>\n    </tr>\n  </thead>\n  <tbody>\n    <tr>\n      <th>0</th>\n      <td>Subway</td>\n    </tr>\n    <tr>\n      <th>1</th>\n      <td>JFK</td>\n    </tr>\n    <tr>\n      <th>2</th>\n      <td>Metropolis</td>\n    </tr>\n    <tr>\n      <th>3</th>\n      <td>Pandora's Box</td>\n    </tr>\n    <tr>\n      <th>4</th>\n      <td>The Train</td>\n    </tr>\n    <tr>\n      <th>...</th>\n      <td>...</td>\n    </tr>\n    <tr>\n      <th>245</th>\n      <td>The Transporter Refueled</td>\n    </tr>\n    <tr>\n      <th>246</th>\n      <td>Irreplaceable</td>\n    </tr>\n    <tr>\n      <th>247</th>\n      <td>The Neon Demon</td>\n    </tr>\n    <tr>\n      <th>248</th>\n      <td>The Purge: Election Year</td>\n    </tr>\n    <tr>\n      <th>249</th>\n      <td>Carlos</td>\n    </tr>\n  </tbody>\n</table>\n<p>250 rows × 1 columns</p>\n</div>"
     },
     "metadata": {},
     "output_type": "display_data"
    }
   ],
   "source": [
    "sql = \"\"\"\n",
    "SELECT title\n",
    "FROM films\n",
    "WHERE country IN ('Germany', 'France')\n",
    "\"\"\"\n",
    "\n",
    "run_statement(sql)"
   ],
   "metadata": {
    "collapsed": false
   }
  },
  {
   "cell_type": "code",
   "execution_count": null,
   "outputs": [],
   "source": [],
   "metadata": {
    "collapsed": false
   }
  }
 ],
 "metadata": {
  "kernelspec": {
   "display_name": "Python 3",
   "language": "python",
   "name": "python3"
  },
  "language_info": {
   "codemirror_mode": {
    "name": "ipython",
    "version": 2
   },
   "file_extension": ".py",
   "mimetype": "text/x-python",
   "name": "python",
   "nbconvert_exporter": "python",
   "pygments_lexer": "ipython2",
   "version": "2.7.6"
  }
 },
 "nbformat": 4,
 "nbformat_minor": 0
}
