{
 "cells": [
  {
   "cell_type": "markdown",
   "source": [
    "## Intermediate SQL"
   ],
   "metadata": {
    "collapsed": false
   }
  },
  {
   "cell_type": "code",
   "execution_count": 5,
   "outputs": [],
   "source": [
    "import cx_Oracle\n",
    "import pandas as pd\n",
    "\n",
    "def print_all():\n",
    "    connection = cx_Oracle.connect(user=\"DATASETS_CHAN\", password=\"123\", dsn=\"localhost:1521/xe\")\n",
    "    cursor = connection.cursor()\n",
    "    cursor.execute(\"SELECT * FROM FILMS\")\n",
    "    return pd.DataFrame(cursor)\n",
    "\n",
    "def run_statement(sql):\n",
    "    connection = cx_Oracle.connect(user=\"DATASETS_CHAN\", password=\"123\", dsn=\"localhost:1521/xe\")\n",
    "    cursor = connection.cursor()\n",
    "    cursor.execute(sql)\n",
    "    display(pd.DataFrame(cursor))"
   ],
   "metadata": {
    "collapsed": false
   }
  },
  {
   "cell_type": "markdown",
   "source": [
    "### Filtering Records"
   ],
   "metadata": {
    "collapsed": false
   }
  },
  {
   "cell_type": "markdown",
   "source": [
    "#### WHERE\n",
    "* `WHERE` filtering clause"
   ],
   "metadata": {
    "collapsed": false
   }
  },
  {
   "cell_type": "markdown",
   "source": [
    "#### WHERE with comparison operators"
   ],
   "metadata": {
    "collapsed": false
   }
  },
  {
   "cell_type": "code",
   "execution_count": 6,
   "outputs": [
    {
     "data": {
      "text/plain": "                                                0\n0                                          Sheena\n1                                          Splash\n2             Star Trek III: The Search for Spock\n3                                      The Bounty\n4                                 The Cotton Club\n...                                           ...\n4844                                     Warcraft\n4845                            X-Men: Apocalypse\n4846  Xi you ji zhi: Sun Wukong san da Baigu Jing\n4847                                  Yoga Hosers\n4848                                  Zoolander 2\n\n[4849 rows x 1 columns]",
      "text/html": "<div>\n<style scoped>\n    .dataframe tbody tr th:only-of-type {\n        vertical-align: middle;\n    }\n\n    .dataframe tbody tr th {\n        vertical-align: top;\n    }\n\n    .dataframe thead th {\n        text-align: right;\n    }\n</style>\n<table border=\"1\" class=\"dataframe\">\n  <thead>\n    <tr style=\"text-align: right;\">\n      <th></th>\n      <th>0</th>\n    </tr>\n  </thead>\n  <tbody>\n    <tr>\n      <th>0</th>\n      <td>Sheena</td>\n    </tr>\n    <tr>\n      <th>1</th>\n      <td>Splash</td>\n    </tr>\n    <tr>\n      <th>2</th>\n      <td>Star Trek III: The Search for Spock</td>\n    </tr>\n    <tr>\n      <th>3</th>\n      <td>The Bounty</td>\n    </tr>\n    <tr>\n      <th>4</th>\n      <td>The Cotton Club</td>\n    </tr>\n    <tr>\n      <th>...</th>\n      <td>...</td>\n    </tr>\n    <tr>\n      <th>4844</th>\n      <td>Warcraft</td>\n    </tr>\n    <tr>\n      <th>4845</th>\n      <td>X-Men: Apocalypse</td>\n    </tr>\n    <tr>\n      <th>4846</th>\n      <td>Xi you ji zhi: Sun Wukong san da Baigu Jing</td>\n    </tr>\n    <tr>\n      <th>4847</th>\n      <td>Yoga Hosers</td>\n    </tr>\n    <tr>\n      <th>4848</th>\n      <td>Zoolander 2</td>\n    </tr>\n  </tbody>\n</table>\n<p>4849 rows × 1 columns</p>\n</div>"
     },
     "metadata": {},
     "output_type": "display_data"
    }
   ],
   "source": [
    "# SELECT title\n",
    "# FROM films\n",
    "# WHERE release_year > 1960;\n",
    "sql = \"\"\"\n",
    "SELECT title\n",
    "FROM films\n",
    "WHERE release_year > 1960\n",
    "\"\"\"\n",
    "run_statement(sql)"
   ],
   "metadata": {
    "collapsed": false
   }
  },
  {
   "cell_type": "markdown",
   "source": [
    "#### Comparisons operators"
   ],
   "metadata": {
    "collapsed": false
   }
  },
  {
   "cell_type": "code",
   "execution_count": 9,
   "outputs": [
    {
     "data": {
      "text/plain": "                                                   0\n0   Intolerance: Love's Struggle Throughout the Ages\n1                     Over the Hill to the Poorhouse\n2                                     The Big Parade\n3                                         Metropolis\n4                                      Pandora's Box\n..                                               ...\n72                                  Some Like It Hot\n73                                   The Nun's Story\n74                                      Elmer Gantry\n75                                            Psycho\n76                                     The Apartment\n\n[77 rows x 1 columns]",
      "text/html": "<div>\n<style scoped>\n    .dataframe tbody tr th:only-of-type {\n        vertical-align: middle;\n    }\n\n    .dataframe tbody tr th {\n        vertical-align: top;\n    }\n\n    .dataframe thead th {\n        text-align: right;\n    }\n</style>\n<table border=\"1\" class=\"dataframe\">\n  <thead>\n    <tr style=\"text-align: right;\">\n      <th></th>\n      <th>0</th>\n    </tr>\n  </thead>\n  <tbody>\n    <tr>\n      <th>0</th>\n      <td>Intolerance: Love's Struggle Throughout the Ages</td>\n    </tr>\n    <tr>\n      <th>1</th>\n      <td>Over the Hill to the Poorhouse</td>\n    </tr>\n    <tr>\n      <th>2</th>\n      <td>The Big Parade</td>\n    </tr>\n    <tr>\n      <th>3</th>\n      <td>Metropolis</td>\n    </tr>\n    <tr>\n      <th>4</th>\n      <td>Pandora's Box</td>\n    </tr>\n    <tr>\n      <th>...</th>\n      <td>...</td>\n    </tr>\n    <tr>\n      <th>72</th>\n      <td>Some Like It Hot</td>\n    </tr>\n    <tr>\n      <th>73</th>\n      <td>The Nun's Story</td>\n    </tr>\n    <tr>\n      <th>74</th>\n      <td>Elmer Gantry</td>\n    </tr>\n    <tr>\n      <th>75</th>\n      <td>Psycho</td>\n    </tr>\n    <tr>\n      <th>76</th>\n      <td>The Apartment</td>\n    </tr>\n  </tbody>\n</table>\n<p>77 rows × 1 columns</p>\n</div>"
     },
     "metadata": {},
     "output_type": "display_data"
    }
   ],
   "source": [
    "# SELECT title\n",
    "# FROM films\n",
    "# WHERE release_year <= 1960;\n",
    "sql = \"\"\"\n",
    "SELECT title\n",
    "FROM films\n",
    "WHERE release_year <= 1960\n",
    "\"\"\"\n",
    "run_statement(sql)"
   ],
   "metadata": {
    "collapsed": false
   }
  },
  {
   "cell_type": "markdown",
   "source": [
    "#### Comparison operators"
   ],
   "metadata": {
    "collapsed": false
   }
  },
  {
   "cell_type": "code",
   "execution_count": 11,
   "metadata": {
    "collapsed": true
   },
   "outputs": [
    {
     "data": {
      "text/plain": "               0\n0   Elmer Gantry\n1         Psycho\n2  The Apartment",
      "text/html": "<div>\n<style scoped>\n    .dataframe tbody tr th:only-of-type {\n        vertical-align: middle;\n    }\n\n    .dataframe tbody tr th {\n        vertical-align: top;\n    }\n\n    .dataframe thead th {\n        text-align: right;\n    }\n</style>\n<table border=\"1\" class=\"dataframe\">\n  <thead>\n    <tr style=\"text-align: right;\">\n      <th></th>\n      <th>0</th>\n    </tr>\n  </thead>\n  <tbody>\n    <tr>\n      <th>0</th>\n      <td>Elmer Gantry</td>\n    </tr>\n    <tr>\n      <th>1</th>\n      <td>Psycho</td>\n    </tr>\n    <tr>\n      <th>2</th>\n      <td>The Apartment</td>\n    </tr>\n  </tbody>\n</table>\n</div>"
     },
     "metadata": {},
     "output_type": "display_data"
    }
   ],
   "source": [
    "# SELECT title\n",
    "# FROM films\n",
    "# WHERE release_year = 1960;\n",
    "sql = \"\"\"\n",
    "SELECT title\n",
    "FROM films\n",
    "WHERE release_year = 1960\n",
    "\"\"\"\n",
    "run_statement(sql)"
   ]
  },
  {
   "cell_type": "markdown",
   "source": [
    "#### Comparison operators"
   ],
   "metadata": {
    "collapsed": false
   }
  },
  {
   "cell_type": "code",
   "execution_count": 12,
   "outputs": [
    {
     "data": {
      "text/plain": "                                                0\n0                                          Sheena\n1                                          Splash\n2             Star Trek III: The Search for Spock\n3                                      The Bounty\n4                                 The Cotton Club\n...                                           ...\n4918                                     Warcraft\n4919                            X-Men: Apocalypse\n4920  Xi you ji zhi: Sun Wukong san da Baigu Jing\n4921                                  Yoga Hosers\n4922                                  Zoolander 2\n\n[4923 rows x 1 columns]",
      "text/html": "<div>\n<style scoped>\n    .dataframe tbody tr th:only-of-type {\n        vertical-align: middle;\n    }\n\n    .dataframe tbody tr th {\n        vertical-align: top;\n    }\n\n    .dataframe thead th {\n        text-align: right;\n    }\n</style>\n<table border=\"1\" class=\"dataframe\">\n  <thead>\n    <tr style=\"text-align: right;\">\n      <th></th>\n      <th>0</th>\n    </tr>\n  </thead>\n  <tbody>\n    <tr>\n      <th>0</th>\n      <td>Sheena</td>\n    </tr>\n    <tr>\n      <th>1</th>\n      <td>Splash</td>\n    </tr>\n    <tr>\n      <th>2</th>\n      <td>Star Trek III: The Search for Spock</td>\n    </tr>\n    <tr>\n      <th>3</th>\n      <td>The Bounty</td>\n    </tr>\n    <tr>\n      <th>4</th>\n      <td>The Cotton Club</td>\n    </tr>\n    <tr>\n      <th>...</th>\n      <td>...</td>\n    </tr>\n    <tr>\n      <th>4918</th>\n      <td>Warcraft</td>\n    </tr>\n    <tr>\n      <th>4919</th>\n      <td>X-Men: Apocalypse</td>\n    </tr>\n    <tr>\n      <th>4920</th>\n      <td>Xi you ji zhi: Sun Wukong san da Baigu Jing</td>\n    </tr>\n    <tr>\n      <th>4921</th>\n      <td>Yoga Hosers</td>\n    </tr>\n    <tr>\n      <th>4922</th>\n      <td>Zoolander 2</td>\n    </tr>\n  </tbody>\n</table>\n<p>4923 rows × 1 columns</p>\n</div>"
     },
     "metadata": {},
     "output_type": "display_data"
    }
   ],
   "source": [
    "# NOT = <>\n",
    "# SELECT title\n",
    "# FROM films\n",
    "# WHERE release_year <> 1960\n",
    "sql = \"\"\"\n",
    "SELECT title\n",
    "FROM films\n",
    "WHERE release_year <> 1960\n",
    "\"\"\"\n",
    "run_statement(sql)"
   ],
   "metadata": {
    "collapsed": false
   }
  },
  {
   "cell_type": "markdown",
   "source": [
    "#### Comparison operators\n",
    "* `>` Greater than or after\n",
    "* `<` Less than or before\n",
    "* `=` Equal to\n",
    "* `>=` Greater than or equal to\n",
    "* `<=` Less than or equal to\n",
    "* `<>` Not equal to"
   ],
   "metadata": {
    "collapsed": false
   }
  },
  {
   "cell_type": "markdown",
   "source": [
    "#### WHERE with strings\n",
    "* Use single-quotes around strings we want to filter"
   ],
   "metadata": {
    "collapsed": false
   }
  },
  {
   "cell_type": "code",
   "execution_count": 13,
   "outputs": [
    {
     "data": {
      "text/plain": "                          0\n0                     Akira\n1             Seven Samurai\n2         Tora! Tora! Tora!\n3             Spirited Away\n4                  Madadayo\n5            Street Fighter\n6    The Quick and the Dead\n7         Princess Mononoke\n8                  The Cure\n9             Godzilla 2000\n10    PokÃ©mon 3: The Movie\n11     Howl's Moving Castle\n12                 Steamboy\n13          One Missed Call\n14                    Ponyo\n15    Harlock: Space Pirate\n16                     R100\n17               Trainwreck\n18      Godzilla Resurgence\n19      Godzilla Resurgence\n20  The Secret Life of Pets\n21  Yu-Gi-Oh! Duel Monsters",
      "text/html": "<div>\n<style scoped>\n    .dataframe tbody tr th:only-of-type {\n        vertical-align: middle;\n    }\n\n    .dataframe tbody tr th {\n        vertical-align: top;\n    }\n\n    .dataframe thead th {\n        text-align: right;\n    }\n</style>\n<table border=\"1\" class=\"dataframe\">\n  <thead>\n    <tr style=\"text-align: right;\">\n      <th></th>\n      <th>0</th>\n    </tr>\n  </thead>\n  <tbody>\n    <tr>\n      <th>0</th>\n      <td>Akira</td>\n    </tr>\n    <tr>\n      <th>1</th>\n      <td>Seven Samurai</td>\n    </tr>\n    <tr>\n      <th>2</th>\n      <td>Tora! Tora! Tora!</td>\n    </tr>\n    <tr>\n      <th>3</th>\n      <td>Spirited Away</td>\n    </tr>\n    <tr>\n      <th>4</th>\n      <td>Madadayo</td>\n    </tr>\n    <tr>\n      <th>5</th>\n      <td>Street Fighter</td>\n    </tr>\n    <tr>\n      <th>6</th>\n      <td>The Quick and the Dead</td>\n    </tr>\n    <tr>\n      <th>7</th>\n      <td>Princess Mononoke</td>\n    </tr>\n    <tr>\n      <th>8</th>\n      <td>The Cure</td>\n    </tr>\n    <tr>\n      <th>9</th>\n      <td>Godzilla 2000</td>\n    </tr>\n    <tr>\n      <th>10</th>\n      <td>PokÃ©mon 3: The Movie</td>\n    </tr>\n    <tr>\n      <th>11</th>\n      <td>Howl's Moving Castle</td>\n    </tr>\n    <tr>\n      <th>12</th>\n      <td>Steamboy</td>\n    </tr>\n    <tr>\n      <th>13</th>\n      <td>One Missed Call</td>\n    </tr>\n    <tr>\n      <th>14</th>\n      <td>Ponyo</td>\n    </tr>\n    <tr>\n      <th>15</th>\n      <td>Harlock: Space Pirate</td>\n    </tr>\n    <tr>\n      <th>16</th>\n      <td>R100</td>\n    </tr>\n    <tr>\n      <th>17</th>\n      <td>Trainwreck</td>\n    </tr>\n    <tr>\n      <th>18</th>\n      <td>Godzilla Resurgence</td>\n    </tr>\n    <tr>\n      <th>19</th>\n      <td>Godzilla Resurgence</td>\n    </tr>\n    <tr>\n      <th>20</th>\n      <td>The Secret Life of Pets</td>\n    </tr>\n    <tr>\n      <th>21</th>\n      <td>Yu-Gi-Oh! Duel Monsters</td>\n    </tr>\n  </tbody>\n</table>\n</div>"
     },
     "metadata": {},
     "output_type": "display_data"
    }
   ],
   "source": [
    "# SELECT title\n",
    "# FROM films\n",
    "# WHERE country = 'Japan';\n",
    "sql = \"\"\"\n",
    "SELECT title\n",
    "FROM films\n",
    "WHERE country = 'Japan'\n",
    "\"\"\"\n",
    "run_statement(sql)"
   ],
   "metadata": {
    "collapsed": false
   }
  },
  {
   "cell_type": "markdown",
   "source": [
    "#### Order of execution"
   ],
   "metadata": {
    "collapsed": false
   }
  },
  {
   "cell_type": "code",
   "execution_count": null,
   "outputs": [],
   "source": [
    "# -- Written code:\n",
    "# SELECT item\n",
    "# FROM coats\n",
    "# WHERE color = 'green'\n",
    "# LIMIT 5;"
   ],
   "metadata": {
    "collapsed": false
   }
  },
  {
   "cell_type": "code",
   "execution_count": null,
   "outputs": [],
   "source": [
    "# -- Order of execution\n",
    "# 3. SELECT item\n",
    "# 1. FROM coats\n",
    "# 2. WHERE color = 'green'\n",
    "# 4. LIMIT 5;"
   ],
   "metadata": {
    "collapsed": false
   }
  }
 ],
 "metadata": {
  "kernelspec": {
   "display_name": "Python 3",
   "language": "python",
   "name": "python3"
  },
  "language_info": {
   "codemirror_mode": {
    "name": "ipython",
    "version": 2
   },
   "file_extension": ".py",
   "mimetype": "text/x-python",
   "name": "python",
   "nbconvert_exporter": "python",
   "pygments_lexer": "ipython2",
   "version": "2.7.6"
  }
 },
 "nbformat": 4,
 "nbformat_minor": 0
}
