{
 "cells": [
  {
   "cell_type": "markdown",
   "source": [
    "# Intermediate SQL"
   ],
   "metadata": {
    "collapsed": false
   }
  },
  {
   "cell_type": "markdown",
   "source": [
    "## Filtering Records"
   ],
   "metadata": {
    "collapsed": false
   }
  },
  {
   "cell_type": "markdown",
   "source": [
    "#### Combining filtering and selecting"
   ],
   "metadata": {
    "collapsed": false
   }
  },
  {
   "cell_type": "markdown",
   "source": [
    "Time for a little challenge. So far, your SQL vocabulary from this course includes COUNT(), DISTINCT, LIMIT, WHERE, OR, AND, BETWEEN, LIKE, NOT LIKE, and IN. In this exercise, you will try to use some of these together. Writing more complex queries will be standard for you as you become a qualified SQL programmer.\n",
    "\n",
    "As this query will be a little more complicated than what you've seen so far, we've included a bit of code to get you started. You will be using DISTINCT here too because, surprise, there are two movies named 'Hamlet' in this dataset!\n",
    "\n",
    "Follow the instructions to find out what 90's films we have in our dataset that would be suitable for English-speaking teens."
   ],
   "metadata": {
    "collapsed": false
   }
  },
  {
   "cell_type": "markdown",
   "source": [],
   "metadata": {
    "collapsed": false
   }
  },
  {
   "cell_type": "code",
   "execution_count": 2,
   "outputs": [],
   "source": [
    "import cx_Oracle\n",
    "import pandas as pd\n",
    "\n",
    "def print_all():\n",
    "    connection = cx_Oracle.connect(user=\"DATASETS_CHAN\", password=\"123\", dsn=\"localhost:1521/xe\")\n",
    "    cursor = connection.cursor()\n",
    "    cursor.execute(\"SELECT * FROM FILMS\")\n",
    "    return pd.DataFrame(cursor)\n",
    "\n",
    "def run_statement(sql):\n",
    "    connection = cx_Oracle.connect(user=\"DATASETS_CHAN\", password=\"123\", dsn=\"localhost:1521/xe\")\n",
    "    cursor = connection.cursor()\n",
    "    cursor.execute(sql)\n",
    "    display(pd.DataFrame(cursor))"
   ],
   "metadata": {
    "collapsed": false
   }
  },
  {
   "cell_type": "markdown",
   "source": [
    "#### Instructions\n",
    "* Select the `title` and `release_year` of all films released in 1990 or 2000 that were longer than two hours.\n",
    "* Select the `title` and `language` of all films in English, Spanish, or French using `IN`.\n",
    "* Select the `title`, `certification` and `language` of all films NC-17 or R that are in English, Italian, or Greek."
   ],
   "metadata": {
    "collapsed": false
   }
  },
  {
   "cell_type": "code",
   "execution_count": 4,
   "outputs": [
    {
     "data": {
      "text/plain": "                             0     1\n0           Dances with Wolves  1990\n1                   Die Hard 2  1990\n2                        Ghost  1990\n3                   Goodfellas  1990\n4             Mo' Better Blues  1990\n5                 Pretty Woman  1990\n6      The Godfather: Part III  1990\n7     The Hunt for Red October  1990\n8        All the Pretty Horses  2000\n9                Almost Famous  2000\n10                  Bamboozled  2000\n11                   Cast Away  2000\n12                    Chocolat  2000\n13          Dancer in the Dark  2000\n14             Erin Brockovich  2000\n15           Finding Forrester  2000\n16                        Fiza  2000\n17                   Gladiator  2000\n18       Gone in Sixty Seconds  2000\n19           Keeping the Faith  2000\n20           Love & Basketball  2000\n21                Men of Honor  2000\n22      Mission: Impossible II  2000\n23                Pandaemonium  2000\n24              Pay It Forward  2000\n25                     Pollock  2000\n26               Proof of Life  2000\n27                      Quills  2000\n28              Reindeer Games  2000\n29               Space Cowboys  2000\n30                 The 6th Day  2000\n31               The Contender  2000\n32              The Family Man  2000\n33          The House of Mirth  2000\n34  The Legend of Bagger Vance  2000\n35                 The Patriot  2000\n36           The Perfect Storm  2000\n37               Thirteen Days  2000\n38                     Traffic  2000\n39              Vertical Limit  2000\n40           What Lies Beneath  2000\n41             What Women Want  2000",
      "text/html": "<div>\n<style scoped>\n    .dataframe tbody tr th:only-of-type {\n        vertical-align: middle;\n    }\n\n    .dataframe tbody tr th {\n        vertical-align: top;\n    }\n\n    .dataframe thead th {\n        text-align: right;\n    }\n</style>\n<table border=\"1\" class=\"dataframe\">\n  <thead>\n    <tr style=\"text-align: right;\">\n      <th></th>\n      <th>0</th>\n      <th>1</th>\n    </tr>\n  </thead>\n  <tbody>\n    <tr>\n      <th>0</th>\n      <td>Dances with Wolves</td>\n      <td>1990</td>\n    </tr>\n    <tr>\n      <th>1</th>\n      <td>Die Hard 2</td>\n      <td>1990</td>\n    </tr>\n    <tr>\n      <th>2</th>\n      <td>Ghost</td>\n      <td>1990</td>\n    </tr>\n    <tr>\n      <th>3</th>\n      <td>Goodfellas</td>\n      <td>1990</td>\n    </tr>\n    <tr>\n      <th>4</th>\n      <td>Mo' Better Blues</td>\n      <td>1990</td>\n    </tr>\n    <tr>\n      <th>5</th>\n      <td>Pretty Woman</td>\n      <td>1990</td>\n    </tr>\n    <tr>\n      <th>6</th>\n      <td>The Godfather: Part III</td>\n      <td>1990</td>\n    </tr>\n    <tr>\n      <th>7</th>\n      <td>The Hunt for Red October</td>\n      <td>1990</td>\n    </tr>\n    <tr>\n      <th>8</th>\n      <td>All the Pretty Horses</td>\n      <td>2000</td>\n    </tr>\n    <tr>\n      <th>9</th>\n      <td>Almost Famous</td>\n      <td>2000</td>\n    </tr>\n    <tr>\n      <th>10</th>\n      <td>Bamboozled</td>\n      <td>2000</td>\n    </tr>\n    <tr>\n      <th>11</th>\n      <td>Cast Away</td>\n      <td>2000</td>\n    </tr>\n    <tr>\n      <th>12</th>\n      <td>Chocolat</td>\n      <td>2000</td>\n    </tr>\n    <tr>\n      <th>13</th>\n      <td>Dancer in the Dark</td>\n      <td>2000</td>\n    </tr>\n    <tr>\n      <th>14</th>\n      <td>Erin Brockovich</td>\n      <td>2000</td>\n    </tr>\n    <tr>\n      <th>15</th>\n      <td>Finding Forrester</td>\n      <td>2000</td>\n    </tr>\n    <tr>\n      <th>16</th>\n      <td>Fiza</td>\n      <td>2000</td>\n    </tr>\n    <tr>\n      <th>17</th>\n      <td>Gladiator</td>\n      <td>2000</td>\n    </tr>\n    <tr>\n      <th>18</th>\n      <td>Gone in Sixty Seconds</td>\n      <td>2000</td>\n    </tr>\n    <tr>\n      <th>19</th>\n      <td>Keeping the Faith</td>\n      <td>2000</td>\n    </tr>\n    <tr>\n      <th>20</th>\n      <td>Love &amp; Basketball</td>\n      <td>2000</td>\n    </tr>\n    <tr>\n      <th>21</th>\n      <td>Men of Honor</td>\n      <td>2000</td>\n    </tr>\n    <tr>\n      <th>22</th>\n      <td>Mission: Impossible II</td>\n      <td>2000</td>\n    </tr>\n    <tr>\n      <th>23</th>\n      <td>Pandaemonium</td>\n      <td>2000</td>\n    </tr>\n    <tr>\n      <th>24</th>\n      <td>Pay It Forward</td>\n      <td>2000</td>\n    </tr>\n    <tr>\n      <th>25</th>\n      <td>Pollock</td>\n      <td>2000</td>\n    </tr>\n    <tr>\n      <th>26</th>\n      <td>Proof of Life</td>\n      <td>2000</td>\n    </tr>\n    <tr>\n      <th>27</th>\n      <td>Quills</td>\n      <td>2000</td>\n    </tr>\n    <tr>\n      <th>28</th>\n      <td>Reindeer Games</td>\n      <td>2000</td>\n    </tr>\n    <tr>\n      <th>29</th>\n      <td>Space Cowboys</td>\n      <td>2000</td>\n    </tr>\n    <tr>\n      <th>30</th>\n      <td>The 6th Day</td>\n      <td>2000</td>\n    </tr>\n    <tr>\n      <th>31</th>\n      <td>The Contender</td>\n      <td>2000</td>\n    </tr>\n    <tr>\n      <th>32</th>\n      <td>The Family Man</td>\n      <td>2000</td>\n    </tr>\n    <tr>\n      <th>33</th>\n      <td>The House of Mirth</td>\n      <td>2000</td>\n    </tr>\n    <tr>\n      <th>34</th>\n      <td>The Legend of Bagger Vance</td>\n      <td>2000</td>\n    </tr>\n    <tr>\n      <th>35</th>\n      <td>The Patriot</td>\n      <td>2000</td>\n    </tr>\n    <tr>\n      <th>36</th>\n      <td>The Perfect Storm</td>\n      <td>2000</td>\n    </tr>\n    <tr>\n      <th>37</th>\n      <td>Thirteen Days</td>\n      <td>2000</td>\n    </tr>\n    <tr>\n      <th>38</th>\n      <td>Traffic</td>\n      <td>2000</td>\n    </tr>\n    <tr>\n      <th>39</th>\n      <td>Vertical Limit</td>\n      <td>2000</td>\n    </tr>\n    <tr>\n      <th>40</th>\n      <td>What Lies Beneath</td>\n      <td>2000</td>\n    </tr>\n    <tr>\n      <th>41</th>\n      <td>What Women Want</td>\n      <td>2000</td>\n    </tr>\n  </tbody>\n</table>\n</div>"
     },
     "metadata": {},
     "output_type": "display_data"
    }
   ],
   "source": [
    "# -- Find the title and release_year for all films over two hours in length released in 1990 and 2000\n",
    "sql = \"\"\"\n",
    "SELECT title, release_year\n",
    "FROM films\n",
    "WHERE release_year IN (1990, 2000)\n",
    "    AND duration > 120\n",
    "\"\"\"\n",
    "run_statement(sql)"
   ],
   "metadata": {
    "collapsed": false
   }
  },
  {
   "cell_type": "markdown",
   "source": [
    "* Select the `title` and `language` of all films in English, Spanish, or French using `IN`"
   ],
   "metadata": {
    "collapsed": false
   }
  },
  {
   "cell_type": "code",
   "execution_count": 5,
   "outputs": [
    {
     "data": {
      "text/plain": "                                        0        1\n0                                  Sheena  English\n1                                  Splash  English\n2     Star Trek III: The Search for Spock  English\n3                              The Bounty  English\n4                         The Cotton Club  English\n...                                   ...      ...\n4742                              Twisted  English\n4743                          Unforgotten  English\n4744                                Wings  English\n4745                           Wolf Creek  English\n4746                    Wuthering Heights  English\n\n[4747 rows x 2 columns]",
      "text/html": "<div>\n<style scoped>\n    .dataframe tbody tr th:only-of-type {\n        vertical-align: middle;\n    }\n\n    .dataframe tbody tr th {\n        vertical-align: top;\n    }\n\n    .dataframe thead th {\n        text-align: right;\n    }\n</style>\n<table border=\"1\" class=\"dataframe\">\n  <thead>\n    <tr style=\"text-align: right;\">\n      <th></th>\n      <th>0</th>\n      <th>1</th>\n    </tr>\n  </thead>\n  <tbody>\n    <tr>\n      <th>0</th>\n      <td>Sheena</td>\n      <td>English</td>\n    </tr>\n    <tr>\n      <th>1</th>\n      <td>Splash</td>\n      <td>English</td>\n    </tr>\n    <tr>\n      <th>2</th>\n      <td>Star Trek III: The Search for Spock</td>\n      <td>English</td>\n    </tr>\n    <tr>\n      <th>3</th>\n      <td>The Bounty</td>\n      <td>English</td>\n    </tr>\n    <tr>\n      <th>4</th>\n      <td>The Cotton Club</td>\n      <td>English</td>\n    </tr>\n    <tr>\n      <th>...</th>\n      <td>...</td>\n      <td>...</td>\n    </tr>\n    <tr>\n      <th>4742</th>\n      <td>Twisted</td>\n      <td>English</td>\n    </tr>\n    <tr>\n      <th>4743</th>\n      <td>Unforgotten</td>\n      <td>English</td>\n    </tr>\n    <tr>\n      <th>4744</th>\n      <td>Wings</td>\n      <td>English</td>\n    </tr>\n    <tr>\n      <th>4745</th>\n      <td>Wolf Creek</td>\n      <td>English</td>\n    </tr>\n    <tr>\n      <th>4746</th>\n      <td>Wuthering Heights</td>\n      <td>English</td>\n    </tr>\n  </tbody>\n</table>\n<p>4747 rows × 2 columns</p>\n</div>"
     },
     "metadata": {},
     "output_type": "display_data"
    }
   ],
   "source": [
    "# -- Find the title and language of all films in English, Spanish, and French\n",
    "sql = \"\"\"\n",
    "SELECT title, language\n",
    "FROM films\n",
    "WHERE language IN ('English', 'Spanish', 'French')\n",
    "\"\"\"\n",
    "run_statement(sql)"
   ],
   "metadata": {
    "collapsed": false
   }
  },
  {
   "cell_type": "markdown",
   "source": [
    "* Select the `title`, `certification` and `language` of all films certified NC-17 or R that are in English, Italian, or Greek."
   ],
   "metadata": {
    "collapsed": false
   }
  },
  {
   "cell_type": "code",
   "execution_count": 9,
   "outputs": [
    {
     "data": {
      "text/plain": "                 0  1        2\n0  The Cotton Club  R  English\n1   The Terminator  R  English",
      "text/html": "<div>\n<style scoped>\n    .dataframe tbody tr th:only-of-type {\n        vertical-align: middle;\n    }\n\n    .dataframe tbody tr th {\n        vertical-align: top;\n    }\n\n    .dataframe thead th {\n        text-align: right;\n    }\n</style>\n<table border=\"1\" class=\"dataframe\">\n  <thead>\n    <tr style=\"text-align: right;\">\n      <th></th>\n      <th>0</th>\n      <th>1</th>\n      <th>2</th>\n    </tr>\n  </thead>\n  <tbody>\n    <tr>\n      <th>0</th>\n      <td>The Cotton Club</td>\n      <td>R</td>\n      <td>English</td>\n    </tr>\n    <tr>\n      <th>1</th>\n      <td>The Terminator</td>\n      <td>R</td>\n      <td>English</td>\n    </tr>\n  </tbody>\n</table>\n</div>"
     },
     "metadata": {},
     "output_type": "display_data"
    }
   ],
   "source": [
    "sql = \"\"\"\n",
    "SELECT title, certification, language\n",
    "FROM films\n",
    "WHERE title = 'The Cotton Club' OR title = 'The Terminator'\n",
    "\"\"\"\n",
    "run_statement(sql)"
   ],
   "metadata": {
    "collapsed": false
   }
  },
  {
   "cell_type": "markdown",
   "source": [
    "* Finally, amend the query to include all Spanish-language `or` French-language films with the same criteria."
   ],
   "metadata": {
    "collapsed": false
   }
  },
  {
   "cell_type": "code",
   "execution_count": 9,
   "outputs": [
    {
     "data": {
      "text/plain": "                                         0     1\n0  Les couloirs du temps: Les visiteurs II  1998\n1                                    Tango  1998",
      "text/html": "<div>\n<style scoped>\n    .dataframe tbody tr th:only-of-type {\n        vertical-align: middle;\n    }\n\n    .dataframe tbody tr th {\n        vertical-align: top;\n    }\n\n    .dataframe thead th {\n        text-align: right;\n    }\n</style>\n<table border=\"1\" class=\"dataframe\">\n  <thead>\n    <tr style=\"text-align: right;\">\n      <th></th>\n      <th>0</th>\n      <th>1</th>\n    </tr>\n  </thead>\n  <tbody>\n    <tr>\n      <th>0</th>\n      <td>Les couloirs du temps: Les visiteurs II</td>\n      <td>1998</td>\n    </tr>\n    <tr>\n      <th>1</th>\n      <td>Tango</td>\n      <td>1998</td>\n    </tr>\n  </tbody>\n</table>\n</div>"
     },
     "metadata": {},
     "output_type": "display_data"
    }
   ],
   "source": [
    "sql = \"\"\"\n",
    "SELECT title, release_year\n",
    "FROM films\n",
    "WHERE release_year BETWEEN 1990 AND 2000\n",
    "\tAND budget > 100000000\n",
    "-- Amend the query to include Spanish or French-language films\n",
    "\tAND (language = 'Spanish' OR language = 'French')\n",
    "\"\"\"\n",
    "run_statement(sql)"
   ],
   "metadata": {
    "collapsed": false
   }
  },
  {
   "cell_type": "code",
   "execution_count": null,
   "outputs": [],
   "source": [
    "sql = \"\"\"\n",
    "UPDATE SALESMAN\n",
    "SET SNAME = 'Sally'\n",
    "WHERE SNAME = 'Sully'\n",
    "\n",
    "\"\"\"\n",
    "run_statement(sql)"
   ],
   "metadata": {
    "collapsed": false
   }
  }
 ],
 "metadata": {
  "kernelspec": {
   "display_name": "Python 3",
   "language": "python",
   "name": "python3"
  },
  "language_info": {
   "codemirror_mode": {
    "name": "ipython",
    "version": 2
   },
   "file_extension": ".py",
   "mimetype": "text/x-python",
   "name": "python",
   "nbconvert_exporter": "python",
   "pygments_lexer": "ipython2",
   "version": "2.7.6"
  }
 },
 "nbformat": 4,
 "nbformat_minor": 0
}
