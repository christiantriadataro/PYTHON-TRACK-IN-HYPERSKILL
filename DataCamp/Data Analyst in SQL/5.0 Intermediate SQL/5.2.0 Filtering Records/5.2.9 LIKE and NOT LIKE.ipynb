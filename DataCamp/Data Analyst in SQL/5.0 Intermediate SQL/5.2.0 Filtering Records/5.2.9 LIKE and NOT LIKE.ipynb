{
 "cells": [
  {
   "cell_type": "markdown",
   "source": [
    "# Intermediate SQL"
   ],
   "metadata": {
    "collapsed": false
   }
  },
  {
   "cell_type": "markdown",
   "source": [
    "## Filtering Records"
   ],
   "metadata": {
    "collapsed": false
   }
  },
  {
   "cell_type": "markdown",
   "source": [
    "#### LIKE and NOT LIKE"
   ],
   "metadata": {
    "collapsed": false
   }
  },
  {
   "cell_type": "markdown",
   "source": [
    "The `Like` and `NOT LIKE` operators can be used to find records that either match or o not match a specified pattern, respectively. They can be coupled with the wildcards `%` and `_`. The `%` will match zero or many characters, and `_` will match a single character.\n",
    "\n",
    "This is useful when you want to filter text, but not to an exact word.\n",
    "\n",
    "Do the following exercise to gain some practice with these keywords."
   ],
   "metadata": {
    "collapsed": false
   }
  },
  {
   "cell_type": "markdown",
   "source": [],
   "metadata": {
    "collapsed": false
   }
  },
  {
   "cell_type": "code",
   "execution_count": 2,
   "outputs": [],
   "source": [
    "import cx_Oracle\n",
    "import pandas as pd\n",
    "\n",
    "def print_all():\n",
    "    connection = cx_Oracle.connect(user=\"DATASETS_CHAN\", password=\"123\", dsn=\"localhost:1521/xe\")\n",
    "    cursor = connection.cursor()\n",
    "    cursor.execute(\"SELECT * FROM FILMS\")\n",
    "    return pd.DataFrame(cursor)\n",
    "\n",
    "def run_statement(sql):\n",
    "    connection = cx_Oracle.connect(user=\"DATASETS_CHAN\", password=\"123\", dsn=\"localhost:1521/xe\")\n",
    "    cursor = connection.cursor()\n",
    "    cursor.execute(sql)\n",
    "    display(pd.DataFrame(cursor))"
   ],
   "metadata": {
    "collapsed": false
   }
  },
  {
   "cell_type": "markdown",
   "source": [
    "#### Instructions\n",
    "* Select the names of all people whose names begin with 'B'."
   ],
   "metadata": {
    "collapsed": false
   }
  },
  {
   "cell_type": "code",
   "execution_count": 5,
   "outputs": [
    {
     "data": {
      "text/plain": "                  0\n0        B.J. Novak\n1      Babak Najafi\n2       Babar Ahmed\n3    Bahare Seddiqi\n4          Bai Ling\n..              ...\n440   Buster Keaton\n441   Busy Philipps\n442     Buzz Aldrin\n443    Byron Howard\n444      Byron Mann\n\n[445 rows x 1 columns]",
      "text/html": "<div>\n<style scoped>\n    .dataframe tbody tr th:only-of-type {\n        vertical-align: middle;\n    }\n\n    .dataframe tbody tr th {\n        vertical-align: top;\n    }\n\n    .dataframe thead th {\n        text-align: right;\n    }\n</style>\n<table border=\"1\" class=\"dataframe\">\n  <thead>\n    <tr style=\"text-align: right;\">\n      <th></th>\n      <th>0</th>\n    </tr>\n  </thead>\n  <tbody>\n    <tr>\n      <th>0</th>\n      <td>B.J. Novak</td>\n    </tr>\n    <tr>\n      <th>1</th>\n      <td>Babak Najafi</td>\n    </tr>\n    <tr>\n      <th>2</th>\n      <td>Babar Ahmed</td>\n    </tr>\n    <tr>\n      <th>3</th>\n      <td>Bahare Seddiqi</td>\n    </tr>\n    <tr>\n      <th>4</th>\n      <td>Bai Ling</td>\n    </tr>\n    <tr>\n      <th>...</th>\n      <td>...</td>\n    </tr>\n    <tr>\n      <th>440</th>\n      <td>Buster Keaton</td>\n    </tr>\n    <tr>\n      <th>441</th>\n      <td>Busy Philipps</td>\n    </tr>\n    <tr>\n      <th>442</th>\n      <td>Buzz Aldrin</td>\n    </tr>\n    <tr>\n      <th>443</th>\n      <td>Byron Howard</td>\n    </tr>\n    <tr>\n      <th>444</th>\n      <td>Byron Mann</td>\n    </tr>\n  </tbody>\n</table>\n<p>445 rows × 1 columns</p>\n</div>"
     },
     "metadata": {},
     "output_type": "display_data"
    }
   ],
   "source": [
    "# -- Select the names that starts with B\n",
    "sql = \"\"\"\n",
    "SELECT name\n",
    "FROM people\n",
    "WHERE name LIKE 'B%'\n",
    "\"\"\"\n",
    "run_statement(sql)"
   ],
   "metadata": {
    "collapsed": false
   }
  },
  {
   "cell_type": "markdown",
   "source": [
    "* Select the names of people whose names have 'r' as the second letter."
   ],
   "metadata": {
    "collapsed": false
   }
  },
  {
   "cell_type": "code",
   "execution_count": 6,
   "outputs": [
    {
     "data": {
      "text/plain": "                     0\n0             Ara Celi\n1        Aramis Knight\n2    Arben Bajraktaraj\n3     Arcelia RamÃ­rez\n4           Archie Kao\n..                 ...\n525        Troy Garity\n526        Troy Miller\n527         Troy Nixey\n528     Ursula Andress\n529      Wray Crawford\n\n[530 rows x 1 columns]",
      "text/html": "<div>\n<style scoped>\n    .dataframe tbody tr th:only-of-type {\n        vertical-align: middle;\n    }\n\n    .dataframe tbody tr th {\n        vertical-align: top;\n    }\n\n    .dataframe thead th {\n        text-align: right;\n    }\n</style>\n<table border=\"1\" class=\"dataframe\">\n  <thead>\n    <tr style=\"text-align: right;\">\n      <th></th>\n      <th>0</th>\n    </tr>\n  </thead>\n  <tbody>\n    <tr>\n      <th>0</th>\n      <td>Ara Celi</td>\n    </tr>\n    <tr>\n      <th>1</th>\n      <td>Aramis Knight</td>\n    </tr>\n    <tr>\n      <th>2</th>\n      <td>Arben Bajraktaraj</td>\n    </tr>\n    <tr>\n      <th>3</th>\n      <td>Arcelia RamÃ­rez</td>\n    </tr>\n    <tr>\n      <th>4</th>\n      <td>Archie Kao</td>\n    </tr>\n    <tr>\n      <th>...</th>\n      <td>...</td>\n    </tr>\n    <tr>\n      <th>525</th>\n      <td>Troy Garity</td>\n    </tr>\n    <tr>\n      <th>526</th>\n      <td>Troy Miller</td>\n    </tr>\n    <tr>\n      <th>527</th>\n      <td>Troy Nixey</td>\n    </tr>\n    <tr>\n      <th>528</th>\n      <td>Ursula Andress</td>\n    </tr>\n    <tr>\n      <th>529</th>\n      <td>Wray Crawford</td>\n    </tr>\n  </tbody>\n</table>\n<p>530 rows × 1 columns</p>\n</div>"
     },
     "metadata": {},
     "output_type": "display_data"
    }
   ],
   "source": [
    "sql = \"\"\"\n",
    "SELECT name\n",
    "FROM people\n",
    "-- Select the names that have r as the second letter\n",
    "WHERE name LIKE '_r%'\n",
    "\"\"\"\n",
    "run_statement(sql)"
   ],
   "metadata": {
    "collapsed": false
   }
  },
  {
   "cell_type": "markdown",
   "source": [
    "* Selec the names of people whose names don't start with 'A'."
   ],
   "metadata": {
    "collapsed": false
   }
  },
  {
   "cell_type": "code",
   "execution_count": 7,
   "outputs": [
    {
     "data": {
      "text/plain": "                          0\n0                B.J. Novak\n1              Babak Najafi\n2               Babar Ahmed\n3            Bahare Seddiqi\n4                  Bai Ling\n...                     ...\n7763          Sharat Saxena\n7764           Shari Albert\n7765  Shari Springer Berman\n7766         Sharlto Copley\n7767         Sharon Greytak\n\n[7768 rows x 1 columns]",
      "text/html": "<div>\n<style scoped>\n    .dataframe tbody tr th:only-of-type {\n        vertical-align: middle;\n    }\n\n    .dataframe tbody tr th {\n        vertical-align: top;\n    }\n\n    .dataframe thead th {\n        text-align: right;\n    }\n</style>\n<table border=\"1\" class=\"dataframe\">\n  <thead>\n    <tr style=\"text-align: right;\">\n      <th></th>\n      <th>0</th>\n    </tr>\n  </thead>\n  <tbody>\n    <tr>\n      <th>0</th>\n      <td>B.J. Novak</td>\n    </tr>\n    <tr>\n      <th>1</th>\n      <td>Babak Najafi</td>\n    </tr>\n    <tr>\n      <th>2</th>\n      <td>Babar Ahmed</td>\n    </tr>\n    <tr>\n      <th>3</th>\n      <td>Bahare Seddiqi</td>\n    </tr>\n    <tr>\n      <th>4</th>\n      <td>Bai Ling</td>\n    </tr>\n    <tr>\n      <th>...</th>\n      <td>...</td>\n    </tr>\n    <tr>\n      <th>7763</th>\n      <td>Sharat Saxena</td>\n    </tr>\n    <tr>\n      <th>7764</th>\n      <td>Shari Albert</td>\n    </tr>\n    <tr>\n      <th>7765</th>\n      <td>Shari Springer Berman</td>\n    </tr>\n    <tr>\n      <th>7766</th>\n      <td>Sharlto Copley</td>\n    </tr>\n    <tr>\n      <th>7767</th>\n      <td>Sharon Greytak</td>\n    </tr>\n  </tbody>\n</table>\n<p>7768 rows × 1 columns</p>\n</div>"
     },
     "metadata": {},
     "output_type": "display_data"
    }
   ],
   "source": [
    "sql = \"\"\"\n",
    "SELECT name\n",
    "FROM people\n",
    "-- Select names that don't start with A\n",
    "WHERE name NOT LIKE 'A%'\n",
    "\"\"\"\n",
    "run_statement(sql)"
   ],
   "metadata": {
    "collapsed": false
   }
  },
  {
   "cell_type": "markdown",
   "source": [
    "* Finally, amend the query to include all Spanish-language `or` French-language films with the same criteria."
   ],
   "metadata": {
    "collapsed": false
   }
  },
  {
   "cell_type": "code",
   "execution_count": 9,
   "outputs": [
    {
     "data": {
      "text/plain": "                                         0     1\n0  Les couloirs du temps: Les visiteurs II  1998\n1                                    Tango  1998",
      "text/html": "<div>\n<style scoped>\n    .dataframe tbody tr th:only-of-type {\n        vertical-align: middle;\n    }\n\n    .dataframe tbody tr th {\n        vertical-align: top;\n    }\n\n    .dataframe thead th {\n        text-align: right;\n    }\n</style>\n<table border=\"1\" class=\"dataframe\">\n  <thead>\n    <tr style=\"text-align: right;\">\n      <th></th>\n      <th>0</th>\n      <th>1</th>\n    </tr>\n  </thead>\n  <tbody>\n    <tr>\n      <th>0</th>\n      <td>Les couloirs du temps: Les visiteurs II</td>\n      <td>1998</td>\n    </tr>\n    <tr>\n      <th>1</th>\n      <td>Tango</td>\n      <td>1998</td>\n    </tr>\n  </tbody>\n</table>\n</div>"
     },
     "metadata": {},
     "output_type": "display_data"
    }
   ],
   "source": [
    "sql = \"\"\"\n",
    "SELECT title, release_year\n",
    "FROM films\n",
    "WHERE release_year BETWEEN 1990 AND 2000\n",
    "\tAND budget > 100000000\n",
    "-- Amend the query to include Spanish or French-language films\n",
    "\tAND (language = 'Spanish' OR language = 'French')\n",
    "\"\"\"\n",
    "run_statement(sql)"
   ],
   "metadata": {
    "collapsed": false
   }
  },
  {
   "cell_type": "code",
   "execution_count": null,
   "outputs": [],
   "source": [],
   "metadata": {
    "collapsed": false
   }
  }
 ],
 "metadata": {
  "kernelspec": {
   "display_name": "Python 3",
   "language": "python",
   "name": "python3"
  },
  "language_info": {
   "codemirror_mode": {
    "name": "ipython",
    "version": 2
   },
   "file_extension": ".py",
   "mimetype": "text/x-python",
   "name": "python",
   "nbconvert_exporter": "python",
   "pygments_lexer": "ipython2",
   "version": "2.7.6"
  }
 },
 "nbformat": 4,
 "nbformat_minor": 0
}
