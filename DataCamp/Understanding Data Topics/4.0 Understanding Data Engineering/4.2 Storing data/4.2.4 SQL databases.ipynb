{
 "cells": [
  {
   "cell_type": "markdown",
   "source": [
    "### SQL databases"
   ],
   "metadata": {
    "collapsed": false
   }
  },
  {
   "cell_type": "markdown",
   "source": [
    "#### SQL\n",
    "* Structured Query Language\n",
    "* Industry standard for Relational Database Management System (RDBMS)\n",
    "* Allows you to access many records at once, and group, filter or aggregate them\n",
    "* Close to written English, easy to write and understand\n",
    "* Data engineers use SQL to create and maintain databases\n",
    "* Data scientists use SQL to query (request information from) databases"
   ],
   "metadata": {
    "collapsed": false
   }
  },
  {
   "cell_type": "markdown",
   "source": [
    "#### Employee table\n",
    "<table>\n",
    "<thead>\n",
    "<tr>\n",
    "<td>index</td><td>last_name</td><td>first_name</td>\n",
    "<td>role</td><td>team</td><td>full_time</td><td>office</td>\n",
    "</tr>\n",
    "</thead>\n",
    "<tbody>\n",
    "<tr><td>0</td><td>Thien</td><td>Vivian</td><td>Data Engineer</td><td>Data Science</td><td>1</td><td>Belgium</td></tr>\n",
    "<tr><td>1</td><td>Huong</td><td>Julian</td><td>Data Scientist</td><td>Data Science</td><td>1</td><td>Belgium</td></tr>\n",
    "<tr><td>2</td><td>Duplantier</td><td>Norbert</td><td>Software Developer</td><td>Infrastructure</td><td>1</td><td>United Kingdom</td></tr>\n",
    "<tr><td>3</td><td>McColgan</td><td>Jeff</td><td>Business Developer</td><td>Sales</td><td>1</td><td>United States</td></tr>\n",
    "<tr><td>4</td><td>Sanchez</td><td>Rick</td><td>Support Agent</td><td>Support Agent</td><td>0</td><td>United States</td></tr>\n",
    "</tbody>\n",
    "</table>"
   ],
   "metadata": {
    "collapsed": false
   }
  },
  {
   "cell_type": "markdown",
   "source": [
    "##### SQL for data engineers\n",
    "* Data engineers use SQL to create, maintain, and update tables.\n",
    "`\n",
    "CREATE TABLE employees (\n",
    "    employee_id INT,\n",
    "    first_name VARCHAR(255),\n",
    "    last_name VARCHAR(255),\n",
    "    role VARCHAR(255),\n",
    "    team VARCHAR(255),\n",
    "    full_time BOOLEAN,\n",
    "    office VARCHAR(255)\n",
    "`"
   ],
   "metadata": {
    "collapsed": false
   }
  },
  {
   "cell_type": "markdown",
   "source": [
    "##### SQL for data scientists\n",
    "* Data scientists use SQL to query, filter, group and aggregate data in tables.\n",
    "`\n",
    "    SELECT first_name, last_name\n",
    "    FROM employess\n",
    "    WHERE role LIKE '%Data%'\n",
    "`"
   ],
   "metadata": {
    "collapsed": false
   }
  },
  {
   "cell_type": "markdown",
   "source": [
    "#### Database schema\n",
    "* Databases are made of tables\n",
    "* The database schema governs how tables are related"
   ],
   "metadata": {
    "collapsed": false
   }
  },
  {
   "cell_type": "markdown",
   "source": [
    "<table>\n",
    "<thead><tr><td>ALBUMS</td></tr></head>\n",
    "<tbody>\n",
    "<tr><td>album_id</td></tr>\n",
    "<tr><td>album_id</td></tr>\n",
    "<tr><td>title</td></tr>\n",
    "<tr><td>year_of_release</td></tr>\n",
    "<tr><td>label_id</td></tr>\n",
    "</tbody>\n",
    "</table>\n",
    "<hr>\n",
    "<table>\n",
    "<thead><tr><td>ARTISTS</td></tr></head>\n",
    "<tbody>\n",
    "<tr><td>artist_id</td></tr>\n",
    "<tr><td>artist_name</td></tr>\n",
    "<tr><td>biography</td></tr>\n",
    "</tbody>\n",
    "</table>\n",
    "<hr>\n",
    "<table>\n",
    "<thead><tr><td>SONGS</td></tr></head>\n",
    "<tbody>\n",
    "<tr><td>song_id</td></tr>\n",
    "<tr><td>album_id</td></tr>\n",
    "<tr><td>song_title</td></tr>\n",
    "<tr><td>track_number</td></tr>\n",
    "<tr><td>song_length</td></tr>\n",
    "</tbody>\n",
    "</table>\n",
    "<hr>\n",
    "<table>\n",
    "<thead><tr><td>PLAYLISTS</td></tr></head>\n",
    "<tbody>\n",
    "<tr><td>playlist_id</td></tr>\n",
    "<tr><td>user_id</td></tr>\n",
    "<tr><td>song_id</td></tr>\n",
    "<tr><td>date_added</td></tr>\n",
    "<tr><td>position_number</td></tr>\n",
    "</tbody>\n",
    "</table>"
   ],
   "metadata": {
    "collapsed": false
   }
  },
  {
   "cell_type": "markdown",
   "source": [
    "#### Several implementations\n",
    "* SQLite\n",
    "* MySQL\n",
    "* PostgreSQL\n",
    "* Oracle SQL\n",
    "* SQL Server"
   ],
   "metadata": {
    "collapsed": false
   }
  },
  {
   "cell_type": "markdown",
   "source": [
    "#### Summary\n",
    "* SQL = industry standard\n",
    "* Explain how Data engineers and Data scientists use it differently\n",
    "* Database schema\n",
    "* SQL implementations"
   ],
   "metadata": {
    "collapsed": false
   }
  }
 ],
 "metadata": {
  "kernelspec": {
   "display_name": "Python 3",
   "language": "python",
   "name": "python3"
  },
  "language_info": {
   "codemirror_mode": {
    "name": "ipython",
    "version": 2
   },
   "file_extension": ".py",
   "mimetype": "text/x-python",
   "name": "python",
   "nbconvert_exporter": "python",
   "pygments_lexer": "ipython2",
   "version": "2.7.6"
  }
 },
 "nbformat": 4,
 "nbformat_minor": 0
}
