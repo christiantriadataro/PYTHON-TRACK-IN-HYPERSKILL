{
 "cells": [
  {
   "cell_type": "markdown",
   "source": [
    "### Data structures"
   ],
   "metadata": {
    "collapsed": false
   }
  },
  {
   "cell_type": "markdown",
   "source": [
    "#### Structured data\n",
    "- Easy to search and organize\n",
    "- consistent models, rows, and columns\n",
    "- defined types\n",
    "- can be grouped to form relations\n",
    "- stored in relational databases\n",
    "- about 20% of the data in structured\n",
    "- created and queried using sql"
   ],
   "metadata": {
    "collapsed": false
   }
  },
  {
   "cell_type": "markdown",
   "source": [
    "#### Employee table\n",
    "<table>\n",
    "<thead>\n",
    "<tr>\n",
    "<td>index</td><td>last_name</td><td>first_name</td>\n",
    "<td>role</td><td>team</td><td>full_time</td><td>office</td>\n",
    "</tr>\n",
    "</thead>\n",
    "<tbody>\n",
    "<tr>\n",
    "<td>0</td><td>Thien</td><td>Vivian</td><td>Data Engineer</td><td>Data Science</td><td>1</td><td>Belgium</td>\n",
    "</tr>\n",
    "</tbody>\n",
    "</table>"
   ],
   "metadata": {
    "collapsed": false
   }
  },
  {
   "cell_type": "markdown",
   "source": [
    "##### Semi-structured data\n",
    "* Relatively easy to search and organize\n",
    "* Consistent model, less-rigid implementation: different observations have different sizes\n",
    "* Different types\n",
    "* Can be grouped, but needs more work\n",
    "* NoSQL databases: JSON, XML, YAML"
   ],
   "metadata": {
    "collapsed": false
   }
  },
  {
   "cell_type": "markdown",
   "source": [
    "##### Favorite artist JSON file"
   ],
   "metadata": {
    "collapsed": false
   }
  },
  {
   "cell_type": "code",
   "execution_count": null,
   "outputs": [],
   "source": [
    "{\n",
    "    {\"user_1655156\":\n",
    "         {\"last_name\": \"Lacroix\",\n",
    "          \"first_name\": \"Hadriend\",\n",
    "          \"favorite_artists\": [\"Fools in Dead\",\"Gojira\", \"Pain\", \"Nanowar of Steel\"]\n",
    "          }},\n",
    "    {\"user_1655157\":\n",
    "         {\"last_name\": \"Billen\",\n",
    "          \"first_name\": \"Sara\",\n",
    "          \"favorite_artists\": [\"Tamino\",\"Taylor Swift\"]\n",
    "          }},\n",
    "    {\"user_1655156\":\n",
    "         {\"last_name\": \"Sulmont\",\n",
    "          \"first_name\": \"Lis\",\n",
    "          \"favorite_artists\": [\"Arctic Monkeys\",\"Rihanna\", \"Nina Simone\"]\n",
    "          }},\n",
    "}"
   ],
   "metadata": {
    "collapsed": false
   }
  },
  {
   "cell_type": "markdown",
   "source": [
    "#### Unstructured data\n",
    "* Does not follow a model, can't be contained in rows and columns\n",
    "* Difficult to search and organize\n",
    "* Usually text, sound, pictures or videos\n",
    "* Usually stored in data lakes, can appear in data warehouses or databases\n",
    "* Most of the data is unstructured\n",
    "* Can be extremely valuable"
   ],
   "metadata": {
    "collapsed": false
   }
  },
  {
   "cell_type": "markdown",
   "source": [
    "#### Adding some structure\n",
    "* Use AI to search and organize unstructured data\n",
    "* Add information to make it semi-structured"
   ],
   "metadata": {
    "collapsed": false
   }
  },
  {
   "cell_type": "markdown",
   "source": [
    "#### Summary\n",
    "* Structured data\n",
    "* Semi-structured data\n",
    "* Unstructured data\n",
    "* Differences between the three\n",
    "* Give examples"
   ],
   "metadata": {
    "collapsed": false
   }
  },
  {
   "cell_type": "markdown",
   "source": [
    "#### Data engineers\n",
    "Data engineers deliver:\n",
    "* the correct data\n",
    "* in the right form\n",
    "* to the right people\n",
    "* as efficiently as possible"
   ],
   "metadata": {
    "collapsed": false
   }
  },
  {
   "cell_type": "markdown",
   "source": [
    "#### A data engineer's responsibilities\n",
    "* ingest data from different sources\n",
    "* Optimize databases for analysis\n",
    "* Remove corrupted data\n",
    "* Develop, construct, test and maintain data architectures"
   ],
   "metadata": {
    "collapsed": false
   }
  },
  {
   "cell_type": "markdown",
   "source": [
    "#### Data engineers and big data\n",
    "* Big data becomes the norm => data engineers are more and more needed\n",
    "* Big data:\n",
    "    * Have to think about how to deal with its size\n",
    "    * So large traditional methods don't work anymore"
   ],
   "metadata": {
    "collapsed": false
   }
  },
  {
   "cell_type": "markdown",
   "source": [
    "#### Big data growth\n",
    "* Sensors and devices\n",
    "* Social media\n",
    "* Enterprise data\n",
    "* VoIP (voice communication, multimedia sessions)"
   ],
   "metadata": {
    "collapsed": false
   }
  },
  {
   "cell_type": "markdown",
   "source": [
    "#### The five Vs\n",
    "* Volume (how much?)\n",
    "* Variety (what kind?)\n",
    "* Velocity (how frequent?)\n",
    "* Veracity (how accurate?)\n",
    "* Value (how useful?)"
   ],
   "metadata": {
    "collapsed": false
   }
  },
  {
   "cell_type": "markdown",
   "source": [
    "#### Summary\n",
    "* What's waiting for you\n",
    "* How data flows through an organization\n",
    "* When a data engineer intervenes\n",
    "* What their responsibilities are\n",
    "* How data engineering relates to big data"
   ],
   "metadata": {
    "collapsed": false
   }
  },
  {
   "cell_type": "code",
   "execution_count": null,
   "outputs": [],
   "source": [],
   "metadata": {
    "collapsed": false
   }
  }
 ],
 "metadata": {
  "kernelspec": {
   "display_name": "Python 3",
   "language": "python",
   "name": "python3"
  },
  "language_info": {
   "codemirror_mode": {
    "name": "ipython",
    "version": 2
   },
   "file_extension": ".py",
   "mimetype": "text/x-python",
   "name": "python",
   "nbconvert_exporter": "python",
   "pygments_lexer": "ipython2",
   "version": "2.7.6"
  }
 },
 "nbformat": 4,
 "nbformat_minor": 0
}
