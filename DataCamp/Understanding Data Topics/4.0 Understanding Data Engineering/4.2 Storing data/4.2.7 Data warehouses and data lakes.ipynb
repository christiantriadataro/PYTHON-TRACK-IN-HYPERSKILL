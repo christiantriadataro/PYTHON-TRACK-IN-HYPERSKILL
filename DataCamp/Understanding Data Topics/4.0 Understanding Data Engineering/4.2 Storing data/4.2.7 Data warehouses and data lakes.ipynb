{
 "cells": [
  {
   "cell_type": "markdown",
   "source": [
    "## Data warehouses and data lakes"
   ],
   "metadata": {
    "collapsed": false
   }
  },
  {
   "cell_type": "markdown",
   "source": [
    "#### Warehouses with stunning view on the lake"
   ],
   "metadata": {
    "collapsed": false
   }
  },
  {
   "cell_type": "markdown",
   "source": [
    "#### Data lakes and data warehouses\n",
    "Data lake\n",
    "- Stores all the raw data\n",
    "- Can be petabytes (1 million GBs)\n",
    "- Stores all data structures\n",
    "- Cost-effective\n",
    "- Difficult to analyze (can use deep learning)\n",
    "- Requires an up-to-date data catalog\n",
    "- Used by data scientists\n",
    "- Big data, real-time analytics\n",
    "\n",
    "Data warehouse\n",
    "- Specific data for specific use\n",
    "- Relatively small\n",
    "- More costly to update\n",
    "- Optimized for data analysis\n",
    "- Also used by data analysts and business analysts\n",
    "- Ad-hoc, read-only queries"
   ],
   "metadata": {
    "collapsed": false
   }
  },
  {
   "cell_type": "markdown",
   "source": [
    "#### Data catalog for data lakes\n",
    "- source of truth that compensates for the lack of structure in a data lake\n",
    "- What is the source of this data?\n",
    "- Where is this data used?\n",
    "- Who is the owner of the data?\n",
    "- How often is this data updated?\n",
    "- Good practice in terms of data governance (managing the availability, usability, integrity, and security of the data)\n",
    "- Ensures reproducibility\n",
    "- No catalog -> data swamp\n",
    "- Good practice for any data storage solution\n",
    "    * Reliability\n",
    "    * Autonomy\n",
    "    * Scalability\n",
    "    * Speed"
   ],
   "metadata": {
    "collapsed": false
   }
  },
  {
   "cell_type": "markdown",
   "source": [
    "#### Database vs. data warehouse\n",
    "* Database:\n",
    "    * General term\n",
    "    * Loosely defined as *organized data stored and accessed on a computer\n",
    "* Data warehouse is a type of database"
   ],
   "metadata": {
    "collapsed": false
   }
  },
  {
   "cell_type": "markdown",
   "source": [
    "#### Summary\n",
    "* Data lakes\n",
    "* Data warehouses\n",
    "* Databases\n",
    "* Data catalog"
   ],
   "metadata": {
    "collapsed": false
   }
  },
  {
   "cell_type": "markdown",
   "source": [],
   "metadata": {
    "collapsed": false
   }
  }
 ],
 "metadata": {
  "kernelspec": {
   "display_name": "Python 3",
   "language": "python",
   "name": "python3"
  },
  "language_info": {
   "codemirror_mode": {
    "name": "ipython",
    "version": 2
   },
   "file_extension": ".py",
   "mimetype": "text/x-python",
   "name": "python",
   "nbconvert_exporter": "python",
   "pygments_lexer": "ipython2",
   "version": "2.7.6"
  }
 },
 "nbformat": 4,
 "nbformat_minor": 0
}
