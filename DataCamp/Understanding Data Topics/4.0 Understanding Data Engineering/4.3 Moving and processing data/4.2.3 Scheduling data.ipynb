{
 "cells": [
  {
   "cell_type": "markdown",
   "source": [
    "### Scheduling data"
   ],
   "metadata": {
    "collapsed": false
   }
  },
  {
   "cell_type": "markdown",
   "source": [
    "#### Scheduling\n",
    "* Can apply to any task listed in data processing\n",
    "* Scheduling is the glue of your system\n",
    "* Holds each piece and organize how they work together\n",
    "* Runs tasks in a specific order and resolves all dependencies"
   ],
   "metadata": {
    "collapsed": false
   }
  },
  {
   "cell_type": "markdown",
   "source": [
    "#### Manual, time and sensor scheduling\n",
    "* Manually\n",
    "    - Manually update the employee table\n",
    "* Automatically run at a specific time\n",
    "    - Update the employee table at 6 AM\n",
    "* Automatically run if a specific condition is met\n",
    "    * Sensor scheduling\n",
    "    - Update the department tables if a new employee was added"
   ],
   "metadata": {
    "collapsed": false
   }
  },
  {
   "cell_type": "markdown",
   "source": [
    "#### Baches and streams\n",
    "* Batches\n",
    "    * Group records at intervals\n",
    "    * Often cheaper\n",
    "\n",
    "    - Songs uploaded by artists\n",
    "    - Employee table\n",
    "    - Revenue table\n",
    "\n",
    "* Streams\n",
    "    * Send individual records right away\n",
    "\n",
    "    - New users signing in\n",
    "    - online vs. offline listening"
   ],
   "metadata": {
    "collapsed": false
   }
  },
  {
   "cell_type": "markdown",
   "source": [
    "#### Scheduling tools\n",
    "- Apache Airflow\n",
    "- Luigi"
   ],
   "metadata": {
    "collapsed": false
   }
  },
  {
   "cell_type": "markdown",
   "source": [
    "#### Summary\n",
    "* What scheduling is\n",
    "* Different ways to set it up\n",
    "* Difference between batches and streams\n",
    "* How scheduling is implemented at Spotflix\n",
    "* Airflow, Luigi"
   ],
   "metadata": {
    "collapsed": false
   }
  }
 ],
 "metadata": {
  "kernelspec": {
   "display_name": "Python 3",
   "language": "python",
   "name": "python3"
  },
  "language_info": {
   "codemirror_mode": {
    "name": "ipython",
    "version": 2
   },
   "file_extension": ".py",
   "mimetype": "text/x-python",
   "name": "python",
   "nbconvert_exporter": "python",
   "pygments_lexer": "ipython2",
   "version": "2.7.6"
  }
 },
 "nbformat": 4,
 "nbformat_minor": 0
}
