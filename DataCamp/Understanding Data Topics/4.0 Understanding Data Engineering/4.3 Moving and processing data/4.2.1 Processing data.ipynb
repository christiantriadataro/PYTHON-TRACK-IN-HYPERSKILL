{
 "cells": [
  {
   "cell_type": "markdown",
   "source": [
    "### Processing data"
   ],
   "metadata": {
    "collapsed": false
   }
  },
  {
   "cell_type": "markdown",
   "source": [
    "#### A general definition\n",
    "* Data processing: converting *raw* data into *meaningful* information"
   ],
   "metadata": {
    "collapsed": false
   }
  },
  {
   "cell_type": "markdown",
   "source": [
    "#### Data processing value\n",
    "Conceptually\n",
    "* Remove unwanted data\n",
    "* Optimize memory, process and network costs\n",
    "* Convert data from one type to another\n",
    "* Organize data\n",
    "* To fit into a schema/structure\n",
    "* Increase productivity\n",
    "\n",
    "At Spotflix\n",
    "* No long term need for testing feature data\n",
    "* Can't afford to store and stream files this big\n",
    "* Convert songs from `.flac` to `.ogg`\n",
    "* Reorganize data from the data lake to data warehouses\n",
    "* Employee table example\n",
    "* Enable data scientists"
   ],
   "metadata": {
    "collapsed": false
   }
  },
  {
   "cell_type": "markdown",
   "source": [
    "#### How data engineers process data\n",
    "* Data manipulation, cleaning and tidying tasks\n",
    "    * that can be automated\n",
    "    * that will always need to be done\n",
    "* Store data in a sanely structured database\n",
    "* Create views on top of the database tables\n",
    "* Optimizing the performance of the database\n",
    "\n",
    "Example scenarios\n",
    "* Rejecting corrupt song files\n",
    "* Deciding what happens with missing metadata\n",
    "* Separate artists and album tables...\n",
    "* ...but provide view combining them\n",
    "* Indexing"
   ],
   "metadata": {
    "collapsed": false
   }
  },
  {
   "cell_type": "markdown",
   "source": [
    "#### Summary\n",
    "* What data processing is\n",
    "* Why it's necessary\n",
    "* What is consists in\n",
    "* How we process data at Spotflix"
   ],
   "metadata": {
    "collapsed": false
   }
  }
 ],
 "metadata": {
  "kernelspec": {
   "display_name": "Python 3",
   "language": "python",
   "name": "python3"
  },
  "language_info": {
   "codemirror_mode": {
    "name": "ipython",
    "version": 2
   },
   "file_extension": ".py",
   "mimetype": "text/x-python",
   "name": "python",
   "nbconvert_exporter": "python",
   "pygments_lexer": "ipython2",
   "version": "2.7.6"
  }
 },
 "nbformat": 4,
 "nbformat_minor": 0
}
