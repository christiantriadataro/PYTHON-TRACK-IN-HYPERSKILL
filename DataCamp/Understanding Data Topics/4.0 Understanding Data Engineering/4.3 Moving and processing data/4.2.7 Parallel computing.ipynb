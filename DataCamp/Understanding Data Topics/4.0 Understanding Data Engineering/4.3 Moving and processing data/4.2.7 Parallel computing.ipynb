{
 "cells": [
  {
   "cell_type": "markdown",
   "source": [
    "### Parallel computing"
   ],
   "metadata": {
    "collapsed": false
   }
  },
  {
   "cell_type": "markdown",
   "source": [
    "#### Parallel computing\n",
    "* Basis of modern data processing tools\n",
    "* Necessary:\n",
    "    * Mainly because of memory\n",
    "    * Also for processing power\n",
    "* How it works:\n",
    "    * Split tasks up into several smaller subtasks\n",
    "    * Distribute these subtasks over several computers"
   ],
   "metadata": {
    "collapsed": false
   }
  },
  {
   "cell_type": "markdown",
   "source": [
    "#### Sample Analogy\n",
    "* Making a Music Tshirt Merchandise\n",
    "- Senior can fold 100 shirts in 15 mins\n",
    "- Junior (1) takes 30 mins\n",
    "- Junior (2) takes 30 mins\n",
    "- Junior (3) takes 30 mins\n",
    "- Junior (4) takes 30 mins\n",
    "\n",
    "Senior = 15 * 10 = 2h and 30 mins (15 mins * 10 = 150)\n",
    "(since 1000 / 100 = 100)\n",
    "1000 tshirt / 4 = 250 tshirt for each Junior\n",
    "Junior (1) = 30 * 2.5 = 1h and 15 mins (30 * 2.5 = 75)\n",
    "(since 250 * 2 + 1/2)\n",
    "Junior (2) = 30 * 2.5 = 1h and 15 mins (30 * 2.5 = 75)\n",
    "Junior (3) = 30 * 2.5 = 1h and 15 mins (30 * 2.5 = 75)\n",
    "Junior (4) = 30 * 2.5 = 1h and 15 mins (30 * 2.5 = 75)"
   ],
   "metadata": {
    "collapsed": false
   }
  },
  {
   "cell_type": "markdown",
   "source": [
    "#### Benefits and risks of parallel computing\n",
    "* Employees = processing units\n",
    "* Advantages\n",
    "    * Extra processing power\n",
    "    * Reduced memory footprint\n",
    "* Disadvantages\n",
    "    * Moving data incurs a cost\n",
    "    * Communication time"
   ],
   "metadata": {
    "collapsed": false
   }
  },
  {
   "cell_type": "markdown",
   "source": [
    "#### Continuation of Sample Analogy\n",
    "- Separation of tshirt may take 10 mins\n",
    "- Collecting tshirt and Combining them together may take 10 mins\n",
    "- Overall it can take 1h and 30 mins"
   ],
   "metadata": {
    "collapsed": false
   }
  },
  {
   "cell_type": "markdown",
   "source": [
    "#### Summary\n",
    "* Benefits and risks\n",
    "* How it's implemented at Spotflix\n",
    "*\n",
    "\n",
    "Parallel Computing is just a pros and cons of having multiple computing cores when processing a certain data\n"
   ],
   "metadata": {
    "collapsed": false
   }
  }
 ],
 "metadata": {
  "kernelspec": {
   "display_name": "Python 3",
   "language": "python",
   "name": "python3"
  },
  "language_info": {
   "codemirror_mode": {
    "name": "ipython",
    "version": 2
   },
   "file_extension": ".py",
   "mimetype": "text/x-python",
   "name": "python",
   "nbconvert_exporter": "python",
   "pygments_lexer": "ipython2",
   "version": "2.7.6"
  }
 },
 "nbformat": 4,
 "nbformat_minor": 0
}
