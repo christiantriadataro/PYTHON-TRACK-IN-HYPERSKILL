{
 "cells": [
  {
   "cell_type": "markdown",
   "source": [
    "### Cloud computing"
   ],
   "metadata": {
    "collapsed": false
   }
  },
  {
   "cell_type": "markdown",
   "source": [
    "#### Cloud computing for data processing\n",
    "Servers on premises\n",
    "* Bought\n",
    "* Need space\n",
    "* Electrical and maintenance cost\n",
    "* Enough power for peak moments\n",
    "* Processing power unused at quieter times\n",
    "\n",
    "\n",
    "Servers on the cloud\n",
    "* Rented\n",
    "* Don't need space\n",
    "* Use just the resources we need\n",
    "* When we need them\n",
    "* The closer to the user the better"
   ],
   "metadata": {
    "collapsed": false
   }
  },
  {
   "cell_type": "markdown",
   "source": [
    "#### Cloud computing for data store\n",
    "* Database reliability: data replication\n",
    "* Risk with sensitive data"
   ],
   "metadata": {
    "collapsed": false
   }
  },
  {
   "cell_type": "markdown",
   "source": [
    "#### 3 Big players\n",
    "- Amazon AWS\n",
    "- Microsoft Azure\n",
    "- Google Cloud\n",
    "\n",
    "File Storage\n",
    "- Amazon AWS = AWS S3\n",
    "- Microsoft Azure = Azure Blob Storage\n",
    "- Google Cloud = Google Cloud Storage\n"
   ],
   "metadata": {
    "collapsed": false
   }
  },
  {
   "cell_type": "markdown",
   "source": [
    "<table>\n",
    "<thead>\n",
    "<tr>\n",
    "<td>Players</td><td>File Storage</td><td>Computation</td><td>Databases</td>\n",
    "</tr>\n",
    "</thead>\n",
    "<tbody>\n",
    "\n",
    "<tr><td>Amazon AWS</td><td>AWS S3</td><td>AWS EC2</td><td>AWS RDS</td></tr>\n",
    "<tr><td>Microsoft Azure</td><td>Azure Blob Storage</td><td>Azure Virtual Machines</td><td>Azure SQL Database</td></tr>\n",
    "<tr><td>Google Cloud</td><td>Google Cloud Storage</td><td>Google Compute Engine</td><td>Google Cloud SQL</td></tr>\n",
    "\n",
    "</tbody>\n",
    "</table>"
   ],
   "metadata": {
    "collapsed": false
   }
  },
  {
   "cell_type": "markdown",
   "source": [
    "#### Continuation of Sample Analogy\n",
    "- Separation of tshirt may take 10 mins\n",
    "- Collecting tshirt and Combining them together may take 10 mins\n",
    "- Overall it can take 1h and 30 mins"
   ],
   "metadata": {
    "collapsed": false
   }
  },
  {
   "cell_type": "markdown",
   "source": [
    "#### Multicloud\n",
    "Pros\n",
    "* Reducing reliance on a single vendor\n",
    "* Cost-efficiencies\n",
    "* Local laws requiring certain data to be physically present within the country\n",
    "* Mitigating against disasters\n",
    "\n",
    "Cons\n",
    "* Cloud providers try to lock in consumers\n",
    "* Incompatibility\n",
    "* Security and goverance"
   ],
   "metadata": {
    "collapsed": false
   }
  },
  {
   "cell_type": "markdown",
   "source": [
    "#### Summary\n",
    "* Benefits and risk of cloud computing\n",
    "* How it is implemented at Spotflix\n",
    "* Can cite the main cloud providers and their services"
   ],
   "metadata": {
    "collapsed": false
   }
  }
 ],
 "metadata": {
  "kernelspec": {
   "display_name": "Python 3",
   "language": "python",
   "name": "python3"
  },
  "language_info": {
   "codemirror_mode": {
    "name": "ipython",
    "version": 2
   },
   "file_extension": ".py",
   "mimetype": "text/x-python",
   "name": "python",
   "nbconvert_exporter": "python",
   "pygments_lexer": "ipython2",
   "version": "2.7.6"
  }
 },
 "nbformat": 4,
 "nbformat_minor": 0
}
