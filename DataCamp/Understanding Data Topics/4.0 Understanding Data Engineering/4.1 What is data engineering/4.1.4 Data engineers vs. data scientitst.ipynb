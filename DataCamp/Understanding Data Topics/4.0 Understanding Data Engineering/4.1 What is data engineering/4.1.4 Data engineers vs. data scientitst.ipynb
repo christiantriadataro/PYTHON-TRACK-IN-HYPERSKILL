{
 "cells": [
  {
   "cell_type": "markdown",
   "source": [
    "### Data engineers vs. data scientists"
   ],
   "metadata": {
    "collapsed": false
   }
  },
  {
   "cell_type": "markdown",
   "source": [
    "#### Data workflow\n",
    "- Data Collection & Storage\n",
    "- Data Preparation\n",
    "- Exploration & Visualization\n",
    "- Experimentation & Predict"
   ],
   "metadata": {
    "collapsed": false
   }
  },
  {
   "cell_type": "markdown",
   "source": [
    "Data Engineers\n",
    "- ingest and store the data so it's easily accessible and ready to be analyzed.\n",
    "- lay the groundwork so that make data science activity possible\n",
    "Data Scientists.\n",
    "- intervine on the rest of the workflow, they pprepare the data according to their analysis needs, explore, build insightful visualizations and run experiments or build predictive models."
   ],
   "metadata": {
    "collapsed": false
   }
  },
  {
   "cell_type": "markdown",
   "source": [
    "#### Data engineers enable data scientist\n",
    "* Data engineer\n",
    "- ingest and store data\n",
    "- Set up databases\n",
    "- Build data pipelines\n",
    "- Storing software skills\n",
    "* Data scientist\n",
    "- Exploit data\n",
    "- Access databases\n",
    "- Use pipeline outputs\n",
    "- Strong analytical skills"
   ],
   "metadata": {
    "collapsed": false
   }
  },
  {
   "cell_type": "markdown",
   "source": [
    "#### Summary\n",
    "* At which stages data engineers and data scientist intervene\n",
    "* How data engineers enable data scientists"
   ],
   "metadata": {
    "collapsed": false
   }
  }
 ],
 "metadata": {
  "kernelspec": {
   "display_name": "Python 3",
   "language": "python",
   "name": "python3"
  },
  "language_info": {
   "codemirror_mode": {
    "name": "ipython",
    "version": 2
   },
   "file_extension": ".py",
   "mimetype": "text/x-python",
   "name": "python",
   "nbconvert_exporter": "python",
   "pygments_lexer": "ipython2",
   "version": "2.7.6"
  }
 },
 "nbformat": 4,
 "nbformat_minor": 0
}
