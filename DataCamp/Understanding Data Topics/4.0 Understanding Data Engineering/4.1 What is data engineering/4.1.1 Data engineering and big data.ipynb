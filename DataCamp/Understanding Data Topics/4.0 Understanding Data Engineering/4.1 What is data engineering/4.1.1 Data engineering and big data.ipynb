{
 "cells": [
  {
   "cell_type": "markdown",
   "source": [
    "### Data engineering and big data"
   ],
   "metadata": {
    "collapsed": false
   }
  },
  {
   "cell_type": "markdown",
   "source": [
    "#### About the course\n",
    "- Conceptual course\n",
    "- No coding involved\n",
    "- *Objectives*\n",
    "    * Being able to exchange with data engineers\n",
    "    * Provide a solid foundation to learn more"
   ],
   "metadata": {
    "collapsed": false
   }
  },
  {
   "cell_type": "markdown",
   "source": [
    "#### Chapter 1\n",
    "##### What is data engineering?\n",
    "\n",
    "1. Data engineering and big data\n",
    "2. Data engineers vs. data scientists\n",
    "3. Data pipelines"
   ],
   "metadata": {
    "collapsed": false
   }
  },
  {
   "cell_type": "markdown",
   "source": [
    "#### Chapter 2\n",
    "##### How data storage works\n",
    "\n",
    "1. Structured vs unstructured data\n",
    "2. SQL\n",
    "3. Data warehouse and data lakes"
   ],
   "metadata": {
    "collapsed": false
   }
  },
  {
   "cell_type": "markdown",
   "source": [
    "#### Chapter 3\n",
    "##### How to move and process data\n",
    "1. Processing data\n",
    "2. Scheduling data\n",
    "3. Parallel computing\n",
    "4. Cloud computing"
   ],
   "metadata": {
    "collapsed": false
   }
  },
  {
   "cell_type": "markdown",
   "source": [
    "#### Data workflow\n",
    "- Data Collection & Storage\n",
    "- Data Preparation\n",
    "- Exploration & Visualization\n",
    "- Experimentation & Predict"
   ],
   "metadata": {
    "collapsed": false
   }
  },
  {
   "cell_type": "markdown",
   "source": [
    "#### Data engineers\n",
    "Data engineers deliver:\n",
    "* the correct data\n",
    "* in the right form\n",
    "* to the right people\n",
    "* as efficiently as possible"
   ],
   "metadata": {
    "collapsed": false
   }
  },
  {
   "cell_type": "markdown",
   "source": [
    "#### A data engineer's responsibilities\n",
    "* ingest data from different sources\n",
    "* Optimize databases for analysis\n",
    "* Remove corrupted data\n",
    "* Develop, construct, test and maintain data architectures"
   ],
   "metadata": {
    "collapsed": false
   }
  },
  {
   "cell_type": "markdown",
   "source": [
    "#### Data engineers and big data\n",
    "* Big data becomes the norm => data engineers are more and more needed\n",
    "* Big data:\n",
    "    * Have to think about how to deal with its size\n",
    "    * So large traditional methods don't work anymore"
   ],
   "metadata": {
    "collapsed": false
   }
  },
  {
   "cell_type": "markdown",
   "source": [
    "#### Big data growth\n",
    "* Sensors and devices\n",
    "* Social media\n",
    "* Enterprise data\n",
    "* VoIP (voice communication, multimedia sessions)"
   ],
   "metadata": {
    "collapsed": false
   }
  },
  {
   "cell_type": "markdown",
   "source": [
    "#### The five Vs\n",
    "* Volume (how much?)\n",
    "* Variety (what kind?)\n",
    "* Velocity (how frequent?)\n",
    "* Veracity (how accurate?)\n",
    "* Value (how useful?)"
   ],
   "metadata": {
    "collapsed": false
   }
  },
  {
   "cell_type": "markdown",
   "source": [
    "#### Summary\n",
    "* What's waiting for you\n",
    "* How data flows through an organization\n",
    "* When a data engineer intervenes\n",
    "* What their responsibilities are\n",
    "* How data engineering relates to big data"
   ],
   "metadata": {
    "collapsed": false
   }
  },
  {
   "cell_type": "code",
   "execution_count": null,
   "outputs": [],
   "source": [],
   "metadata": {
    "collapsed": false
   }
  }
 ],
 "metadata": {
  "kernelspec": {
   "display_name": "Python 3",
   "language": "python",
   "name": "python3"
  },
  "language_info": {
   "codemirror_mode": {
    "name": "ipython",
    "version": 2
   },
   "file_extension": ".py",
   "mimetype": "text/x-python",
   "name": "python",
   "nbconvert_exporter": "python",
   "pygments_lexer": "ipython2",
   "version": "2.7.6"
  }
 },
 "nbformat": 4,
 "nbformat_minor": 0
}
