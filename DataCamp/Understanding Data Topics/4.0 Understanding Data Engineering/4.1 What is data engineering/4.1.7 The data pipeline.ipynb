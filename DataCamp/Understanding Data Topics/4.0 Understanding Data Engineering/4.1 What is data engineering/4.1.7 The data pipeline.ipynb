{
 "cells": [
  {
   "cell_type": "markdown",
   "source": [
    "### The data pipeline"
   ],
   "metadata": {
    "collapsed": false
   }
  },
  {
   "cell_type": "markdown",
   "source": [
    "#### If data is the new oil...\n",
    "Steps\n",
    "1. Extract crude oil\n",
    "2. We move the crude oil into a distillation unit, where we separate oil from several products.\n",
    "3. Some products sends directly to final users\n",
    "Example:\n",
    "- some pipes go straight to airports to deliver kerosene\n",
    "- gasoline, gas storage facilities and stored in big tanks. before distributed to gas stations\n",
    "4.\n"
   ],
   "metadata": {
    "collapsed": false
   }
  },
  {
   "cell_type": "markdown",
   "source": [
    "#### Back to data engineering\n",
    "* Ingest\n",
    "* Process\n",
    "* Store\n",
    "* Need pipelines\n",
    "* Automate flow from one station to the next\n",
    "* Provide up-to-date, accurate, relevant data"
   ],
   "metadata": {
    "collapsed": false
   }
  },
  {
   "cell_type": "markdown",
   "source": [
    "#### Example: Spotflix\n",
    "- Mobile Spotflix App\n",
    "- Laptop Spotflix App\n",
    "- Website Spotflix\n",
    "- Website Spotflix for Internals\n",
    "to data lakes\n",
    "\n",
    "then organize the data into databases (pipelines)\n",
    "- artist data (name, no. followers, etc.)\n",
    "- albums data (songs, etc.)\n",
    "    - album pictures (all songs have same album pictures)\n",
    "- tracks data (name, length, etc.)\n",
    "    - checks if the corresponding artist matches the tracks, format, etc.\n",
    "        - clean tracks databases\n",
    "- playlists data (name, songs, date of creation, etc.)\n",
    "- customers data (username, etc.)\n",
    "- employees data (name, salary, reporting manager, etc.)\n",
    "    - sales\n",
    "        - US based\n",
    "        - belgium based\n",
    "        - uk based\n",
    "    - engineering\n",
    "    - support"
   ],
   "metadata": {
    "collapsed": false
   }
  },
  {
   "cell_type": "markdown",
   "source": [
    "#### Data pipelines ensure an efficient flow of the data\n",
    "Automate\n",
    "- Extracting\n",
    "- Transforming\n",
    "- Combining\n",
    "- Validating\n",
    "- Loading\n",
    "\n",
    "Reduce\n",
    "- Human intervention\n",
    "- Errors\n",
    "- Time it takes data to flow"
   ],
   "metadata": {
    "collapsed": false
   }
  },
  {
   "cell_type": "markdown",
   "source": [
    "#### ETL and data pipelines\n",
    "##### ETL\n",
    "* Popular framework for designing data pipelines\n",
    "1. Extract data\n",
    "2. Transform extracted data\n",
    "3. Load transformed data to another database\n",
    "\n",
    "\n",
    "##### Data pipelines\n",
    "* Move data from one system to another\n",
    "* May follow ETL\n",
    "* Data may not be transformed\n",
    "* Data may be directly loaded in applications like Visualization tools or Salesforce"
   ],
   "metadata": {
    "collapsed": false
   }
  },
  {
   "cell_type": "markdown",
   "source": [
    "#### Summary\n",
    "* What a data pipeline is\n",
    "* What is does\n",
    "* Why it's important\n",
    "* How data pipelines are implemented at Spotflix\n",
    "* What ETL is and its nuances"
   ],
   "metadata": {
    "collapsed": false
   }
  }
 ],
 "metadata": {
  "kernelspec": {
   "display_name": "Python 3",
   "language": "python",
   "name": "python3"
  },
  "language_info": {
   "codemirror_mode": {
    "name": "ipython",
    "version": 2
   },
   "file_extension": ".py",
   "mimetype": "text/x-python",
   "name": "python",
   "nbconvert_exporter": "python",
   "pygments_lexer": "ipython2",
   "version": "2.7.6"
  }
 },
 "nbformat": 4,
 "nbformat_minor": 0
}
