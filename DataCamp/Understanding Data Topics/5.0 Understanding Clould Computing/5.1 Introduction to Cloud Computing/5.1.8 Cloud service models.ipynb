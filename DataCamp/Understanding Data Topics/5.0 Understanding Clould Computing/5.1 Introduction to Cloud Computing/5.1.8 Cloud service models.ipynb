{
 "cells": [
  {
   "cell_type": "markdown",
   "source": [
    "#### Cloud service models"
   ],
   "metadata": {
    "collapsed": false
   }
  },
  {
   "cell_type": "markdown",
   "source": [
    "#### Car analogy\n",
    "* On-premise\n",
    "Buying a car\n",
    "\n",
    "* Cloud\n",
    "'Renting' a car"
   ],
   "metadata": {
    "collapsed": false
   }
  },
  {
   "cell_type": "markdown",
   "source": [
    "####\n",
    "* On Premise (Car Owned)\n",
    "- [] Car\n",
    "- [] Maintenance\n",
    "- [] Insurance\n",
    "- [] Cleaning\n",
    "- [] Parking\n",
    "- [] Fuel\n",
    "- [] Driver\n",
    "- [] Route\n",
    "\n",
    "* IaaS - Infrastructure as a Service (Car Rented)\n",
    "- [x] Car\n",
    "- [x] Maintenance\n",
    "- [x] Insurance\n",
    "- [x] Cleaning\n",
    "- [] Parking\n",
    "- [] Fuel\n",
    "- [] Driver\n",
    "- [] Route\n",
    "\n",
    "* PaaS - Platform as a Service (Ride Sharing)\n",
    "- [x] Car\n",
    "- [x] Maintenance\n",
    "- [x] Insurance\n",
    "- [x] Cleaning\n",
    "- [x] Parking\n",
    "- [x] Fuel\n",
    "- [x] Driver\n",
    "- [] Route\n",
    "\n",
    "* SaaS - Software as a Service (Public Transport)\n",
    "- [x] Car\n",
    "- [x] Maintenance\n",
    "- [x] Insurance\n",
    "- [x] Cleaning\n",
    "- [x] Parking\n",
    "- [x] Fuel\n",
    "- [x] Driver\n",
    "- [x] Route"
   ],
   "metadata": {
    "collapsed": false
   }
  },
  {
   "cell_type": "markdown",
   "source": [
    "#### Cloud service models\n",
    "* On Premise\n",
    "- [] Networking\n",
    "- [] Storage\n",
    "- [] Servers\n",
    "- [] Virtualization\n",
    "- [] O/S\n",
    "- [] Middleware\n",
    "- [] Runtime\n",
    "- [] Runtime\n",
    "- [] Data\n",
    "- [] Applications\n",
    "\n",
    "* IaaS (Infrastructure as a Service)\n",
    "- [x] Networking\n",
    "- [x] Storage\n",
    "- [x] Servers\n",
    "- [x] Virtualization\n",
    "- [] O/S\n",
    "- [] Middleware\n",
    "- [] Runtime\n",
    "- [] Runtime\n",
    "- [] Data\n",
    "- [] Applications\n",
    "\n",
    "* PaaS (Platform as a Service)\n",
    "- [x] Networking\n",
    "- [x] Storage\n",
    "- [x] Servers\n",
    "- [x] Virtualization\n",
    "- [x] O/S\n",
    "- [x] Middleware\n",
    "- [x] Runtime\n",
    "- [] Runtime\n",
    "- [] Data\n",
    "- [] Applications\n",
    "\n",
    "* Saas (Software as a Service)\n",
    "- [x] Networking\n",
    "- [x] Storage\n",
    "- [x] Servers\n",
    "- [x] Virtualization\n",
    "- [x] O/S\n",
    "- [x] Middleware\n",
    "- [x] Runtime\n",
    "- [x] Runtime\n",
    "- [x] Data\n",
    "- [x] Applications"
   ],
   "metadata": {
    "collapsed": false
   }
  },
  {
   "cell_type": "markdown",
   "source": [
    "#### Cloud service models\n",
    "<table>\n",
    "<thead>\n",
    "<tr><th></th><th>IaaS</th><th>PaaS</th><th>SaaS</th></tr>\n",
    "</thead>\n",
    "<tbody>\n",
    "<tr><td>Definition</td>\n",
    "<td>Cloud-based alternative to on-premise infrastructure</td>\n",
    "<td>Hardware and software tools over the internet used to develop applications</td>\n",
    "<td>Software available over the internet, usually for a monthly subscription fee</td>\n",
    "</tr>\n",
    "<tr><td>Advantages</td>\n",
    "<td>Scalable alternative to expensive on-premise infrastructure</td>\n",
    "<td>Developers don't need to start from scratch when creating applications</td>\n",
    "<td>No need to install software on your computer</td>\n",
    "</tr>\n",
    "<tr><td>Users</td>\n",
    "<td>Systems admins</td>\n",
    "<td>Developers</td>\n",
    "<td>End customers</td>\n",
    "</tr>\n",
    "<tr><td>Examples</td>\n",
    "<td>Cloud server from e.g. Google Compute Engine, Microsoft Azure, Amazon Web Services</td>\n",
    "<td>Web apps, logic apps e.g. Google App Engine, Windows Azure, AWS Elastic Beanstalk</td>\n",
    "<td>Internet applications e.g. Google G Suite, Microsoft Office 365, Dropbox</td>\n",
    "</tr>\n",
    "</tbody>\n",
    "</table>"
   ],
   "metadata": {
    "collapsed": false
   }
  },
  {
   "cell_type": "markdown",
   "source": [
    "#### The cloud pyramid\n",
    "                Control\n",
    "^       SaaS        |\n",
    "|       PaaS        |\n",
    "|       IaaS        v\n",
    "Abstraction"
   ],
   "metadata": {
    "collapsed": false
   }
  },
  {
   "cell_type": "markdown",
   "source": [
    "#### Other cloud service model\n",
    "* FaaS (Function as a Service)\n",
    "    - Variation on SaaS\n",
    "    - Focuses on a function (part of the software)\n",
    "    - e.g., identity authentication, payment transactions\n",
    "    - Uses a 'serverless' billing model"
   ],
   "metadata": {
    "collapsed": false
   }
  },
  {
   "cell_type": "markdown",
   "source": [
    "#### Other service models\n",
    "* Hardware as a Service (HaaS)\n",
    "* Storage as a Service (SaaS)\n",
    "* Database as a Service (DBaaS)\n",
    "* Disaster Recovery as a Service (DRaaS)\n",
    "* Network as a Service (NaaS)\n",
    "* ...\n",
    "\n",
    "= XaaS (Anything as a Service)"
   ],
   "metadata": {
    "collapsed": false
   }
  },
  {
   "cell_type": "code",
   "execution_count": null,
   "outputs": [],
   "source": [],
   "metadata": {
    "collapsed": false
   }
  }
 ],
 "metadata": {
  "kernelspec": {
   "display_name": "Python 3",
   "language": "python",
   "name": "python3"
  },
  "language_info": {
   "codemirror_mode": {
    "name": "ipython",
    "version": 2
   },
   "file_extension": ".py",
   "mimetype": "text/x-python",
   "name": "python",
   "nbconvert_exporter": "python",
   "pygments_lexer": "ipython2",
   "version": "2.7.6"
  }
 },
 "nbformat": 4,
 "nbformat_minor": 0
}
