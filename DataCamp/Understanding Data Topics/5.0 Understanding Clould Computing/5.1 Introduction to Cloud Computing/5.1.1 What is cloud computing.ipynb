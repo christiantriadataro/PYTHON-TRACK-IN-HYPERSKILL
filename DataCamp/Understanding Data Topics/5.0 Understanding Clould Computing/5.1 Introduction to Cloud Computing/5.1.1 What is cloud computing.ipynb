{
 "cells": [
  {
   "cell_type": "markdown",
   "source": [
    "#### What is cloud computing?"
   ],
   "metadata": {
    "collapsed": false
   }
  },
  {
   "cell_type": "markdown",
   "source": [
    "#### The importance of the cloud"
   ],
   "metadata": {
    "collapsed": false
   }
  },
  {
   "cell_type": "markdown",
   "source": [
    "#### Cloud computing definition\n",
    "Cloud computing is the delivery of technology services - including compute, storage, databases, networking, software and many more - over the internet with pay-as-you-go pricing."
   ],
   "metadata": {
    "collapsed": false
   }
  },
  {
   "cell_type": "markdown",
   "source": [
    "#### Hosting a website using on-premise server\n",
    "* Server\n",
    "    * powerful computer\n",
    "    * you can connect to remotely\n",
    "    * Located on the premises\n",
    "    As time goes by\n",
    "    * More people start using the website\n",
    "    * Buy/rent new servers\n",
    "        * Take time to set up\n",
    "        * Cost a lot of money"
   ],
   "metadata": {
    "collapsed": false
   }
  },
  {
   "cell_type": "markdown",
   "source": [
    "#### Hosting a website using a cloud server\n",
    "* Cloud server\n",
    "* Access to computing power instantly when you need it\n",
    "As time goes by\n",
    "* More people start using the website\n",
    "* Access more cloud servers\n",
    "* Easily release redundant cloud servers\n",
    "* Pay-as-you-go billing"
   ],
   "metadata": {
    "collapsed": false
   }
  },
  {
   "cell_type": "markdown",
   "source": [
    "#### Cloud computing vs. on-premise\n",
    "Cloud\n",
    "* Scalable\n",
    "* Fast set-up speed\n",
    "* Pay-as-you-go\n",
    "\n",
    "On-premise\n",
    "* Less scalable\n",
    "* Takes time to set up\n",
    "* Ongoing costs\n",
    "\n",
    "NOTE: The best solution depends on the use case!"
   ],
   "metadata": {
    "collapsed": false
   }
  },
  {
   "cell_type": "markdown",
   "source": [
    "#### Other uses of cloud computing\n",
    "* Store, back up, and recover data\n",
    "* Create cloud-native applications\n",
    "* Stream audio and video\n",
    "* Deliver software on demand\n",
    "* Analyze data\n",
    "* Embed artificial intelligence models\n",
    "* ..."
   ],
   "metadata": {
    "collapsed": false
   }
  },
  {
   "cell_type": "markdown",
   "source": [
    "#### Cloud computing companies\n",
    "- IBM\n",
    "- Netflix\n",
    "- Zoom\n",
    "- Salesforce\n",
    "- Slack\n",
    "- Google"
   ],
   "metadata": {
    "collapsed": false
   }
  },
  {
   "cell_type": "markdown",
   "source": [],
   "metadata": {
    "collapsed": false
   }
  }
 ],
 "metadata": {
  "kernelspec": {
   "display_name": "Python 3",
   "language": "python",
   "name": "python3"
  },
  "language_info": {
   "codemirror_mode": {
    "name": "ipython",
    "version": 2
   },
   "file_extension": ".py",
   "mimetype": "text/x-python",
   "name": "python",
   "nbconvert_exporter": "python",
   "pygments_lexer": "ipython2",
   "version": "2.7.6"
  }
 },
 "nbformat": 4,
 "nbformat_minor": 0
}
