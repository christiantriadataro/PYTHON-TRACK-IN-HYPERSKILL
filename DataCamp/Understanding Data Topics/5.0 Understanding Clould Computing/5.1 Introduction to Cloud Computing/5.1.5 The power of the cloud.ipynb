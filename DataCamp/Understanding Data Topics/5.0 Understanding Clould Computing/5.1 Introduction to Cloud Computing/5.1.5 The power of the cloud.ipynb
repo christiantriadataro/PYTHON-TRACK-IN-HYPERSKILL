{
 "cells": [
  {
   "cell_type": "markdown",
   "source": [
    "#### What is cloud computing?"
   ],
   "metadata": {
    "collapsed": false
   }
  },
  {
   "cell_type": "markdown",
   "source": [
    "#### Cloud computing definition\n",
    "Cloud computing is the delivery of technology services - including compute, storage, databases, networking, software and many more - over the internet with pay-as-you-go pricing.\n",
    "\n",
    "* **Compute**: provide the brains to process your workload\n",
    "* **Storage**: save and store data\n",
    "* **Databases**: store more structured sets of data"
   ],
   "metadata": {
    "collapsed": false
   }
  },
  {
   "cell_type": "markdown",
   "source": [
    "#### Cloud computing characteristics\n",
    "* Virtualization\n",
    "* Scalability\n",
    "* Cost\n",
    "* Speed Performance\n",
    "* Growth\n",
    "* Reliability\n",
    "* Security"
   ],
   "metadata": {
    "collapsed": false
   }
  },
  {
   "cell_type": "markdown",
   "source": [
    "#### Virtualization\n",
    "Fundamental technology that powers cloud computing\n",
    "* Physical server -> multiple virtual servers\n",
    "* Maximizes the output of individual servers\n",
    "* Economies of scale"
   ],
   "metadata": {
    "collapsed": false
   }
  },
  {
   "cell_type": "markdown",
   "source": [
    "#### Scalability\n",
    "Easily add and remove resources as you need them\n",
    "* Example: e-commerce site\n",
    "* Needs more resources during peak times\n",
    "* Scale resources as necessary"
   ],
   "metadata": {
    "collapsed": false
   }
  },
  {
   "cell_type": "markdown",
   "source": [
    "#### Two types of Scaling\n",
    "Vertical Scaling - increase the power of the instance\n",
    "(allows you to change the power of your existing instance, more powerful server for example)\n",
    "Horizontal Scaling - add more instances\n",
    "(simply increasing number of instance you're using, sharing the workload across multiple devices).\n",
    "parallel computing"
   ],
   "metadata": {
    "collapsed": false
   }
  },
  {
   "cell_type": "markdown",
   "source": [
    "#### Cost\n",
    "Only pay for resources when you are using them\n",
    "* Pay-as-you-go\n",
    "* No capital expenses of:\n",
    "    - Buying hardware and software\n",
    "    - Managing on-site infrastructure"
   ],
   "metadata": {
    "collapsed": false
   }
  },
  {
   "cell_type": "markdown",
   "source": [
    "#### Speed\n",
    "Immediate access to ready-to-go cloud resources\n",
    "* On-demand resourcing\n",
    "* Fast set-up time\n",
    "* Deploy services in a matter of minutes"
   ],
   "metadata": {
    "collapsed": false
   }
  },
  {
   "cell_type": "markdown",
   "source": [
    "#### Performance\n",
    "Access to fast and efficient computing resources\n",
    "* `Data center`: houses an organization's IT operations and equipment\n",
    "* Cloud gives access to:\n",
    "    - Worldwide network of data centers\n",
    "    - Fast and efficient computing hardware"
   ],
   "metadata": {
    "collapsed": false
   }
  },
  {
   "cell_type": "markdown",
   "source": [
    "#### Growth\n",
    "Grow using a wide range of resources and services\n",
    "* On-demand resourcing limits growth constraints\n",
    "* Provision resources across a global network"
   ],
   "metadata": {
    "collapsed": false
   }
  },
  {
   "cell_type": "markdown",
   "source": [
    "#### Reliability\n",
    "Guaranteed durability and availability of data and services\n",
    "* Data is duplicated across data centers\n",
    "* Availability is ensured even in cases of natural disasters"
   ],
   "metadata": {
    "collapsed": false
   }
  },
  {
   "cell_type": "markdown",
   "source": [
    "#### Security\n",
    "Secure storage and management of your data\n",
    "* External party responsible for security\n",
    "* Particularly risky for businesses in highly regulated sectors\n",
    "* Cloud is becoming more and more secure"
   ],
   "metadata": {
    "collapsed": false
   }
  }
 ],
 "metadata": {
  "kernelspec": {
   "display_name": "Python 3",
   "language": "python",
   "name": "python3"
  },
  "language_info": {
   "codemirror_mode": {
    "name": "ipython",
    "version": 2
   },
   "file_extension": ".py",
   "mimetype": "text/x-python",
   "name": "python",
   "nbconvert_exporter": "python",
   "pygments_lexer": "ipython2",
   "version": "2.7.6"
  }
 },
 "nbformat": 4,
 "nbformat_minor": 0
}
