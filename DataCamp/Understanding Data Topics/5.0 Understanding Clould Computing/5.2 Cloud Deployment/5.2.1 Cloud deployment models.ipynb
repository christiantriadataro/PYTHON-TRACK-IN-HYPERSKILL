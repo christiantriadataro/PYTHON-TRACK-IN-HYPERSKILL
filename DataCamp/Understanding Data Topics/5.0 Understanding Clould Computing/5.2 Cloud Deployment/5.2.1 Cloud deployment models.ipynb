{
 "cells": [
  {
   "cell_type": "markdown",
   "source": [
    "#### What is cloud computing?"
   ],
   "metadata": {
    "collapsed": false
   }
  },
  {
   "cell_type": "markdown",
   "source": [
    "#### Cloud deployment models\n",
    "* Important decision in cloud adoption\n",
    "* How much control do you need over your cloud environment?\n",
    "* Three main types: private, public, and hybrid"
   ],
   "metadata": {
    "collapsed": false
   }
  },
  {
   "cell_type": "markdown",
   "source": [
    "#### Private cloud\n",
    "Cloud infrastructure is designated for exclusive use by its tenants.\n",
    "\n",
    "Private clouds are accessed by a network link.\n",
    "\n",
    "Pros: Direct control of resources and data\n",
    "Cons: More upfront investment\n",
    "\n",
    "Unlike on-premise, private cloud uses virtualization for on-demand compute resource and can be off-premises."
   ],
   "metadata": {
    "collapsed": false
   }
  },
  {
   "cell_type": "markdown",
   "source": [
    "#### Public cloud\n",
    "Cloud infrastructure is shared and open for use by the general public. It's owned and managed by a cloud service provider.\n",
    "\n",
    "Public clouds are Internet accessible.\n",
    "\n",
    "Pros:\n",
    "* Get started quickly with minimal investment\n",
    "* Easier to scale\n",
    "\n",
    "Cons: No access to data center and hardware"
   ],
   "metadata": {
    "collapsed": false
   }
  },
  {
   "cell_type": "markdown",
   "source": [
    "#### Hybrid cloud\n",
    "Organization uses a combination of two or more distinct models.\n",
    "\n",
    "* Use cases:\n",
    "* Store sensitive data on the private cloud and use application on public cloud for analytics\n",
    "\n",
    "* Cloud bursting: when private cloud hits capacity, temporarily move overflow to the public cloud to avoid disruption of service"
   ],
   "metadata": {
    "collapsed": false
   }
  },
  {
   "cell_type": "markdown",
   "source": [
    "#### Other deployment models"
   ],
   "metadata": {
    "collapsed": false
   }
  },
  {
   "cell_type": "markdown",
   "source": [],
   "metadata": {
    "collapsed": false
   }
  }
 ],
 "metadata": {
  "kernelspec": {
   "display_name": "Python 3",
   "language": "python",
   "name": "python3"
  },
  "language_info": {
   "codemirror_mode": {
    "name": "ipython",
    "version": 2
   },
   "file_extension": ".py",
   "mimetype": "text/x-python",
   "name": "python",
   "nbconvert_exporter": "python",
   "pygments_lexer": "ipython2",
   "version": "2.7.6"
  }
 },
 "nbformat": 4,
 "nbformat_minor": 0
}
