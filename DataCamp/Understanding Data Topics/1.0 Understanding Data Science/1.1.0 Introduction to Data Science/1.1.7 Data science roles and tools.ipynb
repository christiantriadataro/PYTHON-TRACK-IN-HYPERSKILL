{
 "cells": [
  {
   "cell_type": "markdown",
   "source": [
    "# Understanding Data Science"
   ],
   "metadata": {
    "collapsed": false
   }
  },
  {
   "cell_type": "markdown",
   "source": [
    "## Introduction to Data Science"
   ],
   "metadata": {
    "collapsed": false
   }
  },
  {
   "cell_type": "markdown",
   "source": [
    "### Data science roles and tools"
   ],
   "metadata": {
    "collapsed": false
   }
  },
  {
   "cell_type": "markdown",
   "source": [
    "#### Jobs in Data Science\n",
    "- Data Engineer\n",
    "- Data Analyst\n",
    "- Data Scientist\n",
    "- Machine learning Scientist"
   ],
   "metadata": {
    "collapsed": false
   }
  },
  {
   "cell_type": "markdown",
   "source": [
    "#### Data Engineer\n",
    "* Information architects\n",
    "* Build data pipelines and storage solutions\n",
    "* Maintain data access\n",
    "\n",
    "within the data science workflow, they focus on the first stage: data collection & storage."
   ],
   "metadata": {
    "collapsed": false
   }
  },
  {
   "cell_type": "markdown",
   "source": [
    "#### Data engineering tools\n",
    "* SQL\n",
    "  - To store and organize data\n",
    "* Java, Scala, or Python\n",
    "  - Programming languages to process data\n",
    "* Shell\n",
    "  - Command line to automate and run tasks\n",
    "* Cloud computing\n",
    "  - AWS, Azure, Google Cloud Platform"
   ],
   "metadata": {
    "collapsed": false
   }
  },
  {
   "cell_type": "markdown",
   "source": [
    "#### Data analyst\n",
    "* Perform simpler analyses that describe data\n",
    "* Create reports and dashboards to summarize data\n",
    "* Clear data for analysis\n",
    "\n",
    "within the data science workflow, they focus on the two stages: data preparation & exploration and visualization."
   ],
   "metadata": {
    "collapsed": false
   }
  },
  {
   "cell_type": "markdown",
   "source": [
    "#### Data analyst tools\n",
    "* SQL\n",
    "  - Retrieve and aggregate data\n",
    "* Spreadsheets (Excel or Google Sheets)\n",
    "  - Simple analysis\n",
    "* BI tools (Tableau, Power BI, Looker)\n",
    "  - Dashboards and Visualizations\n",
    "* May have: Python or R\n",
    "  - Clean and analyze data"
   ],
   "metadata": {
    "collapsed": false
   }
  },
  {
   "cell_type": "markdown",
   "source": [
    "#### Data scientist\n",
    "* Versed in statistical methods\n",
    "* Run experiments and analyses for insights\n",
    "* Traditional machine learning\n",
    "\n",
    "within the workflow, they focus on the three stages: Data Preparation, Exploration & Visualization, and Experimentation & Prediction"
   ],
   "metadata": {
    "collapsed": false
   }
  },
  {
   "cell_type": "markdown",
   "source": [
    "#### Data scientist tools\n",
    "* SQL\n",
    "  - Retrieve and aggregate data\n",
    "* Python and/or R\n",
    "  - Data science libraries, e.g., `pandas` (Python) and `tidyverse` (R)"
   ],
   "metadata": {
    "collapsed": false
   }
  },
  {
   "cell_type": "markdown",
   "source": [
    "#### Machine learning scientist\n",
    "* Predictions and extrapolations\n",
    "* Classification\n",
    "* Deep learning\n",
    "  - Image processing\n",
    "  - Natural language processing\n",
    "\n",
    "within the workflow, they do the last three stages: Data Preparation, Exploration & Visualization, and Experimentation & Prediction with focus on prediction."
   ],
   "metadata": {
    "collapsed": false
   }
  },
  {
   "cell_type": "markdown",
   "source": [
    "#### Machine learning tools\n",
    "* Python and/or R\n",
    "  - Machine learning libraries, e.g., TensorFlow or Spark"
   ],
   "metadata": {
    "collapsed": false
   }
  },
  {
   "cell_type": "markdown",
   "source": [
    "<table>\n",
    "    <thead>\n",
    "        <tr>\n",
    "            <td>Data Engineer</td>\n",
    "            <td>Data Analyst</td>\n",
    "            <td>Data Scientist</td>\n",
    "            <td>Machine Learning Scientist</td>\n",
    "        </tr>\n",
    "    </thead>\n",
    "    <tbody>\n",
    "        <tr>\n",
    "            <td>Store and maintain data</td>\n",
    "            <td>Visualize and describe data</td>\n",
    "            <td>Gain insights from data</td>\n",
    "            <td>Predict with data</td>\n",
    "        </tr>\n",
    "        <tr>\n",
    "            <td>SQL + Java/Scala/Python</td>\n",
    "            <td>SQL + BI Tools + Spreadsheets</td>\n",
    "            <td>Python/R</td>\n",
    "            <td>Python/R</td>\n",
    "        </tr>\n",
    "    </tbody>\n",
    "</table>"
   ],
   "metadata": {
    "collapsed": false
   }
  },
  {
   "cell_type": "markdown",
   "source": [],
   "metadata": {
    "collapsed": false
   }
  }
 ],
 "metadata": {
  "kernelspec": {
   "display_name": "Python 3",
   "language": "python",
   "name": "python3"
  },
  "language_info": {
   "codemirror_mode": {
    "name": "ipython",
    "version": 2
   },
   "file_extension": ".py",
   "mimetype": "text/x-python",
   "name": "python",
   "nbconvert_exporter": "python",
   "pygments_lexer": "ipython2",
   "version": "2.7.6"
  }
 },
 "nbformat": 4,
 "nbformat_minor": 0
}
