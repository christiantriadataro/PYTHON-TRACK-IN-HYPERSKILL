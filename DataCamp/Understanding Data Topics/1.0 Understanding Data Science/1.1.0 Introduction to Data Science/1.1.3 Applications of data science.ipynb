{
 "cells": [
  {
   "cell_type": "markdown",
   "source": [
    "# Understanding Data Science"
   ],
   "metadata": {
    "collapsed": false
   }
  },
  {
   "cell_type": "markdown",
   "source": [
    "## Introduction to Data Science"
   ],
   "metadata": {
    "collapsed": false
   }
  },
  {
   "cell_type": "markdown",
   "source": [
    "### Applications of data science"
   ],
   "metadata": {
    "collapsed": false
   }
  },
  {
   "cell_type": "markdown",
   "source": [
    "#### More case studies\n",
    "* Traditional machine learning\n",
    "* Internet of Things (IoT)\n",
    "* Deep learning"
   ],
   "metadata": {
    "collapsed": false
   }
  },
  {
   "cell_type": "markdown",
   "source": [
    "#### Case study: fraud detection\n",
    "amount data location ... dataset"
   ],
   "metadata": {
    "collapsed": false
   }
  },
  {
   "cell_type": "markdown",
   "source": [
    "#### What do we need for machine learning?\n",
    "* A well-defined question\n",
    "  + \"What is the probability that this transaction is fraudulent?\n",
    "* A set of example data\n",
    "  + Old transactions labeled as \"fraudulent\" or \"valid\"\n",
    "* A new set of data to use our algorithm on\n",
    "  + New credit card transactions"
   ],
   "metadata": {
    "collapsed": false
   }
  },
  {
   "cell_type": "markdown",
   "source": [
    "#### Case study: smart watch\n",
    "use accelerometer data as representing two states: walking and running"
   ],
   "metadata": {
    "collapsed": false
   }
  },
  {
   "cell_type": "markdown",
   "source": [
    "#### Internet of Things (IoT)\n",
    "Refers to gadgets that aren't standard computers\n",
    "* Smart watches\n",
    "* Internet-connected home security systems\n",
    "* Electronic toll collection systems\n",
    "* Building energy management system\n",
    "* Much, much more!"
   ],
   "metadata": {
    "collapsed": false
   }
  },
  {
   "cell_type": "markdown",
   "source": [
    "#### Case study: image recognition\n"
   ],
   "metadata": {
    "collapsed": false
   }
  },
  {
   "cell_type": "markdown",
   "source": [
    "#### Deep learning\n",
    "* Many neurons work together\n",
    "* Requires much more training data\n",
    "* Used in complex problems\n",
    "  + Image classification\n",
    "  + Language learning/understanding"
   ],
   "metadata": {
    "collapsed": false
   }
  },
  {
   "cell_type": "markdown",
   "source": [],
   "metadata": {
    "collapsed": false
   }
  }
 ],
 "metadata": {
  "kernelspec": {
   "display_name": "Python 3",
   "language": "python",
   "name": "python3"
  },
  "language_info": {
   "codemirror_mode": {
    "name": "ipython",
    "version": 2
   },
   "file_extension": ".py",
   "mimetype": "text/x-python",
   "name": "python",
   "nbconvert_exporter": "python",
   "pygments_lexer": "ipython2",
   "version": "2.7.6"
  }
 },
 "nbformat": 4,
 "nbformat_minor": 0
}
