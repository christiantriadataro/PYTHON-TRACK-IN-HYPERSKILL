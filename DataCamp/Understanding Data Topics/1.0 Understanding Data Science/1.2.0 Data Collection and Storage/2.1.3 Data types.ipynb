{
 "cells": [
  {
   "cell_type": "markdown",
   "source": [
    "# Understanding Data Science"
   ],
   "metadata": {
    "collapsed": false
   }
  },
  {
   "cell_type": "markdown",
   "source": [
    "## Introduction to Data Science"
   ],
   "metadata": {
    "collapsed": false
   }
  },
  {
   "cell_type": "markdown",
   "source": [
    "### Data types"
   ],
   "metadata": {
    "collapsed": false
   }
  },
  {
   "cell_type": "markdown",
   "source": [
    "#### Why care about data types?\n",
    "* Important later on when:\n",
    "  + Storing the data\n",
    "  + Visualizing/analyzing the data"
   ],
   "metadata": {
    "collapsed": false
   }
  },
  {
   "cell_type": "markdown",
   "source": [
    "#### Quantitative vs qualitative data\n",
    "Quantitative data\n",
    "* Deals with numbers\n",
    "* Data can be measured\n",
    "\n",
    "Qualitative data\n",
    "* Deals with descriptions\n",
    "* Data can be observed but not measured"
   ],
   "metadata": {
    "collapsed": false
   }
  },
  {
   "cell_type": "markdown",
   "source": [
    "#### Quantitative data\n",
    "* is 60 inches tall\n",
    "* Has 2 apples in it\n",
    "* Cost $1000\n",
    "\n",
    "#### Qualitative data\n",
    "* is red\n",
    "* was built in Italy\n",
    "* Smells like fish"
   ],
   "metadata": {
    "collapsed": false
   }
  },
  {
   "cell_type": "markdown",
   "source": [
    "#### Other data types\n",
    "* Image data\n",
    "* Text data\n",
    "* Geospatial data\n",
    "* Network data\n",
    "* ...\n"
   ],
   "metadata": {
    "collapsed": false
   }
  },
  {
   "cell_type": "markdown",
   "source": [
    "#### Other data types: Image data"
   ],
   "metadata": {
    "collapsed": false
   }
  },
  {
   "cell_type": "markdown",
   "source": [
    "#### Other data types: Text data"
   ],
   "metadata": {
    "collapsed": false
   }
  },
  {
   "cell_type": "markdown",
   "source": [
    "#### Other data types: Geospatial data\n",
    "Data source\n",
    "Street data\n",
    "Buildings data\n",
    "Vegetation data\n",
    "Integrated data"
   ],
   "metadata": {
    "collapsed": false
   }
  },
  {
   "cell_type": "markdown",
   "source": [
    "#### Other data types: Network data"
   ],
   "metadata": {
    "collapsed": false
   }
  },
  {
   "cell_type": "markdown",
   "source": [
    "#### Recap\n",
    "* Quantitative data\n",
    "* Qualitative data\n",
    "* Image data\n",
    "* Text data\n",
    "* Geospatial data\n",
    "* Network data"
   ],
   "metadata": {
    "collapsed": false
   }
  }
 ],
 "metadata": {
  "kernelspec": {
   "display_name": "Python 3",
   "language": "python",
   "name": "python3"
  },
  "language_info": {
   "codemirror_mode": {
    "name": "ipython",
    "version": 2
   },
   "file_extension": ".py",
   "mimetype": "text/x-python",
   "name": "python",
   "nbconvert_exporter": "python",
   "pygments_lexer": "ipython2",
   "version": "2.7.6"
  }
 },
 "nbformat": 4,
 "nbformat_minor": 0
}
