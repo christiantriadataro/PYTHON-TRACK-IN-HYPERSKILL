{
 "cells": [
  {
   "cell_type": "markdown",
   "source": [
    "# Understanding Data Science"
   ],
   "metadata": {
    "collapsed": false
   }
  },
  {
   "cell_type": "markdown",
   "source": [
    "## Introduction to Data Science"
   ],
   "metadata": {
    "collapsed": false
   }
  },
  {
   "cell_type": "markdown",
   "source": [
    "### Data Pipelines"
   ],
   "metadata": {
    "collapsed": false
   }
  },
  {
   "cell_type": "markdown",
   "source": [
    "#### How do we scale?\n",
    "More than one data source:\n",
    "* Public records\n",
    "* APIs\n",
    "* Databases\n",
    "\n",
    "Different data types:\n",
    "* Unstructured data\n",
    "* Tabular data\n",
    "* Real-time streaming data e.g., tweets"
   ],
   "metadata": {
    "collapsed": false
   }
  },
  {
   "cell_type": "markdown",
   "source": [
    "#### What is a data pipelines?\n",
    "* Moves data into defined stages\n",
    "* Automated collection and storage\n",
    "  - Scheduled hourly, daily, weekly, etc\n",
    "  - Triggered by an event\n",
    "* Monitored with generated alerts\n",
    "* Necessary for big data projects\n",
    "* Data engineers work to customize solutions\n",
    "* Extract Transform Load (ETL)"
   ],
   "metadata": {
    "collapsed": false
   }
  },
  {
   "cell_type": "markdown",
   "source": [
    "#### Case study: smart home\n",
    "<table>\n",
    "    <thead>\n",
    "    <tr>\n",
    "        <td>Data</td>\n",
    "        <td>Source</td>\n",
    "        <td>Frequency</td>\n",
    "    </tr>\n",
    "    </thead>\n",
    "    <tbody>\n",
    "    <tr>\n",
    "        <td>Weather conditions</td>\n",
    "        <td>National Weather Service API</td>\n",
    "        <td>Every 30 minutes</td>\n",
    "    </tr>\n",
    "    <tr>\n",
    "        <td>Tweets in your area</td>\n",
    "        <td>Twitter APi</td>\n",
    "        <td>Real-time stream</td>\n",
    "    </tr>\n",
    "    <tr>\n",
    "        <td>Indoor temperature</td>\n",
    "        <td>Smart home thermostat</td>\n",
    "        <td>Every 5 minutes</td>\n",
    "    </tr>\n",
    "    <tr>\n",
    "        <td>Status of lights</td>\n",
    "        <td>Smart light bulbs</td>\n",
    "        <td>Every minute</td>\n",
    "    </tr>\n",
    "    <tr>\n",
    "        <td>Status of locks</td>\n",
    "        <td>Smart door locks</td>\n",
    "        <td>Every 15 seconds</td>\n",
    "    </tr>\n",
    "    <tr>\n",
    "        <td>Energy consumption\n",
    "        <td>Smart meter</td>\n",
    "        <td>Weekly</td>\n",
    "    </tr>\n",
    "    </tbody>\n",
    "</table>"
   ],
   "metadata": {
    "collapsed": false
   }
  },
  {
   "cell_type": "markdown",
   "source": [
    "#### Extract"
   ],
   "metadata": {
    "collapsed": false
   }
  },
  {
   "cell_type": "markdown",
   "source": [
    "#### Transform\n",
    "with all the data coming in, how do we keep it organized and easy to use?\n",
    "* Joining data sources into one data set\n",
    "* Converting data structures to fit database schemas\n",
    "* Removing irrelevant data\n",
    "Data preparation and exploration does not occur at this stage"
   ],
   "metadata": {
    "collapsed": false
   }
  },
  {
   "cell_type": "markdown",
   "source": [
    "#### Load\n"
   ],
   "metadata": {
    "collapsed": false
   }
  },
  {
   "cell_type": "markdown",
   "source": [
    "#### Automation\n",
    "Airflow"
   ],
   "metadata": {
    "collapsed": false
   }
  },
  {
   "cell_type": "code",
   "execution_count": null,
   "outputs": [],
   "source": [],
   "metadata": {
    "collapsed": false
   }
  }
 ],
 "metadata": {
  "kernelspec": {
   "display_name": "Python 3",
   "language": "python",
   "name": "python3"
  },
  "language_info": {
   "codemirror_mode": {
    "name": "ipython",
    "version": 2
   },
   "file_extension": ".py",
   "mimetype": "text/x-python",
   "name": "python",
   "nbconvert_exporter": "python",
   "pygments_lexer": "ipython2",
   "version": "2.7.6"
  }
 },
 "nbformat": 4,
 "nbformat_minor": 0
}
