{
 "cells": [
  {
   "cell_type": "markdown",
   "source": [
    "# Understanding Data Science"
   ],
   "metadata": {
    "collapsed": false
   }
  },
  {
   "cell_type": "markdown",
   "source": [
    "## Introduction to Data Science"
   ],
   "metadata": {
    "collapsed": false
   }
  },
  {
   "cell_type": "markdown",
   "source": [
    "### Data storage and retrieval"
   ],
   "metadata": {
    "collapsed": false
   }
  },
  {
   "cell_type": "markdown",
   "source": [
    "#### The data science workflow\n",
    "- Data Collection & Storage"
   ],
   "metadata": {
    "collapsed": false
   }
  },
  {
   "cell_type": "markdown",
   "source": [
    "#### Things to consider when storing data\n",
    "* Location\n",
    "* Data type\n",
    "* Retrieval"
   ],
   "metadata": {
    "collapsed": false
   }
  },
  {
   "cell_type": "markdown",
   "source": [
    "#### Location: Parallel storage solutions"
   ],
   "metadata": {
    "collapsed": false
   }
  },
  {
   "cell_type": "markdown",
   "source": [
    "#### Location: The cloud\n",
    "- Google Cloud/AWS/Microsoft Azure"
   ],
   "metadata": {
    "collapsed": false
   }
  },
  {
   "cell_type": "markdown",
   "source": [
    "#### Types of data storage\n",
    "Unstructured\n",
    "* Email\n",
    "* Text\n",
    "* Video and audio files\n",
    "* Web pages\n",
    "* Social media\n",
    "\n",
    "Document Database"
   ],
   "metadata": {
    "collapsed": false
   }
  },
  {
   "cell_type": "markdown",
   "source": [
    "Tabular\n",
    "<table>\n",
    "    <thead>\n",
    "    <tr>\n",
    "        <td>Customer Name</td>\n",
    "        <td>Customer Address</td>\n",
    "    </tr>\n",
    "    </thead>\n",
    "    <tbody>\n",
    "    <tr>\n",
    "        <td>Jane Doe</td>\n",
    "        <td>123 Maple St.</td>\n",
    "    </tr>\n",
    "    </tbody>\n",
    "</table>\n",
    "\n",
    "Relational Database"
   ],
   "metadata": {
    "collapsed": false
   }
  },
  {
   "cell_type": "markdown",
   "source": [
    "#### Retrieval: Data querying\n",
    "<table>\n",
    "    <thead>\n",
    "    <tr>\n",
    "        <td>Data type</td>\n",
    "        <td>Query Langauge</td>\n",
    "    </tr>\n",
    "    </thead>\n",
    "    <tbody>\n",
    "    <tr>\n",
    "        <td>Document Database</td>\n",
    "        <td>NoSQL</td>\n",
    "    </tr>\n",
    "    <tr>\n",
    "        <td>Relational Database</td>\n",
    "        <td>SQL</td>\n",
    "    </tr>\n",
    "    </tbody>\n",
    "</table>"
   ],
   "metadata": {
    "collapsed": false
   }
  },
  {
   "cell_type": "markdown",
   "source": [
    "#### Putting it all together: Location\n",
    "* On-premises cluster\n",
    "* Cloud provider:\n",
    "  - Azure\n",
    "  - AWS\n",
    "  - Google Cloud"
   ],
   "metadata": {
    "collapsed": false
   }
  },
  {
   "cell_type": "markdown",
   "source": [
    "#### Putting it all together: Data type\n",
    "<table>\n",
    "    <thead>\n",
    "    <tr>\n",
    "        <td>Data type</td>\n",
    "        <td>Storage Solution</td>\n",
    "    </tr>\n",
    "    </thead>\n",
    "    <tbody>\n",
    "    <tr>\n",
    "        <td>Unstructure</td>\n",
    "        <td>Document Database</td>\n",
    "    </tr>\n",
    "    <tr>\n",
    "        <td>Tabular</td>\n",
    "        <td>Relational Database</td>\n",
    "    </tr>\n",
    "    </tbody>\n",
    "</table>"
   ],
   "metadata": {
    "collapsed": false
   }
  },
  {
   "cell_type": "markdown",
   "source": [
    "#### Putting it all together: Queries\n",
    "<table>\n",
    "    <thead>\n",
    "    <tr>\n",
    "        <td>Data type</td>\n",
    "        <td>Query Language</td>\n",
    "    </tr>\n",
    "    </thead>\n",
    "    <tbody>\n",
    "    <tr>\n",
    "        <td>Document Database</td>\n",
    "        <td>NoSQL</td>\n",
    "    </tr>\n",
    "    <tr>\n",
    "        <td>Relational Database</td>\n",
    "        <td>SQL</td>\n",
    "    </tr>\n",
    "    </tbody>\n",
    "</table>"
   ],
   "metadata": {
    "collapsed": false
   }
  },
  {
   "cell_type": "code",
   "execution_count": null,
   "outputs": [],
   "source": [],
   "metadata": {
    "collapsed": false
   }
  }
 ],
 "metadata": {
  "kernelspec": {
   "display_name": "Python 3",
   "language": "python",
   "name": "python3"
  },
  "language_info": {
   "codemirror_mode": {
    "name": "ipython",
    "version": 2
   },
   "file_extension": ".py",
   "mimetype": "text/x-python",
   "name": "python",
   "nbconvert_exporter": "python",
   "pygments_lexer": "ipython2",
   "version": "2.7.6"
  }
 },
 "nbformat": 4,
 "nbformat_minor": 0
}
