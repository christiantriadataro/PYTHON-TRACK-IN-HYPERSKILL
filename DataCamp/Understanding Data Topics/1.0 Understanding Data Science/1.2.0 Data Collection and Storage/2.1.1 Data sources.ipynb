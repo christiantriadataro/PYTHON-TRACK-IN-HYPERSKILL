{
 "cells": [
  {
   "cell_type": "markdown",
   "source": [
    "# Understanding Data Science"
   ],
   "metadata": {
    "collapsed": false
   }
  },
  {
   "cell_type": "markdown",
   "source": [
    "## Introduction to Data Science"
   ],
   "metadata": {
    "collapsed": false
   }
  },
  {
   "cell_type": "markdown",
   "source": [
    "### Data sources"
   ],
   "metadata": {
    "collapsed": false
   }
  },
  {
   "cell_type": "markdown",
   "source": [
    "#### Sources of data\n",
    "Company data\n",
    "* Collected by companies\n",
    "* Helps them make data-driven decisions\n",
    "\n",
    "Open data\n",
    "* Free, open data sources\n",
    "* Can be used, shared, and built-on by anyone"
   ],
   "metadata": {
    "collapsed": false
   }
  },
  {
   "cell_type": "markdown",
   "source": [
    "#### Company data\n",
    "* Web events\n",
    "* Survey data\n",
    "* Customer data\n",
    "* Logistics data\n",
    "* Financial transactions"
   ],
   "metadata": {
    "collapsed": false
   }
  },
  {
   "cell_type": "markdown",
   "source": [
    "#### Web data\n",
    "<table>\n",
    "    <thead>\n",
    "        <tr>\n",
    "            <td>event_name</td>\n",
    "            <td>timestamp</td>\n",
    "            <td>user_id</td>\n",
    "        </tr>\n",
    "    </thead>\n",
    "    <tbody>\n",
    "        <tr>\n",
    "            <td>homepage_visit</td>\n",
    "            <td>2019-01-01 12:01:01</td>\n",
    "            <td>1234</td>\n",
    "        </tr>\n",
    "    </tbody>\n",
    "</table>\n",
    "\n",
    "* Events\n",
    "* Timestamps\n",
    "* User information"
   ],
   "metadata": {
    "collapsed": false
   }
  },
  {
   "cell_type": "markdown",
   "source": [
    "#### Surver data\n",
    "* Asking people for their opinions\n",
    "* Methods:\n",
    "  - Face-to-face interview\n",
    "  - Online questionnaire\n",
    "  - Focus group"
   ],
   "metadata": {
    "collapsed": false
   }
  },
  {
   "cell_type": "markdown",
   "source": [
    "#### Net Promoter Score"
   ],
   "metadata": {
    "collapsed": false
   }
  },
  {
   "cell_type": "markdown",
   "source": [
    "#### Open data\n",
    "* Data apis\n",
    "* Public records"
   ],
   "metadata": {
    "collapsed": false
   }
  },
  {
   "cell_type": "markdown",
   "source": [
    "#### Public data APIs\n",
    "* Application Programming Interface\n",
    "* Request data over the internet\n",
    "\n",
    "* Twitter\n",
    "* Wikipedia\n",
    "* Yahoo! Finance\n",
    "* Google Maps\n",
    "* Many more!"
   ],
   "metadata": {
    "collapsed": false
   }
  },
  {
   "cell_type": "markdown",
   "source": [
    "#### Tracking a hashtag\n",
    "* All tweets with `#DataFramed` (Datacamp's podcast!)\n",
    "* Use Twitter API"
   ],
   "metadata": {
    "collapsed": false
   }
  },
  {
   "cell_type": "markdown",
   "source": [
    "#### Public records\n",
    "* International organizations\n",
    "  + e.g.: World Bank, UN, WTO\n",
    "* National statistical offices\n",
    "  + e.g.: censuses, surveys\n",
    "* Government agencies\n",
    "  + e.g.: weather, environment, population\n",
    "\n",
    "* For the US, data.gov\n",
    "* For the EU, data.europa.eu"
   ],
   "metadata": {
    "collapsed": false
   }
  }
 ],
 "metadata": {
  "kernelspec": {
   "display_name": "Python 3",
   "language": "python",
   "name": "python3"
  },
  "language_info": {
   "codemirror_mode": {
    "name": "ipython",
    "version": 2
   },
   "file_extension": ".py",
   "mimetype": "text/x-python",
   "name": "python",
   "nbconvert_exporter": "python",
   "pygments_lexer": "ipython2",
   "version": "2.7.6"
  }
 },
 "nbformat": 4,
 "nbformat_minor": 0
}
