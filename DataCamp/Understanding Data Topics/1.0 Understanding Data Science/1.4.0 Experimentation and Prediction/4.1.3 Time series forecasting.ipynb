{
 "cells": [
  {
   "cell_type": "markdown",
   "source": [
    "# Understanding Data Science"
   ],
   "metadata": {
    "collapsed": false
   }
  },
  {
   "cell_type": "markdown",
   "source": [
    "## Introduction to Data Science"
   ],
   "metadata": {
    "collapsed": false
   }
  },
  {
   "cell_type": "markdown",
   "source": [
    "### Time series forecasting"
   ],
   "metadata": {
    "collapsed": false
   }
  },
  {
   "cell_type": "markdown",
   "source": [
    "#### Modeling in data science\n",
    "What is a statistical model?\n",
    "* Represent a real-world process with statistics\n",
    "* Mathematical relationships between variables, including random variables\n",
    "* Based on statistical assumptions and historical data"
   ],
   "metadata": {
    "collapsed": false
   }
  },
  {
   "cell_type": "markdown",
   "source": [
    "#### Predictive modeling\n",
    "New input -> Predictive Model -> Outcome\n",
    "future data                      unemployment rate\n",
    "\n",
    "* Enter new input(s) and model predicts an outcome\n",
    "  * Probability of an outcome\n",
    "Ranges in complexity, from a linear equation to a deep learning algorithm"
   ],
   "metadata": {
    "collapsed": false
   }
  },
  {
   "cell_type": "markdown",
   "source": [
    "#### Time series data\n",
    "A series of data points sequenced by time\n",
    "* Stock prices\n",
    "* Gas prices\n",
    "* Unemployment rates\n",
    "* Hear rate\n",
    "* CO2 levels\n",
    "* Height of ocean tides"
   ],
   "metadata": {
    "collapsed": false
   }
  },
  {
   "cell_type": "markdown",
   "source": [
    "#### Plotting time series data\n",
    "<table>\n",
    "    <thead>\n",
    "        <tr>\n",
    "            <td>Date</td>\n",
    "            <td>Rate</td>\n",
    "        </tr>\n",
    "    </thead>\n",
    "    <tbody>\n",
    "        <tr>\n",
    "            <td>1976-01-01</td>\n",
    "            <td>7.1</td>\n",
    "        </tr>\n",
    "        <tr>\n",
    "            <td>1976-02-01</td>\n",
    "            <td>7</td>\n",
    "        </tr>\n",
    "        <tr>\n",
    "            <td>1991-01-01</td>\n",
    "            <td>10.3</td>\n",
    "        </tr>\n",
    "        <tr>\n",
    "            <td>2015-04-01</td>\n",
    "            <td>6.8</td>\n",
    "        </tr>\n",
    "    </tbody>\n",
    "</table>"
   ],
   "metadata": {
    "collapsed": false
   }
  },
  {
   "cell_type": "markdown",
   "source": [
    "#### Seasonality in time series\n",
    "Seasonality = repeating patterns months or weeks"
   ],
   "metadata": {
    "collapsed": false
   }
  },
  {
   "cell_type": "markdown",
   "source": [
    "#### Forecasting time series\n",
    "* Examples:\n",
    "  * How much rainfall will we get next month?\n",
    "  * Will traffic ease up in the next half hour?\n",
    "  * How will the stock market move in the next six hours?\n",
    "  * What will be earth's population in 20 years?\n",
    "* Derive a model from historical data to generate predictions\n",
    "* Modeling methods use a combination of statistical and machine learning methods"
   ],
   "metadata": {
    "collapsed": false
   }
  },
  {
   "cell_type": "markdown",
   "source": [
    "Confidence intervals\n",
    "Model is X% sure that the true value will fall in the area"
   ],
   "metadata": {
    "collapsed": false
   }
  },
  {
   "cell_type": "code",
   "execution_count": null,
   "outputs": [],
   "source": [],
   "metadata": {
    "collapsed": false
   }
  }
 ],
 "metadata": {
  "kernelspec": {
   "display_name": "Python 3",
   "language": "python",
   "name": "python3"
  },
  "language_info": {
   "codemirror_mode": {
    "name": "ipython",
    "version": 2
   },
   "file_extension": ".py",
   "mimetype": "text/x-python",
   "name": "python",
   "nbconvert_exporter": "python",
   "pygments_lexer": "ipython2",
   "version": "2.7.6"
  }
 },
 "nbformat": 4,
 "nbformat_minor": 0
}
