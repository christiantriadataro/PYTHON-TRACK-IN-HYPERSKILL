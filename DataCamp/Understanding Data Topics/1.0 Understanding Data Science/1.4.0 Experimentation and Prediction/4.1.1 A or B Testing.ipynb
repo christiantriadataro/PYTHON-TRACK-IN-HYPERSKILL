{
 "cells": [
  {
   "cell_type": "markdown",
   "source": [
    "# Understanding Data Science"
   ],
   "metadata": {
    "collapsed": false
   }
  },
  {
   "cell_type": "markdown",
   "source": [
    "## Introduction to Data Science"
   ],
   "metadata": {
    "collapsed": false
   }
  },
  {
   "cell_type": "markdown",
   "source": [
    "### A/B Testing"
   ],
   "metadata": {
    "collapsed": false
   }
  },
  {
   "cell_type": "markdown",
   "source": [
    "#### workflow\n",
    "- Experimentation & Prediction"
   ],
   "metadata": {
    "collapsed": false
   }
  },
  {
   "cell_type": "markdown",
   "source": [
    "#### What are experiments in data science?\n",
    "Experiments help drive decision and draw conclusions?\n",
    "1. Form a question\n",
    "2. Form a hypothesis\n",
    "3. Collect data\n",
    "4. Test the hypothesis with a statistical test\n",
    "5. Interpret results"
   ],
   "metadata": {
    "collapsed": false
   }
  },
  {
   "cell_type": "markdown",
   "source": [
    "#### Case study: which is better blog post title?\n",
    "- Form a question: Does blog title A or blog title B result in more clicks?\n",
    "\n",
    "- Form a hypothesis: Blog title A and blog title B result in the same amount of clicks.\n",
    "\n",
    "- Collect data:\n",
    "* 50% users will see blog title A\n",
    "* 50% users will see blog title B\n",
    "* Track click-through rate until sample size reached"
   ],
   "metadata": {
    "collapsed": false
   }
  },
  {
   "cell_type": "markdown",
   "source": [
    "- Test the hypothesis with a statistical test: Is the difference in titles' click-through rates significant?\n",
    "- Interpret results:\n",
    "  * Choose a title\n",
    "  * Or ask more question and design another experiment!"
   ],
   "metadata": {
    "collapsed": false
   }
  },
  {
   "cell_type": "markdown",
   "source": [
    "#### What is A/B Testing?\n",
    "AKA Champion/Challenger Testing\n",
    "A (Control)\n",
    "B (Variation)"
   ],
   "metadata": {
    "collapsed": false
   }
  },
  {
   "cell_type": "markdown",
   "source": [
    "#### Terminology Review\n",
    "* Sample size: number of data points used\n",
    "* Statistical significance: result is likely not due to chance\n",
    "  * Given assumptions of statistical model\n",
    "  * Use statistical tests to calculate this:\n",
    "    - e.g., t-test, Z-test, ANOVA, Chi-square test"
   ],
   "metadata": {
    "collapsed": false
   }
  },
  {
   "cell_type": "markdown",
   "source": [
    "#### A/B Testing Steps\n",
    "* Picking a metric to track\n",
    "* Calculating sample size\n",
    "* Running the experiment\n",
    "* Checking for significance"
   ],
   "metadata": {
    "collapsed": false
   }
  },
  {
   "cell_type": "markdown",
   "source": [
    "Pick a metric to track: click-through rate\n"
   ],
   "metadata": {
    "collapsed": false
   }
  },
  {
   "cell_type": "markdown",
   "source": [
    "* Baseline metric to gauge any changes\n",
    "  * How often people generally click on a link to our blogs\n",
    "* If the rate is much larger or smaller than 50%, we need a larger sample size\n",
    "  * Click rate is typically small (<3%)"
   ],
   "metadata": {
    "collapsed": false
   }
  },
  {
   "cell_type": "markdown",
   "source": [
    "Larger sample sizes allow us to detect smaller changes"
   ],
   "metadata": {
    "collapsed": false
   }
  },
  {
   "cell_type": "markdown",
   "source": [
    "#### Run your experiment"
   ],
   "metadata": {
    "collapsed": false
   }
  },
  {
   "cell_type": "markdown",
   "source": [
    "#### Check for significance"
   ],
   "metadata": {
    "collapsed": false
   }
  },
  {
   "cell_type": "markdown",
   "source": [
    "#### What if the results aren't significant?\n",
    "* Difference is smaller than the threshold we chose\n",
    "* Running our test longer won't help\n",
    "* Still might be a difference; it's just small and insignificant to us"
   ],
   "metadata": {
    "collapsed": false
   }
  },
  {
   "cell_type": "code",
   "execution_count": null,
   "outputs": [],
   "source": [],
   "metadata": {
    "collapsed": false
   }
  }
 ],
 "metadata": {
  "kernelspec": {
   "display_name": "Python 3",
   "language": "python",
   "name": "python3"
  },
  "language_info": {
   "codemirror_mode": {
    "name": "ipython",
    "version": 2
   },
   "file_extension": ".py",
   "mimetype": "text/x-python",
   "name": "python",
   "nbconvert_exporter": "python",
   "pygments_lexer": "ipython2",
   "version": "2.7.6"
  }
 },
 "nbformat": 4,
 "nbformat_minor": 0
}
