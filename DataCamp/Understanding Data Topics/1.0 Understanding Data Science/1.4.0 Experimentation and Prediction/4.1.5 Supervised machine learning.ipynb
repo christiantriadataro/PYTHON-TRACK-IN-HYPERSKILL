{
 "cells": [
  {
   "cell_type": "markdown",
   "source": [
    "# Understanding Data Science"
   ],
   "metadata": {
    "collapsed": false
   }
  },
  {
   "cell_type": "markdown",
   "source": [
    "## Introduction to Data Science"
   ],
   "metadata": {
    "collapsed": false
   }
  },
  {
   "cell_type": "markdown",
   "source": [
    "### Supervised machine learning"
   ],
   "metadata": {
    "collapsed": false
   }
  },
  {
   "cell_type": "markdown",
   "source": [
    "#### What is supervised machine learning?\n",
    "* Machine learning: predictions from data\n",
    "* Supervised machine learning: Predictions from data with labels and features\n",
    "  * Recommendation systems\n",
    "  * Diagnosing biomedical images\n",
    "  * Recognizing hand-written digits\n",
    "  * Predicting customer churn"
   ],
   "metadata": {
    "collapsed": false
   }
  },
  {
   "cell_type": "markdown",
   "source": [
    "#### Case study: churn prediction\n",
    "Customer -> Likely to cancel subscription\n",
    "         -> Likely to stay subscribed"
   ],
   "metadata": {
    "collapsed": false
   }
  },
  {
   "cell_type": "markdown",
   "source": [
    "#### Case study: churn prediciton\n",
    "Training Data: Customers\n"
   ],
   "metadata": {
    "collapsed": false
   }
  },
  {
   "cell_type": "markdown",
   "source": [
    "Labels\n",
    "Customer outcomes\n",
    "churn\n",
    "subscribe\n",
    "subscribe\n",
    "churn\n",
    "churn\n",
    "subscribe"
   ],
   "metadata": {
    "collapsed": false
   }
  },
  {
   "cell_type": "markdown",
   "source": [
    "Features to help predict churns"
   ],
   "metadata": {
    "collapsed": false
   }
  },
  {
   "cell_type": "markdown",
   "source": [
    "Features -> Trained Model -> Prediction"
   ],
   "metadata": {
    "collapsed": false
   }
  },
  {
   "cell_type": "markdown",
   "source": [
    "#### Supervised machine learning recap\n",
    "* Make a prediction based on data\n",
    "* Data has features and labels\n",
    "  * Label: what we want to predict\n",
    "  * features: data that might predict the label\n",
    "* Trained model can make predictions"
   ],
   "metadata": {
    "collapsed": false
   }
  },
  {
   "cell_type": "markdown",
   "source": [
    "#### Model evaluation\n",
    "Historical data -> Split the data\n",
    "||\n",
    "Training data and Test data\n",
    "train the model -> Evaluate the model"
   ],
   "metadata": {
    "collapsed": false
   }
  },
  {
   "cell_type": "markdown",
   "source": [
    "#### Model Evaluation\n",
    "<table>\n",
    "    <thead>\n",
    "        <tr>\n",
    "            <td>Possible labels</td>\n",
    "            <td>True labels</td>\n",
    "            <td>Model Prediction</td>\n",
    "            <td>Model Accuracy</td>\n",
    "        </tr>\n",
    "    </thead>\n",
    "    <tbody>\n",
    "        <tr>\n",
    "            <td>Customer remains</td>\n",
    "            <td>970</td>\n",
    "            <td>1000</td>\n",
    "            <td># of correct predictions / # of predictions = </td>\n",
    "        </tr>\n",
    "        <tr>\n",
    "            <td>Customer churns</td>\n",
    "            <td>30</td>\n",
    "            <td>0</td>\n",
    "            <td>970 / 1000 = 97%</td>\n",
    "        </tr>\n",
    "    </tbody>\n",
    "</table>\n",
    "\n",
    "* Checking both outcomes is important for rare events\n",
    "* Model has 0% accuracy at predicting an actual churn outcome"
   ],
   "metadata": {
    "collapsed": false
   }
  },
  {
   "cell_type": "code",
   "execution_count": null,
   "outputs": [],
   "source": [],
   "metadata": {
    "collapsed": false
   }
  }
 ],
 "metadata": {
  "kernelspec": {
   "display_name": "Python 3",
   "language": "python",
   "name": "python3"
  },
  "language_info": {
   "codemirror_mode": {
    "name": "ipython",
    "version": 2
   },
   "file_extension": ".py",
   "mimetype": "text/x-python",
   "name": "python",
   "nbconvert_exporter": "python",
   "pygments_lexer": "ipython2",
   "version": "2.7.6"
  }
 },
 "nbformat": 4,
 "nbformat_minor": 0
}
