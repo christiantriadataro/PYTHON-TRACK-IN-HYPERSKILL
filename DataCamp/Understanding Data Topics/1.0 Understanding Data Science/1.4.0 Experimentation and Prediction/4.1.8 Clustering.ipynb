{
 "cells": [
  {
   "cell_type": "markdown",
   "source": [
    "# Understanding Data Science"
   ],
   "metadata": {
    "collapsed": false
   }
  },
  {
   "cell_type": "markdown",
   "source": [
    "## Introduction to Data Science"
   ],
   "metadata": {
    "collapsed": false
   }
  },
  {
   "cell_type": "markdown",
   "source": [
    "### Clustering"
   ],
   "metadata": {
    "collapsed": false
   }
  },
  {
   "cell_type": "markdown",
   "source": [
    "#### What is clustering?\n",
    "* Divide data into categories\n",
    "* Use cases\n",
    "  * Customer segmentation\n",
    "  * Image segmentation\n",
    "  * Anomaly detection"
   ],
   "metadata": {
    "collapsed": false
   }
  },
  {
   "cell_type": "markdown",
   "source": [
    "#### Supervised Machine learning\n",
    "with Features and labels"
   ],
   "metadata": {
    "collapsed": false
   }
  },
  {
   "cell_type": "markdown",
   "source": [
    "#### Unsupervised Machine learning\n",
    "with Features only"
   ],
   "metadata": {
    "collapsed": false
   }
  },
  {
   "cell_type": "markdown",
   "source": [
    "#### Case study: discovering new species"
   ],
   "metadata": {
    "collapsed": false
   }
  },
  {
   "cell_type": "markdown",
   "source": [
    "#### Defining features\n",
    "* Flower colors\n",
    "* Petal length and width\n",
    "* Sepal length and width\n",
    "* Number of petals"
   ],
   "metadata": {
    "collapsed": false
   }
  },
  {
   "cell_type": "markdown",
   "source": [
    "#### Defining number of cluster\n",
    "graph using 3 features:\n",
    "- Petal width\n",
    "- Sepal length\n",
    "- Number of petals"
   ],
   "metadata": {
    "collapsed": false
   }
  },
  {
   "cell_type": "markdown",
   "source": [
    "#### Comparing number of clusters\n",
    "- up to you to decide on final number of cluster\n",
    "- use domain knowledge to help decide"
   ],
   "metadata": {
    "collapsed": false
   }
  },
  {
   "cell_type": "markdown",
   "source": [
    "#### Clustering review\n",
    "Definition\n",
    "* Divide unlabeled dataset into different categories\n",
    "\n",
    "Steps\n",
    "* Select features\n",
    "* Select number of clusters\n",
    "* Use clusters to solve problems\n",
    "* "
   ],
   "metadata": {
    "collapsed": false
   }
  },
  {
   "cell_type": "markdown",
   "source": [],
   "metadata": {
    "collapsed": false
   }
  },
  {
   "cell_type": "markdown",
   "source": [],
   "metadata": {
    "collapsed": false
   }
  }
 ],
 "metadata": {
  "kernelspec": {
   "display_name": "Python 3",
   "language": "python",
   "name": "python3"
  },
  "language_info": {
   "codemirror_mode": {
    "name": "ipython",
    "version": 2
   },
   "file_extension": ".py",
   "mimetype": "text/x-python",
   "name": "python",
   "nbconvert_exporter": "python",
   "pygments_lexer": "ipython2",
   "version": "2.7.6"
  }
 },
 "nbformat": 4,
 "nbformat_minor": 0
}
