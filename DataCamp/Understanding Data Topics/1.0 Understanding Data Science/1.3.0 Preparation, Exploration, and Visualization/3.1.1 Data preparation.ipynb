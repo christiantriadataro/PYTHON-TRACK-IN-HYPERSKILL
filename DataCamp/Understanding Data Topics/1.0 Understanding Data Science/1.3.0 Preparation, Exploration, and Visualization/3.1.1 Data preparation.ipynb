{
 "cells": [
  {
   "cell_type": "markdown",
   "source": [
    "# Understanding Data Science"
   ],
   "metadata": {
    "collapsed": false
   }
  },
  {
   "cell_type": "markdown",
   "source": [
    "## Introduction to Data Science"
   ],
   "metadata": {
    "collapsed": false
   }
  },
  {
   "cell_type": "markdown",
   "source": [
    "### Data preparation"
   ],
   "metadata": {
    "collapsed": false
   }
  },
  {
   "cell_type": "markdown",
   "source": [
    "#### Data workflow\n",
    "- Data preparation"
   ],
   "metadata": {
    "collapsed": false
   }
  },
  {
   "cell_type": "markdown",
   "source": [
    "#### Why prepare data?\n",
    "* Real-life data is messy\n",
    "* Preparation is done to prevent:\n",
    "  - errors\n",
    "  - incorrect results\n",
    "  - biasing algorithms"
   ],
   "metadata": {
    "collapsed": false
   }
  },
  {
   "cell_type": "markdown",
   "source": [
    "#### Let's start data\n",
    "<table>\n",
    "    <thead>\n",
    "        <tr>\n",
    "            <td></td>\n",
    "            <td>Sara</td>\n",
    "            <td>Lis</td>\n",
    "            <td>Hadrien</td>\n",
    "            <td>Lis</td>\n",
    "        </tr>\n",
    "    </thead>\n",
    "    <tbody>\n",
    "        <tr>\n",
    "            <td>Age</td>\n",
    "            <td>\"27\"</td>\n",
    "            <td>\"30\"</td>\n",
    "            <td></td>\n",
    "            <td>\"30\"</td>\n",
    "        </tr>\n",
    "        <tr>\n",
    "            <td>Size</td>\n",
    "            <td>\"1.77\"</td>\n",
    "            <td>\"5.58\"</td>\n",
    "            <td>1.80</td>\n",
    "            <td>5.58</td>\n",
    "        </tr>\n",
    "        <tr>\n",
    "            <td>Country</td>\n",
    "            <td>\"Belguim\"</td>\n",
    "            <td>\"USA\"</td>\n",
    "            <td>\"FR\"/td>\n",
    "            <td>\"USA\"</td>\n",
    "        </tr>\n",
    "    </tbody>\n",
    "</table>"
   ],
   "metadata": {
    "collapsed": false
   }
  },
  {
   "cell_type": "markdown",
   "source": [
    "#### Tidy data\n",
    "Before\n",
    "<table>\n",
    "    <thead>\n",
    "        <tr>\n",
    "            <td></td>\n",
    "            <td>Sara</td>\n",
    "            <td>Lis</td>\n",
    "            <td>Hadrien</td>\n",
    "            <td>Lis</td>\n",
    "        </tr>\n",
    "    </thead>\n",
    "    <tbody>\n",
    "        <tr>\n",
    "            <td>Age</td>\n",
    "            <td>\"27\"</td>\n",
    "            <td>\"30\"</td>\n",
    "            <td></td>\n",
    "            <td>\"30\"</td>\n",
    "        </tr>\n",
    "        <tr>\n",
    "            <td>Size</td>\n",
    "            <td>\"1.77\"</td>\n",
    "            <td>\"5.58\"</td>\n",
    "            <td>1.80</td>\n",
    "            <td>5.58</td>\n",
    "        </tr>\n",
    "        <tr>\n",
    "            <td>Country</td>\n",
    "            <td>\"Belguim\"</td>\n",
    "            <td>\"USA\"</td>\n",
    "            <td>\"FR\"/td>\n",
    "            <td>\"USA\"</td>\n",
    "        </tr>\n",
    "    </tbody>\n",
    "</table>"
   ],
   "metadata": {
    "collapsed": false
   }
  },
  {
   "cell_type": "markdown",
   "source": [
    "#### Tidy data output\n",
    "<table>\n",
    "    <thead>\n",
    "        <tr>\n",
    "            <td>Name</td>\n",
    "            <td>Age</td>\n",
    "            <td>Size</td>\n",
    "            <td>Country</td>\n",
    "        </tr>\n",
    "    </thead>\n",
    "    <tbody>\n",
    "        <tr>\n",
    "            <td>Sara</td>\n",
    "            <td>\"27\"</td>\n",
    "            <td>1.78</td>\n",
    "            <td>\"Belgium\"</td>\n",
    "        </tr>\n",
    "        <tr>\n",
    "            <td>Lis</td>\n",
    "            <td>\"30\"</td>\n",
    "            <td>5.58</td>\n",
    "            <td>\"USA\"</td>\n",
    "        </tr>\n",
    "        <tr>\n",
    "            <td>Hadrien</td>\n",
    "            <td></td>\n",
    "            <td>1.80\"</td>\n",
    "            <td>\"FR\"/td>\n",
    "        </tr>\n",
    "        <tr>\n",
    "            <td>Lis</td>\n",
    "            <td>\"30\"</td>\n",
    "            <td>5.58</td>\n",
    "            <td>\"USA\"/td>\n",
    "        </tr>\n",
    "    </tbody>\n",
    "</table>"
   ],
   "metadata": {
    "collapsed": false
   }
  },
  {
   "cell_type": "markdown",
   "source": [
    "#### Remove duplicates\n",
    "After\n",
    "<table>\n",
    "    <thead>\n",
    "        <tr>\n",
    "            <td>Name</td>\n",
    "            <td>Age</td>\n",
    "            <td>Size</td>\n",
    "            <td>Country</td>\n",
    "        </tr>\n",
    "    </thead>\n",
    "    <tbody>\n",
    "        <tr>\n",
    "            <td>Sara</td>\n",
    "            <td>\"27\"</td>\n",
    "            <td>1.78</td>\n",
    "            <td>\"Belgium\"</td>\n",
    "        </tr>\n",
    "        <tr>\n",
    "            <td>Lis</td>\n",
    "            <td>\"30\"</td>\n",
    "            <td>5.58</td>\n",
    "            <td>\"USA\"</td>\n",
    "        </tr>\n",
    "        <tr>\n",
    "            <td>Hadrien</td>\n",
    "            <td></td>\n",
    "            <td>1.80\"</td>\n",
    "            <td>\"FR\"/td>\n",
    "        </tr>\n",
    "    </tbody>\n",
    "</table>"
   ],
   "metadata": {
    "collapsed": false
   }
  },
  {
   "cell_type": "markdown",
   "source": [
    "#### Unique ID\n",
    "<table>\n",
    "    <thead>\n",
    "        <tr>\n",
    "            <td>ID</td>\n",
    "            <td>Name</td>\n",
    "            <td>Age</td>\n",
    "            <td>Size</td>\n",
    "            <td>Country</td>\n",
    "        </tr>\n",
    "    </thead>\n",
    "    <tbody>\n",
    "        <tr>\n",
    "            <td>0</td>\n",
    "            <td>Sara</td>\n",
    "            <td>\"27\"</td>\n",
    "            <td>1.78</td>\n",
    "            <td>\"Belgium\"</td>\n",
    "        </tr>\n",
    "        <tr>\n",
    "            <td>1</td>\n",
    "            <td>Lis</td>\n",
    "            <td>\"30\"</td>\n",
    "            <td>5.58</td>\n",
    "            <td>\"USA\"</td>\n",
    "        </tr>\n",
    "        <tr>\n",
    "            <td>2</td>\n",
    "            <td>Hadrien</td>\n",
    "            <td></td>\n",
    "            <td>1.80\"</td>\n",
    "            <td>\"FR\"/td>\n",
    "        </tr>\n",
    "    </tbody>\n",
    "</table>"
   ],
   "metadata": {
    "collapsed": false
   }
  },
  {
   "cell_type": "markdown",
   "source": [
    "#### Homogeneity\n",
    "Before\n",
    "<table>\n",
    "    <thead>\n",
    "        <tr>\n",
    "            <td>ID</td>\n",
    "            <td>Name</td>\n",
    "            <td>Age</td>\n",
    "            <td>Size</td>\n",
    "            <td>Country</td>\n",
    "        </tr>\n",
    "    </thead>\n",
    "    <tbody>\n",
    "        <tr>\n",
    "            <td>0</td>\n",
    "            <td>Sara</td>\n",
    "            <td>\"27\"</td>\n",
    "            <td>1.78</td>\n",
    "            <td>\"Belgium\"</td>\n",
    "        </tr>\n",
    "        <tr>\n",
    "            <td>1</td>\n",
    "            <td>Lis</td>\n",
    "            <td>\"30\"</td>\n",
    "            <td>5.58</td>\n",
    "            <td>\"USA\"</td>\n",
    "        </tr>\n",
    "        <tr>\n",
    "            <td>2</td>\n",
    "            <td>Hadrien</td>\n",
    "            <td></td>\n",
    "            <td>1.80\"</td>\n",
    "            <td>\"FR\"/td>\n",
    "        </tr>\n",
    "    </tbody>\n",
    "</table>"
   ],
   "metadata": {
    "collapsed": false
   }
  },
  {
   "cell_type": "markdown",
   "source": [
    "After\n",
    "<table>\n",
    "    <thead>\n",
    "        <tr>\n",
    "            <td>ID</td>\n",
    "            <td>Name</td>\n",
    "            <td>Age</td>\n",
    "            <td>Size</td>\n",
    "            <td>Country</td>\n",
    "        </tr>\n",
    "    </thead>\n",
    "    <tbody>\n",
    "        <tr>\n",
    "            <td>0</td>\n",
    "            <td>Sara</td>\n",
    "            <td>\"27\"</td>\n",
    "            <td>1.78</td>\n",
    "            <td>\"Belgium\"</td>\n",
    "        </tr>\n",
    "        <tr>\n",
    "            <td>1</td>\n",
    "            <td>Lis</td>\n",
    "            <td>\"30\"</td>\n",
    "            <td>1.70</td>\n",
    "            <td>\"USA\"</td>\n",
    "        </tr>\n",
    "        <tr>\n",
    "            <td>2</td>\n",
    "            <td>Hadrien</td>\n",
    "            <td></td>\n",
    "            <td>1.80\"</td>\n",
    "            <td>\"FR\"</td>\n",
    "        </tr>\n",
    "    </tbody>\n",
    "</table>"
   ],
   "metadata": {
    "collapsed": false
   }
  },
  {
   "cell_type": "markdown",
   "source": [
    "#### Homogeneity, again\n",
    "After\n",
    "<table>\n",
    "    <thead>\n",
    "        <tr>\n",
    "            <td>ID</td>\n",
    "            <td>Name</td>\n",
    "            <td>Age</td>\n",
    "            <td>Size</td>\n",
    "            <td>Country</td>\n",
    "        </tr>\n",
    "    </thead>\n",
    "    <tbody>\n",
    "        <tr>\n",
    "            <td>0</td>\n",
    "            <td>Sara</td>\n",
    "            <td>\"27\"</td>\n",
    "            <td>1.78</td>\n",
    "            <td>\"BE\"</td>\n",
    "        </tr>\n",
    "        <tr>\n",
    "            <td>1</td>\n",
    "            <td>Lis</td>\n",
    "            <td>\"30\"</td>\n",
    "            <td>1.70</td>\n",
    "            <td>\"USA\"</td>\n",
    "        </tr>\n",
    "        <tr>\n",
    "            <td>2</td>\n",
    "            <td>Hadrien</td>\n",
    "            <td></td>\n",
    "            <td>1.80\"</td>\n",
    "            <td>\"FR\"</td>\n",
    "        </tr>\n",
    "    </tbody>\n",
    "</table>"
   ],
   "metadata": {
    "collapsed": false
   }
  },
  {
   "cell_type": "markdown",
   "source": [
    "#### Data types\n",
    "After\n",
    "<table>\n",
    "    <thead>\n",
    "        <tr>\n",
    "            <td>ID</td>\n",
    "            <td>Name</td>\n",
    "            <td>Age</td>\n",
    "            <td>Size</td>\n",
    "            <td>Country</td>\n",
    "        </tr>\n",
    "    </thead>\n",
    "    <tbody>\n",
    "        <tr>\n",
    "            <td>0</td>\n",
    "            <td>Sara</td>\n",
    "            <td>27</td>\n",
    "            <td>1.78</td>\n",
    "            <td>\"BE\"</td>\n",
    "        </tr>\n",
    "        <tr>\n",
    "            <td>1</td>\n",
    "            <td>Lis</td>\n",
    "            <td>30</td>\n",
    "            <td>1.70</td>\n",
    "            <td>\"USA\"</td>\n",
    "        </tr>\n",
    "        <tr>\n",
    "            <td>2</td>\n",
    "            <td>Hadrien</td>\n",
    "            <td></td>\n",
    "            <td>1.80\"</td>\n",
    "            <td>\"FR\"</td>\n",
    "        </tr>\n",
    "    </tbody>\n",
    "</table>"
   ],
   "metadata": {
    "collapsed": false
   }
  },
  {
   "cell_type": "markdown",
   "source": [
    "#### Missing values\n",
    "Reasons:\n",
    "* Data entry\n",
    "* Error\n",
    "* valid missing value\n",
    "\n",
    "Solutions:\n",
    "* impute\n",
    "* drop\n",
    "* keep\n",
    "\n",
    "After\n",
    "<table>\n",
    "    <thead>\n",
    "        <tr>\n",
    "            <td>ID</td>\n",
    "            <td>Name</td>\n",
    "            <td>Age</td>\n",
    "            <td>Size</td>\n",
    "            <td>Country</td>\n",
    "        </tr>\n",
    "    </thead>\n",
    "    <tbody>\n",
    "        <tr>\n",
    "            <td>0</td>\n",
    "            <td>Sara</td>\n",
    "            <td>27</td>\n",
    "            <td>1.78</td>\n",
    "            <td>\"BE\"</td>\n",
    "        </tr>\n",
    "        <tr>\n",
    "            <td>1</td>\n",
    "            <td>Lis</td>\n",
    "            <td>30</td>\n",
    "            <td>1.70</td>\n",
    "            <td>\"USA\"</td>\n",
    "        </tr>\n",
    "        <tr>\n",
    "            <td>2</td>\n",
    "            <td>Hadrien</td>\n",
    "            <td>28</td>\n",
    "            <td>1.80\"</td>\n",
    "            <td>\"FR\"</td>\n",
    "        </tr>\n",
    "    </tbody>\n",
    "</table>"
   ],
   "metadata": {
    "collapsed": false
   }
  },
  {
   "cell_type": "markdown",
   "source": [],
   "metadata": {
    "collapsed": false
   }
  },
  {
   "cell_type": "code",
   "execution_count": null,
   "outputs": [],
   "source": [],
   "metadata": {
    "collapsed": false
   }
  }
 ],
 "metadata": {
  "kernelspec": {
   "display_name": "Python 3",
   "language": "python",
   "name": "python3"
  },
  "language_info": {
   "codemirror_mode": {
    "name": "ipython",
    "version": 2
   },
   "file_extension": ".py",
   "mimetype": "text/x-python",
   "name": "python",
   "nbconvert_exporter": "python",
   "pygments_lexer": "ipython2",
   "version": "2.7.6"
  }
 },
 "nbformat": 4,
 "nbformat_minor": 0
}
