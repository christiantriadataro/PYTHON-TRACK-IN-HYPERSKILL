{
 "cells": [
  {
   "cell_type": "markdown",
   "source": [
    "### Variables and Types"
   ],
   "metadata": {
    "collapsed": false
   }
  },
  {
   "cell_type": "markdown",
   "source": [
    "#### Variable\n",
    "* Specific, case-sensitive name\n",
    "* Call up value through variable name\n",
    "* 1.79 m - 68.7 kg"
   ],
   "metadata": {
    "collapsed": false
   }
  },
  {
   "cell_type": "code",
   "execution_count": 1,
   "metadata": {
    "collapsed": true,
    "ExecuteTime": {
     "start_time": "2023-04-19T22:04:54.351676Z",
     "end_time": "2023-04-19T22:04:54.371684Z"
    }
   },
   "outputs": [
    {
     "data": {
      "text/plain": "1.79"
     },
     "execution_count": 1,
     "metadata": {},
     "output_type": "execute_result"
    }
   ],
   "source": [
    "height = 1.79\n",
    "weight = 68.7\n",
    "height"
   ]
  },
  {
   "cell_type": "markdown",
   "source": [
    "#### Calculate BMI"
   ],
   "metadata": {
    "collapsed": false
   }
  },
  {
   "cell_type": "code",
   "execution_count": 2,
   "outputs": [
    {
     "data": {
      "text/plain": "1.79"
     },
     "execution_count": 2,
     "metadata": {},
     "output_type": "execute_result"
    }
   ],
   "source": [
    "height = 1.79\n",
    "weight = 68.7\n",
    "height"
   ],
   "metadata": {
    "collapsed": false,
    "ExecuteTime": {
     "start_time": "2023-04-19T22:05:11.209650Z",
     "end_time": "2023-04-19T22:05:11.229670Z"
    }
   }
  },
  {
   "cell_type": "markdown",
   "source": [
    "BMI = weight / height^2"
   ],
   "metadata": {
    "collapsed": false
   }
  },
  {
   "cell_type": "code",
   "execution_count": 3,
   "outputs": [
    {
     "data": {
      "text/plain": "21.44127836209856"
     },
     "execution_count": 3,
     "metadata": {},
     "output_type": "execute_result"
    }
   ],
   "source": [
    "68.7 / 1.79 ** 2"
   ],
   "metadata": {
    "collapsed": false,
    "ExecuteTime": {
     "start_time": "2023-04-19T22:05:31.439045Z",
     "end_time": "2023-04-19T22:05:31.463043Z"
    }
   }
  },
  {
   "cell_type": "code",
   "execution_count": 4,
   "outputs": [
    {
     "data": {
      "text/plain": "21.44127836209856"
     },
     "execution_count": 4,
     "metadata": {},
     "output_type": "execute_result"
    }
   ],
   "source": [
    "weight / height ** 2"
   ],
   "metadata": {
    "collapsed": false,
    "ExecuteTime": {
     "start_time": "2023-04-19T22:05:38.290883Z",
     "end_time": "2023-04-19T22:05:38.311145Z"
    }
   }
  },
  {
   "cell_type": "code",
   "execution_count": 5,
   "outputs": [],
   "source": [
    "bmi = weight / height ** 2"
   ],
   "metadata": {
    "collapsed": false,
    "ExecuteTime": {
     "start_time": "2023-04-19T22:06:53.541711Z",
     "end_time": "2023-04-19T22:06:53.565718Z"
    }
   }
  },
  {
   "cell_type": "markdown",
   "source": [
    "#### Reproducibility"
   ],
   "metadata": {
    "collapsed": false
   }
  },
  {
   "cell_type": "code",
   "execution_count": 6,
   "outputs": [
    {
     "name": "stdout",
     "output_type": "stream",
     "text": [
      "23.157829031553323\n"
     ]
    }
   ],
   "source": [
    "height = 1.79\n",
    "weight = 74.2\n",
    "bmi = weight / height ** 2\n",
    "print(bmi)"
   ],
   "metadata": {
    "collapsed": false,
    "ExecuteTime": {
     "start_time": "2023-04-19T22:07:35.240005Z",
     "end_time": "2023-04-19T22:07:35.256020Z"
    }
   }
  },
  {
   "cell_type": "markdown",
   "source": [
    "#### Python Types"
   ],
   "metadata": {
    "collapsed": false
   }
  },
  {
   "cell_type": "code",
   "execution_count": 7,
   "outputs": [
    {
     "data": {
      "text/plain": "float"
     },
     "execution_count": 7,
     "metadata": {},
     "output_type": "execute_result"
    }
   ],
   "source": [
    "type(bmi)"
   ],
   "metadata": {
    "collapsed": false,
    "ExecuteTime": {
     "start_time": "2023-04-19T22:07:59.166068Z",
     "end_time": "2023-04-19T22:07:59.182075Z"
    }
   }
  },
  {
   "cell_type": "code",
   "execution_count": 8,
   "outputs": [
    {
     "data": {
      "text/plain": "int"
     },
     "execution_count": 8,
     "metadata": {},
     "output_type": "execute_result"
    }
   ],
   "source": [
    "day_of_week = 5\n",
    "type(day_of_week)"
   ],
   "metadata": {
    "collapsed": false,
    "ExecuteTime": {
     "start_time": "2023-04-19T22:08:20.143967Z",
     "end_time": "2023-04-19T22:08:20.163963Z"
    }
   }
  },
  {
   "cell_type": "markdown",
   "source": [
    "#### Python Types (2)"
   ],
   "metadata": {
    "collapsed": false
   }
  },
  {
   "cell_type": "code",
   "execution_count": 9,
   "outputs": [
    {
     "data": {
      "text/plain": "str"
     },
     "execution_count": 9,
     "metadata": {},
     "output_type": "execute_result"
    }
   ],
   "source": [
    "x = \"body mass index\"\n",
    "y = 'this works too'\n",
    "type(y)"
   ],
   "metadata": {
    "collapsed": false,
    "ExecuteTime": {
     "start_time": "2023-04-19T22:08:40.028058Z",
     "end_time": "2023-04-19T22:08:40.056044Z"
    }
   }
  },
  {
   "cell_type": "code",
   "execution_count": 10,
   "outputs": [
    {
     "data": {
      "text/plain": "bool"
     },
     "execution_count": 10,
     "metadata": {},
     "output_type": "execute_result"
    }
   ],
   "source": [
    "z = True\n",
    "type(z)"
   ],
   "metadata": {
    "collapsed": false,
    "ExecuteTime": {
     "start_time": "2023-04-19T22:08:47.481936Z",
     "end_time": "2023-04-19T22:08:47.514139Z"
    }
   }
  },
  {
   "cell_type": "markdown",
   "source": [
    "#### Python Types (3)"
   ],
   "metadata": {
    "collapsed": false
   }
  },
  {
   "cell_type": "code",
   "execution_count": 11,
   "outputs": [
    {
     "data": {
      "text/plain": "5"
     },
     "execution_count": 11,
     "metadata": {},
     "output_type": "execute_result"
    }
   ],
   "source": [
    "2 + 3"
   ],
   "metadata": {
    "collapsed": false,
    "ExecuteTime": {
     "start_time": "2023-04-19T22:09:08.722658Z",
     "end_time": "2023-04-19T22:09:08.754670Z"
    }
   }
  },
  {
   "cell_type": "code",
   "execution_count": 12,
   "outputs": [
    {
     "data": {
      "text/plain": "'abcd'"
     },
     "execution_count": 12,
     "metadata": {},
     "output_type": "execute_result"
    }
   ],
   "source": [
    "'ab' + 'cd'"
   ],
   "metadata": {
    "collapsed": false,
    "ExecuteTime": {
     "start_time": "2023-04-19T22:09:14.957560Z",
     "end_time": "2023-04-19T22:09:15.037589Z"
    }
   }
  },
  {
   "cell_type": "markdown",
   "source": [
    "* Different type = different behavior!"
   ],
   "metadata": {
    "collapsed": false
   }
  },
  {
   "cell_type": "code",
   "execution_count": null,
   "outputs": [],
   "source": [],
   "metadata": {
    "collapsed": false
   }
  }
 ],
 "metadata": {
  "kernelspec": {
   "display_name": "Python 3",
   "language": "python",
   "name": "python3"
  },
  "language_info": {
   "codemirror_mode": {
    "name": "ipython",
    "version": 2
   },
   "file_extension": ".py",
   "mimetype": "text/x-python",
   "name": "python",
   "nbconvert_exporter": "python",
   "pygments_lexer": "ipython2",
   "version": "2.7.6"
  }
 },
 "nbformat": 4,
 "nbformat_minor": 0
}
