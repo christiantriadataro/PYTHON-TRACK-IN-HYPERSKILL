{
 "cells": [
  {
   "cell_type": "markdown",
   "source": [
    "### Variables Assignment\n",
    "In Python, a variable allows you to refer to a value with a name. To create a variable use `=`, like this example:\n",
    "`\n",
    "x = 5\n",
    "`\n",
    "You can now use the name of this variable, `x`, instead of the actual value, `5`.\n",
    "\n",
    "Remember, `=` in Python means assignment, it doesn't test equality!"
   ],
   "metadata": {
    "collapsed": false
   }
  },
  {
   "cell_type": "markdown",
   "source": [
    "#### Instructions\n",
    "* Create a variable savings with the value 100.\n",
    "* Check out this variable by typing print(savings) in the script."
   ],
   "metadata": {
    "collapsed": false
   }
  },
  {
   "cell_type": "code",
   "execution_count": 1,
   "metadata": {
    "collapsed": true,
    "ExecuteTime": {
     "start_time": "2023-04-19T22:12:00.643672Z",
     "end_time": "2023-04-19T22:12:00.655672Z"
    }
   },
   "outputs": [
    {
     "name": "stdout",
     "output_type": "stream",
     "text": [
      "100\n"
     ]
    }
   ],
   "source": [
    "# Create a variable savings\n",
    "savings = 100\n",
    "\n",
    "\n",
    "# Print out savings\n",
    "print(savings)"
   ]
  }
 ],
 "metadata": {
  "kernelspec": {
   "display_name": "Python 3",
   "language": "python",
   "name": "python3"
  },
  "language_info": {
   "codemirror_mode": {
    "name": "ipython",
    "version": 2
   },
   "file_extension": ".py",
   "mimetype": "text/x-python",
   "name": "python",
   "nbconvert_exporter": "python",
   "pygments_lexer": "ipython2",
   "version": "2.7.6"
  }
 },
 "nbformat": 4,
 "nbformat_minor": 0
}
