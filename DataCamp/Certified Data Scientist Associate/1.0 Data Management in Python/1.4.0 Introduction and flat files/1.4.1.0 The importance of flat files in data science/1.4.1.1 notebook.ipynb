{
 "cells": [
  {
   "cell_type": "markdown",
   "source": [
    "### Flat files"
   ],
   "metadata": {
    "collapsed": false
   }
  },
  {
   "cell_type": "markdown",
   "source": [
    "#### Flat files\n",
    "* Text files containing records\n",
    "* That is, table data\n",
    "* Record: row of fields or attributes"
   ],
   "metadata": {
    "collapsed": false
   }
  },
  {
   "cell_type": "markdown",
   "source": [
    "#### Header"
   ],
   "metadata": {
    "collapsed": false
   }
  },
  {
   "cell_type": "markdown",
   "source": [
    "#### File extension\n",
    "* .csv - Comma separated values\n",
    "* .txt - Text file\n",
    "* commas, tabs - Delimiters"
   ],
   "metadata": {
    "collapsed": false
   }
  },
  {
   "cell_type": "markdown",
   "source": [
    "#### How do you import flat files?\n",
    "* Two main packages: Numpy, pandas\n",
    "* Here, you'll learn to import:\n",
    "    * Flat files with numerical data (MINIST)\n",
    "    * Flat files with data and strings (titanic.csv)"
   ],
   "metadata": {
    "collapsed": false
   }
  }
 ],
 "metadata": {
  "kernelspec": {
   "display_name": "Python 3",
   "language": "python",
   "name": "python3"
  },
  "language_info": {
   "codemirror_mode": {
    "name": "ipython",
    "version": 2
   },
   "file_extension": ".py",
   "mimetype": "text/x-python",
   "name": "python",
   "nbconvert_exporter": "python",
   "pygments_lexer": "ipython2",
   "version": "2.7.6"
  }
 },
 "nbformat": 4,
 "nbformat_minor": 0
}
