{
 "cells": [
  {
   "cell_type": "markdown",
   "source": [
    "### Importing flat files using pandas"
   ],
   "metadata": {
    "collapsed": false
   }
  },
  {
   "cell_type": "markdown",
   "source": [
    "#### What a data scientist needs\n",
    "* Two-dimensional labeled data structure(s)\n",
    "* Columns of potentially different types\n",
    "* Manipulate, slice, reshape, groupby, join, merge\n",
    "* Perform statistics\n",
    "* Work with time series data"
   ],
   "metadata": {
    "collapsed": false
   }
  },
  {
   "cell_type": "markdown",
   "source": [
    "#### Pandas and the DataFrame\n",
    "* DataFrame = pythonic analog of R's data frame"
   ],
   "metadata": {
    "collapsed": false
   }
  },
  {
   "cell_type": "markdown",
   "source": [
    "#### Manipulating pandas DataFrames\n",
    "* Exploratory Data analysis\n",
    "* Data wrangling\n",
    "* Data preprocessing\n",
    "* Building models\n",
    "* Visualization\n",
    "* Standard and best practice to use pandas"
   ],
   "metadata": {
    "collapsed": false
   }
  },
  {
   "cell_type": "markdown",
   "source": [
    "#### Importing using pandas\n"
   ],
   "metadata": {
    "collapsed": false
   }
  },
  {
   "cell_type": "code",
   "execution_count": null,
   "outputs": [],
   "source": [
    "import pandas as pd\n"
   ],
   "metadata": {
    "collapsed": false
   }
  },
  {
   "cell_type": "markdown",
   "source": [
    "#### You'll experience:\n",
    "* Importing flat files in a straightforward manner\n",
    "* Importing flat files with issues such as comments as missing values"
   ],
   "metadata": {
    "collapsed": false
   }
  }
 ],
 "metadata": {
  "kernelspec": {
   "display_name": "Python 3",
   "language": "python",
   "name": "python3"
  },
  "language_info": {
   "codemirror_mode": {
    "name": "ipython",
    "version": 2
   },
   "file_extension": ".py",
   "mimetype": "text/x-python",
   "name": "python",
   "nbconvert_exporter": "python",
   "pygments_lexer": "ipython2",
   "version": "2.7.6"
  }
 },
 "nbformat": 4,
 "nbformat_minor": 0
}
