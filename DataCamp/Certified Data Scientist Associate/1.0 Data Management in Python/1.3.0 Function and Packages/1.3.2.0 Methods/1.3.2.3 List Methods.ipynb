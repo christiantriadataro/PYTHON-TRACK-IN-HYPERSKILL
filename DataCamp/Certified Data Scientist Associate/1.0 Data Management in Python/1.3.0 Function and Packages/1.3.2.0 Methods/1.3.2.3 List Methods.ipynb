{
 "cells": [
  {
   "cell_type": "markdown",
   "source": [
    "### List Methods\n",
    "Strings are not the only Python types that have methods associated with them. Lists, floats, integers and booleans are also types that come packaged with a bunch of useful methods. In this exercise, you'll be experimenting with:\n",
    "\n",
    "    - `index()`, to get the index of the first element of a list that matches its input and\n",
    "    - `count()`, to get the number of times an element appears in a list.\n",
    "You'll be working on the list with the area of different parts of a house: `areas`."
   ],
   "metadata": {
    "collapsed": false
   }
  },
  {
   "cell_type": "markdown",
   "source": [
    "#### Instructions\n",
    "* Use the `index()` method to get the index of the element in areas that is equal to `20.0`. Print out this index.\n",
    "* Call `count()` on `areas` to find out how many times `9.50` appears in the list. Again, simply print out this number."
   ],
   "metadata": {
    "collapsed": false
   }
  },
  {
   "cell_type": "code",
   "execution_count": 1,
   "metadata": {
    "collapsed": true,
    "ExecuteTime": {
     "start_time": "2023-04-20T15:53:19.479945Z",
     "end_time": "2023-04-20T15:53:19.495960Z"
    }
   },
   "outputs": [
    {
     "name": "stdout",
     "output_type": "stream",
     "text": [
      "2\n",
      "1\n"
     ]
    }
   ],
   "source": [
    "# Create list areas\n",
    "areas = [11.25, 18.0, 20.0, 10.75, 9.50]\n",
    "\n",
    "# Print out the index of the element 20.0\n",
    "print(areas.index(20.0))\n",
    "\n",
    "# Print out how often 9.50 appears in areas\n",
    "print(areas.count(9.50))\n"
   ]
  },
  {
   "cell_type": "code",
   "execution_count": null,
   "outputs": [],
   "source": [],
   "metadata": {
    "collapsed": false
   }
  }
 ],
 "metadata": {
  "kernelspec": {
   "display_name": "Python 3",
   "language": "python",
   "name": "python3"
  },
  "language_info": {
   "codemirror_mode": {
    "name": "ipython",
    "version": 2
   },
   "file_extension": ".py",
   "mimetype": "text/x-python",
   "name": "python",
   "nbconvert_exporter": "python",
   "pygments_lexer": "ipython2",
   "version": "2.7.6"
  }
 },
 "nbformat": 4,
 "nbformat_minor": 0
}
