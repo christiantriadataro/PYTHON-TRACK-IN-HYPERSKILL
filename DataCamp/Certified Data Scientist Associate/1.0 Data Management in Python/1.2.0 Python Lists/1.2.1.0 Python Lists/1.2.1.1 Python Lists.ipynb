{
 "cells": [
  {
   "cell_type": "markdown",
   "source": [
    "### Python Lists"
   ],
   "metadata": {
    "collapsed": false
   }
  },
  {
   "cell_type": "markdown",
   "source": [
    "#### Python Data Types\n",
    "* float - real numbers\n",
    "* int - integer numbers\n",
    "* str - string, text\n",
    "* bool - True, False"
   ],
   "metadata": {
    "collapsed": false
   }
  },
  {
   "cell_type": "code",
   "execution_count": 1,
   "metadata": {
    "collapsed": true,
    "ExecuteTime": {
     "start_time": "2023-04-19T22:04:54.351676Z",
     "end_time": "2023-04-19T22:04:54.371684Z"
    }
   },
   "outputs": [
    {
     "data": {
      "text/plain": "1.79"
     },
     "execution_count": 1,
     "metadata": {},
     "output_type": "execute_result"
    }
   ],
   "source": [
    "height = 1.73\n",
    "tall = True"
   ]
  },
  {
   "cell_type": "markdown",
   "source": [
    "* Each variable represents single value"
   ],
   "metadata": {
    "collapsed": false
   }
  },
  {
   "cell_type": "markdown",
   "source": [
    "#### Problem\n",
    "* Data Science: many data points\n",
    "* Height of entire family"
   ],
   "metadata": {
    "collapsed": false
   }
  },
  {
   "cell_type": "code",
   "execution_count": 2,
   "outputs": [
    {
     "data": {
      "text/plain": "1.79"
     },
     "execution_count": 2,
     "metadata": {},
     "output_type": "execute_result"
    }
   ],
   "source": [
    "height1 = 1.73\n",
    "height2 = 1.68\n",
    "height3 = 1.71\n",
    "height4 = 1.89"
   ],
   "metadata": {
    "collapsed": false,
    "ExecuteTime": {
     "start_time": "2023-04-19T22:05:11.209650Z",
     "end_time": "2023-04-19T22:05:11.229670Z"
    }
   }
  },
  {
   "cell_type": "markdown",
   "source": [
    "* Inconvenient"
   ],
   "metadata": {
    "collapsed": false
   }
  },
  {
   "cell_type": "markdown",
   "source": [
    "#### Python List\n",
    "* `[a, b, c]`"
   ],
   "metadata": {
    "collapsed": false
   }
  },
  {
   "cell_type": "code",
   "execution_count": 1,
   "outputs": [
    {
     "data": {
      "text/plain": "[1.73, 1.68, 1.71, 1.89]"
     },
     "execution_count": 1,
     "metadata": {},
     "output_type": "execute_result"
    }
   ],
   "source": [
    "[1.73, 1.68, 1.71, 1.89]"
   ],
   "metadata": {
    "collapsed": false,
    "ExecuteTime": {
     "start_time": "2023-04-19T22:55:20.759170Z",
     "end_time": "2023-04-19T22:55:20.775164Z"
    }
   }
  },
  {
   "cell_type": "code",
   "execution_count": 2,
   "outputs": [
    {
     "data": {
      "text/plain": "[1.73, 1.68, 1.71, 1.89]"
     },
     "execution_count": 2,
     "metadata": {},
     "output_type": "execute_result"
    }
   ],
   "source": [
    "fam = [1.73, 1.68, 1.71, 1.89]\n",
    "fam"
   ],
   "metadata": {
    "collapsed": false,
    "ExecuteTime": {
     "start_time": "2023-04-19T22:55:37.262027Z",
     "end_time": "2023-04-19T22:55:37.286511Z"
    }
   }
  },
  {
   "cell_type": "markdown",
   "source": [
    "* Name a collection of values\n",
    "* Contain any type\n",
    "* Contain different types"
   ],
   "metadata": {
    "collapsed": false
   }
  },
  {
   "cell_type": "markdown",
   "source": [
    "#### Python List\n",
    "* `[a, b, c]`"
   ],
   "metadata": {
    "collapsed": false
   }
  },
  {
   "cell_type": "code",
   "execution_count": 3,
   "outputs": [
    {
     "data": {
      "text/plain": "['liz', 1.73, 'emma', 1.68, 'mom', 1.71, 'dad', 1.89]"
     },
     "execution_count": 3,
     "metadata": {},
     "output_type": "execute_result"
    }
   ],
   "source": [
    "fam = [\"liz\", 1.73, \"emma\", 1.68, \"mom\", 1.71, \"dad\", 1.89]\n",
    "fam"
   ],
   "metadata": {
    "collapsed": false,
    "ExecuteTime": {
     "start_time": "2023-04-19T22:56:58.672123Z",
     "end_time": "2023-04-19T22:56:58.729849Z"
    }
   }
  },
  {
   "cell_type": "markdown",
   "source": [
    "#### Python List"
   ],
   "metadata": {
    "collapsed": false
   }
  },
  {
   "cell_type": "code",
   "execution_count": 5,
   "outputs": [
    {
     "data": {
      "text/plain": "[['liz', 1.73], ['emma', 1.68], ['mom', 1.71], ['dad', 1.89]]"
     },
     "execution_count": 5,
     "metadata": {},
     "output_type": "execute_result"
    }
   ],
   "source": [
    "fam2 = [[\"liz\", 1.73],\n",
    "       [\"emma\", 1.68],\n",
    "       [\"mom\", 1.71],\n",
    "       [\"dad\", 1.89]]\n",
    "fam2"
   ],
   "metadata": {
    "collapsed": false,
    "ExecuteTime": {
     "start_time": "2023-04-19T23:05:31.082086Z",
     "end_time": "2023-04-19T23:05:31.102136Z"
    }
   }
  },
  {
   "cell_type": "markdown",
   "source": [
    "#### List type"
   ],
   "metadata": {
    "collapsed": false
   }
  },
  {
   "cell_type": "code",
   "execution_count": 6,
   "outputs": [
    {
     "data": {
      "text/plain": "list"
     },
     "execution_count": 6,
     "metadata": {},
     "output_type": "execute_result"
    }
   ],
   "source": [
    "type(fam)"
   ],
   "metadata": {
    "collapsed": false,
    "ExecuteTime": {
     "start_time": "2023-04-19T23:06:20.019151Z",
     "end_time": "2023-04-19T23:06:20.031164Z"
    }
   }
  },
  {
   "cell_type": "code",
   "execution_count": 7,
   "outputs": [
    {
     "data": {
      "text/plain": "list"
     },
     "execution_count": 7,
     "metadata": {},
     "output_type": "execute_result"
    }
   ],
   "source": [
    "type(fam2)"
   ],
   "metadata": {
    "collapsed": false,
    "ExecuteTime": {
     "start_time": "2023-04-19T23:06:25.093890Z",
     "end_time": "2023-04-19T23:06:25.118047Z"
    }
   }
  },
  {
   "cell_type": "markdown",
   "source": [
    "* Specific functionality\n",
    "* Specific behavior"
   ],
   "metadata": {
    "collapsed": false
   }
  }
 ],
 "metadata": {
  "kernelspec": {
   "display_name": "Python 3",
   "language": "python",
   "name": "python3"
  },
  "language_info": {
   "codemirror_mode": {
    "name": "ipython",
    "version": 2
   },
   "file_extension": ".py",
   "mimetype": "text/x-python",
   "name": "python",
   "nbconvert_exporter": "python",
   "pygments_lexer": "ipython2",
   "version": "2.7.6"
  }
 },
 "nbformat": 4,
 "nbformat_minor": 0
}
